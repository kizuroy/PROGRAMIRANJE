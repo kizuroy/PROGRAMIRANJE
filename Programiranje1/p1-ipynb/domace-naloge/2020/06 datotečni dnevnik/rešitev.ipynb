{
 "cells": [
  {
   "cell_type": "markdown",
   "metadata": {},
   "source": [
    "# Datotečni dnevnik\n",
    "\n",
    "Nek računalnik hrani arhiv vseh sprememb datotek: vsakič, ko shranimo datoteko, zabeleži trenutni datum, ime datoteke in njeno dolžino. Podatki so lahko, recimo, takšni:\n",
    "\n",
    "```\n",
    "arhiv = [\"10/14/2020 ime dat.avi 314236\",\n",
    "         \"12/31/2018   ime dat.avi 21532\",\n",
    "         \"10/16/2020 some other.avi 314236\",\n",
    "         \"1/1/1970    file   with spaces.avi 42\",\n",
    "         \"5/16/2020   ime dat.avi 21532\",\n",
    "         \"10/18/2020 another file.avi 351352\",\n",
    "         \"10/16/2020 ime dat.avi   312353\",\n",
    "         \"10/18/2018 another file.avi 314236\"]\n",
    "```\n",
    "\n",
    "- Na začetku vsake vrstice je datum shranjevanja (oz. spreminjanja) datoteke v obliki mesec/dan/leto. Ne pred njim ne znotraj njega ni presledkov.\n",
    "- Sledi poljubno število presledkov.\n",
    "- Ko se ti presledki končajo, imamo ime datoteke. To lahko vsebuje presledke. Celo zaporedne presledke. Pač pa se ime datoteke nikoli ne konča ali začne s presledkom; vsi presledki na začetku ali koncu so odveč.\n",
    "- Na koncu vrstice je vedno številka ki predstavlja dolžino datoteke. Pred njo je lahko poljubno število presledkov, za njo jih gotovo ni.\n",
    "\n",
    "Na disku, ki ga opisuje gornji seznam, so trenutno samo štiri datoteke (\"ime dat.avi\", \"some other.avi\", \"file   with spaces.avi\" in \"another file.avi\"). Datoteka \"ime dat.avi\" je bila shranjena štirikrat, in sicer 14. oktobra 2020, 31. decembra 2018, 16. maja 2020 in 16. oktobra 2020. Tudi njena dolžina se je spreminjala. Trenutno je na disku le zadnja različica, z 16. oktobra letos.\n",
    "\n",
    "Vrstice niso urejene po datumu ali čemerkoli drugem.\n",
    "\n",
    "## Testi\n",
    "\n",
    "\n",
    "[testi.py](https://cdn.jsdelivr.net/gh/janezd/predavanja@master/p1/domace-naloge/2020/06%20datotečni%20dnevnik/testi.py)\n",
    "\n",
    "\n",
    "## Obvezna naloga\n",
    "\n",
    "Prve štiri funkcije, ki jih moraš napisati, prejmejo ime vrstice, kot je gornja. Funkcije se lahko seveda kličejo med sabo. Katera kliče katero, je stvar tvoje odločitve; nalogo je mogoče rešiti na različne načine.\n",
    "\n",
    "- `datum(vrstica)` vrne datum kot terko (leto, mesec, dan). Klic `datum(\"5/15/1970    file   with spaces.avi   42\")` vrne `(1970, 5, 15)`.\n",
    "- `ime(vrstica)` vrne ime datoteke. Klic `ime(\"5/15/1970    file   with spaces.avi   42\")` vrne niz `\"file   with spaces.avi\"`.\n",
    "- `dolzina(vrstica)` vrne dolžino datoteke. Klic `datum(\"5/15/1970    file   with spaces.avi   42\")` vrne 42.\n",
    "- `podatki(vrstica)` vrne terko z gornjimi podatki. Klic `podatki(\"5/15/1970    file   with spaces.avi   42\")` vrne `((1970, 5, 15), file   with spaces.avi\", 42)`.\n",
    "\n",
    "Poleg teh napiši še naslednje štiri funkcije.\n",
    "\n",
    "- `je_novejsa(s1, s2)` prejme dve vrstici in vrne `True`, če ima `s1` novejši (kasnejši) datum kot `s2`, in `False`, če ne. Klic `je_novejsa(\"11/16/2020 ime.txt 316\", \"11/15/2015 foo.txt 314\")` vrne `True`.\n",
    "- `najnovejsa(ime_datoteke, arhiv)` prejme ime datoteke in seznam, kot je na začetku naloge. Vrniti mora podatke o datoteki v času zadnje spremembe. Klic `najnovejsa(\"ime dat.avi\", arhiv)` (pri čemer je `arhiv` takšen, kot je definiran zgoraj) vrne `((2020, 10, 16), \"ime_dat.avi\", 314236)`, saj so to podatki o datoteki, kot je bila shranjena na zadnjega izmed štirih datumov, ko smo spreminjali to datoteko.\n",
    "- `datumi(ime_datoteke, arhiv)` vrne datume sprememb podane datoteke. Datumi morajo biti urejeni od kasnejših proti starejšim. Klic `datumi(\"ime dat.avi\", arhiv)` vrne `[(2020, 10, 16), (2020, 10, 14), (2020, 5, 16), (2018, 12, 31)]`. Če datoteke s podanim imenom sploh ni, pač vrne prazen seznam.\n",
    "- `odstrani(ime_datoteke, arhiv)` iz podanega seznama `arhiv` odstrani vse vrstice, ki se nanašajo na datoteko s podanim imenom. Klic `odstrani(\"ime dat.avi\", arhiv)` spremeni gornji seznam v \n",
    "\n",
    "    ```\n",
    "    arhiv = [\"10/16/2020 some other.avi 314236\",\n",
    "             \"1/1/1970    file   with spaces.avi 42\",\n",
    "             \"10/18/2020 another file.avi 351352\",\n",
    "             \"10/18/2018 another file.avi 314236\"]\n",
    "    ```\n",
    "\n",
    "    Funkcija spreminja podani seznam in ne vrača ničesar.\n",
    "\n",
    "\n",
    "\n",
    "### Rešitev\n",
    "\n",
    "Najprejprostejša je dolžina, pa začnimo z njo. Vrstico razsekamo s `split()`, pograbimo zadnjo stvar, pretvorimo v `int` in vrnemo."
   ]
  },
  {
   "cell_type": "code",
   "execution_count": 1,
   "metadata": {},
   "outputs": [],
   "source": [
    "def dolzina(s):\n",
    "    return int(vrstica.split()[-1])"
   ]
  },
  {
   "cell_type": "markdown",
   "metadata": {},
   "source": [
    "Z datumom je malo več dela. Pokličemo `vrstica.split()` in poberemo prvo stvar. To razkosamo še na s `split(\"/\")`, pa dobimo tri stvari: mesec, dan in leto. Te vrnemo spremenjene v `int` in zložene v pravi vrstni red."
   ]
  },
  {
   "cell_type": "code",
   "execution_count": 2,
   "metadata": {},
   "outputs": [],
   "source": [
    "def datum(vrstica):\n",
    "    mesec, dan, leto = vrstica.split()[0].split(\"/\")\n",
    "    return int(leto), int(mesec), int(dan)"
   ]
  },
  {
   "cell_type": "markdown",
   "metadata": {},
   "source": [
    "Zdaj pa ime. Ime se nahaja med prvim in zadnjim presledkom; indeks prvega dobimo z `index(\" \")` in indeks zadnjega z `rindex(\" \")`. To, kar je vmes, ima lahko sicer še kakšne odvečne presledke na začetku in koncu. Znebimo se jih s `strip()`."
   ]
  },
  {
   "cell_type": "code",
   "execution_count": 3,
   "metadata": {},
   "outputs": [],
   "source": [
    "def ime(vrstica):\n",
    "    return vrstica[vrstica.index(\" \"):vrstica.rindex(\" \")].strip()"
   ]
  },
  {
   "cell_type": "markdown",
   "metadata": {},
   "source": [
    "Zadnja funkcija, `podatki`, le kliče gornje tri funkcije."
   ]
  },
  {
   "cell_type": "code",
   "execution_count": 4,
   "metadata": {},
   "outputs": [],
   "source": [
    "def podatki(s):\n",
    "    return datum(s), ime(s), dolzina(s)"
   ]
  },
  {
   "cell_type": "markdown",
   "metadata": {},
   "source": [
    "Seveda bi se dalo obrniti tudi drugače: lahko bi vse delo opravila zadnja funkcija, prve tri pa klicale njo. Pomembno je le, da si dela ne podvajamo in se te funkcije kličejo med seboj. \n",
    "\n",
    "`je_novejsa` mora le primerjati datume. Terki sta že oblikovani tako, da imamo najprej leto, nato mesec in dan. Ko Python primerja terke, najprej primerja prvi element; če sta enaka, primerja drugega in če sta enaka tudi tadva, še tretjega. Točno to, kar potrebujemo."
   ]
  },
  {
   "cell_type": "code",
   "execution_count": 5,
   "metadata": {},
   "outputs": [],
   "source": [
    "def je_novejsa(s1, s2):\n",
    "    return datum(s1) > datum(s2)"
   ]
  },
  {
   "cell_type": "markdown",
   "metadata": {},
   "source": [
    "Pri tej funkciji sicer ni bilo pričakovati hujših zapletov, vendar se je izkazala za eno najbolj zanimivih. Seveda so mnogi pisali"
   ]
  },
  {
   "cell_type": "code",
   "execution_count": 6,
   "metadata": {},
   "outputs": [],
   "source": [
    "def je_novejsa(s1, s2):\n",
    "    if datum(s1) > datum(s2):\n",
    "        return True\n",
    "    else:\n",
    "        return False"
   ]
  },
  {
   "cell_type": "markdown",
   "metadata": {},
   "source": [
    "kar ni najbolj smiselno, vendar deluje.\n",
    "\n",
    "Bolj zanimivo - in včasih usodno - je bilo, da se nekateri niso spomnili, da lahko primerjajo terke in so ročno primerjali leta, mesece in dneve."
   ]
  },
  {
   "cell_type": "code",
   "execution_count": 7,
   "metadata": {},
   "outputs": [],
   "source": [
    "# To ne deluje pravilno!\n",
    "    \n",
    "def je_novejsa(s1, s2):\n",
    "    leto1, mesec1, dan1 = datum(s1)\n",
    "    leto2, mesec2, dan2 = datum(s2)\n",
    "    \n",
    "    if leto1 > leto2:\n",
    "        return True\n",
    "    if mesec1 > mesec2:\n",
    "        return True\n",
    "    if dan1 > dan2:\n",
    "        return True\n",
    "    return False"
   ]
  },
  {
   "cell_type": "markdown",
   "metadata": {},
   "source": [
    "Ta funkcija ne deluje takrat, ko je `leto1` manjše od `leta2`. V tem primeru bi morala funkcija namreč takoj (recimo: takoj za prvim `if`-om vrniti `False`, ne pa, da potem primerja mesece in dneve.\n",
    "\n",
    "Druga variacija istega je"
   ]
  },
  {
   "cell_type": "code",
   "execution_count": 8,
   "metadata": {},
   "outputs": [],
   "source": [
    "# To ne deluje pravilno!\n",
    "    \n",
    "def je_novejsa(s1, s2):\n",
    "    leto1, mesec1, dan1 = datum(s1)\n",
    "    leto2, mesec2, dan2 = datum(s2)\n",
    "    \n",
    "    if leto1 < leto2:\n",
    "        return False\n",
    "    if mesec1 < mesec2:\n",
    "        return False\n",
    "    if dan1 < dan2:\n",
    "        return False\n",
    "    return True"
   ]
  },
  {
   "cell_type": "markdown",
   "metadata": {},
   "source": [
    "Tudi to ne deluje, samo na ravno obraten način. Če je `leto1` večje kot `leto2`, funkcija nima kaj primerjati mesecev.\n",
    "\n",
    "Pravilno je"
   ]
  },
  {
   "cell_type": "code",
   "execution_count": 9,
   "metadata": {},
   "outputs": [],
   "source": [
    "# To je brez potrebe zapleteno\n",
    "\n",
    "def je_novejsa(s1, s2):\n",
    "    leto1, mesec1, dan1 = datum(s1)\n",
    "    leto2, mesec2, dan2 = datum(s2)\n",
    "    \n",
    "    if leto1 < leto2:\n",
    "        return False\n",
    "    if leto1 == leto2 and mesec1 < mesec2:\n",
    "        return False\n",
    "    if leto1 == leto2 and mesec1 == mesec2 and dan1 < dan2:\n",
    "        return False\n",
    "    return True"
   ]
  },
  {
   "cell_type": "markdown",
   "metadata": {},
   "source": [
    "Funkcija `je_novejsa` pa je nekaj, kar prežvekujemo že ves čas: iskanje največjega elementa po določenem kriteriju - tokrat datumu."
   ]
  },
  {
   "cell_type": "code",
   "execution_count": 10,
   "metadata": {},
   "outputs": [],
   "source": [
    "def najnovejsa(ime, arhiv):\n",
    "    naj_pod = None\n",
    "    naj_dat = None\n",
    "    for vrstica in arhiv:\n",
    "        pod = dat, ime2, _2 = podatki(vrstica)\n",
    "        if ime == ime2 and (naj_dat == None or dat > naj_dat):\n",
    "            naj_pod = pod\n",
    "            naj_dat = dat\n",
    "    return naj_pod"
   ]
  },
  {
   "cell_type": "markdown",
   "metadata": {},
   "source": [
    "Seznam datumov je preprosto dobiti: pripravimo prazen seznam, gremo čez arhiv in za vrstice, ki se nanašajo na podano datoteko, dodamo datum v seznam. Na koncu ga vrnemo padajoče urejenega."
   ]
  },
  {
   "cell_type": "code",
   "execution_count": 11,
   "metadata": {},
   "outputs": [],
   "source": [
    " def datumi(ime_datoteke, arhiv):\n",
    "    dats = []\n",
    "    for vrstica in arhiv:\n",
    "        dat, ime, _ = podatki(vrstica)\n",
    "        if ime == ime_datoteke:\n",
    "            dats.append(dat)\n",
    "    return sorted(dats, reverse=True)"
   ]
  },
  {
   "cell_type": "markdown",
   "metadata": {},
   "source": [
    "Zadnjo vrstico lahko zamenjamo tudi z\n",
    "\n",
    "```python\n",
    "    dats = sorted(dats, reverse=True)\n",
    "    return dats\n",
    "```\n",
    "\n",
    "ali\n",
    "\n",
    "```python\n",
    "    dats.sort(reverse=True)\n",
    "    return dats\n",
    "```\n",
    "\n",
    "ne pa z\n",
    "\n",
    "```python\n",
    "    sorted(dats, reverse=True)\n",
    "    return dats\n",
    "```\n",
    "\n",
    "ali \n",
    "\n",
    "```python\n",
    "    dats = dats.sort(reverse=True)\n",
    "    return dats\n",
    "```\n",
    "\n",
    "Kot sem opozoril na predavanjih, funkcija `sorted(s)` vrne nov seznam, starega pa pusti pri miru - zato zadnje ne deluje, saj `sorted(dats, reverse=True)` ne uredi seznama, temveč le vrne urejenega - rezultat pa vržemo stran. Nasprotno od tega pa metoda `sort` uredi seznam in ne vrne ničesar. Zato v zadnjem primeru priredimo seznamu `dats` `None` in funkcija torej vrne `None`."
   ]
  },
  {
   "cell_type": "markdown",
   "metadata": {},
   "source": [
    "Funkcija `odstrani` zahteva, da znamo brisati seznam, prek katerega gremo z zanko. To je najlažje narediti z zanko `while`."
   ]
  },
  {
   "cell_type": "code",
   "execution_count": 12,
   "metadata": {},
   "outputs": [],
   "source": [
    "def odstrani(ime_datoteke, arhiv):\n",
    "    i = 0\n",
    "    while i < len(arhiv):\n",
    "        if ime(arhiv[i]) == ime_datoteke:\n",
    "            del arhiv[i]\n",
    "        else:\n",
    "            i += 1"
   ]
  },
  {
   "cell_type": "markdown",
   "metadata": {},
   "source": [
    "Kot smo videli na predavanjih: v vsakem koraku bodisi pobrišemo element bodisi povečamo `i`. Če pobrišemo element namreč ne smemo povečati `i` (indeksa elementa, ki ga opazujemo), ker se nam bo en element v tem primeru \"izmaknil\".\n",
    "\n",
    "Nekateri so po pričakovanjih poskušali"
   ]
  },
  {
   "cell_type": "code",
   "execution_count": 13,
   "metadata": {},
   "outputs": [],
   "source": [
    "def odstrani(ime_datoteke, arhiv):\n",
    "    for vrstica in arhiv:\n",
    "        if ime(vrstica) == ime_datoteke:\n",
    "            arhiv.remove(vrstica)"
   ]
  },
  {
   "cell_type": "markdown",
   "metadata": {},
   "source": [
    "To ne dela zaradi \"izpodmikanja\": `for` zanko koraka prek seznama. Najprej pogleda ničti element, nato prvega, nato drugega... Če pobrišemo, recimo, ničti element, se prvi pomakne na mesto ničtega, zanka pa vseeno napreduje na prvega (ki je bil prej drugi). Na ta način se nam element, ki je bil prvotno prvi, izmakne.\n",
    "\n",
    "Drugi so po pričakovanju poskusili tole."
   ]
  },
  {
   "cell_type": "code",
   "execution_count": 14,
   "metadata": {},
   "outputs": [],
   "source": [
    "def odstrani(ime_datoteke, arhiv):\n",
    "    t = []\n",
    "    for vrstica in arhiv:\n",
    "        if ime(vrstica) != ime_datoteke:\n",
    "            t.append(vrstica)\n",
    "    arhiv = t"
   ]
  },
  {
   "cell_type": "markdown",
   "metadata": {},
   "source": [
    "Ideja je sicer lepa: v nov seznam zberemo vse vrstice, ki morajo ostati in potem rečemo, naj se ime `arhiv` nanaša na ta, nov seznam. Vendar to ne deluje, ker smo s tem spremenili le lokalno spremenljivko, ne pa objekta (seznama), ki ga je funkcija dobila kot argument. Več o tem se bomo učili čez nekaj tednov.\n",
    "\n",
    "Spet, po pričakovanjih so nekateri nagooglali tole."
   ]
  },
  {
   "cell_type": "code",
   "execution_count": 15,
   "metadata": {},
   "outputs": [],
   "source": [
    "def odstrani(ime_datoteke, arhiv):\n",
    "    t = []\n",
    "    for vrstica in arhiv:\n",
    "        if ime(vrstica) != ime_datoteke:\n",
    "            t.append(vrstica)\n",
    "    arhiv[:] = t"
   ]
  },
  {
   "cell_type": "markdown",
   "metadata": {},
   "source": [
    "To pa deluje, vendar ... če to rešitev uporabi nekdo, ki ne razume, kaj je naredil, se s tem ni ničesar naučil.\n",
    "\n",
    "## Dodatna naloga\n",
    "\n",
    "Napiši funkcijo `skupna_dolzina(arhiv)`, ki vrne skupno dolžino vseh datotek v arhivu. Klic\n",
    "\n",
    "```python\n",
    "skupna_dolzina([\n",
    "    \"10/14/2020 ime dat.avi   1\",\n",
    "    \"5/16/2020   ime dat.avi 2\",\n",
    "    \"10/16/2020 ime dat.avi 4\",\n",
    "    \"12/31/2018   ime dat.avi 8\",\n",
    "    \"10/16/2020 some other.avi 16\",\n",
    "    \"10/18/2020 another file.avi 32\",\n",
    "    \"10/18/2018 another file.avi 64\",\n",
    "]\n",
    "```\n",
    "\n",
    "vrne `52` (4 + 16 + 32). Upoštevati mora, očitno, le zadnje različice datotek.\n",
    "\n",
    "### Rešitev\n",
    "\n",
    "Možnih variant je seveda veliko. Ena je tale."
   ]
  },
  {
   "cell_type": "code",
   "execution_count": 16,
   "metadata": {},
   "outputs": [],
   "source": [
    "def skupna_dolzina(arhiv):\n",
    "    obdelano = []\n",
    "    dolzina = 0\n",
    "    for vrstica in arhiv:\n",
    "        dat, im, dol = podatki(vrstica)\n",
    "        if im not in obdelano:\n",
    "            dolzina += najnovejsa(im, arhiv)[-1]\n",
    "            obdelano.append(im)\n",
    "    return dolzina"
   ]
  },
  {
   "cell_type": "markdown",
   "metadata": {},
   "source": [
    "Gremo čez vse vrstice. Za vsako ime, ki ga vidimo, poiščemo najnovejšo datoteko, prištejemo njeno dolžino in si zapišemo, da smo to ime že obdelali, tako da ga bomo naslednjič preskočili."
   ]
  }
 ],
 "metadata": {
  "kernelspec": {
   "display_name": "Python 3",
   "language": "python",
   "name": "python3"
  },
  "language_info": {
   "codemirror_mode": {
    "name": "ipython",
    "version": 3
   },
   "file_extension": ".py",
   "mimetype": "text/x-python",
   "name": "python",
   "nbconvert_exporter": "python",
   "pygments_lexer": "ipython3",
   "version": "3.7.4"
  }
 },
 "nbformat": 4,
 "nbformat_minor": 4
}
