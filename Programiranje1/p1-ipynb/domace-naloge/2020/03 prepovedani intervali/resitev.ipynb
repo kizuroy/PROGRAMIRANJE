{
 "cells": [
  {
   "cell_type": "markdown",
   "metadata": {},
   "source": [
    "# Prepovedani intervali\n",
    "\n",
    "Najprej moram povedati: naloga ni moja. Dobil sem jo na [Advent of code iz leta 2016](https://adventofcode.com/2016/day/20).\n",
    "\n",
    "Imamo seznam prepovedanih intervalov števil, na primer"
   ]
  },
  {
   "cell_type": "code",
   "execution_count": 1,
   "metadata": {},
   "outputs": [],
   "source": [
    "prepovedani = [\n",
    "    (12, 18),\n",
    "    (2, 5),\n",
    "    (3, 8),\n",
    "    (0, 4),\n",
    "    (15, 19),\n",
    "    (6, 9),\n",
    "    (13, 17),\n",
    "    (4, 8)\n",
    "]"
   ]
  },
  {
   "cell_type": "markdown",
   "metadata": {},
   "source": [
    "To pomeni, da so prepovedana vsa števila od 12 do 18 (vključno z 12 in 18), vsa števila od 2 do 5 in tako naprej.\n",
    "\n",
    "1. Napiši program, ki izpiše največjo zgornjo mejo iz seznama. V gornjem primeru torej izpiše 19.\n",
    "\n",
    "2. Nato pa napiši program, ki za vsa števila od 0 do največje zgornje meje izpiše prvi interval, ki to število prepoveduje. Če število ni prepovedano, pa naj to pove. Konkretno, program naj izpiše tole:\n",
    "\n",
    "```\n",
    "0 je vsebovan v (0, 4)\n",
    "1 je vsebovan v (0, 4)\n",
    "2 je vsebovan v (2, 5)\n",
    "3 je vsebovan v (2, 5)\n",
    "4 je vsebovan v (2, 5)\n",
    "5 je vsebovan v (2, 5)\n",
    "6 je vsebovan v (3, 8)\n",
    "7 je vsebovan v (3, 8)\n",
    "8 je vsebovan v (3, 8)\n",
    "9 je vsebovan v (6, 9)\n",
    "10 je dovoljeno\n",
    "11 je dovoljeno\n",
    "12 je vsebovan v (12, 18)\n",
    "13 je vsebovan v (12, 18)\n",
    "14 je vsebovan v (12, 18)\n",
    "15 je vsebovan v (12, 18)\n",
    "16 je vsebovan v (12, 18)\n",
    "17 je vsebovan v (12, 18)\n",
    "18 je vsebovan v (12, 18)\n",
    "19 je vsebovan v (15, 19)\n",
    "```\n",
    "\n",
    "Pazi: vsako število je izpisano le ob prvem intervalu, ki ga prepoveduje, četudi je morda prepovedano v večih.\n",
    "\n",
    "### Dodatna naloga\n",
    "\n",
    "Napiši program, ki izpiše prvo dovoljeno število. V gornjem primeru izpiše 10.\n",
    "\n",
    "Seznam intervalov spremeni tako, da dodaš še interval (9, 12). Program naj v tem primeru izpiše 20, saj so vsa števila do 19 prepovedana.\n",
    "\n",
    "## Rešitev\n",
    "\n",
    "Iskanje največje zgornje meje v seznamu intervalov je podobno iskanju največjega števila v seznamu števil. Le da imamo tu pare števil."
   ]
  },
  {
   "cell_type": "code",
   "execution_count": 3,
   "metadata": {},
   "outputs": [
    {
     "name": "stdout",
     "output_type": "stream",
     "text": [
      "19\n"
     ]
    }
   ],
   "source": [
    "meja = 0\n",
    "\n",
    "for od, do in prepovedani:\n",
    "    if do >= meja:\n",
    "        meja = do\n",
    "        \n",
    "print(meja)"
   ]
  },
  {
   "cell_type": "markdown",
   "metadata": {},
   "source": [
    "Zdaj pa moramo čez vsa števila od 0 do 19 (oz. do `meja` in za vsako izpisati interval, ki ga prepoveduje (ali pa, če ne najdemo nobenega, povedati, da je dovoljeno. Od 0 do `meja` znamo šteti."
   ]
  },
  {
   "cell_type": "code",
   "execution_count": 3,
   "metadata": {},
   "outputs": [],
   "source": [
    "i = 0\n",
    "while i <= meja:\n",
    "    ...\n",
    "    i += 1"
   ]
  },
  {
   "cell_type": "markdown",
   "metadata": {},
   "source": [
    "Namesto `...` pa moramo poiskati prvi interval, ki prepoveduje to število, ali pa povedati, da ni prepovedano. To pa je praktično enako iskanju prvega lihega števila v seznamu."
   ]
  },
  {
   "cell_type": "code",
   "execution_count": 4,
   "metadata": {},
   "outputs": [],
   "source": [
    "i = 0\n",
    "while i <= meja:\n",
    "    for od, do in prepovedani:\n",
    "        if od <= i <= do:\n",
    "            print(i, \"je vsebovan v\", (od, do))\n",
    "            break\n",
    "    else:\n",
    "        print(i, \"je dovoljeno\")\n",
    "    i += 1"
   ]
  },
  {
   "cell_type": "markdown",
   "metadata": {},
   "source": [
    "Dodatna naloga v bistvu zahteva, da si zapomnimo prvo dovoljeno število. To bomo storili znotraj `else`. Ena možnost je, da dopolnimo prejšnjo zanko."
   ]
  },
  {
   "cell_type": "code",
   "execution_count": 5,
   "metadata": {},
   "outputs": [],
   "source": [
    "i = 0\n",
    "prvo_dovoljeno = meja + 1\n",
    "\n",
    "while i <= meja:\n",
    "    for od, do in prepovedani:\n",
    "        if od <= i <= do:\n",
    "            print(i, \"je vsebovan v\", (od, do))\n",
    "            break\n",
    "    else:\n",
    "        print(i, \"je dovoljeno\")\n",
    "        if prvo_dovoljeno == meja + 1:\n",
    "            prvo_dovoljeno = i\n",
    "    i += 1\n",
    "    \n",
    "print(\"Prvo dovoljeno število:\", prvo_dovoljeno)"
   ]
  },
  {
   "cell_type": "markdown",
   "metadata": {},
   "source": [
    "Za začetek se pesimistično delamo, da bo prvo dovoljeno število šele onstran meje. Če kasneje naletimo na kaj boljšega, zgrabimo.\n",
    "\n",
    "Če ne želimo spreminjati gornjega programa, pa lahko navozlamo nekaj bolj zanimivega."
   ]
  },
  {
   "cell_type": "code",
   "execution_count": 6,
   "metadata": {},
   "outputs": [
    {
     "name": "stdout",
     "output_type": "stream",
     "text": [
      "Prvo dovoljeno število: 10\n"
     ]
    }
   ],
   "source": [
    "i = 0\n",
    "while i <= meja:\n",
    "    for od, do in prepovedani:\n",
    "        if od <= i <= do:\n",
    "            break\n",
    "    else:\n",
    "        prvo_dovoljeno = i\n",
    "        break\n",
    "    i += 1\n",
    "else:\n",
    "    prvo_dovoljeno = meja + 1\n",
    "\n",
    "print(\"Prvo dovoljeno število:\", prvo_dovoljeno)"
   ]
  },
  {
   "cell_type": "markdown",
   "metadata": {},
   "source": [
    "Zanka `while` *se prekine* z `break` prvič, ko se zanka `for` *ne prekine* z `break`. Če pa se zanka `while` nikoli ne prekine, je prvo dovoljeno število onstran meje.\n",
    "\n",
    "Ta postopek za iskanje prvega dovoljenega števila ni prav hiter. V dodatnem izzivu imamo primer, ko imamo veliko intervalov in tudi prvo dovoljeno število precej veliko. Nalogo se da rešiti lepše, hitrejše."
   ]
  }
 ],
 "metadata": {
  "kernelspec": {
   "display_name": "Python 3",
   "language": "python",
   "name": "python3"
  },
  "language_info": {
   "codemirror_mode": {
    "name": "ipython",
    "version": 3
   },
   "file_extension": ".py",
   "mimetype": "text/x-python",
   "name": "python",
   "nbconvert_exporter": "python",
   "pygments_lexer": "ipython3",
   "version": "3.7.4"
  }
 },
 "nbformat": 4,
 "nbformat_minor": 4
}
