{
 "cells": [
  {
   "cell_type": "markdown",
   "metadata": {},
   "source": [
    "# Karantena\n",
    "\n",
    "Končno smo izvedeli, kaj je bilo narobe septembra, da se je potem ta reč tako razširila. Takole je bilo.\n",
    "\n",
    "- Ana je bila okužena in se je videla z Berto v šoli, na sprehodu in na žurki. Zato je zbolela še Berta. \n",
    "- Ana je osrečila tudi Cilko: bili sta na sprehodu in v trgovini.\n",
    "- Berta je po tem, ko je bila že okužena, šla na sprehod z Dani. Tako jo je fasala Dani.\n",
    "- Okužena Berta je bila v šoli in na žurki z Emo. In ... seveda.\n",
    "- Dani je okužila Helgo, ker je bila z njo v šoli in na sprehodu.\n",
    "\n",
    "Vse to in še več je na sliki.\n",
    "\n",
    "<img src=\"data:image/.png;base64,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\"/>\n",
    "\n",
    "\n",
    "V Pythonu pa bo to zapisano s slovarjem slovarjev množic. Razmisli in razumi."
   ]
  },
  {
   "cell_type": "code",
   "execution_count": 1,
   "metadata": {},
   "outputs": [],
   "source": [
    "stiki = {\"Ana\": {\"Berta\": {\"šola\", \"sprehod\", \"žurka\"},\n",
    "                 \"Cilka\": {\"sprehod\", \"trgovina\"}},\n",
    "         \"Berta\": {\"Dani\": {\"sprehod\"},\n",
    "                   \"Ema\": {\"šola\", \"žurka\"}},\n",
    "         \"Cilka\": {\"Fanči\": {\"sprehod\"},\n",
    "                   \"Greta\": {\"sprehod\"}},\n",
    "         \"Dani\": {\"Helga\": {\"sprehod\", \"šola\"}},\n",
    "         \"Ema\": {\"Iva\": {\"žurka\"},\n",
    "                 \"Jana\": {\"šola\", \"žurka\"}},\n",
    "         \"Greta\": {\"Klara\": {\"šola\", \"žurka\"},\n",
    "                   \"Liza\": {\"trgovina\", \"šola\", \"žurka\"},\n",
    "                   \"Micka\": {\"trgovina\", \"žurka\"}},\n",
    "         \"Liza\": {\"Nina\": {\"trgovina\", \"šola\"},\n",
    "                  \"Olga\": {\"šola\"}}\n",
    "         }"
   ]
  },
  {
   "cell_type": "markdown",
   "metadata": {},
   "source": [
    "Vse funkcije, ki jih bo potrebno napisati bodo rekurzivne. Globalne spremenljivke so sicer grda reč, tu pa bodo funkcije, zato da bodo njihovi argumenti jasnejši, brale podatke kar iz globalne spremenljivke z imenom `stiki`. (Tako kot smo na predavanjih brali iz globalne spremenljivke `otroci`, ne da bi razmišljali o tem grehu.)\n",
    "\n",
    "Funkcije morajo biti splošne: ne smete predpostaviti, da imajo osebe natančno takšna imena in da hodijo le v šolo, trgovino, na sprehode in žurke. Da bo res tako, bodo testi vaše funkcije najprej testirali s temi imeni in aktivnostmi, nato pa bodo ta imena zamenjali še z naključno generiranimi nizi.\n",
    "\n",
    "## Obvezne naloge\n",
    "\n",
    "- Napiši funkcijo `stevilo_okuzenih(oseba)`, ki prejme ime osebe in vrne število vseh, ki so okuženi zaradi te osebe (in še to osebo zraven).\n",
    "\n",
    "    Klic `stevilo_okuzenih(\"Berta\")` vrne `6`, ker so po Bertini zaslugi okužene Dani, Ema, Helga, Iva, Jana in še Berta sama (sama si je kriva, kaj pa je žurala z Ano).\n",
    "\n",
    "    (Da, tu zadošča gledati zgolj ključe \"podslovarjev\", ne pa vrednosti. Pomembno je le, da je bila Ana v stiku z Berto in Cilko; kaj so počele, pa ni pomembno.)\n",
    "\n",
    "- Napiši funkcijo `rekord(oseba)`, ki vrne največje število oseb, ki jih je okužila posamezna oseba izmed tistih, ki so bile okužene zaradi osebe, podane kot argument. Tudi tu upoštevaj tudi osebo samo.\n",
    "\n",
    "    Klic `rekord(\"Ana\")` vrne `3`, saj je med Aninimi okuženci Greta, ki je okužila tri osebe. Prav tako klic `rekord(\"Greta\")` vrne 3, zaradi Grete same. Klic `rekord(\"Berta\")` pa vrne 2, zaradi Berte ali Eme. Klic `rekord(\"Dani\")` vrne 1 in klic `rekord(\"Helga\")` vrne 0.\n",
    "\n",
    "### Rešitev\n",
    "\n",
    "#### `stevilo_okuzenih`\n",
    "\n",
    "Funkcija `stevilo_okuzenih` je očitno enaka funkciji velikost rodbine, ki smo jo napisali na predavanjih. Vsak je okužil sebe, potem pa toliko ljudi, kolikor se jih je okužilo zaradi vsakega od tistih, ki so se okužili od njega."
   ]
  },
  {
   "cell_type": "code",
   "execution_count": 2,
   "metadata": {},
   "outputs": [
    {
     "data": {
      "text/plain": [
       "6"
      ]
     },
     "execution_count": 2,
     "metadata": {},
     "output_type": "execute_result"
    }
   ],
   "source": [
    "def stevilo_okuzenih(oseba):\n",
    "    if oseba not in stiki:\n",
    "        return 1\n",
    "    okuzenih = 1\n",
    "    for okuzenec in stiki[oseba]:\n",
    "        okuzenih += stevilo_okuzenih(okuzenec)\n",
    "    return okuzenih\n",
    "\n",
    "stevilo_okuzenih(\"Berta\")"
   ]
  },
  {
   "cell_type": "markdown",
   "metadata": {},
   "source": [
    "`if` na začetku funkcije služi le temu, da poskrbi za tiste, ki niso okužili nikogar in jih zato ni v slovarju `okuzbe`. Lahko pa se mu brez težav izognemo."
   ]
  },
  {
   "cell_type": "code",
   "execution_count": 3,
   "metadata": {},
   "outputs": [
    {
     "data": {
      "text/plain": [
       "6"
      ]
     },
     "execution_count": 3,
     "metadata": {},
     "output_type": "execute_result"
    }
   ],
   "source": [
    "def stevilo_okuzenih(oseba):\n",
    "    okuzenih = 1\n",
    "    for okuzenec in stiki.get(oseba, ()):\n",
    "        okuzenih += stevilo_okuzenih(okuzenec)\n",
    "    return okuzenih\n",
    "\n",
    "stevilo_okuzenih(\"Berta\")"
   ]
  },
  {
   "cell_type": "markdown",
   "metadata": {},
   "source": [
    "Če je `oseba` v slovarju `okuzbe`, klic `okuzbe.get(oseba, ())` vrne pripadajočo vrednost. Če je ni, bo vrnil privzeto vrednost, ki smo jo podali kot drugi argument. Ta je prazna terka, `()`. Zanka `for` bo tekla čez prazno terko - torej ne bo naredila ničesar.\n",
    "\n",
    "Kdor zna tudi, kar smo se učili tik pred rekurzijo, pa funkcijo napiše tako:"
   ]
  },
  {
   "cell_type": "code",
   "execution_count": 4,
   "metadata": {},
   "outputs": [
    {
     "data": {
      "text/plain": [
       "6"
      ]
     },
     "execution_count": 4,
     "metadata": {},
     "output_type": "execute_result"
    }
   ],
   "source": [
    "def stevilo_okuzenih1(oseba):\n",
    "    return 1 + sum(stevilo_okuzenih(okuzenec)\n",
    "                   for okuzenec in stiki.get(oseba, ()))\n",
    "\n",
    "stevilo_okuzenih(\"Berta\")"
   ]
  },
  {
   "cell_type": "markdown",
   "metadata": {},
   "source": [
    "#### `rekord`\n",
    "\n",
    "Funkcija `rekord` pa je enaka funkciji, s katero smo izvedeli, kdo v rodbini ima največ otrok. Vsak najprej predpostavi, da je to on, nato pa vpraša vse okužene, kdo je \"najuspešneji okuževalec\" (ta humor je nekoliko bolan, te stvari so žal smrtno resne) med temi, ki so jih okužili oni.\n",
    "\n",
    "Seznam teh, ki jih je okužila oseba, bomo spet dobili s klicem `okuzbe.get(oseba, ())`, ki bo za tiste, ki niso okužili nikogar, vrnil prazno terko."
   ]
  },
  {
   "cell_type": "code",
   "execution_count": 5,
   "metadata": {},
   "outputs": [],
   "source": [
    "def rekord(oseba):\n",
    "    okuzenci = stiki.get(oseba, ())\n",
    "    naj = len(okuzenci)\n",
    "    for okuzenec in okuzenci:\n",
    "        rek = rekord(okuzenec)\n",
    "        if rek > naj:\n",
    "            naj = rek\n",
    "    return naj"
   ]
  },
  {
   "cell_type": "code",
   "execution_count": 6,
   "metadata": {},
   "outputs": [
    {
     "data": {
      "text/plain": [
       "3"
      ]
     },
     "execution_count": 6,
     "metadata": {},
     "output_type": "execute_result"
    }
   ],
   "source": [
    "rekord(\"Ana\")"
   ]
  },
  {
   "cell_type": "code",
   "execution_count": 7,
   "metadata": {},
   "outputs": [
    {
     "data": {
      "text/plain": [
       "2"
      ]
     },
     "execution_count": 7,
     "metadata": {},
     "output_type": "execute_result"
    }
   ],
   "source": [
    "rekord(\"Berta\")"
   ]
  },
  {
   "cell_type": "code",
   "execution_count": 8,
   "metadata": {},
   "outputs": [
    {
     "data": {
      "text/plain": [
       "1"
      ]
     },
     "execution_count": 8,
     "metadata": {},
     "output_type": "execute_result"
    }
   ],
   "source": [
    "rekord(\"Dani\")"
   ]
  },
  {
   "cell_type": "code",
   "execution_count": 9,
   "metadata": {},
   "outputs": [
    {
     "data": {
      "text/plain": [
       "0"
      ]
     },
     "execution_count": 9,
     "metadata": {},
     "output_type": "execute_result"
    }
   ],
   "source": [
    "rekord(\"Helga\")"
   ]
  },
  {
   "cell_type": "markdown",
   "metadata": {},
   "source": [
    "Krajše pa tako:"
   ]
  },
  {
   "cell_type": "code",
   "execution_count": 10,
   "metadata": {},
   "outputs": [],
   "source": [
    "def rekord(oseba):\n",
    "    okuzenci = okuzbe.get(oseba, ())\n",
    "    return max([len(okuzenci)]\n",
    "               + [rekord(okuzenec) for okuzenec in okuzenci])"
   ]
  },
  {
   "cell_type": "markdown",
   "metadata": {},
   "source": [
    "Če bi hoteli na vsak način to stlačiti v eno vrstico, bi opustili spremenljivko `okuzenci` in namesto tega dvakrat poklicali `okuzbe.get(oseba, ())`, vendar to ni niti lepo niti potrebno.\n",
    "\n",
    "## Dodatne naloge\n",
    "\n",
    "V gornjih nalogah nas ni zanimal razlog okužbe. Če želimo pomagati vladi uvesti pametna pravila, pa se bo potrebno poglobiti še v razloge.\n",
    "\n",
    "- Najprej nas zanima, kako nevarna je posamezna aktivnost. Zato napiši funkcijo `nevarnost(oseba, razlog)`, ki vrne število okužb, ki jih je (neposredno ali posredno) povzročila `oseba`, pri katerih je bil eden od razlog (ali edini razlog) razlog, ki je podan kot argument. Grafično, funkcija mora prešteti, koliko povezav v drevesu pod podano osebo je takšne barve, ki ustreza razlogu.\n",
    "\n",
    "    Klic `nevarnost(\"Ana\", \"trgovina\")` vrne `4`, ker so pod Ano štiri rjave povezave.\n",
    "\n",
    "    Tu upoštevaj, da se okužbe širijo le navzdol. Če bi se okužba začela pri Greti, ta vseeno ne more okužiti Cilke, ker se je z njo (recimo) sprehajala, še preden je zbolela.\n",
    "\n",
    "- A to mogoče ni to, kar nas v resnici zanima. Zanima nas, koliko bi bilo okuženih, če bi se bilo možno okuževati le na določen način. Vzemimo, da se da okužiti le v trgovini. Če bi okužbo poleti (ponovno) uvozila le Ana, bi bili v tem primeru bolni le dve, Ana in Cilka. Do Lize, Micke in Nine ta okužba ne bi prišla, saj je povezava med Cilko in Greto zelena (sprehod). Če pa bi bila nevarna šola (in okužbo spet začnemo pri Ani), zbolijo štiri (Ana, Berta, Ema in Jana). Če bi bili nevarni sprehodi, jih zboli sedem (Ana, Berta, Cilka, Dani, Fanči, Greta in Helga).\n",
    "\n",
    "    Napiši torej funkcijo `okuzbe_zaradi(oseba, razlog)`, ki prejme osebo, ki začne okužbo in razlog širjenja okužbe, ki nas zanima. Vrniti mora število okuženih, kot ga kažejo gornji primeri.\n",
    "\n",
    "    Klic `okuzbe_zaradi(\"Ana\", \"šola\")` vrne 4.\n",
    "\n",
    "- Po ponovnem premisleku pa vidimo, da je narobe tudi to. V bistvu nas zanima število okužb, do katerega bo prišlo, če prepovemo določeno množico aktivnosti. Če, recimo, prepovemo sprehajanje in nakupovanje, okužba pa se začne pri Ani, bo okuženih pet oseb, namreč Ana, Berta, Ema, Iva in Jana. Če prepovemo le sprehajanje, pa bo pravzaprav podobno -- okuženih bo šest oseb, namreč prejšnjih pet in še Cilka zraven.\n",
    "\n",
    "    Napiši funkcijo `okuzbe_brez(oseba, prepovedane)`, ki prejme ime osebe in množico prepovedanih aktivnosti. Funkcija vrne število okuženih.\n",
    "    \n",
    "    Klic `okuzbe_brez(\"Ana\", {\"sprehod\", \"trgovina\"})` vrne `5`.\n",
    "\n",
    "\n",
    "### Rešitev\n",
    "\n",
    "#### `nevarnost`\n",
    "\n",
    "Funkcija je podobna funkciji `stevilo_potomcev`, ki smo jo omenili pri rodbini (najdete jo  v zapiskih), le da moramo tu preverjati še razlog okužbe.\n",
    "\n",
    "Kot si lahko ogledamo v funkciji `stevilo_potomcev`, je tu bolj smiselno začeti z `okuzenih = 0` in potem v zanki dodati `1` za vsakega otroka.\n",
    "\n",
    "Preden prištejemo `1`, pa moramo dodati pogoj. Poprej je šla zanka le prek ključev `for okuzenec in (...)`, ki so predstavljali imena oseb. Zdaj bomo potrebovali tudi pripadajoče vrednosti, torej množice, ki povedo, v kakšnih kontekstih sta se osebi srečali, torej `for okuzenec, srecanja in (...)`. Da dobimo pare (ključ, vrednost) bomo poklicali `items(), tako:\n",
    "\n",
    "```python\n",
    "for okuzenec, srecanja in okuzbe.get(oseba, {}).items():\n",
    "```\n",
    "\n",
    "Ne spreglejte, da privzeti argument za `get` zdaj ni več prazna terka temveč prazen slovar, `{}`. Tega bi *lahko* uporabili tudi prej. Zdaj pa ga *moramo*, ker na rezultatu, ki ga vrne `get` pokličemo `items`. Terke metode `items` seveda nimajo, zato jo kličemo na ((včasih) praznem) slovarju."
   ]
  },
  {
   "cell_type": "code",
   "execution_count": 11,
   "metadata": {},
   "outputs": [
    {
     "data": {
      "text/plain": [
       "4"
      ]
     },
     "execution_count": 11,
     "metadata": {},
     "output_type": "execute_result"
    }
   ],
   "source": [
    "def nevarnost(oseba, razlog):\n",
    "    okuzenih = 0\n",
    "    for okuzenec, srecanja in stiki.get(oseba, {}).items():\n",
    "        if razlog in srecanja:\n",
    "            okuzenih += 1\n",
    "        okuzenih += nevarnost(okuzenec, razlog)\n",
    "    return okuzenih\n",
    "\n",
    "nevarnost(\"Ana\", \"trgovina\")"
   ]
  },
  {
   "cell_type": "markdown",
   "metadata": {},
   "source": [
    "Namesto \n",
    "\n",
    "```python\n",
    "        if razlog in srecanja:\n",
    "            okuzenih += 1\n",
    "```\n",
    "\n",
    "bi lahko pisali kar\n",
    "\n",
    "```python\n",
    "        okuzenih += razlog in srecanja\n",
    "```\n",
    "\n",
    "saj je `razlog in srecanja` enak `True` ali `False`, kar je isto kot `1` in `0`. In tako pridemo do krajše rešitve,"
   ]
  },
  {
   "cell_type": "code",
   "execution_count": 12,
   "metadata": {},
   "outputs": [
    {
     "data": {
      "text/plain": [
       "4"
      ]
     },
     "execution_count": 12,
     "metadata": {},
     "output_type": "execute_result"
    }
   ],
   "source": [
    "def nevarnost(oseba, razlog):\n",
    "    okuzenih = 0\n",
    "    for okuzenec, srecanje in stiki.get(oseba, {}).items():\n",
    "        okuzenih += (razlog in srecanje) + nevarnost(okuzenec, razlog)\n",
    "    return okuzenih\n",
    "\n",
    "nevarnost(\"Ana\", \"trgovina\")"
   ]
  },
  {
   "cell_type": "markdown",
   "metadata": {},
   "source": [
    "odtod pa je le še kratek skok do"
   ]
  },
  {
   "cell_type": "code",
   "execution_count": 13,
   "metadata": {},
   "outputs": [
    {
     "data": {
      "text/plain": [
       "4"
      ]
     },
     "execution_count": 13,
     "metadata": {},
     "output_type": "execute_result"
    }
   ],
   "source": [
    "def nevarnost(oseba, razlog):\n",
    "    return sum((razlog in srecanja) + nevarnost(okuzenec, razlog)\n",
    "               for okuzenec, srecanja in stiki.get(oseba, {}).items())\n",
    "\n",
    "nevarnost(\"Ana\", \"trgovina\")"
   ]
  },
  {
   "cell_type": "markdown",
   "metadata": {},
   "source": [
    "#### `okuzbe_zaradi`\n",
    "\n",
    "Vrnimo se k prvi različici funkcije `nevarnost`. Vrstica `okuzenih += nevarnost(okuzenec, razlog)` ni znotraj `if`-a, ker naloga zahteva, da preštejemo vse okužbe, do katerih je prišlo zaradi določenega tipa srečanj. Če bi vrstico postavili znotraj `if`-a, pa bi računali, koliko bi bilo okužb (začenši z osebo), če bi obstajal le ta tip srečanj. Tako, kot je napisana zdaj, pa dovoli, da se okužbe vmes prenašajo tudi na druge način. Tu se lahko, recimo, zgodi, da `oseba` ni hodila v trgovino, temveč je okužila le nekaj oseb na sprehodih, potem pa so ti naprej okuževali v trgovini. Ker je `if` izven zanke, te okužbe štejejo. Če bi bila v zanki, pa bi se štetje s tem, ko `oseba` ni šla v trgovino, prekinilo.\n",
    "\n",
    "Za funkcijo `okuzbe_zaradi` moramo le prestaviti rekurzivni klic v `if`. Poleg tega zdaj drugače štejemo ljudi: med okužene šteje tudi oseba, ki smo jo podali kot argument funkciji. Zato je samo štetje podobno kot v funkciji `stevilo_okuzenih`: vedno `1` za osebo samo, k temu pa prištevamo vse, kar prispevajo rekurzivni klici."
   ]
  },
  {
   "cell_type": "code",
   "execution_count": 14,
   "metadata": {},
   "outputs": [
    {
     "data": {
      "text/plain": [
       "4"
      ]
     },
     "execution_count": 14,
     "metadata": {},
     "output_type": "execute_result"
    }
   ],
   "source": [
    "def okuzbe_zaradi(oseba, razlog):\n",
    "    okuzenih = 1\n",
    "    for okuzenec, srecanja in stiki.get(oseba, {}).items():\n",
    "        if razlog in srecanja:\n",
    "            okuzenih += okuzbe_zaradi(okuzenec, razlog)\n",
    "    return okuzenih\n",
    "\n",
    "okuzbe_zaradi(\"Ana\", \"šola\")"
   ]
  },
  {
   "cell_type": "markdown",
   "metadata": {},
   "source": [
    "ali"
   ]
  },
  {
   "cell_type": "code",
   "execution_count": 15,
   "metadata": {},
   "outputs": [
    {
     "data": {
      "text/plain": [
       "4"
      ]
     },
     "execution_count": 15,
     "metadata": {},
     "output_type": "execute_result"
    }
   ],
   "source": [
    "def okuzbe_zaradi(oseba, razlog):\n",
    "    return 1 + sum(okuzbe_zaradi(okuzenec, razlog)\n",
    "                   for okuzenec, srecanja in stiki.get(oseba, {}).items()\n",
    "                   if razlog in srecanja)\n",
    "                   \n",
    "okuzbe_zaradi(\"Ana\", \"šola\")"
   ]
  },
  {
   "cell_type": "markdown",
   "metadata": {},
   "source": [
    "#### `okuzbe_brez`\n",
    "\n",
    "V zadnji funkciji, `okuzbe_brez` spremenimo le pogoj: zanima nas, ali sta se osebi srečali na katerega od neprepovedanih načinov, torej, ali je množica `srecanja - prepovedani` neprazna."
   ]
  },
  {
   "cell_type": "code",
   "execution_count": 16,
   "metadata": {},
   "outputs": [
    {
     "data": {
      "text/plain": [
       "5"
      ]
     },
     "execution_count": 16,
     "metadata": {},
     "output_type": "execute_result"
    }
   ],
   "source": [
    "def okuzbe_brez(oseba, prepovedani):\n",
    "    okuzenih = 1\n",
    "    for okuzenec, srecanja in stiki.get(oseba, {}).items():\n",
    "        if srecanja - prepovedani:\n",
    "            okuzenih += okuzbe_brez(okuzenec, prepovedani)\n",
    "    return okuzenih\n",
    "    \n",
    "okuzbe_brez(\"Ana\", {\"sprehod\", \"trgovina\"})"
   ]
  },
  {
   "cell_type": "markdown",
   "metadata": {},
   "source": [
    "In, spet, krajše:"
   ]
  },
  {
   "cell_type": "code",
   "execution_count": 17,
   "metadata": {},
   "outputs": [
    {
     "data": {
      "text/plain": [
       "5"
      ]
     },
     "execution_count": 17,
     "metadata": {},
     "output_type": "execute_result"
    }
   ],
   "source": [
    "def okuzbe_brez(oseba, prepovedani):\n",
    "    return 1 + sum(okuzbe_brez(okuzenec, prepovedani)\n",
    "                   for okuzenec, srecanja in stiki.get(oseba, {}).items()\n",
    "                   if srecanja - prepovedani)\n",
    "\n",
    "okuzbe_brez(\"Ana\", {\"sprehod\", \"trgovina\"})"
   ]
  },
  {
   "cell_type": "markdown",
   "metadata": {},
   "source": [
    "## Še par nalog za vajo\n",
    "\n",
    "\n",
    "Za te funkcije ni priloženih testov.\n",
    "\n",
    "- Poleg funkcije `stevilo_okuzenih` napiši še funkcijo `seznam_okuzenih`, ki namesto števila okuženih vrne seznam.\n",
    "\n",
    "- Poleg funkcije `rekord` napiši funkcijo `zlati_prinasalec`, ki namesto največjega števila okuženih vrne ime tistega, ki je okužil največ ljudi. Če je takšnih več, vrne prvega po abecedi.\n",
    "\n",
    "- Poleg funkcije `stevilo_okuzenih` napiši funkcijo `stevilo_zrtev`, ki vrne število žrtev te osebe. Torej 1 manj kot bi vrnila funkcija `stevilo_okuzenih`. Funkcije ne napiši tako, da le pokliče število okuženih in odšteje 1, temveč naj bo to rekurzivna funkcija, ki kliče sebe in ne drugih funkcij.\n",
    "\n",
    "\n",
    "### Rešitev\n",
    "\n",
    "#### `stevilo_okuzenih`\n",
    "\n",
    "Tule v bistvu iščemo vse člane rodbine. Vsak sestavi spisek, na katerega da sebe. Nato vsakega od teh, ki jih je okužil, vpraša za njihove spiske in jih prišteje k svojemu."
   ]
  },
  {
   "cell_type": "code",
   "execution_count": 18,
   "metadata": {},
   "outputs": [
    {
     "data": {
      "text/plain": [
       "['Berta', 'Dani', 'Helga', 'Ema', 'Iva', 'Jana']"
      ]
     },
     "execution_count": 18,
     "metadata": {},
     "output_type": "execute_result"
    }
   ],
   "source": [
    "def seznam_okuzenih(oseba):\n",
    "    okuzeni = [oseba]\n",
    "    for okuzenec in stiki.get(oseba, ()):\n",
    "        okuzeni += seznam_okuzenih(okuzenec)\n",
    "    return okuzeni\n",
    "    \n",
    "seznam_okuzenih(\"Berta\")"
   ]
  },
  {
   "cell_type": "markdown",
   "metadata": {},
   "source": [
    "Če hočemo to napisati krajše, si tokrat ne moremo pomagati s `sum`, ker zna seštevati le števila, ne pa tudi seznamov. Potrebujemo `reduce`, ki smo ga na hitro spoznali pri prejšnjih dodatnih nalogah."
   ]
  },
  {
   "cell_type": "code",
   "execution_count": 19,
   "metadata": {},
   "outputs": [
    {
     "data": {
      "text/plain": [
       "['Berta', 'Dani', 'Helga', 'Ema', 'Iva', 'Jana']"
      ]
     },
     "execution_count": 19,
     "metadata": {},
     "output_type": "execute_result"
    }
   ],
   "source": [
    "from functools import reduce\n",
    "from operator import add\n",
    "\n",
    "def seznam_okuzenih(oseba):\n",
    "    return [oseba] + reduce(add,\n",
    "                            (seznam_okuzenih(okuzenec)\n",
    "                             for okuzenec in stiki.get(oseba, ())),\n",
    "                            [])\n",
    "    \n",
    "seznam_okuzenih(\"Berta\")"
   ]
  },
  {
   "cell_type": "markdown",
   "metadata": {},
   "source": [
    "Ali, z neko drugo magijo, ki je ne bom niti razlagal."
   ]
  },
  {
   "cell_type": "code",
   "execution_count": 20,
   "metadata": {},
   "outputs": [
    {
     "data": {
      "text/plain": [
       "['Berta', 'Dani', 'Helga', 'Ema', 'Iva', 'Jana']"
      ]
     },
     "execution_count": 20,
     "metadata": {},
     "output_type": "execute_result"
    }
   ],
   "source": [
    "from itertools import chain\n",
    "\n",
    "def seznam_okuzenih(oseba):\n",
    "    return [oseba] + list(chain(*(seznam_okuzenih(okuzenec)\n",
    "                                  for okuzenec in stiki.get(oseba, ()))))\n",
    "    \n",
    "seznam_okuzenih(\"Berta\")"
   ]
  },
  {
   "cell_type": "markdown",
   "metadata": {},
   "source": [
    "Ali, s tretjo magijo."
   ]
  },
  {
   "cell_type": "code",
   "execution_count": 21,
   "metadata": {},
   "outputs": [
    {
     "data": {
      "text/plain": [
       "['Berta', 'Dani', 'Helga', 'Ema', 'Iva', 'Jana']"
      ]
     },
     "execution_count": 21,
     "metadata": {},
     "output_type": "execute_result"
    }
   ],
   "source": [
    "def seznam_okuzenih(oseba):\n",
    "    return [oseba] + list(chain(*map(seznam_okuzenih, stiki.get(oseba, ()))))\n",
    "\n",
    "seznam_okuzenih(\"Berta\")"
   ]
  },
  {
   "cell_type": "markdown",
   "metadata": {},
   "source": [
    "#### `zlati_prinasalec`\n",
    "\n",
    "Problem funkcije `zlati_prinasalec` je v tem, da mora vrniti ime osebe, primerjati pa jih mora po številu okuženih. Funkcija zatorej ne vrača tistega, kar bi potrebovali v rekurzivnem klicu. Seveda bi lahko vračala le imena in bi za vsako ime znova preštevali, koliko jih okuži - vendar ugotavljanja števila okuženih ni hitro, saj zahteva preiskovanje celega drevesa. Zato problem raje rešimo tako, da napišemo rekurzivno funkcijo `zlati_prinasalec0`, ki vrača oboje. Funkcija `zlati_prinasalec` pa pokliče `zlati_prinasalec0`, a vrne le ime."
   ]
  },
  {
   "cell_type": "code",
   "execution_count": 22,
   "metadata": {},
   "outputs": [
    {
     "data": {
      "text/plain": [
       "'Greta'"
      ]
     },
     "execution_count": 22,
     "metadata": {},
     "output_type": "execute_result"
    }
   ],
   "source": [
    "def zlati_prinasalec0(oseba):\n",
    "    okuzenci = stiki.get(oseba, ())\n",
    "    naj_oseba, naj_stevilo = oseba, len(okuzenci)\n",
    "    for okuzenec in okuzenci:\n",
    "        ta_oseba, to_stevilo = zlati_prinasalec0(okuzenec)\n",
    "        if to_stevilo > naj_stevilo or (to_stevilo == naj_stevilo and ta_oseba < naj_oseba):\n",
    "            naj_oseba, naj_stevilo = ta_oseba, to_stevilo\n",
    "    return naj_oseba, naj_stevilo\n",
    "\n",
    "def zlati_prinasalec(oseba):\n",
    "    return zlati_prinasalec0(oseba)[0]\n",
    "    \n",
    "zlati_prinasalec(\"Ana\")"
   ]
  },
  {
   "cell_type": "markdown",
   "metadata": {},
   "source": [
    "Funkcija `stevilo_zrtev` se od `stevilo_okuzenih` razlikuje tako, kot se `velikost_rodbine` od `stevilo_potomcev`."
   ]
  }
 ],
 "metadata": {
  "kernelspec": {
   "display_name": "Python 3",
   "language": "python",
   "name": "python3"
  },
  "language_info": {
   "codemirror_mode": {
    "name": "ipython",
    "version": 3
   },
   "file_extension": ".py",
   "mimetype": "text/x-python",
   "name": "python",
   "nbconvert_exporter": "python",
   "pygments_lexer": "ipython3",
   "version": "3.7.4"
  }
 },
 "nbformat": 4,
 "nbformat_minor": 4
}
