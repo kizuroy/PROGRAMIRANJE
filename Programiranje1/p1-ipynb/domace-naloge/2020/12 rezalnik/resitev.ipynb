{
 "cells": [
  {
   "cell_type": "markdown",
   "metadata": {},
   "source": [
    "## Rezalnik\n",
    "\n",
    "Napiši razred `Rezalnik`, katerega osnovna funkcija je, da ima metodo `razrezi(s)`, ki razreže podani seznam `s` na sezname določene dolžine. Privzeta dolžina je `2`, lahko pa jo spremenimo z metodo `nastavi_dolzino(dolzina)`.\n",
    "\n",
    "```\n",
    ">>> s = [\"Ana\", \"Berta\", \"Cilka\", \"Donald\", \"Ema\", \"Fanči\", \"Greta\", \"Helga\", \"Iva\"]\n",
    ">>>\n",
    ">>> r = Rezalnik()\n",
    ">>> r.razrezi(s)\n",
    "[['Ana', 'Berta'],\n",
    " ['Cilka', 'Donald'],\n",
    " ['Ema', 'Fanči'],\n",
    " ['Greta', 'Helga'],\n",
    " ['Iva']]\n",
    ">>>\n",
    ">>> r.nastavi_dolzino(4)\n",
    ">>> r.razrezi(s)\n",
    "[['Ana', 'Berta', 'Cilka', 'Donald'],\n",
    " ['Ema', 'Fanči', 'Greta', 'Helga'],\n",
    " ['Iva']]\n",
    ">>>\n",
    ">>> r.nastavi_dolzino(3)\n",
    ">>> r.razrezi(s)\n",
    "[['Ana', 'Berta', 'Cilka'],\n",
    " ['Donald', 'Ema', 'Fanči'],\n",
    " ['Greta', 'Helga', 'Iva']]\n",
    "```\n",
    "\n",
    "Razred naj ima torej metode:\n",
    "\n",
    "- `__init__`, ki dela, kar mora,\n",
    "- `razrezi`, ki prejme nek seznam `s` in vrne seznam podseznamov, ki določene dolžine,\n",
    "- `nastavi_dolzino`, ki določi dolžino podseznamov. Privzeta dolžina, ki se uporablja, če ne pokličemo te metode, je `2`.\n",
    "\n",
    "Dodatne naloge ni.\n",
    "\n",
    "### Testi\n",
    "\n",
    "Testi: [testi.py](https://cdn.jsdelivr.net/gh/janezd/predavanja@master/p1/domace-naloge/2020/12%20rezalnik/testi.py)\n",
    "\n",
    "### Rešitev\n",
    "\n",
    "Rezalnik si bo moral zapomniti eno stvar: širino. Konstruktor jo nastavi na `2`, `nastavi_dolzino` jo spremeni.\n",
    "\n",
    "`razrezi(s)` gre prek vseh možnih začetkov koščkov, torej `for i in range(0, len(s), self.dolzina)` in za vsakega sestavi košček, `s[i:i + self.dolzina]`."
   ]
  },
  {
   "cell_type": "code",
   "execution_count": 1,
   "metadata": {},
   "outputs": [],
   "source": [
    "class Rezalnik:\n",
    "    def __init__(self):\n",
    "        self.dolzina = 2\n",
    "\n",
    "    def nastavi_dolzino(self, dolzina):\n",
    "        self.dolzina = dolzina\n",
    "\n",
    "    def razrezi(self, s):\n",
    "        return [s[i:i + self.dolzina]\n",
    "                for i in range(0, len(s), self.dolzina)]"
   ]
  },
  {
   "cell_type": "code",
   "execution_count": 2,
   "metadata": {},
   "outputs": [],
   "source": [
    "s = [\"Ana\", \"Berta\", \"Cilka\", \"Donald\", \"Ema\", \"Fanči\", \"Greta\", \"Helga\", \"Iva\"]\n",
    "\n",
    "rezalnik = Rezalnik()"
   ]
  },
  {
   "cell_type": "code",
   "execution_count": 3,
   "metadata": {},
   "outputs": [
    {
     "data": {
      "text/plain": [
       "[['Ana', 'Berta'],\n",
       " ['Cilka', 'Donald'],\n",
       " ['Ema', 'Fanči'],\n",
       " ['Greta', 'Helga'],\n",
       " ['Iva']]"
      ]
     },
     "execution_count": 3,
     "metadata": {},
     "output_type": "execute_result"
    }
   ],
   "source": [
    "rezalnik.razrezi(s)"
   ]
  },
  {
   "cell_type": "code",
   "execution_count": 4,
   "metadata": {},
   "outputs": [],
   "source": [
    "rezalnik.nastavi_dolzino(3)"
   ]
  },
  {
   "cell_type": "code",
   "execution_count": 5,
   "metadata": {},
   "outputs": [
    {
     "data": {
      "text/plain": [
       "[['Ana', 'Berta', 'Cilka'],\n",
       " ['Donald', 'Ema', 'Fanči'],\n",
       " ['Greta', 'Helga', 'Iva']]"
      ]
     },
     "execution_count": 5,
     "metadata": {},
     "output_type": "execute_result"
    }
   ],
   "source": [
    "rezalnik.razrezi(s)"
   ]
  },
  {
   "cell_type": "markdown",
   "metadata": {},
   "source": [
    "### Rezanje na koščke\n",
    "\n",
    "Da reč naredimo malo naprednejšo, napišimo funkcijo `chunked(s, i)`, ki ji podamo nekaj, kar je potrebno razrezati in dolžino, vrne pa, kar vrača gornji `razrezi`."
   ]
  },
  {
   "cell_type": "code",
   "execution_count": 6,
   "metadata": {},
   "outputs": [],
   "source": [
    "def chunked(s, dolzina):\n",
    "    return [s[i:i + dolzina]\n",
    "            for i in range(0, len(s), dolzina)]"
   ]
  },
  {
   "cell_type": "markdown",
   "metadata": {},
   "source": [
    "Funkcija deluje tudi na nizih."
   ]
  },
  {
   "cell_type": "code",
   "execution_count": 7,
   "metadata": {},
   "outputs": [
    {
     "data": {
      "text/plain": [
       "['Be', 'nj', 'am', 'in']"
      ]
     },
     "execution_count": 7,
     "metadata": {},
     "output_type": "execute_result"
    }
   ],
   "source": [
    "chunked(\"Benjamin\", 2)"
   ]
  },
  {
   "cell_type": "markdown",
   "metadata": {},
   "source": [
    "Ne deluje pa na generatorjih.\n",
    "\n",
    "Na hitro sestavimo generator praštevil do 100 in jih razsekajmo v trojke."
   ]
  },
  {
   "cell_type": "code",
   "execution_count": 8,
   "metadata": {},
   "outputs": [
    {
     "ename": "TypeError",
     "evalue": "object of type 'generator' has no len()",
     "output_type": "error",
     "traceback": [
      "\u001b[0;31m---------------------------------------------------------------------------\u001b[0m",
      "\u001b[0;31mTypeError\u001b[0m                                 Traceback (most recent call last)",
      "\u001b[0;32m<ipython-input-8-f22d355f7e54>\u001b[0m in \u001b[0;36m<module>\u001b[0;34m\u001b[0m\n\u001b[1;32m      1\u001b[0m \u001b[0mg\u001b[0m \u001b[0;34m=\u001b[0m \u001b[0;34m(\u001b[0m\u001b[0mx\u001b[0m \u001b[0;32mfor\u001b[0m \u001b[0mx\u001b[0m \u001b[0;32min\u001b[0m \u001b[0mrange\u001b[0m\u001b[0;34m(\u001b[0m\u001b[0;36m2\u001b[0m\u001b[0;34m,\u001b[0m \u001b[0;36m100\u001b[0m\u001b[0;34m)\u001b[0m \u001b[0;32mif\u001b[0m \u001b[0mall\u001b[0m\u001b[0;34m(\u001b[0m\u001b[0mx\u001b[0m \u001b[0;34m%\u001b[0m \u001b[0mn\u001b[0m \u001b[0;34m!=\u001b[0m \u001b[0;36m0\u001b[0m \u001b[0;32mfor\u001b[0m \u001b[0mn\u001b[0m \u001b[0;32min\u001b[0m \u001b[0mrange\u001b[0m\u001b[0;34m(\u001b[0m\u001b[0;36m2\u001b[0m\u001b[0;34m,\u001b[0m \u001b[0mx\u001b[0m\u001b[0;34m)\u001b[0m\u001b[0;34m)\u001b[0m\u001b[0;34m)\u001b[0m\u001b[0;34m\u001b[0m\u001b[0;34m\u001b[0m\u001b[0m\n\u001b[1;32m      2\u001b[0m \u001b[0;34m\u001b[0m\u001b[0m\n\u001b[0;32m----> 3\u001b[0;31m \u001b[0mchunked\u001b[0m\u001b[0;34m(\u001b[0m\u001b[0mg\u001b[0m\u001b[0;34m,\u001b[0m \u001b[0;36m3\u001b[0m\u001b[0;34m)\u001b[0m\u001b[0;34m\u001b[0m\u001b[0;34m\u001b[0m\u001b[0m\n\u001b[0m",
      "\u001b[0;32m<ipython-input-6-4ca9b12daeac>\u001b[0m in \u001b[0;36mchunked\u001b[0;34m(s, dolzina)\u001b[0m\n\u001b[1;32m      1\u001b[0m \u001b[0;32mdef\u001b[0m \u001b[0mchunked\u001b[0m\u001b[0;34m(\u001b[0m\u001b[0ms\u001b[0m\u001b[0;34m,\u001b[0m \u001b[0mdolzina\u001b[0m\u001b[0;34m)\u001b[0m\u001b[0;34m:\u001b[0m\u001b[0;34m\u001b[0m\u001b[0;34m\u001b[0m\u001b[0m\n\u001b[1;32m      2\u001b[0m     return [s[i:i + dolzina]\n\u001b[0;32m----> 3\u001b[0;31m             for i in range(0, len(s), dolzina)]\n\u001b[0m",
      "\u001b[0;31mTypeError\u001b[0m: object of type 'generator' has no len()"
     ]
    }
   ],
   "source": [
    "g = (x for x in range(2, 100) if all(x % n != 0 for n in range(2, x)))\n",
    "\n",
    "chunked(g, 3)"
   ]
  },
  {
   "cell_type": "markdown",
   "metadata": {},
   "source": [
    "To ne deluje, ker generatorji nimajo dolžine (nihče ne ve vnaprej, koliko stvari bodo zgenerirali), poleg tega pa jih ni mogoče indeksirati.\n",
    "\n",
    "Šlo bi tako."
   ]
  },
  {
   "cell_type": "code",
   "execution_count": 9,
   "metadata": {},
   "outputs": [
    {
     "data": {
      "text/plain": [
       "[[2, 3, 5],\n",
       " [7, 11, 13],\n",
       " [17, 19, 23],\n",
       " [29, 31, 37],\n",
       " [41, 43, 47],\n",
       " [53, 59, 61],\n",
       " [67, 71, 73],\n",
       " [79, 83, 89],\n",
       " [97]]"
      ]
     },
     "execution_count": 9,
     "metadata": {},
     "output_type": "execute_result"
    }
   ],
   "source": [
    "def chunked(s, dolzina):\n",
    "    kosi = []\n",
    "    for i, x in enumerate(s):\n",
    "        if i % dolzina == 0:  # smo na meji, začenjamo nov kos\n",
    "            kosi.append([])\n",
    "        kosi[-1].append(x)  # dodamo v zadnji kos\n",
    "    return kosi\n",
    "\n",
    "g = (x for x in range(2, 100) if all(x % n != 0 for n in range(2, x)))\n",
    "\n",
    "chunked(g, 3)"
   ]
  },
  {
   "cell_type": "markdown",
   "metadata": {},
   "source": [
    "Deluje, ni pa posebej zabavno. Sprogramirajmo tako, da bo."
   ]
  },
  {
   "cell_type": "code",
   "execution_count": 10,
   "metadata": {},
   "outputs": [],
   "source": [
    "def chunked(s, size):\n",
    "    s = iter(s)\n",
    "    while True:\n",
    "        chunk = [x for _, x in zip(range(size), s)]\n",
    "        if not chunk:\n",
    "            break\n",
    "        yield chunk"
   ]
  },
  {
   "cell_type": "markdown",
   "metadata": {},
   "source": [
    "Najprej spremenimo `s` v iterator. To storimo zato, da bo kasneje, ko jo kličemo znotraj `zip`, dajala vedno nove elemente, ne pa začenjala vedno od začetka.\n",
    "\n",
    "Glavni trik je `zip(range(size), s)`. Ker se `zip` konča takrat, ko zmanjka elementov krajšega od seznamov, bo iz `s` pobral le `size` elementov. To, kar vrača `range`, nas v resnici ne zanima, torej `x for _, x in ...`. Tako sestavimo trenutni kos. Če je prazen, je veselja konec. Če ni, ga vrnemo - z `yield`, ker je dodatno imenitno, da je naš `chunked` generator."
   ]
  },
  {
   "cell_type": "code",
   "execution_count": 11,
   "metadata": {},
   "outputs": [
    {
     "data": {
      "text/plain": [
       "<generator object chunked at 0x7fc747e4b4d0>"
      ]
     },
     "execution_count": 11,
     "metadata": {},
     "output_type": "execute_result"
    }
   ],
   "source": [
    "g = (x for x in range(2, 100) if all(x % n != 0 for n in range(2, x)))   \n",
    "\n",
    "chunked(g, 3)"
   ]
  },
  {
   "cell_type": "code",
   "execution_count": 12,
   "metadata": {},
   "outputs": [
    {
     "data": {
      "text/plain": [
       "[[2, 3, 5],\n",
       " [7, 11, 13],\n",
       " [17, 19, 23],\n",
       " [29, 31, 37],\n",
       " [41, 43, 47],\n",
       " [53, 59, 61],\n",
       " [67, 71, 73],\n",
       " [79, 83, 89],\n",
       " [97]]"
      ]
     },
     "execution_count": 12,
     "metadata": {},
     "output_type": "execute_result"
    }
   ],
   "source": [
    "list(chunked(g, 3))"
   ]
  },
  {
   "cell_type": "markdown",
   "metadata": {},
   "source": [
    "Razred je potem takšen."
   ]
  },
  {
   "cell_type": "code",
   "execution_count": 13,
   "metadata": {},
   "outputs": [],
   "source": [
    "class Rezalnik:\n",
    "    def __init__(self):\n",
    "        self.dolzina = 2\n",
    "\n",
    "    def nastavi_dolzino(self, dolzina):\n",
    "        self.dolzina = dolzina\n",
    "\n",
    "    def razrezi(self, s):\n",
    "        return list(chunked(s, self.dolzina))"
   ]
  }
 ],
 "metadata": {
  "kernelspec": {
   "display_name": "Python 3",
   "language": "python",
   "name": "python3"
  },
  "language_info": {
   "codemirror_mode": {
    "name": "ipython",
    "version": 3
   },
   "file_extension": ".py",
   "mimetype": "text/x-python",
   "name": "python",
   "nbconvert_exporter": "python",
   "pygments_lexer": "ipython3",
   "version": "3.7.4"
  }
 },
 "nbformat": 4,
 "nbformat_minor": 4
}
