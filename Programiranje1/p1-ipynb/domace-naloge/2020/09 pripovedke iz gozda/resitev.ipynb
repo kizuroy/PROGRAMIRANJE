{
 "cells": [
  {
   "cell_type": "markdown",
   "metadata": {},
   "source": [
    "# Pripovedke iz gozda\n",
    "\n",
    "<img style=\"float: right; margin-left: 16px\" src=\"data:image/.png;base64,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\"/>\n",
    "\n",
    "Imamo gozd. Se pravi drevesa. Na kvadratni mreži. Zaradi nekih novih norih evropskih predpisov.\n",
    "\n",
    "Gozd na sliki opišemo s takšnimle seznamom nizov:\n",
    "\n",
    "```python\n",
    "gozd = [\"..##.......\",\n",
    "        \"#...#...#..\",\n",
    "        \".#..#.#..#.\",\n",
    "        \"..#.#...#.#\",\n",
    "        \".#...##..#.\",\n",
    "        \"..#.##.....\",\n",
    "        \".#.#.#....#\",\n",
    "        \".#..#.....#\",\n",
    "        \"#.###..#...\",\n",
    "        \"#....#....#\",\n",
    "        \".#......#.#\"]\n",
    "```\n",
    "\n",
    "V nizu se pojavljata samo znaka `.` in `#`. Vsi nizi so enako dolgi. Širina in višina nista nujno enaki. Razpored dreves sem ukradel na Advent of Code (slika pa je moja, samo zajec je iz OpenClipart). Saj mu vsako leto iz hvaležnosti nekaj nakažem. Resno.\n",
    "\n",
    "## Testi\n",
    "\n",
    "Testi: [testi-pripovedke-iz-gozda.py](https://cdn.jsdelivr.net/gh/janezd/predavanja@master/p1/domace-naloge/2020/09%20pripovedke%20iz%20gozda/testi.py)\n",
    "\n",
    "\n",
    "## Za ogrevanje\n",
    "\n",
    "- `dimenzija(gozd)` vrne širino in višino gozda. V gornjem primeru `(11, 11)`.\n",
    "- `je_drevo(x, y, gozd)` vrne `True`, če je na koordinatah (x, y) drevo in `False`, če ni.\n",
    "\n",
    "Ker tu nimaš kaj čarati, bodo testi preverili tudi, da je tvoja funkcija dolga eno samo vrstico, se pravi en sam `return`. Kar je več, je preveč.\n",
    "\n",
    "### Rešitev"
   ]
  },
  {
   "cell_type": "markdown",
   "metadata": {},
   "source": [
    "Da bomo imeli funkcije na čem preskušati, si pripravimo `gozd`."
   ]
  },
  {
   "cell_type": "code",
   "execution_count": 1,
   "metadata": {},
   "outputs": [],
   "source": [
    "gozd = [\"..##.......\",\n",
    "        \"#...#...#..\",\n",
    "        \".#..#.#..#.\",\n",
    "        \"..#.#...#.#\",\n",
    "        \".#...##..#.\",\n",
    "        \"..#.##.....\",\n",
    "        \".#.#.#....#\",\n",
    "        \".#..#.....#\",\n",
    "        \"#.###..#...\",\n",
    "        \"#....#....#\",\n",
    "        \".#......#.#\"]"
   ]
  },
  {
   "cell_type": "code",
   "execution_count": 2,
   "metadata": {},
   "outputs": [
    {
     "data": {
      "text/plain": [
       "(11, 11)"
      ]
     },
     "execution_count": 2,
     "metadata": {},
     "output_type": "execute_result"
    }
   ],
   "source": [
    "def dimenzije(gozd):\n",
    "    return len(gozd[0]), len(gozd)\n",
    "\n",
    "dimenzije(gozd)"
   ]
  },
  {
   "cell_type": "code",
   "execution_count": 3,
   "metadata": {},
   "outputs": [],
   "source": [
    "def je_drevo(x, y, gozd):\n",
    "    return gozd[y][x] == \"#\""
   ]
  },
  {
   "cell_type": "code",
   "execution_count": 4,
   "metadata": {},
   "outputs": [
    {
     "data": {
      "text/plain": [
       "True"
      ]
     },
     "execution_count": 4,
     "metadata": {},
     "output_type": "execute_result"
    }
   ],
   "source": [
    "je_drevo(4, 1, gozd)"
   ]
  },
  {
   "cell_type": "code",
   "execution_count": 5,
   "metadata": {},
   "outputs": [
    {
     "data": {
      "text/plain": [
       "False"
      ]
     },
     "execution_count": 5,
     "metadata": {},
     "output_type": "execute_result"
    }
   ],
   "source": [
    "je_drevo(2, 1, gozd)"
   ]
  },
  {
   "cell_type": "markdown",
   "metadata": {},
   "source": [
    "V drugi funkciji ne smemo prezreti, da elementi seznama `gozd` predstavljajo vrstice, znotraj teh pa imamo stolpce, zato `gozd[y][x]` in ne `gozd[x][y]`.\n",
    "\n",
    "Funkciji je bilo potrebno napisati v eni vrstici. To sem zahteval predvsem zaradi druge, da bi vas odvadil pisati\n",
    "\n",
    "```python\n",
    "def je_drevo(x, y, gozd):\n",
    "    if gozd[y][x] == \"#\":\n",
    "        return True\n",
    "    else:\n",
    "        return False\n",
    "```\n",
    "\n",
    "## Za oceno 6: Revirni gozdar\n",
    "\n",
    "- `vsa_drevesa(gozd)` vrne množico koordinat vseh dreves.\n",
    "- `stevilo_dreves(x0, y0, x1, y1)` vrne število dreves v pravokotniku med (x0, y0) in (x1, y1); prvo oglišče je vključeno, drugo ne - podobno kot `range` in rezine v Pythjonu. Predpostaviti smeš, da je x1 >= x0 in y1 >= y0. `stevilo_dreves(2, 3, 4, 6, gozd)` naj vrne 2, saj stolpec 4 in vrstica 6 nista vključeni.\n",
    "- `ni_dreves(x0, y0, x1, y1)` vrne `True`, če znotraj pravokotnika med (x0, y0) in (x1, y1) ni dreves. Tudi s to funkcijo moraš opraviti v enem zamahu - samo `return`.\n",
    "\n",
    "### `vsa_drevesa`\n",
    "\n",
    "Ena možnost je ta:"
   ]
  },
  {
   "cell_type": "code",
   "execution_count": 6,
   "metadata": {},
   "outputs": [],
   "source": [
    "def vsa_drevesa(gozd):\n",
    "    sirina, visina = dimenzije(gozd)\n",
    "    drevesa = set()\n",
    "    for x in range(sirina):\n",
    "        for y in range(visina):\n",
    "            if je_drevo(x, y, gozd):\n",
    "                drevesa.add((x, y))\n",
    "    return drevesa"
   ]
  },
  {
   "cell_type": "markdown",
   "metadata": {},
   "source": [
    "Tole so vsa drevesa v prvih dveh vrsticah:"
   ]
  },
  {
   "cell_type": "code",
   "execution_count": 7,
   "metadata": {},
   "outputs": [
    {
     "data": {
      "text/plain": [
       "{(0, 1), (2, 0), (3, 0), (4, 1), (8, 1)}"
      ]
     },
     "execution_count": 7,
     "metadata": {},
     "output_type": "execute_result"
    }
   ],
   "source": [
    "vsa_drevesa(gozd[:2])"
   ]
  },
  {
   "cell_type": "markdown",
   "metadata": {},
   "source": [
    "Osebno imam raje tole. Ne potrebujemo dimenzij, predvsem pa: potrebujemo vrstice (in znake) in indekse, kar je vedno lepo narediti z `enumerate`."
   ]
  },
  {
   "cell_type": "code",
   "execution_count": 8,
   "metadata": {},
   "outputs": [],
   "source": [
    "def vsa_drevesa(gozd):\n",
    "    drevesa = set()\n",
    "    for y, vrstica in enumerate(gozd):\n",
    "        for x, c in enumerate(vrstica):\n",
    "            if c == \"#\":\n",
    "                drevesa.add((x, y))\n",
    "    return drevesa"
   ]
  },
  {
   "cell_type": "markdown",
   "metadata": {},
   "source": [
    "Je pa to očitno stvar okusa. Eno ali drugo lahko spremenimo v izpeljano množico: vrniti je potrebno množico koordinat, na katerih ni dreves."
   ]
  },
  {
   "cell_type": "code",
   "execution_count": 9,
   "metadata": {},
   "outputs": [],
   "source": [
    "def vsa_drevesa(gozd):\n",
    "    return {(x, y)\n",
    "            for x in range(len(gozd[0])) for y in range(len(gozd))\n",
    "            if je_drevo(x, y, gozd)}"
   ]
  },
  {
   "cell_type": "markdown",
   "metadata": {},
   "source": [
    "ali"
   ]
  },
  {
   "cell_type": "code",
   "execution_count": 10,
   "metadata": {},
   "outputs": [],
   "source": [
    "def vsa_drevesa(gozd):\n",
    "    return {(x, y)\n",
    "            for y, vrstica in enumerate(gozd) for x, c in enumerate(vrstica)\n",
    "            if c == \"#\"}"
   ]
  },
  {
   "cell_type": "markdown",
   "metadata": {},
   "source": [
    "Mogoče je še najlepše tako,"
   ]
  },
  {
   "cell_type": "code",
   "execution_count": 11,
   "metadata": {},
   "outputs": [],
   "source": [
    "def vsa_drevesa(gozd):\n",
    "    sirina, visina = dimenzije(gozd)\n",
    "    return {(x, y)\n",
    "            for x in range(sirina) for y in range(visina)\n",
    "            if je_drevo(x, y, gozd)}"
   ]
  },
  {
   "cell_type": "markdown",
   "metadata": {},
   "source": [
    "vendar vam testi tega ne bi priznali kot eno vrstico.\n",
    "\n",
    "### `stevilo_dreves`\n",
    "\n",
    "Rešitev je:"
   ]
  },
  {
   "cell_type": "code",
   "execution_count": 12,
   "metadata": {},
   "outputs": [
    {
     "data": {
      "text/plain": [
       "2"
      ]
     },
     "execution_count": 12,
     "metadata": {},
     "output_type": "execute_result"
    }
   ],
   "source": [
    "def stevilo_dreves(x0, y0, x1, y1, gozd):\n",
    "    v = 0\n",
    "    for x in range(x0, x1):\n",
    "        for y in range(y0, y1):\n",
    "            if je_drevo(x, y, gozd):\n",
    "                v += 1\n",
    "    return v\n",
    "\n",
    "stevilo_dreves(2, 3, 4, 6, gozd)"
   ]
  },
  {
   "cell_type": "markdown",
   "metadata": {},
   "source": [
    "Zanimiva čudna rešitev, ki jo je napisalo veliko študentov, je, da so spustili `x` in `y` prek celotnega gozda, potem pa upoštevali samo drevesa, ki so znotraj iskanega intervala."
   ]
  },
  {
   "cell_type": "code",
   "execution_count": 13,
   "metadata": {},
   "outputs": [],
   "source": [
    "def stevilo_dreves(x0, y0, x1, y1, gozd):\n",
    "    sirina, visina = dimenzije(gozd)\n",
    "    v = 0\n",
    "    for x in range(sirina):\n",
    "        for y in range(visina):\n",
    "            if x0 <= x < x1 and y0 <= y < y1 and je_drevo(x, y, gozd):\n",
    "                v += 1\n",
    "    return v"
   ]
  },
  {
   "cell_type": "markdown",
   "metadata": {},
   "source": [
    "To deluje, vendar nima smisla: če nas zanima le koordinate znotraj nekega intervala, gremo pač le prek tega intervala.\n",
    "\n",
    "To bi bilo smiselno, če bi šli prek vseh dreves in za vsako preverili, ali je znotraj iskanih koordinat. Če že ravno imamo funkcijo `vsa_drevesa`."
   ]
  },
  {
   "cell_type": "code",
   "execution_count": 14,
   "metadata": {},
   "outputs": [],
   "source": [
    "def stevilo_dreves(x0, y0, x1, y1, gozd):\n",
    "    v = 0\n",
    "    for x, y in vsa_drevesa(gozd):\n",
    "        if x0 <= x < x1 and y0 <= y < y1:\n",
    "            v += 1\n",
    "    return v"
   ]
  },
  {
   "cell_type": "markdown",
   "metadata": {},
   "source": [
    "Če vemo, da je `True` enak `1` in `False` enak `0`, lahko seštevamo kar te `True`-je in `False`."
   ]
  },
  {
   "cell_type": "code",
   "execution_count": 15,
   "metadata": {},
   "outputs": [],
   "source": [
    "def stevilo_dreves(x0, y0, x1, y1, gozd):\n",
    "    v = 0\n",
    "    for x, y in vsa_drevesa(gozd):\n",
    "        v += x0 <= x < x1 and y0 <= y < y1\n",
    "    return v"
   ]
  },
  {
   "cell_type": "markdown",
   "metadata": {},
   "source": [
    "To nas vodi direktno v rešitev z generatorjem."
   ]
  },
  {
   "cell_type": "code",
   "execution_count": 16,
   "metadata": {},
   "outputs": [],
   "source": [
    "def stevilo_dreves(x0, y0, x1, y1, gozd):\n",
    "    return sum(x0 <= x < x1 and y0 <= y < y1 for x, y in vsa_drevesa(gozd))"
   ]
  },
  {
   "cell_type": "markdown",
   "metadata": {},
   "source": [
    "Podobno pa je mogoče preobrniti tudi prvo funkcijo."
   ]
  },
  {
   "cell_type": "code",
   "execution_count": 17,
   "metadata": {},
   "outputs": [],
   "source": [
    "def stevilo_dreves(x0, y0, x1, y1, gozd):\n",
    "    return sum(je_drevo(x, y, gozd) for x in range(x0, x1) for y in range(y0, y1))"
   ]
  },
  {
   "cell_type": "markdown",
   "metadata": {},
   "source": [
    "### `ni_dreves`\n",
    "\n",
    "Ni kaj. :)"
   ]
  },
  {
   "cell_type": "code",
   "execution_count": 18,
   "metadata": {},
   "outputs": [],
   "source": [
    "def ni_dreves(x0, y0, x1, y1, gozd):\n",
    "    return stevilo_dreves(x0, y0, x1, y1, gozd) == 0"
   ]
  },
  {
   "cell_type": "markdown",
   "metadata": {},
   "source": [
    "Nekdo je vprašal, ali ta rešitev velja ali se šteje za goljufijo. Seveda velja. Tako je bilo mišljeno.\n",
    "\n",
    "\n",
    "## Za oceno 7: Ljubitelj dreves\n",
    "\n",
    "- `dreves_na_33(x, y, gozd)` vrne število dreves na kvadratu dimenzij 3x3 z gornjim levim ogliščem na (x, y). To funkcijo napiši tako, da ima le `return`.\n",
    "- Nekdo kupuje parcelo velikosti 3x3 in bi rad čimveč dreves. `naj_kvadrat(gozd)` vrne največje število dreves, ki ga najdemo v kakem kvadratu dimenzij 3x3.\n",
    "\n",
    "### `dreves_na_33`\n",
    "\n",
    "Tudi to velja. Tudi to je bilo tako mišljeno."
   ]
  },
  {
   "cell_type": "code",
   "execution_count": 19,
   "metadata": {},
   "outputs": [],
   "source": [
    "def dreves_na_33(x, y, gozd):\n",
    "    return stevilo_dreves(x, y, x + 3, y + 3, gozd)"
   ]
  },
  {
   "cell_type": "markdown",
   "metadata": {},
   "source": [
    "Bistvo te funkcije je predvsem, da se zavedate, da morate k `x` in k `y` prišteti 3, ker spodnje desno oglišče *ni vključeno*. Na ta način pregledujemo vse med `(x, y)` in (vključno) `(x + 2, y + 2)`.\n",
    "\n",
    "### `naj_kvadrat`"
   ]
  },
  {
   "cell_type": "code",
   "execution_count": 20,
   "metadata": {},
   "outputs": [],
   "source": [
    "def naj_kvadrat(gozd):\n",
    "    naj_dreves = 0\n",
    "    sirina, visina = dimenzije(gozd)\n",
    "    for x in range(sirina - 2):\n",
    "        for y  in range(visina - 2):\n",
    "            naj_dreves = max(naj_dreves, dreves_na_33(x, y, gozd))\n",
    "    return naj_dreves"
   ]
  },
  {
   "cell_type": "markdown",
   "metadata": {},
   "source": [
    "Bistvo te funkcije pa je, da se zavedamo, da moramo napisati `range(sirina - 2)`. Tako bo največji `x` enak `sirina - 3`. Tu se namreč začne zadnji dovoljen kvadrat dimenzij 3x3 - zadnji dovoljeni x-i so `sirina - 3`, `sirina - 2` in `sirina - 1`.\n",
    "\n",
    "Namesto\n",
    "\n",
    "```python\n",
    "            dreves = dreves_na_33(x, y, gozd)\n",
    "            if dreves > naj_dreves:\n",
    "                naj_dreves = dreves\n",
    "```\n",
    "\n",
    "smo si pomagali s funkcijo `max`. Za malo spremembe. :)\n",
    "\n",
    "Različica z generatorjem je"
   ]
  },
  {
   "cell_type": "code",
   "execution_count": 21,
   "metadata": {},
   "outputs": [],
   "source": [
    "def naj_kvadrat(gozd):\n",
    "    return max(\n",
    "        dreves_na_33(x, y, gozd)\n",
    "        for x in range(len(gozd[0]) - 2) for y in range(len(gozd) - 2))"
   ]
  },
  {
   "cell_type": "markdown",
   "metadata": {},
   "source": [
    "Gremo čez vse koordinate, za vsako izračunamo `dreves_na_33(x, y, gozd)` in pogledamo maksimum le-tega.\n",
    "\n",
    "### Za oceno 8: Grm, v katerem tiči zajec\n",
    "\n",
    "<img style=\"float: right; margin-left: 16px;\" src=\"data:image/.png;base64,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\"/>\n",
    "\n",
    "- `lovec(x, y, pot, gozd)` vrne število bušk, ki jih dobi pijani lovec, če se v začetku nahaja na koordinatah (x, y) in poskuša prehoditi podano `pot`. Kadar se zaleti v drevo, *ne more narediti* nameravanega koraka, temveč le dobi buško. Če poskuša zapustiti gozd, mu ne uspe, saj je okoli gozda ograja. Rdeča pot na sliki ustreza klicu `lovec(1, 0, \"v<v>>>v\", self.gozd)` (**pozorno poglej!**); funkcija v tem primeru vrne 3, saj se zaleti trikrat. Modra pot kaže drugo pot, ki jo testirajo testi.\n",
    "\n",
    "- Zajec se boji, da ga lovec, ker je pijan, slučajno ne bi celo zadel. Ve, da so lovci na vrhu gozda, zato poišče stolpec z največ drevesi in se skrije za najbolj spodnje drevo v tem stolpcu. V našem gozdu je to stolpec 4 in zajec tiči za drevesom (4, 8). Da je res tako, dokazuje prva slika.\n",
    "\n",
    "    Funkcija `zajec(drevesa)` prejme množico koordinat dreves (kot jo vrne `vsa_drevesa`) in ne seznama nizov, vrne pa koordinate drevesa, za katerim bo trepetal zajec.\n",
    "    \n",
    "### `lovec`\n",
    "\n",
    "Funkcija ni zapletena, lahko pa postane takšna, če se je lotimo nerodno."
   ]
  },
  {
   "cell_type": "code",
   "execution_count": 22,
   "metadata": {},
   "outputs": [],
   "source": [
    "def lovec(x, y, pot, gozd):\n",
    "    sirina, visina = dimenzije(gozd)\n",
    "    buske = 0\n",
    "    for c in pot:\n",
    "        dx, dy = {\"^\": (0, -1), \"v\": (0, 1), \"<\": (-1, 0), \">\": (1, 0)}[c]\n",
    "        nx, ny = x + dx, y + dy\n",
    "        if not (0 <= nx < sirina and 0 <= ny < visina):\n",
    "            continue\n",
    "        elif je_drevo(nx, ny, gozd):\n",
    "            buske += 1\n",
    "        else:\n",
    "            x, y = nx, ny\n",
    "    return buske"
   ]
  },
  {
   "cell_type": "markdown",
   "metadata": {},
   "source": [
    "Prvi trik: spremembi damo v `dx` in `dy`, s čimer se rešimo seznama zoprnih `if`-ov. Ta trik smo videli pred nekaj tedni, v nalogi `srecanja`.\n",
    "\n",
    "Naslednji trik: namesto da bi naračunali novi koordinati naravnost v `x` in `y`, ju začasno naračunamo v `nx` in `ny`.\n",
    "\n",
    "Nato pa:\n",
    "- če je to izven koordinat, se ne zgodi nič\n",
    "- če je tam drevo, se zgodi buška\n",
    "- če nič od tega, spremenimo `x` in `y`.\n",
    "\n",
    "Očitno bi lahko pisali tudi\n",
    "\n",
    "```python\n",
    "        if 0 <= nx < sirina and 0 <= ny < visina:\n",
    "            if je_drevo(nx, ny, gozd):\n",
    "                buske += 1\n",
    "            else:\n",
    "                x, y = nx, ny\n",
    "```\n",
    "\n",
    "vendar mi je gornja rešitev všeč, ker program beži manj desno. Poleg tega pa mi je všeč tudi, da eksplicitno pove, da ne bo naredil ničesar, če so koordinate izven dovoljenih meja.\n",
    "\n",
    "### `zajec`\n",
    "\n",
    "Za to nalogo se moram pa skoraj malo opravičiti. Sam sem jo rešil le v eni vrstici in se mi je zdela čisto preprosta. Šele ob pisanju tega besedila - ko ste nalogo že davno začeli reševati  - pa sem videl, da rešitev brez izpeljanih seznamov sploh ni tako preprosta in kratka. Takšna je."
   ]
  },
  {
   "cell_type": "code",
   "execution_count": 23,
   "metadata": {},
   "outputs": [],
   "source": [
    "def zajec(drevesa):\n",
    "    sirina = max(drevesa)[0] + 1\n",
    "\n",
    "    naj_koord = None\n",
    "    naj_dreves = 0\n",
    "    for x in range(sirina):\n",
    "        stolpec = []\n",
    "        for x0, y0 in drevesa:\n",
    "            if x0 == x:\n",
    "                stolpec.append(y0)\n",
    "\n",
    "        if len(stolpec) > naj_dreves:\n",
    "            naj_dreves = len(stolpec)\n",
    "            naj_koord = (x, max(stolpec))\n",
    "    return naj_koord"
   ]
  },
  {
   "cell_type": "markdown",
   "metadata": {},
   "source": [
    "Najprej izvemo, širino: v množici `drevesa` poiščemo maksimalni element. Gre za pare, torej bomo dobili tistega z največjim prvim elementom. Iz tega para poberemo prvi element (zato `[0]`) in prištejemo `1`, saj gredo `x`-i od `0`, torej je širina za 1 večja od največje koordinate.\n",
    "\n",
    "Nato gremo prek vseh stolpcev. Za vsakega naberemo v `stolpec` vse `y` koordinate v tistem stolpcu. Če je v tem stolpcu več dreves kot v največjem doslej, si zapomnimo to število dreves in koordinate spodnjega drevesa, torej trenutni `x` in največji element tega stolpca.\n",
    "\n",
    "Zdaj pa z izpeljanimi množicami.\n",
    "\n",
    "`x` bomo spustili prek množice vse `x` koordinat: `for x in {x for x, y in drevesa}`. Za vsak takšen `x` izračunamo vse koordinate dreves v njem `{(y, x) for x0, y in drevesa if x0 == x}`. \n",
    "Združimo: tole so množice dreves, grupirane po stolpcih.\n",
    "\n",
    "```python\n",
    "({(y, x) for x0, y in drevesa if x0 == x}\n",
    " for x in {x for x, y in drevesa})\n",
    "```\n",
    "\n",
    "Izmed njih nas zanima največja:\n",
    "\n",
    "```python\n",
    "max(({(y, x) for x0, y in drevesa if x0 == x}\n",
    "             for x in {x for x, y in drevesa}), key=len)\n",
    "```\n",
    "\n",
    "Z `max(..., key=len)` dobimo tisti element, ki ima največ elementov. Torej stolpec z največ drevesi. En sam stolpec. Rezultat tega `max`-a je množice koordinat `(y, x)`, **ne `(x, y)`**. Zato lahko zdaj poiščemo \"največjo\" koordinato -- dobili bomo tisto, ki ima največji `y`.\n",
    "\n",
    "```python\n",
    "max(\n",
    "    max(({(y, x) for x0, y in drevesa if x0 == x}\n",
    "        for x in {x for x, y in drevesa}), key=len)\n",
    ")\n",
    "```\n",
    "\n",
    "Tole bo (y, x) koordinata najnižjega drevesa v stolpcu z največ drevesi. Ker je potrebno vrniti (x, y) in ne (y, x), to še obrnemo. Funkcija je torej"
   ]
  },
  {
   "cell_type": "code",
   "execution_count": 24,
   "metadata": {},
   "outputs": [],
   "source": [
    "def zajec(drevesa):\n",
    "    return max(\n",
    "        max(({(y, x) for x0, y in drevesa if x0 == x}\n",
    "             for x in {x for x, y in drevesa}), key=len)\n",
    "    )[::-1]"
   ]
  },
  {
   "cell_type": "markdown",
   "metadata": {},
   "source": [
    "## Za oceno 9: Kot hudičev boršt, vendar jasa\n",
    "\n",
    "- `razdalja(x0, y0, x1, y1)` vrne (evklidsko) razdaljo med (x0, y0) in (x1, y1). Pitagora pa to.\n",
    "- `bliznja_drevesa(x, y, r, drevesa)` vrne množico koordinat dreves, ki so od podanega drevesa oddaljena `r` ali manj. Argument je spet množica koordinat dreves in ne seznam nizov.\n",
    "- `povezana_drevesa(r, drevesa)` vrne slovar, katerega ključi so koordinate dreves, pripadajoče vrednosti pa množice dreves, ki so od posameznega drevesa oddaljene za največ `r`.\n",
    "- `jasa(gozd)` vrne površino največje jase, to je pravokotnika brez dreves. Štejejo seveda le pravokotniki, kateri stranice so poravnane s koordinatnima osema, ne pravokotniki zasukani pod poljubnim kotom. Argument je tokrat spet seznam nizov.\n",
    "\n",
    "- Da dokažeš svojo programersko spretnost, vse funkcije za ocene 6-9 napiši v eni sami vrstici, z uporabo izpeljanih seznamov, slovarjev, množic, generatorjev. Več vrstic si lahko privoščiš le pri `lovec`, `zajec` in `jasa`.\n",
    "\n",
    "### `razdalja`, `bliznja_drevesa` in `povezana_drevesa`\n",
    "\n",
    "Tole je skoraj dolgočasno."
   ]
  },
  {
   "cell_type": "code",
   "execution_count": 25,
   "metadata": {},
   "outputs": [],
   "source": [
    "def razdalja(x0, y0, x1, y1):\n",
    "    return sqrt((x0 - x1) ** 2 + (y0 - y1) ** 2)\n",
    "\n",
    "def bliznja_drevesa(x, y, r, drevesa):\n",
    "    return {(x0, y0) for (x0, y0) in drevesa if razdalja(x, y, x0, y0) <= r} - {(x, y)}\n",
    "\n",
    "def povezana_drevesa(r, drevesa):\n",
    "    return {(x, y): bliznja_drevesa(x, y, r, drevesa) for (x, y) in drevesa}"
   ]
  },
  {
   "cell_type": "markdown",
   "metadata": {},
   "source": [
    "Edino, kar je vredno komentarja, je, da v `bliznja_drevesa` na koncu preprosto odštejemo množico, ki vsebuje koordinate podanega drevesa `{(x, y)}`.\n",
    "\n",
    "### `jasa`\n",
    "\n",
    "Z jaso ne komplicirajmo: ena za levi x (`x0`), ena za desni (`x1`), ena za zgornji y (`y0`), ena za spodnji (`y1`). Pri tem najprej naredimo zanko za desni x, tako da levi teče le do njega. Enako za y.\n",
    "\n",
    "Za vsako četvorico koordinat izračunamo ploščino. Če je ploščina med temi koordinatami večja od največje doslej, preverimo, da tam ni dreves. Če je tako, imamo novega zmagovalca."
   ]
  },
  {
   "cell_type": "code",
   "execution_count": 26,
   "metadata": {},
   "outputs": [],
   "source": [
    "def jasa(gozd):\n",
    "    najni = None\n",
    "    for x1 in range(len(gozd[0]) + 1):\n",
    "        for x0 in range(x1):\n",
    "            for y1 in range(len(gozd) + 1):\n",
    "                for y0 in range(y1):\n",
    "                    p = (x1 - x0) * (y1 - y0)\n",
    "                    if (not najni or p > najni) and ni_dreves(x0, y0, x1, y1, gozd):\n",
    "                        najni = p\n",
    "    return najni"
   ]
  },
  {
   "cell_type": "markdown",
   "metadata": {},
   "source": [
    "To se da na različne načine izboljševati, a ni vredno. Kakšne neverjetno hitre rešitve ne bomo dobili.\n",
    "\n",
    "Le še v eno vrstico jo prevrnimo: iščemo največjo ploščino za koordinate, med katerimi ni dreves."
   ]
  },
  {
   "cell_type": "code",
   "execution_count": 27,
   "metadata": {},
   "outputs": [],
   "source": [
    "def jasa(gozd):\n",
    "    return max((x1 - x0) * (y1 - y0)\n",
    "               for x1 in range(len(gozd[0]) + 1)\n",
    "               for x0 in range(x1)\n",
    "               for y1 in range(len(gozd) + 1)\n",
    "               for y0 in range(y1)\n",
    "               if ni_dreves(x0, y0, x1, y1, gozd))"
   ]
  },
  {
   "cell_type": "markdown",
   "metadata": {},
   "source": [
    "Tole je lep primer, zakaj se učimo programiranja z generatorji: tale rešitev je gotovo preglednejša od tiste, v kateri napišemo štiri \"običajne\" zanke.\n",
    "\n",
    "## Za oceno 10: Tujerodna vrsta\n",
    "\n",
    "- V gozdu se je naselila opica. Opice rade skačejo z drevesa na drevo. Funkcija `opica(x, y, r, drevesa)` naj vrne množico koordinat vseh dreves, do katerih lahko priskače opica, če začne na koordinatah (x, y) in lahko skoči največ `r` daleč, vmes pa seveda nikoli ne gre na tla. Drevesa so podana z množico koordinat.\n",
    "\n",
    "- Poleg tega poskrbi, da bosta v eni vrstici napisana tudi `zajec` in `jasa`. Na daljši način bosta napisani le še `lovec` in `opica`.\n",
    "\n",
    "### Rešitev\n",
    "\n",
    "Za vse, kar je potrebno pisati v eni vrstici smo poskrbeli sproti.\n",
    "\n",
    "Opico pa uženemo tako. Pripravili bomo slovar povezanih dreves. Tako bomo za vsako drevo hitro prišli do tistih, ki jih opica doseže z njega.\n",
    "\n",
    "Sestavljali bomo seznam dosegljivih dreves. Na koncu je sicer res potrebno vrniti množico, vendar tole z množico ne bi delovalo. (Bomo videli, zakaj.)\n",
    "\n",
    "Nato gremo z zanko prek dosegljivih dreves. Za vsako dosegljivo drevo, dodamo v seznam dosegljivih dreves vsa drevesa, ki so dosegljiva z njega in ga še ni v seznamu.\n",
    "\n",
    "To je vse. :)"
   ]
  },
  {
   "cell_type": "code",
   "execution_count": 28,
   "metadata": {},
   "outputs": [],
   "source": [
    "def opica(x, y, r, drevesa):\n",
    "    povezave = povezana_drevesa(r, drevesa)\n",
    "\n",
    "    dosegljiva = [(x, y)]\n",
    "    for drevo in dosegljiva:\n",
    "        for drevo0 in povezave[drevo]:\n",
    "            if drevo0 not in dosegljiva:\n",
    "                dosegljiva.append(drevo0)\n",
    "    return set(dosegljiva)"
   ]
  },
  {
   "cell_type": "markdown",
   "metadata": {},
   "source": [
    "Zanka `for` teče prek seznama, ki se sproti dopolnjuje. To deluje - za sezname. Za množice pa  ne bi.\n",
    "\n",
    "Gre pa še malo krajše, če gornji \"vsa drevesa, ki so dosegljiva z njega in ga še ni v seznamu\" izvedemo z razliko množic."
   ]
  },
  {
   "cell_type": "code",
   "execution_count": 29,
   "metadata": {},
   "outputs": [],
   "source": [
    "def opica(x, y, r, drevesa):\n",
    "    dosegljiva = [(x, y)]\n",
    "    povezave = povezana_drevesa(r, drevesa)\n",
    "    for drevo in dosegljiva:\n",
    "        dosegljiva += povezave[drevo] - set(dosegljiva)\n",
    "    return set(dosegljiva)"
   ]
  },
  {
   "cell_type": "markdown",
   "metadata": {},
   "source": [
    "## Vse rešitve skupaj\n",
    "\n",
    "```python\n",
    "# Ogrevanje\n",
    "\n",
    "def dimenzije(gozd):\n",
    "    return len(gozd[0]), len(gozd)  # to mmorajo v eni vrstici\n",
    "\n",
    "def je_drevo(x, y, gozd):\n",
    "    return gozd[y][x] == \"#\"   # to morajo v eni vrstici\n",
    "\n",
    "\n",
    "# 6\n",
    "\n",
    "def vsa_drevesa(gozd):\n",
    "    return {(x, y)\n",
    "            for x in range(len(gozd[0])) for y in range(len(gozd))\n",
    "            if je_drevo(x, y, gozd)}\n",
    "\n",
    "def stevilo_dreves(x0, y0, x1, y1, gozd):\n",
    "    return sum(je_drevo(x, y, gozd)\n",
    "               for x in range(x0, x1) for y in range(y0, y1))\n",
    "\n",
    "def ni_dreves(x0, y0, x1, y1, gozd):\n",
    "    return not stevilo_dreves(x0, y0, x1, y1, gozd)\n",
    "\n",
    "\n",
    "# 7\n",
    "\n",
    "def dreves_na_33(x, y, gozd):\n",
    "    return stevilo_dreves(x, y, x + 3, y + 3, gozd)\n",
    "\n",
    "def naj_kvadrat(gozd):\n",
    "    return max(\n",
    "        dreves_na_33(x, y, gozd)\n",
    "        for x in range(len(gozd[0]) - 2) for y in range(len(gozd) - 2))\n",
    "\n",
    "\n",
    "# 8\n",
    "\n",
    "def lovec(x, y, pot, gozd):\n",
    "    sirina, visina = dimenzije(gozd)\n",
    "    buske = 0\n",
    "    for c in pot:\n",
    "        dx, dy = {\"^\": (0, -1), \"v\": (0, 1), \"<\": (-1, 0), \">\": (1, 0)}[c]\n",
    "        nx, ny = x + dx, y + dy\n",
    "        if not (0 <= nx < sirina and 0 <= ny < visina):\n",
    "            continue\n",
    "        elif je_drevo(nx, ny, gozd):\n",
    "            buske += 1\n",
    "        else:\n",
    "            x, y = nx, ny\n",
    "    return buske\n",
    "\n",
    "def zajec(drevesa):\n",
    "    return max(\n",
    "        max(({(y, x) for x0, y in drevesa if x0 == x}\n",
    "             for x in {x for x, y in drevesa}), key=len)\n",
    "    )[::-1]\n",
    "\n",
    "\n",
    "# 9\n",
    "\n",
    "def razdalja(x0, y0, x1, y1):\n",
    "    return sqrt((x0 - x1) ** 2 + (y0 - y1) ** 2)\n",
    "\n",
    "def bliznja_drevesa(x, y, r, drevesa):\n",
    "    return {(x0, y0) for (x0, y0) in drevesa if razdalja(x, y, x0, y0) <= r} - {(x, y)}\n",
    "\n",
    "def povezana_drevesa(r, drevesa):\n",
    "    return {(x, y): bliznja_drevesa(x, y, r, drevesa) for (x, y) in drevesa}\n",
    "\n",
    "def jasa(gozd):\n",
    "    return max((x1 - x0) * (y1 - y0)\n",
    "               for x1 in range(len(gozd[0]) + 1)\n",
    "               for x0 in range(x1)\n",
    "               for y1 in range(len(gozd) + 1)\n",
    "               for y0 in range(y1)\n",
    "               if ni_dreves(x0, y0, x1, y1, gozd))\n",
    "\n",
    "\n",
    "# 10\n",
    "\n",
    "def opica(x, y, r, drevesa):\n",
    "    dosegljiva = [(x, y)]\n",
    "    povezave = povezana_drevesa(r, drevesa)\n",
    "    for drevo in dosegljiva:\n",
    "        dosegljiva += povezave[drevo] - set(dosegljiva)\n",
    "    return set(dosegljiva)\n",
    "```"
   ]
  }
 ],
 "metadata": {
  "kernelspec": {
   "display_name": "Python 3",
   "language": "python",
   "name": "python3"
  },
  "language_info": {
   "codemirror_mode": {
    "name": "ipython",
    "version": 3
   },
   "file_extension": ".py",
   "mimetype": "text/x-python",
   "name": "python",
   "nbconvert_exporter": "python",
   "pygments_lexer": "ipython3",
   "version": "3.7.4"
  }
 },
 "nbformat": 4,
 "nbformat_minor": 4
}
