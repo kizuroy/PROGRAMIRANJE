{
 "cells": [
  {
   "cell_type": "markdown",
   "id": "329b8879",
   "metadata": {},
   "source": [
    "## Obvezni del\n",
    "\n",
    "Ladje potrebujejo gorivo. Količina goriva je odvisna od teže tovora. V navodilih za uporabo piše takole: težo tovora celoštevilsko delimo s 3 (torej: delimo s 3, a zaokroženo navzdol) in odštejemo 2. To ponavljamo, dokler ne dobimo števila, ki je manjše ali enako 0. Za prevoz potrebujemo toliko ton goriva, kolikor korakov je bilo potrebnih.\n",
    "\n",
    "Za primer vzemimo, da je teža tovora 756 ton.\n",
    "\n",
    "```\n",
    "756 / 3 - 2 = 250\n",
    "250 / 3 - 2 = 81\n",
    "81 / 3 - 2 = 25\n",
    "25 / 3 - 2 = 6\n",
    "6 / 3 - 2 = 0\n",
    "```\n",
    "\n",
    "Ker smo za to, da smo prišli do 0 (ali manj) potrebovali pet korakov, potrebujemo 5 ton goriva.\n",
    "\n",
    "Napiši program, ki mu vnesemo maso tovora in izpiše količino goriva. Če vnesemo 756, izpiše 5. Če vnesemo 100756, izpiše 10.\n",
    "\n",
    "### Rešitev\n",
    "\n",
    "Potrebovali bomo zanko, ki bo tekla, dokler masa ne pade na 0 (`while masa > 0`). V vsakem koraku deli maso (celoštevilsko! `//`!) s 3 in odšteje 2. Pa korake šteje, da lahko na koncu izpiše, koliko jih je bilo."
   ]
  },
  {
   "cell_type": "code",
   "execution_count": 1,
   "id": "75317773",
   "metadata": {},
   "outputs": [
    {
     "name": "stdout",
     "output_type": "stream",
     "text": [
      "Masa: 100756\n",
      "10\n"
     ]
    }
   ],
   "source": [
    "masa = int(input(\"Masa: \"))\n",
    "\n",
    "gorivo = 0\n",
    "while masa >= 0:\n",
    "    masa = masa // 3 - 2\n",
    "    gorivo += 1\n",
    "print(gorivo)"
   ]
  },
  {
   "cell_type": "markdown",
   "id": "b1c27850",
   "metadata": {},
   "source": [
    "## Dodatna naloga\n",
    "\n",
    "V resnici smo navodila brali čisto narobe. (Ni čudno: ladjo smo kupili na Ali Expressu za $35 (s pošiljanjem zastonj) in angleški prevod navodil je bil enaka katastrofa kot običajno.) Dejansko gre takole: za 756 ton tovora, potrebujemo 756 / 3 - 2 = 250 ton goriva. Problem pa je v tem, da je potrebno tudi to gorivo voziti. Za prevoz teh 250 ton goriva potrebujemo še 250 / 3 - 2 = 81 ton goriva. In tako naprej. Količina potrebnega goriva je torej vsota vseh gornjih števil: 250 + 81 + 25 + 6 = 362 ton goriva.\n",
    "\n",
    "Dopolni program, da bo poleg številke iz obveznega dela izpisal tudi številko izračunano po tem receptu. Če vnesemo 756 izpiše 5 (tako kot prej) in nato 362. Če vnesemo 100756 izpiše 10 (tako kot prej) in nato 50346.\n",
    "\n",
    "Opombi: ladja ima slab izkoristek, vem. (Kaj, točno, smo pa pričakovali od ladje z Ali Expressa?) In še: teh 756 ton goriva ne vozimo celo pot; ko gorivo kurimo, je ladja vedno lažja. Tudi to bi lahko upoštevali, vendar najbrž nočete, da vam preveč zapletem nalogo. :)\n",
    "\n",
    "### Rešitev\n",
    "\n",
    "Najpreprosteje bi bilo tako:"
   ]
  },
  {
   "cell_type": "code",
   "execution_count": 5,
   "id": "16328ca2",
   "metadata": {},
   "outputs": [
    {
     "name": "stdout",
     "output_type": "stream",
     "text": [
      "50344\n"
     ]
    }
   ],
   "source": [
    "masa = 100756  # Da ne bo potrebno vedno znova tipkati v `input`\n",
    "\n",
    "gorivo = 0\n",
    "while masa > 0:\n",
    "    masa = masa // 3 - 2\n",
    "    gorivo += masa\n",
    "print(gorivo)"
   ]
  },
  {
   "cell_type": "markdown",
   "id": "167c48ff",
   "metadata": {},
   "source": [
    "Vendar to ne dela pravilno, ker je lahko masa v zadnjem koraku tudi negativna. Da je ne bi prištevali, dodamo pogoj:"
   ]
  },
  {
   "cell_type": "code",
   "execution_count": 6,
   "id": "352cc874",
   "metadata": {},
   "outputs": [
    {
     "name": "stdout",
     "output_type": "stream",
     "text": [
      "50346\n"
     ]
    }
   ],
   "source": [
    "masa = 100756  # Da ne bo potrebno vedno znova tipkati v `input`\n",
    "\n",
    "gorivo = 0\n",
    "while masa > 0:\n",
    "    masa = masa // 3 - 2\n",
    "    if masa > 0:\n",
    "        gorivo += masa\n",
    "print(gorivo)"
   ]
  },
  {
   "cell_type": "markdown",
   "id": "5bd462fb",
   "metadata": {},
   "source": [
    "Tipičen trik, ki bi ga uporabili, da se temu izognemo, je funkcija `max`: podamo ji dve števili in vrne večjega. (Lahko ji podamo tudi seznam in vrne največji element seznama, vendar seznamov še ne poznamo.)"
   ]
  },
  {
   "cell_type": "code",
   "execution_count": 8,
   "id": "c34da84e",
   "metadata": {},
   "outputs": [
    {
     "name": "stdout",
     "output_type": "stream",
     "text": [
      "50346\n"
     ]
    }
   ],
   "source": [
    "masa = 100756  # Da ne bo potrebno vedno znova tipkati v `input`\n",
    "\n",
    "gorivo = 0\n",
    "while masa > 0:\n",
    "    masa = masa // 3 - 2\n",
    "    gorivo += max(0, masa)\n",
    "print(gorivo)"
   ]
  },
  {
   "cell_type": "markdown",
   "id": "f2720bc5",
   "metadata": {},
   "source": [
    "Če je masa pozitivna, bo `max(0, "
   ]
  }
 ],
 "metadata": {
  "kernelspec": {
   "display_name": "Python 3 (ipykernel)",
   "language": "python",
   "name": "python3"
  },
  "language_info": {
   "codemirror_mode": {
    "name": "ipython",
    "version": 3
   },
   "file_extension": ".py",
   "mimetype": "text/x-python",
   "name": "python",
   "nbconvert_exporter": "python",
   "pygments_lexer": "ipython3",
   "version": "3.9.7"
  }
 },
 "nbformat": 4,
 "nbformat_minor": 5
}
