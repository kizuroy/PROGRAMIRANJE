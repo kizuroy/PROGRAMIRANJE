{
 "cells": [
  {
   "cell_type": "markdown",
   "id": "cab76403",
   "metadata": {},
   "source": [
    "Oddelek za gospodarske dejavnosti in (motoriziran) promet Mestne občine Ljubljana slovi srce parajoči skrbi za varnost kolesarjev. V imenu te skrbi jim povsod, kjer je to v interesu kolesarjev, odvzame prednost, postavlja različne ovire in ukinja kolesarske steze. Vašemu profesorju se vedno orosi oko od ganjenosti, ko pride do mesta na Večni poti, kjer so kolesarjem odvzeli prednost, da jih ne bi povozil avto ali kombi, ki ne bi vedel, da tu nima prednosti. ([Več o tem](https://runda.si/article/sikaniranje-dobesedno-).)\n",
    "\n",
    "## Ogrevalni del\n",
    "\n",
    "<img style=\"float: right; margin-left: 20px\" src=\"data:image/.png;base64,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\"/>\n",
    "\n",
    "(Tega dela naloge ne oddajaj. To je samo za ogrevanje.)\n",
    "\n",
    "Nov pristop MOL k zagotavljanju varnosti kolesarjev bi lahko bilo postavljanje kock, kot ga kaže slika.\n",
    "\n",
    "\n",
    "Napiši program, ki se začne s seznamom `ovire`, ki predstavlja razpored kock v obliki parov koordinat (x, y). Sledi naj spremenljivka `x`, ki vsebuje koordinato (stolpec) po katerem se bo peljal kolesar. Program naj izpiše koordinato `y` (vrstico) prve ovire, na katero bo naletel.\n",
    "\n",
    "Program se torej lahko začne z\n",
    "\n",
    "```python\n",
    "ovire = [(3, 9), (7, 1), (5, 9), (9, 2), (7, 3),\n",
    "         (10, 5), (4, 7), (9, 8), (6, 5), (8, 6),\n",
    "         (1, 5), (8, 4), (2, 3), (3, 6)]\n",
    "x = 3\n",
    "```\n",
    "\n",
    "vendar naj deluje tudi za poljuben drugačen razpored ovir in koordinato `x`. Da preveriš, ali res deluje, poskušaj, recimo, različne `x`.\n",
    "\n",
    "### Rešitev\n",
    "\n",
    "Najprej pripravimo seznam kock in koordinato `x` - tokrat brez `input`, da ne bo potrebno ob vsakem poganjanju tipkati. `int(input(...))` menda že znamo napisati in ni treba utrjevati. :)"
   ]
  },
  {
   "cell_type": "code",
   "execution_count": 1,
   "id": "dafcef3a",
   "metadata": {},
   "outputs": [],
   "source": [
    "ovire = [(3, 9), (7, 1), (5, 9), (9, 2), (7, 3),\n",
    "         (10, 5), (4, 7), (9, 8), (6, 5), (8, 6),\n",
    "         (1, 5), (8, 4), (2, 3), (3, 6)]\n",
    "x = 3"
   ]
  },
  {
   "cell_type": "markdown",
   "id": "a754c695",
   "metadata": {},
   "source": [
    "Program pa je le iskanje minimuma nekega seznama (kar smo že velikokrat počeli), a z dodatno omejitvijo - iščemo minimum drugega elementa terke, pri čemer mora imeti prvi neko določeno vrednost."
   ]
  },
  {
   "cell_type": "code",
   "execution_count": 2,
   "id": "1307bef0",
   "metadata": {},
   "outputs": [
    {
     "name": "stdout",
     "output_type": "stream",
     "text": [
      "6\n"
     ]
    }
   ],
   "source": [
    "ymin = None\n",
    "for xn, yn in ovire:\n",
    "    if xn == x and (ymin == None or yn < ymin):\n",
    "        ymin = yn\n",
    "print(ymin)"
   ]
  },
  {
   "cell_type": "markdown",
   "id": "2dfd2d23",
   "metadata": {},
   "source": [
    "Začetno vrednost `ymin` smo postavili na `None`. To bo pomenilo, da nismo srečali še nobene ovire. Pogoj v zanki pravi, da se bomo ukvarjali le s kockami, ki imajo pravo koordinato `x` (`xn == x`), pri čemer si bomo zapomnili njen `y`, če doslej še nismo videli nobene kocke v tem stolpcu (`ymin == None`) ali pa je ta `y` manjši od najmanjšega doslej `(yn < ymin)`.\n",
    "\n",
    "Čeprav je program kratek, omogoča tistim, ki programirajo prvič v življenju, kar nekaj napak.\n",
    "\n",
    "Če zanko napišemo kot `for x, y in ovire`, to ne bo dobro, ker smo s tem izgubili vrednost `x`, ki smo jo definirali zgoraj. `x` je v tem programu številka stolpca, s katerim se ukvarjamo. Če kasneje pišemo `for x, y ...`, bo zanka `for` spremenljivki `x` prirejala različne druge vrednosti.\n",
    "\n",
    "Pogoje ne sme biti `if xn == x and ymin == None or yn < ymin`: to ne bi delovalo, ker ima `and` prednost pred `or`. Pogoj brez oklepajev je zato enak, kot če bi pisali `if (xn == x and ymin == None) or yn < ymin` in to očitno ni to, kar hočemo.\n",
    "\n",
    "Pomemben je tudi vrstni red pogojev: `ymin == None or yn < ymin` in ne `yn < ymin or ymin == None`. Zaradi kratkostičnega vedenja Python v `or` ne bo preverjal drugega pogoja, kadar je resničen že prvi. In to je pomembno: če poskušamo preverjati `yn < ymin`, ko je `ymin` še enak `None` bo Python sporočil napako.\n",
    "\n",
    "Včasih videvam tudi tole: študent namesto `ymin = yn` napiše `yn = ymin`. To je posledica tega, da si v slovenščini rečemo \"*potem je ta element najmanjši*\". Seveda prirejanje v Pythonu ne deluje v to smer."
   ]
  },
  {
   "cell_type": "markdown",
   "id": "fdfa8e85",
   "metadata": {},
   "source": [
    "<h2 style=\"clear: both\">Obvezna naloga</h2>\n",
    "\n",
    "\n",
    "<img style=\"float: right; margin-left: 20px\" src=\"data:image/.png;base64,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\"/>\n",
    "\n",
    "\n",
    "To nalogo oddaj.\n",
    "\n",
    "Ovire v resnici niso kocke, temveč šikane, kot jih vidite pred FRI in v [gornjem blogu](https://runda.si/article/sikaniranje-dobesedno-). Njihove pozicije zato niso opisane s seznamom parov, temveč seznamov trojk `(x1, x2, y)`, kjer sta `x1` in `x2` (`x1` <= `x2`) številki stolpca, kjer se ovira začne in konča (ovira pokriva tudi `x2`).\n",
    "\n",
    "\n",
    "Napiši program, ki se začne s seznamom ovir in številko stolpca, na primer\n",
    "\n",
    "```python\n",
    "ovire = ...\n",
    "x = ...\n",
    "```\n",
    "\n",
    "in izpiše številko vrstice s prvo oviro.\n",
    "\n",
    "Predpostaviti smeš, da bo kolesar vedno naletel na oviro.\n",
    "\n",
    "### Rešitev\n",
    "\n",
    "Rešitev je precej podobna rešitvi ogrevalne naloge. Razlika je le v tem, da imamo seznam trojk, zato namesto `xn, yn` gremo prek `x0, x1, yn`, in da ne zahtevamo, da je `x` enak `xn`, temveč da je med `x0` in `x1`."
   ]
  },
  {
   "cell_type": "code",
   "execution_count": 3,
   "id": "5029cfc5",
   "metadata": {},
   "outputs": [
    {
     "name": "stdout",
     "output_type": "stream",
     "text": [
      "5\n"
     ]
    }
   ],
   "source": [
    "ovire = [(1, 3, 6), (2, 4, 3),\n",
    "         (3, 4, 9), (6, 9, 5), (9, 10, 2), (9, 10, 8),\n",
    "         (4, 6, 7),\n",
    "         ]\n",
    "x = 6\n",
    "ymin = None\n",
    "for x0, x1, yn in ovire:\n",
    "    if x0 <= x <= x1 and (ymin == None or yn < ymin):\n",
    "        ymin = yn\n",
    "print(ymin)"
   ]
  },
  {
   "cell_type": "markdown",
   "id": "f4fcda85",
   "metadata": {},
   "source": [
    "<h2 style=\"clear: both\">Dodatna naloga</h2>\n",
    "\n",
    "K programu dodaj še tole: program naj najprej ugotovi širino kolesarske steze - ta je enaka največji (desni) koordinati x. Nato izpiše številko stolpca, po katerem se bo kolesar pripeljal najdlje in številko vrstice s prvo oviro, na katero bo naletel.\n",
    "\n",
    "Če je MOL kaj spregledal in lahko kolesar nevarno prevozi kak stolpec, ne da bi naletel na oviro, pa naj program izpiše koordinato stolpca, namesto vrstice z oviro pa napiše \"Zmaga!\".\n",
    "\n",
    "### Rešitev\n",
    "\n",
    "Najprej ugotovimo širino."
   ]
  },
  {
   "cell_type": "code",
   "execution_count": 4,
   "id": "7efcb188",
   "metadata": {},
   "outputs": [],
   "source": [
    "sirina = None\n",
    "for _, x1, _ in ovire:\n",
    "    if sirina == None or x1 > sirina:\n",
    "        sirina = x1"
   ]
  },
  {
   "cell_type": "markdown",
   "id": "c1f5e039",
   "metadata": {},
   "source": [
    "Tu je zanimivo poimenovanje spremenljivk: iz trojke potrebujemo le srednjo spremenljivko. Lahko bi obdržali `x0, x1, yn`, vendar `x0` in `xn` ne potrebujemo, zato ju preimenujemo v `_` - kar je običajno ime za spremenljivko, ki je ne potrebujemo in je tam le zato, ker pač mora biti.\n",
    "\n",
    "Nadaljevanje rešitve pa je takšno: obvezna naloga išče globino za določen `x`. Tu pa moramo toisto reč ponoviti za vse `x` od `1` do `sirina`.\n",
    "\n",
    "To lahko naredimo tako, da ves prejšnji program skopiramo znotraj zanke `while`, v kateri povečujemo `x`\n",
    "\n",
    "```python\n",
    "x = 1\n",
    "while x <= sirina:\n",
    "    ... prejšnji program ...\n",
    "    x += 1\n",
    "```\n",
    "\n",
    "ali pa, če že znamo, uporabimo zanko `for` in `range`\n",
    "\n",
    "```python\n",
    "for x in range(1, sirina + 1):\n",
    "    ... prejšnji program ...\n",
    "```\n",
    "\n",
    "A to ni vse: ni dovolj le ponavljati prejšnjega programa za vsak `x`, temveč si moramo zapomniti, kakšen je bil največji dobljeni `ymin` in kakšen je bil pripadajoči `x`. Se pravi\n",
    "\n",
    "```python\n",
    "naj_y = naj_x = 0\n",
    "for x in range(1, sirina + 1):\n",
    "    ... prejšnji program ...\n",
    "    if ymin > naj_y:\n",
    "        naj_y = ymin\n",
    "        naj_x = x\n",
    "        \n",
    "print(naj_x, naj_y)\n",
    "```\n",
    "\n",
    "V začetku smo, zvito, nastavili `naj_y` na `0`, da nam ni potrebno zapletati z `None`. Upamo, da bomo vsaj enkrat nekam prišli.\n",
    "\n",
    "Manjka pa še nekaj: kaj če pridemo v katerem od stolpcev do konca? V tem primeru moramo izpisati, da smo zmagali.\n",
    "\n",
    "Kako bomo vedeli, da smo v \"prejšnjem programu\" prišli do konca? `ymin` bo v tem primeru ostal `None`. Torej potrebujemo tole:\n",
    "\n",
    "```python\n",
    "naj_y = naj_x = 0\n",
    "for x in range(1, sirina + 1):\n",
    "    ... prejšnji program ...\n",
    "    if ymin == None or ymin > naj_y:\n",
    "        naj_y = ymin\n",
    "        naj_x = x\n",
    "        if ymin == None:\n",
    "            break\n",
    "        \n",
    "if ymin == None:\n",
    "    print(naj_x, \"Zmaga!\")\n",
    "else:\n",
    "    print(naj_x, naj_y)\n",
    "```\n",
    "\n",
    "Najboljši y in x si zapomnimo, kadar je boljši od najboljšega doslej (`ymin > naj_y`) ali pa kadar nas pripelje do konca (`ymin == None`). V drugem primeru po tem, ko priredimo vrednosti `naj_y` in `naj_x` še prekinemo zanko. Po zanki preverimo, ali je potrebno izpisati številke ali deklarirati zmago.\n",
    "\n",
    "Obstaja seveda še kup drugih načinov, na primer:\n",
    "\n",
    "```python\n",
    "naj_y = naj_x = 0\n",
    "for x in range(1, sirina + 1):\n",
    "    ... prejšnji program ...\n",
    "    if ymin == None:\n",
    "        naj_y = \"Zmaga!\"\n",
    "        naj_x = x\n",
    "        break\n",
    "    if ymin > naj_y:\n",
    "        naj_y = ymin\n",
    "        naj_x = x\n",
    "\n",
    "print(naj_x, naj_y)\n",
    "```\n",
    "\n",
    "Zdaj ne potrebujemo `if` po zanki, saj preprosto priredimo `naj_y` niz `\"Zmaga!\"`, in ta se izpiše namesto številke. Ta rešitev mi sicer ni najbolj všeč; čeprav Python to dopušča, je vendarle lepo, da je `naj_y` po koncu programa bodisi vedno številka bodisi vedno niz, ne pa, da je to odvisno od izida.\n",
    "\n",
    "Druga različica je \n",
    "\n",
    "\n",
    "```python\n",
    "naj_y = naj_x = 0\n",
    "for x in range(1, sirina + 1):\n",
    "    ... prejšnji program ...\n",
    "    if ymin == None:\n",
    "        print(x, \"Zmaga!\")\n",
    "        break\n",
    "    if ymin > naj_y:\n",
    "        naj_y = ymin\n",
    "        naj_x = x\n",
    "else:\n",
    "    print(naj_x, naj_y)\n",
    "```\n",
    "\n",
    "`else` po zanki se, vemo, izvede, če se zanka ni končala z `break`. Če zmagamo, deklariramo zmago in `break`, sicer, če se to ne zgodi v nobeni iteraciji zanke, pa izpišemo najboljše, kar smo našli."
   ]
  }
 ],
 "metadata": {
  "kernelspec": {
   "display_name": "Python 3 (ipykernel)",
   "language": "python",
   "name": "python3"
  },
  "language_info": {
   "codemirror_mode": {
    "name": "ipython",
    "version": 3
   },
   "file_extension": ".py",
   "mimetype": "text/x-python",
   "name": "python",
   "nbconvert_exporter": "python",
   "pygments_lexer": "ipython3",
   "version": "3.9.7"
  }
 },
 "nbformat": 4,
 "nbformat_minor": 5
}
