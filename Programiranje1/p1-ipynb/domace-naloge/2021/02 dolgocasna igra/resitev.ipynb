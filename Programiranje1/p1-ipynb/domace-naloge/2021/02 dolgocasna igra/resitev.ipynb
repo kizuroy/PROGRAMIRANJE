{
 "cells": [
  {
   "cell_type": "markdown",
   "metadata": {},
   "source": [
    "<img style=\"float: right\" src=\"data:image/.png;base64,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\"/>\n",
    "\n",
    "Imamo krožno ploščo s polji, oštevilčenimi od 0 do 5 (ker računalnikarji štejemo od 0 in ne od 1). Začnemo na polju 0 in mečemo kocko. Recimo, da vržemo najprej 2 (smo na polju 2), nato 3 (smo na polju 5), nato 4 (smo na polju 3, ker je plošča - za razliko od Zemlje - okrogla), nato vržemo 2 (spet smo na polju 5) ..."
   ]
  },
  {
   "cell_type": "markdown",
   "metadata": {},
   "source": [
    "## Obvezna naloga\n",
    "\n",
    "Napišite program, ki simulira takšno igro in izpiše število metov, po katerem pridemo stotič na polje 5.\n",
    "\n",
    "Kocko bomo simulirali takole:\n",
    "\n",
    "```python\n",
    "from random import *\n",
    "seed(8)\n",
    "```\n",
    "\n",
    "Po tem bo vsak klic funkcije `randint(1, 6)` vrnil naključno število med 1 in 6.\n",
    "\n",
    "Program\n",
    "\n",
    "```python\n",
    "print(randint(1, 6))\n",
    "print(randint(1, 6))\n",
    "print(randint(1, 6))\n",
    "print(randint(1, 6))\n",
    "```\n",
    "\n",
    "izpiše (slučajno ravno)\n",
    "\n",
    "```\n",
    "2\n",
    "3\n",
    "4\n",
    "2\n",
    "```\n",
    "\n",
    "Ker bo kocka padala vedno enako (zaradi `seed(8)`, ki nastavi generator naključnih števil na neko začetno stanje; namesto 8 bi lahko uporabili poljubno drugo število in potem dobili drugačno, a spet vedno enako, zaporedje naključnih števil) , lahko izdam, kaj mora izpisati program: 626.\n",
    "\n",
    "### Rešitev\n",
    "\n",
    "Pojdimo lepo počasi. Najprej samo izpišimo deset metov."
   ]
  },
  {
   "cell_type": "code",
   "execution_count": 1,
   "metadata": {},
   "outputs": [
    {
     "name": "stdout",
     "output_type": "stream",
     "text": [
      "2\n",
      "3\n",
      "4\n",
      "2\n",
      "2\n",
      "6\n",
      "1\n",
      "1\n",
      "2\n",
      "2\n"
     ]
    }
   ],
   "source": [
    "from random import *\n",
    "seed(8)\n",
    "\n",
    "metov = 0\n",
    "while metov < 10:\n",
    "    met = randint(1, 6)\n",
    "    print(met)\n",
    "    metov += 1"
   ]
  },
  {
   "cell_type": "markdown",
   "metadata": {},
   "source": [
    "Zdaj pa izpisujmo še pozicijo figure. Ta se po vsakem metu poveča za toliko, kolikor smo vrgli."
   ]
  },
  {
   "cell_type": "code",
   "execution_count": 2,
   "metadata": {},
   "outputs": [
    {
     "name": "stdout",
     "output_type": "stream",
     "text": [
      "2 2\n",
      "3 5\n",
      "4 9\n",
      "2 11\n",
      "2 13\n",
      "6 19\n",
      "1 20\n",
      "1 21\n",
      "2 23\n",
      "2 25\n"
     ]
    }
   ],
   "source": [
    "from random import *\n",
    "seed(8)\n",
    "\n",
    "metov = 0\n",
    "pozicija = 0\n",
    "\n",
    "while metov < 10:\n",
    "    met = randint(1, 6)\n",
    "    pozicija = pozicija + met\n",
    "    print(met, pozicija)\n",
    "    metov += 1"
   ]
  },
  {
   "cell_type": "markdown",
   "metadata": {},
   "source": [
    "To očitno ne bo v redu: največja številka polja je 5, nato pridemo okrog, torej moramo zmanjšati pozicijo za 6."
   ]
  },
  {
   "cell_type": "code",
   "execution_count": 3,
   "metadata": {},
   "outputs": [
    {
     "name": "stdout",
     "output_type": "stream",
     "text": [
      "2 2\n",
      "3 5\n",
      "4 3\n",
      "2 5\n",
      "2 1\n",
      "6 1\n",
      "1 2\n",
      "1 3\n",
      "2 5\n",
      "2 1\n"
     ]
    }
   ],
   "source": [
    "from random import *\n",
    "seed(8)\n",
    "\n",
    "metov = 0\n",
    "pozicija = 0\n",
    "\n",
    "while metov < 10:\n",
    "    met = randint(1, 6)\n",
    "    pozicija = pozicija + met\n",
    "    if pozicija > 5:\n",
    "        pozicija -= 6\n",
    "    print(met, pozicija)\n",
    "    metov += 1"
   ]
  },
  {
   "cell_type": "markdown",
   "metadata": {},
   "source": [
    "Isto se da doseči tudi na preprostejši način: uporabimo ostanek po deljenju."
   ]
  },
  {
   "cell_type": "code",
   "execution_count": 4,
   "metadata": {},
   "outputs": [
    {
     "name": "stdout",
     "output_type": "stream",
     "text": [
      "2 2\n",
      "3 5\n",
      "4 3\n",
      "2 5\n",
      "2 1\n",
      "6 1\n",
      "1 2\n",
      "1 3\n",
      "2 5\n",
      "2 1\n"
     ]
    }
   ],
   "source": [
    "from random import *\n",
    "seed(8)\n",
    "\n",
    "metov = 0\n",
    "pozicija = 0\n",
    "\n",
    "while metov < 10:\n",
    "    met = randint(1, 6)\n",
    "    pozicija = (pozicija + met) % 6\n",
    "    print(met, pozicija)\n",
    "    metov += 1"
   ]
  },
  {
   "cell_type": "markdown",
   "metadata": {},
   "source": [
    "Če je `pozicija + met` več kot `5`, bo imel `% 6` enak učinek kot odštevanje `6`. Če je `pozicija + met` manjša od `6`, pa `% 6` ne bo storil ničesar.\n",
    "\n",
    "Zdaj pa moramo šteti, kolikokrat smo se znašli na polju 5. Za to potrebujemo še eno spremenljivko."
   ]
  },
  {
   "cell_type": "code",
   "execution_count": 5,
   "metadata": {},
   "outputs": [
    {
     "name": "stdout",
     "output_type": "stream",
     "text": [
      "2 2 0\n",
      "3 5 1\n",
      "4 3 1\n",
      "2 5 2\n",
      "2 1 2\n",
      "6 1 2\n",
      "1 2 2\n",
      "1 3 2\n",
      "2 5 3\n",
      "2 1 3\n"
     ]
    }
   ],
   "source": [
    "from random import *\n",
    "seed(8)\n",
    "\n",
    "metov = 0\n",
    "pozicija = 0\n",
    "na_5 = 0\n",
    "\n",
    "while metov < 10:\n",
    "    met = randint(1, 6)\n",
    "    pozicija = (pozicija + met) % 6\n",
    "    if pozicija == 5:\n",
    "        na_5 += 1\n",
    "    print(met, pozicija, na_5)\n",
    "    metov += 1"
   ]
  },
  {
   "cell_type": "markdown",
   "metadata": {},
   "source": [
    "Izpis je videti pravilen: tretja številka je najprej 0, ko se prvič znajdemo na polju 5, se spremeni v 1, ko drugič, na 2, in potem ostane 2, dokler ne pridemo tretjič na polje 5.\n",
    "\n",
    "Zdaj, ko vidimo, da to deluje, popravimo pogoj pri zanki `while`: namesto da izvede deset metov, mora teči toliko časa, dokler `na_5` ne doseže 100. V zanki ne bomo več ničesar izpisovali, pač pa po zanki izpišemo število metov."
   ]
  },
  {
   "cell_type": "code",
   "execution_count": 6,
   "metadata": {},
   "outputs": [
    {
     "name": "stdout",
     "output_type": "stream",
     "text": [
      "690\n"
     ]
    }
   ],
   "source": [
    "from random import *\n",
    "seed(8)\n",
    "\n",
    "metov = 0\n",
    "pozicija = 0\n",
    "na_5 = 0\n",
    "\n",
    "while na_5 < 100:\n",
    "    met = randint(1, 6)\n",
    "    pozicija = (pozicija + met) % 6\n",
    "    if pozicija == 5:\n",
    "        na_5 += 1\n",
    "    metov += 1\n",
    "    \n",
    "print(metov)"
   ]
  },
  {
   "cell_type": "markdown",
   "metadata": {},
   "source": [
    "In to je rešitev naše naloge.\n",
    "\n",
    "#### Tipične napake\n",
    "\n",
    "Tipični trdovratnejši napaki sta bili dve.\n",
    "\n",
    "Nekateri niso znali pravilno postaviti pogoja pri `while`. Videl sem pogoje, ki so bili resnični vedno, na primer `while 0 <= pozicija <= 6` in pogoje, ki niso bili resnični v začetku, na primer `while na_5 == 100`. V prvem primeru se zanka nikoli ne ustavi, v drugem primeru se nikoli ne izvede. V prvem primeru so bili pogoji pogosto zelo čudni, kar morda namiguje na to, da nekateri niso vedeli, kaj bi napisali in so napisali ... kar nekaj, ker pogoj pač mora biti. Ta strategija programiranja navadno ni uspešna. :) Drugi primer kaže na manj nevarno napako, na nerazumevanje pomena pogoja. Zanka se izvaja, **dokler** je pogoj resničen in ne **do takrat,** ko se pogoj uresniči.\n",
    "\n",
    "Druga pogosta napaka je bila tale. Študent namesto `pozicija = (pozicija + met) % 6` napiše pogoj in odštevanje, kot smo ga tudi v tej rešitve napisali na začetku, torej `pozicija = pozicija + met` in na to `if pozicija > 5: pozicija -= 6`. S tem ni še nič narobe. Pač pa so naredili napako v nadaljevanju."
   ]
  },
  {
   "cell_type": "code",
   "execution_count": 7,
   "metadata": {},
   "outputs": [
    {
     "name": "stdout",
     "output_type": "stream",
     "text": [
      "791\n"
     ]
    }
   ],
   "source": [
    "from random import *\n",
    "seed(8)\n",
    "\n",
    "metov = 0\n",
    "pozicija = 0\n",
    "na_5 = 0\n",
    "\n",
    "while na_5 < 100:\n",
    "    met = randint(1, 6)\n",
    "    pozicija += met\n",
    "    if pozicija == 5:\n",
    "        na_5 += 1\n",
    "    if pozicija > 5:\n",
    "        pozicija -= 6\n",
    "    metov += 1\n",
    "    \n",
    "print(metov)"
   ]
  },
  {
   "cell_type": "markdown",
   "metadata": {},
   "source": [
    "Ta program izpiše preveliko število potrebnih metov, 791. Študentom, ki so naredili to napako ter niso znali naprej in so mi pisali, sem svetoval, da pred pogoj `if pozicija == 5` dodajo `print(pozicija)`. V izpisu so se pojavljale številke večje od 5, kar jim je, upam, dalo razmisliti tole: do napake pride v primeru, da smo na polju 5 in vržemo 6. V tem primeru je `pozicija` enaka `11`. To je v resnici `5`, vendar ta program odšteje `6` šele *po tem*, ko preveri, ali je pozicija enaka 5.\n",
    "\n",
    "Vrstni red pogojev je potrebno zamenjati: najprej popravimo pozicijo in šele nato primerjamo, ali je enaka 5."
   ]
  },
  {
   "cell_type": "code",
   "execution_count": 8,
   "metadata": {},
   "outputs": [
    {
     "name": "stdout",
     "output_type": "stream",
     "text": [
      "690\n"
     ]
    }
   ],
   "source": [
    "from random import *\n",
    "seed(8)\n",
    "\n",
    "metov = 0\n",
    "pozicija = 0\n",
    "na_5 = 0\n",
    "\n",
    "while na_5 < 100:\n",
    "    met = randint(1, 6)\n",
    "    pozicija += met\n",
    "    if pozicija > 5:\n",
    "        pozicija -= 6\n",
    "    if pozicija == 5:\n",
    "        na_5 += 1\n",
    "    metov += 1\n",
    "    \n",
    "print(metov)"
   ]
  },
  {
   "cell_type": "markdown",
   "metadata": {},
   "source": [
    "## Dodatna naloga\n",
    "\n",
    "Funkcijo `seed` lahko v programu pokličemo večkrat in tako nastavljamo generator naključnih števil na različna začetna stanja. \n",
    "\n",
    "Napiši program, ki preveri vse možne začetne nastavitve od `0` do `999` in odigra igro. V vsaki igri bomo potrebovali različno število metov do stotega prihoda na polje 5. Program naj izpiše, kakšno je bilo minimalno število metov, potrebnih v eni od teh 1000 iger.\n",
    "\n",
    "### Rešitev\n",
    "\n",
    "Celoten program, razen `import`-a moramo zapreti v novo zanko, ki teče prek različnih semen. Za vsako seme, izvedemo notranjo zanko in preverimo, ali je število metov manjše od najmanjšega, ki smo ga videli doslej."
   ]
  },
  {
   "cell_type": "code",
   "execution_count": 9,
   "metadata": {},
   "outputs": [
    {
     "name": "stdout",
     "output_type": "stream",
     "text": [
      "446\n"
     ]
    }
   ],
   "source": [
    "from random import *\n",
    "\n",
    "najmanj = 1000000000\n",
    "seme = 0\n",
    "while seme < 1000:\n",
    "    seed(seme)\n",
    "\n",
    "    metov = 0\n",
    "    pozicija = 0\n",
    "    na_5 = 0\n",
    "\n",
    "    while na_5 < 100:\n",
    "        met = randint(1, 6)\n",
    "        pozicija += met\n",
    "        if pozicija > 5:\n",
    "            pozicija -= 6\n",
    "        if pozicija == 5:\n",
    "            na_5 += 1\n",
    "        metov += 1\n",
    "\n",
    "    if metov < najmanj:\n",
    "        najmanj = metov\n",
    "        \n",
    "    seme += 1\n",
    "\n",
    "print(najmanj)"
   ]
  },
  {
   "cell_type": "markdown",
   "metadata": {},
   "source": [
    "Zunanjo zanko `while` bomo nadomestili s `for`, vendar se o njej učimo šele v tednu po tej nalogi."
   ]
  }
 ],
 "metadata": {
  "kernelspec": {
   "display_name": "Python 3",
   "language": "python",
   "name": "python3"
  },
  "language_info": {
   "codemirror_mode": {
    "name": "ipython",
    "version": 3
   },
   "file_extension": ".py",
   "mimetype": "text/x-python",
   "name": "python",
   "nbconvert_exporter": "python",
   "pygments_lexer": "ipython3",
   "version": "3.7.4"
  }
 },
 "nbformat": 4,
 "nbformat_minor": 4
}
