{
 "cells": [
  {
   "cell_type": "markdown",
   "metadata": {},
   "source": [
    "V oni stari nalogi imamo dva vrča; v vrč `a` gre 7 litrov in v vrč `b` gredo 4 litri. Vodo lahko točimo:\n",
    "\n",
    "- iz jezera v vrč, pri čemer vrč vedno napolnimo do vrha;\n",
    "- iz vrča v jezero, pri čemer vrč vedno popolnoma izpraznimo;\n",
    "- iz vrča v vrč, pri čemer točimo toliko časa, da je vrč, v katerega točimo, poln, ali pa vrč, iz katerega točimo, prazen - karkoli od tega se zgodi prej.\n",
    "\n",
    "Naloga običajno zahteva, da z vrčema namerimo določeno količino vode, na primer dva litra. Naša ni takšna.\n",
    "\n",
    "## Obvezna naloga\n",
    "\n",
    "Tole je skoraj bolj naloga iz pogojev kot iz zank.\n",
    "\n",
    "Zaporedje pretakanj naj bo podano takole (te vrstice skopiraj na začetek programa):\n",
    "\n",
    "```\n",
    "poteze = [(\"j\", \"a\"), (\"a\", \"b\"), (\"b\", \"j\"), (\"a\", \"b\"), (\"j\", \"a\"),\n",
    "          (\"a\", \"b\"), (\"b\", \"j\"), (\"a\", \"b\"), (\"a\", \"j\"), (\"b\", \"a\"),\n",
    "          (\"j\", \"a\"), (\"a\", \"j\")]\n",
    "```\n",
    "\n",
    "Pri tem prvi element para pove, odkod točimo, drugi pa, kam. Napiši program, ki simulira takšno pretakanje in sproti poroča, koliko vode je v katerem vrču. Za gornji primer mora izpisati:\n",
    "\n",
    "```\n",
    "a: 7 b: 0\n",
    "a: 3 b: 4\n",
    "a: 3 b: 0\n",
    "a: 0 b: 3\n",
    "a: 7 b: 3\n",
    "a: 6 b: 4\n",
    "a: 6 b: 0\n",
    "a: 2 b: 4\n",
    "a: 0 b: 4\n",
    "a: 4 b: 0\n",
    "a: 7 b: 0\n",
    "a: 0 b: 0\n",
    "```\n",
    "\n",
    "### Rešitev\n",
    "\n",
    "Zelo malo imamo komentirati.\n",
    "\n",
    "- Shranjevati moramo stanje obeh vrčev; spremenljivki bomo poimenovali `a` in `b`.\n",
    "- Zanko, s katero gremo čez vrče, najlepše zapišemo kot `for odkod, kam in poteze`; `odkod` in `kam` lahko seveda poimenujemo drugače, bistveno je, da gremo čez seznam parov in ga razpakiramo v dve spremenljivk.\n",
    "- Znotraj zanke moramo obravnavati vse možne poteze. To bomo počeli bodisi s pogojnimi stavki oblike `if odkod == \"a\" and kam == \"b\"`, ali pa ločenima gnezdenima pogojema, `if odkod == \"a\"` in znotraj tega `if kam == \"b\"`. Spodnji program uporablja slednje.\n",
    "- Pri nekaterih potezah moramo preverjati, ali prej zmanjka vode ali posode. Za to poskrbi še en `if`.\n",
    "- Pri nekaterih `else` sem v komentar, ki mu sledi, dopisal, kateri primer pokriva. To je dobra praksa, ki poveča čitljivost programa."
   ]
  },
  {
   "cell_type": "code",
   "execution_count": 4,
   "metadata": {},
   "outputs": [
    {
     "name": "stdout",
     "output_type": "stream",
     "text": [
      "a: 7 b: 0\n",
      "a: 3 b: 4\n",
      "a: 3 b: 0\n",
      "a: 0 b: 3\n",
      "a: 7 b: 3\n",
      "a: 6 b: 4\n",
      "a: 6 b: 0\n",
      "a: 2 b: 4\n",
      "a: 0 b: 4\n",
      "a: 4 b: 0\n",
      "a: 7 b: 0\n",
      "a: 0 b: 0\n"
     ]
    }
   ],
   "source": [
    "poteze = [(\"r\", \"a\"), (\"a\", \"b\"), (\"b\", \"j\"), (\"a\", \"b\"), (\"j\", \"a\"), (\"a\", \"b\"),\n",
    "          (\"b\", \"j\"), (\"a\", \"b\"), (\"a\", \"j\"), (\"b\", \"a\"), (\"j\", \"a\"), (\"a\", \"j\")]\n",
    "\n",
    "a = b = 0\n",
    "for odkod, kam in poteze:\n",
    "    if odkod == \"a\":\n",
    "        if kam == \"b\":\n",
    "            if b + a > 4:\n",
    "                a -= 4 - b\n",
    "                b = 4\n",
    "            else:\n",
    "                b += a\n",
    "                a = 0\n",
    "        else:\n",
    "            a = 0\n",
    "    elif odkod == \"b\":\n",
    "        if kam == \"a\":\n",
    "            if b + a > 7:\n",
    "                b -= 7 - a\n",
    "                a = 7\n",
    "            else:\n",
    "                a += b\n",
    "                b = 0\n",
    "        else:\n",
    "            b = 0\n",
    "    else:  # odkod == \"j\"\n",
    "        if kam == \"a\":\n",
    "            a = 7\n",
    "        else:  # kam == \"b\"\n",
    "            b = 4\n",
    "    print(\"a:\", a, \"b:\", b)\n"
   ]
  },
  {
   "cell_type": "markdown",
   "metadata": {},
   "source": [
    "Se da kaj poenostaviti? Pogojev pri pretakanju med posodama se da izogniti z uporabo funkcije `min`: pretočimo toliko, kolikor je v `a` ali toliko, kolikor gre v `b`, kar je pač manjše."
   ]
  },
  {
   "cell_type": "code",
   "execution_count": 5,
   "metadata": {},
   "outputs": [
    {
     "name": "stdout",
     "output_type": "stream",
     "text": [
      "a: 7 b: 0\n",
      "a: 3 b: 4\n",
      "a: 3 b: 0\n",
      "a: 0 b: 3\n",
      "a: 7 b: 3\n",
      "a: 6 b: 4\n",
      "a: 6 b: 0\n",
      "a: 2 b: 4\n",
      "a: 0 b: 4\n",
      "a: 4 b: 0\n",
      "a: 7 b: 0\n",
      "a: 0 b: 0\n"
     ]
    }
   ],
   "source": [
    "poteze = [(\"r\", \"a\"), (\"a\", \"b\"), (\"b\", \"j\"), (\"a\", \"b\"), (\"j\", \"a\"), (\"a\", \"b\"),\n",
    "          (\"b\", \"j\"), (\"a\", \"b\"), (\"a\", \"j\"), (\"b\", \"a\"), (\"j\", \"a\"), (\"a\", \"j\")]\n",
    "\n",
    "a = b = 0\n",
    "for odkod, kam in poteze:\n",
    "    if odkod == \"a\":\n",
    "        if kam == \"b\":\n",
    "            kolicina = min(a, 4 - b)\n",
    "            a, b = a - kolicina, b + kolicina\n",
    "        else:\n",
    "            a = 0\n",
    "    elif odkod == \"b\":\n",
    "        if kam == \"a\":\n",
    "            kolicina = min(b, 7 - a)\n",
    "            a, b = a + kolicina, b - kolicina\n",
    "        else:\n",
    "            b = 0\n",
    "    else:  # odkod == \"j\"\n",
    "        if kam == \"a\":\n",
    "            a = 7\n",
    "        else:  # kam == \"b\"\n",
    "            b = 4\n",
    "    print(\"a:\", a, \"b:\", b)\n"
   ]
  },
  {
   "cell_type": "markdown",
   "metadata": {},
   "source": [
    "Morda pa je preprosteje, če obravnavamo posamične primere brez gnezdenja pogojev? In celo če, v nasprotju z vsem, kar poskušam študentom vbiti v glavo, *ne razpakiramo* terke?"
   ]
  },
  {
   "cell_type": "code",
   "execution_count": 6,
   "metadata": {},
   "outputs": [
    {
     "name": "stdout",
     "output_type": "stream",
     "text": [
      "a: 0 b: 0\n",
      "a: 0 b: 0\n",
      "a: 0 b: 0\n",
      "a: 0 b: 0\n",
      "a: 7 b: 0\n",
      "a: 3 b: 4\n",
      "a: 3 b: 0\n",
      "a: 0 b: 3\n",
      "a: 0 b: 3\n",
      "a: 3 b: 0\n",
      "a: 7 b: 0\n",
      "a: 0 b: 0\n"
     ]
    }
   ],
   "source": [
    "a = b = 0\n",
    "for poteza in poteze:\n",
    "    if poteza == (\"j\", \"a\"):\n",
    "        a = 7\n",
    "    if poteza == (\"j\", \"b\"):\n",
    "        b = 7\n",
    "    if poteza == (\"a\", \"j\"):\n",
    "        a = 0\n",
    "    if poteza == (\"b\", \"j\"):\n",
    "        b = 0\n",
    "    if poteza == (\"a\", \"b\"):\n",
    "        a, b = a - min(a, 4 - b), b + min(a, 4 - b)\n",
    "    if poteza == (\"b\", \"a\"):\n",
    "        a, b = a + min(b, 7 - a), b - min(b, 7 - a)\n",
    "    print(\"a:\", a, \"b:\", b)"
   ]
  },
  {
   "cell_type": "markdown",
   "metadata": {},
   "source": [
    "Hm, pravzaprav je bilo tole res preprosteje.\n",
    "\n",
    "V Pythonu 3.10 pa lahko uporabimo novi stavek `match`, ki program še malo skrajša."
   ]
  },
  {
   "cell_type": "code",
   "execution_count": 7,
   "metadata": {},
   "outputs": [
    {
     "name": "stdout",
     "output_type": "stream",
     "text": [
      "a: 0 b: 0\n",
      "a: 0 b: 0\n",
      "a: 0 b: 0\n",
      "a: 0 b: 0\n",
      "a: 7 b: 0\n",
      "a: 3 b: 4\n",
      "a: 3 b: 0\n",
      "a: 0 b: 3\n",
      "a: 0 b: 3\n",
      "a: 3 b: 0\n",
      "a: 7 b: 0\n",
      "a: 0 b: 0\n"
     ]
    }
   ],
   "source": [
    "a = b = 0\n",
    "for poteza in poteze:\n",
    "    match poteza:\n",
    "        case \"j\", \"a\":\n",
    "            a = 7\n",
    "        case \"j\", \"b\":\n",
    "            b = 7\n",
    "        case \"a\", \"j\":\n",
    "            a = 0\n",
    "        case \"b\", \"j\":\n",
    "            b = 0\n",
    "        case \"a\", \"b\":\n",
    "            a, b = a - min(a, 4 - b), b + min(a, 4 - b)\n",
    "        case \"b\", \"a\":\n",
    "            a, b = a + min(b, 7 - a), b - min(b, 7 - a)\n",
    "    print(\"a:\", a, \"b:\", b)"
   ]
  },
  {
   "cell_type": "markdown",
   "metadata": {},
   "source": [
    "## Dodatna naloga\n",
    "\n",
    "Zdaj pa obratno: imamo zaporedje stanj vrčev, podanih s seznamom terk, na primer.\n",
    "\n",
    "```\n",
    "stanja = [(7, 0), (3, 4), (3, 0), (0, 3), (7, 3), (6, 4),\n",
    "          (6, 0), (2, 4), (0, 4), (4, 0), (7, 0), (0, 0)]\n",
    "```\n",
    "\n",
    "Napiši program, ki za takšno zaporedje izpiše pripadajoči vrstni red pretakanj. Izpis naj bo v takšni obliki:\n",
    "\n",
    "```\n",
    "j a\n",
    "a b\n",
    "b j\n",
    "a b\n",
    "j a\n",
    "a b\n",
    "b j\n",
    "a b\n",
    "a j\n",
    "b a\n",
    "j a\n",
    "a j\n",
    "```\n",
    "\n",
    "### Rešitev\n",
    "\n",
    "Osnovna ideja je, da moramo primerjati prejšnje in novo stanje ter izpisati ustrezno spremembo."
   ]
  },
  {
   "cell_type": "code",
   "execution_count": 8,
   "metadata": {},
   "outputs": [
    {
     "name": "stdout",
     "output_type": "stream",
     "text": [
      "j a\n",
      "a b\n",
      "b j\n",
      "a b\n",
      "j a\n",
      "a b\n",
      "b j\n",
      "a b\n",
      "a j\n",
      "b a\n",
      "j a\n",
      "a j\n"
     ]
    }
   ],
   "source": [
    "seq = [(7, 0), (3, 4), (3, 0), (0, 3), (7, 3), (6, 4), (6, 0), (2, 4), (0, 4), (4, 0), (7, 0), (0, 0)]\n",
    "a = b = 0\n",
    "\n",
    "for na, nb in seq:  # na in nb sta novi a in novi b\n",
    "    if a == na:  # a je ostal enak, nekaj se dogaja z b\n",
    "        if nb == 0:\n",
    "            print(\"b j\")\n",
    "        else:\n",
    "            print(\"j b\")\n",
    "    elif b == nb:  # b je ostal enak, nekaj se dogaja z a\n",
    "        if na == 0:\n",
    "            print(\"a j\")\n",
    "        else:\n",
    "            print(\"j a\")\n",
    "    else:  # sicer točimo med posodama\n",
    "        if na > a:  # količina v a se je povečala ...\n",
    "            print(\"b a\")\n",
    "        else:\n",
    "            print(\"a b\")\n",
    "    a, b = na, nb\n"
   ]
  }
 ],
 "metadata": {
  "kernelspec": {
   "display_name": "Python 3 (ipykernel)",
   "language": "python",
   "name": "python3"
  },
  "language_info": {
   "codemirror_mode": {
    "name": "ipython",
    "version": 3
   },
   "file_extension": ".py",
   "mimetype": "text/x-python",
   "name": "python",
   "nbconvert_exporter": "python",
   "pygments_lexer": "ipython3",
   "version": "3.10.0"
  }
 },
 "nbformat": 4,
 "nbformat_minor": 4
}
