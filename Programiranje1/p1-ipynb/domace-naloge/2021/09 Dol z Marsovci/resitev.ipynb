{
 "cells": [
  {
   "cell_type": "markdown",
   "id": "68d9b1f8",
   "metadata": {},
   "source": [
    "Marsovci še kar najedajo. Zdaj so se parkirali pred Zemljo in imajo očitno slabe namene. Na srečo je Slovenska vojska pripravljena na vse: na strateških mestih ima parkirane ČNVL-je (Čisto nevidne vesoljske ladje), ki bodo uničile marsovsko floto. Manjka jim le še strateški načrt. Ta je predmet te domače naloge.\n",
    "\n",
    "Za razumevanje naloge si najprej oglejte animacijo. Marsovske ladje so predstavljene s krogci, hrabri ČNVL pa s kvadratki.\n",
    "\n",
    "<iframe width=\"640\" height=\"396\" src=\"https://www.youtube.com/embed/cToKh-qK7JY\" title=\"YouTube video player\" frameborder=\"0\" allow=\"accelerometer; autoplay; clipboard-write; encrypted-media; gyroscope; picture-in-picture\" allowfullscreen></iframe>\n",
    "\n",
    "## O testih\n",
    "\n",
    "V testih so funkcije že zastavljene: imajo nekaj dokumentacije v enem od običajnih oblik, poleg tega pa so označeni tipi argumentov in rezultatov. Če tega ne razumeš, ignoriraj. Če razumeš, ti lahko služi kot dodatna dokumentacija.\n",
    "\n",
    "Ker je vrstni red elementov seznamov, ki jih vračajo tvoje funkcije včasih poljuben, bodo testne funkcije včasih uredile rezultat tvoje funkcije in ga primerjale z urejenim pričakovanim rezultatom. Naj te to ne zmede: funkciji ni potrebno ničesar urejati.\n",
    "\n",
    "Če tvoja funkcija vrača seznam, kjer testi pričakujejo terko, se bodo (najbrž) pritožili. Bodi pozoren na oklepaje v izpisu.\n",
    "\n",
    "`(3)` ni terka temveč samo `3` v oklepaju. `(3, )` je terka.\n",
    "\n",
    "Če test pričakuje, da bo funkcija vrnila `[(4 + 6) / 2, (3 + 9) / 3]`, seveda pričakuje `[5, 4]`. V tej obliki je zapisano le, da lažje razberemo, kaj mora funkcija računati.\n",
    "\n",
    "Test zadnje funkcije deluje tako, da razpostavi naključne množice s po 20 točkami v bližini treh vnaprej izbranih točk. Nato izračuna središče vsake od teh množic. Te točke predstavljajo skupine marsovcev, ki jih mora odkriti funkcija. Pričakovati je, da bo v 100 poskusih gotovo vsaj enkrat (najbrž pa 90-krat) našla pravi razpored.\n",
    "\n",
    "## Za oceno 6\n",
    "\n",
    "- Napiši funkcijo `razdalja(x, y)`, ki prejme terki s koordinatami dveh točk in vrne evklidsko razdaljo med njimi. Da bomo pripravljeni tudi na transdimenzionalna bitja, je dimenzija točk lahko poljubna (od 1 do kolikor je treba). Razdaljo v večdimenzionalnem prostoru računamo podobno kot v dvo- ali tridimenzionalnem\n",
    "\n",
    "    $$d(x, y) = \\sqrt{\\sum_{i=0}^{n-1}(x_i - y_i)^2}$$\n",
    "\n",
    "    - Klic `razdalja((5, 12), (2, 16))` vrne 5 (to je, $\\sqrt{(5 - 2)^2 + (12 - 16)^2} = \\sqrt{3^2 + 4^2}$).\n",
    "    - Klic `razdalja((5, ), (8, )` (razdalja na premici) vrne 3 (to je $\\sqrt{(5 - 8)^2}$).\n",
    "    - Klic `razdalja((1, 7, 4, 2, 6, -7, 4),\n",
    "                     (-1, 10, 5, 2, 6, -8, 3)` (razdalja v 7-dimenzionalnem prostoru) vrne 4.\n",
    "\n",
    "- Napiši funkcijo `najblizja(marsovec, ladje)`, ki dobi terko s koordinatami marsovske ladje in seznam terk s položaji naših ladij, ČNVL-jev. Vrniti mora koordinate najbližjega ČNVL-a. (Ta bo zadolžen za napad na to marsovsko ladjo.)\n",
    "\n",
    "    - Klic `najblizja((1, 1), [(0, 0), (5, 2), (-8, 3)]` vrne `(0, 0)`, saj je marsovski ladji na koordinatah `(1, 1)` najbližji ČNVL na koordinatah `(0, 0)`. \n",
    "    - Klic `najblizja((-7, 2, 5, 1),\n",
    "                      [(0, 0, 5, 2), (5, 2, 5, 2), (-8, 3, 5, 2)])` vrne `(-8, 3, 5, 2)`.\n",
    "\n",
    "- Napiši funkcijo `dodeli_ladje(marsovci, ladje)`, ki prejme seznam marsovskih in naših ladij. Vrniti mora seznam terk, ki je enako dolg kot seznam `marsovci`: i-ti element rezultata vsebuje koordinate ČNVL-ja, ki je najbližji i-ti marsovski ladji.\n",
    "\n",
    "    - Klic `dodeli_ladje([(1, 1), (0, 0), (-7, 2), (5, 1)],\n",
    "                                      [(0, 0), (5, 2), (-8, 3)])` vrne `[(0, 0), (0, 0), (-8, 3), (5, 2)]`, saj je prvima dvema marsovcema najbližji ČNVL na koordinatah `(0, 0)`, tretjemu ČNVL na `(-8, 3)`, četrtemu pa tisti na `(5, 2)`.\n",
    "\n",
    "- Napiši funkcijo `skupine_marsovcev(marsovci, ladje)`, ki vrne seznam množic terk s koordinatami marsovskih ladij. Bistvo te funkcije je grupiranje marsovskih ladij. Če bodo marsovke ladje uničevali trije ČNVL-je, se vsaka množica nanaša na enega od njih in vsebuje tiste ladje, ki jih bo uničil ta, pripadajoči ČNVL.\n",
    "\n",
    "    Vrstni red množic je lahko poljuben. Predpostaviti smeš, da bo vsak ČNVL uničil vsaj eno ladjo (oziroma: s tem vprašanjem se ne ukvarjaj.)\n",
    "\n",
    "    Klic\n",
    "\n",
    "    ```\n",
    "    skupine_marsovcev(\n",
    "        [(0, 1), (2, 2), (51, 52), (100, 100),\n",
    "         (1, 3), (4, 5), (45, 50), (103, 98)],\n",
    "        \n",
    "        [(0, 0), (50, 50), (100, 100)]))\n",
    "    ```\n",
    "\n",
    "    vrne\n",
    "\n",
    "    ```\n",
    "    [{(0, 1), (2, 2), (1, 3), (4, 5)},\n",
    "     {(100, 100), (103, 98)},\n",
    "     {(51, 52), (45, 50)}]\n",
    "    ```\n",
    "\n",
    "    Prva množica vsebuje koordinate marsovskih ladij, ki jih uniči NČVL na koordinatah `(0, 0)`, druga ladje, ki jih uniči NČVL na koordinatah `(100, 100)` in tretja tiste, ki jih uniči `(50, 50)`.\n",
    "\n",
    "    Funkcija v bistvu vrne množice koordinat ladij, ki so iste barve.\n",
    "\n",
    "    Namig: čeprav ni videti tako, ti bodo tu prišli prav slovarji.\n",
    "    \n",
    "### Rešitev\n",
    "\n",
    "#### `razdalja`\n",
    "\n",
    "Ker je število dimenzij poljubno, bomo kvadrate razlik seštevali z zanko."
   ]
  },
  {
   "cell_type": "code",
   "execution_count": 1,
   "id": "c7980655",
   "metadata": {},
   "outputs": [],
   "source": [
    "from math import sqrt\n",
    "\n",
    "def razdalja(x, y):\n",
    "    r = 0\n",
    "    for xi, yi in zip(x, y):\n",
    "        r += (xi - yi) ** 2\n",
    "    return sqrt(r)"
   ]
  },
  {
   "cell_type": "markdown",
   "id": "cd5361b6",
   "metadata": {},
   "source": [
    "Pravzprav pa znamo tudi preprosteje. (Ali bolj zapleteno, kakor za koga.)"
   ]
  },
  {
   "cell_type": "code",
   "execution_count": 2,
   "id": "dde352d1",
   "metadata": {},
   "outputs": [],
   "source": [
    "def razdalja(x, y):\n",
    "    return sqrt(sum((xi - yi) ** 2 for xi, yi in zip(x, y)))"
   ]
  },
  {
   "cell_type": "markdown",
   "id": "1ac2e2ad",
   "metadata": {},
   "source": [
    "#### `najblizja`\n",
    "\n",
    "Iskanje \"najboljšega\" elementa po določenem kriteriju je stara naloga."
   ]
  },
  {
   "cell_type": "code",
   "execution_count": 3,
   "id": "87aef3f3",
   "metadata": {},
   "outputs": [],
   "source": [
    "def najblizja(marsovec, ladje):\n",
    "    naj_ladja = naj_razdalja = None\n",
    "    for ladja in ladje:\n",
    "        razd = razdalja(marsovec, ladja)\n",
    "        if naj_razdalja is None or razd < naj_razdalja:\n",
    "            naj_razdalja = razd\n",
    "            naj_ladja = ladja\n",
    "    return naj_ladja"
   ]
  },
  {
   "cell_type": "markdown",
   "id": "7dbf63d5",
   "metadata": {},
   "source": [
    "Zanimivo je, da je precej študentov pozabljalo vrstico `naj_razdalja = razd`, zato so vrnili zadnjo ladjo, ki je bila bližja od prve ladje. Nerodno je, da tega niso odkrili testi za to funkcijo temveč šele testi za eno naslednjih. Pri pisanju testov je pač težko pomisliti na vse možne napake.\n",
    " \n",
    "Kdor zna nekaj več, pa je naredil tole:"
   ]
  },
  {
   "cell_type": "code",
   "execution_count": 4,
   "id": "33d168b9",
   "metadata": {},
   "outputs": [],
   "source": [
    "def najblizja(marsovec, ladje):\n",
    "    return min(ladje, key=lambda ladja: razdalja(marsovec, ladja))"
   ]
  },
  {
   "cell_type": "markdown",
   "id": "82fcda37",
   "metadata": {},
   "source": [
    "#### `dodeli_ladje`\n",
    "\n",
    "Gremo po seznamu marsovcev in v nov seznam zlagamo pripadajoče najbližje ladje."
   ]
  },
  {
   "cell_type": "code",
   "execution_count": 5,
   "id": "4a39dcd3",
   "metadata": {},
   "outputs": [],
   "source": [
    "def dodeli_ladje(marsovci, ladje):\n",
    "    dodelitev = []\n",
    "    for marsovec in marsovci:\n",
    "        dodelitev.append(najblizja(marsovec, ladje))\n",
    "    return dodelitev"
   ]
  },
  {
   "cell_type": "markdown",
   "id": "608cc6f8",
   "metadata": {},
   "source": [
    "Lahko pa tudi tako."
   ]
  },
  {
   "cell_type": "code",
   "execution_count": 6,
   "id": "8a30c81f",
   "metadata": {},
   "outputs": [],
   "source": [
    "def dodeli_ladje(marsovci, ladje):\n",
    "    return [najblizja(marsovec, ladje) for marsovec in marsovci]"
   ]
  },
  {
   "cell_type": "markdown",
   "id": "a662d764",
   "metadata": {},
   "source": [
    "#### `skupine_marsovcev`\n",
    "\n",
    "Tu se je najbolj splačalo sestaviti slovar, katerega ključi so naše ladje, pripadajoči seznami pa marsovske ladje, ki jih bo uničila ta naša ladja. Funkcija potem vrne seznam vrednosti v tem slovarju."
   ]
  },
  {
   "cell_type": "code",
   "execution_count": 7,
   "id": "bcff373d",
   "metadata": {},
   "outputs": [],
   "source": [
    "from collections import defaultdict\n",
    "\n",
    "\n",
    "def skupine_marsovcev(marsovci, ladje):\n",
    "    dodelitve = defaultdict(set)\n",
    "    for marsovec, ladje in zip(marsovci, dodeli_ladje(marsovci, ladje)):\n",
    "        dodelitve[ladje].add(marsovec)\n",
    "    return list(dodelitve.values())"
   ]
  },
  {
   "cell_type": "markdown",
   "id": "8fa006c1",
   "metadata": {},
   "source": [
    "## Za oceno 7\n",
    "\n",
    "- Napiši funkcijo `sredisce(s)`, ki prejme seznam ali množico koordinat točk in vrne terko s koordinatami njihovega središča. Koordinate te točke so izračunane kot poprečne koordinate točk v `s` po vsaki dimenziji posebej.\n",
    "\n",
    "    Število točk v `s` je poljubno. Točke so poljubno-dimenzionalne.\n",
    "\n",
    "    - Klic `sredisce([(2, 8), (6, 10)` vrne `(4, 9)`.\n",
    "\n",
    "- Napiši funkcij `razpostavi_ladje(skupine)`, ki poišče optimalno razpostavitev ladij. Funkcija prejme neko razdelitev marsovskih ladij v skupine; skupine so opisane s seznamom množic koordinat (torej v obliki, ki jo vrne funcija `skupine_marsovcev`, ki je opisana spodaj). Funkcija mora vrniti seznam koordinat središč skupin.\n",
    "\n",
    "    - Klic \n",
    "    \n",
    "    ```\n",
    "    razpostavi_ladje([{(0, 1), (2, 2), (1, 3), (4, 5)},\n",
    "                      {(100, 101), (103, 98)},\n",
    "                      {(51, 52), (45, 50)}])                \n",
    "    ```\n",
    "    \n",
    "    vrne seznam, ki vsebuje\n",
    "    \n",
    "    ```\n",
    "    [((0 + 2 + 1 + 4) / 4, (1 + 2 + 3 + 5) / 4),\n",
    "     ((100 + 103) / 2, (101 + 98) / 2),\n",
    "     ((51 + 45) / 2, (52 + 50) / 2)]\n",
    "    ```\n",
    "\n",
    "    (Seveda ne vsebuje teh izrazov, temveč ustrezne vrednosti.)\n",
    "    \n",
    "### Rešitev\n",
    "\n",
    "#### `sredisce`\n",
    "\n",
    "Nalogo je možno rešiti na kup načinov. Tu kar takoj pokažimo enega elegantnejših."
   ]
  },
  {
   "cell_type": "code",
   "execution_count": 8,
   "id": "cfbc37b7",
   "metadata": {},
   "outputs": [],
   "source": [
    "def sredisce(s):\n",
    "    p = [0] * len(s[0])\n",
    "    for x in s:\n",
    "        p = [pi + xi for pi, xi in zip(p, x)]\n",
    "    return tuple(pi / len(s) for pi in p)"
   ]
  },
  {
   "cell_type": "markdown",
   "id": "80042ba5",
   "metadata": {},
   "source": [
    "V `p` bomo sešteli vse elemente `s` po koordinatah. Najprej vanj vpišemo toliko ničel, kolikor je dimenzij. Nato gremo prek vseh točk v `s` in zamenjamo `p` s seznamom, ki vsebuje vsoto istoležnih elementov `p`-ja in `s`-ja. Na koncu vrnemo terko, ki vsebuje elemente `p`-ja deljene s številom ladij.\n",
    "\n",
    "Nekoliko splošnejša rešitev je tale:"
   ]
  },
  {
   "cell_type": "code",
   "execution_count": 9,
   "id": "93328ae1",
   "metadata": {},
   "outputs": [],
   "source": [
    "def sredisce(s):\n",
    "    p = None\n",
    "    for x in s:\n",
    "        if p == None:\n",
    "            p = x\n",
    "        else:\n",
    "            p = [pi + xi for pi, xi in zip(p, x)]\n",
    "    return tuple(pi / len(s) for pi in p)"
   ]
  },
  {
   "cell_type": "markdown",
   "id": "4e8e874d",
   "metadata": {},
   "source": [
    "Namesto da `p` inicializiramo s samimi ničlami, ga v začetku nastavimo na `None` in potem zanj uporabimo prvi element. Ker ta rešitev ne zahteva elementa z indeksom 0, deluje tudi, če je `s` generator. Naloga tega ni zahtevala, nič pa ni narobe, če se spomnimo, kako se to naredi.\n",
    "\n",
    "#### `razpostavi_ladje`\n",
    "\n",
    "Tu ni kaj pametovati: vrniti moramo seznam središč skupin, torej:"
   ]
  },
  {
   "cell_type": "code",
   "execution_count": 10,
   "id": "718d30d0",
   "metadata": {},
   "outputs": [],
   "source": [
    "def razpostavi_ladje(skupine):\n",
    "    return [sredisce(v) for v in skupine]"
   ]
  },
  {
   "cell_type": "markdown",
   "id": "ed039f25",
   "metadata": {},
   "source": [
    "## Za oceno 8\n",
    "\n",
    "- Napiši funkcijo `optimiraj_ladje(marsovci, ladje)`, ki prejme položaje marsovcev in neko začetno pozicijo naših ladij. Funkcija naj izmenično ponavlja naslednja koraka:\n",
    "\n",
    "    - določi skupine, ki pripadajo posamezni ladji, ko to počne funkcija `skupine_marsovcev`;\n",
    "    - na podlagi teh skupin, naj izračuna boljše položaje ladij, se pravi, prestavi vsako ladjo v središče skupine, ki ji je dodeljena;\n",
    "    - ker so se ladje premaknile, naj izračuna novo dodelitev marsovcev;\n",
    "    - ker to spremeni skupine, naj premakne ladje v nova središča skupin;\n",
    "    - ker so se ladje premaknile ...\n",
    "\n",
    "    Prej ko slej se bodo ladje nehale premikati in skupine nehale spreminjati. Takrat naj se postopek ustavi. Funkcija naj vrne končne koordinate ladij.\n",
    "\n",
    "    Funkcija v bistvu izvaja optimizacijo, ki jo kaže video. Video, konkretno, predstavlja štiri klice funkcije.\n",
    "\n",
    "    Za pomoč je v testu za oceno 9 shranjen potek položajev ladij v zadnjem testu. Če ga funkcija izpisuje, mora biti (do določenega števila decimalnih mest) enak.\n",
    "    \n",
    "### Rešitev\n",
    "\n",
    "Zapomnili si bomo položaje ladij in zanko izvajali, dokler je novi položaj drugačen kot stari. V zanki pa določimo (nove) skupine marsovcev in razpostavimo ladje."
   ]
  },
  {
   "cell_type": "code",
   "execution_count": 11,
   "id": "47581aa9",
   "metadata": {},
   "outputs": [],
   "source": [
    "def optimiraj_ladje(marsovci, ladje):\n",
    "    ladje_prej = None\n",
    "    while ladje != ladje_prej:\n",
    "        ladje_prej = ladje\n",
    "        ladje = razpostavi_ladje(skupine_marsovcev(marsovci, ladje))\n",
    "    return set(ladje)"
   ]
  },
  {
   "cell_type": "markdown",
   "id": "3716b821",
   "metadata": {},
   "source": [
    "## Za oceno 9\n",
    "\n",
    "- Za čim večjo učinkovitost napada morajo biti razdalje med ČNVL in marsovci čim manjše. Napiši funkcijo `kvaliteta(marsovci, ladje)`, ki prejme seznam položajev marsovskih ladij in množico položajev ČNVL-jev. Vrne naj vsoto vseh razdalij med marsovskimi ladjami in najbližjim ČNVLjem za vsako ladjo. Z drugimi besedami, vrne skupno dolžino črt na sliki.\n",
    "\n",
    "- Napiši funkcijo `nakljucna(marsovci, ladij)`, ki vrne nek naključen razpored podanega števila ladij. Funkcija mora vrniti seznam, ki vsebuje `ladij` terk koordinat. Koordinate so izžrebane iz koordinat marsovskih ladij. Za `i`-to koordinato izberemo koordinato `i` neke naključne marsovske ladje.\n",
    "\n",
    "    Klic\n",
    "\n",
    "    ```\n",
    "    nakljucna([(5, 8),\n",
    "               (2, 17),\n",
    "               (1, 33),\n",
    "               (4, 9)], 3)\n",
    "    ```\n",
    "\n",
    "    bi lahko vrnil, recimo `[(1, 8), (4, 17), (2, 8)]`. Vsaka prva koordinata je žrebana iz prvih koordinata in druga iz drugih.\n",
    "    \n",
    "### Rešitev\n",
    "\n",
    "#### `kvaliteta(marsovci, ladje)`\n",
    "\n",
    "Vrniti je potrebno vsoto razdalij med marsovci in ladjami, ki jim jih dodelimo, torej:"
   ]
  },
  {
   "cell_type": "code",
   "execution_count": 12,
   "id": "b46808e3",
   "metadata": {},
   "outputs": [],
   "source": [
    "def kvaliteta(marsovci, ladje):\n",
    "    return sum(razdalja(marsovec, ladja)\n",
    "               for marsovec, ladja in zip(marsovci, dodeli_ladje(marsovci, ladje)))"
   ]
  },
  {
   "cell_type": "markdown",
   "id": "e96e3eda",
   "metadata": {},
   "source": [
    "Pravzaprav pa je celo krajše, če ne kličemo `dodeli_ladje` in se izognemo `zip`-u."
   ]
  },
  {
   "cell_type": "code",
   "execution_count": 13,
   "id": "08029529",
   "metadata": {},
   "outputs": [],
   "source": [
    "def kvaliteta(marsovci, ladje):\n",
    "    return sum(razdalja(marsovec, najblizja(marsovec, ladje)) for marsovec in marsovci)"
   ]
  },
  {
   "cell_type": "markdown",
   "id": "119a7e9e",
   "metadata": {},
   "source": [
    "#### `nakljucna`\n",
    "\n",
    "Je bila to najtežja funkcija? Mogoče. Rešitev brez hujših trikov je takšna."
   ]
  },
  {
   "cell_type": "code",
   "execution_count": 14,
   "id": "7e49a93b",
   "metadata": {},
   "outputs": [],
   "source": [
    "def nakljucna(marsovci, ladij):\n",
    "    moznosti = [[] for _ in marsovci[0]]\n",
    "    for marsovec in marsovci:\n",
    "        for i, x in enumerate(marsovec):\n",
    "            moznosti[i].append(x)\n",
    "\n",
    "    ladje = []\n",
    "    for _ in range(ladij):\n",
    "        nova = []\n",
    "        for izbor in moznosti:\n",
    "            nova.append(random.choice(izbor))\n",
    "        ladje.append(tuple(nova))\n",
    "    return ladje"
   ]
  },
  {
   "cell_type": "markdown",
   "id": "e4f3fac3",
   "metadata": {},
   "source": [
    "V prvem delu funkcije sestavimo sezname seznamov: `i`-ti element vsebuje seznam vseh možnih `i`-tih koordinat.\n",
    "\n",
    "V drugem delu v `nova` sestavljamo koordinate ladje tako, da gremo prek vseh dimenzij in iz vsake naključno izberemo eno.\n",
    "\n",
    "Prvemu delu se lahko izognemo tako, da gremo prek dimenzij in za vsako dimenzijo izžrebamo nekega marsovca ter v `nova` dodamo ustrezno koordinato."
   ]
  },
  {
   "cell_type": "code",
   "execution_count": 15,
   "id": "f0de6cd9",
   "metadata": {},
   "outputs": [],
   "source": [
    "def nakljucna(marsovci, ladij):\n",
    "    dim = len(marsovci[0])\n",
    "    ladje = []\n",
    "    for _ in range(ladij):\n",
    "        nova = []\n",
    "        for i in range(dim):\n",
    "            nova.append(random.choice(marsovci)[i])\n",
    "        ladje.append(tuple(nova))\n",
    "    return ladje"
   ]
  },
  {
   "cell_type": "markdown",
   "id": "c99ec869",
   "metadata": {},
   "source": [
    "Tole gre očitno v eno vrstico."
   ]
  },
  {
   "cell_type": "code",
   "execution_count": 16,
   "id": "83a4b4dd",
   "metadata": {},
   "outputs": [],
   "source": [
    "def nakljucna(marsovci, ladij):\n",
    "    return [tuple(random.choice(marsovci)[i] for i in range(len(marsovci[0])))\n",
    "            for _ in range(ladij)]"
   ]
  },
  {
   "cell_type": "markdown",
   "id": "fab6ae44",
   "metadata": {},
   "source": [
    "Lepše pa je s tem trikom."
   ]
  },
  {
   "cell_type": "code",
   "execution_count": 17,
   "id": "e0e11524",
   "metadata": {},
   "outputs": [],
   "source": [
    "def nakljucna(marsovci, ladij):\n",
    "    moznosti = list(zip(*marsovci))\n",
    "    return [tuple(random.choice(izbor) for izbor in moznosti) for _ in range(ladij)]"
   ]
  },
  {
   "cell_type": "markdown",
   "id": "0c497549",
   "metadata": {},
   "source": [
    "To je po zgledu prve funkcije. Prva vrstica ustreza prvemu delu, druga drugemu."
   ]
  },
  {
   "cell_type": "markdown",
   "id": "5b27cd99",
   "metadata": {},
   "source": [
    "## Za oceno 10\n",
    "\n",
    "- Napiši funkcijo `optimiraj_ladje_2(marsovci, ladje)`, ki je enaka funkciji `optimiraj_ladje`, le da namesto pozicij vrne par `(kvaliteta, pozicije)`, pri čemer je kvaliteta izračunana s funkcijo za oceno 9.\n",
    "\n",
    "- Recimo, da začnemo optimizacijo z nekim naključnim položajem. Kot vidimo iz tretjega primera v videu, se lahko včasih zgodi, da imamo smolo in končamo s kakim slabim končnim razporedom. Napiši funkcijo `planiraj(marsovci, ladij)`, ki si stokrat izmisli nek naključen razpored (s funkcijo `nakljucni`) in izvede celoten postopek optimiranja za podano število `ladij`. Dobivala bo različno kvalitetne razporede. Vrniti mora najboljši končni razpored, na katerega je naletela.\n",
    "\n",
    "### Rešitev\n",
    "\n",
    "#### `optimiraj_ladje_2`\n",
    "\n",
    "Tule le pokličemo funkciji, ki ju že imamo."
   ]
  },
  {
   "cell_type": "code",
   "execution_count": 18,
   "id": "17c2867a",
   "metadata": {},
   "outputs": [],
   "source": [
    "def optimiraj_ladje_2(marsovci, ladje):\n",
    "    pozicije = optimiraj_ladje(marsovci, ladje)\n",
    "    return kvaliteta(marsovci, pozicije), pozicije"
   ]
  },
  {
   "cell_type": "markdown",
   "id": "e866cda0",
   "metadata": {},
   "source": [
    "#### `planiraj`\n",
    "\n",
    "To pa je repriza funkcije `najblizja_ladja`, le da ne iščemo najbližje ladje temveč najboljši razpored.\n",
    "\n",
    "Ker gre za nalogo za oceno 10, jo naredimo le po najhitrejši različici - sploh zato, ker naj je `optimiraj_ladje_2` namignila, dala terke, med katerimi je potrebno poiskati najmanjšo in vrniti njen element z indeksom `1`."
   ]
  },
  {
   "cell_type": "code",
   "execution_count": 19,
   "id": "70d481ee",
   "metadata": {},
   "outputs": [],
   "source": [
    "def planiraj(marsovci, ladij):\n",
    "    return min(optimiraj_ladje_2(marsovci, nakljucna(marsovci, ladij)) for _ in range(100))[1]"
   ]
  }
 ],
 "metadata": {
  "kernelspec": {
   "display_name": "Python 3 (ipykernel)",
   "language": "python",
   "name": "python3"
  },
  "language_info": {
   "codemirror_mode": {
    "name": "ipython",
    "version": 3
   },
   "file_extension": ".py",
   "mimetype": "text/x-python",
   "name": "python",
   "nbconvert_exporter": "python",
   "pygments_lexer": "ipython3",
   "version": "3.10.0"
  }
 },
 "nbformat": 4,
 "nbformat_minor": 5
}
