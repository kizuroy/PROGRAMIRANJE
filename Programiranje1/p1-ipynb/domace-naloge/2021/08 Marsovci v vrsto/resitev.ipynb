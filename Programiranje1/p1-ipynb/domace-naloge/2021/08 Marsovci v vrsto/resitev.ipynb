{
 "cells": [
  {
   "cell_type": "markdown",
   "id": "8737e567",
   "metadata": {},
   "source": [
    "- Domača naloga je nadaljevanje [prejšnje](https://github.com/janezd/predavanja/blob/master/p1/domace-naloge/2021/07%20Marsovci/resitev.ipynb).\n",
    "- Ker smo se ta teden učili o izpeljanih seznamih, množicah in slovarjih ter generatorjih, je pri reševanju potrebno uporabljati le-te. Da boste to res počeli, morajo biti vse funkcije dolge eno samo vrstico - en sam `return`. Testi bodo to preverjali. Da si ne bi pomagali z dodatnimi funkcijami, ki bodo v resnici opravile vse delo, je tokrat **prepovedano pisanje funkcij**, ki jih naloga ne zahteva.\n",
    "- Naloga je sestavljena tako, da je mogoče vse funkcije napisati v eni vrstici - z izpeljenim seznamom, slovarjem ali množico - brez večjega truda, vendar le, če programirate pametno in zgledno. Zato: pomagajte si z [objavljenimi rešitvami prejšnje naloge](https://github.com/janezd/predavanja/blob/master/p1/domace-naloge/2021/07%20Marsovci/resitev.ipynb). (S tem vas tudi prisilim, da jih preberete in razumete. :)) Vaša tokratna naloga je v bistvu predelati prejšnje rešitve iz \"imperativne\" oblike v \"deklarativno\".\n",
    "- Naloga se začne z nekaj ogrevalnimi funkcijami, ki niso povezane z glavnim delom naloge in vam pri njem ne bodo prišle prav.\n",
    "- Miklavž je letos nekam zgoden. Preden začnete reševati, poskrolajte do konca, kjer vas čaka nekaj daril.\n",
    "\n",
    "## Obvezno ogrevanje\n",
    "\n",
    "Napiši naslednje funkcije (vse prejmejo *neprazen* seznam krogov, opisanih s trojko (x, y, r); funkcija veliki poleg tega prejme še nek polmer);\n",
    "\n",
    "- `polmeri(krogi)` vrne množico, ki vsebuje vse različne polmere krogov iz seznama,\n",
    "- `veliki(r0, krogi)` vrne množico koordinat krogov, katerih polmer je enak ali večji od `r0`,\n",
    "- `obsegi(krogi)` vrne vsoto obsegov krogov,\n",
    "- `najlevo(krogi)` vrne koordinato x najbolj levo točko, ki se je dotikajo krogi (namig: od koordinate središča je potrebno odšteti polmer!),\n",
    "- `povrsina(krogi)` vrne površino pravokotnika, ki se razteza med najbolj levo in najbolj desno ter najbolj zgornjo in najbolj spodnjo točko, ki jo pokrivajo krogi. Z drugimi besedami, če bi morali kroge pokriti s pravokotnikom, ki bi ga postavili vzporedno z osmi (torej: brez vrtenja) - kako velik bi bil?\n",
    "\n",
    "### Rešitev\n",
    "\n",
    "Naloga zahteva le preprosto ponavljanje stvari, kakršne smo počeli na predavanjih."
   ]
  },
  {
   "cell_type": "code",
   "execution_count": 1,
   "id": "99a653a6",
   "metadata": {},
   "outputs": [],
   "source": [
    "def polmeri(krogi):\n",
    "    return {r for *_, r in krogi}\n",
    "\n",
    "def veliki(r0, krogi):\n",
    "    return {(x, y) for x, y, r in krogi if r >= r0}\n",
    "\n",
    "def obsegi(krogi):\n",
    "    return 2 * pi * sum(r for *_, r in krogi)\n",
    "\n",
    "def najlevo(krogi):\n",
    "    return min(x - r for x, y, r in krogi)\n",
    "\n",
    "def povrsina(krogi):\n",
    "    return (max(x + r for x, y, r in krogi)\n",
    "            - min(x - r for x, y, r in krogi)) \\\n",
    "           * (max(y + r for x, y, r in krogi)\n",
    "              - min(y - r for x, y, r in krogi))"
   ]
  },
  {
   "cell_type": "markdown",
   "id": "b3832645",
   "metadata": {},
   "source": [
    "Pri obsegi lahko ločeno računamo obseg vsakega kroga, lahko pa izpostavimo `2 * pi` in seštevamo le polmere. Vseeno je.\n",
    "\n",
    "Namen funkcije `najlevo` je predvsem mentalna priprava na funkcijo `povrsina`, kjer je potrebno na enak način pridobiti še najbolj desno, najbolj spodnjo in najbolj zgornjo točko.\n",
    "\n",
    "Nekateri so poskušali stvari v slogu\n",
    "\n",
    "```\n",
    "def povrsina(krogi):\n",
    "    return ((max(x + r) - min(x - r)) * (max(y + r) - min(y - r))\n",
    "            for x, y, r in krogi)\n",
    "```\n",
    "\n",
    "To ne deluje. Kot prvo, to ni število temveč generator, saj je, če odmislimo tiste max-e in min-e, oblike `return (... for x, y, r in krogi)`. Drugo, tu v, recimo, prvem klicu funkcije `max` le-tej damo en sam argument `x + r`; celo če bi bil naš namen sestaviti generator, to ne bi delovalo, ker `max` pričakuje bodisi neko zaporedje (na primer seznam, množico, generator...) ali pa več reči, med katerimi vrne največjo."
   ]
  },
  {
   "cell_type": "markdown",
   "id": "a2f07a80",
   "metadata": {},
   "source": [
    "## Obvezna naloga\n",
    "\n",
    "Napiši naslednje funkcije:\n",
    "\n",
    "- `ocisti_slovar(d)` prejme nek slovar `d` in vrne nov slovar, ki vsebuje samo tiste pare (ključ, vrednost), pri katerih je vrednost resnična. \"Neresnične\" vrednosti so `False`, `0` in `0.0` ter prazen seznam, množica, niz ali terka.\n",
    "- `znotraj(x0, y0, r0, krogi)` vrne seznam tistih krogov iz seznama `krogi`, ki se nahajajo znotraj kroga s središčem `(x0, y0)` in polmerom `r0`. (Krog mora biti strogo znotraj - ni dovolj, da sovpada. Krog `(0, 0, 5)` ne leži znotraj kroga `(0, 0, 5)`.)\n",
    "- `vsebovanost(krogi)` vrne slovar, katerega ključi so krogi, vrednosti pa so seznami krogov, ki so znotraj teh krogov, ki jih opisuje ključ. Če kak krog ne vsebuje nobenega drugega kroga, naj se tudi med ključi ne pojavi; z drugimi besedami, med vrednostmi naj ne bo nobenega praznega seznama. (Pomemben namig: uporabljaj funkcije, ki jih že imaš!)\n",
    "- `notranjost(krogi)` vrne množico vseh krogov, ki so znotraj katerega izmed drugih krogov.\n",
    "- `ptici0(vsebovani, notranji)` prejme slovar, kakršnega vrača funkcija `vsebovanost` in množico, kakršno vrača `notranjost`. Vrniti mora množico vseh ptičev.\n",
    "- `ptici(krogi)` prejme kroge in vrne ptiče.\n",
    "\n",
    "#### Rešitev\n",
    "\n",
    "Funkcija `ocisti_slovar` (glej spodaj) je bila že podarjena, napisal jo je Miklavž."
   ]
  },
  {
   "cell_type": "code",
   "execution_count": 2,
   "id": "5f5346cc",
   "metadata": {},
   "outputs": [],
   "source": [
    "def ocisti_slovar(d):\n",
    "    return {k: v for k, v in d.items() if v}"
   ]
  },
  {
   "cell_type": "markdown",
   "id": "5a2c7fe5",
   "metadata": {},
   "source": [
    "Vseeno se spodobi, da jo pogledamo in razumemo, saj je trivialna. `{k: v for k, v in d.items()}` bi naredilo slovar, ki vsebuje enake pare (ključ, vrednost) kot orignalni slovar `d`; z drugimi besedami, sestavilo bi kopijo. Če dodamo še `if v`, pa odstrani vse pare, pri katerih vrednost ni resnična.\n",
    "\n",
    "Funkcijo `znotraj` moramo napisati sami."
   ]
  },
  {
   "cell_type": "code",
   "execution_count": 3,
   "id": "0ab1e2f2",
   "metadata": {},
   "outputs": [],
   "source": [
    "def znotraj(x0, y0, r0, krogi):\n",
    "    return [(x1, y1, r1)\n",
    "            for x1, y1, r1 in krogi\n",
    "            if r0 > r1 and (x1 - x0) ** 2 + (y1 - y0) ** 2 < r0 ** 2]"
   ]
  },
  {
   "cell_type": "markdown",
   "id": "972593bf",
   "metadata": {},
   "source": [
    "nek krog `(x1, y1, r1)` je znotraj `(x0, y0, r0)`, če velja pogoj, ki smo ga zapisali v `if` - in je enak kot je bil pogoj znotraj dvojnih zank v funkciji `vsebovanost` iz prejšnje naloge.\n",
    "\n",
    "`vsebovanost` je najpomembnejša - ali vsaj najbolj poučna funkcija v celi domači nalogi. Rešitev je takšna"
   ]
  },
  {
   "cell_type": "code",
   "execution_count": 4,
   "id": "dbffd1b8",
   "metadata": {},
   "outputs": [],
   "source": [
    "def vsebovanost(krogi):\n",
    "    return ocisti_slovar({(x, y, r): znotraj(x, y, r, krogi)\n",
    "                          for x, y, r in krogi}\n",
    "    )"
   ]
  },
  {
   "cell_type": "markdown",
   "id": "cd68f269",
   "metadata": {},
   "source": [
    "Ali, če znamo malo več"
   ]
  },
  {
   "cell_type": "code",
   "execution_count": 5,
   "id": "f964fe33",
   "metadata": {},
   "outputs": [],
   "source": [
    "def vsebovanost(krogi):\n",
    "    return ocisti_slovar({krog1: znotraj(*krog1, krogi)\n",
    "                          for krog1 in krogi})"
   ]
  },
  {
   "cell_type": "markdown",
   "id": "2cedf04e",
   "metadata": {},
   "source": [
    "Kako, točno, dela drugo, ni pomembno. Kdor ve, ve.\n",
    "\n",
    "Pomembno je razmišljanje ob sestavljanju slovarja. Sestaviti moramo torej slovar. Dobili ga bomo tako, da bomo šli prek vseh krogov (`for ... in krogi`). Ključi bodo podatki o krogu, `(x, y, r)`, pripadajoče vrednosti pa vsi krogi, ki so znotraj tega kroga. Le-te bomo dobili s klicem funkcije `znotraj`. (Če se tega ne bi domislili, pa bi pač zamenjali klic funkcije `znotraj` z njeno kodo.)\n",
    "\n",
    "Na koncu pokličemo `ocisti_slovar`, da odstrani kroge, ki ne vsebujejo nobenih krogov.\n",
    "\n",
    "Kar smo napisali, je \"prevod\" tega:"
   ]
  },
  {
   "cell_type": "code",
   "execution_count": 6,
   "id": "1f0ed975",
   "metadata": {},
   "outputs": [],
   "source": [
    "def vsebovanost(krogi):\n",
    "    d = {}\n",
    "    for x, y, r in krogi:\n",
    "        d[(x, y, r)] = znotraj(x, y, r, krogi)\n",
    "    return ocisti_slovar(d)"
   ]
  },
  {
   "cell_type": "markdown",
   "id": "f2e239ab",
   "metadata": {},
   "source": [
    "Nekateri (mnogi? večina?) so (najprej?) poskušali preobrniti tole:"
   ]
  },
  {
   "cell_type": "code",
   "execution_count": 7,
   "id": "438655b6",
   "metadata": {},
   "outputs": [],
   "source": [
    "def vsebovanost(krogi):\n",
    "    d = {}\n",
    "    for x, y, r in krogi:\n",
    "        for x1, y1, r1 in krogi:\n",
    "            if r < r1 and (x1 - x) ** 2 + (y1 - y) ** 2 < r1 ** 2:\n",
    "                if (x1, y1, r1) not in d:\n",
    "                    d[(x1, y1, r1)] = set()\n",
    "                d[(x1, y1, r1)].add((x, y, r))\n",
    "    return d"
   ]
  },
  {
   "cell_type": "markdown",
   "id": "5f716314",
   "metadata": {},
   "source": [
    "To ne gre. Problem je `add`, ki dodaja malo v to, malo v ono množico. Ko sestavljamo izpeljan seznam, množico ali slovar, si lahko predstavljamo, da se le-ta sestavi \"paralelno\", vsi elementi naenkrat. Ali, še boljše in bolj prav: v tak seznam, množico ali slovar, \"*definiramo*\", povemo, kaj vsebuje. Ne moremo najprej nečesa sestaviti, na primer prazne ali še ne čisto dokončane množice in potem dodajati vanjo.\n",
    "\n",
    "Funkcija `notranjost` je bila podana."
   ]
  },
  {
   "cell_type": "code",
   "execution_count": 8,
   "id": "7309e067",
   "metadata": {},
   "outputs": [],
   "source": [
    "def notranjost(krogi):\n",
    "    return set().union(*map(set, vsebovanost(krogi).values()))"
   ]
  },
  {
   "cell_type": "markdown",
   "id": "0c8807e7",
   "metadata": {},
   "source": [
    "Če koga zanima: naredi prazno množico, potem pa pokliče njeno metodo `union`, ki ji kot argument (ne prezrite `*`, če razumete, kaj pomeni `*` v klicu) poda vse vrednosti iz slovarja `values`, ki jih mimogrede (z `map`) preslika v množice.\n",
    "\n",
    "Če tega ne razumete, nič hudega. Presega to, kar se učimo pri predmetu, zato vam je funkcija podarjena.\n",
    "\n",
    "Zdaj pa še `ptici0`. To je množica vseh krogov, ki vsebujejo kakšen krog in ustrezajo določenim pogojem."
   ]
  },
  {
   "cell_type": "code",
   "execution_count": 9,
   "id": "13bc2939",
   "metadata": {},
   "outputs": [],
   "source": [
    "def ptici0(vsebovani, notranji):\n",
    "    return {krog[:2]\n",
    "            for krog, znotraj in vsebovani.items()\n",
    "            if krog not in notranji and len(znotraj) == 2\n",
    "            and znotraj[0] not in vsebovani and znotraj[1] not in vsebovani}"
   ]
  },
  {
   "cell_type": "markdown",
   "id": "acce9379",
   "metadata": {},
   "source": [
    "Ta funkcija ni nič drugega kot prevod rešitve prejšnje naloge, "
   ]
  },
  {
   "cell_type": "code",
   "execution_count": 10,
   "id": "93d00a8a",
   "metadata": {},
   "outputs": [],
   "source": [
    "def ptici(krogi):\n",
    "    vsebuje, notranji = vsebovanost(krogi)\n",
    "    pticji = set()\n",
    "    for krog, vkrogu in vsebuje.items():\n",
    "        if (krog not in notranji\n",
    "                and len(vkrogu) == 2 \\\n",
    "                and vkrogu[0] not in vsebuje and vkrogu[1] not in vsebuje):\n",
    "            pticji.add(krog[:2])\n",
    "    return pticji"
   ]
  },
  {
   "cell_type": "markdown",
   "id": "d79bda8b",
   "metadata": {},
   "source": [
    "Pri čemer izpustimo prvo vrstico, ker funkcija že dobi prav tidve stvari kot argument."
   ]
  },
  {
   "cell_type": "markdown",
   "id": "97d9366a",
   "metadata": {},
   "source": [
    "## Dodatna naloga\n",
    "\n",
    "Napiši še\n",
    "\n",
    "- `letala0(vsebovani, notranji)`\n",
    "- `letala(krogi)`\n",
    "- `sumljivi0(krogi, vsebovani, notranji)` (pazi: ta dobi tudi `krogi`!)\n",
    "- `sumljivi(krogi)`\n",
    "\n",
    "ki so ekvivalentne funkcijam `ptici0` in `ptici`, le da vračajo letala in sumljive leteče predmete.\n",
    "\n",
    "### Rešitev\n",
    "\n",
    "Tole je bilo za dodatno nalogo, ker zahteva, da se spomnimo še na funkciji `all` in `any`.\n",
    "\n",
    "Neka reč je letalo, če gre za zunanji krog, vsebuje vsaj kakšen krog, vendar ne dveh in **za vse** (`all`) vsebovane kroge velja, da ne vsebujejo nobenega kroga, torej da ne nastopajo kot ključi v slovarju `vsebovani`."
   ]
  },
  {
   "cell_type": "code",
   "execution_count": 11,
   "id": "f5166d35",
   "metadata": {},
   "outputs": [],
   "source": [
    "def letala0(vsebovani, notranji):\n",
    "    return {krog[:2]\n",
    "            for krog, znotraj in vsebovani.items()\n",
    "            if krog not in notranji and len(znotraj) != 2\n",
    "            and all(krog2 not in vsebovani for krog2 in znotraj)\n",
    "            }"
   ]
  },
  {
   "cell_type": "markdown",
   "id": "56086918",
   "metadata": {},
   "source": [
    "Neka reč je sumljiva, če je zunanji krog, ki nima notranjih (ne nastopa kot ključ v `vsebovani` ali pa **katerikoli** (`any`) od vsebovanih krogov vsebuje kakšen ključ (torej: nastopa kot ključ v `vsebovani`)."
   ]
  },
  {
   "cell_type": "code",
   "execution_count": 12,
   "id": "ac0351e3",
   "metadata": {},
   "outputs": [],
   "source": [
    "def sumljivi0(krogi, vsebovani, notranji):\n",
    "    return {krog[:2]\n",
    "            for krog in krogi\n",
    "            if krog not in notranji and (\n",
    "                    krog not in vsebovani\n",
    "                    or any(krog2 in vsebovani for krog2 in vsebovani[krog]))}"
   ]
  },
  {
   "cell_type": "markdown",
   "id": "9e8242be",
   "metadata": {},
   "source": [
    "## Miklavževa darila\n",
    "\n",
    "Sveti Miklavž se je naveličal sajastih dimnikov in razmišlja o zamenjavi službe, zato se letos uči programirati, ker bo to izgledalo dobro v CV-ju. Ker ne more iz svoje dobrohotne kože, pa vam podarja nekaj funkcij. Lahko jih uporabite; glede na to, da gre za Miklavževa darila, tega ne bomo šteli za prepisovanje.\n",
    "\n",
    "Objavljam jih skupaj s komentarji otrok, mislim, študentov.\n",
    "\n",
    "```python\n",
    "# Hvala, Miklavž, čeprav bi tole znali napisati tudi sami.\n",
    "# Obljubimo, da se jo bomo potrudili razumeti\n",
    "def ocisti_slovar(d):\n",
    "    return {k: v for k, v in d.items() if v}\n",
    "\n",
    "\n",
    "# U, tale je pa kar zaresna. V ponedeljek bomo prosili profesorja,\n",
    "# da nam jo razloži, ker smo radovedni kako deluje.\n",
    "def notranjost(krogi):\n",
    "    return set().union(*map(set, vsebovanost(krogi).values()))\n",
    "\n",
    "# Eh, to bi pa res znali sami. Bomo še ostale naredili podobno.\n",
    "def ptici(krogi):\n",
    "    return ptici0(vsebovanost(krogi), notranjost(krogi))\n",
    "```"
   ]
  }
 ],
 "metadata": {
  "kernelspec": {
   "display_name": "Python 3 (ipykernel)",
   "language": "python",
   "name": "python3"
  },
  "language_info": {
   "codemirror_mode": {
    "name": "ipython",
    "version": 3
   },
   "file_extension": ".py",
   "mimetype": "text/x-python",
   "name": "python",
   "nbconvert_exporter": "python",
   "pygments_lexer": "ipython3",
   "version": "3.10.0"
  }
 },
 "nbformat": 4,
 "nbformat_minor": 5
}
