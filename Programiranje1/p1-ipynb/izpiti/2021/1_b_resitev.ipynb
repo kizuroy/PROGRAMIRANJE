{
 "cells": [
  {
   "cell_type": "markdown",
   "id": "37d2aeea",
   "metadata": {},
   "source": [
    "Iz dobro obveščenih virov na Facebooku se je izvedelo, kakšen je namen marsovske invazije: prišli so nam krast paradižnik! (Resno. To je povedal ugleden znanstvenik, ki je skoraj Nobelov nagrajenec za ekonomijo. Poglejte video.)\n",
    "\n",
    "\n",
    "## Rešitev celotnega izpita\n",
    "\n",
    "Najprej celotna rešitev, za predstavo o njegovem obsegu. Tule so preprosto razumljive, a ne nujno najkrajše različice .Posamične rešitve - in še kakšna alternativa - so potem razložene spodaj, skupaj z opisom nalog."
   ]
  },
  {
   "cell_type": "code",
   "execution_count": 1,
   "id": "f7e8fffb",
   "metadata": {},
   "outputs": [],
   "source": [
    "def uravnotezena(tovor):\n",
    "    return abs(sum(tovor[::2]) - sum(tovor[1::2])) <= 10\n",
    "\n",
    "\n",
    "def deli(paketi, kapacitete):\n",
    "    ladje = [0] * len(kapacitete)\n",
    "    for paket in paketi:\n",
    "        naj_i = None\n",
    "        for i, (ladja, kapaciteta) in enumerate(zip(ladje, kapacitete)):\n",
    "            if ladja + paket <= kapaciteta and (\n",
    "                    naj_i == None or ladja < ladje[naj_i]):\n",
    "                naj_i = i\n",
    "        if naj_i != None:\n",
    "            ladje[naj_i] += paket\n",
    "    return ladje\n",
    "\n",
    "\n",
    "def kontrola(ime_datoteke):\n",
    "    preobremenjene = set()\n",
    "    for vrstica in open(ime_datoteke):\n",
    "        ladja, kapaciteta, teze = vrstica.split(\":\")\n",
    "        if sum(int(x) for x in teze.split(\",\")) > int(kapaciteta):\n",
    "            preobremenjene.add(ladja)\n",
    "    return preobremenjene\n",
    "\n",
    "\n",
    "def pravilna(marsovec, hierarhija, antene):\n",
    "    for podrejeni in hierarhija[marsovec]:\n",
    "        if antene[podrejeni] > antene[marsovec] or not pravilna(podrejeni, hierarhija, antene):\n",
    "            return False\n",
    "    return True\n",
    "\n",
    "\n",
    "class Ladja:\n",
    "    def __init__(self):\n",
    "        self.tovor = defaultdict(int)\n",
    "\n",
    "    def nalozi(self, sorta, kolicina):\n",
    "        if len(self.tovor) < 3 or sorta in self.tovor:\n",
    "            self.tovor[sorta] += kolicina\n",
    "\n",
    "    def kolicina(self, sorta):\n",
    "        if sorta not in self.tovor:  # da ga defaultdict ne doda z 0\n",
    "            return 0\n",
    "        return self.tovor[sorta]"
   ]
  },
  {
   "cell_type": "markdown",
   "id": "9b55453f",
   "metadata": {},
   "source": [
    "## 1. Uravnotežene ladje\n",
    "\n",
    "Če je marsovska tovorna vesoljska ladja naložena tako, da je razlika med težo tovora na levi in desni strani večja od 10, se prevrne. Tudi v vesolju se zgodi. Zato jih natovarjajo tako, da pakete izmenično odlagajo na levo in na desno. Vendar si tega niso najboljše zamislili: če imajo pakete `[2, 10, 3, 8, 1]`, se ladja prevrne, ker je skupna teža paketov na levi enaka 6, na desni pa 18, kar je več kot 10 več.\n",
    "\n",
    "Napiši funkcijo `uravnotezena(tovor)`, ki prejme seznam paketov in vrne `True`, če je ladja uravnotežena in `False`, če ni. Zaželeno je, da funkcijo napišeš v eni vrstici.\n",
    "\n",
    "### Rešitev\n",
    "\n",
    "Absolutna vrednost razlike vsote elementov na sodih in na lihih mestih mora biti manjša ali enaka 10."
   ]
  },
  {
   "cell_type": "code",
   "execution_count": 2,
   "id": "7b9e1fe9",
   "metadata": {},
   "outputs": [],
   "source": [
    "def uravnotezena(tovor):\n",
    "    return abs(sum(tovor[::2]) - sum(tovor[1::2])) <= 10"
   ]
  },
  {
   "cell_type": "markdown",
   "id": "ed0afd96",
   "metadata": {},
   "source": [
    "## 2. Delitev paketov\n",
    "\t\t\n",
    "Kako bodo delili pakete po ladjah? Za vsako ladjo je znana nosilnost. Nato jemljejo pakete po vrsti. Vsak paket dajo na tisto ladjo, ki je trenutno najmanj obremenjena in je ta paket ne bo preobremenil. (Če je najmanj obremenjenih več ladij, gre paket na tisto, ki je prej na seznamu.) Če paketa ne more sprejeti nobena ladja, ga ne naložijo. Primer v tabeli kaže razporejanje paketov s težami `[6, 4, 2, 1, 5, 1, 15]` na ladje z nosilnostmi `[5, 20, 7]`.\n",
    "\n",
    "```text\n",
    "paket   kam gre in zakaj                 stanje\n",
    "---------------------------------------------------\n",
    "    6   na drugo, ker ne more na prvo    [0, 6, 0]\n",
    "    4   prva ima najmanj                 [4, 6, 0]\n",
    "    2   tretja ima najmanj               [4, 6, 2]\n",
    "    1   tretja ima najmanj               [4, 6, 3]\n",
    "    5   na prvo in tretjo ne more        [4, 11, 3]\n",
    "    1   na tretji je najmanj             [4, 11, 4]\n",
    "   15   ne gre nikamor                   [4, 11, 4]\n",
    "---------------------------------------------------\n",
    "```\n",
    "\n",
    "Napiši funkcijo `deli(paketi, kapacitete)`, ki prejme teže paketov in seznam kapacitet razpoložljivih ladij. Vrniti mora seznam, ki vsebuje skupno težo paketov na vsaki ladji.\n",
    "\n",
    "### Rešitev\n",
    "\n",
    "Najprej pripravimo seznam, v katerem je toliko ničel, kolikor je ladij. To bo seznam, v katerega bomo shranjevali obremenjenost ladij in ki ga bomo na koncu tudi vrnili.\n",
    "\n",
    "Nato gremo z zanko čez pakete. Za vsak paket poiščemo ladjo (torej: indeks ladje), na katero ga bomo naložili. Ladjo poiščemo tako, da gremo čez zazipana seznama ladij in kapacitet, vse skupaj pa še oštevilčimo, ker nas bodo zanimali indeksi. (Seveda bi se dalo to narediti tudi okorneje, recimo kar z `for i in range(len(ladje))`.) Za vsako ladjo preverimo, ali lahko sprejme ta paket (`ladja + paket <= kapaciteta`) in je to bodisi prva sprejemljiva ladja doslej (`naj_i == None`) bodisi je na njej manj kot na tisti ladji, na kateri je bilo doslej najmanj (`ladja < ladje[naj_i]`).\n",
    "\n",
    "Če po tej zanki imamo ladjo, ki lahko sprejme ta paket, ga naložimo. Sicer pa nič."
   ]
  },
  {
   "cell_type": "code",
   "execution_count": 3,
   "id": "86758430",
   "metadata": {},
   "outputs": [],
   "source": [
    "def deli(paketi, kapacitete):\n",
    "    ladje = [0] * len(kapacitete)\n",
    "    for paket in paketi:\n",
    "        naj_i = None\n",
    "        for i, (ladja, kapaciteta) in enumerate(zip(ladje, kapacitete)):\n",
    "            if ladja + paket <= kapaciteta and (\n",
    "                    naj_i == None or ladja < ladje[naj_i]):\n",
    "                naj_i = i\n",
    "        if naj_i != None:\n",
    "            ladje[naj_i] += paket\n",
    "    return ladje"
   ]
  },
  {
   "cell_type": "markdown",
   "id": "6b2f0572",
   "metadata": {},
   "source": [
    "## 3. Kontrola načrta\n",
    "\n",
    "Načrt natovarjanja je shranjen v datoteki. Vsaka vrstica vsebuje ime ladje, dvopičje, nosilnost, dvopičje in teže paketov, ki jih kanijo naložiti na to ladjo, na primer tako:\n",
    "\n",
    "```text\n",
    "Gubgat: 20: 10, 5, 6\n",
    "Thrombaq: 5: 1\n",
    "Thrombaq 2: 5: 1, 4\n",
    "Humwat Bolwat: 10: 2, 2, 2, 2, 2, 2\n",
    "Askeg 8: 13: 14\n",
    "```\n",
    "\n",
    "Napiši funkcijo `kontrola(ime)`, ki prejme ime datoteke in vrne množico imen ladij, ki so preobremenjene. V gornjem primeru so preobremenjene Gugbat, Humwat Bolwat in Askeg 8.\n",
    "\n",
    "### Rešitev\n",
    "\n",
    "Vsako vrstico datoteke razkosamo glede na `:`. Če je vsota tež, pretvorjenih v števila, večja od kapacitete (tudi pretvorjene v število), dodamo ladjo v množico preobremenjenih ladij."
   ]
  },
  {
   "cell_type": "code",
   "execution_count": 4,
   "id": "1fb06e40",
   "metadata": {},
   "outputs": [],
   "source": [
    "def kontrola(ime_datoteke):\n",
    "    preobremenjene = set()\n",
    "    for vrstica in open(ime_datoteke):\n",
    "        ladja, kapaciteta, teze = vrstica.split(\":\")\n",
    "        if sum(int(x) for x in teze.split(\",\")) > int(kapaciteta):\n",
    "            preobremenjene.add(ladja)\n",
    "    return preobremenjene"
   ]
  },
  {
   "cell_type": "markdown",
   "id": "6cf735fc",
   "metadata": {},
   "source": [
    "## 4. Hierarhija\n",
    "\n",
    "Marsovci imajo, vemo, na glavah antene. Te so pomembne za avtoriteto: marsovec s krajšo anteno ne more ukazovati marsovcu z daljšo.\n",
    "\n",
    "Ladjo vodi hierarhija skladiščnikov; na sliki so njihova imena in dolžine njihovih anten v marsimetrih. Primer na sliki kaže nepravilno hierarhijo, saj Hans ne more ukazovati Eriku."
   ]
  },
  {
   "cell_type": "markdown",
   "id": "61ec1911",
   "metadata": {},
   "source": [
    "<img src=\"data:image/.png;base64,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\"/>"
   ]
  },
  {
   "cell_type": "markdown",
   "id": "6f3d9b9c",
   "metadata": {},
   "source": [
    "Napiši funkcijo `pravilna(marsovec, hierarhija, antene)`, ki prejme ime nekega marsovca, slovar s hierarhijo, slovar z dolžinami anten (glej primer v testih). Vrniti mora `True`, če je hierarhija pod podanim marsovcem pravilna in `False`, če ni.\n",
    "\n",
    "### Rešitev\n",
    "\n",
    "Preveriti je potrebno vse podrejene: če ima podrejeni daljšo anteno od podanega marsovca ali pa ni pravilna hierarhija pod podrejenim, vrnemo `False`. Če je s podrejenimi vse v redu, vrnemo `True`."
   ]
  },
  {
   "cell_type": "code",
   "execution_count": 5,
   "id": "e0758c60",
   "metadata": {},
   "outputs": [],
   "source": [
    "def pravilna(marsovec, hierarhija, antene):\n",
    "    for podrejeni in hierarhija[marsovec]:\n",
    "        if antene[podrejeni] > antene[marsovec] or not pravilna(podrejeni, hierarhija, antene):\n",
    "            return False\n",
    "    return True"
   ]
  },
  {
   "cell_type": "markdown",
   "id": "646c44c6",
   "metadata": {},
   "source": [
    "Krajše je tako:"
   ]
  },
  {
   "cell_type": "code",
   "execution_count": 6,
   "id": "056f477e",
   "metadata": {},
   "outputs": [],
   "source": [
    "def pravilna(marsovec, hierarhija, antene):\n",
    "    return all(antene[podrejeni] < antene[marsovec]\n",
    "               and pravilna(podrejeni, hierarhija, antene)\n",
    "               for podrejeni in hierarhija[marsovec])"
   ]
  },
  {
   "cell_type": "markdown",
   "id": "e33fc5c9",
   "metadata": {},
   "source": [
    "## 5. Marsis\n",
    "\n",
    "Marsovski Pravilnik o higieni živil pravi, da sme marsovska ladja tovoriti največ tri različne vrste paradižnika. Sprogramiraj razred Ladja z naslednjimi metodami.\n",
    "\n",
    "- Konstruktor nima argumentov in naredi, kar je potrebno, da delujeta preostali metodi.\n",
    "- `nalozi(sorta, teza)` preveri, ali ladja sme natovoriti (še) to sorto paradižnika. Če jo lahko, to pomeni, da ga bodo natovorili in funkcija vrne `True`. Če ga ne sme prevzeti, vrne `False`.\n",
    "- `kolicina(sorta)` vrne skupno težo vseh natovorjenih paradižnikov te sorte (0, če je nimajo).\n",
    "\n",
    "### Rešitev\n",
    "\n",
    "Uporabili bomo `defaultdict`; pripravil ga bom konstruktor. `nalozi` bo dodajala vanj zelenjavo, vendar le, če bo imel slovar največ tri elemente."
   ]
  },
  {
   "cell_type": "code",
   "execution_count": 7,
   "id": "7fc497cd",
   "metadata": {},
   "outputs": [],
   "source": [
    "class Ladja:\n",
    "    def __init__(self):\n",
    "        self.tovor = defaultdict(int)\n",
    "\n",
    "    def nalozi(self, sorta, kolicina):\n",
    "        if len(self.tovor) < 3 or sorta in self.tovor:\n",
    "            self.tovor[sorta] += kolicina\n",
    "\n",
    "    def kolicina(self, sorta):\n",
    "        if sorta not in self.tovor:  # da ga defaultdict ne doda z 0\n",
    "            return 0\n",
    "        return self.tovor[sorta]"
   ]
  },
  {
   "cell_type": "markdown",
   "id": "0ac5c143",
   "metadata": {},
   "source": [
    "Grd trik je v `kolicina`: če bi napisali samo\n",
    "\n",
    "```python\n",
    "    def kolicina(self, sorta):\n",
    "        return self.tovor[sorta]\n",
    "```\n",
    "\n",
    "bi to sicer vrnilo 0, vendar bi, ker imamo `defaultdict`, dodalo to zelenjavo v slovar.  Zato `if`."
   ]
  }
 ],
 "metadata": {
  "kernelspec": {
   "display_name": "Python 3 (ipykernel)",
   "language": "python",
   "name": "python3"
  },
  "language_info": {
   "codemirror_mode": {
    "name": "ipython",
    "version": 3
   },
   "file_extension": ".py",
   "mimetype": "text/x-python",
   "name": "python",
   "nbconvert_exporter": "python",
   "pygments_lexer": "ipython3",
   "version": "3.10.0"
  }
 },
 "nbformat": 4,
 "nbformat_minor": 5
}
