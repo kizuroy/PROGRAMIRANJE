{
 "cells": [
  {
   "cell_type": "markdown",
   "id": "4493e67d",
   "metadata": {},
   "source": [
    "## 1. Letala z razgledom\n",
    "\n",
    "Kot smo vajeni, so letala tisti krogi, katerih notranjih krogi ne vsebujejo nobenega kroga. Letalo mora imeti enega ali več kot dva kroga. Testom sta priloženi funkciji vsebovanost in letala, skopirani iz rešitve domačih nalogah. Smeš ju spreminjati (morda jo boš celo moral), kopirati in uporabljati, kakor želiš."
   ]
  },
  {
   "cell_type": "code",
   "execution_count": 1,
   "id": "4c2eaa19",
   "metadata": {},
   "outputs": [],
   "source": [
    "def vsebovanost(krogi):\n",
    "    vsebuje = defaultdict(list)\n",
    "    notranji = set()\n",
    "\n",
    "    for krog0 in krogi:\n",
    "        for krog1 in krogi:\n",
    "            x0, y0, r0 = krog0\n",
    "            x1, y1, r1 = krog1\n",
    "            if r0 > r1 and (x1 - x0) ** 2 + (y1 - y0) ** 2 < r0 ** 2:\n",
    "                vsebuje[krog0].append(krog1)\n",
    "                notranji.add(krog1)\n",
    "\n",
    "    return vsebuje, notranji\n",
    "\n",
    "\n",
    "def letala(krogi):\n",
    "    vsebuje, notranji = vsebovanost(krogi)\n",
    "    letala = set()\n",
    "    for krog, vkrogu in vsebuje.items():\n",
    "        if krog in notranji or len(vkrogu) == 2:\n",
    "            continue\n",
    "        for vkrog in vkrogu:\n",
    "            if vkrog in vsebuje:\n",
    "                break\n",
    "        else:\n",
    "            letala.add(krog[:2])\n",
    "    return letala"
   ]
  },
  {
   "attachments": {},
   "cell_type": "markdown",
   "id": "1cb78013",
   "metadata": {},
   "source": [
    "Napiši funkcijo `najvec_oken(krogi)`, ki prejme seznam krogov, predstavljenih s trojkami `(x, y, r)`. Funkcija mora vrniti koordinati središča letala z največ okni. Če letal ni ali pa je letal z največ okni več, funkcija vrne `None`.\n",
    "\n",
    "### Rešitev\n",
    "\n",
    "Funkcijo `letala` spremenimo tako, da ne vrača koordinat središč temveč cele kroge - vrstico `letala.add(krog[:2])` popravimo v `letala.add(krog)`. To je potrebno narediti zato, da bo mogoče te kroge uporabljati kot ključe v slovar `vsebuje`.\n",
    "\n",
    "Rešitev je potem takšna."
   ]
  },
  {
   "cell_type": "code",
   "execution_count": 2,
   "id": "2925715a",
   "metadata": {},
   "outputs": [],
   "source": [
    "def najvec_oken(krogi):\n",
    "    vsebuje, _, = vsebovanost(krogi)\n",
    "    vsa_letala = letala(krogi)\n",
    "    if not vsa_letala:\n",
    "        return None\n",
    "    \n",
    "    naj_oken = max(len(vsebuje[krog]) for krog in vsa_letala)\n",
    "    naj_letala = [krog for krog in vsa_letala if len(vsebuje[krog]) == naj_oken]\n",
    "    \n",
    "    if len(naj_letala) != 1:\n",
    "        return None\n",
    "    return naj_letala[0][:2]"
   ]
  },
  {
   "cell_type": "markdown",
   "id": "59f01184",
   "metadata": {},
   "source": [
    "Najprej sestavimo seznam vseh letal. Če jih ni, vrnemo `None`.\n",
    "\n",
    "Nato poiščemo največje število oken. To najpreprosteje naredimo z `max(len(vsebuje[krog]) for krog in vsa_letala)`. Nato pripravimo seznam vseh letal, ki imajo toliko oken: `[krog for krog in vsa_letala if len(vsebuje[krog]) == naj_oken]`.\n",
    "\n",
    "Če ta seznam ne vsebuje natančno enega letala, vrnemo `None`. Sicer pa vrnemo središče tega letala.\n",
    "\n",
    "Če ne obvladamo izpeljanih seznamov oziroma, v tem primeru, generatorjev, se iskanje največjega števila oken in seznama letal s toliko okni nekoliko razpihne."
   ]
  },
  {
   "cell_type": "code",
   "execution_count": 3,
   "id": "2709459a",
   "metadata": {},
   "outputs": [],
   "source": [
    "def najvec_oken(krogi):\n",
    "    vsebuje, _, = vsebovanost(krogi)\n",
    "    vsa_letala = letala(krogi)\n",
    "    if not vsa_letala:\n",
    "        return None\n",
    "\n",
    "    naj_oken = 0\n",
    "    for krog in vsa_letala:\n",
    "        if len(vsebuje[krog]) > naj_oken:\n",
    "            naj_oken = len(vsebuje[krog])\n",
    "\n",
    "    naj_letala = []\n",
    "    for krog in vsa_letala:\n",
    "        if len(vsebuje[krog]) == naj_oken:\n",
    "            naj_letala.append(krog)\n",
    "\n",
    "    if len(naj_letala) != 1:\n",
    "        return None\n",
    "    return naj_letala[0][:2]"
   ]
  },
  {
   "cell_type": "markdown",
   "id": "ea230140",
   "metadata": {},
   "source": [
    "Tole pa je klasična rešitev, ki bi jo napisali v vsakem \"normalnem\" jeziku. Brez generatorjev in kar hitra."
   ]
  },
  {
   "cell_type": "code",
   "execution_count": 4,
   "id": "34b46426",
   "metadata": {},
   "outputs": [],
   "source": [
    "def najvec_oken(krogi):\n",
    "    vsebuje, _, = vsebovanost(krogi)\n",
    "    vsa_letala = letala(krogi)\n",
    "    naj_letala = []\n",
    "    naj_oken = 0\n",
    "    for krog in vsa_letala:\n",
    "        ta_oken = len(vsebuje[krog])\n",
    "        if ta_oken > naj_oken:\n",
    "            naj_letala = []\n",
    "            naj_oken = ta_oken\n",
    "        if ta_oken == naj_oken:\n",
    "            naj_letala.append(krog)\n",
    "\n",
    "    if len(naj_letala) != 1:\n",
    "        return None\n",
    "    return naj_letala[0][:2]"
   ]
  },
  {
   "cell_type": "markdown",
   "id": "16cc827f",
   "metadata": {},
   "source": [
    "Tu je `naj_oken` spet največje število oken, na katerega smo naleteli doslej, `naj_letala` pa so vsa (doslej videna) letala s takšnim številom oken. Če naletimo na letalo z večjim številom oken, pobrišem seznam (vsa letala, ki smo jih nabrali doslej, imajo manj oken od tega, ki ga gledamo zdaj). Obenem si zapomnimo, da je največje število oken prav to število oken. In če vidimo, da ima to letalo `naj_oken`, ga dodamo v seznam `naj_letala`. Konec je pa takšen kot prej."
   ]
  },
  {
   "attachments": {},
   "cell_type": "markdown",
   "id": "8e2f38f0",
   "metadata": {},
   "source": [
    "## 2. Število oken\n",
    "\n",
    "Tudi marsovske ladje imajo okna. In ptiči imajo okna (ki se jim reče oči). Vse ima okna.\n",
    "\n",
    "Napiši funkcijo stevilo_`oken(krog, hierarhija)`. Ta kot argument prejme krog in slovar, katerega ključi so krogi, ki vsebujejo vsaj en notranji krog, pripadajoče vrednosti pa seznami neposredno vsebovanih notranjih krogov (ne pa tudi krogov znotraj teh krogov). Če krog ne vsebuje nobenega kroga, ne nastopa kot ključ v slovarju.\n",
    "\n",
    "Funkcija mora vrniti število krogov, ki so posredno ali neposredno znotraj podanega kroga, ki ne vsebujejo nobenega kroga. **Dodatek:** Če podani krog ne vsebuje nobenih krogov, naj funkcija vrne `1`.\n",
    "\n",
    "### Rešitev\n",
    "\n",
    "Klasična rekurzivna funkcija. V bistvu je enaka funkciji `brez_potomcev`."
   ]
  },
  {
   "cell_type": "code",
   "execution_count": 5,
   "id": "c66aae31",
   "metadata": {},
   "outputs": [],
   "source": [
    "def stevilo_oken(krog, hierarhija):\n",
    "    if krog not in hierarhija:\n",
    "        return 1\n",
    "    return sum(stevilo_oken(podkrog, hierarhija) for podkrog in hierarhija[krog])"
   ]
  },
  {
   "attachments": {},
   "cell_type": "markdown",
   "id": "6accc1b1",
   "metadata": {},
   "source": [
    "## 3. Pari\n",
    "\n",
    "Napiši funkcijo `pari(krogi, razdalje)`. Ta prejme seznam središč krogov (par koordinat, brez polmerov!) in seznam razdalj med vsemi pari krogov. (Z razdaljo tu mislimo razdaljo med krožnicama, ne med središčema.) Ta seznam torej vsebuje toliko elementov, kolikor je parov krogov. Vsakemu paru ustreza terka (razdalja, {(x0, y0), (x1, y1)}), ki pomeni, da je razdalja med krogoma s središčema v (x0, y0) in (x1, y1) enaka razdalja. Seznam je že urejen naraščajoče po razdaljah.\n",
    "\n",
    "Funkcija mora vrniti seznam parov najbližjih krogov. Vsak par naj bo predstavljen z množico, ki vsebuje koordinati središč. Funkcija naj deluje preprosto tako, da vzame najbližji par in ga da v seznam, nato doda naslednji najbližji par (seveda brez teh dveh) in tako naprej. Če je število krogov liho, naj zadnji, preostali krog ignorira.\n",
    "Za formalnejšo razlago argumentov in rezultata poglej v teste.\n",
    "\n",
    "Pri reševanju lahko morda ignorirate ta ali oni argument. Štelo pa se vam bo v dobro, če funkcija ne bo brez potrebe stalno računala enih in istih stvari.\n",
    "\n",
    "### Rešitev\n",
    "\n",
    "Tole je predvsem naloga iz množic.\n",
    "\n",
    "En način je tak:"
   ]
  },
  {
   "cell_type": "code",
   "execution_count": 6,
   "id": "52074099",
   "metadata": {},
   "outputs": [],
   "source": [
    "def pari(krogi, razdalje):\n",
    "    krogi = set(krogi)\n",
    "    pari = []\n",
    "    for r, par in razdalje:\n",
    "        if par <= krogi:\n",
    "           pari.append(par)\n",
    "           krogi -= par\n",
    "    return pari"
   ]
  },
  {
   "cell_type": "markdown",
   "id": "e37e0b9e",
   "metadata": {},
   "source": [
    "Seznam krogov spremenimo v množico krogov, ker bo tako veliko hitreje in udobneje. Množica `krogi` bo vsebovale vse kroge, ki jih še nismo uporabili.\n",
    "\n",
    "Gremo čez vse pare in razdalje - pri čemer razdalij niti ne potrebujemo. Za vsak par pogledamo, ali je podmnožica še ne uporabljenih krogov. Če je tako, ga dodamo v seznam parov, kroga pa odstranimo iz množice.\n",
    "\n",
    "Drugi način ignorira argument `krogi` in raje sestavlja seznam uporabljenih krogov."
   ]
  },
  {
   "cell_type": "code",
   "execution_count": 7,
   "id": "a5e042c9",
   "metadata": {},
   "outputs": [],
   "source": [
    "def pari(krogi, razdalje):\n",
    "    uporabljeni = set()\n",
    "    pari = []\n",
    "    for r, par in razdalje:\n",
    "        if not par & uporabljeni:\n",
    "            pari.append(par)\n",
    "            uporabljeni |= par\n",
    "    return pari"
   ]
  },
  {
   "cell_type": "markdown",
   "id": "65ebc733",
   "metadata": {},
   "source": [
    "Gremo čez vse pare. Za vsakega preverimo njegov presek z množico uporabljenih krogov. Biti mora prazen - saj smo v nasprotnem primeru že uporabili enega (ali oba) kroga iz para. Če je torej prazen, dodamo par v seznam parov, kroga pa \"priunijamo\" v množico uporabljenih krogov.\n",
    "\n",
    "Rešitve, ki bi ignorirale `razdalje` in vedno znova iskale najbližji par, pa bi bile slabe, ker bi bile počasne pri velikem številu krogov. Na to je se je nanašalo navodilo, ki je odsvetovalo, da vedno znova računate eno in isto."
   ]
  },
  {
   "cell_type": "markdown",
   "id": "a0b1f4b5",
   "metadata": {},
   "source": [
    "## 4. Datoteke s krogi\n",
    "\n",
    "Recimo, da so vse koordinate središč in polmeri cela števila med 0 in 999. V tem primeru bi jih lahko zapisali v datoteko v takšni obliki.\n",
    "\n",
    "```\n",
    "150  23  38\n",
    "512 418  12\n",
    "  1   0 123\n",
    "123  11   5\n",
    "```\n",
    "\n",
    "Trenutni format datoteke pa je takšen, da je vsako število zapisano s tremi mesti (z vodilnimi ničlami; 42 je zapisano kot 042) in stlačeno v eno vrstico. Tisto zgoraj je torej zapisano kot 150023038512418012001000123123011005.\n",
    "\n",
    "Napiši funkcijo `prepisi_koordinate(vhodna, izhodna)`, ki dobi imeni dveh datotek. Datoteka vhoda vsebuje podatke v drugi, stisnjeni obliki, v eni sami vrstici. Funkcija naj v datoteko z imenom izhodna zapiše podatke v drugi obliki.\n",
    "\n",
    "### Rešitev\n",
    "\n",
    "Tole je mogoče rešiti na kup načinov. Meni je najbolj všeč, narediti dve zanki, eno s korakom 9 in eno s korakom 3. Ta po 9 se nanaša na vrstice, ona po 3 na številke znotraj teh vrstic. Znotraj zunanje zanke pripravimo prazno vrstico. V notranji zanki jemljemo po tri števke in jih spremenimo v `int` ter ustrezno oblikovane dodamo v vrstico, za številko pa dodamo še presledek. Po notranji zanki odstranimo zadnji presledek in dodamo `\"\\n\"`. To zapišemo v datoteko."
   ]
  },
  {
   "cell_type": "code",
   "execution_count": 8,
   "id": "c48e65e0",
   "metadata": {},
   "outputs": [],
   "source": [
    "def prepisi_koordinate(vhodna, izhodna):\n",
    "    podatki = open(vhodna).read().strip()\n",
    "    izhod = open(izhodna, \"wt\")\n",
    "    for vrsta in range(0, len(podatki), 9):\n",
    "        vrstica = \"\"\n",
    "        for i in range(vrsta, vrsta + 9, 3):\n",
    "            stevilka = int(podatki[i:i + 3])\n",
    "            vrstica += f\"{stevilka:3} \"\n",
    "        vrstica = vrstica[:-1] + \"\\n\"\n",
    "        izhod.write(vrstica)"
   ]
  },
  {
   "attachments": {},
   "cell_type": "markdown",
   "id": "58ccb8d8",
   "metadata": {},
   "source": [
    "Če hočemo reč malo skrajšati, potlačimo zadnjo zanko v en sam `join`, ki med številke postavi presledek."
   ]
  },
  {
   "cell_type": "code",
   "execution_count": 9,
   "id": "d573e713",
   "metadata": {},
   "outputs": [],
   "source": [
    "def prepisi_koordinate(vhodna, izhodna):\n",
    "    podatki = open(vhodna).read().strip()\n",
    "    izhod = open(izhodna, \"wt\")\n",
    "    for vrsta in range(0, len(podatki), 9):\n",
    "        izhod.write(\" \".join(f\"{int(podatki[i:i+3]):3}\"\n",
    "                             for i in range(vrsta, vrsta + 9, 3)) + \"\\n\")"
   ]
  },
  {
   "cell_type": "markdown",
   "id": "95c00ce4",
   "metadata": {},
   "source": [
    "Še bolj stlačena rešitev je"
   ]
  },
  {
   "cell_type": "code",
   "execution_count": 10,
   "id": "69c503c2",
   "metadata": {},
   "outputs": [],
   "source": [
    "def prepisi_koordinate(vhodna, izhodna):\n",
    "    podatki = open(vhodna).read().strip()\n",
    "    open(izhodna, \"wt\").write(\"\\n\".join(\n",
    "        \" \".join(f\"{int(podatki[i:i+3]):3}\"\n",
    "                 for i in range(vrsta, vrsta + 9, 3))\n",
    "        for vrsta in range(0, len(podatki), 9)))"
   ]
  },
  {
   "cell_type": "markdown",
   "id": "221dba58",
   "metadata": {},
   "source": [
    "Katera je najboljša? Najbrž prva. :)"
   ]
  },
  {
   "attachments": {},
   "cell_type": "markdown",
   "id": "119cccef",
   "metadata": {},
   "source": [
    "## 5. Strelec\n",
    "\n",
    "Napiši razred `Strelec` z naslednjimi metodami.\n",
    "\n",
    "- Konstruktor ne sprejema argumentov in naredi, kar je potrebno.\n",
    "- `dodeli(krog)`: dodeli strelcu ladjo, opisano s terko, ki vsebuje koordinati in polmer. Strelcu je lahko dodeljenih več ladij. Ladje se lahko \"prekrivajo\", ker se nahajajo ena za drugo.\n",
    "- `strel(x, y)`: uniči vse ladje, ki vsebujejo to koordinato (isti strel lahko prestreli več ladij, naši laserji so močni). Funkcija vrne `True`, če je strel zadel kakšno ladjo in `False`, če je ni.\n",
    "- `preostalih()` vrne število ladij, ki so dodeljene strelcu in jih le-ta še ni uničil.\n",
    "\n",
    "\n",
    "### Rešitev\n",
    "\n",
    "- Očitno bo potrebno shranjevati seznam ali množico dodeljenih ladij. Konstruktor torej pripravi prazno množico.\n",
    "\n",
    "- `dodeli` preprosto postavi nov krog v to množico.\n",
    "\n",
    "- `strel` sestavi novo množico, ki vsebuje vse kroge, ki preživijo strel. To je lažje od brisanja saj, vemo, ni zdravo iti z zanko prek neke stvari, iz katere brišemo elemente.\n",
    "\n",
    "- `preostalih` vrne velikost množice.\n",
    "\n",
    "Torej tako:"
   ]
  },
  {
   "cell_type": "code",
   "execution_count": 11,
   "id": "89c311dc",
   "metadata": {},
   "outputs": [],
   "source": [
    "class Strelec:\n",
    "    def __init__(self):\n",
    "        self.dodeljeno = set()\n",
    "\n",
    "    def dodeli(self, krog):\n",
    "        self.dodeljeno.add(krog)\n",
    "\n",
    "    def strel(self, x, y):\n",
    "        prej = self.preostalih()\n",
    "        self.dodeljeno = {(x0, y0, r0) for x0, y0, r0 in self.dodeljeno\n",
    "                          if (x - x0) ** 2 + (y - y0) ** 2 > r0 ** 2}\n",
    "        return self.preostalih() != prej\n",
    "\n",
    "    def preostalih(self):\n",
    "        return len(self.dodeljeno)"
   ]
  },
  {
   "cell_type": "markdown",
   "id": "5d7cd66c",
   "metadata": {},
   "source": [
    "Pri `strel` si najprej zapomnimo, koliko krogov nas še čaka. Funkcija potem vrne, ali se je število čakajočih krogov spremenilo.\n",
    "\n",
    "Metodo `strel` bi lahko napisali tudi tako:\n",
    "\n",
    "```python\n",
    "    def strel(self, x, y):\n",
    "        zadeti = {(x0, y0, r0) for x0, y0, r0 in self.dodeljeno\n",
    "                  if (x - x0) ** 2 + (y - y0) ** 2 <= r0 ** 2}\n",
    "        self.dodeljeno -= zadeti\n",
    "        return zadeti != set()\n",
    "```\n",
    "\n",
    "Pravi programerji v Pythonu pa vedo, da se zadnja vrstica napiše\n",
    "\n",
    "```python\n",
    "        return bool(zadeti)\n",
    "```"
   ]
  }
 ],
 "metadata": {
  "kernelspec": {
   "display_name": "Python 3 (ipykernel)",
   "language": "python",
   "name": "python3"
  },
  "language_info": {
   "codemirror_mode": {
    "name": "ipython",
    "version": 3
   },
   "file_extension": ".py",
   "mimetype": "text/x-python",
   "name": "python",
   "nbconvert_exporter": "python",
   "pygments_lexer": "ipython3",
   "version": "3.9.7"
  }
 },
 "nbformat": 4,
 "nbformat_minor": 5
}
