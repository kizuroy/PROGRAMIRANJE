{
 "cells": [
  {
   "cell_type": "markdown",
   "metadata": {},
   "source": [
    "## Šestkotna mreža\n",
    "\n",
    "<img style=\"float: left; padding-right: 20px;\" src=\"data:image/.png;base64,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\"/>\n",
    "\n",
    "V domači nalogi hodimo po pravokotni mreži. V izzivu bomo po hodili šestkotni. Možne smeri so n, ne, se, s, sw, nw. Slika kaže pot \"se,sw,se,sw,sw\". Ko prehodimo to pot, smo v resnici le tri korake od izhodišča (na primer: s, s, sw).\n",
    "\n",
    "Koliko korakov od izhodišča smo, ko prehodimo pot v datoteki?\n",
    "\n",
    "\n",
    "V domači nalogi hodimo po pravokotni mreži. V izzivu bomo po hodili šestkotni. Možne smeri so n, ne, se, s, sw, nw. Slika kaže pot \"se,sw,se,sw,sw\". Ko prehodimo to pot, smo v resnici le tri korake od izhodišča (na primer: s, s, sw).\n",
    "\n",
    "Koliko korakov od izhodišča smo, ko prehodimo pot v datoteki?\n",
    "\n",
    "(Pravilni odgovor je sestavljen iz treh zaporednih števk v napačnem vrstnem redu.)\n",
    "\n",
    "### Rešitev\n",
    "\n",
    "<img style=\"float: left; padding-right: 20px;\" src=\"data:image/.png;base64,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\"/>\n",
    "\n",
    "Izziv je bil zanimiv predvsem zato, ker je bil bistveno lažji od domače naloge. :)\n",
    "\n",
    "Finta je edinole v tem, da si moramo izmisliti šestkotni koordinatni sistem. Lahko je, recimo, tak kot na sliki.\n",
    "\n",
    "Odtod naprej gre kot v domači nalogi: beremo korake in hodimo po mreži."
   ]
  },
  {
   "cell_type": "code",
   "execution_count": 1,
   "metadata": {},
   "outputs": [
    {
     "name": "stdout",
     "output_type": "stream",
     "text": [
      "213 462\n"
     ]
    }
   ],
   "source": [
    "directions = {\"n\": (1, 0), \"ne\": (0, 1), \"se\": (-1, 1),\n",
    "              \"s\": (-1, 0), \"sw\": (0, -1), \"nw\": (1, -1)}\n",
    "\n",
    "x, y = 0, 0\n",
    "for step in open(\"pot.txt\").read().strip().split(\",\"):\n",
    "    dx, dy = directions[step]\n",
    "    x += dx\n",
    "    y += dy\n",
    "    \n",
    "print(x, y)"
   ]
  },
  {
   "cell_type": "markdown",
   "metadata": {},
   "source": [
    "Zdaj vemo, kje končamo. Tu pa postanejo stvari zabavne. Ko sem nalogo reševal sam, sem jo rešil narobe: preprosto seštel sem absolutni vrednosti obeh števil. To je pravilno, če končam kje v prvem ali tretjem kvadrantu, se pravi zgoraj desno ali spodaj levo. V tem primeru se moram namreč zapeljati najprej po eni (sever-jug), potem po drugi osi (jugozahod-severovzhod).\n",
    "\n",
    "Če končamo v drugem ali tretjem kvadrantu, pa imamo na voljo še bližnjico, os severozahod-jugovzhod. Ta \"popravlja\" obe koordinati hkrati. Najkrajša pot v tem primeru torej vodi tako, da se premaknem v smeri `se` ali `nw` tolikokrat, kolikor je velika manjša od koordinat končne celice. Po tem se bom znašel na eni od osi - bodisi navpični bodisi poševni. Potem se bom moral zapeljati še po tej osi. No, če k minimumu dveh števil prištejem razliko med njima, potem dobim maksimum teh dveh stvari. Število potrebnih korakov torej izračunamo tako:"
   ]
  },
  {
   "cell_type": "code",
   "execution_count": 2,
   "metadata": {},
   "outputs": [],
   "source": [
    "if x * y > 0:  # oba sta pozitivna ali oba negativna\n",
    "    korakov = abs(x) + abs(y)\n",
    "else:\n",
    "    korakov = max(abs(x), abs(y))"
   ]
  },
  {
   "cell_type": "markdown",
   "metadata": {},
   "source": [
    "Mislim, da je zdaj pravilno. In kar zanimivo, ne?\n",
    "\n",
    "Da bomo kljub relativno preprosti nalogi naredili nekaj zabavnega in spoznali nekaj novega: Python ima vdelana tudi kompleksna števila, le da namesto (bolj matematičnega) `i` uporablja (bolj inženirski) `j`. Z njimi lahko obe koordinati shranimo v eno samo spremenljivko."
   ]
  },
  {
   "cell_type": "code",
   "execution_count": 3,
   "metadata": {},
   "outputs": [
    {
     "name": "stdout",
     "output_type": "stream",
     "text": [
      "(213+462j)\n"
     ]
    }
   ],
   "source": [
    "directions = {\"n\": 1, \"ne\": 1j, \"se\": -1 + 1j, \"s\": -1, \"sw\": -1j, \"nw\": 1 - 1j}\n",
    "\n",
    "coord = 0\n",
    "for step in open(\"pot.txt\").read().strip().split(\",\"):\n",
    "    coord += directions[step]\n",
    "    \n",
    "print(coord)"
   ]
  },
  {
   "cell_type": "markdown",
   "metadata": {},
   "source": [
    "Ob tem, kar se bomo učili danes, bi bil greh, če programa ne bi skrajšali v"
   ]
  },
  {
   "cell_type": "code",
   "execution_count": 4,
   "metadata": {},
   "outputs": [
    {
     "data": {
      "text/plain": [
       "(213+462j)"
      ]
     },
     "execution_count": 4,
     "metadata": {},
     "output_type": "execute_result"
    }
   ],
   "source": [
    "directions = {\"n\": 1, \"ne\": 1j, \"se\": -1 + 1j, \"s\": -1, \"sw\": -1j, \"nw\": 1 - 1j}\n",
    "\n",
    "sum(directions[step] for step in open(\"pot.txt\").read().strip().split(\",\"))"
   ]
  },
  {
   "cell_type": "markdown",
   "metadata": {},
   "source": [
    "### Hitrejše štetje\n",
    "\n",
    "Ob pregledovanju študentskih rešitev sem opazil eno, ki bi mi morala priti na misel - a mi ni.\n",
    "\n",
    "Očitno je vrstni red korakov nepomemben, torej lahko kar z `collections.Counter` preštejemo, kolikokrat smo šli kam. Potem pa poračunamo razdalje."
   ]
  },
  {
   "cell_type": "code",
   "execution_count": 5,
   "metadata": {},
   "outputs": [
    {
     "data": {
      "text/plain": [
       "Counter({'se': 1366, 'sw': 1059, 's': 1396, 'nw': 1272, 'ne': 1427, 'n': 1703})"
      ]
     },
     "execution_count": 5,
     "metadata": {},
     "output_type": "execute_result"
    }
   ],
   "source": [
    "from collections import Counter\n",
    "\n",
    "koraki = Counter(open(\"pot.txt\").read().strip().split(\",\"))\n",
    "koraki"
   ]
  },
  {
   "cell_type": "code",
   "execution_count": 6,
   "metadata": {},
   "outputs": [
    {
     "data": {
      "text/plain": [
       "675"
      ]
     },
     "execution_count": 6,
     "metadata": {},
     "output_type": "execute_result"
    }
   ],
   "source": [
    "korakov = abs(koraki[\"n\"] - koraki[\"s\"] - koraki[\"se\"] + koraki[\"nw\"]) \\\n",
    "        + abs(koraki[\"ne\"] - koraki[\"sw\"] + koraki[\"se\"] - koraki[\"nw\"])\n",
    "\n",
    "korakov"
   ]
  },
  {
   "cell_type": "markdown",
   "metadata": {},
   "source": [
    "Kako pridemo do zadnje formule? Spomnimo se slovarja `{\"n\": (1, 0), \"ne\": (0, 1), \"se\": (-1, 1), \"s\": (-1, 0), \"sw\": (0, -1), \"nw\": (1, -1)}` ter seštevamo prve komponente in druge komponente."
   ]
  }
 ],
 "metadata": {
  "kernelspec": {
   "display_name": "Python 3",
   "language": "python",
   "name": "python3"
  },
  "language_info": {
   "codemirror_mode": {
    "name": "ipython",
    "version": 3
   },
   "file_extension": ".py",
   "mimetype": "text/x-python",
   "name": "python",
   "nbconvert_exporter": "python",
   "pygments_lexer": "ipython3",
   "version": "3.7.4"
  }
 },
 "nbformat": 4,
 "nbformat_minor": 4
}
