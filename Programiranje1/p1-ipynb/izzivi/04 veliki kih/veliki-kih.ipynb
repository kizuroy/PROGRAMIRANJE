{
 "cells": [
  {
   "cell_type": "markdown",
   "metadata": {},
   "source": [
    "## Veliki kih\n",
    "\n",
    "Neka visokomogočna in precej velika bitja, so zbrala 65536 zvezd najrazličnejših svetlosti. Razporedila so jih na dvodimenzionalno mrežo velikosti 256x256. Če so stvaritev pogledala od daleč, je bila videti kot črno-bela slika. (No, v resnici črno-oranžno-rumeno-bela, saj gre za zvezde). Zvezde so torej predstavljale piksle neke oranženkaste slike.\n",
    "\n",
    "Slika je bila imenitna in znana in imela celo ime. Rekli so ji ... bogvekako, tudi ime se je izgubilo.\n",
    "\n",
    "Dolga leta je bila razstavljena. Potem je eden od ogledovalcev kihnil. Močno kihnil.\n",
    "\n",
    "Zvezde so se razletele vsaka na svojo stran. Ene počasneje, ene hitreje; ene levo, ene desno, ene gor, ene dol; večina, pač, nekam postrani.\n",
    "\n",
    "Okrog zvezd so se sčasoma naredili planeti. Na planetih je zrasel najprej en sam plevel, kasneje pa tudi solata in žirafe. In neka manj mogočna in manj velika bitja, ki pa so sčasoma odkrila teleskope in spektre in tako naprej. V datoteko [meritve.txt](meritve.txt) so zbrala podatke o meritvah. Vsaka vrstica datoteke predstavlja eno zvedo: prvi stolpec pove njeno svetlost, drugi in tretji njeni koordinati, četrti in peti pa njeno hitrost v smeri x in smeri y (torej: za koliko se spremenijo koordinate zvezde v enem stoletju). Ker so ona, prva bitja, bila in tudi ostala zelo diskretna, so vsa števila cela.\n",
    "\n",
    "Kako je bilo ime sliki?\n",
    "\n",
    "Namig: za začetek bo treba ugotoviti, kaj je bilo na njej ... pred velikim kihom.\n",
    "\n",
    "### Tehnična pomoč\n",
    "\n",
    "Izziva se lahko seveda lotiš v poljubnem jeziku. Ker se na predavanjih pogovarjamo o numpyju in Pythonu, pa je tule pomoč za numpy in Python.\n",
    "\n",
    "Podatke najlažje preberemo z"
   ]
  },
  {
   "cell_type": "code",
   "execution_count": 1,
   "metadata": {},
   "outputs": [
    {
     "data": {
      "text/plain": [
       "array([[    161,  -73865,   37242,      -6,       3],\n",
       "       [    161,  -61517, -110923,      -5,      -9],\n",
       "       [    157, -123325,   98876,     -10,       8],\n",
       "       ...,\n",
       "       [    104,  -12324,   12370,      -1,       1],\n",
       "       [    104,   98860,   86456,       8,       7],\n",
       "       [    108,   74256,   12459,       6,       1]])"
      ]
     },
     "execution_count": 1,
     "metadata": {},
     "output_type": "execute_result"
    }
   ],
   "source": [
    "import numpy as np\n",
    "\n",
    "np.loadtxt(\"meritve.txt\", dtype=np.int64)"
   ]
  },
  {
   "cell_type": "markdown",
   "metadata": {},
   "source": [
    "Kako to premetavati naprej, odkrij sam(a).\n",
    "\n",
    "Če želim v jupytru pokazati sliko dimenzij (30, 50), ki ima neko bolj temno zvezdo na (5, 7) in neko svetlejšo na (25, 33), nam je storiti tole:"
   ]
  },
  {
   "cell_type": "code",
   "execution_count": 2,
   "metadata": {},
   "outputs": [
    {
     "data": {
      "text/plain": [
       "<matplotlib.image.AxesImage at 0x7fb8de199550>"
      ]
     },
     "execution_count": 2,
     "metadata": {},
     "output_type": "execute_result"
    },
    {
     "data": {
      "image/png": "[encoded data removed]",
      "text/plain": [
       "<Figure size 432x288 with 1 Axes>"
      ]
     },
     "metadata": {
      "needs_background": "light"
     },
     "output_type": "display_data"
    }
   ],
   "source": [
    "%matplotlib inline\n",
    "\n",
    "\n",
    "import numpy as np\n",
    "import matplotlib.pyplot as plt\n",
    "\n",
    "slika = np.zeros((30, 50), dtype=np.uint8)\n",
    "slika[5, 7] = 64\n",
    "slika[25, 33] = 128\n",
    "\n",
    "plt.imshow(slika, cmap=\"afmhot\")"
   ]
  },
  {
   "cell_type": "markdown",
   "metadata": {},
   "source": [
    "Z `dtype=np.uint8` v klicu `np.zeros` povemo, da matrika vsebuje cela števila (osembitne nepredznačene `int`-e). V tem primeru `plt.imshow` pričakuje vrednosti med 0 in 255, kar ravno ustreza svetlostim zvezd. (Kakšno naključje.)\n",
    "\n",
    "Argument `cmap=\"afmhot\"` v klicu `plt.imshow` določi barvno paleto. Če bi napisali `cmap=\"gray\"`, bi bila slika črno-bela. Ker gre za sliko iz zvezd, bo ustrezna paleta `\"afmhot\"`.\n",
    "\n",
    "Namig: ni težko, samo simulacijo je potrebno pognati nazaj. Zadnja dva stolpca povesta, za koliko se drugi in tretji stolpci spremenita v vsakem stoletju. Odkriti morate, za koliko stoletij **nazaj** je potrebno iti, da se bodo vse številke v drugem stolpcu razlikovale za največ 256; v drugem pa ravno tako. Ko dobite takšne koordinate, pa izrišite sliko po gornjih navodilih."
   ]
  }
 ],
 "metadata": {
  "kernelspec": {
   "display_name": "Python 3 (ipykernel)",
   "language": "python",
   "name": "python3"
  },
  "language_info": {
   "codemirror_mode": {
    "name": "ipython",
    "version": 3
   },
   "file_extension": ".py",
   "mimetype": "text/x-python",
   "name": "python",
   "nbconvert_exporter": "python",
   "pygments_lexer": "ipython3",
   "version": "3.9.7"
  }
 },
 "nbformat": 4,
 "nbformat_minor": 4
}
