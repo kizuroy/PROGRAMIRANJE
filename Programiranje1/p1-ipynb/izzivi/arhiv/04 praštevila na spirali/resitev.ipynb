{
 "cells": [
  {
   "cell_type": "markdown",
   "metadata": {},
   "source": [
    "# Praštevila na spirali (Ulamova spirala)\n",
    "\n",
    "<img style=\"float: right\" src=\"https://upload.wikimedia.org/wikipedia/commons/thumb/1/1d/Ulam_spiral_howto_all_numbers.svg/400px-Ulam_spiral_howto_all_numbers.svg.png\"/>\n",
    "\n",
    "Tudi resnični avtor te naloge je taisti Ulam, s čigar števili smo se zabavali pred kratkim, le da smo jim rekli \"Zanesljiva števila\", da ne bi bilo prehudih skušnjav z Googlanjem.\n",
    "\n",
    "Gre za [Ulamovo spiralo](https://en.wikipedia.org/wiki/Ulam_spiral).\n",
    "\n",
    "\n",
    "\n",
    "Nalogo lahko seveda rešujemo tako, da se sprehodimo po spirali in za vsako število, ki je na diagonali, preverimo, ali je praštevilo. Lažje pa gre, če odkrijemo formulo za števila na spirali.\n",
    "\n",
    "Poglejmo nekaj rešitev.\n",
    "\n",
    "### Formula za diagonalo\n",
    "\n",
    "Ker gre za kvadratno spiralo, bomo najbrž nekje na njej opazili kvadrate števil. V resnici imamo 4, 16, 36 (in to se potem nadaljuje, poskusite!) takoj desno od diagonale, ki gre levo gor. Števila na tej diagonali so torej enaka $0^2+1$, $2^2 + 1$, $4^2 + 1$, $6^2 + 1$ ... $(2i)^2 + 1$. Števila na diagonali, ki gre desno gor so za $i$ manjša, števila na diagonali levo dol pa za $i$ večja. Števila na diagonali desno dol nas ne zanimajo, saj med njimi očitno ni praštevil.  \n"
   ]
  },
  {
   "cell_type": "code",
   "execution_count": 1,
   "metadata": {},
   "outputs": [
    {
     "name": "stdout",
     "output_type": "stream",
     "text": [
      "50\n"
     ]
    }
   ],
   "source": [
    "# Program je nekoliko šlampast z mejami: če ne bi želeli ravno 10000 števil,\n",
    "# bi morali popaziti, da ne gremo čez gornjo mejo!\n",
    "\n",
    "prastevil = 0\n",
    "for i in range(2, 101, 2):\n",
    "    n = i ** 2 + 1\n",
    "    for f in (-1, 0, 1):\n",
    "        kandidat = n + i * f\n",
    "        d = 2\n",
    "        while d < kandidat:\n",
    "            if kandidat % d == 0:\n",
    "                break\n",
    "            d += 1\n",
    "        else:\n",
    "            prastevil += 1\n",
    "    i += 2\n",
    "print(prastevil)"
   ]
  },
  {
   "cell_type": "markdown",
   "metadata": {},
   "source": [
    "Tole je zaradi vse teh zank precej nepregledno. Čeprav se uradno še nismo učili pisanja funkcij, napišimo ločeno funkcijo za ugotavljanje praštevilskosti."
   ]
  },
  {
   "cell_type": "code",
   "execution_count": 2,
   "metadata": {},
   "outputs": [
    {
     "name": "stdout",
     "output_type": "stream",
     "text": [
      "50\n"
     ]
    }
   ],
   "source": [
    "def je_prastevilo(n):\n",
    "    for i in range(2, n):\n",
    "        if n % i == 0:\n",
    "            return False\n",
    "    return True\n",
    "\n",
    "prastevil = 0\n",
    "for i in range(2, 101, 2):\n",
    "    n = i ** 2 + 1\n",
    "    for f in (-1, 0, 1):\n",
    "        kandidat = n + i * f\n",
    "        if je_prastevilo(kandidat):\n",
    "            prastevil += 1\n",
    "print(prastevil)"
   ]
  },
  {
   "cell_type": "markdown",
   "metadata": {},
   "source": [
    "### Koraki\n",
    "\n",
    "Namesto formule lahko opazujemo razlike med števili na diagonalah. Števila na diagonalah so 3, 5, 7, 9; 13, 17, 21, 25; 31, 37, 43, 49; 57, 65, 73, 81; ... Razdelili smo jih v skupinice po štiri: razlike med prvo četverko so 2, med drugo 4, med tretjo 6 in tako naprej. Potrebujemo torej program, ki začne pri 1 in potem štirikrat prišteje 2, štirikrat 4, štirikrat 6 ..."
   ]
  },
  {
   "cell_type": "code",
   "execution_count": 3,
   "metadata": {},
   "outputs": [
    {
     "name": "stdout",
     "output_type": "stream",
     "text": [
      "50\n"
     ]
    }
   ],
   "source": [
    "prastevil = 0\n",
    "n = 1\n",
    "korak = 2\n",
    "while n < 10000:\n",
    "    for f in range(4):\n",
    "        n += korak\n",
    "        if je_prastevilo(n):\n",
    "            prastevil += 1\n",
    "    korak += 2\n",
    "print(prastevil)"
   ]
  },
  {
   "cell_type": "markdown",
   "metadata": {},
   "source": [
    "### Numpy\n",
    "\n",
    "Ker smo si na dodatnih predavanjih ogledali numpy, je tu še rešitev z njim. Nekateri so ga tudi dejansko uporabljali, čeprav nam tu pravzaprav ne pomaga bistveno: najbolj časovno zahteven del naloge je ugotavljanje praštevilskosti in to je zoprno z numpyjem ali brez.\n",
    "\n",
    "Najprej funkcija `je_prastevilo`. Sestavimo tabelo ostankov po deljenju `x` z vsemi števili od 2 do $\\left\\lceil{\\sqrt{x}}\\right\\rceil$ in se vprašamo, če so vsi različni od 0. To ne deluje pri $x=2$, vendar me to ne vznemirja, saj 2 ni na diagonali."
   ]
  },
  {
   "cell_type": "code",
   "execution_count": 4,
   "metadata": {},
   "outputs": [],
   "source": [
    "import numpy as np\n",
    "\n",
    "def je_prastevilo(x):  # ne deluje za 2, vendar ga ne potrebujemo\n",
    "    return np.all(x % np.arange(2, int(np.ceil(1 + np.sqrt(x)))))"
   ]
  },
  {
   "cell_type": "markdown",
   "metadata": {},
   "source": [
    "Zdaj pa sestavimo tabelo vseh števil na diagonali. Formula bo takšna, kot v rešitvi v čistem Pythonu. V `d` bomo naračunali diagonalo desno gor, `d = i ** 2 + 1`. Ostali dve diagonali sta `d - i` in `d + i`. Vse tri zbašemo v isto tabelo."
   ]
  },
  {
   "cell_type": "code",
   "execution_count": 5,
   "metadata": {},
   "outputs": [
    {
     "data": {
      "text/plain": [
       "array([[    3,    13,    31,    57,    91,   133,   183,   241,   307,\n",
       "          381,   463,   553,   651,   757,   871,   993,  1123,  1261,\n",
       "         1407,  1561,  1723,  1893,  2071,  2257,  2451,  2653,  2863,\n",
       "         3081,  3307,  3541,  3783,  4033,  4291,  4557,  4831,  5113,\n",
       "         5403,  5701,  6007,  6321,  6643,  6973,  7311,  7657,  8011,\n",
       "         8373,  8743,  9121,  9507,  9901],\n",
       "       [    5,    17,    37,    65,   101,   145,   197,   257,   325,\n",
       "          401,   485,   577,   677,   785,   901,  1025,  1157,  1297,\n",
       "         1445,  1601,  1765,  1937,  2117,  2305,  2501,  2705,  2917,\n",
       "         3137,  3365,  3601,  3845,  4097,  4357,  4625,  4901,  5185,\n",
       "         5477,  5777,  6085,  6401,  6725,  7057,  7397,  7745,  8101,\n",
       "         8465,  8837,  9217,  9605, 10001],\n",
       "       [    7,    21,    43,    73,   111,   157,   211,   273,   343,\n",
       "          421,   507,   601,   703,   813,   931,  1057,  1191,  1333,\n",
       "         1483,  1641,  1807,  1981,  2163,  2353,  2551,  2757,  2971,\n",
       "         3193,  3423,  3661,  3907,  4161,  4423,  4693,  4971,  5257,\n",
       "         5551,  5853,  6163,  6481,  6807,  7141,  7483,  7833,  8191,\n",
       "         8557,  8931,  9313,  9703, 10101]])"
      ]
     },
     "execution_count": 5,
     "metadata": {},
     "output_type": "execute_result"
    }
   ],
   "source": [
    "i = np.arange(2, 101, 2)\n",
    "d = i ** 2 + 1\n",
    "a = np.vstack((d - i, d, d + i))\n",
    "a"
   ]
  },
  {
   "cell_type": "markdown",
   "metadata": {},
   "source": [
    "Če hočemo lepo urejeno tabelo, jo transponirajmo in sploščimo."
   ]
  },
  {
   "cell_type": "code",
   "execution_count": 6,
   "metadata": {},
   "outputs": [
    {
     "data": {
      "text/plain": [
       "array([[  3,   5,   7],\n",
       "       [ 13,  17,  21],\n",
       "       [ 31,  37,  43],\n",
       "       [ 57,  65,  73],\n",
       "       [ 91, 101, 111],\n",
       "       [133, 145, 157],\n",
       "       [183, 197, 211],\n",
       "       [241, 257, 273],\n",
       "       [307, 325, 343],\n",
       "       [381, 401, 421]])"
      ]
     },
     "execution_count": 6,
     "metadata": {},
     "output_type": "execute_result"
    }
   ],
   "source": [
    "a.T[:10]  # izpišimo samo prvih deset vrstic, da ne gledamo dolgih izpisov"
   ]
  },
  {
   "cell_type": "code",
   "execution_count": 7,
   "metadata": {},
   "outputs": [
    {
     "data": {
      "text/plain": [
       "array([  3,   5,   7,  13,  17,  21,  31,  37,  43,  57,  65,  73,  91,\n",
       "       101, 111, 133, 145, 157, 183, 197, 211, 241, 257, 273, 307, 325,\n",
       "       343, 381, 401, 421, 463, 485, 507, 553, 577, 601, 651, 677, 703,\n",
       "       757])"
      ]
     },
     "execution_count": 7,
     "metadata": {},
     "output_type": "execute_result"
    }
   ],
   "source": [
    "a.T.flatten()[:40]  # izpišimo samo začetek"
   ]
  },
  {
   "cell_type": "markdown",
   "metadata": {},
   "source": [
    "Vse skupaj je torej:"
   ]
  },
  {
   "cell_type": "code",
   "execution_count": 8,
   "metadata": {},
   "outputs": [],
   "source": [
    "i = np.arange(2, 101, 2)\n",
    "d = i ** 2 + 1\n",
    "a = np.vstack((d - i, d, d + i)).T.flatten()"
   ]
  },
  {
   "cell_type": "markdown",
   "metadata": {},
   "source": [
    "Program pa bi enako dobro deloval tudi, če števila ne bi bila urejena: namesto `vstack` uporabimo `hstack`, ki tabele spne skupaj v eno samo vrstico, pa se izognemu transponiranju in sploščevanju."
   ]
  },
  {
   "cell_type": "code",
   "execution_count": 9,
   "metadata": {},
   "outputs": [],
   "source": [
    "i = np.arange(2, 101, 2)\n",
    "d = i ** 2 + 1\n",
    "a = np.hstack((d - i, d, d + i))"
   ]
  },
  {
   "cell_type": "markdown",
   "metadata": {},
   "source": [
    "Kakorkoli se že lotimo, na koncu le še seštejemo, kolikokrat `je_prastevilo` za ta števila vrne `True`.\n",
    "\n",
    "Celoten program je"
   ]
  },
  {
   "cell_type": "code",
   "execution_count": 10,
   "metadata": {},
   "outputs": [
    {
     "name": "stdout",
     "output_type": "stream",
     "text": [
      "50\n"
     ]
    }
   ],
   "source": [
    "import numpy as np\n",
    "\n",
    "def je_prastevilo(x):  # ne deluje za 2, vendar ga ne potrebujemo\n",
    "    return np.all(x % np.arange(2, int(np.ceil(1 + np.sqrt(x)))))\n",
    "\n",
    "i = np.arange(2, 101, 2)\n",
    "d = i ** 2 + 1\n",
    "a = np.hstack((d - i, d, d + i))\n",
    "\n",
    "print(sum(je_prastevilo(x) for x in a))"
   ]
  },
  {
   "cell_type": "markdown",
   "metadata": {},
   "source": [
    "Zlaganje v isto tabelo je sicer nepotrebno. Naredimo lahko tudi tako:"
   ]
  },
  {
   "cell_type": "code",
   "execution_count": 11,
   "metadata": {},
   "outputs": [
    {
     "name": "stdout",
     "output_type": "stream",
     "text": [
      "50\n"
     ]
    }
   ],
   "source": [
    "i = np.arange(2, 101, 2)\n",
    "a = i ** 2 + 1\n",
    "print(sum(je_prastevilo(x) for d in (a - i, a, a + i) for x in d))"
   ]
  }
 ],
 "metadata": {
  "kernelspec": {
   "display_name": "Python 3",
   "language": "python",
   "name": "python3"
  },
  "language_info": {
   "codemirror_mode": {
    "name": "ipython",
    "version": 3
   },
   "file_extension": ".py",
   "mimetype": "text/x-python",
   "name": "python",
   "nbconvert_exporter": "python",
   "pygments_lexer": "ipython3",
   "version": "3.7.4"
  }
 },
 "nbformat": 4,
 "nbformat_minor": 4
}
