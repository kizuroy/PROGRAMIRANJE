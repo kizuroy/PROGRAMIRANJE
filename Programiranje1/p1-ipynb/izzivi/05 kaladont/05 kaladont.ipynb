{
 "cells": [
  {
   "cell_type": "markdown",
   "metadata": {},
   "source": [
    "## Najdaljše zaporedje besed\n",
    "\n",
    "Izziv je bil torej tak: imamo seznam besed. Sestaviti želimo najdaljšo verigo besed, v kateri se vsaka beseda začne z zadnjo črko prejšnje. Besede se ne smejo ponavljati. Veriga se lahko začne s poljubno besedo.\n",
    "\n",
    "Pri reševanju lahko uporabljamo nekoliko krajši slovar besed in enega z več kot 1500 besedami, ki jih lahko uvozimo iz modula `besede`, ki je priložen nalogi."
   ]
  },
  {
   "cell_type": "code",
   "execution_count": 1,
   "metadata": {},
   "outputs": [],
   "source": [
    "slovar = [\"ABRAHAM\", \"MELODIJA\", \"ASTEROID\", \"DREVO\", \"MEČ\", \"OBLAK\", \"KLEPTOMAN\", \"KAČA\"]\n",
    "from besede import nouns"
   ]
  },
  {
   "cell_type": "markdown",
   "metadata": {},
   "source": [
    "### Izčrpno preiskovanje\n",
    "\n",
    "Očitno je prva možnost, da pregledamo vsa možna zaporedja. Enako očitno je tudi, da je teh zaporedij veliko.\n",
    "\n",
    "Nekateri študenti so se lotili tega izziva. To je pohvalno."
   ]
  },
  {
   "cell_type": "code",
   "execution_count": 2,
   "metadata": {},
   "outputs": [
    {
     "data": {
      "text/plain": [
       "[['KAČA'],\n",
       " ['KAČA', 'ASTEROID'],\n",
       " ['KAČA', 'ASTEROID', 'DREVO'],\n",
       " ['KAČA', 'ASTEROID', 'DREVO', 'OBLAK'],\n",
       " ['KAČA', 'ASTEROID', 'DREVO', 'OBLAK', 'KLEPTOMAN'],\n",
       " ['KAČA', 'ABRAHAM'],\n",
       " ['KAČA', 'ABRAHAM', 'MEČ'],\n",
       " ['KAČA', 'ABRAHAM', 'MELODIJA'],\n",
       " ['KAČA', 'ABRAHAM', 'MELODIJA', 'ASTEROID'],\n",
       " ['KAČA', 'ABRAHAM', 'MELODIJA', 'ASTEROID', 'DREVO'],\n",
       " ['KAČA', 'ABRAHAM', 'MELODIJA', 'ASTEROID', 'DREVO', 'OBLAK'],\n",
       " ['KAČA', 'ABRAHAM', 'MELODIJA', 'ASTEROID', 'DREVO', 'OBLAK', 'KLEPTOMAN'],\n",
       " ['DREVO'],\n",
       " ['DREVO', 'OBLAK'],\n",
       " ['DREVO', 'OBLAK', 'KAČA'],\n",
       " ['DREVO', 'OBLAK', 'KAČA', 'ASTEROID'],\n",
       " ['DREVO', 'OBLAK', 'KAČA', 'ABRAHAM'],\n",
       " ['DREVO', 'OBLAK', 'KAČA', 'ABRAHAM', 'MEČ'],\n",
       " ['DREVO', 'OBLAK', 'KAČA', 'ABRAHAM', 'MELODIJA'],\n",
       " ['DREVO', 'OBLAK', 'KAČA', 'ABRAHAM', 'MELODIJA', 'ASTEROID'],\n",
       " ['DREVO', 'OBLAK', 'KLEPTOMAN'],\n",
       " ['ASTEROID'],\n",
       " ['ASTEROID', 'DREVO'],\n",
       " ['ASTEROID', 'DREVO', 'OBLAK'],\n",
       " ['ASTEROID', 'DREVO', 'OBLAK', 'KAČA'],\n",
       " ['ASTEROID', 'DREVO', 'OBLAK', 'KAČA', 'ABRAHAM'],\n",
       " ['ASTEROID', 'DREVO', 'OBLAK', 'KAČA', 'ABRAHAM', 'MEČ'],\n",
       " ['ASTEROID', 'DREVO', 'OBLAK', 'KAČA', 'ABRAHAM', 'MELODIJA'],\n",
       " ['ASTEROID', 'DREVO', 'OBLAK', 'KLEPTOMAN'],\n",
       " ['MEČ'],\n",
       " ['MELODIJA'],\n",
       " ['MELODIJA', 'ASTEROID'],\n",
       " ['MELODIJA', 'ASTEROID', 'DREVO'],\n",
       " ['MELODIJA', 'ASTEROID', 'DREVO', 'OBLAK'],\n",
       " ['MELODIJA', 'ASTEROID', 'DREVO', 'OBLAK', 'KAČA'],\n",
       " ['MELODIJA', 'ASTEROID', 'DREVO', 'OBLAK', 'KAČA', 'ABRAHAM'],\n",
       " ['MELODIJA', 'ASTEROID', 'DREVO', 'OBLAK', 'KAČA', 'ABRAHAM', 'MEČ'],\n",
       " ['MELODIJA', 'ASTEROID', 'DREVO', 'OBLAK', 'KLEPTOMAN'],\n",
       " ['MELODIJA', 'ABRAHAM'],\n",
       " ['MELODIJA', 'ABRAHAM', 'MEČ'],\n",
       " ['OBLAK'],\n",
       " ['OBLAK', 'KAČA'],\n",
       " ['OBLAK', 'KAČA', 'ASTEROID'],\n",
       " ['OBLAK', 'KAČA', 'ASTEROID', 'DREVO'],\n",
       " ['OBLAK', 'KAČA', 'ABRAHAM'],\n",
       " ['OBLAK', 'KAČA', 'ABRAHAM', 'MEČ'],\n",
       " ['OBLAK', 'KAČA', 'ABRAHAM', 'MELODIJA'],\n",
       " ['OBLAK', 'KAČA', 'ABRAHAM', 'MELODIJA', 'ASTEROID'],\n",
       " ['OBLAK', 'KAČA', 'ABRAHAM', 'MELODIJA', 'ASTEROID', 'DREVO'],\n",
       " ['OBLAK', 'KLEPTOMAN'],\n",
       " ['KLEPTOMAN'],\n",
       " ['ABRAHAM'],\n",
       " ['ABRAHAM', 'MEČ'],\n",
       " ['ABRAHAM', 'MELODIJA'],\n",
       " ['ABRAHAM', 'MELODIJA', 'ASTEROID'],\n",
       " ['ABRAHAM', 'MELODIJA', 'ASTEROID', 'DREVO'],\n",
       " ['ABRAHAM', 'MELODIJA', 'ASTEROID', 'DREVO', 'OBLAK'],\n",
       " ['ABRAHAM', 'MELODIJA', 'ASTEROID', 'DREVO', 'OBLAK', 'KAČA'],\n",
       " ['ABRAHAM', 'MELODIJA', 'ASTEROID', 'DREVO', 'OBLAK', 'KLEPTOMAN']]"
      ]
     },
     "execution_count": 2,
     "metadata": {},
     "output_type": "execute_result"
    }
   ],
   "source": [
    "def vse_verige(slovar):\n",
    "    verige = []\n",
    "    slovar = set(slovar)\n",
    "    for prva in slovar:\n",
    "        verige += nadaljevanja(prva, slovar - {prva})\n",
    "    return verige\n",
    "\n",
    "def nadaljevanja(beseda, slovar):\n",
    "    rezultat = [[beseda]]\n",
    "    for naslednja in slovar:\n",
    "        if naslednja[0] == beseda[-1]:\n",
    "            for podverige in nadaljevanja(naslednja, slovar - {naslednja}):\n",
    "                rezultat.append([beseda] + podverige)\n",
    "    return rezultat\n",
    "\n",
    "vse_verige(slovar)"
   ]
  },
  {
   "cell_type": "markdown",
   "metadata": {},
   "source": [
    "Prva funkcija ni bila nič posebnega. \n",
    "\n",
    "Mali trik: `slovar` pretvori v množico. Na ta način lahko preprosteje odstranjujemo uporabljene besede. O kakšni posebni hitrosti pa pri teh funkcijah itak ne moremo govoriti.\n",
    "\n",
    "Funkcija `vse_verige` gre čez vse možne prve besede in v seznam verig (`verige`) doda vse verige, ki jih vrne funkcija `nadaljevanja`, ki, kot pove njeno ime, poišče vsa možna nadaljevanja pri podani besedi in množici še neuporabljenih besed.\n",
    "\n",
    "```python\n",
    "def vse_verige(slovar):\n",
    "    verige = []\n",
    "    slovar = set(slovar)\n",
    "    for prva in slovar:\n",
    "        verige += nadaljevanja(prva, slovar - {prva})\n",
    "    return verige\n",
    "```\n",
    "\n",
    "Druga funkcija je zanimivejša. V seznam `rezultat` nabira vse možne verige, ki se začnejo s podano besedo. Za začetek je to veriga, ki vsebuje samo to besedo, torej veriga `[beseda]`. Ker gre za seznam verig, je to v začetku seznam, ki vsebuje, `[beseda]`, se pravi `[[beseda]]`.\n",
    "\n",
    "Nato gre funkcija čez vse besede, ki so še v slovarju. Če se beseeda začne z ustrezno črko, gre z zanko `for` čez vsa možna nadaljevanja, ki se začnejo s to, naslednjo besedo, se pravi `for podverige in nadaljevanja(naslednja, slovar - {naslednja})`. Vsako tako \"podverigo\" dodajo v seznam, na začetek pa pripnejo prvo besedo (`beseda`).\n",
    "\n",
    "```python\n",
    "def nadaljevanja(beseda, slovar):\n",
    "    rezultat = [[beseda]]\n",
    "    for naslednja in slovar:\n",
    "        if naslednja[0] == beseda[-1]:\n",
    "            for podverige in nadaljevanja(naslednja, slovar - {naslednja}):\n",
    "                rezultat.append([beseda] + podverige)\n",
    "    return rezultat\n",
    "```\n",
    "\n",
    "To je to.\n",
    "\n",
    "Seznam je dolg že pri osmih besedah. Besed v seznamu, podanem ob domači nalogi, je bilo približno 1500, zato ta rešitev tam ne bo delovala - ne glede na to, kako jo sfriziramo. Po mojem.\n",
    "\n",
    "Preden napišemo rešitev, ki deluje tudi za daljše sezname, povejmo le, da se da obe funkciji združiti v eno, vendar s tem ne pridobimo ničesar bistvenega. Tako, kot je, je lepše. Poleg tega povejmo še, da se ju da zapisati kompaktneje."
   ]
  },
  {
   "cell_type": "code",
   "execution_count": 3,
   "metadata": {},
   "outputs": [
    {
     "data": {
      "text/plain": [
       "['MELODIJA', 'ASTEROID', 'DREVO', 'OBLAK', 'KAČA', 'ABRAHAM', 'MEČ']"
      ]
     },
     "execution_count": 3,
     "metadata": {},
     "output_type": "execute_result"
    }
   ],
   "source": [
    "def najdaljsa_veriga(slovar):\n",
    "    return max(sum((nadaljevanja(prva, set(slovar)) for prva in slovar), []), key=len)\n",
    "\n",
    "def nadaljevanja(beseda, slovar):\n",
    "    return [[beseda] + pod\n",
    "            for naprej in slovar if naprej[0] == beseda[-1]\n",
    "            for pod in nadaljevanja(naprej, slovar - {beseda})] or [[beseda]]\n",
    "\n",
    "najdaljsa_veriga(slovar)"
   ]
  },
  {
   "cell_type": "markdown",
   "metadata": {},
   "source": [
    "Ali je to boljše, je stvar okusa. Najbrž slabega okusa.\n",
    "\n",
    "(Mimogrede lahko ugotovimo tudi, da je to res najdaljše, kar je možno sestaviti iz `[\"ABRAHAM\", \"MELODIJA\", \"ASTEROID\", \"DREVO\", \"MEČ\", \"OBLAK\", \"KLEPTOMAN\", \"KAČA\"]`. Imamo dve besedi, ki se začneta s K in le eno, ki so konča s K. Poleg tega je ena od besed na K, KLEPTOMAN, lahko le zadnja, saj ni besed na N. Pred KLEPTOMAN je lahko le OBLAK, pred OBLAK le DREVO, pred DREVO ASTEROID, pred ASTEROID pa KAČA ali MELODIJA. Takšno zaporedje, MELODIJA, ASTEROID, DREVO, OBLAK, KLEPTOMAN ima pet besed. Besede KLEPTOMAN torej en bo v rešitvi. Najdena rešitev pa vsebuje vse besede razen KLEPTOMAN, torej je najdaljša možna.)"
   ]
  },
  {
   "cell_type": "markdown",
   "metadata": {},
   "source": [
    "## Približna rešitev\n",
    "\n",
    "Kadar ne moremo najti najboljše možne rešitve, bomo morali biti zadovoljni s kar dobro. Tudi šahist ne more razmisliti vseh možnih nadaljevanj igre, temveč razmišlja za nekaj potez naprej. Nekaj podobnega bomo naredili tu: med možnimi nadaljevanji bomo izbrali tistega, ki se konča s črko, na katero se začne čimveč besed. Na ta način se izognemo besedam, ki porabljajo redke, dragocene črke.\n",
    "\n",
    "Najprej pomislimo, da se splača razdeliti besede glede na črko, s katero se začenjajo."
   ]
  },
  {
   "cell_type": "code",
   "execution_count": 4,
   "metadata": {},
   "outputs": [],
   "source": [
    "from collections import defaultdict\n",
    "\n",
    "def razdeli_besede(slovar):\n",
    "    po_zacetnicah = defaultdict(list)\n",
    "    for beseda in slovar:\n",
    "        po_zacetnicah[beseda[0]].append(beseda)\n",
    "    return po_zacetnicah\n",
    "\n",
    "po_zacetnicah = razdeli_besede(nouns)"
   ]
  },
  {
   "cell_type": "markdown",
   "metadata": {},
   "source": [
    "Zaradi praktičnosti smo uporabili `defaultdict`. Ne o tem - pa tudi o slovarjih - se še nismo učili, zato se tudi zdaj ne bomo poglabljali v to. Vedimo le: z, recimo, `po_zacetnicah[\"K\"]` dobimo vse besede, ki se začnejo s črko K."
   ]
  },
  {
   "cell_type": "code",
   "execution_count": 5,
   "metadata": {},
   "outputs": [
    {
     "name": "stdout",
     "output_type": "stream",
     "text": [
      "['KNOWLEDGE', 'KING', 'KEY', 'KIND', 'KITCHEN', 'KID', 'KNIFE', 'KNEE', 'KEEP', 'KICK', 'KILL', 'KISS']\n"
     ]
    }
   ],
   "source": [
    "print(po_zacetnicah[\"K\"])"
   ]
  },
  {
   "cell_type": "markdown",
   "metadata": {},
   "source": [
    "Program bomo sestavili iz dveh funkcij. Prva bo iz seznama možnih nadaljevanj izbrala eno (poskusili bomo: čim boljše) nadaljevanje. Druga bo klicala prvo."
   ]
  },
  {
   "cell_type": "code",
   "execution_count": 6,
   "metadata": {},
   "outputs": [],
   "source": [
    "def najboljsa_naslednja(moznosti, po_zacetnicah):\n",
    "    if not moznosti:\n",
    "        return None\n",
    "    return moznosti[0]\n",
    "\n",
    "def sestavi_zaporedje(slovar):\n",
    "    po_zacetnicah = razdeli_besede(slovar)\n",
    "    naslednja = najboljsa_naslednja(slovar, po_zacetnicah)\n",
    "    zaporedje = []\n",
    "    while naslednja:\n",
    "        zaporedje.append(naslednja)\n",
    "        po_zacetnicah[naslednja[0]].remove(naslednja)\n",
    "        naslednja = najboljsa_naslednja(po_zacetnicah[naslednja[-1]], po_zacetnicah)\n",
    "    return zaporedje"
   ]
  },
  {
   "cell_type": "markdown",
   "metadata": {},
   "source": [
    "Naš prvi približek `najboljsa_naslednja` je neumen: vrne preprosto prvo možnost. Če je seznam možnosti prazen, vrne `None`. Funkcija sicer dobi tudi slovar `po_zacetnicah`, vendar ga - v tej, neumni obliki - ne uporablja.\n",
    "\n",
    "Funkcija `sestavi_zaporedje` prejme slovar vseh besed. Razbije ga na seznam po začetnicah. Izbere prvo besedo (ki ji iz praktičnih razlogov, reče `naslednja` in pripravi prazno zaporedje.\n",
    "\n",
    "Nato ponavlja, dokler ima kako naslednjo besedo: besedo doda v zaporedje, jo pobriše iz seznama vseh besed, ki se začnejo s to črko in nato izbere naslednjo besedo, tako da pokliče prvo funkcijo.\n",
    "\n",
    "Ugotovimo, kako dobro to deluje."
   ]
  },
  {
   "cell_type": "code",
   "execution_count": 7,
   "metadata": {},
   "outputs": [
    {
     "name": "stdout",
     "output_type": "stream",
     "text": [
      "['PEOPLE', 'ECONOMICS', 'SYSTEM', 'MAP', 'PERSON', 'NATURE', 'EXAM', 'MEAT', 'TWO', 'OVEN', 'NEWS', 'SOFTWARE', 'EQUIPMENT', 'THANKS', 'SCIENCE', 'ENVIRONMENT', 'THEORY', 'YEAR', 'READING', 'GOVERNMENT', 'TELEVISION', 'NIGHT', 'TEMPERATURE', 'ENERGY', 'YOUTH', 'HISTORY', 'YARD', 'DATA', 'ART', 'THING', 'GOAL', 'LAW', 'WAY', 'YOU', 'UNDERSTANDING', 'GROWTH', 'HEALTH', 'HOUSING', 'GRANDMOTHER', 'ROAD', 'DEFINITION', 'NATION', 'NEWSPAPER', 'ROLE', 'EDUCATION', 'NEGOTIATION', 'NUMBER', 'RELATIONSHIP', 'PROBLEM', 'MUSIC', 'COMPUTER', 'REALITY', 'YOUNG', 'GUIDANCE', 'EVENT', 'THOUGHT', 'TECHNOLOGY', 'YELLOW', 'WORLD', 'DEVELOPMENT', 'TRUTH', 'HEART', 'TEACHER', 'RESPONSIBILITY', 'YESTERDAY']\n",
      "65\n"
     ]
    }
   ],
   "source": [
    "zaporedje = sestavi_zaporedje(nouns)\n",
    "print(zaporedje)\n",
    "print(len(zaporedje))"
   ]
  },
  {
   "cell_type": "markdown",
   "metadata": {},
   "source": [
    "To ni tako slabo, vendar bo boljše, če naredimo kakšno manj neumno izbiro naslednje besede. Gotovo se nam splača varčevati z redkimi besedami: za naslednjo besedo nočemo izbrati besede, ki se konča s črko, s katero se začenja malo besed. Oziroma obratno: izmed različnih možnosti bomo za naslednjo besedo izbrali takšno, s katero se začenja čim več besed."
   ]
  },
  {
   "cell_type": "code",
   "execution_count": 8,
   "metadata": {},
   "outputs": [],
   "source": [
    "def najboljsa_naslednja(moznosti, po_crkah):\n",
    "    naj_naprej = None\n",
    "    naj_pogostost = -1\n",
    "    for naprej in moznosti:\n",
    "        pogostost = len(po_crkah[naprej[-1]])\n",
    "        if pogostost > naj_pogostost:\n",
    "            naj_pogostost = pogostost\n",
    "            naj_naprej = naprej\n",
    "    return naj_naprej\n",
    "\n",
    "def sestavi_zaporedje(slovar):\n",
    "    po_zacetnicah = razdeli_besede(slovar)\n",
    "    naslednja = najboljsa_naslednja(slovar, po_zacetnicah)\n",
    "    zaporedje = []\n",
    "    while naslednja:\n",
    "        zaporedje.append(naslednja)\n",
    "        po_zacetnicah[naslednja[0]].remove(naslednja)\n",
    "        naslednja = najboljsa_naslednja(po_zacetnicah[naslednja[-1]], po_zacetnicah)\n",
    "    return zaporedje"
   ]
  },
  {
   "cell_type": "code",
   "execution_count": 9,
   "metadata": {},
   "outputs": [
    {
     "name": "stdout",
     "output_type": "stream",
     "text": [
      "523\n"
     ]
    }
   ],
   "source": [
    "zaporedje = sestavi_zaporedje(nouns)\n",
    "print(len(zaporedje))"
   ]
  }
 ],
 "metadata": {
  "kernelspec": {
   "display_name": "Python 3",
   "language": "python",
   "name": "python3"
  },
  "language_info": {
   "codemirror_mode": {
    "name": "ipython",
    "version": 3
   },
   "file_extension": ".py",
   "mimetype": "text/x-python",
   "name": "python",
   "nbconvert_exporter": "python",
   "pygments_lexer": "ipython3",
   "version": "3.7.4"
  }
 },
 "nbformat": 4,
 "nbformat_minor": 4
}
