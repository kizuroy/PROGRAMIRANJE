{
 "cells": [
  {
   "cell_type": "markdown",
   "metadata": {},
   "source": [
    "# Funkcije\n",
    "\n",
    "Vsem, ki že znate programirati in torej že znate napisati funkcijo v kateremkoliže jeziku, je potrebno pokazati samo primer in vse bo jasno."
   ]
  },
  {
   "cell_type": "code",
   "execution_count": 1,
   "metadata": {},
   "outputs": [],
   "source": [
    "def delitelji(n):\n",
    "    s = []\n",
    "    for i in range(1, n):\n",
    "        if n % i == 0:\n",
    "            s.append(i)\n",
    "    return s"
   ]
  },
  {
   "cell_type": "markdown",
   "metadata": {},
   "source": [
    "To je vse, kar nas zanima od \"rednega predavanja\".\n",
    "\n",
    "Zdaj pa detajli v zvezi s funkcijami, s katerimi se na rednih predavanjih skoraj (ali sploh) ne bomo ukvarjali.\n",
    "\n",
    "## Generiki in račje tipiziranje\n",
    "\n",
    "Vsaka funkcija v Pythonu je generik (ali, po C++-ovsko, template), ne da bi morali to kaj posebej definirati. Točneje, skoraj ne obstaja način, da bi to preprečili. Tako je zato, ker v Pythonu ne definiramo tipov spremenljivk in prav tako ne tipov argumentov ali rezultatov.\n",
    "\n",
    "Za tiste, ki izraza generik ali template ne poznate: gre za to, da lahko ena in ista funkcija sprejema argumente različnih tipov."
   ]
  },
  {
   "cell_type": "code",
   "execution_count": 2,
   "metadata": {},
   "outputs": [],
   "source": [
    "def sestej(a, b):\n",
    "    return a + b"
   ]
  },
  {
   "cell_type": "code",
   "execution_count": 3,
   "metadata": {},
   "outputs": [
    {
     "data": {
      "text/plain": [
       "6"
      ]
     },
     "execution_count": 3,
     "metadata": {},
     "output_type": "execute_result"
    }
   ],
   "source": [
    "sestej(1, 5)"
   ]
  },
  {
   "cell_type": "code",
   "execution_count": 4,
   "metadata": {},
   "outputs": [
    {
     "data": {
      "text/plain": [
       "'Anamarija'"
      ]
     },
     "execution_count": 4,
     "metadata": {},
     "output_type": "execute_result"
    }
   ],
   "source": [
    "sestej(\"Ana\", \"marija\")"
   ]
  },
  {
   "cell_type": "code",
   "execution_count": 5,
   "metadata": {},
   "outputs": [
    {
     "ename": "TypeError",
     "evalue": "can only concatenate str (not \"int\") to str",
     "output_type": "error",
     "traceback": [
      "\u001b[0;31m---------------------------------------------------------------------------\u001b[0m",
      "\u001b[0;31mTypeError\u001b[0m                                 Traceback (most recent call last)",
      "\u001b[0;32m<ipython-input-5-2c6500e8edaf>\u001b[0m in \u001b[0;36m<module>\u001b[0;34m\u001b[0m\n\u001b[0;32m----> 1\u001b[0;31m \u001b[0msestej\u001b[0m\u001b[0;34m(\u001b[0m\u001b[0;34m\"Ana\"\u001b[0m\u001b[0;34m,\u001b[0m \u001b[0;36m5\u001b[0m\u001b[0;34m)\u001b[0m\u001b[0;34m\u001b[0m\u001b[0;34m\u001b[0m\u001b[0m\n\u001b[0m",
      "\u001b[0;32m<ipython-input-2-7e63af8aa86d>\u001b[0m in \u001b[0;36msestej\u001b[0;34m(a, b)\u001b[0m\n\u001b[1;32m      1\u001b[0m \u001b[0;32mdef\u001b[0m \u001b[0msestej\u001b[0m\u001b[0;34m(\u001b[0m\u001b[0ma\u001b[0m\u001b[0;34m,\u001b[0m \u001b[0mb\u001b[0m\u001b[0;34m)\u001b[0m\u001b[0;34m:\u001b[0m\u001b[0;34m\u001b[0m\u001b[0;34m\u001b[0m\u001b[0m\n\u001b[0;32m----> 2\u001b[0;31m     \u001b[0;32mreturn\u001b[0m \u001b[0ma\u001b[0m \u001b[0;34m+\u001b[0m \u001b[0mb\u001b[0m\u001b[0;34m\u001b[0m\u001b[0;34m\u001b[0m\u001b[0m\n\u001b[0m",
      "\u001b[0;31mTypeError\u001b[0m: can only concatenate str (not \"int\") to str"
     ]
    }
   ],
   "source": [
    "sestej(\"Ana\", 5)"
   ]
  },
  {
   "cell_type": "markdown",
   "metadata": {},
   "source": [
    "Zadnja funkcija ne deluje, je pa tole lep trenutek za to, da izvemo, kako ne deluje. Ko funkcijo pokličemo s `sestej(1, 5)`, imamo, v bistvu"
   ]
  },
  {
   "cell_type": "code",
   "execution_count": 6,
   "metadata": {},
   "outputs": [],
   "source": [
    "a = 1\n",
    "b = 5"
   ]
  },
  {
   "cell_type": "markdown",
   "metadata": {},
   "source": [
    "Izraz `a + b` se izvede tako, da Python pokliče metodo `a.__add__` in poda `b` kot argument."
   ]
  },
  {
   "cell_type": "code",
   "execution_count": 7,
   "metadata": {},
   "outputs": [
    {
     "data": {
      "text/plain": [
       "6"
      ]
     },
     "execution_count": 7,
     "metadata": {},
     "output_type": "execute_result"
    }
   ],
   "source": [
    "a.__add__(b)"
   ]
  },
  {
   "cell_type": "markdown",
   "metadata": {},
   "source": [
    "Metoda `a.__add__` vrne vsoto \"sebe\" in argumenta.\n",
    "\n",
    "Podobno je z nizi."
   ]
  },
  {
   "cell_type": "code",
   "execution_count": 8,
   "metadata": {},
   "outputs": [
    {
     "data": {
      "text/plain": [
       "'Anamarija'"
      ]
     },
     "execution_count": 8,
     "metadata": {},
     "output_type": "execute_result"
    }
   ],
   "source": [
    "a = \"Ana\"\n",
    "b = \"marija\"\n",
    "a.__add__(b)"
   ]
  },
  {
   "cell_type": "markdown",
   "metadata": {},
   "source": [
    "V zadnjem primeru, `sestej(\"Ana\", 5)` pa imamo"
   ]
  },
  {
   "cell_type": "code",
   "execution_count": 9,
   "metadata": {},
   "outputs": [
    {
     "ename": "TypeError",
     "evalue": "can only concatenate str (not \"int\") to str",
     "output_type": "error",
     "traceback": [
      "\u001b[0;31m---------------------------------------------------------------------------\u001b[0m",
      "\u001b[0;31mTypeError\u001b[0m                                 Traceback (most recent call last)",
      "\u001b[0;32m<ipython-input-9-24945ae2d4a7>\u001b[0m in \u001b[0;36m<module>\u001b[0;34m\u001b[0m\n\u001b[1;32m      1\u001b[0m \u001b[0ma\u001b[0m \u001b[0;34m=\u001b[0m \u001b[0;34m\"Ana\"\u001b[0m\u001b[0;34m\u001b[0m\u001b[0;34m\u001b[0m\u001b[0m\n\u001b[1;32m      2\u001b[0m \u001b[0mb\u001b[0m \u001b[0;34m=\u001b[0m \u001b[0;36m5\u001b[0m\u001b[0;34m\u001b[0m\u001b[0;34m\u001b[0m\u001b[0m\n\u001b[0;32m----> 3\u001b[0;31m \u001b[0ma\u001b[0m\u001b[0;34m.\u001b[0m\u001b[0m__add__\u001b[0m\u001b[0;34m(\u001b[0m\u001b[0mb\u001b[0m\u001b[0;34m)\u001b[0m\u001b[0;34m\u001b[0m\u001b[0;34m\u001b[0m\u001b[0m\n\u001b[0m",
      "\u001b[0;31mTypeError\u001b[0m: can only concatenate str (not \"int\") to str"
     ]
    }
   ],
   "source": [
    "a = \"Ana\"\n",
    "b = 5\n",
    "a.__add__(b)"
   ]
  },
  {
   "cell_type": "markdown",
   "metadata": {},
   "source": [
    "Python se torej preprosto ne vznemirja zaradi tipov. Vsaka funkcija se vede kot generik: podamo ji lahko poljubne argumente, funkciji je vseeno, Pythonu je vseeno ... če stvari ne gredo skupaj, pa bo prišlo do napake, ko nekdo nečesa ne bo mogel narediti. Se pravi, ko si bo moral niz prišteti število, ko bomo poskušali indeksirati `float` (v tem primeru bo Python poklical `float`-ovo metodo `__item__` in se bo izkazalo, da le-ta te metode nima) ...\n",
    "\n",
    "Temu se reče *duck typing*: če nek objekt hodi kot raca in gaga kot raca, potem je raca. Vsaj za *all intents and purposes*.\n",
    "\n",
    "Funkcije lahko pišemo z mislijo na to."
   ]
  },
  {
   "cell_type": "code",
   "execution_count": 10,
   "metadata": {},
   "outputs": [],
   "source": [
    "def vsota(s):\n",
    "    v = 0\n",
    "    for x in s:\n",
    "        v += x\n",
    "    return v"
   ]
  },
  {
   "cell_type": "markdown",
   "metadata": {},
   "source": [
    "Tej funkciji lahko podamo kot argument stvari, prek katerih je možno nagnati zanko `for` (niz, seznam, terka, range, slovar, množica, datoteka...) in katere elementi so stvari, ki jih je možno seštevati. No, skoraj tako."
   ]
  },
  {
   "cell_type": "code",
   "execution_count": 11,
   "metadata": {},
   "outputs": [
    {
     "data": {
      "text/plain": [
       "6"
      ]
     },
     "execution_count": 11,
     "metadata": {},
     "output_type": "execute_result"
    }
   ],
   "source": [
    "vsota({1, 2, 3})"
   ]
  },
  {
   "cell_type": "code",
   "execution_count": 12,
   "metadata": {},
   "outputs": [
    {
     "data": {
      "text/plain": [
       "10"
      ]
     },
     "execution_count": 12,
     "metadata": {},
     "output_type": "execute_result"
    }
   ],
   "source": [
    "vsota(range(5))"
   ]
  },
  {
   "cell_type": "code",
   "execution_count": 13,
   "metadata": {},
   "outputs": [
    {
     "ename": "TypeError",
     "evalue": "unsupported operand type(s) for +=: 'int' and 'str'",
     "output_type": "error",
     "traceback": [
      "\u001b[0;31m---------------------------------------------------------------------------\u001b[0m",
      "\u001b[0;31mTypeError\u001b[0m                                 Traceback (most recent call last)",
      "\u001b[0;32m<ipython-input-13-3951a9717356>\u001b[0m in \u001b[0;36m<module>\u001b[0;34m\u001b[0m\n\u001b[0;32m----> 1\u001b[0;31m \u001b[0mvsota\u001b[0m\u001b[0;34m(\u001b[0m\u001b[0;34m[\u001b[0m\u001b[0;34m\"Ana\"\u001b[0m\u001b[0;34m,\u001b[0m \u001b[0;34m\"Berta\"\u001b[0m\u001b[0;34m,\u001b[0m \u001b[0;34m\"Cilka\"\u001b[0m\u001b[0;34m]\u001b[0m\u001b[0;34m)\u001b[0m\u001b[0;34m\u001b[0m\u001b[0;34m\u001b[0m\u001b[0m\n\u001b[0m",
      "\u001b[0;32m<ipython-input-10-0f50951fc0c7>\u001b[0m in \u001b[0;36mvsota\u001b[0;34m(s)\u001b[0m\n\u001b[1;32m      2\u001b[0m     \u001b[0mv\u001b[0m \u001b[0;34m=\u001b[0m \u001b[0;36m0\u001b[0m\u001b[0;34m\u001b[0m\u001b[0;34m\u001b[0m\u001b[0m\n\u001b[1;32m      3\u001b[0m     \u001b[0;32mfor\u001b[0m \u001b[0mx\u001b[0m \u001b[0;32min\u001b[0m \u001b[0ms\u001b[0m\u001b[0;34m:\u001b[0m\u001b[0;34m\u001b[0m\u001b[0;34m\u001b[0m\u001b[0m\n\u001b[0;32m----> 4\u001b[0;31m         \u001b[0mv\u001b[0m \u001b[0;34m+=\u001b[0m \u001b[0mx\u001b[0m\u001b[0;34m\u001b[0m\u001b[0;34m\u001b[0m\u001b[0m\n\u001b[0m\u001b[1;32m      5\u001b[0m     \u001b[0;32mreturn\u001b[0m \u001b[0mv\u001b[0m\u001b[0;34m\u001b[0m\u001b[0;34m\u001b[0m\u001b[0m\n",
      "\u001b[0;31mTypeError\u001b[0m: unsupported operand type(s) for +=: 'int' and 'str'"
     ]
    }
   ],
   "source": [
    "vsota([\"Ana\", \"Berta\", \"Cilka\"])"
   ]
  },
  {
   "cell_type": "markdown",
   "metadata": {},
   "source": [
    "To ne deluje, ker v začetku nastavimo `v = 0`, potem pa poskušamo `v += \"Ana\"`. Naša funkcija vsota torej ne zahteva le, da le, da se dajo elementi seštevati, temveč tudi, da se dajo prišteti k 0. Vsaj prvi od teh elementov.\n",
    "\n",
    "Prva rešitev bi bila"
   ]
  },
  {
   "cell_type": "code",
   "execution_count": 14,
   "metadata": {},
   "outputs": [],
   "source": [
    "def vsota(s):\n",
    "    v = s[0]\n",
    "    for x in s[1:]:\n",
    "        v += x\n",
    "    return v"
   ]
  },
  {
   "cell_type": "markdown",
   "metadata": {},
   "source": [
    "Zdaj deluje"
   ]
  },
  {
   "cell_type": "code",
   "execution_count": 15,
   "metadata": {},
   "outputs": [
    {
     "data": {
      "text/plain": [
       "'AnaBertaCilka'"
      ]
     },
     "execution_count": 15,
     "metadata": {},
     "output_type": "execute_result"
    }
   ],
   "source": [
    "vsota([\"Ana\", \"Berta\", \"Cilka\"])"
   ]
  },
  {
   "cell_type": "markdown",
   "metadata": {},
   "source": [
    "in celo"
   ]
  },
  {
   "cell_type": "code",
   "execution_count": 16,
   "metadata": {},
   "outputs": [
    {
     "data": {
      "text/plain": [
       "'Benjamin'"
      ]
     },
     "execution_count": 16,
     "metadata": {},
     "output_type": "execute_result"
    }
   ],
   "source": [
    "vsota(\"Benjamin\")"
   ]
  },
  {
   "cell_type": "markdown",
   "metadata": {},
   "source": [
    "ker gre pač z zanko čez niz in sešteva njene črke. Vendar naša funkcija zdaj zahteva, da lahko dobimo prvi element `s`-a in da lahko naredimo rezino, ki vsebuje vse elemente, razen prvega. Zato je nehalo delovati seštevanje množic."
   ]
  },
  {
   "cell_type": "code",
   "execution_count": 17,
   "metadata": {},
   "outputs": [
    {
     "ename": "TypeError",
     "evalue": "'set' object is not subscriptable",
     "output_type": "error",
     "traceback": [
      "\u001b[0;31m---------------------------------------------------------------------------\u001b[0m",
      "\u001b[0;31mTypeError\u001b[0m                                 Traceback (most recent call last)",
      "\u001b[0;32m<ipython-input-17-5b638e840346>\u001b[0m in \u001b[0;36m<module>\u001b[0;34m\u001b[0m\n\u001b[0;32m----> 1\u001b[0;31m \u001b[0mvsota\u001b[0m\u001b[0;34m(\u001b[0m\u001b[0;34m{\u001b[0m\u001b[0;36m1\u001b[0m\u001b[0;34m,\u001b[0m \u001b[0;36m2\u001b[0m\u001b[0;34m,\u001b[0m \u001b[0;36m3\u001b[0m\u001b[0;34m}\u001b[0m\u001b[0;34m)\u001b[0m\u001b[0;34m\u001b[0m\u001b[0;34m\u001b[0m\u001b[0m\n\u001b[0m",
      "\u001b[0;32m<ipython-input-14-1e091943e7c7>\u001b[0m in \u001b[0;36mvsota\u001b[0;34m(s)\u001b[0m\n\u001b[1;32m      1\u001b[0m \u001b[0;32mdef\u001b[0m \u001b[0mvsota\u001b[0m\u001b[0;34m(\u001b[0m\u001b[0ms\u001b[0m\u001b[0;34m)\u001b[0m\u001b[0;34m:\u001b[0m\u001b[0;34m\u001b[0m\u001b[0;34m\u001b[0m\u001b[0m\n\u001b[0;32m----> 2\u001b[0;31m     \u001b[0mv\u001b[0m \u001b[0;34m=\u001b[0m \u001b[0ms\u001b[0m\u001b[0;34m[\u001b[0m\u001b[0;36m0\u001b[0m\u001b[0;34m]\u001b[0m\u001b[0;34m\u001b[0m\u001b[0;34m\u001b[0m\u001b[0m\n\u001b[0m\u001b[1;32m      3\u001b[0m     \u001b[0;32mfor\u001b[0m \u001b[0mx\u001b[0m \u001b[0;32min\u001b[0m \u001b[0ms\u001b[0m\u001b[0;34m[\u001b[0m\u001b[0;36m1\u001b[0m\u001b[0;34m:\u001b[0m\u001b[0;34m]\u001b[0m\u001b[0;34m:\u001b[0m\u001b[0;34m\u001b[0m\u001b[0;34m\u001b[0m\u001b[0m\n\u001b[1;32m      4\u001b[0m         \u001b[0mv\u001b[0m \u001b[0;34m+=\u001b[0m \u001b[0mx\u001b[0m\u001b[0;34m\u001b[0m\u001b[0;34m\u001b[0m\u001b[0m\n\u001b[1;32m      5\u001b[0m     \u001b[0;32mreturn\u001b[0m \u001b[0mv\u001b[0m\u001b[0;34m\u001b[0m\u001b[0;34m\u001b[0m\u001b[0m\n",
      "\u001b[0;31mTypeError\u001b[0m: 'set' object is not subscriptable"
     ]
    }
   ],
   "source": [
    "vsota({1, 2, 3})"
   ]
  },
  {
   "cell_type": "markdown",
   "metadata": {},
   "source": [
    "Najbolj splošna oblika je"
   ]
  },
  {
   "cell_type": "code",
   "execution_count": 18,
   "metadata": {},
   "outputs": [],
   "source": [
    "def vsota(s):\n",
    "    v = None\n",
    "    for e in s:\n",
    "        if v == None:\n",
    "            v = e\n",
    "        else:\n",
    "            v += e\n",
    "    return v"
   ]
  },
  {
   "cell_type": "markdown",
   "metadata": {},
   "source": [
    "Lahko bi naredili tudi nekoliko drugače, uporabili bi lahko iteratorje. A to se bomo naučili kdaj drugič."
   ]
  },
  {
   "cell_type": "markdown",
   "metadata": {},
   "source": [
    "## Več ali manj kot en rezultat\n",
    "\n",
    "V Pythonu vse funkcije vračajo rezultat. Nobenih `void` funkcij. In to natančno en rezultat. Ne dveh. Nekaj primerov."
   ]
  },
  {
   "cell_type": "code",
   "execution_count": 19,
   "metadata": {},
   "outputs": [],
   "source": [
    "def ne_vrne_nicesar():\n",
    "    x = 42\n",
    "\n",
    "def vrne_odgovor():\n",
    "    return 42\n",
    "\n",
    "def vrne_dva():\n",
    "    return \"Koliko je 6x8?\", 42"
   ]
  },
  {
   "cell_type": "markdown",
   "metadata": {},
   "source": [
    "Najprej pokličimo funkcijo, ki ne vrne ničesar."
   ]
  },
  {
   "cell_type": "code",
   "execution_count": 20,
   "metadata": {},
   "outputs": [],
   "source": [
    "nic = ne_vrne_nicesar()\n",
    "nic"
   ]
  },
  {
   "cell_type": "markdown",
   "metadata": {},
   "source": [
    "No, vidite, nič se ne izpiše. :)\n",
    "\n",
    "To je zato, ker Jupyter oz. IPython oz. Python v konzoli izpiše `None` le, če eksplicitno pokličemo `print`."
   ]
  },
  {
   "cell_type": "code",
   "execution_count": 21,
   "metadata": {},
   "outputs": [
    {
     "name": "stdout",
     "output_type": "stream",
     "text": [
      "None\n"
     ]
    }
   ],
   "source": [
    "print(nic)"
   ]
  },
  {
   "cell_type": "markdown",
   "metadata": {},
   "source": [
    "Če torej funkcija ne vrne ničesar, vrne `None`.\n",
    "\n",
    "Druge funkcije nima smisla klicati. Pač pa bomo tretjo."
   ]
  },
  {
   "cell_type": "code",
   "execution_count": 22,
   "metadata": {},
   "outputs": [],
   "source": [
    "vprašanje, odgovor = vrne_dva()"
   ]
  },
  {
   "cell_type": "code",
   "execution_count": 23,
   "metadata": {},
   "outputs": [
    {
     "data": {
      "text/plain": [
       "'Koliko je 6x8?'"
      ]
     },
     "execution_count": 23,
     "metadata": {},
     "output_type": "execute_result"
    }
   ],
   "source": [
    "vprašanje"
   ]
  },
  {
   "cell_type": "code",
   "execution_count": 24,
   "metadata": {},
   "outputs": [
    {
     "data": {
      "text/plain": [
       "42"
      ]
     },
     "execution_count": 24,
     "metadata": {},
     "output_type": "execute_result"
    }
   ],
   "source": [
    "odgovor"
   ]
  },
  {
   "cell_type": "markdown",
   "metadata": {},
   "source": [
    "Tudi ta funkcija je vrnila le eno stvar. Terko `(\"Koliko je 6x8?\", 42)`. Le da smo jo napisali brez oklepajev. Kadar funkcija navidez vrača več stvari, napišemo `return` tako, da je videz pravi - kot da vračamo več stvari torej. In tudi kličemo jo, kot da bi vračala več stvari. V resnici pa gre za igro terk.\n",
    "\n",
    "`None` je prikladna vrednost, ki lahko pove, da funkcija ni mogla vrniti ničesar pametnega."
   ]
  },
  {
   "cell_type": "code",
   "execution_count": 25,
   "metadata": {},
   "outputs": [],
   "source": [
    "def prvo_sodo(s):\n",
    "    for e in s:\n",
    "        if e % 2 == 0:\n",
    "            return e"
   ]
  },
  {
   "cell_type": "code",
   "execution_count": 26,
   "metadata": {},
   "outputs": [
    {
     "data": {
      "text/plain": [
       "2"
      ]
     },
     "execution_count": 26,
     "metadata": {},
     "output_type": "execute_result"
    }
   ],
   "source": [
    "prvo_sodo([1, 2, 3, 4, 5])"
   ]
  },
  {
   "cell_type": "code",
   "execution_count": 27,
   "metadata": {},
   "outputs": [],
   "source": [
    "prvo_sodo([1, 3, 5])"
   ]
  },
  {
   "cell_type": "markdown",
   "metadata": {},
   "source": [
    "Tu je potrebno biti previden. Najprej: da gornja funkcija vrne `None`, če ni sodih števil, je praktično \"stranski učinek\". Tako raje ne pišemo. Lint bi nas na to opozoril. Kadar funkcija včasih vrne rezultat, včasih pa vrne `None`, pa je vračanje `None` praviloma eksplicitno. Sicer bi lahko kdo, ki bere funkcijo, mislil, da v nekaterih primerih ne vrne ničesar, ker je programer pozabil na `return`. Lepo napisana funkcija `prvo_sodo` je torej"
   ]
  },
  {
   "cell_type": "code",
   "execution_count": 28,
   "metadata": {},
   "outputs": [],
   "source": [
    "def prvo_sodo(s):\n",
    "    for e in s:\n",
    "        if e % 2 == 0:\n",
    "            return e\n",
    "    return None"
   ]
  },
  {
   "cell_type": "markdown",
   "metadata": {},
   "source": [
    "Drugo opozorilo: ne zlorabljajmo `None`-a. Takšne funkcije nas lahko vodijo v prikrite napake. Če bi takole napisali funkcijo `prvo_sodo` in `prvo_liho`, bi lahko kdo ponevedoma takole računal vsoto prvega lihega in prvega sodega števila."
   ]
  },
  {
   "cell_type": "code",
   "execution_count": 29,
   "metadata": {},
   "outputs": [
    {
     "ename": "TypeError",
     "evalue": "unsupported operand type(s) for +: 'NoneType' and 'int'",
     "output_type": "error",
     "traceback": [
      "\u001b[0;31m---------------------------------------------------------------------------\u001b[0m",
      "\u001b[0;31mTypeError\u001b[0m                                 Traceback (most recent call last)",
      "\u001b[0;32m<ipython-input-29-da993963350e>\u001b[0m in \u001b[0;36m<module>\u001b[0;34m\u001b[0m\n\u001b[1;32m      6\u001b[0m \u001b[0;34m\u001b[0m\u001b[0m\n\u001b[1;32m      7\u001b[0m \u001b[0ms\u001b[0m \u001b[0;34m=\u001b[0m \u001b[0;34m[\u001b[0m\u001b[0;36m1\u001b[0m\u001b[0;34m,\u001b[0m \u001b[0;36m3\u001b[0m\u001b[0;34m,\u001b[0m \u001b[0;36m5\u001b[0m\u001b[0;34m,\u001b[0m \u001b[0;36m7\u001b[0m\u001b[0;34m]\u001b[0m\u001b[0;34m\u001b[0m\u001b[0;34m\u001b[0m\u001b[0m\n\u001b[0;32m----> 8\u001b[0;31m \u001b[0mprvo_sodo\u001b[0m\u001b[0;34m(\u001b[0m\u001b[0ms\u001b[0m\u001b[0;34m)\u001b[0m \u001b[0;34m+\u001b[0m \u001b[0mprvo_liho\u001b[0m\u001b[0;34m(\u001b[0m\u001b[0ms\u001b[0m\u001b[0;34m)\u001b[0m\u001b[0;34m\u001b[0m\u001b[0;34m\u001b[0m\u001b[0m\n\u001b[0m",
      "\u001b[0;31mTypeError\u001b[0m: unsupported operand type(s) for +: 'NoneType' and 'int'"
     ]
    }
   ],
   "source": [
    "def prvo_liho(s):\n",
    "    for e in s:\n",
    "        if e % 2 == 1:\n",
    "            return e\n",
    "    return None\n",
    "\n",
    "s = [1, 3, 5, 7]\n",
    "prvo_sodo(s) + prvo_liho(s)"
   ]
  },
  {
   "cell_type": "markdown",
   "metadata": {},
   "source": [
    "## Nullable tipi\n",
    "\n",
    "Dve možnosti imamo.\n",
    "\n",
    "- Lahko se zmenimo, da je tole v redu. V dokumentaciji funkcije mora jasno pisati, da bo vrnila `None`, če v seznamu ni sodega oz. lihega števila. Vsak, ki pokliče to funkcijo, je odgovoren, da popazi na rezultat. Če pozabi - je to njegov problem.\n",
    "\n",
    "    Problem pri tem principu je, da se napaka ne zgodi nujno takoj temveč precej pozneja. Recimo, da kličemo `prvo_sodo` in rezultat shranimo - bogve kam. Nekje precej kasneje, v čisto drugem koncu programa, preberemo to vrednost, tam bi morala biti številka ... naletimo pa na `None`. In program se sesuje nekje tam. Zdaj pa najdi to napako, če jo moreš. Zato velja, da se morajo napake zgoditi čim prej in ne čim kasneje.\n",
    "    \n",
    "- Lahko se torej zmenimo, naj funkcija vrže exception. V dokumentaciji funkcije mora jasno pisati, da bo vrgla exception, če v seznamu ni sodega oz. lihega števila. Vsak, ki pokliče to funkcijo, je odgovoren, da popazi na argumente. Če pozabi - je to njegov problem.\n",
    "\n",
    "Očitno smo v obeh primerih na približno istem. To je tudi razlog, da sem približno skopiral odstavek.\n",
    "\n",
    "To nima zveze s Pythonovim dinamičnim tipiziranjem in še manj z generiki, to je problem mnogih jezikov.\n",
    "\n",
    "Novejši popularni jeziki (se učijo od starejših bolj teoretičnih jezikov in) to rešujejo z \"option\"-i ali z \"nullable tipi\". V Kotlinu bi takšno funkcijo definirali z\n",
    "\n",
    "```kotlin\n",
    "fun firstEven(s: List[Int]) -> Int?\n",
    "    ... in tako naprej\n",
    "```\n",
    "\n",
    "Tip rezultata `Int?` pomeni, da bo funkcija vrnila `Int` ... ali pa ne. (V nekaterih jezikih se temu reče \"maybe int\", \"mogoče int\"). Tako kot Pythonova funkcija vrne `int` ali pa bo vrnila `None`. Če potem poskusimo sešteti\n",
    "\n",
    "```kotlin\n",
    "firstEven(s) + firstOdd(s)\n",
    "```\n",
    "\n",
    "nam tega ne bo pustil, ker rezultata teh dveh funkcij nista `Int`, temveč sta samo \"mogoče `Int`\". Tudi to ne gre.\n",
    "\n",
    "```kotlin\n",
    "const a: Int = firstEven(s)\n",
    "```\n",
    "\n",
    "Rezultata funkcije `firstEven` ne moremo prirediti spremenljivki tipa `Int` - in se potem delati, da obstaja. Biti mora `Int?`:\n",
    "\n",
    "```kotlin\n",
    "const a: Int? = firstEven(s)\n",
    "```\n",
    "\n",
    "Kako se znebimo tega \"mogoče\"? V Kotlinu tako, da priskrbimo privzeto vrednost ali pa preverimo, da vrednost ni null. Operator `a ?: b` vrne `a`, če le-ta ni `null`. Če je, pa vrne `b`. Recimo, da bi v primeru, da prvega lihega števila ni, želeli uporabiti kar 1. To naredimo tako: `firstEven(s) ?: 1`."
   ]
  }
 ],
 "metadata": {
  "kernelspec": {
   "display_name": "Python 3",
   "language": "python",
   "name": "python3"
  },
  "language_info": {
   "codemirror_mode": {
    "name": "ipython",
    "version": 3
   },
   "file_extension": ".py",
   "mimetype": "text/x-python",
   "name": "python",
   "nbconvert_exporter": "python",
   "pygments_lexer": "ipython3",
   "version": "3.7.4"
  }
 },
 "nbformat": 4,
 "nbformat_minor": 5
}
