{
 "cells": [
  {
   "cell_type": "markdown",
   "metadata": {},
   "source": [
    "## Objektno programiranje\n",
    "\n",
    "Tokrat še bolj kot za ostale kratke zapiske velja, da predpostavljam, da bralec snov že pozna iz drugih jezikov. Torej, da mu objektno programiranje ni tuje in mu moramo povedati le, kako se te stvari zapiše v Pythonu.\n",
    "\n",
    "Definirali bomo razred `Turtle`, z metodami\n",
    "- `forward(a)`, `back(a)`, ki jo premakneta za `x` naprej oz. nazaj;\n",
    "- `turn(a)`, ki jo obrne za `a` stopinj levo;\n",
    "- `left()`, `right()`, ki jo obrneta za 90 stopinj levo oz. desno.\n",
    "\n",
    "Iz tega razreda bomo izpeljali razred `TurtleProfessional`. Ta nam omogoča, da tiste stvari, ki so v običajni želvi sicer zastonj, plačujemo. Poleg naštetih ima še metodi:\n",
    "- `set_cost(a)`, ki nastavi ceno za prehojeno enoto;\n",
    "- `get_total()`, ki pove, koliko smo želvi dolžni.\n",
    "\n",
    "Želva je v začetku na koordinatah (0, 0) in gleda desno. Privzeta cena plačljive želve je 1 na enoto premika."
   ]
  },
  {
   "cell_type": "code",
   "execution_count": 1,
   "metadata": {},
   "outputs": [],
   "source": [
    "from math import sin, cos, radians\n",
    "\n",
    "class Turtle:\n",
    "    def __init__(self):\n",
    "        self.x = self.y = 0\n",
    "        self.heading = 0\n",
    "        \n",
    "    def forward(self, a):\n",
    "        self.x += a * cos(self.heading)\n",
    "        self.y += a * sin(self.heading)\n",
    "        \n",
    "    def backward(self, a):\n",
    "        self.forward(-a)\n",
    "        \n",
    "    def turn(self, a):\n",
    "        self.heading += radians(a)\n",
    "        \n",
    "    def left(self):\n",
    "        self.turn(90)\n",
    "        \n",
    "    def right(self):\n",
    "        self.turn(-90)\n",
    "        \n",
    "        \n",
    "class TurtleProfessional(Turtle):\n",
    "    def __init__(self):\n",
    "        super().__init__()\n",
    "        self.cost = 1\n",
    "        self.total = 0\n",
    "\n",
    "    def forward(self, a):\n",
    "        super().forward(a)\n",
    "        self.total += abs(a) * self.cost\n",
    "\n",
    "    def set_cost(self, a):\n",
    "        self.cost = a\n",
    "        \n",
    "    def get_total(self):\n",
    "        return self.total"
   ]
  },
  {
   "cell_type": "markdown",
   "metadata": {},
   "source": [
    "Preden povemo kaj več, se samo še zapeljimo z eno želvo."
   ]
  },
  {
   "cell_type": "code",
   "execution_count": 2,
   "metadata": {},
   "outputs": [],
   "source": [
    "ana = TurtleProfessional()\n",
    "ana.forward(10)\n",
    "ana.left()\n",
    "ana.set_cost(3)\n",
    "ana.backward(5)"
   ]
  },
  {
   "cell_type": "code",
   "execution_count": 3,
   "metadata": {},
   "outputs": [
    {
     "data": {
      "text/plain": [
       "25"
      ]
     },
     "execution_count": 3,
     "metadata": {},
     "output_type": "execute_result"
    }
   ],
   "source": [
    "ana.get_total()"
   ]
  },
  {
   "cell_type": "code",
   "execution_count": 4,
   "metadata": {},
   "outputs": [
    {
     "data": {
      "text/plain": [
       "10.0"
      ]
     },
     "execution_count": 4,
     "metadata": {},
     "output_type": "execute_result"
    }
   ],
   "source": [
    "ana.x"
   ]
  },
  {
   "cell_type": "code",
   "execution_count": 5,
   "metadata": {},
   "outputs": [
    {
     "data": {
      "text/plain": [
       "-5.0"
      ]
     },
     "execution_count": 5,
     "metadata": {},
     "output_type": "execute_result"
    }
   ],
   "source": [
    "ana.y"
   ]
  },
  {
   "cell_type": "markdown",
   "metadata": {},
   "source": [
    "### Sintaksa\n",
    "\n",
    "Očitno in pričakovana. Rečemo `class`, ime, dvopičje in naštejemo funkcije/metode. Tako kot nikjer drugje tudi tu ni potrebno deklarirati spremenljivk.\n",
    "\n",
    "Če je razred izpeljan iz nekega drugega razreda, navedemo ta razred v oklepaju. Občutek imam, da imajo to jeziki v zadnjem času rajše, v Pythonu pa ima dvopičje itak še čisto drug pomen.\n",
    "\n",
    "Poljem razreda (`x`, `y`, `heading` ...) se v Pythonu reče atributi (*attribute*). Potrebe po slovenjenju ne vidim, saj je beseda v SSKJ brez klicajev. Poleg bi lahko prevod \"lastnost\" zamenjevali s *property*, ki ima nekoliko drugačen pomen.\n",
    "\n",
    "### Večkratno dedovanje\n",
    "\n",
    "O tem se kar takoj pogovorimo. En razred ima lahko tudi več prednikov; navedemo jih v oklepaju in ločimo z vejicami.\n",
    "\n",
    "Večkratno dedovanje je običajno zelo slaba ideja, zato ga veliko jezikov sploh ne podpira. To je ena od tistih stvari, ki jih je celo Java naredila prav; katere so ostale tri, sem pozabil. Python to dopušča, vendar to izjemno rekdo vidimo; spomnim se samo enega razreda, za katerega vem, da je izpeljan iz dveh, vendar gre za *wrapper* okrog C-jevske knjižnice.\n",
    "\n",
    "Zakaj Python potem to ima, če celo Java ve, da to ni OK in če to vejo tudi programerji?\n",
    "\n",
    "Zelo redko (po mojih izkušnjah: nikoli) se ne zgodi, da bi en razred hkrati spadal v dve vrsti razredov. Ali si `Oseba` ali pa si `Kvadrat` in nihče, noben izpeljan razred, ne more biti oboje.\n",
    "\n",
    "Pač pa je večkratno dedovanje zelo uporabno in tudi neškodljivo, če ga ne dojemamo, kot da nekdo spada v dve vrsti reči, pač pa z dodatnim razredom dodamo ali obljubimo neko funkcionalnost.\n",
    "\n",
    "En vzorec je [mixin](https://en.wikipedia.org/wiki/Mixin), s katerim razredu dodamo neko funkcionalnost. V bistvu gre za razred, ki definira neke dodatne metode, morda tudi kakšne z njimi povezane atribute, ne gre pa za nek funkcionalen, uporaben razred. Tipično (ne pa nujno) mixini tudi nimajo kakšne posebne hierarhije. V projektu, na katerem delam, imamo mixin za multi threading. Če nek razred \"izpelješ\" *tudi* iz tega mixina, dobi dodatne metode za delo s threadi. Imamo mixin za progress bar, ki grafičnim elementom doda progress bar. Mixin, ki kontrolira določene atribute...\n",
    "\n",
    "Drugi vzorec, ki ga včasih uporabljamo v Pythonu, je označevanje razredov. Razred izpeljemo iz nekega razreda, če želimo povedati, da zna določene stvari. Razrede včasih izpeljemo *tudi* iz razredov v `typing` ali `collections.abc` (abc = abstract base class). Razred izpeljan iz  `collections.abs.Collection`, recimo, o sebi trdi, da je čezenj možno z zanko `for`, da zna povedati svojo dolžino in ima operator `in`. (Več v [dokumentaciji](https://docs.python.org/3/library/collections.abc.html#collections-abstract-base-classes).)\n",
    "\n",
    "Oba vzorca spominjata na *interface* iz Jave in C#. Javin interface, če ga kot nekdo, ki nikoli ni veliko programiral v Javi, v zadnjih desetih letih pa sploh nič, bolj spominja na abstraktne razrede. Z njim *obljubimo* (oz. zahtevamo), da bo razred imel določene metode. Prevajalnik to preverja. Pythonova deklaracija abstraktnega podatkovnega tipa ima podoben učinek, vendar tega nihče ne preverja.\n",
    "\n",
    "C# pa od različice 8.0 (iz leta 2019) omogoča, da v interface določimo privzete implementacije metod. To so v bistvu mixini.\n",
    "\n",
    "### Konstruktor in destruktor\n",
    "\n",
    "Konstruktor je metoda z imenom `__init__`. To je samo ena izmed skoraj 50 posebnih metod, ki se začnejo in končajo z dvema podčrtajema. (Ne zmotite se in ne napišite samo enega.)\n",
    "\n",
    "Konstruktor seveda ni obvezen. Napišemo ga, če imamo v njem kaj povedati.\n",
    "\n",
    "Konstruktor ima lahko tudi dodatne argumente. Te pač navedemo, ko naredimo objekt. Če bi konstruktor razreda `Turtle` definirali z\n",
    "\n",
    "```python\n",
    "    def __init__(self, name):\n",
    "        ...\n",
    "```\n",
    "\n",
    "bi ga klicali z\n",
    "\n",
    "```python\n",
    "ana = Turtle(\"Ana\")\n",
    "```\n",
    "\n",
    "Destruktorjev ne pišemo skoraj nikoli. In v bistvu niso zares v paru z `__init__`, temveč z drugim konstruktorjem.\n",
    "\n",
    "Python ima v bistvu dva konstruktorja. `__init__` kot argument prejme `self`, saj je objekt že narejen. Naloga `__init__`-a je, da inicializira objekt, pripravi njegove atribute. Metoda, ki v resnici naredi objekt, torej ustvari, vrne `self` pa je `__new__`. Ta metoda kot argument prejme razred in (praviloma) vrne objekt tega razreda.\n",
    "\n",
    "Konstruktor, `__del__` se pokliče, preden objekt odide iz pomnilnika. Kdaj se bo to zgodilo, pa ne vemo. Takrat, ko ga bodo smetarji naložili in odpeljali. Pri nas običajno okrog osme ure zjutraj; v ponedeljek organske, v torek embalažo in tako naprej. Večina objektov se razblini, ki nanje ne kaže nobeno ime več; če so udeleženi v kakšni skupinski dejavnosti, ki obsega cikle, pa lahko tudi kdaj kasneje.\n",
    "\n",
    "Ne le, da ne vemo, kdaj se bo `__del__` poklical, temveč v njem navadno tudi nimamo česa početi. Redki programerji v Pythonu so že kdaj napisali konstruktor. Pretiravam, a ne veliko. :) Zase lahko povem, da ga že precej let nisem napisal.\n",
    "\n",
    "### Argument `self`\n",
    "\n",
    "V jeziku (jezikih), iz katerega poznate objektno programiranje, ste gotovo navajeni spremenljivke z imenom `this` ali `self`. V Pythonu se ji reče `self`. Python se od jezika, ki ga poznate, najbrž razlikuje po tem, da je ta `self` vedno ekspliciten.\n",
    "\n",
    "1. `self` je vedno prvi argument metode. V C++, C#, Java, Javascript ... se `this` preprosto pojavi. Funkcija ga dobi kot enega izmed argumentov, programer pa tega niti ne ve. Tu ve in ga mora navesti. Razen, kadar ga ne, ker gre za statično ali razredno metodo. A o tem bomo kasneje (če sploh).\n",
    "\n",
    "2. Ob dostopanju do atributov in ob klicih metod moramo vedno navajati `self`. Ttako kot v Javascriptu (kjer je sicer `this`) in drugače kot v C++ in iz njega izpeljanih jezikih (C++ sam pa je to pobral od Simule 67), kjer `this` napišemo, kadar se nam zdi.\n",
    "\n",
    "    Logika je v tem: ko smo šofirali Ano, smo pisali `ana.forward`. Vedno smo povedali *kdo* naj gre naprej. Zakaj bi znotraj metod delali izjemo?\n",
    "    \n",
    "    Praktičen razlog za to, je, da so v C++ in podobnih jezikih atributi definirani. Tam se ve, da obstaja atribut `x`, torej se bo ime `x` znotraj metod nanašalo na `this->x`. V Pythonu pa že v konstruktorju ne bi bilo jasno, ali hočemo z `x = 0` nastaviti lokalno spremenljivko ali atribut.\n",
    "    \n",
    "    Poleg tega pa ima ta odločitev kup lepih posledic, ki pa jih lahko razumemo samo, če vemo, kako je Python narejen - to je, kako pravzaprav poišče objekt, na katerega se nanaša ime, kako v hierarhiji razredov poišče metodo ipd.\n",
    "    \n",
    "    Tale `self` boste malo pozabljali, potem pa se boste navadili. Če sam zelo dolgo programiram samo v kakem drugem jeziku, se včasih še sam spozabim.\n",
    "    \n",
    "    \n",
    "### Klicanje podedovanih metod\n",
    "\n",
    "`super()` vrne objekt, ki je takšen kot `self`, vendar se vede, kot da bi bil objekt razreda, iz katerega je izpeljan ta razred. Kaj v resnici vrne `super()` in kako deluje, je magija, v katero se, priznam, tudi sam nisem najglobje spustil. Vedno mi je zadoščalo vedeti, da podedovani `forward` pokličem s `super().forward` in podedovani konstruktor s `super().__init__`.\n",
    "\n",
    "### Privatne metode\n",
    "\n",
    "Python si je izmislil Nizozemec. Če ste se kdaj sprehajali po Amsterdamu, veste, kako (oz. po čem) tam diši. Skoraj kot v San Franciscu. Nizozemci ne skrivajo.\n",
    "\n",
    "Python nima privatnih metod. Vse je javno. Pač pa se severni narodi bolj držijo družbenih norm.\n",
    "\n",
    "- Če ime metode ali atributa začnemo s podčrtajem, to pomeni, da gre za privatno zadevo. Še vedno jo vsi vidijo in uporabljajo, vendar na lastno odgovornost. Če gre za kakšno knjižnico in kličeš metodo, katere ime se začne s podrčtajem (enako velja tudi za funkcije znotraj modulov), ti nihče ne garantira, da bo ta metoda v prihodnji različici še obstajala, sprejemala enake argumente in počela isto kot prej. In obratno: ko pišemo svoje razrede, damo metodam, ki jih kanimo obdržati in deliti s svetom, normalna imena, takšnim, v zvezi s čemer na garantiramo ničesar, pa damo na začetek imen podčrtaj."
   ]
  },
  {
   "cell_type": "code",
   "execution_count": 6,
   "metadata": {},
   "outputs": [
    {
     "name": "stdout",
     "output_type": "stream",
     "text": [
      "As mogu?\n"
     ]
    }
   ],
   "source": [
    "class A:\n",
    "    def _ne_klici_me(self):\n",
    "        print(\"As mogu?\")\n",
    "        \n",
    "a = A()\n",
    "a._ne_klici_me()"
   ]
  },
  {
   "cell_type": "markdown",
   "metadata": {},
   "source": [
    "- Če damo na začetek metode dva podčrtaja, pa se bo celo Python malo potrudil, da oteži klice."
   ]
  },
  {
   "cell_type": "code",
   "execution_count": 7,
   "metadata": {},
   "outputs": [
    {
     "ename": "AttributeError",
     "evalue": "'A' object has no attribute '__res_me_ne_klici'",
     "output_type": "error",
     "traceback": [
      "\u001b[0;31m--------------------------------------------------------------------------\u001b[0m",
      "\u001b[0;31mAttributeError\u001b[0m                           Traceback (most recent call last)",
      "\u001b[0;32m<ipython-input-7-4b5b4035e01e>\u001b[0m in \u001b[0;36m<module>\u001b[0;34m\u001b[0m\n\u001b[1;32m      4\u001b[0m \u001b[0;34m\u001b[0m\u001b[0m\n\u001b[1;32m      5\u001b[0m \u001b[0ma\u001b[0m \u001b[0;34m=\u001b[0m \u001b[0mA\u001b[0m\u001b[0;34m(\u001b[0m\u001b[0;34m)\u001b[0m\u001b[0;34m\u001b[0m\u001b[0;34m\u001b[0m\u001b[0m\n\u001b[0;32m----> 6\u001b[0;31m \u001b[0ma\u001b[0m\u001b[0;34m.\u001b[0m\u001b[0m__res_me_ne_klici\u001b[0m\u001b[0;34m(\u001b[0m\u001b[0;34m)\u001b[0m\u001b[0;34m\u001b[0m\u001b[0;34m\u001b[0m\u001b[0m\n\u001b[0m",
      "\u001b[0;31mAttributeError\u001b[0m: 'A' object has no attribute '__res_me_ne_klici'"
     ]
    }
   ],
   "source": [
    "class A:\n",
    "    def __res_me_ne_klici(self):\n",
    "        print(\"A ti je ratal?\")\n",
    "        \n",
    "a = A()\n",
    "a.__res_me_ne_klici()"
   ]
  },
  {
   "cell_type": "code",
   "execution_count": 8,
   "metadata": {},
   "outputs": [
    {
     "name": "stdout",
     "output_type": "stream",
     "text": [
      "A ti je ratal?\n"
     ]
    }
   ],
   "source": [
    "a._A__res_me_ne_klici()"
   ]
  },
  {
   "cell_type": "markdown",
   "metadata": {},
   "source": [
    "### Dostop do atributov\n",
    "\n",
    "Tako kot Python ne skriva metod, tudi ne skriva atributov. Zgoraj smo videli, da lahko dostopamo do `ana.x` in `ana.y`. Pisanje metod, s katerimi preberemo ali nastavimo vrednost atributa je stvar okusa. Nekatere knjižnice so tozadevno zelo striktne, druge tega nimajo.\n",
    "\n",
    "Na tem mestu vas bo morda zanimalo, ali obstajajo propertyji, getterji in setterji. Da, ampak dajmo o tem kasneje.\n",
    "\n",
    "Atribute smo dodajali v konstruktorju. *Tako se spodobi.* Lahko pa jih dodajamo tudi v drugih metodah. Poljubna metoda lahko reče `self.nekaj = 42`. *Tako se ne spodobi.* V tem primeru atribut obstaja samo, če pokličemo tisto metodo, sicer pa ne. To nekaj časa deluje, potem pa nekaj spremenimo, malo drugače pokličemo metode, in neha. `pylint` vas bo zato opozoril, če v neki metodi nastavljate atribut, ki ne dobi neke vrednosti že v konstruktorju.\n",
    "\n",
    "Atribute lahko nastavljamo celo od zunaj."
   ]
  },
  {
   "cell_type": "code",
   "execution_count": 9,
   "metadata": {},
   "outputs": [
    {
     "data": {
      "text/plain": [
       "'Ana'"
      ]
     },
     "execution_count": 9,
     "metadata": {},
     "output_type": "execute_result"
    }
   ],
   "source": [
    "ana.name = \"Ana\"\n",
    "\n",
    "ana.name"
   ]
  },
  {
   "cell_type": "markdown",
   "metadata": {},
   "source": [
    "Tega ni možno početi, zato, ker so to dodali v jezik in bi bilo to posebej dobra praksa, temveč zato, ker tega niso vzeli iz jezika, preprečili. Točneje, ker bi bilo glede na to, kako je Python narejen, to pravzaprav zelo težko preprečiti.\n",
    "\n",
    "### Virtualne metode\n",
    "\n",
    "Vse metode so virtualne.\n",
    "\n",
    "Profesionalna želva je definirala svoj `forward`. Ko `backward` (ki je definiran v razredu `Turtle` pokliče `forward`, se pokliče `forward`, ki je v razredu `TurtleProfessional`.\n",
    "\n",
    "Ugibam, da v prevajanih jezikih ni tako, ker lahko prevajalnik pri ne-virtualnih metodah optimizira kodo, poleg tega pa virtualne metode zahtevajo dodaten vpogled v tabelo, v kateri so zbrani kazalci na virtualne metode, medtem ko se za ne-virtualne že v času prevajanja (točneje: povezovanja, *link*) ve, kje v programu se bodo nahajale.\n",
    "\n",
    "V jezikih, ki niso prevajani, ali pa vsaj v Pythonu te razlike ni.\n",
    "\n",
    "### Zaprti razredi\n",
    "\n",
    "V nekaterih jezikih je razred možno označiti kot `final` - iz takega razreda ni možno izpeljevati novih razredov. To je dobra ideja.\n",
    "\n",
    "Nekateri jeziki gredo še dlje: v Kotlinu je možno iz razreda izpeljevati nove razrede samo, če so označeni kot `open`. To je še boljša ideja.\n",
    "\n",
    "V Pythonu ni ničesar od tega.\n",
    "\n",
    "Python ima od različice 3.8 dekorator `@final`, s katerim označimo razred, iz akterega naj bi se ne dalo izpeljevati novih razredov, ali metodo, ki naj bi je ne bilo možno povoziti v izpeljanih razredih. Kot vse te stvari pa je tudi to le stvar dogovora. Gre za anotacijo tipa, tako kot lahko v Pythonu z `i: int` prisežemo, da bo `i` `int` in v naslednji vrstici iz gole hudobije v `i` shranimo niz. *I nikome ništa.* Pač pa na te dekoratorje prežijo razni linti in nas opozarjajo.\n",
    "\n",
    "V projektu, na katerem delam, smo nekoč ugotovili, da bi radi zaprli vse razrede v določeni hierarhiji. Zato sem sprogramiral neko čarovnijo, s katero lahko naredimo tole:\n",
    "\n",
    "```python\n",
    "class OurBaseClass:\n",
    "    # naš razred, ki vsebuje čarovnijo, ki preprečuje, da bi iz razredov,\n",
    "    # izpeljanih iz tega razreda, izpeljevali nove razrede\n",
    "    ...\n",
    "    \n",
    "class A(OurBaseClass):\n",
    "    ...\n",
    "    \n",
    "class B(A):  # tu Python javi napako, da razred A ni odprt\n",
    "    ...\n",
    "    \n",
    "class C(OurBaseClass, openclass=True):\n",
    "    ...\n",
    "    \n",
    "class D(C):  # to pa je dovoljeno, ker je C odprt\n",
    "    ...\n",
    "```\n",
    "\n",
    "Je pa ta čarovnija prezapletena, da bi jo tule razlagal. Temelji na uporabi [meta razredov](https://docs.python.org/3/reference/datamodel.html#metaclasses). Na kratko, `OurBaseClass` ni tip tipa tipa, temveč tip nekega našega tipa.\n",
    "\n",
    "## Lastnosti (property)\n",
    "\n",
    "Property je kot atribut, le da se v resnici vsakič znova izračuna."
   ]
  },
  {
   "cell_type": "code",
   "execution_count": 10,
   "metadata": {},
   "outputs": [
    {
     "data": {
      "text/plain": [
       "10"
      ]
     },
     "execution_count": 10,
     "metadata": {},
     "output_type": "execute_result"
    }
   ],
   "source": [
    "class A:\n",
    "    def __init__(self, k):\n",
    "        self.k = k\n",
    "        \n",
    "    @property\n",
    "    def dva_k(self):\n",
    "        return 2 * self.k\n",
    "    \n",
    "a = A(5)\n",
    "a.dva_k"
   ]
  },
  {
   "cell_type": "code",
   "execution_count": 11,
   "metadata": {},
   "outputs": [
    {
     "data": {
      "text/plain": [
       "84"
      ]
     },
     "execution_count": 11,
     "metadata": {},
     "output_type": "execute_result"
    }
   ],
   "source": [
    "a.k = 42\n",
    "a.dva_k"
   ]
  },
  {
   "cell_type": "markdown",
   "metadata": {},
   "source": [
    "Kako naredimo `property`, vidimo: okrasimo ga z dekoratorjem. (Kot večina (vsi?) drugi dekoratorji je tudi ta takšen, da bi ga, če še ne bi obstajal, lahko napisali sami. Samo malo več bi morali vedeti o delovanju razredov.)\n",
    "\n",
    "Lastnosti pogosto uporabljamo, kadar želimo nek podatek skriti in predvsem, kadar želimo nadzirati njegovo nastavljanje.\n",
    "\n",
    "Sestavimo razred, ki bo vseboval atribut `tabela`, katere dolžina bo vedno tolikšna, kolikor je vrednost njegovega atributa `dim`."
   ]
  },
  {
   "cell_type": "code",
   "execution_count": 12,
   "metadata": {},
   "outputs": [
    {
     "data": {
      "text/plain": [
       "[0, 0, 0, 0]"
      ]
     },
     "execution_count": 12,
     "metadata": {},
     "output_type": "execute_result"
    }
   ],
   "source": [
    "class Tabela:\n",
    "    def __init__(self, dim):\n",
    "        self._dim = dim\n",
    "        self.tabela = [0] * dim\n",
    "        \n",
    "    @property\n",
    "    def dim(self):\n",
    "        return self._dim\n",
    "    \n",
    "    @dim.setter\n",
    "    def dim(self, new_dim):\n",
    "        if self._dim < new_dim:\n",
    "            self.tabela += [0] * (new_dim - self._dim)\n",
    "        else:\n",
    "            self.tabela = self.tabela[:new_dim]\n",
    "        self._dim = new_dim\n",
    "            \n",
    "t = Tabela(4)\n",
    "t.tabela"
   ]
  },
  {
   "cell_type": "code",
   "execution_count": 13,
   "metadata": {},
   "outputs": [
    {
     "data": {
      "text/plain": [
       "4"
      ]
     },
     "execution_count": 13,
     "metadata": {},
     "output_type": "execute_result"
    }
   ],
   "source": [
    "t.dim"
   ]
  },
  {
   "cell_type": "code",
   "execution_count": 14,
   "metadata": {},
   "outputs": [
    {
     "data": {
      "text/plain": [
       "10"
      ]
     },
     "execution_count": 14,
     "metadata": {},
     "output_type": "execute_result"
    }
   ],
   "source": [
    "t.dim = 10\n",
    "t.dim"
   ]
  },
  {
   "cell_type": "code",
   "execution_count": 15,
   "metadata": {},
   "outputs": [
    {
     "data": {
      "text/plain": [
       "[0, 0, 0, 0, 0, 0, 0, 0, 0, 0]"
      ]
     },
     "execution_count": 15,
     "metadata": {},
     "output_type": "execute_result"
    }
   ],
   "source": [
    "t.tabela"
   ]
  },
  {
   "cell_type": "markdown",
   "metadata": {},
   "source": [
    "Tako kot branje atributa `dim` v resnici pokliče funkcijo `dim`, ki smo jo okrasili s `property`, nastavljanje tega atributa pokliče funkcijo, ki smo jo okrasili z `@dim.setter` (in jo moramo napisati za prvo funkcjo, saj prvi dekorator ustvari drugega).\n",
    "\n",
    "Tabela se je takrat, ko smo spreminili `dim`, sama od sebe podaljšala.\n",
    "\n",
    "Lastnosti (*property*) lahko naredimo tudi drugače. Vsaj na dva načina. Mehanizacija, ki se skriva za tem, je kar zapletena; za vtis, si lahko ogledate [dokumentacijo](https://docs.python.org/3/howto/descriptor.html).\n",
    "\n",
    "### Atributi razredov\n",
    "\n",
    "C++ in C# imata statične atribute (*static member*). Zakaj se jim reče statični, ne vem. V Pythonu so to atributi razredov."
   ]
  },
  {
   "cell_type": "code",
   "execution_count": 16,
   "metadata": {},
   "outputs": [],
   "source": [
    "class A:\n",
    "    x = 12\n",
    "    \n",
    "    def f(self):\n",
    "        return 42\n",
    "    \n",
    "a = A()\n",
    "b = A()"
   ]
  },
  {
   "cell_type": "markdown",
   "metadata": {},
   "source": [
    "Tako kot imata oba objekta metodo `f`, imata tudi atribut `x`."
   ]
  },
  {
   "cell_type": "code",
   "execution_count": 17,
   "metadata": {},
   "outputs": [
    {
     "data": {
      "text/plain": [
       "42"
      ]
     },
     "execution_count": 17,
     "metadata": {},
     "output_type": "execute_result"
    }
   ],
   "source": [
    "a.f()"
   ]
  },
  {
   "cell_type": "code",
   "execution_count": 18,
   "metadata": {},
   "outputs": [
    {
     "data": {
      "text/plain": [
       "12"
      ]
     },
     "execution_count": 18,
     "metadata": {},
     "output_type": "execute_result"
    }
   ],
   "source": [
    "a.x"
   ]
  },
  {
   "cell_type": "markdown",
   "metadata": {},
   "source": [
    "Če objekt definira svoj `x`, ima ta prednost pred atributom razreda."
   ]
  },
  {
   "cell_type": "code",
   "execution_count": 19,
   "metadata": {},
   "outputs": [
    {
     "data": {
      "text/plain": [
       "20"
      ]
     },
     "execution_count": 19,
     "metadata": {},
     "output_type": "execute_result"
    }
   ],
   "source": [
    "a.x = 20\n",
    "\n",
    "a.x"
   ]
  },
  {
   "cell_type": "code",
   "execution_count": 20,
   "metadata": {},
   "outputs": [
    {
     "data": {
      "text/plain": [
       "12"
      ]
     },
     "execution_count": 20,
     "metadata": {},
     "output_type": "execute_result"
    }
   ],
   "source": [
    "b.x"
   ]
  },
  {
   "cell_type": "markdown",
   "metadata": {},
   "source": [
    "Skupni `x` je pač `A.x`."
   ]
  },
  {
   "cell_type": "code",
   "execution_count": 21,
   "metadata": {},
   "outputs": [
    {
     "data": {
      "text/plain": [
       "12"
      ]
     },
     "execution_count": 21,
     "metadata": {},
     "output_type": "execute_result"
    }
   ],
   "source": [
    "A.x"
   ]
  },
  {
   "cell_type": "code",
   "execution_count": 22,
   "metadata": {},
   "outputs": [],
   "source": [
    "A.x = 13"
   ]
  },
  {
   "cell_type": "code",
   "execution_count": 23,
   "metadata": {},
   "outputs": [
    {
     "data": {
      "text/plain": [
       "13"
      ]
     },
     "execution_count": 23,
     "metadata": {},
     "output_type": "execute_result"
    }
   ],
   "source": [
    "b.x"
   ]
  },
  {
   "cell_type": "markdown",
   "metadata": {},
   "source": [
    "Tudi tu še vedno velja vse, kar smo risali s puščicami."
   ]
  },
  {
   "cell_type": "code",
   "execution_count": 24,
   "metadata": {},
   "outputs": [
    {
     "data": {
      "text/plain": [
       "[1, 2, 3, 4]"
      ]
     },
     "execution_count": 24,
     "metadata": {},
     "output_type": "execute_result"
    }
   ],
   "source": [
    "class A:\n",
    "    t = [1, 2, 3]\n",
    "    \n",
    "a = A()\n",
    "b = A()\n",
    "\n",
    "a.t.append(4)\n",
    "b.t"
   ]
  },
  {
   "cell_type": "code",
   "execution_count": 25,
   "metadata": {},
   "outputs": [
    {
     "data": {
      "text/plain": [
       "True"
      ]
     },
     "execution_count": 25,
     "metadata": {},
     "output_type": "execute_result"
    }
   ],
   "source": [
    "a.t is b.t is A.t"
   ]
  },
  {
   "cell_type": "code",
   "execution_count": 26,
   "metadata": {},
   "outputs": [
    {
     "data": {
      "text/plain": [
       "[1, 2, 3, 4]"
      ]
     },
     "execution_count": 26,
     "metadata": {},
     "output_type": "execute_result"
    }
   ],
   "source": [
    "a.t = [10, 11, 12]\n",
    "b.t"
   ]
  },
  {
   "cell_type": "markdown",
   "metadata": {},
   "source": [
    "Tu je `a` dobil svoj `t`, `b.t` pa je še vedno, kar je bil prej."
   ]
  },
  {
   "cell_type": "markdown",
   "metadata": {},
   "source": [
    "## Nekaj o tem, kako je to narejeno\n",
    "\n",
    "### Kje so shranjeni atributi\n",
    "\n",
    "Razredi imajo slovar, `__dict__`, ki vsebuje metode (in atribute razreda). Objekti imajo slovar `__dict__`, ki vsebuje atribute (in tudi metode, ampak o tem bomo govorili posebej)."
   ]
  },
  {
   "cell_type": "code",
   "execution_count": 27,
   "metadata": {},
   "outputs": [],
   "source": [
    "class A:\n",
    "    def __init__(self, ime):\n",
    "        self.ime = ime\n",
    "        self.t = 13\n",
    "       \n",
    "    def f(self, x):\n",
    "        print(f\"f razreda A, objekta {self.ime}, x={x}\")\n",
    "\n",
    "    def g(self):\n",
    "        print(f\"g razreda A, objekta {self.ime}\")\n",
    "    \n",
    "class B(A):\n",
    "    def f(self, x):\n",
    "        print(f\"f razreda B, objekta {self.ime}, x={x}\")\n",
    "\n",
    "ana = B(\"Ana\")\n",
    "berta = B(\"Berta\")"
   ]
  },
  {
   "cell_type": "markdown",
   "metadata": {},
   "source": [
    "`ana` ima dva atributa, shranjena sta v slovarju `ana.__dict__`. `berta` prav tako in sta pač v `b.__dict__`."
   ]
  },
  {
   "cell_type": "code",
   "execution_count": 28,
   "metadata": {},
   "outputs": [
    {
     "data": {
      "text/plain": [
       "{'ime': 'Ana', 't': 13}"
      ]
     },
     "execution_count": 28,
     "metadata": {},
     "output_type": "execute_result"
    }
   ],
   "source": [
    "ana.__dict__"
   ]
  },
  {
   "cell_type": "markdown",
   "metadata": {},
   "source": [
    "Ko torej hočemo dobiti vrednost `ana.nekaj`, gre Python iskat to vrednost v `ana.__dict__`."
   ]
  },
  {
   "cell_type": "code",
   "execution_count": 29,
   "metadata": {},
   "outputs": [
    {
     "data": {
      "text/plain": [
       "'Benjamin'"
      ]
     },
     "execution_count": 29,
     "metadata": {},
     "output_type": "execute_result"
    }
   ],
   "source": [
    "ana.__dict__[\"prijatelj\"] = \"Benjamin\"\n",
    "\n",
    "ana.prijatelj"
   ]
  },
  {
   "cell_type": "markdown",
   "metadata": {},
   "source": [
    "Zapis `ana.prijatelj` je samo okrajšava za `ana.__dict__[\"prijatelj\"]`. No, skoraj. Ker imamo tu še razrede."
   ]
  },
  {
   "cell_type": "markdown",
   "metadata": {},
   "source": [
    "### Kako pridemo do metod\n",
    "\n",
    "Metode so, očitno, shranjene v slovarju razreda."
   ]
  },
  {
   "cell_type": "code",
   "execution_count": 30,
   "metadata": {},
   "outputs": [
    {
     "data": {
      "text/plain": [
       "mappingproxy({'__module__': '__main__',\n",
       "              '__init__': <function __main__.A.__init__(self, ime)>,\n",
       "              'f': <function __main__.A.f(self, x)>,\n",
       "              'g': <function __main__.A.g(self)>,\n",
       "              '__dict__': <attribute '__dict__' of 'A' objects>,\n",
       "              '__weakref__': <attribute '__weakref__' of 'A' objects>,\n",
       "              '__doc__': None})"
      ]
     },
     "execution_count": 30,
     "metadata": {},
     "output_type": "execute_result"
    }
   ],
   "source": [
    "A.__dict__"
   ]
  },
  {
   "cell_type": "code",
   "execution_count": 31,
   "metadata": {},
   "outputs": [
    {
     "data": {
      "text/plain": [
       "mappingproxy({'__module__': '__main__',\n",
       "              'f': <function __main__.B.f(self, x)>,\n",
       "              '__doc__': None})"
      ]
     },
     "execution_count": 31,
     "metadata": {},
     "output_type": "execute_result"
    }
   ],
   "source": [
    "B.__dict__"
   ]
  },
  {
   "cell_type": "markdown",
   "metadata": {},
   "source": [
    "Tole niso čisto pravi slovarji, vendar se vedejo ... precej kot da bi bili. Ne moremo jim direktno spreminjati vrednosti (kot smo zgoraj dodali `\"z\"` v `b`-jev slovar), ampak tega niti ne potrebujemo.\n",
    "\n",
    "Kaj se torej zgodi, ko napišemo `b.k` ali `b.f`? Tole\n",
    "- Python pogleda, ali takšen ključ (`\"k\"`, `\"f\"`) obstaja v slovarju samega objekta (`b`-ja). Če, potem ga vrne.\n",
    "- Sicer pogleda, ali to obstaja v slovarju razreda, ki mu pripada objekt. Če, je to to.\n",
    "- Sicer pogleda v razred, iz katerega je ta razred izpeljan. In tako naprej.\n",
    "\n",
    "Za vsak razred lahko izvemo, iz katerega razreda (oz. razredov) je izpeljan."
   ]
  },
  {
   "cell_type": "code",
   "execution_count": 33,
   "metadata": {},
   "outputs": [
    {
     "data": {
      "text/plain": [
       "(__main__.A,)"
      ]
     },
     "execution_count": 33,
     "metadata": {},
     "output_type": "execute_result"
    }
   ],
   "source": [
    "B.__bases__"
   ]
  },
  {
   "cell_type": "markdown",
   "metadata": {},
   "source": [
    "Še bolj zanimivo je, da lahko za vsak razred izvemo celo hierarhijo razredov nad njim. Da bo bolj zanimivo, dodajmo še en razred."
   ]
  },
  {
   "cell_type": "code",
   "execution_count": 34,
   "metadata": {},
   "outputs": [
    {
     "data": {
      "text/plain": [
       "[__main__.C, __main__.B, __main__.A, object]"
      ]
     },
     "execution_count": 34,
     "metadata": {},
     "output_type": "execute_result"
    }
   ],
   "source": [
    "class C(B):\n",
    "    ...\n",
    "    \n",
    "C.mro()"
   ]
  },
  {
   "cell_type": "markdown",
   "metadata": {},
   "source": [
    "Vsi razredi imajo metodo `mro`, ki vrne seznam razredov, v katerih bo Python iskal metode (in atribute). Za razred `C` so to razredi `C`, `B`, `A` in na koncu `object`, iz katerih so izpeljani vsi razredi. (Metoda `mro`, recimo, je metoda razreda `object`.)\n",
    "\n",
    "Sestavimo primerek razreda `C`."
   ]
  },
  {
   "cell_type": "code",
   "execution_count": 35,
   "metadata": {},
   "outputs": [],
   "source": [
    "c = C(3.14)"
   ]
  },
  {
   "cell_type": "markdown",
   "metadata": {},
   "source": [
    "Ko torej napišemo `c.f` se zgodi naslednje."
   ]
  },
  {
   "cell_type": "code",
   "execution_count": 36,
   "metadata": {},
   "outputs": [],
   "source": [
    "def poisci(objekt, ime):\n",
    "    if ime in objekt.__dict__:\n",
    "        print(f\"Našel v slovarju objekta; {ime}={objekt.__dict__[ime]}\")\n",
    "        return objekt.__dict__[ime]\n",
    "    for cls in type(objekt).mro():\n",
    "        if ime in cls.__dict__:\n",
    "            print(f\"Našel med metodami razreda '{cls.__name__}'; {ime}={cls.__dict__[ime]}\")\n",
    "            return cls.__dict__[ime]\n",
    "    print(f\"Ime '{ime}'' ne obstaja.\")\n",
    "    return None"
   ]
  },
  {
   "cell_type": "code",
   "execution_count": 37,
   "metadata": {},
   "outputs": [
    {
     "name": "stdout",
     "output_type": "stream",
     "text": [
      "Ime 'k'' ne obstaja.\n"
     ]
    }
   ],
   "source": [
    "poisci(c, \"k\")"
   ]
  },
  {
   "cell_type": "code",
   "execution_count": 38,
   "metadata": {},
   "outputs": [
    {
     "name": "stdout",
     "output_type": "stream",
     "text": [
      "Našel med metodami razreda 'B'; f=<function B.f at 0x7fc427951050>\n"
     ]
    },
    {
     "data": {
      "text/plain": [
       "<function __main__.B.f(self, x)>"
      ]
     },
     "execution_count": 38,
     "metadata": {},
     "output_type": "execute_result"
    }
   ],
   "source": [
    "poisci(c, \"f\")"
   ]
  },
  {
   "cell_type": "code",
   "execution_count": 39,
   "metadata": {},
   "outputs": [
    {
     "name": "stdout",
     "output_type": "stream",
     "text": [
      "Našel med metodami razreda 'A'; g=<function A.g at 0x7fc427946ef0>\n"
     ]
    },
    {
     "data": {
      "text/plain": [
       "<function __main__.A.g(self)>"
      ]
     },
     "execution_count": 39,
     "metadata": {},
     "output_type": "execute_result"
    }
   ],
   "source": [
    "poisci(c, \"g\")"
   ]
  },
  {
   "cell_type": "code",
   "execution_count": 40,
   "metadata": {},
   "outputs": [
    {
     "name": "stdout",
     "output_type": "stream",
     "text": [
      "Ime 'tega_ni'' ne obstaja.\n"
     ]
    }
   ],
   "source": [
    "poisci(c, \"tega_ni\")"
   ]
  },
  {
   "cell_type": "markdown",
   "metadata": {},
   "source": [
    "Tule vidimo tudi, zakaj je tako dobro, da moramo vedno eksplicitno navesti `self`. Na ta način se bo `ana.x` sproži natančno isti mehanizem kot ob `self.x`. Edino, v čemer se Pythonove metode razlikujejo od običajnih funkcij, je, da ob klicu `ana.f` `ana` postane prvi argument `f`-a.\n",
    "\n",
    "### Vezane metode\n",
    "\n",
    "Funkcija v Pythonu je preprosto objekt, ki se ga da poklicati."
   ]
  },
  {
   "cell_type": "markdown",
   "metadata": {},
   "source": []
  },
  {
   "cell_type": "code",
   "execution_count": 41,
   "metadata": {},
   "outputs": [
    {
     "data": {
      "text/plain": [
       "<function __main__.f(x)>"
      ]
     },
     "execution_count": 41,
     "metadata": {},
     "output_type": "execute_result"
    }
   ],
   "source": [
    "def f(x):\n",
    "    return x * 2\n",
    "\n",
    "f"
   ]
  },
  {
   "cell_type": "markdown",
   "metadata": {},
   "source": [
    "Podobno so tudi metode samo objekti, ki se jih da poklicati. Le, da imajo nek pripet `self`."
   ]
  },
  {
   "cell_type": "code",
   "execution_count": 42,
   "metadata": {},
   "outputs": [
    {
     "data": {
      "text/plain": [
       "<bound method B.f of <__main__.B object at 0x7fc42792c890>>"
      ]
     },
     "execution_count": 42,
     "metadata": {},
     "output_type": "execute_result"
    }
   ],
   "source": [
    "ana.f"
   ]
  },
  {
   "cell_type": "markdown",
   "metadata": {},
   "source": [
    "`ana.f` ni `function` temveč `bound method`. Vendar se vede kot ... pač funkcija. Lahko jo podamo funkcijam, ki pričakujejo funkcije, lahko jo priredimo spremenljivki, lahko jo, seveda, tudi pokličemo."
   ]
  },
  {
   "cell_type": "code",
   "execution_count": 43,
   "metadata": {},
   "outputs": [],
   "source": [
    "anin_f = ana.f\n",
    "bertin_f = berta.f"
   ]
  },
  {
   "cell_type": "code",
   "execution_count": 44,
   "metadata": {},
   "outputs": [
    {
     "name": "stdout",
     "output_type": "stream",
     "text": [
      "f objekta razreda B, objekta Ana, x=-5\n"
     ]
    }
   ],
   "source": [
    "anin_f(-5)"
   ]
  },
  {
   "cell_type": "code",
   "execution_count": 45,
   "metadata": {},
   "outputs": [
    {
     "name": "stdout",
     "output_type": "stream",
     "text": [
      "f objekta razreda B, objekta Berta, x=-5\n"
     ]
    }
   ],
   "source": [
    "bertin_f(-5)"
   ]
  },
  {
   "cell_type": "markdown",
   "metadata": {},
   "source": [
    "Metoda `bertin_f`, ki je seveda isto kot `berta.f`, je torej že vezana na Berto. Podobno velja tudi za metode vdelanih objektov."
   ]
  },
  {
   "cell_type": "code",
   "execution_count": 46,
   "metadata": {},
   "outputs": [],
   "source": [
    "s = [1, 2, 3]"
   ]
  },
  {
   "cell_type": "code",
   "execution_count": 47,
   "metadata": {},
   "outputs": [
    {
     "data": {
      "text/plain": [
       "<function list.append(object, /)>"
      ]
     },
     "execution_count": 47,
     "metadata": {},
     "output_type": "execute_result"
    }
   ],
   "source": [
    "s.append"
   ]
  },
  {
   "cell_type": "code",
   "execution_count": 48,
   "metadata": {},
   "outputs": [],
   "source": [
    "t = s.append\n",
    "\n",
    "t(4)"
   ]
  },
  {
   "cell_type": "code",
   "execution_count": 49,
   "metadata": {},
   "outputs": [
    {
     "data": {
      "text/plain": [
       "[1, 2, 3, 4]"
      ]
     },
     "execution_count": 49,
     "metadata": {},
     "output_type": "execute_result"
    }
   ],
   "source": [
    "s"
   ]
  },
  {
   "cell_type": "markdown",
   "metadata": {},
   "source": [
    "## Nevezane metode\n",
    "\n",
    "Če je metoda lahko vezana, je očitno lahko tudi nevezana. To so metode razredov - ne objektov."
   ]
  },
  {
   "cell_type": "code",
   "execution_count": 50,
   "metadata": {},
   "outputs": [
    {
     "data": {
      "text/plain": [
       "<function __main__.B.f(self, x)>"
      ]
     },
     "execution_count": 50,
     "metadata": {},
     "output_type": "execute_result"
    }
   ],
   "source": [
    "B.f"
   ]
  },
  {
   "cell_type": "markdown",
   "metadata": {},
   "source": [
    "Nevezana metoda je dejansko funkcija. Pač funkcija, ki jo je potrebno poklicati z - v tem primeru - dvema argumentoma."
   ]
  },
  {
   "cell_type": "code",
   "execution_count": 51,
   "metadata": {},
   "outputs": [
    {
     "name": "stdout",
     "output_type": "stream",
     "text": [
      "f objekta razreda B, objekta Ana, x=13\n"
     ]
    }
   ],
   "source": [
    "B.f(ana, 13)"
   ]
  },
  {
   "cell_type": "markdown",
   "metadata": {},
   "source": [
    "Če hočemo, jo lahko pokličemo tudi s kakim drugim objektom in Python se niti ne bo pritožil, razen če se bo moral."
   ]
  },
  {
   "cell_type": "code",
   "execution_count": 52,
   "metadata": {},
   "outputs": [
    {
     "ename": "AttributeError",
     "evalue": "'list' object has no attribute 'ime'",
     "output_type": "error",
     "traceback": [
      "\u001b[0;31m--------------------------------------------------------------------------\u001b[0m",
      "\u001b[0;31mAttributeError\u001b[0m                           Traceback (most recent call last)",
      "\u001b[0;32m<ipython-input-52-f3adb971e019>\u001b[0m in \u001b[0;36m<module>\u001b[0;34m\u001b[0m\n\u001b[0;32m----> 1\u001b[0;31m \u001b[0mB\u001b[0m\u001b[0;34m.\u001b[0m\u001b[0mf\u001b[0m\u001b[0;34m(\u001b[0m\u001b[0;34m[\u001b[0m\u001b[0;36m1\u001b[0m\u001b[0;34m,\u001b[0m \u001b[0;36m2\u001b[0m\u001b[0;34m,\u001b[0m \u001b[0;36m3\u001b[0m\u001b[0;34m]\u001b[0m\u001b[0;34m,\u001b[0m \u001b[0;36m5\u001b[0m\u001b[0;34m)\u001b[0m\u001b[0;34m\u001b[0m\u001b[0;34m\u001b[0m\u001b[0m\n\u001b[0m",
      "\u001b[0;32m<ipython-input-27-9de45a5a21d5>\u001b[0m in \u001b[0;36mf\u001b[0;34m(self, x)\u001b[0m\n\u001b[1;32m     12\u001b[0m \u001b[0;32mclass\u001b[0m \u001b[0mB\u001b[0m\u001b[0;34m(\u001b[0m\u001b[0mA\u001b[0m\u001b[0;34m)\u001b[0m\u001b[0;34m:\u001b[0m\u001b[0;34m\u001b[0m\u001b[0;34m\u001b[0m\u001b[0m\n\u001b[1;32m     13\u001b[0m     \u001b[0;32mdef\u001b[0m \u001b[0mf\u001b[0m\u001b[0;34m(\u001b[0m\u001b[0mself\u001b[0m\u001b[0;34m,\u001b[0m \u001b[0mx\u001b[0m\u001b[0;34m)\u001b[0m\u001b[0;34m:\u001b[0m\u001b[0;34m\u001b[0m\u001b[0;34m\u001b[0m\u001b[0m\n\u001b[0;32m---> 14\u001b[0;31m         \u001b[0mprint\u001b[0m\u001b[0;34m(\u001b[0m\u001b[0;34mf\"f objekta razreda B, objekta {self.ime}, x={x}\"\u001b[0m\u001b[0;34m)\u001b[0m\u001b[0;34m\u001b[0m\u001b[0;34m\u001b[0m\u001b[0m\n\u001b[0m\u001b[1;32m     15\u001b[0m \u001b[0;34m\u001b[0m\u001b[0m\n\u001b[1;32m     16\u001b[0m \u001b[0mana\u001b[0m \u001b[0;34m=\u001b[0m \u001b[0mB\u001b[0m\u001b[0;34m(\u001b[0m\u001b[0;34m\"Ana\"\u001b[0m\u001b[0;34m)\u001b[0m\u001b[0;34m\u001b[0m\u001b[0;34m\u001b[0m\u001b[0m\n",
      "\u001b[0;31mAttributeError\u001b[0m: 'list' object has no attribute 'ime'"
     ]
    }
   ],
   "source": [
    "B.f([1, 2, 3], 5)"
   ]
  },
  {
   "cell_type": "markdown",
   "metadata": {},
   "source": [
    "Tule ga je zmotilo, da `self` (torej: seznam `[1, 2, 3]` nima atributa ime.\n",
    "\n",
    "Lahko pa mu podtaknemo kakršnokoli reč, ki takšen atribut ima."
   ]
  },
  {
   "cell_type": "code",
   "execution_count": 53,
   "metadata": {},
   "outputs": [
    {
     "name": "stdout",
     "output_type": "stream",
     "text": [
      "f objekta razreda B, objekta Anon, x=13\n"
     ]
    }
   ],
   "source": [
    "class F:\n",
    "    def __init__(self):\n",
    "        self.ime = \"Anon\"\n",
    "        \n",
    "d = F()\n",
    "\n",
    "B.f(d, 13)"
   ]
  },
  {
   "cell_type": "markdown",
   "metadata": {},
   "source": [
    "Objekt `d` nima popolnoma nobene zveze z razredom `B`, vendar ga lahko podamo kot argument `B`-jevi metodi `f`.\n",
    "\n",
    "To je seveda grdo in tega ne počnemo.\n",
    "- Zakaj se da? Zato ker nihče ne preverja. :)\n",
    "- Zakaj to kažem? Zato da boste razumeli, kako deluje. Ne zato, da bi uporabljali.\n",
    "\n",
    "Kje pa je to uporabno. Oh, je, seveda je. Recimo. Imejmo niz"
   ]
  },
  {
   "cell_type": "code",
   "execution_count": 54,
   "metadata": {},
   "outputs": [],
   "source": [
    "s = \"1 2 3\""
   ]
  },
  {
   "cell_type": "markdown",
   "metadata": {},
   "source": [
    "Če ga hočemo razkosati, bomo navadno poklicali"
   ]
  },
  {
   "cell_type": "code",
   "execution_count": 55,
   "metadata": {},
   "outputs": [
    {
     "data": {
      "text/plain": [
       "['1', '2', '3']"
      ]
     },
     "execution_count": 55,
     "metadata": {},
     "output_type": "execute_result"
    }
   ],
   "source": [
    "s.split()"
   ]
  },
  {
   "cell_type": "markdown",
   "metadata": {},
   "source": [
    "Je pa to isto kot"
   ]
  },
  {
   "cell_type": "code",
   "execution_count": 56,
   "metadata": {},
   "outputs": [
    {
     "data": {
      "text/plain": [
       "['1', '2', '3']"
      ]
     },
     "execution_count": 56,
     "metadata": {},
     "output_type": "execute_result"
    }
   ],
   "source": [
    "str.split(s)"
   ]
  },
  {
   "cell_type": "markdown",
   "metadata": {},
   "source": [
    "Enkrat imamo pač vezano metodo"
   ]
  },
  {
   "cell_type": "code",
   "execution_count": 57,
   "metadata": {},
   "outputs": [
    {
     "data": {
      "text/plain": [
       "<function str.split(sep=None, maxsplit=-1)>"
      ]
     },
     "execution_count": 57,
     "metadata": {},
     "output_type": "execute_result"
    }
   ],
   "source": [
    "s.split"
   ]
  },
  {
   "cell_type": "markdown",
   "metadata": {},
   "source": [
    "ki jo pokličemo brez argumentov (`s.split()`), drugič nevezano metodo"
   ]
  },
  {
   "cell_type": "code",
   "execution_count": 58,
   "metadata": {},
   "outputs": [
    {
     "data": {
      "text/plain": [
       "<method 'split' of 'str' objects>"
      ]
     },
     "execution_count": 58,
     "metadata": {},
     "output_type": "execute_result"
    }
   ],
   "source": [
    "str.split"
   ]
  },
  {
   "cell_type": "markdown",
   "metadata": {},
   "source": [
    "ki jo pokličemo tako, da ji podamo niz, ki bo služil kot `self`, torej `str.split(s)`.\n",
    "\n",
    "Drugi klic je nenavaden in ga ne uporabljamo, pač pa nam lahko pride prav, kadar želimo funkcijo `str.split` podati kaki drugi funkciji, na primer funkciji `map`."
   ]
  },
  {
   "cell_type": "code",
   "execution_count": 59,
   "metadata": {},
   "outputs": [
    {
     "data": {
      "text/plain": [
       "[['1', '2', '3'], ['3', '1'], ['3', '5', '8']]"
      ]
     },
     "execution_count": 59,
     "metadata": {},
     "output_type": "execute_result"
    }
   ],
   "source": [
    "ss = [\"1 2 3\", \"3 1\", \"3 5 8\"]\n",
    "list(map(str.split, ss))"
   ]
  },
  {
   "cell_type": "markdown",
   "metadata": {},
   "source": [
    "## Monkey patching\n",
    "\n",
    "Zdaj, ko vemo, kako vse skupaj deluje, bomo lahko razumeli delovanje \"monkey patchinga\". V nekaterih jezikih je to običajna reč (primer je Ruby, na nek način pa tudi starejši JavaScript). V Pythonu to počnemo izjemoma, pogosto pa to delamo v testih."
   ]
  },
  {
   "cell_type": "code",
   "execution_count": 60,
   "metadata": {},
   "outputs": [
    {
     "data": {
      "text/plain": [
       "8"
      ]
     },
     "execution_count": 60,
     "metadata": {},
     "output_type": "execute_result"
    }
   ],
   "source": [
    "class A:\n",
    "    def __init__(self, k):\n",
    "        self.k = k\n",
    "        \n",
    "    def f(self, x):\n",
    "        return x + self.k\n",
    "    \n",
    "a = A(3)\n",
    "\n",
    "a.f(5)"
   ]
  },
  {
   "cell_type": "markdown",
   "metadata": {},
   "source": [
    "Objekt `a` (oziroma razred `A`) očitno nima metode `g`. Lahko pa jo dobi."
   ]
  },
  {
   "cell_type": "code",
   "execution_count": 61,
   "metadata": {},
   "outputs": [
    {
     "data": {
      "text/plain": [
       "15"
      ]
     },
     "execution_count": 61,
     "metadata": {},
     "output_type": "execute_result"
    }
   ],
   "source": [
    "def krat(self, x):\n",
    "    return x * self.k\n",
    "    \n",
    "A.g = krat\n",
    "\n",
    "a.g(5)"
   ]
  },
  {
   "cell_type": "markdown",
   "metadata": {},
   "source": [
    "Kaj se je zgodilo? Nič posebnega: metoda `g` se je pojavila v `A.__dict__` in se vede, kot da je tam že od vedno."
   ]
  },
  {
   "cell_type": "code",
   "execution_count": 62,
   "metadata": {},
   "outputs": [
    {
     "data": {
      "text/plain": [
       "mappingproxy({'__module__': '__main__',\n",
       "              '__init__': <function __main__.A.__init__(self, k)>,\n",
       "              'f': <function __main__.A.f(self, x)>,\n",
       "              '__dict__': <attribute '__dict__' of 'A' objects>,\n",
       "              '__weakref__': <attribute '__weakref__' of 'A' objects>,\n",
       "              '__doc__': None,\n",
       "              'g': <function __main__.krat(self, x)>})"
      ]
     },
     "execution_count": 62,
     "metadata": {},
     "output_type": "execute_result"
    }
   ],
   "source": [
    "A.__dict__"
   ]
  },
  {
   "cell_type": "markdown",
   "metadata": {},
   "source": [
    "Seveda lahko tudi spremenimo katero od obstoječih metod."
   ]
  },
  {
   "cell_type": "code",
   "execution_count": 63,
   "metadata": {},
   "outputs": [
    {
     "data": {
      "text/plain": [
       "2"
      ]
     },
     "execution_count": 63,
     "metadata": {},
     "output_type": "execute_result"
    }
   ],
   "source": [
    "def minus(self, x):\n",
    "    return x - self.k\n",
    "\n",
    "A.f = minus\n",
    "\n",
    "a.f(5)"
   ]
  },
  {
   "cell_type": "markdown",
   "metadata": {},
   "source": [
    "Kot rečeno, tega nikoli ne delamo v običajni kodi, pač pa to uporabljamo pri testiranju kode, kjer pri testiranju določenih metod zamenjamo nekatere druge metode z \"mocki\", ki sprejemajo oz. vračajo določene testne vrednosti, ali pa uporabljamo te mocke zato, da preverimo, ali je bila neka metoda res poklicana.\n",
    "\n",
    "Več o tem pa, ko/če se bomo kdaj pogovarjali o testiranju."
   ]
  }
 ],
 "metadata": {
  "kernelspec": {
   "display_name": "Python 3",
   "language": "python",
   "name": "python3"
  },
  "language_info": {
   "codemirror_mode": {
    "name": "ipython",
    "version": 3
   },
   "file_extension": ".py",
   "mimetype": "text/x-python",
   "name": "python",
   "nbconvert_exporter": "python",
   "pygments_lexer": "ipython3",
   "version": "3.7.4"
  }
 },
 "nbformat": 4,
 "nbformat_minor": 4
}
