{
 "cells": [
  {
   "cell_type": "markdown",
   "id": "24671674",
   "metadata": {},
   "source": [
    "## Logične operacije\n",
    "\n",
    "Nad matrikami dtipa `bool` lahko izvajamo logične operacije. Uporabiti moramo Pythonove operatorje za delo nad biti, `&`, |`, `^` in `~`."
   ]
  },
  {
   "cell_type": "code",
   "execution_count": 11,
   "id": "883480c2",
   "metadata": {},
   "outputs": [],
   "source": [
    "import numpy as np\n",
    "\n",
    "a = np.array([[True, True, False], \n",
    "              [False, False, True]])\n",
    "b = np.array([[False, True, True],\n",
    "              [True, False, True]])"
   ]
  },
  {
   "cell_type": "code",
   "execution_count": 12,
   "id": "f96d2a76",
   "metadata": {},
   "outputs": [
    {
     "data": {
      "text/plain": [
       "array([[False,  True, False],\n",
       "       [False, False,  True]])"
      ]
     },
     "execution_count": 12,
     "metadata": {},
     "output_type": "execute_result"
    }
   ],
   "source": [
    "a & b"
   ]
  },
  {
   "cell_type": "code",
   "execution_count": 13,
   "id": "4d6446c3",
   "metadata": {},
   "outputs": [
    {
     "data": {
      "text/plain": [
       "array([[ True,  True,  True],\n",
       "       [ True, False,  True]])"
      ]
     },
     "execution_count": 13,
     "metadata": {},
     "output_type": "execute_result"
    }
   ],
   "source": [
    "a | b"
   ]
  },
  {
   "cell_type": "code",
   "execution_count": 4,
   "id": "2d518931",
   "metadata": {},
   "outputs": [
    {
     "data": {
      "text/plain": [
       "array([[ True, False,  True],\n",
       "       [ True, False, False]])"
      ]
     },
     "execution_count": 4,
     "metadata": {},
     "output_type": "execute_result"
    }
   ],
   "source": [
    "a ^ b"
   ]
  },
  {
   "cell_type": "code",
   "execution_count": 5,
   "id": "bdfb70bd",
   "metadata": {},
   "outputs": [
    {
     "data": {
      "text/plain": [
       "array([[False, False,  True],\n",
       "       [ True,  True, False]])"
      ]
     },
     "execution_count": 5,
     "metadata": {},
     "output_type": "execute_result"
    }
   ],
   "source": [
    "~a"
   ]
  },
  {
   "cell_type": "markdown",
   "id": "9764de44",
   "metadata": {},
   "source": [
    "Isti operatorji delajo tudi s tabelami `int`-ov, kjer res delajo z biti, kot običajno v Pythonu."
   ]
  },
  {
   "cell_type": "code",
   "execution_count": 6,
   "id": "266b2409",
   "metadata": {},
   "outputs": [],
   "source": [
    "e = np.array([3, 7, 8])\n",
    "f = np.array([5, 1, 1])"
   ]
  },
  {
   "cell_type": "code",
   "execution_count": 7,
   "id": "16299a25",
   "metadata": {},
   "outputs": [
    {
     "data": {
      "text/plain": [
       "array([7, 7, 9])"
      ]
     },
     "execution_count": 7,
     "metadata": {},
     "output_type": "execute_result"
    }
   ],
   "source": [
    "e | f"
   ]
  },
  {
   "cell_type": "code",
   "execution_count": 8,
   "id": "b1921324",
   "metadata": {},
   "outputs": [
    {
     "data": {
      "text/plain": [
       "array([1, 1, 0])"
      ]
     },
     "execution_count": 8,
     "metadata": {},
     "output_type": "execute_result"
    }
   ],
   "source": [
    "e & f"
   ]
  },
  {
   "cell_type": "code",
   "execution_count": 10,
   "id": "499d17ca",
   "metadata": {},
   "outputs": [
    {
     "data": {
      "text/plain": [
       "array([6, 6, 9])"
      ]
     },
     "execution_count": 10,
     "metadata": {},
     "output_type": "execute_result"
    }
   ],
   "source": [
    "e ^ f"
   ]
  },
  {
   "cell_type": "markdown",
   "id": "a10dc6c9",
   "metadata": {},
   "source": [
    "Poiščimo vse elemente `e`, ki so manjši od istoležnih elementov `f` ali pa so večji od `7`."
   ]
  },
  {
   "cell_type": "code",
   "execution_count": 14,
   "id": "96ac5836",
   "metadata": {},
   "outputs": [
    {
     "data": {
      "text/plain": [
       "array([ True, False,  True])"
      ]
     },
     "execution_count": 14,
     "metadata": {},
     "output_type": "execute_result"
    }
   ],
   "source": [
    "(e < f) | (e > 7)"
   ]
  },
  {
   "cell_type": "markdown",
   "id": "aa6d2717",
   "metadata": {},
   "source": [
    "Da, in kateri so? Tile:"
   ]
  },
  {
   "cell_type": "code",
   "execution_count": 16,
   "id": "1e161b0b",
   "metadata": {},
   "outputs": [
    {
     "data": {
      "text/plain": [
       "array([3, 8])"
      ]
     },
     "execution_count": 16,
     "metadata": {},
     "output_type": "execute_result"
    }
   ],
   "source": [
    "e[(e < f) | (e > 7)]"
   ]
  },
  {
   "cell_type": "markdown",
   "id": "b4a54f58",
   "metadata": {},
   "source": [
    "Pazite na oklepaje: `|` ima višjo prioriteto kot `<`.\n",
    "\n",
    "## `any` in `all`\n",
    "\n",
    "Funkciji `np.any` in `np.all` sta podobni Pythonovima `any` in `all`, le da znata iti še po oseh."
   ]
  },
  {
   "cell_type": "code",
   "execution_count": 18,
   "id": "cc571c18",
   "metadata": {},
   "outputs": [
    {
     "data": {
      "text/plain": [
       "array([[False,  True,  True],\n",
       "       [ True, False,  True]])"
      ]
     },
     "execution_count": 18,
     "metadata": {},
     "output_type": "execute_result"
    }
   ],
   "source": [
    "b"
   ]
  },
  {
   "cell_type": "code",
   "execution_count": 19,
   "id": "5521358f",
   "metadata": {},
   "outputs": [
    {
     "data": {
      "text/plain": [
       "array([False, False,  True])"
      ]
     },
     "execution_count": 19,
     "metadata": {},
     "output_type": "execute_result"
    }
   ],
   "source": [
    "np.all(b, axis=0)"
   ]
  },
  {
   "cell_type": "code",
   "execution_count": 21,
   "id": "6bffbaa0",
   "metadata": {},
   "outputs": [
    {
     "data": {
      "text/plain": [
       "array([ True,  True,  True])"
      ]
     },
     "execution_count": 21,
     "metadata": {},
     "output_type": "execute_result"
    }
   ],
   "source": [
    "np.any(b, axis=0)"
   ]
  },
  {
   "cell_type": "markdown",
   "id": "a246c4a3",
   "metadata": {},
   "source": [
    "## Naloga\n",
    "\n",
    "Tole vam bo prišlo prav pri [11 Dumbo Octopus](https://adventofcode.com/2021/day/11).\n",
    "\n",
    "Glavni trik je tule. Razmislite, kaj počnemo tule:"
   ]
  },
  {
   "cell_type": "code",
   "execution_count": 23,
   "id": "5c3c9252",
   "metadata": {},
   "outputs": [
    {
     "data": {
      "text/plain": [
       "array([3, 6, 3, 1, 6])"
      ]
     },
     "execution_count": 23,
     "metadata": {},
     "output_type": "execute_result"
    }
   ],
   "source": [
    "a = np.array([3, 5, 2, 1, 6])\n",
    "b = np.array([False, False, True, True, False])\n",
    "a[:-1] += b[1:]\n",
    "a"
   ]
  },
  {
   "cell_type": "markdown",
   "id": "228d09a6",
   "metadata": {},
   "source": [
    "S tem trikom boste lahko prištevali `1` k sosedom. Če torej sprogramirate pravilno, ne boste nikoli naredili zanke prek elementov tabele. Imeli boste zanko, ki se bo ponavljala, dokler se zasveti kaka nova hobotnica, in potem, najbrž, zanko ali zanki, ki bosta šli prek osmih ali devetih sosednjih polj. Najbrž si boste hoteli pripraviti še dve tabeli - eno z vsemi hobotnicami, ki so se zasvetile v tem koraku in eno z vsemi, ki so se zasvetile pravkar, znotraj \"podkoraka\".\n",
    "\n",
    "Dovolj spoilerjev. :)"
   ]
  }
 ],
 "metadata": {
  "kernelspec": {
   "display_name": "Python 3 (ipykernel)",
   "language": "python",
   "name": "python3"
  },
  "language_info": {
   "codemirror_mode": {
    "name": "ipython",
    "version": 3
   },
   "file_extension": ".py",
   "mimetype": "text/x-python",
   "name": "python",
   "nbconvert_exporter": "python",
   "pygments_lexer": "ipython3",
   "version": "3.10.0"
  }
 },
 "nbformat": 4,
 "nbformat_minor": 5
}
