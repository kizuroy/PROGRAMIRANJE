{
 "cells": [
  {
   "cell_type": "markdown",
   "id": "13ec4d2a",
   "metadata": {},
   "source": [
    "## Rešitev\n",
    "\n",
    "Branje podatkov je trivialno."
   ]
  },
  {
   "cell_type": "code",
   "execution_count": 1,
   "id": "4eb3b112",
   "metadata": {},
   "outputs": [],
   "source": [
    "import numpy as np\n",
    "\n",
    "grid = np.array([[int(c) for c in v.strip()] for v in open(\"example.txt\")])\n",
    "h, w = grid.shape"
   ]
  },
  {
   "cell_type": "markdown",
   "id": "570066c0",
   "metadata": {},
   "source": [
    "Rešitev - no, korak rešitve - tokrat izdajmo v enem zamahu in tokrat bo v funkciji."
   ]
  },
  {
   "cell_type": "code",
   "execution_count": 2,
   "id": "8b6268a4",
   "metadata": {},
   "outputs": [],
   "source": [
    "def step(grid):\n",
    "    grid += 1\n",
    "    flashed = new = grid > 9\n",
    "    while np.any(new):\n",
    "        for gdx0, gdx1, ndx0, ndx1 in ((0, -1, 1, w), (0, w, 0, w), (1, w, 0, -1)):\n",
    "            for gdy0, gdy1, ndy0, ndy1 in ((0, -1, 1, h), (0, h, 0, h), (1, h, 0, -1)):\n",
    "                grid[gdy0:gdy1, gdx0:gdx1] += new[ndy0:ndy1, ndx0:ndx1]\n",
    "        new = (grid > 9) & ~flashed\n",
    "        flashed |= new\n",
    "    grid[flashed] = 0\n",
    "    return np.sum(flashed)"
   ]
  },
  {
   "cell_type": "markdown",
   "id": "1e10ee7e",
   "metadata": {},
   "source": [
    "`flashed` in `new` bosta `bool`-ovi matriki enake velikosti kot `grid`. `flashed` bo povedala, katere hobotnice so se zasvetile v tem koraku, `new` pa katere so se zasvetile znotraj koraka, zaradi sosedov.\n",
    "\n",
    "V začetku povečamo vse vrednosti za `1` in si zapomnimo, kaj se je zastevilo, `grid > 9`.\n",
    "\n",
    "Dokler se posveti kaj novega, `while np.any(new)`, k vsakemu polju `grid` prištejemo `1` za vse sosede, za katere `new` pravi, da so se pravkar zasvetili. To bi lahko napisali z zaporedjem osmih prištevanj v slogu\n",
    "\n",
    "```python\n",
    "grid[0:-1, 0:-1] += new[1:h, 1:w]\n",
    "grid[0:-1] += new[1:h]\n",
    "grid[0:-1, 1:w] += new[1:h, 0:-1]\n",
    "```\n",
    "\n",
    "in tako naprej. Vendar se mi zdi to varneje zapisati z zanko. Stvar okusa. Glavno je, da povečamo vse elemente `grid`, ki jih je potrebno povečati. (Gornja koda poveča števec pri srednji hobotnici, kot da bi imeli `grid += new`. To ni čisto prav, vendar ne bo škodilo; berite naprej.)\n",
    "\n",
    "Nato pride pomembna logika: na novo so se zasvetila tiste hobotnice, pri katerih je števec večji od `9` in se niso svetile že od prej,\n",
    "\n",
    "```python\n",
    "new = (grid > 9) & ~flashed\n",
    "```\n",
    "\n",
    "Te tudi dodamo med svetleče se hobotnice,\n",
    "\n",
    "```python\n",
    "flashed |= new\n",
    "```\n",
    "\n",
    "To torej ponavljamo, dokler se ne zgodi, da se nobena hobotnica ne zasveti več na novo. Nato nastavimo števec svetlečih se hobotnic na `0`,\n",
    "\n",
    "```python\n",
    "grid[flashed] = 0\n",
    "```\n",
    "\n",
    "(Zato tisti `grid += new` ne škodi: števec teh hobotnic bomo tako ali tako nastavili na `0`.)\n",
    "\n",
    "Funkcija na koncu vrne število vseh hobotnic, ki so se v tem koraku zasvetile.\n",
    "\n",
    "Funkcijo uporabimo za oba dela naloge. Prvi zahteva, povemo, koliko hobotnic se zasveti v 100 korakih."
   ]
  },
  {
   "cell_type": "code",
   "execution_count": 3,
   "id": "734064c1",
   "metadata": {},
   "outputs": [
    {
     "name": "stdout",
     "output_type": "stream",
     "text": [
      "1656\n"
     ]
    }
   ],
   "source": [
    "print(sum(step(grid) for _ in range(100)))"
   ]
  },
  {
   "cell_type": "markdown",
   "id": "0367092d",
   "metadata": {},
   "source": [
    "V drugem delu nas zanima, po koliko korakih se prvič hkrati zasvetijo vse hobotnice. Za to naredimo zanko prek funkcije `itertools.count(n)`, ki šteje od `n` (privzeta vrednost je 0) do neskončno. Šteli bomo od 101, saj je prvi korak, ki ga bomo naredili, že sto prvi."
   ]
  },
  {
   "cell_type": "code",
   "execution_count": 4,
   "id": "d45316aa",
   "metadata": {},
   "outputs": [
    {
     "name": "stdout",
     "output_type": "stream",
     "text": [
      "195\n"
     ]
    }
   ],
   "source": [
    "from itertools import count\n",
    "\n",
    "for steps in count(101):\n",
    "    if step(grid) == grid.size:\n",
    "        break\n",
    "print(steps)"
   ]
  }
 ],
 "metadata": {
  "kernelspec": {
   "display_name": "Python 3 (ipykernel)",
   "language": "python",
   "name": "python3"
  },
  "language_info": {
   "codemirror_mode": {
    "name": "ipython",
    "version": 3
   },
   "file_extension": ".py",
   "mimetype": "text/x-python",
   "name": "python",
   "nbconvert_exporter": "python",
   "pygments_lexer": "ipython3",
   "version": "3.10.0"
  }
 },
 "nbformat": 4,
 "nbformat_minor": 5
}
