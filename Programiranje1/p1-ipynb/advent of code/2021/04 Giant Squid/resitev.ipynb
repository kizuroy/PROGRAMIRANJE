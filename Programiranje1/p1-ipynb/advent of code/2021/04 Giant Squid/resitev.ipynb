{
 "cells": [
  {
   "cell_type": "markdown",
   "id": "6510b4fd",
   "metadata": {},
   "source": [
    "## Rešitev\n",
    "\n",
    "Branje bomo tokrat napisali v funkciji, saj ga bomo poklicali dvakrat."
   ]
  },
  {
   "cell_type": "code",
   "execution_count": 1,
   "id": "2a2c9981",
   "metadata": {},
   "outputs": [],
   "source": [
    "import numpy as np\n",
    "\n",
    "def read():\n",
    "    numbers, *boards = open(\"example.txt\").read().split(\"\\n\\n\")\n",
    "    numbers = map(int, numbers.split(\",\"))\n",
    "    boards = np.array([[[int(x) for x in line.split()]\n",
    "                        for line in board.splitlines()]\n",
    "                        for board in boards])\n",
    "    return numbers, boards"
   ]
  },
  {
   "cell_type": "markdown",
   "id": "cfb40eab",
   "metadata": {},
   "source": [
    "Tule ni nič zanimivega v zvezi z `numpy`-jem, morda pa bo za koga kaj zanimivega v zvezi s Pythonom.\n",
    "\n",
    "Datoteka vsebuje najprej spisek števil, nato dve prazni vrstici in nato listke, ki so prav tako ločeni z dvojnimi praznimi vrsticami.\n",
    "\n",
    "```\n",
    "open(\"example.txt\").read().split(\"\\n\\n\")\n",
    "```\n",
    "\n",
    "bo vrnil seznam, katerega prvi element so številke, ostali elementi listki. Razpakiramo ga v `numbers, *boards`, tako da bo `boards` terka z listki.\n",
    "\n",
    "Druga zanimiva stvar je `map(int, numbers.split(\",\"))`. To preslika vse `number.split(\",\")` čez funkcijo `int`. Rezultat ni seznam `int`-ov temveč generator. Razlika je v tem, da moremo čez generator le enkrat. Tu nam je za to vseeno, saj bomo dejansko šli čez števila le enkrat, z zanko `for`.\n",
    "\n",
    "Zdaj pa se lotimo prvega dela."
   ]
  },
  {
   "cell_type": "code",
   "execution_count": 2,
   "id": "e398bc81",
   "metadata": {},
   "outputs": [],
   "source": [
    "numbers, boards = read()"
   ]
  },
  {
   "cell_type": "markdown",
   "id": "e6ab49a9",
   "metadata": {},
   "source": [
    "Zato, da bomo lažje videli, kaj se dogaja, izžrebajmo vsa števila do 24 - tam namreč dobimo prvi zmagovalni listek."
   ]
  },
  {
   "cell_type": "code",
   "execution_count": 3,
   "id": "cad931e2",
   "metadata": {},
   "outputs": [],
   "source": [
    "for number in numbers:\n",
    "    boards[boards == number] = 0\n",
    "    if number == 24:\n",
    "        break"
   ]
  },
  {
   "cell_type": "code",
   "execution_count": 4,
   "id": "667303c6",
   "metadata": {},
   "outputs": [
    {
     "data": {
      "text/plain": [
       "array([[[22, 13,  0,  0,  0],\n",
       "        [ 8,  0,  0,  0,  0],\n",
       "        [ 0,  0,  0, 16,  0],\n",
       "        [ 6, 10,  3, 18,  0],\n",
       "        [ 1, 12, 20, 15, 19]],\n",
       "\n",
       "       [[ 3, 15,  0,  0, 22],\n",
       "        [ 0, 18, 13,  0,  0],\n",
       "        [19,  8,  0, 25,  0],\n",
       "        [20,  0, 10,  0,  0],\n",
       "        [ 0,  0, 16, 12,  6]],\n",
       "\n",
       "       [[ 0,  0,  0,  0,  0],\n",
       "        [10, 16, 15,  0, 19],\n",
       "        [18,  8,  0, 26, 20],\n",
       "        [22,  0, 13,  6,  0],\n",
       "        [ 0,  0, 12,  3,  0]]])"
      ]
     },
     "execution_count": 4,
     "metadata": {},
     "output_type": "execute_result"
    }
   ],
   "source": [
    "boards"
   ]
  },
  {
   "cell_type": "markdown",
   "id": "9a0feb1b",
   "metadata": {},
   "source": [
    "Vidimo, da je zmagal zadnji listek, saj ima prečrtano celo prvo vrstico. Kako to izvemo? Narediti moramo `np.any` po vrsticah."
   ]
  },
  {
   "cell_type": "code",
   "execution_count": 5,
   "id": "775a5b5b",
   "metadata": {},
   "outputs": [
    {
     "data": {
      "text/plain": [
       "array([[ True,  True,  True,  True,  True],\n",
       "       [ True,  True,  True,  True,  True],\n",
       "       [False,  True,  True,  True,  True]])"
      ]
     },
     "execution_count": 5,
     "metadata": {},
     "output_type": "execute_result"
    }
   ],
   "source": [
    "np.any(boards, axis=2)"
   ]
  },
  {
   "cell_type": "markdown",
   "id": "b0ec1e37",
   "metadata": {},
   "source": [
    "V tabeli, ki smo jo dobili zdaj, vsakemu listku ustreza ena vrstica, stolpci te matrika pa so vrstice originalnih listkov. Če ima listek kakšen `False`, je zmagal. To najpreprosteje preverimo z `np.all`:"
   ]
  },
  {
   "cell_type": "code",
   "execution_count": 6,
   "id": "5b048eff",
   "metadata": {},
   "outputs": [
    {
     "data": {
      "text/plain": [
       "array([ True,  True, False])"
      ]
     },
     "execution_count": 6,
     "metadata": {},
     "output_type": "execute_result"
    }
   ],
   "source": [
    "np.all(np.any(boards, axis=2), axis=1)"
   ]
  },
  {
   "cell_type": "markdown",
   "id": "2e9e78d3",
   "metadata": {},
   "source": [
    "Zmagal je tretji listek, ker ima `False`. Ker bi radi listke, ki so zmagali in ne listkov, ki niso zmagali, to še negiramo."
   ]
  },
  {
   "cell_type": "code",
   "execution_count": 7,
   "id": "edc9949e",
   "metadata": {},
   "outputs": [
    {
     "data": {
      "text/plain": [
       "array([False, False,  True])"
      ]
     },
     "execution_count": 7,
     "metadata": {},
     "output_type": "execute_result"
    }
   ],
   "source": [
    "~np.all(np.any(boards, axis=2), axis=1)"
   ]
  },
  {
   "cell_type": "markdown",
   "id": "eb5eee66",
   "metadata": {},
   "source": [
    "(De Morgan nas uči, da namesto lahko namesto `~np.all(nekaj)` pišemo tudi `np.any(~nekaj)`. Kar vam bolj sede.)"
   ]
  },
  {
   "cell_type": "markdown",
   "id": "440cedb2",
   "metadata": {},
   "source": [
    "Listek zmaga tudi, če ima kakšen stolpec, v katerem so prečrtani vsi elementi. Pogoljufajmo in izžžrebajmo še 19."
   ]
  },
  {
   "cell_type": "code",
   "execution_count": 8,
   "id": "556cc950",
   "metadata": {},
   "outputs": [
    {
     "data": {
      "text/plain": [
       "array([[[22, 13,  0,  0,  0],\n",
       "        [ 8,  0,  0,  0,  0],\n",
       "        [ 0,  0,  0, 16,  0],\n",
       "        [ 6, 10,  3, 18,  0],\n",
       "        [ 1, 12, 20, 15,  0]],\n",
       "\n",
       "       [[ 3, 15,  0,  0, 22],\n",
       "        [ 0, 18, 13,  0,  0],\n",
       "        [ 0,  8,  0, 25,  0],\n",
       "        [20,  0, 10,  0,  0],\n",
       "        [ 0,  0, 16, 12,  6]],\n",
       "\n",
       "       [[ 0,  0,  0,  0,  0],\n",
       "        [10, 16, 15,  0,  0],\n",
       "        [18,  8,  0, 26, 20],\n",
       "        [22,  0, 13,  6,  0],\n",
       "        [ 0,  0, 12,  3,  0]]])"
      ]
     },
     "execution_count": 8,
     "metadata": {},
     "output_type": "execute_result"
    }
   ],
   "source": [
    "boards[boards == 19] = 0\n",
    "\n",
    "boards"
   ]
  },
  {
   "cell_type": "markdown",
   "id": "439f4ef8",
   "metadata": {},
   "source": [
    "Zdaj mora iti notranji `np.any` po osi 1, zunanji pa še vedno po osi 1, saj os 0 še vedno predstavlja listke."
   ]
  },
  {
   "cell_type": "code",
   "execution_count": 9,
   "id": "3716a7e5",
   "metadata": {},
   "outputs": [
    {
     "data": {
      "text/plain": [
       "array([ True, False, False])"
      ]
     },
     "execution_count": 9,
     "metadata": {},
     "output_type": "execute_result"
    }
   ],
   "source": [
    "~np.all(np.any(boards, axis=1), axis=1)"
   ]
  },
  {
   "cell_type": "markdown",
   "id": "33e06893",
   "metadata": {},
   "source": [
    "Vsi zmagovalni listki so disjunkcija obeh; zmagaš lahko po z vrstico ali s stolpcem."
   ]
  },
  {
   "cell_type": "code",
   "execution_count": 10,
   "id": "07df0cc8",
   "metadata": {},
   "outputs": [
    {
     "data": {
      "text/plain": [
       "array([ True, False,  True])"
      ]
     },
     "execution_count": 10,
     "metadata": {},
     "output_type": "execute_result"
    }
   ],
   "source": [
    "~np.all(np.any(boards, axis=1), axis=1) | ~np.all(np.any(boards, axis=2), axis=1)"
   ]
  },
  {
   "cell_type": "markdown",
   "id": "64292788",
   "metadata": {},
   "source": [
    "Zdaj vemo vse, kar je treba in znamo napisati funkcijo, ki reši prvi del naloge."
   ]
  },
  {
   "cell_type": "code",
   "execution_count": 11,
   "id": "28cec069",
   "metadata": {},
   "outputs": [],
   "source": [
    "def winning():\n",
    "    numbers, boards = read()\n",
    "    for number in numbers:\n",
    "        boards[boards == number] = 0\n",
    "        won = ~np.all(np.any(boards, axis=2), axis=1) \\\n",
    "              | ~np.all(np.any(boards, axis=1), axis=1)\n",
    "        if np.any(won):\n",
    "            return number * np.sum(boards[won])"
   ]
  },
  {
   "cell_type": "markdown",
   "id": "9d7e60c0",
   "metadata": {},
   "source": [
    "Funkcija v zanki prečrta število, poišče vse zmagovalne listke (`bool`-ova tabela `won`) in če je dejansko kdo zmagal vrnemo, kot zahteva naloga, to je, zadnje izžrebano število, pomnoženo z vsoto števil na vseh zmagovalnih listkih - te dobimo z `boards[won]`."
   ]
  },
  {
   "cell_type": "code",
   "execution_count": 12,
   "id": "5a1b077d",
   "metadata": {},
   "outputs": [
    {
     "data": {
      "text/plain": [
       "4512"
      ]
     },
     "execution_count": 12,
     "metadata": {},
     "output_type": "execute_result"
    }
   ],
   "source": [
    "winning()"
   ]
  },
  {
   "cell_type": "markdown",
   "id": "cbe25281",
   "metadata": {},
   "source": [
    "Funkcija, ki reši drugi del naloge, je čisto podobna."
   ]
  },
  {
   "cell_type": "code",
   "execution_count": 13,
   "id": "5521d879",
   "metadata": {},
   "outputs": [],
   "source": [
    "def losing():\n",
    "    numbers, boards = read()\n",
    "    for number in numbers:\n",
    "        boards[boards == number] = 0\n",
    "        won = ~np.all(np.any(boards, axis=2), axis=1) \\\n",
    "              | ~np.all(np.any(boards, axis=1), axis=1)\n",
    "        if np.all(won):\n",
    "            return number * np.sum(boards)\n",
    "        boards = boards[~won]"
   ]
  },
  {
   "cell_type": "markdown",
   "id": "656e0a10",
   "metadata": {},
   "source": [
    "Ker naloga zahteva, da vrnemo izžrebano število, pomnoženo z vsoto števil na vseh listkih, ki so bili prečrtani v zadnjem koraku, na koncu zanke vedno izfiltriramo listke, ki so \"zmagali\". Tako imamo takrat, ko ugotovimo, da bi zdaj končali igro vsi listki, pri roki tabelo s temi, ki so bili v zadnjem koraku še v igri."
   ]
  }
 ],
 "metadata": {
  "kernelspec": {
   "display_name": "Python 3 (ipykernel)",
   "language": "python",
   "name": "python3"
  },
  "language_info": {
   "codemirror_mode": {
    "name": "ipython",
    "version": 3
   },
   "file_extension": ".py",
   "mimetype": "text/x-python",
   "name": "python",
   "nbconvert_exporter": "python",
   "pygments_lexer": "ipython3",
   "version": "3.10.0"
  }
 },
 "nbformat": 4,
 "nbformat_minor": 5
}
