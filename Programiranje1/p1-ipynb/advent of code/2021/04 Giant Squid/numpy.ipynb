{
 "cells": [
  {
   "cell_type": "markdown",
   "id": "84bdc7c9",
   "metadata": {},
   "source": [
    "## Tridimenzionalne tabele - in osi\n",
    "\n",
    "O `numpy`-ju se nam za to nalogo ni potrebno naučiti ničesar novega. Samo spomnimo se: tabele imajo lahko poljubno število dimenzij. Lahko tudi tri."
   ]
  },
  {
   "cell_type": "code",
   "execution_count": 1,
   "id": "3474c803",
   "metadata": {},
   "outputs": [],
   "source": [
    "import numpy as np\n",
    "\n",
    "a = np.array([[[5, 1, 8, 6],\n",
    "               [4, 5, 3, 12]],\n",
    "             \n",
    "              [[5, 3, 1, 1],\n",
    "               [7, 5, 5, 4]],\n",
    "              \n",
    "              [[1, 3, 6, 3],\n",
    "               [9, 1, 8, 2]]\n",
    "             ])"
   ]
  },
  {
   "cell_type": "code",
   "execution_count": 2,
   "id": "e5dabaf0",
   "metadata": {},
   "outputs": [
    {
     "data": {
      "text/plain": [
       "(3, 2, 4)"
      ]
     },
     "execution_count": 2,
     "metadata": {},
     "output_type": "execute_result"
    }
   ],
   "source": [
    "a.shape"
   ]
  },
  {
   "cell_type": "markdown",
   "id": "264f0b61",
   "metadata": {},
   "source": [
    "Tudi takšne tabele lahko indeksiramo z vsemi triki, ki smo jih spoznali, vključno s seznami in z maskami, ki morajo biti tudi v tem primeru enakih dimenzij kot tabele."
   ]
  },
  {
   "cell_type": "code",
   "execution_count": 3,
   "id": "a71be365",
   "metadata": {},
   "outputs": [
    {
     "data": {
      "text/plain": [
       "array([[[ 5,  1,  8,  6],\n",
       "        [ 4,  5,  3, 12]],\n",
       "\n",
       "       [[ 5,  3,  1,  1],\n",
       "        [ 7,  5,  5,  4]],\n",
       "\n",
       "       [[ 1,  3,  6,  3],\n",
       "        [ 9,  1,  8,  2]]])"
      ]
     },
     "execution_count": 3,
     "metadata": {},
     "output_type": "execute_result"
    }
   ],
   "source": [
    "a"
   ]
  },
  {
   "cell_type": "code",
   "execution_count": 4,
   "id": "1d546877",
   "metadata": {},
   "outputs": [
    {
     "data": {
      "text/plain": [
       "array([[[ 4,  1,  8,  6],\n",
       "        [ 4,  4,  3, 12]],\n",
       "\n",
       "       [[ 4,  3,  1,  1],\n",
       "        [ 7,  4,  4,  4]],\n",
       "\n",
       "       [[ 1,  3,  6,  3],\n",
       "        [ 9,  1,  8,  2]]])"
      ]
     },
     "execution_count": 4,
     "metadata": {},
     "output_type": "execute_result"
    }
   ],
   "source": [
    "a[a == 5] -= 1\n",
    "\n",
    "a"
   ]
  },
  {
   "cell_type": "markdown",
   "id": "ccdea3eb",
   "metadata": {},
   "source": [
    "Takšna matrika ima tri osi. Da se bomo lažje pogovarjali, recimo, da ta tabela vsebuje tri matrike; vsaka ima dve vrstici in štiri stolpce.\n",
    "\n",
    "Ničta os so matrike (`shape` je (3, 2, 4); prva os gre torej čez tri stvari). Če seštevamo po njej, seštevamo istoležne elemente."
   ]
  },
  {
   "cell_type": "code",
   "execution_count": 5,
   "id": "aa627ee8",
   "metadata": {},
   "outputs": [
    {
     "data": {
      "text/plain": [
       "array([[ 9,  7, 15, 10],\n",
       "       [20,  9, 15, 18]])"
      ]
     },
     "execution_count": 5,
     "metadata": {},
     "output_type": "execute_result"
    }
   ],
   "source": [
    "np.sum(a, axis=0)"
   ]
  },
  {
   "cell_type": "markdown",
   "id": "5e38f62b",
   "metadata": {},
   "source": [
    "Druga os so vrstice (torej: vrstici) znotraj teh matrik. Če seštevamo po njej, torej po vrsticah, seštejemo stolpce vsake matrike. Vsaka vrstica te vsote ustreza eni od matrik, stolpci pa seveda ustrezajo stolpcem. Vrstice (tisto, česar je 2), so izginile, ker smo jih izsešteli."
   ]
  },
  {
   "cell_type": "code",
   "execution_count": 6,
   "id": "d8ccacba",
   "metadata": {},
   "outputs": [
    {
     "data": {
      "text/plain": [
       "array([[ 8,  5, 11, 18],\n",
       "       [11,  7,  5,  5],\n",
       "       [10,  4, 14,  5]])"
      ]
     },
     "execution_count": 6,
     "metadata": {},
     "output_type": "execute_result"
    }
   ],
   "source": [
    "np.sum(a, axis=1)"
   ]
  },
  {
   "cell_type": "markdown",
   "id": "1975c10b",
   "metadata": {},
   "source": [
    "Tretja os so stolpci. Če seštevamo po njih, seštejemo vsako vrstico vsake matrike."
   ]
  },
  {
   "cell_type": "code",
   "execution_count": 7,
   "id": "770bd1c4",
   "metadata": {},
   "outputs": [
    {
     "data": {
      "text/plain": [
       "array([[19, 23],\n",
       "       [ 9, 19],\n",
       "       [13, 20]])"
      ]
     },
     "execution_count": 7,
     "metadata": {},
     "output_type": "execute_result"
    }
   ],
   "source": [
    "np.sum(a, axis=2)"
   ]
  },
  {
   "cell_type": "markdown",
   "id": "45fde0c8",
   "metadata": {},
   "source": [
    "Enako delujejo tudi vse druge funkcije, ki jim kot argument podamo os, na primer `np.min`, `np.max`, `np.mean`, `np.all`, `np.any`... Predvsem slednji dve boste potrebovali v tej nalogi."
   ]
  },
  {
   "cell_type": "markdown",
   "id": "977a54db",
   "metadata": {},
   "source": [
    "## Naloga\n",
    "\n",
    "Naloga, ki se je lotite, je naloga 4, [Giant Squid](https://adventofcode.com/2021/day/3).\n",
    "\n",
    "- Vse listke preberite v eno samo tridimenzionalno matriko.\n",
    "- Zanka bo tekla prek izžrebanih številk, očitno. Ko je številka izžrebana, to številko na vseh listkih spremenite v nič. Z enim samim prirejanjem z maskami. To bo res preprosto - nobenih komplikacij, nobenih osi.\n",
    "- Prava umetnost te naloge pa je ugotoviti, katere listki so zmagali. Če boste spretni, se boste izognili vsem zankam in z nekaj klici `np.any` in, morda, `np.all` ter kakšnim `|`, `&` in `~` dobili enodimenzionalno tabelo `bool`-ov, ki bodo povedali, kateri listki so zmagali.\n",
    "\n",
    "Nalogo jemljite kot vajo iz razmišljanja o oseh."
   ]
  }
 ],
 "metadata": {
  "kernelspec": {
   "display_name": "Python 3 (ipykernel)",
   "language": "python",
   "name": "python3"
  },
  "language_info": {
   "codemirror_mode": {
    "name": "ipython",
    "version": 3
   },
   "file_extension": ".py",
   "mimetype": "text/x-python",
   "name": "python",
   "nbconvert_exporter": "python",
   "pygments_lexer": "ipython3",
   "version": "3.10.0"
  }
 },
 "nbformat": 4,
 "nbformat_minor": 5
}
