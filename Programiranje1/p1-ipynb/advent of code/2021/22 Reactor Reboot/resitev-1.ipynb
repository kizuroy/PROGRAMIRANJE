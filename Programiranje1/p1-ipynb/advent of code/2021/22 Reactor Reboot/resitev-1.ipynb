{
 "cells": [
  {
   "cell_type": "markdown",
   "id": "252392ee",
   "metadata": {},
   "source": [
    "## Rešitev\n",
    "\n",
    "Imamo torej"
   ]
  },
  {
   "cell_type": "code",
   "execution_count": 1,
   "id": "86294f6d",
   "metadata": {},
   "outputs": [],
   "source": [
    "import numpy as np\n",
    "import re\n",
    "\n",
    "instr = np.array([[line.startswith(\"on\")] +\n",
    "                  [int(x) for x in re.findall(\"-?\\d+\", line)]\n",
    "                  for line in open(\"example.txt\")])"
   ]
  },
  {
   "cell_type": "markdown",
   "id": "5316dc65",
   "metadata": {},
   "source": [
    "Popravimo zgornje meje:"
   ]
  },
  {
   "cell_type": "code",
   "execution_count": 2,
   "id": "e7a7d9af",
   "metadata": {},
   "outputs": [],
   "source": [
    "instr[:, [2, 4, 6]] += 1"
   ]
  },
  {
   "cell_type": "markdown",
   "id": "97a4c52c",
   "metadata": {},
   "source": [
    "Izberimo vrstice, pri katerih minimum ni manjši od -50 in maksimum ni večji od 50; ker smo meje povečali za 1, smemo dopustiti tudi 51."
   ]
  },
  {
   "cell_type": "code",
   "execution_count": 4,
   "id": "9d108773",
   "metadata": {},
   "outputs": [],
   "source": [
    "instr50 = instr[(np.min(instr, axis=1) >= -50) & (np.max(instr, axis=1) <= 51)]"
   ]
  },
  {
   "cell_type": "markdown",
   "id": "0a05a9b3",
   "metadata": {},
   "source": [
    "Tudi ostanek je podobno trivialen."
   ]
  },
  {
   "cell_type": "code",
   "execution_count": 5,
   "id": "a4274fb5",
   "metadata": {},
   "outputs": [
    {
     "name": "stdout",
     "output_type": "stream",
     "text": [
      "590784\n"
     ]
    }
   ],
   "source": [
    "reactor = np.zeros((101, 101, 101), dtype=bool)\n",
    "for on, x0, x1, y0, y1, z0, z1 in instr:\n",
    "    reactor[x0 + 50:x1 + 50, y0 + 50:y1 + 50, z0 + 50:z1 + 50] = on\n",
    "print(np.sum(reactor))"
   ]
  }
 ],
 "metadata": {
  "kernelspec": {
   "display_name": "Python 3 (ipykernel)",
   "language": "python",
   "name": "python3"
  },
  "language_info": {
   "codemirror_mode": {
    "name": "ipython",
    "version": 3
   },
   "file_extension": ".py",
   "mimetype": "text/x-python",
   "name": "python",
   "nbconvert_exporter": "python",
   "pygments_lexer": "ipython3",
   "version": "3.10.0"
  }
 },
 "nbformat": 4,
 "nbformat_minor": 5
}
