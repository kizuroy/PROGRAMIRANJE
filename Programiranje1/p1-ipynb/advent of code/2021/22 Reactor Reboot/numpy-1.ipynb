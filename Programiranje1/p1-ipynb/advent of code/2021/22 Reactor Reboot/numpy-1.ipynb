{
 "cells": [
  {
   "cell_type": "markdown",
   "id": "bad8af12",
   "metadata": {},
   "source": [
    "## Naloga: prvi del\n",
    "\n",
    "Za prvi del naloge se nam ni potrebno naučiti ničesar novega o `numpy`-ju. Tule je le nekaj nasvetov.\n",
    "\n",
    "Podatke lahko preberete tako:"
   ]
  },
  {
   "cell_type": "code",
   "execution_count": 1,
   "id": "cadad18e",
   "metadata": {},
   "outputs": [],
   "source": [
    "import numpy as np\n",
    "import re\n",
    "\n",
    "instr = np.array([[line.startswith(\"on\")] +\n",
    "                  [int(x) for x in re.findall(\"-?\\d+\", line)]\n",
    "                  for line in open(\"example.txt\")])"
   ]
  },
  {
   "cell_type": "code",
   "execution_count": 2,
   "id": "2d631f76",
   "metadata": {},
   "outputs": [
    {
     "data": {
      "text/plain": [
       "array([[     1,    -20,     26,    -36,     17,    -47,      7],\n",
       "       [     1,    -20,     33,    -21,     23,    -26,     28],\n",
       "       [     1,    -22,     28,    -29,     23,    -38,     16],\n",
       "       [     1,    -46,      7,     -6,     46,    -50,     -1],\n",
       "       [     1,    -49,      1,     -3,     46,    -24,     28],\n",
       "       [     1,      2,     47,    -22,     22,    -23,     27],\n",
       "       [     1,    -27,     23,    -28,     26,    -21,     29],\n",
       "       [     1,    -39,      5,     -6,     47,     -3,     44],\n",
       "       [     1,    -30,     21,     -8,     43,    -13,     34],\n",
       "       [     1,    -22,     26,    -27,     20,    -29,     19],\n",
       "       [     0,    -48,    -32,     26,     41,    -47,    -37],\n",
       "       [     1,    -12,     35,      6,     50,    -50,     -2],\n",
       "       [     0,    -48,    -32,    -32,    -16,    -15,     -5],\n",
       "       [     1,    -18,     26,    -33,     15,     -7,     46],\n",
       "       [     0,    -40,    -22,    -38,    -28,     23,     41],\n",
       "       [     1,    -16,     35,    -41,     10,    -47,      6],\n",
       "       [     0,    -32,    -23,     11,     30,    -14,      3],\n",
       "       [     1,    -49,     -5,     -3,     45,    -29,     18],\n",
       "       [     0,     18,     30,    -20,     -8,     -3,     13],\n",
       "       [     1,    -41,      9,     -7,     43,    -33,     15],\n",
       "       [     1, -54112, -39298, -85059, -49293, -27449,   7877],\n",
       "       [     1,    967,  23432,  45373,  81175,  27513,  53682]])"
      ]
     },
     "execution_count": 2,
     "metadata": {},
     "output_type": "execute_result"
    }
   ],
   "source": [
    "instr"
   ]
  },
  {
   "cell_type": "markdown",
   "id": "7bdf4691",
   "metadata": {},
   "source": [
    "Prvi stolpec pove, ali kocko prižigamo ali ugašamo, naslednja dva povesta meji v smeri `x`, naslednja dva v `y`, zadnja dva v `z`. Koordinate vključujejo zgornjo mejo: -26 in 7 pomeni od -26 do *vključno* 7. To ni dobro. Boljše bi bilo, če bi pisalo od -26 do 8, kar bi pomenilo, da 8 ni vključena. Za prvi del naloge to ni tako zelo pomembno, v drugem pa bo postalo. Zato povečajte vsa števila v stolpcih z indeksi 2, 4 in 6 za 1. To naredite z enim samim prirejanjem. Ker je preprosto.\n",
    "\n",
    "V prvem delu je potrebno ignorirati vse vrstice, pri katerih meje niso znotraj intervala -50 do 50 (vključno). Pripravite novo tabelo, v kateri bodo le takšne vrstice. Brez zank, seveda. To je zato, da povadite `np.min` in `np.max` prek osi in logične operatorje na tabelah in indeksiranje z maskami.\n",
    "\n",
    "Potem pa preprosto naredite tabelico, katere elementi ustrezajo kockam v reaktorju. Zapodite zanko `for` (ki bo tudi edina zanka for!) prek te tabele, za vsako vrstico prižgite oz. ugasnite kocke, na koncu pa jih preštejte."
   ]
  }
 ],
 "metadata": {
  "kernelspec": {
   "display_name": "Python 3 (ipykernel)",
   "language": "python",
   "name": "python3"
  },
  "language_info": {
   "codemirror_mode": {
    "name": "ipython",
    "version": 3
   },
   "file_extension": ".py",
   "mimetype": "text/x-python",
   "name": "python",
   "nbconvert_exporter": "python",
   "pygments_lexer": "ipython3",
   "version": "3.10.0"
  }
 },
 "nbformat": 4,
 "nbformat_minor": 5
}
