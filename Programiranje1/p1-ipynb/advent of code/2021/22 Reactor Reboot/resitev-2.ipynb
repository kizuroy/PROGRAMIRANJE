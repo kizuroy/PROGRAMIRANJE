{
 "cells": [
  {
   "cell_type": "markdown",
   "id": "98956090",
   "metadata": {},
   "source": [
    "## Rešitev\n",
    "\n",
    "Tole imamo še od prej."
   ]
  },
  {
   "cell_type": "code",
   "execution_count": 1,
   "id": "6d0268ff",
   "metadata": {},
   "outputs": [],
   "source": [
    "import numpy as np\n",
    "import re\n",
    "\n",
    "instr = np.array([[line.startswith(\"on\")] +\n",
    "                  [int(x) for x in re.findall(\"-?\\d+\", line)]\n",
    "                  for line in open(\"example2.txt\")])\n",
    "\n",
    "instr[:, [2, 4, 6]] += 1"
   ]
  },
  {
   "cell_type": "markdown",
   "id": "462ca071",
   "metadata": {},
   "source": [
    "Zdaj zberimo vse možne koordinate `x`, vse možne koordinate `y` in vse možne koordinate `z`. Koordinate `x` najdemo v stolpcih 1 in 2. Vzemimo takšno matriko, sploščimo jo in sestavimo množico njenih elementov. Podobno za `y` in `z`."
   ]
  },
  {
   "cell_type": "code",
   "execution_count": 2,
   "id": "dcb86ed5",
   "metadata": {},
   "outputs": [],
   "source": [
    "xs = set(instr[:, 1:3].flatten())\n",
    "ys = set(instr[:, 3:5].flatten())\n",
    "zs = set(instr[:, 5:7].flatten())"
   ]
  },
  {
   "cell_type": "markdown",
   "id": "ef8e2b39",
   "metadata": {},
   "source": [
    "Os `x` bo razrezana na vseh številkah, ki se pojavijo v `xs`. Uredimo te meje in jih zložimo v tabele. Da so v tabelah, nam bo prišlo prav malo kasneje."
   ]
  },
  {
   "cell_type": "code",
   "execution_count": 3,
   "id": "4e27ec6d",
   "metadata": {},
   "outputs": [],
   "source": [
    "xa = np.array(sorted(xs))\n",
    "ya = np.array(sorted(ys))\n",
    "za = np.array(sorted(zs))"
   ]
  },
  {
   "cell_type": "markdown",
   "id": "c2d15306",
   "metadata": {},
   "source": [
    "Zdaj pa pripravimo slovarje, s katerimi bomo za vsako mejo izvedeli njihovo zaporedno številko."
   ]
  },
  {
   "cell_type": "code",
   "execution_count": 4,
   "id": "223cafbb",
   "metadata": {},
   "outputs": [],
   "source": [
    "xs = {x: i for i, x in enumerate(xa)}\n",
    "ys = {x: i for i, x in enumerate(ya)}\n",
    "zs = {x: i for i, x in enumerate(za)}"
   ]
  },
  {
   "cell_type": "markdown",
   "id": "7307998d",
   "metadata": {},
   "source": [
    "Dimenzije tabele, ki predstavlja stanje reaktorja bodo enake številu blokov. `1` nam ni potrebno prišteti, ker zadnje število vedno predstavlja le gornjo mejo; bloka s to številko nikoli ne bomo prižgali ali ugasnili."
   ]
  },
  {
   "cell_type": "code",
   "execution_count": 5,
   "id": "72e369af",
   "metadata": {},
   "outputs": [],
   "source": [
    "reactor = np.zeros((len(xs), len(ys), len(zs)), dtype=bool)"
   ]
  },
  {
   "cell_type": "markdown",
   "id": "6ce78551",
   "metadata": {},
   "source": [
    "Zdaj pa gremo čez navodila ter prižigamo in ugašamo bloke v podanih intervalih (številk)."
   ]
  },
  {
   "cell_type": "code",
   "execution_count": 6,
   "id": "3e60a5ac",
   "metadata": {},
   "outputs": [],
   "source": [
    "for on, x0, x1, y0, y1, z0, z1 in instr:\n",
    "    reactor[xs[x0]:xs[x1], ys[y0]:ys[y1], zs[z0]:zs[z1]] = on"
   ]
  },
  {
   "cell_type": "markdown",
   "id": "cd0e7d80",
   "metadata": {},
   "source": [
    "Koordinate iz navodil preslikujemo v številke blokov prek slovarjev `xs`, `ys` in `zs`.\n",
    "\n",
    "Stanje reaktorja zdaj poznamo: vemo, kateri bloki so prižgani. Da ugotovimo število prižganih celic, pa potrebujemo število celic v vsakem bloku. To dobimo takole:"
   ]
  },
  {
   "cell_type": "code",
   "execution_count": 7,
   "id": "de11b837",
   "metadata": {},
   "outputs": [],
   "source": [
    "volumes = \\\n",
    "    (xa[1:] - xa[:-1])[:, None, None] \\\n",
    "    * (ya[1:] - ya[:-1])[:, None] \\\n",
    "    * (za[1:] - za[:-1])"
   ]
  },
  {
   "cell_type": "markdown",
   "id": "24d296a3",
   "metadata": {},
   "source": [
    "`xa[1:] - xa[:-1]` so razmiki med zaporednimi koordinatami v `xs` - to so širine blokov po smeri `x`. Podobno za ostale dimenzije. Dimenziji `x` dodamo še dve osi, `y` še eno in to zmnožimo skupaj. Zdaj bo `volumes[n][m][k]` dimenzija bloka, ki se začne na `n`-ti koordinati `x`, `m`-ti koordinati `y` in `k`-ti koordinati `z`. Torej tistega bloka, katerega stanje opisuje `reactor[n][m][k]`. Prostornine vseh prižganih blokov dobimo z `volumes[reactor[:-1, :-1, :-1]]`. `-1` moramo odšteti zaradi gornjih mej (spet!). Očitno je `xa[1:] - xa[:-1]`, kolikor je dolg `volumes` za 1 krajši od `len(xs)`, kolikor je dolg reaktor.\n",
    "\n",
    "Rezultat, ki ga iščemo, je torej"
   ]
  },
  {
   "cell_type": "code",
   "execution_count": 8,
   "id": "8da90339",
   "metadata": {},
   "outputs": [
    {
     "data": {
      "text/plain": [
       "2758514936282235"
      ]
     },
     "execution_count": 8,
     "metadata": {},
     "output_type": "execute_result"
    }
   ],
   "source": [
    "np.sum(volumes[reactor[:-1, :-1, :-1]])"
   ]
  },
  {
   "cell_type": "markdown",
   "id": "e941128b",
   "metadata": {},
   "source": [
    "Za preglednost in občutek je tu še celotna rešitev."
   ]
  },
  {
   "cell_type": "code",
   "execution_count": 9,
   "id": "ceeefb67",
   "metadata": {},
   "outputs": [
    {
     "data": {
      "text/plain": [
       "2758514936282235"
      ]
     },
     "execution_count": 9,
     "metadata": {},
     "output_type": "execute_result"
    }
   ],
   "source": [
    "xs = set(instr[:, 1:3].flatten())\n",
    "ys = set(instr[:, 3:5].flatten())\n",
    "zs = set(instr[:, 5:7].flatten())\n",
    "\n",
    "xa = np.array(sorted(xs))\n",
    "ya = np.array(sorted(ys))\n",
    "za = np.array(sorted(zs))\n",
    "\n",
    "xs = {x: i for i, x in enumerate(xa)}\n",
    "ys = {x: i for i, x in enumerate(ya)}\n",
    "zs = {x: i for i, x in enumerate(za)}\n",
    "\n",
    "reactor = np.zeros((len(xs), len(ys), len(zs)), dtype=bool)\n",
    "for on, x0, x1, y0, y1, z0, z1 in instr:\n",
    "    reactor[xs[x0]:xs[x1], ys[y0]:ys[y1], zs[z0]:zs[z1]] = on\n",
    "\n",
    "volumes = \\\n",
    "    (xa[1:] - xa[:-1])[:, None, None] \\\n",
    "    * (ya[1:] - ya[:-1])[:, None] \\\n",
    "    * (za[1:] - za[:-1])\n",
    "\n",
    "np.sum(volumes[reactor[:-1, :-1, :-1]])\n"
   ]
  },
  {
   "cell_type": "markdown",
   "id": "50eba172",
   "metadata": {},
   "source": [
    "Razen imenitnega zaključka z računanjem prostornin je to bolj vaja iz razmišljanja in Pythona kot iz `numpy`-ja."
   ]
  }
 ],
 "metadata": {
  "kernelspec": {
   "display_name": "Python 3 (ipykernel)",
   "language": "python",
   "name": "python3"
  },
  "language_info": {
   "codemirror_mode": {
    "name": "ipython",
    "version": 3
   },
   "file_extension": ".py",
   "mimetype": "text/x-python",
   "name": "python",
   "nbconvert_exporter": "python",
   "pygments_lexer": "ipython3",
   "version": "3.10.0"
  }
 },
 "nbformat": 4,
 "nbformat_minor": 5
}
