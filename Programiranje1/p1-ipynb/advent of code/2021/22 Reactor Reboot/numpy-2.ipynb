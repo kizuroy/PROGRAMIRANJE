{
 "cells": [
  {
   "cell_type": "markdown",
   "id": "37e7d6d7",
   "metadata": {},
   "source": [
    "## Kartezični produkti\n",
    "\n",
    "V čisto prvi \"lekciji\" sem se rekel, da morata biti tabeli, ki ju želimo seštevati, množiti ali karkoli že, enakih dimenzij.\n",
    "\n",
    "Zlagal sem se.\n",
    "\n",
    "K tabeli z n stolpci in poljubnim številom vrstic lahko prištejemo (primnožimo, odštejemo ...) enodimenzionalno tabelo z n elementi. Prištel jih bo k vsaki vrstici. Vendar nam to pri tej nalogi ne bo pomagalo. :)\n",
    "\n",
    "Bolj zanimivo je tole:"
   ]
  },
  {
   "cell_type": "code",
   "execution_count": 1,
   "id": "c2380966",
   "metadata": {},
   "outputs": [],
   "source": [
    "import numpy as np\n",
    "\n",
    "f = np.array([[1], [2], [3], [4]])\n",
    "g = np.array([1, 10, 100])"
   ]
  },
  {
   "cell_type": "code",
   "execution_count": 2,
   "id": "844afc7a",
   "metadata": {},
   "outputs": [
    {
     "data": {
      "text/plain": [
       "array([[1],\n",
       "       [2],\n",
       "       [3],\n",
       "       [4]])"
      ]
     },
     "execution_count": 2,
     "metadata": {},
     "output_type": "execute_result"
    }
   ],
   "source": [
    "f"
   ]
  },
  {
   "cell_type": "code",
   "execution_count": 3,
   "id": "5da0ddd8",
   "metadata": {},
   "outputs": [
    {
     "data": {
      "text/plain": [
       "array([  1,  10, 100])"
      ]
     },
     "execution_count": 3,
     "metadata": {},
     "output_type": "execute_result"
    }
   ],
   "source": [
    "g"
   ]
  },
  {
   "cell_type": "markdown",
   "id": "79a30a0e",
   "metadata": {},
   "source": [
    "Pomnožimo ju: `f` bo prispeval vrstice in `g` stolpce. Če se dimenzije ne ujemajo, ne bo nič hudega."
   ]
  },
  {
   "cell_type": "code",
   "execution_count": 4,
   "id": "a9ce178b",
   "metadata": {},
   "outputs": [
    {
     "data": {
      "text/plain": [
       "array([[  1,  10, 100],\n",
       "       [  2,  20, 200],\n",
       "       [  3,  30, 300],\n",
       "       [  4,  40, 400]])"
      ]
     },
     "execution_count": 4,
     "metadata": {},
     "output_type": "execute_result"
    }
   ],
   "source": [
    "f * g"
   ]
  },
  {
   "cell_type": "markdown",
   "id": "d83fb5f1",
   "metadata": {},
   "source": [
    "Vsak element je produkt ustreznih elementov. Ker je `f` prispeval vrstico, `g` stolpec, je "
   ]
  },
  {
   "cell_type": "code",
   "execution_count": 5,
   "id": "989199b2",
   "metadata": {},
   "outputs": [
    {
     "data": {
      "text/plain": [
       "30"
      ]
     },
     "execution_count": 5,
     "metadata": {},
     "output_type": "execute_result"
    }
   ],
   "source": [
    "(f * g)[2, 1]"
   ]
  },
  {
   "cell_type": "markdown",
   "id": "490d6b55",
   "metadata": {},
   "source": [
    "enak"
   ]
  },
  {
   "cell_type": "code",
   "execution_count": 6,
   "id": "d6674a4a",
   "metadata": {},
   "outputs": [
    {
     "data": {
      "text/plain": [
       "30"
      ]
     },
     "execution_count": 6,
     "metadata": {},
     "output_type": "execute_result"
    }
   ],
   "source": [
    "f[2][0] * g[1]"
   ]
  },
  {
   "cell_type": "markdown",
   "id": "5ecc2746",
   "metadata": {},
   "source": [
    "(K `f[2]` smo morali dodati `[0]`, saj gre za dvodimenzionalno tabelo, mi pa bi radi prišli do števila.)\n",
    "\n",
    "To se da nadaljevati v tretjo dimenzijo."
   ]
  },
  {
   "cell_type": "code",
   "execution_count": 7,
   "id": "8a80e8af",
   "metadata": {},
   "outputs": [],
   "source": [
    "e = np.array([[[1]], [[5]], [[8]]])"
   ]
  },
  {
   "cell_type": "code",
   "execution_count": 8,
   "id": "34b165ac",
   "metadata": {},
   "outputs": [
    {
     "data": {
      "text/plain": [
       "array([[[   1,   10,  100],\n",
       "        [   2,   20,  200],\n",
       "        [   3,   30,  300],\n",
       "        [   4,   40,  400]],\n",
       "\n",
       "       [[   5,   50,  500],\n",
       "        [  10,  100, 1000],\n",
       "        [  15,  150, 1500],\n",
       "        [  20,  200, 2000]],\n",
       "\n",
       "       [[   8,   80,  800],\n",
       "        [  16,  160, 1600],\n",
       "        [  24,  240, 2400],\n",
       "        [  32,  320, 3200]]])"
      ]
     },
     "execution_count": 8,
     "metadata": {},
     "output_type": "execute_result"
    }
   ],
   "source": [
    "e * f * g"
   ]
  },
  {
   "cell_type": "markdown",
   "id": "c8a406b7",
   "metadata": {},
   "source": [
    "Zdaj `e` prispeva prvi indeks, `f` drugega, `g` tretjega."
   ]
  },
  {
   "cell_type": "code",
   "execution_count": 9,
   "id": "bca80b34",
   "metadata": {},
   "outputs": [
    {
     "data": {
      "text/plain": [
       "15"
      ]
     },
     "execution_count": 9,
     "metadata": {},
     "output_type": "execute_result"
    }
   ],
   "source": [
    "(e * f * g)[1, 2, 0]"
   ]
  },
  {
   "cell_type": "code",
   "execution_count": 10,
   "id": "12b00581",
   "metadata": {},
   "outputs": [
    {
     "data": {
      "text/plain": [
       "15"
      ]
     },
     "execution_count": 10,
     "metadata": {},
     "output_type": "execute_result"
    }
   ],
   "source": [
    "e[1][0][0] * f[2][0] * g[0]"
   ]
  },
  {
   "cell_type": "markdown",
   "id": "395a86fa",
   "metadata": {},
   "source": [
    "Vrstni red množenj ni pomemben. Pomembno je, koliko dimenzij ima kdo."
   ]
  },
  {
   "cell_type": "code",
   "execution_count": 11,
   "id": "0a421034",
   "metadata": {},
   "outputs": [
    {
     "data": {
      "text/plain": [
       "array([[[   1,   10,  100],\n",
       "        [   2,   20,  200],\n",
       "        [   3,   30,  300],\n",
       "        [   4,   40,  400]],\n",
       "\n",
       "       [[   5,   50,  500],\n",
       "        [  10,  100, 1000],\n",
       "        [  15,  150, 1500],\n",
       "        [  20,  200, 2000]],\n",
       "\n",
       "       [[   8,   80,  800],\n",
       "        [  16,  160, 1600],\n",
       "        [  24,  240, 2400],\n",
       "        [  32,  320, 3200]]])"
      ]
     },
     "execution_count": 11,
     "metadata": {},
     "output_type": "execute_result"
    }
   ],
   "source": [
    "g * e * f"
   ]
  },
  {
   "cell_type": "markdown",
   "id": "c4ee9722",
   "metadata": {},
   "source": [
    "## Razpihovanje dimenzij\n",
    "\n",
    "Kako si pripraviti matriko, kot je `e`? Se moramo res izgubljati v teh oglatih oklepajih? Tu nam pomaga še en trik pri indeksiranju: kot enega od indeksov lahko podamo `None`. Ta bo v tabelo, ki jo dobimo kot rezultat, dodal novo dimenzijo velikosti 1.\n",
    "\n",
    "Tabela `e` je oblike"
   ]
  },
  {
   "cell_type": "code",
   "execution_count": 12,
   "id": "2ffac4cd",
   "metadata": {},
   "outputs": [
    {
     "data": {
      "text/plain": [
       "(3, 1, 1)"
      ]
     },
     "execution_count": 12,
     "metadata": {},
     "output_type": "execute_result"
    }
   ],
   "source": [
    "e.shape"
   ]
  },
  {
   "cell_type": "markdown",
   "id": "da2d00b5",
   "metadata": {},
   "source": [
    "Lahko bi začeli z"
   ]
  },
  {
   "cell_type": "code",
   "execution_count": 13,
   "id": "f06d143d",
   "metadata": {},
   "outputs": [
    {
     "data": {
      "text/plain": [
       "(3,)"
      ]
     },
     "execution_count": 13,
     "metadata": {},
     "output_type": "execute_result"
    }
   ],
   "source": [
    "e = np.array([1, 5, 0])\n",
    "\n",
    "e.shape"
   ]
  },
  {
   "cell_type": "markdown",
   "id": "61922bb1",
   "metadata": {},
   "source": [
    "in mu dodali manjkajoči dimenziji z dvema `None`."
   ]
  },
  {
   "cell_type": "code",
   "execution_count": 14,
   "id": "e2d821da",
   "metadata": {},
   "outputs": [
    {
     "data": {
      "text/plain": [
       "array([[[1]],\n",
       "\n",
       "       [[5]],\n",
       "\n",
       "       [[0]]])"
      ]
     },
     "execution_count": 14,
     "metadata": {},
     "output_type": "execute_result"
    }
   ],
   "source": [
    "e[:, None, None]"
   ]
  },
  {
   "cell_type": "code",
   "execution_count": 15,
   "id": "222fee14",
   "metadata": {},
   "outputs": [
    {
     "data": {
      "text/plain": [
       "(3, 1, 1)"
      ]
     },
     "execution_count": 15,
     "metadata": {},
     "output_type": "execute_result"
    }
   ],
   "source": [
    "e[:, None, None].shape"
   ]
  },
  {
   "cell_type": "markdown",
   "id": "29490e9e",
   "metadata": {},
   "source": [
    "Kar smo počeli zgoraj, je torej ekvivalentno temu:"
   ]
  },
  {
   "cell_type": "code",
   "execution_count": 16,
   "id": "e60cd6c2",
   "metadata": {},
   "outputs": [
    {
     "data": {
      "text/plain": [
       "array([[[   1,   10,  100],\n",
       "        [   2,   20,  200],\n",
       "        [   3,   30,  300],\n",
       "        [   4,   40,  400]],\n",
       "\n",
       "       [[   2,   20,  200],\n",
       "        [   4,   40,  400],\n",
       "        [   6,   60,  600],\n",
       "        [   8,   80,  800]],\n",
       "\n",
       "       [[   3,   30,  300],\n",
       "        [   6,   60,  600],\n",
       "        [   9,   90,  900],\n",
       "        [  12,  120, 1200]]])"
      ]
     },
     "execution_count": 16,
     "metadata": {},
     "output_type": "execute_result"
    }
   ],
   "source": [
    "f = np.array([1, 2, 3, 4])\n",
    "g = np.array([1, 10, 100])\n",
    "e = np.array([1, 2, 3])\n",
    "\n",
    "e[:, None, None] * f[:, None] * g"
   ]
  },
  {
   "cell_type": "markdown",
   "id": "b2755f44",
   "metadata": {},
   "source": [
    "## Sploščitev matrike\n",
    "\n",
    "Obratna operacija je `flatten`. Ta splošči tabelo v eno dimenzijo."
   ]
  },
  {
   "cell_type": "code",
   "execution_count": 17,
   "id": "40139065",
   "metadata": {},
   "outputs": [
    {
     "data": {
      "text/plain": [
       "array([[3, 6, 1],\n",
       "       [2, 5, 7],\n",
       "       [1, 2, 8]])"
      ]
     },
     "execution_count": 17,
     "metadata": {},
     "output_type": "execute_result"
    }
   ],
   "source": [
    "a = np.array([[3, 6, 1], [2, 5, 7], [1, 2, 8]])\n",
    "\n",
    "a"
   ]
  },
  {
   "cell_type": "code",
   "execution_count": 18,
   "id": "b93db6c2",
   "metadata": {},
   "outputs": [
    {
     "data": {
      "text/plain": [
       "array([3, 6, 1, 2, 5, 7, 1, 2, 8])"
      ]
     },
     "execution_count": 18,
     "metadata": {},
     "output_type": "execute_result"
    }
   ],
   "source": [
    "a.flatten()"
   ]
  },
  {
   "cell_type": "markdown",
   "id": "8368037c",
   "metadata": {},
   "source": [
    "## Naloga (drugi del)\n",
    "\n",
    "Tale naloga ni nadležna, zahteva pa nekaj razmišljanja, nekaj znanja Pythona in spretno uporabo `numpy`-ja. Ni preprosta, ni pa ena tistih, s katerimi se zafrkavaš v nedogled in si slabe volje celo potem, ko ti uspe. Vsaj meni se ni zdela takšne.\n",
    "\n",
    "Rešite jo, pa četudi najprej v čistem Pythonu, brez `numpy`-ja.\n",
    "\n",
    "Pazite, v drugem delu primer iz opisa naloge uporablja druge podatke.\n",
    "\n",
    "Spoilerji.\n",
    "\n",
    "Trik je v tem, da bo elementov več, kot jih gre v pomnilnik. Mej med njimi pa ne. Predstavljajmo si, da vsaka koordinata, na katero naletimo pri prižiganju in ugašanju, prereže reaktor. Šestkrat - dvakrat po `x`, dvakrat po `y`, dvakrat po `z`. Pri reševanju prvega dela je vsak element matrike ustrezal eni kocki reaktorja. Zdaj bo vsak element ustrezal celemu bloku. Bloke bo potrebno oštevilčiti, po vrsti. Slovar je vaš prijatelj, gre pa tudi z običajnimi indeksi.\n",
    "\n",
    "Na koncu nas ne bo zanimalo število prižganih blokov temveč kock. Za to bo potrebno izračunati prostornine blokov. Tu in predvsem tu pa bo prišlo prav, kar smo se pravkar naučili."
   ]
  },
  {
   "cell_type": "code",
   "execution_count": null,
   "id": "636e164a",
   "metadata": {},
   "outputs": [],
   "source": []
  }
 ],
 "metadata": {
  "kernelspec": {
   "display_name": "Python 3 (ipykernel)",
   "language": "python",
   "name": "python3"
  },
  "language_info": {
   "codemirror_mode": {
    "name": "ipython",
    "version": 3
   },
   "file_extension": ".py",
   "mimetype": "text/x-python",
   "name": "python",
   "nbconvert_exporter": "python",
   "pygments_lexer": "ipython3",
   "version": "3.10.0"
  }
 },
 "nbformat": 4,
 "nbformat_minor": 5
}
