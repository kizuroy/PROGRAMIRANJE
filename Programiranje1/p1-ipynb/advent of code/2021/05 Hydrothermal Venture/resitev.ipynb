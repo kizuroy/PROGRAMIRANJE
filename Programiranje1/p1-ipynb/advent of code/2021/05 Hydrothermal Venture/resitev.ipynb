{
 "cells": [
  {
   "cell_type": "markdown",
   "id": "caf4186b",
   "metadata": {},
   "source": [
    "## Rešitev\n",
    "\n",
    "Imamo torej"
   ]
  },
  {
   "cell_type": "code",
   "execution_count": 1,
   "id": "ac7a0a0e",
   "metadata": {},
   "outputs": [],
   "source": [
    "import re\n",
    "import numpy as np\n",
    "\n",
    "def anyrange(a, b):\n",
    "    return np.arange(a, b + 1) if b >= a else np.arange(a, b - 1, -1)\n",
    "\n",
    "lines = np.array([[int(x) for x in re.findall(r\"\\d+\", v)]\n",
    "                  for v in open(\"example.txt\")])"
   ]
  },
  {
   "cell_type": "markdown",
   "id": "99aa6905",
   "metadata": {},
   "source": [
    "Kako veliko matriko si moramo pripraviti? Poiskati moramo največjo koordinato `x` in največjo koordinato `y`. `x`-i so v ničtem in drugem stolpcu, `y` prvem in tretjem."
   ]
  },
  {
   "cell_type": "code",
   "execution_count": 2,
   "id": "306564bb",
   "metadata": {},
   "outputs": [
    {
     "data": {
      "text/plain": [
       "array([[0, 9, 5, 9],\n",
       "       [8, 0, 0, 8],\n",
       "       [9, 4, 3, 4],\n",
       "       [2, 2, 2, 1],\n",
       "       [7, 0, 7, 4],\n",
       "       [6, 4, 2, 0],\n",
       "       [0, 9, 2, 9],\n",
       "       [3, 4, 1, 4],\n",
       "       [0, 0, 8, 8],\n",
       "       [5, 5, 8, 2]])"
      ]
     },
     "execution_count": 2,
     "metadata": {},
     "output_type": "execute_result"
    }
   ],
   "source": [
    "lines"
   ]
  },
  {
   "cell_type": "markdown",
   "id": "451b5792",
   "metadata": {},
   "source": [
    "Potrebujemo maksimum ničtega in drugega skupaj ter maksimum prvega in tretjega. Seveda bi to lahko poračunali tako, da bi izračunali"
   ]
  },
  {
   "cell_type": "code",
   "execution_count": 3,
   "id": "a43e51c8",
   "metadata": {},
   "outputs": [
    {
     "data": {
      "text/plain": [
       "array([9, 9, 8, 9])"
      ]
     },
     "execution_count": 3,
     "metadata": {},
     "output_type": "execute_result"
    }
   ],
   "source": [
    "np.max(lines, axis=0)"
   ]
  },
  {
   "cell_type": "markdown",
   "id": "4ce4b89c",
   "metadata": {},
   "source": [
    "in to potem združevali (kar je glede na te konkretne številke sicer dolgočasno, vendar razmišljajmo o splošnem primeru). Vendar je, glede na to, da smo slučajno izvedeli za `reshape`, bolj zabavno združiti stolpca."
   ]
  },
  {
   "cell_type": "code",
   "execution_count": 4,
   "id": "0a46a532",
   "metadata": {},
   "outputs": [
    {
     "data": {
      "text/plain": [
       "array([[0, 9],\n",
       "       [5, 9],\n",
       "       [8, 0],\n",
       "       [0, 8],\n",
       "       [9, 4],\n",
       "       [3, 4],\n",
       "       [2, 2],\n",
       "       [2, 1],\n",
       "       [7, 0],\n",
       "       [7, 4],\n",
       "       [6, 4],\n",
       "       [2, 0],\n",
       "       [0, 9],\n",
       "       [2, 9],\n",
       "       [3, 4],\n",
       "       [1, 4],\n",
       "       [0, 0],\n",
       "       [8, 8],\n",
       "       [5, 5],\n",
       "       [8, 2]])"
      ]
     },
     "execution_count": 4,
     "metadata": {},
     "output_type": "execute_result"
    }
   ],
   "source": [
    "lines.reshape((-1, 2))"
   ]
  },
  {
   "cell_type": "markdown",
   "id": "212395e6",
   "metadata": {},
   "source": [
    "Naša maksimuma sta potem"
   ]
  },
  {
   "cell_type": "code",
   "execution_count": 5,
   "id": "a7650497",
   "metadata": {},
   "outputs": [
    {
     "data": {
      "text/plain": [
       "array([9, 9])"
      ]
     },
     "execution_count": 5,
     "metadata": {},
     "output_type": "execute_result"
    }
   ],
   "source": [
    "np.max(lines.reshape((-1, 2)), axis=0)"
   ]
  },
  {
   "cell_type": "markdown",
   "id": "8b5ca395",
   "metadata": {},
   "source": [
    "Matrika, ki jo potrebujemo, mora biti za 1 večja, ker štejemo od 0."
   ]
  },
  {
   "cell_type": "code",
   "execution_count": 6,
   "id": "6eed272a",
   "metadata": {},
   "outputs": [],
   "source": [
    "field = np.zeros(np.max(lines.reshape((-1, 2)) + 1, axis=0))"
   ]
  },
  {
   "cell_type": "markdown",
   "id": "2f3ca9b9",
   "metadata": {},
   "source": [
    "Prvi del naloge zahteva, da upoštevamo le črte, ki so navpične ali vodoravne. Za vsako povečamo ustrezne elemente tabele za 1. Indekse \"ustreznih elementov\" nam prijazno pove `anyrange`."
   ]
  },
  {
   "cell_type": "code",
   "execution_count": 7,
   "id": "03947b85",
   "metadata": {},
   "outputs": [],
   "source": [
    "for x1, y1, x2, y2 in lines:\n",
    "    if x1 == x2 or y1 == y2:\n",
    "        field[anyrange(x1, x2), anyrange(y1, y2)] += 1"
   ]
  },
  {
   "cell_type": "markdown",
   "id": "72701fed",
   "metadata": {},
   "source": [
    "Kako prešteti neničelne elemente? Takole."
   ]
  },
  {
   "cell_type": "code",
   "execution_count": 8,
   "id": "0cd5a3db",
   "metadata": {},
   "outputs": [
    {
     "data": {
      "text/plain": [
       "array([[False, False, False, False, False, False, False, False, False,\n",
       "         True],\n",
       "       [False, False, False, False, False, False, False, False, False,\n",
       "         True],\n",
       "       [False, False, False, False, False, False, False, False, False,\n",
       "         True],\n",
       "       [False, False, False, False,  True, False, False, False, False,\n",
       "        False],\n",
       "       [False, False, False, False, False, False, False, False, False,\n",
       "        False],\n",
       "       [False, False, False, False, False, False, False, False, False,\n",
       "        False],\n",
       "       [False, False, False, False, False, False, False, False, False,\n",
       "        False],\n",
       "       [False, False, False, False,  True, False, False, False, False,\n",
       "        False],\n",
       "       [False, False, False, False, False, False, False, False, False,\n",
       "        False],\n",
       "       [False, False, False, False, False, False, False, False, False,\n",
       "        False]])"
      ]
     },
     "execution_count": 8,
     "metadata": {},
     "output_type": "execute_result"
    }
   ],
   "source": [
    "field > 1"
   ]
  },
  {
   "cell_type": "markdown",
   "id": "68662485",
   "metadata": {},
   "source": [
    "Le tole moramo sešteti."
   ]
  },
  {
   "cell_type": "code",
   "execution_count": 9,
   "id": "f588e115",
   "metadata": {},
   "outputs": [
    {
     "data": {
      "text/plain": [
       "5"
      ]
     },
     "execution_count": 9,
     "metadata": {},
     "output_type": "execute_result"
    }
   ],
   "source": [
    "np.sum(field > 1)"
   ]
  },
  {
   "cell_type": "markdown",
   "id": "58fdb9bd",
   "metadata": {},
   "source": [
    "Za drugi del pa le izpustimo `if` in bomo dobili še diagonale.\n",
    "\n",
    "Lahko pa rešimo oba dela hkrati. Celotna rešitev obeh delov je:"
   ]
  },
  {
   "cell_type": "code",
   "execution_count": 10,
   "id": "80610ca5",
   "metadata": {},
   "outputs": [
    {
     "name": "stdout",
     "output_type": "stream",
     "text": [
      "5\n",
      "12\n"
     ]
    }
   ],
   "source": [
    "import re\n",
    "import numpy as np\n",
    "\n",
    "def anyrange(a, b):\n",
    "    return np.arange(a, b + 1) if b >= a else np.arange(a, b - 1, -1)\n",
    "\n",
    "lines = np.array([[int(x) for x in re.findall(r\"\\d+\", v)]\n",
    "                  for v in open(\"example.txt\")])\n",
    "\n",
    "for part in (0, 1):\n",
    "    field = np.zeros(np.max(lines.reshape((-1, 2)) + 1, axis=0))\n",
    "    for x1, y1, x2, y2 in lines:\n",
    "        if part == 1 or x1 == x2 or y1 == y2:\n",
    "            field[anyrange(x1, x2), anyrange(y1, y2)] += 1\n",
    "    print(np.sum(field > 1))"
   ]
  }
 ],
 "metadata": {
  "kernelspec": {
   "display_name": "Python 3 (ipykernel)",
   "language": "python",
   "name": "python3"
  },
  "language_info": {
   "codemirror_mode": {
    "name": "ipython",
    "version": 3
   },
   "file_extension": ".py",
   "mimetype": "text/x-python",
   "name": "python",
   "nbconvert_exporter": "python",
   "pygments_lexer": "ipython3",
   "version": "3.10.0"
  }
 },
 "nbformat": 4,
 "nbformat_minor": 5
}
