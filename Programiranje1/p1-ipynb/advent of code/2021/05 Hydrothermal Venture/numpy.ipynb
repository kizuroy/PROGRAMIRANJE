{
 "cells": [
  {
   "cell_type": "markdown",
   "id": "17b094ef",
   "metadata": {},
   "source": [
    "## Preoblikovanje tabel\n",
    "\n",
    "Tabele imajo metodo `reshape`: podamo ji terko z novo obliko tabele, pa vrnejo matriko v tej, novi obliki. Nova oblika mora imeti enako število elementov kot stara. (Obe tabeli si v resnici delita isti pomnilnik, le različen pogled imata nanj)."
   ]
  },
  {
   "cell_type": "code",
   "execution_count": 1,
   "id": "735844ac",
   "metadata": {},
   "outputs": [
    {
     "data": {
      "text/plain": [
       "array([ 0,  1,  2,  3,  4,  5,  6,  7,  8,  9, 10, 11])"
      ]
     },
     "execution_count": 1,
     "metadata": {},
     "output_type": "execute_result"
    }
   ],
   "source": [
    "import numpy as np\n",
    "\n",
    "a = np.arange(12)\n",
    "\n",
    "a"
   ]
  },
  {
   "cell_type": "code",
   "execution_count": 2,
   "id": "ef95e6db",
   "metadata": {},
   "outputs": [
    {
     "data": {
      "text/plain": [
       "array([[ 0,  1,  2],\n",
       "       [ 3,  4,  5],\n",
       "       [ 6,  7,  8],\n",
       "       [ 9, 10, 11]])"
      ]
     },
     "execution_count": 2,
     "metadata": {},
     "output_type": "execute_result"
    }
   ],
   "source": [
    "a.reshape(4, 3)"
   ]
  },
  {
   "cell_type": "code",
   "execution_count": 3,
   "id": "fdd95643",
   "metadata": {},
   "outputs": [
    {
     "data": {
      "text/plain": [
       "array([[[ 0,  1],\n",
       "        [ 2,  3],\n",
       "        [ 4,  5]],\n",
       "\n",
       "       [[ 6,  7],\n",
       "        [ 8,  9],\n",
       "        [10, 11]]])"
      ]
     },
     "execution_count": 3,
     "metadata": {},
     "output_type": "execute_result"
    }
   ],
   "source": [
    "a.reshape(2, 3, 2)"
   ]
  },
  {
   "cell_type": "code",
   "execution_count": 4,
   "id": "38dfb9f6",
   "metadata": {},
   "outputs": [
    {
     "data": {
      "text/plain": [
       "array([[ 0,  1],\n",
       "       [ 2,  3],\n",
       "       [ 4,  5],\n",
       "       [ 6,  7],\n",
       "       [ 8,  9],\n",
       "       [10, 11]])"
      ]
     },
     "execution_count": 4,
     "metadata": {},
     "output_type": "execute_result"
    }
   ],
   "source": [
    "a.reshape((6, 2))"
   ]
  },
  {
   "cell_type": "markdown",
   "id": "22fbb701",
   "metadata": {},
   "source": [
    "Seveda lahko preoblikujemo tudi tabele, ki niso enodimenzionalne."
   ]
  },
  {
   "cell_type": "code",
   "execution_count": 5,
   "id": "a657fbe3",
   "metadata": {},
   "outputs": [],
   "source": [
    "a = np.array([[5, 4, 1, 8],\n",
    "              [3, 0, 7, 0],\n",
    "              [9, 6, 3, 4]])"
   ]
  },
  {
   "cell_type": "code",
   "execution_count": 6,
   "id": "0263ec43",
   "metadata": {},
   "outputs": [
    {
     "data": {
      "text/plain": [
       "array([[5, 4, 1],\n",
       "       [8, 3, 0],\n",
       "       [7, 0, 9],\n",
       "       [6, 3, 4]])"
      ]
     },
     "execution_count": 6,
     "metadata": {},
     "output_type": "execute_result"
    }
   ],
   "source": [
    "a.reshape((4, 3))"
   ]
  },
  {
   "cell_type": "markdown",
   "id": "5f0d38af",
   "metadata": {},
   "source": [
    "Eno dimenzijo lahko `numpy` izračuna sam. Katero, povemo tako, da na onem mestu podamo `-1`."
   ]
  },
  {
   "cell_type": "code",
   "execution_count": 7,
   "id": "2ce7dbdc",
   "metadata": {},
   "outputs": [
    {
     "data": {
      "text/plain": [
       "array([[[5, 4],\n",
       "        [1, 8],\n",
       "        [3, 0]],\n",
       "\n",
       "       [[7, 0],\n",
       "        [9, 6],\n",
       "        [3, 4]]])"
      ]
     },
     "execution_count": 7,
     "metadata": {},
     "output_type": "execute_result"
    }
   ],
   "source": [
    "b = a.reshape((2, -1, 2))\n",
    "b"
   ]
  },
  {
   "cell_type": "code",
   "execution_count": 8,
   "id": "0c91fe41",
   "metadata": {},
   "outputs": [
    {
     "data": {
      "text/plain": [
       "(2, 3, 2)"
      ]
     },
     "execution_count": 8,
     "metadata": {},
     "output_type": "execute_result"
    }
   ],
   "source": [
    "b.shape"
   ]
  },
  {
   "cell_type": "markdown",
   "id": "feacfff8",
   "metadata": {},
   "source": [
    "To je posebej uporabno, kadar za matriko ne vemo vnaprej, kako velika bo. Če vemo, da bo imela štiri stolpce in bi radi združili ničtega in drugega v en stolpec, prvega in tretjega pa v drugi stolpec, napišemo"
   ]
  },
  {
   "cell_type": "code",
   "execution_count": 9,
   "id": "f2d1b3ed",
   "metadata": {},
   "outputs": [
    {
     "data": {
      "text/plain": [
       "array([[5, 4],\n",
       "       [1, 8],\n",
       "       [3, 0],\n",
       "       [7, 0],\n",
       "       [9, 6],\n",
       "       [3, 4]])"
      ]
     },
     "execution_count": 9,
     "metadata": {},
     "output_type": "execute_result"
    }
   ],
   "source": [
    "a.reshape((-1, 2))"
   ]
  },
  {
   "cell_type": "markdown",
   "id": "f6614873",
   "metadata": {},
   "source": [
    "Primerjajte to z `a`, ki ima v ničtem in drugem stolpcu (slučajno) soda, v prvem in tretjem pa liha števila."
   ]
  },
  {
   "cell_type": "code",
   "execution_count": 10,
   "id": "d30ef128",
   "metadata": {},
   "outputs": [
    {
     "data": {
      "text/plain": [
       "array([[5, 4, 1, 8],\n",
       "       [3, 0, 7, 0],\n",
       "       [9, 6, 3, 4]])"
      ]
     },
     "execution_count": 10,
     "metadata": {},
     "output_type": "execute_result"
    }
   ],
   "source": [
    "a"
   ]
  },
  {
   "cell_type": "markdown",
   "id": "208becbc",
   "metadata": {},
   "source": [
    "Mimogrede in malenkost povezano s tem: število elementov matrike izvemo s"
   ]
  },
  {
   "cell_type": "code",
   "execution_count": 11,
   "id": "07b1f0ab",
   "metadata": {},
   "outputs": [
    {
     "data": {
      "text/plain": [
       "12"
      ]
     },
     "execution_count": 11,
     "metadata": {},
     "output_type": "execute_result"
    }
   ],
   "source": [
    "a.size"
   ]
  },
  {
   "cell_type": "markdown",
   "id": "aedc0f67",
   "metadata": {},
   "source": [
    "Seveda je `a.size` enak"
   ]
  },
  {
   "cell_type": "code",
   "execution_count": 12,
   "id": "914c27c5",
   "metadata": {},
   "outputs": [
    {
     "data": {
      "text/plain": [
       "12"
      ]
     },
     "execution_count": 12,
     "metadata": {},
     "output_type": "execute_result"
    }
   ],
   "source": [
    "np.prod(a.shape)"
   ]
  },
  {
   "cell_type": "markdown",
   "id": "949d05d7",
   "metadata": {},
   "source": [
    "## Naloga\n",
    "\n",
    "Naloga bode naloga 5, [Hydrothermal Venture](https://adventofcode.com/2021/day/20).\n",
    "\n",
    "Prijetno lahka je. Da bo res tako, vam podarjam funkcijo `anyrange`."
   ]
  },
  {
   "cell_type": "code",
   "execution_count": 13,
   "id": "4f8c382d",
   "metadata": {},
   "outputs": [],
   "source": [
    "def anyrange(a, b):\n",
    "    return np.arange(a, b + 1) if b >= a else np.arange(a, b - 1, -1)"
   ]
  },
  {
   "cell_type": "markdown",
   "id": "ac2893b1",
   "metadata": {},
   "source": [
    "Podobna je funkciji `range`, vendar vključuje obe meji in ji je vseeno, katera je večja."
   ]
  },
  {
   "cell_type": "code",
   "execution_count": 14,
   "id": "4e7f5d7a",
   "metadata": {},
   "outputs": [
    {
     "data": {
      "text/plain": [
       "array([ 5,  6,  7,  8,  9, 10])"
      ]
     },
     "execution_count": 14,
     "metadata": {},
     "output_type": "execute_result"
    }
   ],
   "source": [
    "anyrange(5, 10)"
   ]
  },
  {
   "cell_type": "code",
   "execution_count": 15,
   "id": "291d3f80",
   "metadata": {},
   "outputs": [
    {
     "data": {
      "text/plain": [
       "array([10,  9,  8,  7,  6,  5])"
      ]
     },
     "execution_count": 15,
     "metadata": {},
     "output_type": "execute_result"
    }
   ],
   "source": [
    "anyrange(10, 5)"
   ]
  },
  {
   "cell_type": "markdown",
   "id": "fe99c810",
   "metadata": {},
   "source": [
    "Tule je še branje datoteke."
   ]
  },
  {
   "cell_type": "code",
   "execution_count": 16,
   "id": "b585fa44",
   "metadata": {},
   "outputs": [],
   "source": [
    "import re\n",
    "\n",
    "lines = np.array([[int(x) for x in re.findall(r\"\\d+\", v)]\n",
    "                  for v in open(\"example.txt\")])"
   ]
  },
  {
   "cell_type": "markdown",
   "id": "933efcfc",
   "metadata": {},
   "source": [
    "Kdor pozna regularne izraze, to itak zna; kdor jih ne, naj mu bo tole prihranjeno.\n",
    "\n",
    "Zdaj pa uživajte v preprosti nalogi. Edina zanka, ki jo še napišete, naj gre čez `lines`. Vse ostalo bodo učinkovito uporabljeni indeksi (ne pozabite na funkcijo `anyrange`!), seštevanje in vsote.\n",
    "\n",
    "Kako dobimo elemente večje od 1? Ne pozabite, da je `True` isto kot `1` in `False` isto kot `0`.\n",
    "\n",
    "Da ne bo koga zmedlo: `reshape` v resnici skoraj ne potrebujemo. Samo jagoda na vrhu kupe je."
   ]
  }
 ],
 "metadata": {
  "kernelspec": {
   "display_name": "Python 3 (ipykernel)",
   "language": "python",
   "name": "python3"
  },
  "language_info": {
   "codemirror_mode": {
    "name": "ipython",
    "version": 3
   },
   "file_extension": ".py",
   "mimetype": "text/x-python",
   "name": "python",
   "nbconvert_exporter": "python",
   "pygments_lexer": "ipython3",
   "version": "3.10.0"
  }
 },
 "nbformat": 4,
 "nbformat_minor": 5
}
