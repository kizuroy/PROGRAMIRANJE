{
 "cells": [
  {
   "cell_type": "markdown",
   "id": "3a1c4b53",
   "metadata": {},
   "source": [
    "## Rešitev\n",
    "\n",
    "Uvozimo `numpy` in preberemo podatke."
   ]
  },
  {
   "cell_type": "code",
   "execution_count": 1,
   "id": "0bb89cb6",
   "metadata": {},
   "outputs": [],
   "source": [
    "import numpy as np\n",
    "\n",
    "state = np.array([list(v.strip()) for v in open(\"example.txt\")])"
   ]
  },
  {
   "cell_type": "markdown",
   "id": "7689a79c",
   "metadata": {},
   "source": [
    "Vsako vrstico smo odstripali znaka za novo vrsto in jo spremenili v seznam. Stanje je zdaj"
   ]
  },
  {
   "cell_type": "code",
   "execution_count": 2,
   "id": "80829685",
   "metadata": {},
   "outputs": [
    {
     "data": {
      "text/plain": [
       "array([['v', '.', '.', '.', '>', '>', '.', 'v', 'v', '>'],\n",
       "       ['.', 'v', 'v', '>', '>', '.', 'v', 'v', '.', '.'],\n",
       "       ['>', '>', '.', '>', 'v', '>', '.', '.', '.', 'v'],\n",
       "       ['>', '>', 'v', '>', '>', '.', '>', '.', 'v', '.'],\n",
       "       ['v', '>', 'v', '.', 'v', 'v', '.', 'v', '.', '.'],\n",
       "       ['>', '.', '>', '>', '.', '.', 'v', '.', '.', '.'],\n",
       "       ['.', 'v', 'v', '.', '.', '>', '.', '>', 'v', '.'],\n",
       "       ['v', '.', 'v', '.', '.', '>', '>', 'v', '.', 'v'],\n",
       "       ['.', '.', '.', '.', 'v', '.', '.', 'v', '.', '>']], dtype='<U1')"
      ]
     },
     "execution_count": 2,
     "metadata": {},
     "output_type": "execute_result"
    }
   ],
   "source": [
    "state"
   ]
  },
  {
   "cell_type": "markdown",
   "id": "beb067be",
   "metadata": {},
   "source": [
    "Višino in širino si bomo za preglednejši rabo shranili v spremenljivki."
   ]
  },
  {
   "cell_type": "code",
   "execution_count": 3,
   "id": "fae657d6",
   "metadata": {},
   "outputs": [],
   "source": [
    "h, w = state.shape"
   ]
  },
  {
   "cell_type": "markdown",
   "id": "7d506c92",
   "metadata": {},
   "source": [
    "Oglejmo si tiste, ki hočejo dol. Kje so?"
   ]
  },
  {
   "cell_type": "code",
   "execution_count": 4,
   "id": "9fb6176e",
   "metadata": {},
   "outputs": [],
   "source": [
    "y, x = np.nonzero(state == \"v\")"
   ]
  },
  {
   "cell_type": "code",
   "execution_count": 5,
   "id": "a413d3d4",
   "metadata": {},
   "outputs": [
    {
     "data": {
      "text/plain": [
       "array([0, 7, 8, 1, 2, 6, 7, 4, 9, 2, 8, 0, 2, 4, 5, 7, 6, 1, 2, 8, 0, 2,\n",
       "       7, 9, 4, 7])"
      ]
     },
     "execution_count": 5,
     "metadata": {},
     "output_type": "execute_result"
    }
   ],
   "source": [
    "x"
   ]
  },
  {
   "cell_type": "code",
   "execution_count": 6,
   "id": "e7c47033",
   "metadata": {},
   "outputs": [
    {
     "data": {
      "text/plain": [
       "array([0, 0, 0, 1, 1, 1, 1, 2, 2, 3, 3, 4, 4, 4, 4, 4, 5, 6, 6, 6, 7, 7,\n",
       "       7, 7, 8, 8])"
      ]
     },
     "execution_count": 6,
     "metadata": {},
     "output_type": "execute_result"
    }
   ],
   "source": [
    "y"
   ]
  },
  {
   "cell_type": "markdown",
   "id": "ff8398c4",
   "metadata": {},
   "source": [
    "Kakšne so koordinate polj pod njimi od njih?"
   ]
  },
  {
   "cell_type": "code",
   "execution_count": 7,
   "id": "7f50b936",
   "metadata": {},
   "outputs": [],
   "source": [
    "newx, newy = x, (y + 1) % h"
   ]
  },
  {
   "cell_type": "markdown",
   "id": "3b3a050a",
   "metadata": {},
   "source": [
    "`newy` v resnici potrebujemo, `newx`, ki je kar enak `x`, pa nam bo prišel prav kasneje.\n",
    "\n",
    "Katera izmed teh polj, na katera bi šli tile, so prosta?"
   ]
  },
  {
   "cell_type": "code",
   "execution_count": 8,
   "id": "dd6b3610",
   "metadata": {},
   "outputs": [],
   "source": [
    "can_move = state[newy, newx] == \".\""
   ]
  },
  {
   "cell_type": "code",
   "execution_count": 9,
   "id": "8c6e997b",
   "metadata": {},
   "outputs": [
    {
     "data": {
      "text/plain": [
       "array([ True, False,  True, False,  True,  True,  True, False,  True,\n",
       "       False,  True, False, False,  True,  True,  True,  True,  True,\n",
       "       False,  True,  True,  True, False, False, False, False])"
      ]
     },
     "execution_count": 9,
     "metadata": {},
     "output_type": "execute_result"
    }
   ],
   "source": [
    "can_move"
   ]
  },
  {
   "cell_type": "markdown",
   "id": "cd235421",
   "metadata": {},
   "source": [
    "Še enkrat izpišimo stanje (da ga bomo lažje primerjali), potem premaknimo tiste, ki jih lahko in potem ponovno izpišimo stanje."
   ]
  },
  {
   "cell_type": "code",
   "execution_count": 10,
   "id": "ab6e5121",
   "metadata": {},
   "outputs": [
    {
     "data": {
      "text/plain": [
       "array([['v', '.', '.', '.', '>', '>', '.', 'v', 'v', '>'],\n",
       "       ['.', 'v', 'v', '>', '>', '.', 'v', 'v', '.', '.'],\n",
       "       ['>', '>', '.', '>', 'v', '>', '.', '.', '.', 'v'],\n",
       "       ['>', '>', 'v', '>', '>', '.', '>', '.', 'v', '.'],\n",
       "       ['v', '>', 'v', '.', 'v', 'v', '.', 'v', '.', '.'],\n",
       "       ['>', '.', '>', '>', '.', '.', 'v', '.', '.', '.'],\n",
       "       ['.', 'v', 'v', '.', '.', '>', '.', '>', 'v', '.'],\n",
       "       ['v', '.', 'v', '.', '.', '>', '>', 'v', '.', 'v'],\n",
       "       ['.', '.', '.', '.', 'v', '.', '.', 'v', '.', '>']], dtype='<U1')"
      ]
     },
     "execution_count": 10,
     "metadata": {},
     "output_type": "execute_result"
    }
   ],
   "source": [
    "state"
   ]
  },
  {
   "cell_type": "code",
   "execution_count": 11,
   "id": "78504c5e",
   "metadata": {},
   "outputs": [],
   "source": [
    "state[y[can_move], x[can_move]] = \".\"\n",
    "state[newy[can_move], newx[can_move]] = \"v\""
   ]
  },
  {
   "cell_type": "code",
   "execution_count": 12,
   "id": "c78ab277",
   "metadata": {},
   "outputs": [
    {
     "data": {
      "text/plain": [
       "array([['.', '.', '.', '.', '>', '>', '.', 'v', '.', '>'],\n",
       "       ['v', 'v', '.', '>', '>', '.', '.', '.', 'v', '.'],\n",
       "       ['>', '>', 'v', '>', 'v', '>', 'v', 'v', '.', '.'],\n",
       "       ['>', '>', 'v', '>', '>', '.', '>', '.', '.', 'v'],\n",
       "       ['v', '>', 'v', '.', '.', '.', '.', '.', 'v', '.'],\n",
       "       ['>', '.', '>', '>', 'v', 'v', '.', 'v', '.', '.'],\n",
       "       ['.', '.', 'v', '.', '.', '>', 'v', '>', '.', '.'],\n",
       "       ['.', 'v', '.', '.', '.', '>', '>', 'v', 'v', 'v'],\n",
       "       ['v', '.', 'v', '.', 'v', '.', '.', 'v', '.', '>']], dtype='<U1')"
      ]
     },
     "execution_count": 12,
     "metadata": {},
     "output_type": "execute_result"
    }
   ],
   "source": [
    "state"
   ]
  },
  {
   "cell_type": "markdown",
   "id": "ebe740fd",
   "metadata": {},
   "source": [
    "Deluje, ne? Zložimo vse skupaj v program, premike v desno in dol pa zložimo v zanko, saj je večina dela enaka ne glede na smer."
   ]
  },
  {
   "cell_type": "code",
   "execution_count": 13,
   "id": "ad99fd0f",
   "metadata": {},
   "outputs": [
    {
     "name": "stdout",
     "output_type": "stream",
     "text": [
      "534\n"
     ]
    }
   ],
   "source": [
    "state = np.array([list(v.strip()) for v in open(\"input.txt\")])\n",
    "\n",
    "changes = True\n",
    "step = 0\n",
    "h, w = state.shape\n",
    "while changes:\n",
    "    changes = False\n",
    "    for dir in \">v\":\n",
    "        y, x = np.nonzero(state == dir)\n",
    "        if dir == \">\":\n",
    "            xnew, ynew = (x + 1) % w, y\n",
    "        else:\n",
    "            xnew, ynew = x, (y + 1) % h\n",
    "        can_move = state[ynew, xnew] == \".\"\n",
    "        state[y[can_move], x[can_move]] = \".\"\n",
    "        state[ynew[can_move], xnew[can_move]] = dir\n",
    "        changes = changes or np.any(can_move)\n",
    "    step += 1\n",
    "    \n",
    "print(step)"
   ]
  },
  {
   "cell_type": "markdown",
   "id": "c5dd069a",
   "metadata": {},
   "source": [
    "Rešitev je lepa, ker vse teče lepo, vzporedno, z minimalnim številom zank, pa tudi kar razumljivo je.\n",
    "\n",
    "S tem se naš tečaj končuje. Upam, da ste prišli čez, se veliko naučili in se ob tem tudi zabavali.\n",
    "\n",
    "Srečno novo leto!"
   ]
  }
 ],
 "metadata": {
  "kernelspec": {
   "display_name": "Python 3 (ipykernel)",
   "language": "python",
   "name": "python3"
  },
  "language_info": {
   "codemirror_mode": {
    "name": "ipython",
    "version": 3
   },
   "file_extension": ".py",
   "mimetype": "text/x-python",
   "name": "python",
   "nbconvert_exporter": "python",
   "pygments_lexer": "ipython3",
   "version": "3.10.0"
  }
 },
 "nbformat": 4,
 "nbformat_minor": 5
}
