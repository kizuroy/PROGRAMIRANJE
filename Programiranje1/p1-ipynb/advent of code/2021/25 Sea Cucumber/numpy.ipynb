{
 "cells": [
  {
   "cell_type": "markdown",
   "id": "f62d633c",
   "metadata": {},
   "source": [
    "## Neničelni elementi\n",
    "\n",
    "`numpy` je zanimiv modul, ker ima precej funkcij, ki utegnejo izgledati nenavadne, v resnici pa so resno uporabne. Tipičen primer je `np.nonzero`, ki vrne indekse neničelnih elementov."
   ]
  },
  {
   "cell_type": "code",
   "execution_count": 1,
   "id": "4299b46e",
   "metadata": {},
   "outputs": [
    {
     "data": {
      "text/plain": [
       "(array([0, 2, 3]),)"
      ]
     },
     "execution_count": 1,
     "metadata": {},
     "output_type": "execute_result"
    }
   ],
   "source": [
    "import numpy as np\n",
    "\n",
    "a = np.array([5, 0, 1, 2, 0])\n",
    "np.nonzero(a)"
   ]
  },
  {
   "cell_type": "markdown",
   "id": "7b280f86",
   "metadata": {},
   "source": [
    "Zakaj je vrnil terko z enim elementom? Ker pač vedno vrne terko, elementov v njej pa je toliko, kolikor je dimenzij. Če funkciji `nonzero` podamo dvodimenzionalno tabelo, vrne terko z dvema tabelama. Prva vsebuje indekse po prvi osi, druga po drugi."
   ]
  },
  {
   "cell_type": "code",
   "execution_count": 2,
   "id": "675ee2f9",
   "metadata": {},
   "outputs": [
    {
     "data": {
      "text/plain": [
       "(array([0, 0, 1, 1, 2, 2]), array([0, 1, 1, 2, 0, 2]))"
      ]
     },
     "execution_count": 2,
     "metadata": {},
     "output_type": "execute_result"
    }
   ],
   "source": [
    "a = np.array([[5, 8, 0],\n",
    "              [0, 1, 2],\n",
    "              [1, 0, 3]])\n",
    "\n",
    "np.nonzero(a)"
   ]
  },
  {
   "cell_type": "markdown",
   "id": "87ee7078",
   "metadata": {},
   "source": [
    "To je videti hecno, ampak to so točno indeksi, ki jih potrebujemo, da preberemo te elemente."
   ]
  },
  {
   "cell_type": "code",
   "execution_count": 3,
   "id": "a965d298",
   "metadata": {},
   "outputs": [],
   "source": [
    "x, y = np.nonzero(a)"
   ]
  },
  {
   "cell_type": "code",
   "execution_count": 4,
   "id": "814e1664",
   "metadata": {},
   "outputs": [
    {
     "data": {
      "text/plain": [
       "array([5, 8, 1, 2, 1, 3])"
      ]
     },
     "execution_count": 4,
     "metadata": {},
     "output_type": "execute_result"
    }
   ],
   "source": [
    "a[x, y]"
   ]
  },
  {
   "cell_type": "markdown",
   "id": "d93361d8",
   "metadata": {},
   "source": [
    "Ker je par indeksov v resnici terka, gre celo tako."
   ]
  },
  {
   "cell_type": "code",
   "execution_count": 5,
   "id": "cd2088eb",
   "metadata": {},
   "outputs": [
    {
     "data": {
      "text/plain": [
       "array([5, 8, 1, 2, 1, 3])"
      ]
     },
     "execution_count": 5,
     "metadata": {},
     "output_type": "execute_result"
    }
   ],
   "source": [
    "a[np.nonzero(a)]"
   ]
  },
  {
   "cell_type": "markdown",
   "id": "1c2a2970",
   "metadata": {},
   "source": [
    "Še vedno je videti precej brez zveze. Zakaj bi nas tako zelo zanimali neničelni elementi? Navadno nas res ne, znajo pa nas zanimati neničelni elementi matrike `bool`-ov. To so elementi, ki ustrezajo določenemu pogoju. Tole, recimo, so indeksi vseh elementov večjih od 1."
   ]
  },
  {
   "cell_type": "code",
   "execution_count": 6,
   "id": "ee5af658",
   "metadata": {},
   "outputs": [
    {
     "data": {
      "text/plain": [
       "(array([0, 0, 1, 2]), array([0, 1, 2, 2]))"
      ]
     },
     "execution_count": 6,
     "metadata": {},
     "output_type": "execute_result"
    }
   ],
   "source": [
    "np.nonzero(a > 1)"
   ]
  },
  {
   "cell_type": "markdown",
   "id": "2e13c27d",
   "metadata": {},
   "source": [
    "## Naloga\n",
    "\n",
    "Za konec se spodobi reševati zadnjo nalogo, 25, [Sea Cucumber](https://adventofcode.com/2021/day/25).\n",
    "\n",
    "Najprej nekaj, o čemer doslej nismo posebej govorili: tabele lahko vsebujejo tudi nize. Jaz sem si pri reševanju te naloge pripravil tabelico, katere elementi so bili v resnici črke `.`, `>` in `<`.\n",
    "\n",
    "Zdaj pa nasveti. V vsakem koraku ugotovite koordinate vseh `>`. Pripravite koordinate desno od njih. Nato pripravite masko, ki pove, za katere od njih so koordinate desno od njih (z modulom po deljenju s širino, da skočimo z desnega roba na levega) proste. S temi koordinatami in masko potem spraznite trenutna polja in nastanite nove. Isto ponovite za `v`; če se znajdete, bo to kar v zanki čez `\">v\"`. Vse skupaj ponavljamo, dokler se uspe komu premikati.\n",
    "\n",
    "Ni težko in po nalogi boste imeli dober občutek, da ste se nekaj naučili. Upam. :)"
   ]
  }
 ],
 "metadata": {
  "kernelspec": {
   "display_name": "Python 3 (ipykernel)",
   "language": "python",
   "name": "python3"
  },
  "language_info": {
   "codemirror_mode": {
    "name": "ipython",
    "version": 3
   },
   "file_extension": ".py",
   "mimetype": "text/x-python",
   "name": "python",
   "nbconvert_exporter": "python",
   "pygments_lexer": "ipython3",
   "version": "3.10.0"
  }
 },
 "nbformat": 4,
 "nbformat_minor": 5
}
