{
 "cells": [
  {
   "cell_type": "markdown",
   "id": "452df515",
   "metadata": {},
   "source": [
    "## Dan 1: Sensor Sweep\n",
    "\n",
    "Če nalogo \"oluščimo\" zgodbice, je takšna: imamo seznam števil in zanima nas koliko je števil, ki jim sledi večje število. Števila so podana v datoteki, po eno število na vrstico. Preberimo jih v tabelo."
   ]
  },
  {
   "cell_type": "code",
   "execution_count": 1,
   "id": "0fed823c",
   "metadata": {},
   "outputs": [],
   "source": [
    "import numpy as np\n",
    "\n",
    "globine = np.array([int(x) for x in open(\"example.txt\")])"
   ]
  },
  {
   "cell_type": "markdown",
   "id": "8d3c7614",
   "metadata": {},
   "source": [
    "`numpy` ima tudi nekaj funkcij za branje datotek. Ena od njih je `loadtxt`, ki zna prebrati podatke v točno takšni obliki (in še kakšni malo bolj zapleteni, tudi)."
   ]
  },
  {
   "cell_type": "code",
   "execution_count": 2,
   "id": "6383b6d2",
   "metadata": {},
   "outputs": [],
   "source": [
    "globine = np.loadtxt(\"example.txt\", dtype=int)"
   ]
  },
  {
   "cell_type": "markdown",
   "id": "f78adeff",
   "metadata": {},
   "source": [
    "Tako ali drugače dobimo tabelo. Videti je tako."
   ]
  },
  {
   "cell_type": "code",
   "execution_count": 3,
   "id": "6a65a85f",
   "metadata": {},
   "outputs": [
    {
     "data": {
      "text/plain": [
       "array([199, 200, 208, 210, 200, 207, 240, 269, 260, 263])"
      ]
     },
     "execution_count": 3,
     "metadata": {},
     "output_type": "execute_result"
    }
   ],
   "source": [
    "globine"
   ]
  },
  {
   "cell_type": "markdown",
   "id": "36e8ebac",
   "metadata": {},
   "source": [
    "### Prvi del\n",
    "\n",
    "Če bi programirali brez `numpy`-ja, bi naredili tole:"
   ]
  },
  {
   "cell_type": "code",
   "execution_count": 4,
   "id": "2aab6ef4",
   "metadata": {},
   "outputs": [
    {
     "name": "stdout",
     "output_type": "stream",
     "text": [
      "7\n"
     ]
    }
   ],
   "source": [
    "stej = 0\n",
    "for x, y in zip(globine[1:], globine):\n",
    "    if x > y:\n",
    "        stej += 1\n",
    "print(stej)"
   ]
  },
  {
   "cell_type": "markdown",
   "id": "2cc3aa9d",
   "metadata": {},
   "source": [
    "Ali pa kar (ker je `True` praktično enak `1` in `False` enak `0`):"
   ]
  },
  {
   "cell_type": "code",
   "execution_count": 5,
   "id": "4846e1ae",
   "metadata": {},
   "outputs": [
    {
     "name": "stdout",
     "output_type": "stream",
     "text": [
      "7\n"
     ]
    }
   ],
   "source": [
    "stej = 0\n",
    "for x, y in zip(globine[1:], globine):\n",
    "    stej += x > y\n",
    "print(stej)"
   ]
  },
  {
   "cell_type": "markdown",
   "id": "60e21b91",
   "metadata": {},
   "source": [
    "Ali pa celo"
   ]
  },
  {
   "cell_type": "code",
   "execution_count": 6,
   "id": "171b24ee",
   "metadata": {},
   "outputs": [
    {
     "data": {
      "text/plain": [
       "7"
      ]
     },
     "execution_count": 6,
     "metadata": {},
     "output_type": "execute_result"
    }
   ],
   "source": [
    "sum(x > y for x, y in zip(globine[1:], globine))"
   ]
  },
  {
   "cell_type": "markdown",
   "id": "f8f330ae",
   "metadata": {},
   "source": [
    "Praktično isto bomo naredili v `numpy`-ju. Bistvo `numpy`-ja pa je v tem, da se trudimo, da za nobeno ceno ne bi napisali zanke. Zanka se mora zgoditi v `numpy`-ju. Namesto seštevanja v Pythonovi zanki, moramo seštevati dve tabeli v numpyju. Namesto primerjanja v zanki, moramo primerjati v numpyju. V bistvu nas zanima tole:"
   ]
  },
  {
   "cell_type": "code",
   "execution_count": 7,
   "id": "d204a0e6",
   "metadata": {},
   "outputs": [
    {
     "ename": "ValueError",
     "evalue": "operands could not be broadcast together with shapes (9,) (10,) ",
     "output_type": "error",
     "traceback": [
      "\u001b[0;31m---------------------------------------------------------------------------\u001b[0m",
      "\u001b[0;31mValueError\u001b[0m                                Traceback (most recent call last)",
      "\u001b[0;32m/var/folders/f9/lgq5ysmn24j3lkss6zkgmtr00000gn/T/ipykernel_20647/372271466.py\u001b[0m in \u001b[0;36m<module>\u001b[0;34m\u001b[0m\n\u001b[0;32m----> 1\u001b[0;31m \u001b[0mglobine\u001b[0m\u001b[0;34m[\u001b[0m\u001b[0;36m1\u001b[0m\u001b[0;34m:\u001b[0m\u001b[0;34m]\u001b[0m \u001b[0;34m>\u001b[0m \u001b[0mglobine\u001b[0m\u001b[0;34m\u001b[0m\u001b[0;34m\u001b[0m\u001b[0m\n\u001b[0m",
      "\u001b[0;31mValueError\u001b[0m: operands could not be broadcast together with shapes (9,) (10,) "
     ]
    }
   ],
   "source": [
    "globine[1:] > globine"
   ]
  },
  {
   "cell_type": "markdown",
   "id": "70f49e7f",
   "metadata": {},
   "source": [
    "Numpy se pritoži, da tabeli nimata enako elementov. Numpy ni zip, popariti mora vse elemente. Zipa ni motilo, da je drugi seznam za en element daljši (zadnjega elementa pač ne primerjamo z nobenih elementom za njim) in ga je preprosto ignoriral. Numpy tega ne more: tabeli, ki ju sešteva, odšteva, množi, primerja ... morata biti enako dolgi. Zadnji element moramo odbiti sami."
   ]
  },
  {
   "cell_type": "code",
   "execution_count": 8,
   "id": "6fabcf8d",
   "metadata": {},
   "outputs": [
    {
     "data": {
      "text/plain": [
       "array([ True,  True,  True, False,  True,  True,  True, False,  True])"
      ]
     },
     "execution_count": 8,
     "metadata": {},
     "output_type": "execute_result"
    }
   ],
   "source": [
    "globine[1:] > globine[:-1]"
   ]
  },
  {
   "cell_type": "markdown",
   "id": "d3bfe24e",
   "metadata": {},
   "source": [
    "To, odbijanje zadnjega ali prvega elementa je nekaj, kar bomo morali stalno početi (in se bomo pri tem pogosto tudi ušteli za kak element ali dva).\n",
    "\n",
    "Tako kot prej, v čistem Pythonu, tudi tu vsak `True` predstavlja par elementov, pri katerem je bil drugi večji od prvega. In tako kot prej jih moramo tudi zdaj sešteti, le da ne bomo poklicali `sum`, temveč `np.sum`. Sicer bi delal tudi `sum`, a `np.sum` je za numpyjeve tabele veliko hitrejši."
   ]
  },
  {
   "cell_type": "code",
   "execution_count": 9,
   "id": "c5062758",
   "metadata": {},
   "outputs": [
    {
     "data": {
      "text/plain": [
       "7"
      ]
     },
     "execution_count": 9,
     "metadata": {},
     "output_type": "execute_result"
    }
   ],
   "source": [
    "np.sum(globine[1:] > globine[:-1])"
   ]
  },
  {
   "cell_type": "markdown",
   "id": "40d68baf",
   "metadata": {},
   "source": [
    "### Drugi del\n",
    "\n",
    "Drugi del pravi, da moramo namesto posamičnih globin opazovati vsote po treh zaporednih globin.\n",
    "\n",
    "#### Naivna rešitev\n",
    "\n",
    "Naloge se najprej lotimo naivno, sestavimo seznam vsot trojk. Čisto tako, za vajo.\n",
    "\n",
    "Sešteti moramo naslednje tri tabele."
   ]
  },
  {
   "cell_type": "code",
   "execution_count": 10,
   "id": "fd828e6e",
   "metadata": {},
   "outputs": [
    {
     "data": {
      "text/plain": [
       "array([199, 200, 208, 210, 200, 207, 240, 269])"
      ]
     },
     "execution_count": 10,
     "metadata": {},
     "output_type": "execute_result"
    }
   ],
   "source": [
    "globine[:-2]"
   ]
  },
  {
   "cell_type": "code",
   "execution_count": 11,
   "id": "bc550f44",
   "metadata": {},
   "outputs": [
    {
     "data": {
      "text/plain": [
       "array([200, 208, 210, 200, 207, 240, 269, 260])"
      ]
     },
     "execution_count": 11,
     "metadata": {},
     "output_type": "execute_result"
    }
   ],
   "source": [
    "globine[1:-1]"
   ]
  },
  {
   "cell_type": "code",
   "execution_count": 12,
   "id": "e576d72c",
   "metadata": {},
   "outputs": [
    {
     "data": {
      "text/plain": [
       "array([208, 210, 200, 207, 240, 269, 260, 263])"
      ]
     },
     "execution_count": 12,
     "metadata": {},
     "output_type": "execute_result"
    }
   ],
   "source": [
    "globine[2:]"
   ]
  },
  {
   "cell_type": "markdown",
   "id": "e36f8d5c",
   "metadata": {},
   "source": [
    "Enkrat smo odbili zadnja dva elementa, enkrat prvega in zadnjega, enkrat prva dva.\n",
    "\n",
    "Te tri torej seštejemo."
   ]
  },
  {
   "cell_type": "code",
   "execution_count": 13,
   "id": "6de33b56",
   "metadata": {},
   "outputs": [],
   "source": [
    "vsote = globine[:-2] + globine[1:-1] + globine[2:]"
   ]
  },
  {
   "cell_type": "code",
   "execution_count": 14,
   "id": "bf5c8123",
   "metadata": {},
   "outputs": [
    {
     "data": {
      "text/plain": [
       "array([607, 618, 618, 617, 647, 716, 769, 792])"
      ]
     },
     "execution_count": 14,
     "metadata": {},
     "output_type": "execute_result"
    }
   ],
   "source": [
    "vsote"
   ]
  },
  {
   "cell_type": "markdown",
   "id": "839923f0",
   "metadata": {},
   "source": [
    "Naprej pa gre tako kot prej."
   ]
  },
  {
   "cell_type": "code",
   "execution_count": 15,
   "id": "bfa76348",
   "metadata": {},
   "outputs": [
    {
     "data": {
      "text/plain": [
       "5"
      ]
     },
     "execution_count": 15,
     "metadata": {},
     "output_type": "execute_result"
    }
   ],
   "source": [
    "np.sum(vsote[1:] > vsote[:-1])"
   ]
  },
  {
   "cell_type": "markdown",
   "id": "d3eb584e",
   "metadata": {},
   "source": [
    "#### Premišljena rešitev\n",
    "\n",
    "Kakšna je pravzaprav razlika med dvema zaporednima trojkama? Kdaj je vsota, recimo, petega, šestega in sedmega elementa večja od vsote četrtega, petega in šestega? Glede na to, da peti in šesti element nastopata v obeh trojkah, bo prva trojka večja od druge, kadar je sedmi element večji od četrtega. Drugi del naloge je torej v bistvu enak prvemu, le da namesto parov zaporednih elementov primerjamo pare, katerih indeksi se razlikujejo za 3."
   ]
  },
  {
   "cell_type": "code",
   "execution_count": 16,
   "id": "8ef8bc25",
   "metadata": {},
   "outputs": [
    {
     "data": {
      "text/plain": [
       "5"
      ]
     },
     "execution_count": 16,
     "metadata": {},
     "output_type": "execute_result"
    }
   ],
   "source": [
    "np.sum(globine[3:] > globine[:-3])"
   ]
  },
  {
   "cell_type": "markdown",
   "id": "9f9b3fe2",
   "metadata": {},
   "source": [
    "Ta rešitev je seveda boljša od naivne, le o numpyju nas nauči manj. No, nekaj pa le: malo smo utrdili odbijanje elementov. Če odbijemo tri na začetku, moramo v drugem tri na koncu, da bosta spet enako velika."
   ]
  }
 ],
 "metadata": {
  "kernelspec": {
   "display_name": "Python 3 (ipykernel)",
   "language": "python",
   "name": "python3"
  },
  "language_info": {
   "codemirror_mode": {
    "name": "ipython",
    "version": 3
   },
   "file_extension": ".py",
   "mimetype": "text/x-python",
   "name": "python",
   "nbconvert_exporter": "python",
   "pygments_lexer": "ipython3",
   "version": "3.10.0"
  }
 },
 "nbformat": 4,
 "nbformat_minor": 5
}
