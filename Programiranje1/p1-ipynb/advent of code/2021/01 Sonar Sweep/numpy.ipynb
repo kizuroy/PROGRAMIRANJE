{
 "cells": [
  {
   "cell_type": "markdown",
   "id": "10c485b1",
   "metadata": {},
   "source": [
    "## Uvod v `numpy`: tabele, indeksiranje, operacije\n",
    "\n",
    "Bistvo tegale bo spoznavanje modula `numpy` prek nalog iz Advent of Code 2021. Letos je bilo precej nalog, ki se jih je elegantno rešilo s tem modulom. Izbral sem jih in jih uredil glede na to, kaj iz `numpy`-ja potrebujemo. Pred vsako nalogo bom razložil nekaj stvari, ki nam pridejo prav. Potem je ideja, da rešitev nalogo. Potem pa pogledate mojo rešitev. Po tem je vedno koristno, če še sami (recimo po spominu, brez škiljenja) rešite nalogo z enakim trikom, če ste jo prej kako drugače (sploh, če je bil tisti \"kako drugače\" nepotrebno zapleten).\n",
    "\n",
    "Modula numpy navadno ne uvozimo z `import numpy`, temveč z"
   ]
  },
  {
   "cell_type": "code",
   "execution_count": 1,
   "id": "5c7e2e8e",
   "metadata": {},
   "outputs": [],
   "source": [
    "import numpy as np"
   ]
  },
  {
   "cell_type": "markdown",
   "id": "17d06b86",
   "metadata": {},
   "source": [
    "Tako počnejo praktično vsi. To pa zato, ker njegove funkcije kličemo res velikokrat in se zelo pozna, ali moramo pisati, na primer, `numpy.sum` ali `np.sum`. Sploh, če imamo `numpy.sum(numpy.any(~numpy.any(x, axis=1)))`."
   ]
  },
  {
   "cell_type": "markdown",
   "id": "e0a900ca",
   "metadata": {},
   "source": [
    "`numpy` je modul za delo s tabelami. (Včasih se mi bo zareklo in bom namesto \"tabela\" rekel matrika. To ni najbolj lepo, ni pa vedno narobe.) Te so lahko poljubno velike, poljubno dimenzionalne in vsebujejo poljubne reči. Za razliko od Pythonovih seznamov `numpy`-jeve tabele vedno vsebujejo elemente istega tipa - same `int`-e, same `float`-e, same `bool`-e...\n",
    "\n",
    "Tabelo najprejprosteje pripravimo s funkcijo `numpy.array`, ki ji kot argument podamo običajni Pythonov seznam. Če vsebuje same `int`-e, bo to tabela `int`-ov, če bo vmes kakšen `float`, bo tabela `float`-ov, če bodo sami `bool`-i, bo tabela `bool`-ov. Da se še kaj drugega, vendar nas za zdaj ne zanima."
   ]
  },
  {
   "cell_type": "code",
   "execution_count": 2,
   "id": "a9d99b0e",
   "metadata": {},
   "outputs": [],
   "source": [
    "a = np.array([5, 8, 3, 1, 10, 5])"
   ]
  },
  {
   "cell_type": "code",
   "execution_count": 3,
   "id": "9633f032",
   "metadata": {},
   "outputs": [
    {
     "data": {
      "text/plain": [
       "array([ 5,  8,  3,  1, 10,  5])"
      ]
     },
     "execution_count": 3,
     "metadata": {},
     "output_type": "execute_result"
    }
   ],
   "source": [
    "a"
   ]
  },
  {
   "cell_type": "markdown",
   "id": "7c278279",
   "metadata": {},
   "source": [
    "Tale `a` se obnaša nekoliko podobno kot Pythonov seznam. Lahko ga indeksiramo - z leve, z desne in z vsakršnimi rezinami."
   ]
  },
  {
   "cell_type": "code",
   "execution_count": 4,
   "id": "b41daf1f",
   "metadata": {},
   "outputs": [
    {
     "data": {
      "text/plain": [
       "3"
      ]
     },
     "execution_count": 4,
     "metadata": {},
     "output_type": "execute_result"
    }
   ],
   "source": [
    "a[2]"
   ]
  },
  {
   "cell_type": "code",
   "execution_count": 5,
   "id": "4c25ce91",
   "metadata": {},
   "outputs": [
    {
     "data": {
      "text/plain": [
       "1"
      ]
     },
     "execution_count": 5,
     "metadata": {},
     "output_type": "execute_result"
    }
   ],
   "source": [
    "a[-3]"
   ]
  },
  {
   "cell_type": "code",
   "execution_count": 6,
   "id": "9329b726",
   "metadata": {},
   "outputs": [
    {
     "data": {
      "text/plain": [
       "array([ 3,  1, 10])"
      ]
     },
     "execution_count": 6,
     "metadata": {},
     "output_type": "execute_result"
    }
   ],
   "source": [
    "a[2:5]"
   ]
  },
  {
   "cell_type": "markdown",
   "id": "bac82b86",
   "metadata": {},
   "source": [
    "Tako kot v Pythonovih seznamih lahko vse elemente razen prvega dobimo z"
   ]
  },
  {
   "cell_type": "code",
   "execution_count": 7,
   "id": "50425246",
   "metadata": {},
   "outputs": [
    {
     "data": {
      "text/plain": [
       "array([ 8,  3,  1, 10,  5])"
      ]
     },
     "execution_count": 7,
     "metadata": {},
     "output_type": "execute_result"
    }
   ],
   "source": [
    "a[1:]"
   ]
  },
  {
   "cell_type": "markdown",
   "id": "67d4bdd8",
   "metadata": {},
   "source": [
    "in vse razen zadnjega z"
   ]
  },
  {
   "cell_type": "code",
   "execution_count": 8,
   "id": "76834ec1",
   "metadata": {},
   "outputs": [
    {
     "data": {
      "text/plain": [
       "array([ 5,  8,  3,  1, 10])"
      ]
     },
     "execution_count": 8,
     "metadata": {},
     "output_type": "execute_result"
    }
   ],
   "source": [
    "a[:-1]"
   ]
  },
  {
   "cell_type": "markdown",
   "id": "f81fc87b",
   "metadata": {},
   "source": [
    "Od Pythonovih seznamov pa se razlikuje po tem, da računske operacije nad njim delujejo \"po elementih\"."
   ]
  },
  {
   "cell_type": "code",
   "execution_count": 9,
   "id": "0f6a5308",
   "metadata": {},
   "outputs": [
    {
     "data": {
      "text/plain": [
       "array([ 5,  8,  3,  1, 10,  5])"
      ]
     },
     "execution_count": 9,
     "metadata": {},
     "output_type": "execute_result"
    }
   ],
   "source": [
    "a"
   ]
  },
  {
   "cell_type": "code",
   "execution_count": 10,
   "id": "026552eb",
   "metadata": {},
   "outputs": [
    {
     "data": {
      "text/plain": [
       "array([15, 18, 13, 11, 20, 15])"
      ]
     },
     "execution_count": 10,
     "metadata": {},
     "output_type": "execute_result"
    }
   ],
   "source": [
    "a + 10"
   ]
  },
  {
   "cell_type": "code",
   "execution_count": 11,
   "id": "506f9534",
   "metadata": {},
   "outputs": [
    {
     "data": {
      "text/plain": [
       "array([35, 56, 21,  7, 70, 35])"
      ]
     },
     "execution_count": 11,
     "metadata": {},
     "output_type": "execute_result"
    }
   ],
   "source": [
    "a * 7"
   ]
  },
  {
   "cell_type": "code",
   "execution_count": 12,
   "id": "6bdd6d3c",
   "metadata": {},
   "outputs": [
    {
     "data": {
      "text/plain": [
       "array([ 25,  64,   9,   1, 100,  25])"
      ]
     },
     "execution_count": 12,
     "metadata": {},
     "output_type": "execute_result"
    }
   ],
   "source": [
    "a ** 2"
   ]
  },
  {
   "cell_type": "markdown",
   "id": "8e7f016a",
   "metadata": {},
   "source": [
    "In celo"
   ]
  },
  {
   "cell_type": "code",
   "execution_count": 13,
   "id": "415cf14e",
   "metadata": {},
   "outputs": [
    {
     "data": {
      "text/plain": [
       "array([  32,  256,    8,    2, 1024,   32], dtype=int32)"
      ]
     },
     "execution_count": 13,
     "metadata": {},
     "output_type": "execute_result"
    }
   ],
   "source": [
    "2 ** a"
   ]
  },
  {
   "cell_type": "markdown",
   "id": "71f6666c",
   "metadata": {},
   "source": [
    "Še bolj pomembno: tudi računske operacije med dvema tabelama se odvijajo po elementih."
   ]
  },
  {
   "cell_type": "code",
   "execution_count": 14,
   "id": "378f9454",
   "metadata": {},
   "outputs": [],
   "source": [
    "b = np.array([4, 1, 12, 2, 1, -5])"
   ]
  },
  {
   "cell_type": "code",
   "execution_count": 15,
   "id": "c0e2e381",
   "metadata": {},
   "outputs": [
    {
     "data": {
      "text/plain": [
       "array([ 5,  8,  3,  1, 10,  5])"
      ]
     },
     "execution_count": 15,
     "metadata": {},
     "output_type": "execute_result"
    }
   ],
   "source": [
    "a"
   ]
  },
  {
   "cell_type": "code",
   "execution_count": 16,
   "id": "3a761479",
   "metadata": {},
   "outputs": [
    {
     "data": {
      "text/plain": [
       "array([ 4,  1, 12,  2,  1, -5])"
      ]
     },
     "execution_count": 16,
     "metadata": {},
     "output_type": "execute_result"
    }
   ],
   "source": [
    "b"
   ]
  },
  {
   "cell_type": "code",
   "execution_count": 17,
   "id": "5d6e6690",
   "metadata": {},
   "outputs": [
    {
     "data": {
      "text/plain": [
       "array([ 1,  7, -9, -1,  9, 10])"
      ]
     },
     "execution_count": 17,
     "metadata": {},
     "output_type": "execute_result"
    }
   ],
   "source": [
    "a - b"
   ]
  },
  {
   "cell_type": "code",
   "execution_count": 18,
   "id": "6bd80769",
   "metadata": {},
   "outputs": [
    {
     "data": {
      "text/plain": [
       "array([ 20,   8,  36,   2,  10, -25])"
      ]
     },
     "execution_count": 18,
     "metadata": {},
     "output_type": "execute_result"
    }
   ],
   "source": [
    "a * b"
   ]
  },
  {
   "cell_type": "markdown",
   "id": "62345b0d",
   "metadata": {},
   "source": [
    "Za tole je pomembno, da sta tabeli enako veliki. Če ne bi bili, bi se numpy pač pritožil.\n",
    "\n",
    "Podobno se vedejo operacije, kot so `<` in `==`."
   ]
  },
  {
   "cell_type": "code",
   "execution_count": 19,
   "id": "f5924be2",
   "metadata": {},
   "outputs": [
    {
     "data": {
      "text/plain": [
       "array([False,  True, False, False,  True, False])"
      ]
     },
     "execution_count": 19,
     "metadata": {},
     "output_type": "execute_result"
    }
   ],
   "source": [
    "b == 1"
   ]
  },
  {
   "cell_type": "code",
   "execution_count": 20,
   "id": "88fbf558",
   "metadata": {},
   "outputs": [
    {
     "data": {
      "text/plain": [
       "array([ True,  True, False, False,  True,  True])"
      ]
     },
     "execution_count": 20,
     "metadata": {},
     "output_type": "execute_result"
    }
   ],
   "source": [
    "a > b"
   ]
  },
  {
   "cell_type": "markdown",
   "id": "c37fd1d0",
   "metadata": {},
   "source": [
    "Kako ugotoviti, koliko `1` je v tabeli `b`? (Dve sta.) Tabele nimajo metode `count`. Je ne potrebujejo. Naredimo tako:"
   ]
  },
  {
   "cell_type": "code",
   "execution_count": 21,
   "id": "b03eed31",
   "metadata": {},
   "outputs": [
    {
     "data": {
      "text/plain": [
       "2"
      ]
     },
     "execution_count": 21,
     "metadata": {},
     "output_type": "execute_result"
    }
   ],
   "source": [
    "sum(b == 1)"
   ]
  },
  {
   "cell_type": "markdown",
   "id": "0af289ad",
   "metadata": {},
   "source": [
    "Vendar tega ne počnemo - nikoli. `numpy` ima svoj `sum`, `np.sum`, ki je veliko hitrejši od Pythonovega. Pa še nekatere superpowers ima. Poklicati moramo torej"
   ]
  },
  {
   "cell_type": "code",
   "execution_count": 22,
   "id": "f2bb40d5",
   "metadata": {},
   "outputs": [
    {
     "data": {
      "text/plain": [
       "2"
      ]
     },
     "execution_count": 22,
     "metadata": {},
     "output_type": "execute_result"
    }
   ],
   "source": [
    "np.sum(b == 1)"
   ]
  },
  {
   "cell_type": "markdown",
   "id": "ec45cf93",
   "metadata": {},
   "source": [
    "Rezultat je isti in tudi pri hitrosti se zdaj seveda še ne pozna. Nekoč pa se bo, zato se naučite delati tako.\n",
    "\n",
    "Še eno vprašanje, preden se lotimo naloge: kako bi ugotovili, koliko elementov `a` je večjih od istoležnih elementov `b`?"
   ]
  },
  {
   "cell_type": "code",
   "execution_count": 23,
   "id": "0f943a3d",
   "metadata": {},
   "outputs": [
    {
     "data": {
      "text/plain": [
       "array([ True,  True, False, False,  True,  True])"
      ]
     },
     "execution_count": 23,
     "metadata": {},
     "output_type": "execute_result"
    }
   ],
   "source": [
    "a > b"
   ]
  },
  {
   "cell_type": "code",
   "execution_count": 24,
   "id": "661b1696",
   "metadata": {},
   "outputs": [
    {
     "data": {
      "text/plain": [
       "4"
      ]
     },
     "execution_count": 24,
     "metadata": {},
     "output_type": "execute_result"
    }
   ],
   "source": [
    "np.sum(a > b)"
   ]
  },
  {
   "cell_type": "markdown",
   "id": "9c2f3496",
   "metadata": {},
   "source": [
    "## Naloga\n",
    "\n",
    "Zdaj znate dovolj za elegantno reševanje prve naloge, [Sonar Sweep](https://adventofcode.com/2021/day/1).\n",
    "\n",
    "Lahko jo rešitev najprej v čistem Pythonu, vendar jo rešite lepo - do zaporednih elementov pridite z `zip`-om in rezinami in tako naprej. Potem razmislite, kako se to pove v `numpy`-ju. Če izvzamemo pripravo podatkov, se pravi, ko so podatki enkrat že v tabeli, bi moral biti prvi del zlahko rešljiv z enim samim klicem ... drugi del pa tudi, če se znajdete. Če ne, bo pa kakšna vrstica več."
   ]
  }
 ],
 "metadata": {
  "kernelspec": {
   "display_name": "Python 3",
   "language": "python",
   "name": "python3"
  },
  "language_info": {
   "codemirror_mode": {
    "name": "ipython",
    "version": 3
   },
   "file_extension": ".py",
   "mimetype": "text/x-python",
   "name": "python",
   "nbconvert_exporter": "python",
   "pygments_lexer": "ipython3",
   "version": "3.11.0"
  },
  "vscode": {
   "interpreter": {
    "hash": "ace7d953c0a95332009ceae9c0635d9ffe75df5251d417a74afc7cd2802ebfb0"
   }
  }
 },
 "nbformat": 4,
 "nbformat_minor": 5
}
