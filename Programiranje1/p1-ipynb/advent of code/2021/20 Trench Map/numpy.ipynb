{
 "cells": [
  {
   "cell_type": "markdown",
   "id": "23485402",
   "metadata": {},
   "source": [
    "## Prirejanje rezinam\n",
    "\n",
    "Spomnimo se, da je rezinam v Pythonu možno tudi prirejati."
   ]
  },
  {
   "cell_type": "code",
   "execution_count": 1,
   "id": "a827bdac",
   "metadata": {},
   "outputs": [
    {
     "data": {
      "text/plain": [
       "['Ana', 'Benjamin', 'Cene', 'Damjan', 'Dani', 'Ema']"
      ]
     },
     "execution_count": 1,
     "metadata": {},
     "output_type": "execute_result"
    }
   ],
   "source": [
    "s = [\"Ana\", \"Berta\", \"Cilka\", \"Dani\", \"Ema\"]\n",
    "\n",
    "s[1:3] = [\"Benjamin\", \"Cene\", \"Damjan\"]\n",
    "s"
   ]
  },
  {
   "cell_type": "markdown",
   "id": "363a207c",
   "metadata": {},
   "source": [
    "Tudi v numpyju gre, in še bolj imenitno je, le da prirejanje rezinam nikoli ne bo spremenilo velikosti tabele: tisto, kar prirejamo, mora imeti enake dimenzije kot rezina, ki ji prirejamo.\n",
    "\n",
    "Imejmo dve tabeli:"
   ]
  },
  {
   "cell_type": "code",
   "execution_count": 2,
   "id": "4b64b1b7",
   "metadata": {},
   "outputs": [],
   "source": [
    "import numpy as np\n",
    "\n",
    "a = np.array([5, 1, 8, 7, 3, 12, 5, 9, 4])\n",
    "b = np.array([42, 0, 13, 66])"
   ]
  },
  {
   "cell_type": "markdown",
   "id": "088f08b8",
   "metadata": {},
   "source": [
    "`b` ima štiri elemente. Rezini `a[3:7]`, ki ima prav tako štiri, torej lahko priredimo `b`."
   ]
  },
  {
   "cell_type": "code",
   "execution_count": 3,
   "id": "d34201a0",
   "metadata": {},
   "outputs": [
    {
     "data": {
      "text/plain": [
       "array([ 5,  1,  8, 42,  0, 13, 66,  9,  4])"
      ]
     },
     "execution_count": 3,
     "metadata": {},
     "output_type": "execute_result"
    }
   ],
   "source": [
    "a[3:7] = b\n",
    "\n",
    "a"
   ]
  },
  {
   "cell_type": "markdown",
   "id": "6e4c4d58",
   "metadata": {},
   "source": [
    "Seveda lahko režemo tudi `b`. Priredimo `a[3:7]` elemente `b`-ja v obratnem vrstnem redu."
   ]
  },
  {
   "cell_type": "markdown",
   "id": "25fa8dae",
   "metadata": {},
   "source": [
    "Rezini `a[:2]` priredimo zadnja dva elementa `b`."
   ]
  },
  {
   "cell_type": "code",
   "execution_count": 4,
   "id": "4e7c0e86",
   "metadata": {},
   "outputs": [
    {
     "data": {
      "text/plain": [
       "array([13, 66,  8, 42,  0, 13, 66,  9,  4])"
      ]
     },
     "execution_count": 4,
     "metadata": {},
     "output_type": "execute_result"
    }
   ],
   "source": [
    "a[:2] = b[-2:]\n",
    "\n",
    "a"
   ]
  },
  {
   "cell_type": "markdown",
   "id": "e959eaea",
   "metadata": {},
   "source": [
    "Vidimo: vse je dovoljeno, dokler je na obeh koncih enako število elementov.\n",
    "\n",
    "Rezinam lahko prirejamo skalarje (fancy ime za število)."
   ]
  },
  {
   "cell_type": "code",
   "execution_count": 5,
   "id": "4d135d4a",
   "metadata": {},
   "outputs": [
    {
     "data": {
      "text/plain": [
       "array([13, 66, -8, -8, -8, 13, 66,  9,  4])"
      ]
     },
     "execution_count": 5,
     "metadata": {},
     "output_type": "execute_result"
    }
   ],
   "source": [
    "a[2:5] = -8\n",
    "\n",
    "a"
   ]
  },
  {
   "cell_type": "code",
   "execution_count": 6,
   "id": "cbe25e12",
   "metadata": {},
   "outputs": [
    {
     "data": {
      "text/plain": [
       "array([100,  66, 100,  -8, 100,  13, 100,   9, 100])"
      ]
     },
     "execution_count": 6,
     "metadata": {},
     "output_type": "execute_result"
    }
   ],
   "source": [
    "a[::2] = 100\n",
    "\n",
    "a"
   ]
  },
  {
   "cell_type": "markdown",
   "id": "902bd123",
   "metadata": {},
   "source": [
    "Rezinam je seveda možno tudi prištevati, jih s čim pomnožiti..."
   ]
  },
  {
   "cell_type": "code",
   "execution_count": 7,
   "id": "5fa714fd",
   "metadata": {},
   "outputs": [
    {
     "data": {
      "text/plain": [
       "array([101,  66, 102,  -8, 103,  13, 104,   9, 105])"
      ]
     },
     "execution_count": 7,
     "metadata": {},
     "output_type": "execute_result"
    }
   ],
   "source": [
    "a[::2] += [1, 2, 3, 4, 5]\n",
    "\n",
    "a"
   ]
  },
  {
   "cell_type": "code",
   "execution_count": 8,
   "id": "3fe042f9",
   "metadata": {},
   "outputs": [
    {
     "data": {
      "text/plain": [
       "array([50, 66, 51, -8, 51, 13, 52,  9, 52])"
      ]
     },
     "execution_count": 8,
     "metadata": {},
     "output_type": "execute_result"
    }
   ],
   "source": [
    "a[::2] //= 2\n",
    "\n",
    "a"
   ]
  },
  {
   "cell_type": "code",
   "execution_count": 9,
   "id": "786b5a06",
   "metadata": {},
   "outputs": [
    {
     "data": {
      "text/plain": [
       "array([92, 66, 64, 58, 51, 13, 52,  9, 52])"
      ]
     },
     "execution_count": 9,
     "metadata": {},
     "output_type": "execute_result"
    }
   ],
   "source": [
    "a[:4] += b\n",
    "\n",
    "a"
   ]
  },
  {
   "cell_type": "markdown",
   "id": "ff8a6604",
   "metadata": {},
   "source": [
    "In vse to seveda deluje tudi z večdimenzionalnimi tabelami in rezinami."
   ]
  },
  {
   "cell_type": "markdown",
   "id": "9d7e3007",
   "metadata": {},
   "source": [
    "## Mapiranje - in indeksiranje z večdimenzionalnimi tabelami\n",
    "\n",
    "Že pri prejšnji nalogi smo videli, da lahko za indekse uporabljamo tudi sezname. To lahko uporabljamo tudi za mapiranje: če vsaka številka ustreza neki osebi, lahko tabelo številk na ta način pretvorimo v tabelo imen oseb."
   ]
  },
  {
   "cell_type": "code",
   "execution_count": 10,
   "id": "49ea91c5",
   "metadata": {},
   "outputs": [
    {
     "data": {
      "text/plain": [
       "array(['Dani', 'Berta', 'Ema', 'Berta', 'Cilka', 'Ana'], dtype='<U5')"
      ]
     },
     "execution_count": 10,
     "metadata": {},
     "output_type": "execute_result"
    }
   ],
   "source": [
    "imena = np.array([\"Ana\", \"Berta\", \"Cilka\", \"Dani\", \"Ema\"])\n",
    "\n",
    "a = np.array([3, 1, 4, 1, 2, 0])\n",
    "\n",
    "imena[a]"
   ]
  },
  {
   "cell_type": "markdown",
   "id": "5d3f73d3",
   "metadata": {},
   "source": [
    "To ni v bistvu nič novega, le nov pogled na nekaj, kar že znamo. (Novo pa je to, da lahko numpyjeve tabele vsebujejo tudi nize.)\n",
    "\n",
    "Imenitno pa je, da tole deluje tudi, če je tabela večdimenzionalna."
   ]
  },
  {
   "cell_type": "code",
   "execution_count": 11,
   "id": "73bbcbd2",
   "metadata": {},
   "outputs": [
    {
     "data": {
      "text/plain": [
       "array([['Dani', 'Berta', 'Ema'],\n",
       "       ['Berta', 'Cilka', 'Ana']], dtype='<U5')"
      ]
     },
     "execution_count": 11,
     "metadata": {},
     "output_type": "execute_result"
    }
   ],
   "source": [
    "a = np.array([[3, 1, 4], [1, 2, 0]])\n",
    "              \n",
    "imena[a]"
   ]
  },
  {
   "cell_type": "markdown",
   "id": "a47b906e",
   "metadata": {},
   "source": [
    "Tabela, ki jo dobimo z `imena[a]`, je enake oblike kot `a`, le da so elementi `a`-ja zamenjani z ustreznimi elementi tabele `imena`."
   ]
  },
  {
   "cell_type": "markdown",
   "id": "162ec3bd",
   "metadata": {},
   "source": [
    "## Naloga\n",
    "\n",
    "S tem, kar smo spoznali zdaj, bomo reševali nalogo [20: Trench Map](https://adventofcode.com/2021/day/20).\n",
    "\n",
    "Zame je bila to ena najbolj zoprnih nalog - tudi zato, ker sem se je lotil narobe in potem še naredil eno napačno predpostavko. Zato tokrat (še) malo več navodil, kako se je je pametno lotiti. Če vam bo preveč nadležna, pač preskočite reševanje in poglejte mojo rešitev. Boljše to, kot da se vse skupaj zagabi. Ne bom zameril. :)\n",
    "\n",
    "Kdor noče spoilerjev, pa lahko tule neha brati.\n",
    "\n",
    "V začetku preberite podatke v tabelo, ki je velika toliko, kot so pač veliki podatki. Tabela je lahko tipa `bool`; `#` je lahko `True` in `.` bo `False`.\n",
    "\n",
    "Potem bo potrebno petdesetkrat ponoviti tole.\n",
    "\n",
    "- Pri meni - in najbrž pri vseh ostalih - je bila transformacija takšna, da se v enem koraku vsi `.` na neskončni površini zamenjajo z `#`, v naslednjem nazaj v `.`, potem spet v `#` ...\n",
    "\n",
    "  Zato pripravite tabelo, ki je za štiri znake večja od trenutnega stanja in jo inicializirajte na `False` ali `True`, odvisno od tega, ali ste v lihem ali sodem koraku. V sredino te tabele - se pravi tako, da okrog ostane rob širine 2 - vnesite trenutno stanje.\n",
    "\n",
    "- Potem pripravite tabelo vsot. Ta bo za dva znaka (torej rob 1 na vsaki stranici) večja od trenutnega stanja. Vanjo boste devetkrat prišteli \"okno\" iz tabele iz prejšnje točke, tako da bo to okno drselo 0, 1 in 2 elementa od levega in od zgornjega roba. Pri vsakem prištevanju je potrebno tabelo množiti z ustreznim faktorjem, potenco dvojke. Nič hudega, če zdajle še ne razumete: ko boste brali nalogo, boste razumeli).\n",
    "\n",
    "- Vsote potem premapirate čez transformacijo in tako dobite novo stanje.\n",
    "\n",
    "V bistvu ni težko, je pa polno zafrkavanja z drobnimi napakami. Če ne bo šlo, pa samo poglejte rešitev."
   ]
  }
 ],
 "metadata": {
  "kernelspec": {
   "display_name": "Python 3 (ipykernel)",
   "language": "python",
   "name": "python3"
  },
  "language_info": {
   "codemirror_mode": {
    "name": "ipython",
    "version": 3
   },
   "file_extension": ".py",
   "mimetype": "text/x-python",
   "name": "python",
   "nbconvert_exporter": "python",
   "pygments_lexer": "ipython3",
   "version": "3.10.0"
  }
 },
 "nbformat": 4,
 "nbformat_minor": 5
}
