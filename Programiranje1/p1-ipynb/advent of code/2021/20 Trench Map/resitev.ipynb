{
 "cells": [
  {
   "cell_type": "markdown",
   "id": "3ebf29d5",
   "metadata": {},
   "source": [
    "## Rešitev\n",
    "\n",
    "Najprej preberemo podatke. Tu ni nič takšnega, česar ne bi že videli."
   ]
  },
  {
   "cell_type": "code",
   "execution_count": 1,
   "id": "2c74f743",
   "metadata": {},
   "outputs": [],
   "source": [
    "import numpy as np\n",
    "\n",
    "mapping, state = open(\"example.txt\").read().split(\"\\n\\n\")\n",
    "mapping = np.array([c == \"#\" for c in mapping.replace(\"\\n\", \"\")])\n",
    "state = np.array([[c == \"#\" for c in v.strip()] for v in state.splitlines()])"
   ]
  },
  {
   "cell_type": "markdown",
   "id": "4f9da654",
   "metadata": {},
   "source": [
    "Zdaj je `mapping` tabela, ki pove, v kakšno stanje se preslika posamezna vsota. Če bomo imeli vsote"
   ]
  },
  {
   "cell_type": "code",
   "execution_count": 2,
   "id": "d8f6ef53",
   "metadata": {},
   "outputs": [],
   "source": [
    "sums = np.array([[7, 3, 2],\n",
    "                 [0, 5, 1]])"
   ]
  },
  {
   "cell_type": "markdown",
   "id": "8c798dd3",
   "metadata": {},
   "source": [
    "se bo to preslikalo v"
   ]
  },
  {
   "cell_type": "code",
   "execution_count": 3,
   "id": "4fad2567",
   "metadata": {},
   "outputs": [
    {
     "data": {
      "text/plain": [
       "array([[ True, False,  True],\n",
       "       [False, False, False]])"
      ]
     },
     "execution_count": 3,
     "metadata": {},
     "output_type": "execute_result"
    }
   ],
   "source": [
    "mapping[sums]"
   ]
  },
  {
   "cell_type": "markdown",
   "id": "bcded7e5",
   "metadata": {},
   "source": [
    "V zanki bomo počeli tole.\n",
    "\n",
    "Najprej pripravimo tabelico, ki v sredi vsebuje trenutno stanje, okrog nje pa je dva elementa širok rob, ki vsebuje ničle za sode in enice z lihe korake, saj \"neskončna okolica\" utripa."
   ]
  },
  {
   "cell_type": "code",
   "execution_count": 5,
   "id": "243024c9",
   "metadata": {},
   "outputs": [],
   "source": [
    "i = 0\n",
    "\n",
    "h, w = state.shape\n",
    "padded = np.full((h + 4, w + 4), i % 2)\n",
    "padded[2:-2, 2:-2] = state"
   ]
  },
  {
   "cell_type": "markdown",
   "id": "4892e783",
   "metadata": {},
   "source": [
    "Matriko smo sestavili z `np.full`, potem pa v sredino prepisali trenutno stanje.\n",
    "\n",
    "Nato pripravimo tabelico za vsote. Ta bo za dve polji večja od trenutnega stanja, saj se \"obljudeni\" del tabele vsakič poveča za `1` v vsako smer."
   ]
  },
  {
   "cell_type": "code",
   "execution_count": 6,
   "id": "6eb91fb1",
   "metadata": {},
   "outputs": [],
   "source": [
    "sums = np.zeros((h + 2, w + 2), dtype=int)"
   ]
  },
  {
   "cell_type": "markdown",
   "id": "d0e93514",
   "metadata": {},
   "source": [
    "In zdaj je na vrsti seštevanje. Namesto da bi računali vsoto za vsako celico posebej, bomo prištevali `padded` k vsotam, takole:"
   ]
  },
  {
   "cell_type": "code",
   "execution_count": 7,
   "id": "62664f77",
   "metadata": {},
   "outputs": [],
   "source": [
    "p = 256\n",
    "for y in range(3):\n",
    "    for x in range(3):\n",
    "        sums += p * padded[y:y + h + 2, x:x + w + 2]\n",
    "        p //= 2"
   ]
  },
  {
   "cell_type": "markdown",
   "id": "0b2320af",
   "metadata": {},
   "source": [
    "`y` in `x` sta odmik od zgornjega in od desnega roba, oba gresta od 0 do 1. `padded[y:y + h + 2, x:x + w + 2]` je torej \"okno\" v `padded`, ki je enakih dimenzij kot `sums` in se pomika prek padded. Prištevamo ga k `sums` (kar smemo, saj sta enakih dimenzij. Ob prvem prištevanju (tistem brez odmikov) ga množimo z `256`, ob drugem k `128` in tako naprej.\n",
    "\n",
    "Kako to deluje - in zakaj deluje - se prepričajte sami. Predstavljajte si nek element `sum` (ne ravno čisto robnega, naj bo nekje na sredi) in razmislite, kateri elementi `padded` se prištejejo vanj ter s kakšnimi faktorji.\n",
    "\n",
    "Ko dobimo vsote, jih premapiramo čez `mapping`."
   ]
  },
  {
   "cell_type": "code",
   "execution_count": 8,
   "id": "c9308f1c",
   "metadata": {},
   "outputs": [
    {
     "data": {
      "text/plain": [
       "array([[False,  True,  True, False,  True,  True, False],\n",
       "       [ True, False, False,  True, False,  True, False],\n",
       "       [ True,  True, False,  True, False, False,  True],\n",
       "       [ True,  True,  True,  True, False, False,  True],\n",
       "       [False,  True, False, False,  True,  True, False],\n",
       "       [False, False,  True,  True, False, False,  True],\n",
       "       [False, False, False,  True, False,  True, False]])"
      ]
     },
     "execution_count": 8,
     "metadata": {},
     "output_type": "execute_result"
    }
   ],
   "source": [
    "mapping[sums]"
   ]
  },
  {
   "cell_type": "markdown",
   "id": "0d5e5f1f",
   "metadata": {},
   "source": [
    "To je to. Vse skupaj samo še zložimo v zanko."
   ]
  },
  {
   "cell_type": "code",
   "execution_count": 9,
   "id": "965d7a60",
   "metadata": {},
   "outputs": [
    {
     "name": "stdout",
     "output_type": "stream",
     "text": [
      "5097\n"
     ]
    }
   ],
   "source": [
    "import numpy as np\n",
    "\n",
    "mapping, state = open(\"example.txt\").read().split(\"\\n\\n\")\n",
    "mapping = np.array([c == \"#\" for c in mapping.replace(\"\\n\", \"\")])\n",
    "state = np.array([[c == \"#\" for c in v.strip()] for v in state.splitlines()])\n",
    "\n",
    "for i in range(50):\n",
    "    h, w = state.shape\n",
    "    padded = np.full((h + 4, w + 4), i % 2)\n",
    "    padded[2:-2, 2:-2] = state\n",
    "    sums = np.zeros((h + 2, w + 2), dtype=int)\n",
    "    p = 256\n",
    "    for y in range(3):\n",
    "        for x in range(3):\n",
    "            sums += p * padded[y:h + 2 + y, x:w + 2 + x]\n",
    "            p //= 2\n",
    "    state = mapping[sums]\n",
    "print(np.sum(state))"
   ]
  },
  {
   "cell_type": "markdown",
   "id": "a36bda9f",
   "metadata": {},
   "source": [
    "Kot sem rekel: nič posebnega, samo kup drobnih zafrkancij.\n",
    "\n",
    "Temu, kar počnemo v tej nalogi, se sicer reče konvolucija. Uporabljamo jo v procesiranju signalov in obdelavi slik, tudi globoke nevronske mreže pogosto vsebujejo konvolucijski nivo, ki počne nekaj podobnega, kot delamo v tej nalogi. Zato ima modul scipy, ki ga pogosto uporabljamo skupaj z numpyjem, funkcijo [scipy.signal.convolve2d](https://docs.scipy.org/doc/scipy/reference/generated/scipy.signal.convolve2d.html), ki počne natančno to, kar delamo znotraj te zanke."
   ]
  }
 ],
 "metadata": {
  "kernelspec": {
   "display_name": "Python 3 (ipykernel)",
   "language": "python",
   "name": "python3"
  },
  "language_info": {
   "codemirror_mode": {
    "name": "ipython",
    "version": 3
   },
   "file_extension": ".py",
   "mimetype": "text/x-python",
   "name": "python",
   "nbconvert_exporter": "python",
   "pygments_lexer": "ipython3",
   "version": "3.10.0"
  }
 },
 "nbformat": 4,
 "nbformat_minor": 5
}
