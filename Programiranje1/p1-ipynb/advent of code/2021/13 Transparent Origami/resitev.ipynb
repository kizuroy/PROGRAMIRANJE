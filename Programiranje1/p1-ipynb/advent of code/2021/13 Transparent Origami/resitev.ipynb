{
 "cells": [
  {
   "cell_type": "markdown",
   "id": "14c0a544",
   "metadata": {},
   "source": [
    "## Rešitev\n",
    "\n",
    "Najprej preberimo podatke; ločimo jih na koordinate in navodila za prepogibanje."
   ]
  },
  {
   "cell_type": "code",
   "execution_count": 1,
   "id": "7bc1bc56",
   "metadata": {},
   "outputs": [],
   "source": [
    "import numpy as np\n",
    "\n",
    "xy, instructions = open(\"example.txt\").read().split(\"\\n\\n\")"
   ]
  },
  {
   "cell_type": "markdown",
   "id": "a44ef487",
   "metadata": {},
   "source": [
    "Spisek koordinat razdelimo na vrstice (`xy.splitlines()`). Za vsako vrstico (`for v in xy.splitlines()`) sestavimo seznam, ki vsebuje števila iz vrstice, ki jo razbijemo z vejico kot ločilom (`[int(x) for x in v.split(\",\")]`). Ta seznam seznamov spremenimo v tabelo"
   ]
  },
  {
   "cell_type": "code",
   "execution_count": 2,
   "id": "c09078d7",
   "metadata": {},
   "outputs": [
    {
     "data": {
      "text/plain": [
       "array([[ 6, 10],\n",
       "       [ 0, 14],\n",
       "       [ 9, 10],\n",
       "       [ 0,  3],\n",
       "       [10,  4],\n",
       "       [ 4, 11],\n",
       "       [ 6,  0],\n",
       "       [ 6, 12],\n",
       "       [ 4,  1],\n",
       "       [ 0, 13],\n",
       "       [10, 12],\n",
       "       [ 3,  4],\n",
       "       [ 3,  0],\n",
       "       [ 8,  4],\n",
       "       [ 1, 10],\n",
       "       [ 2, 14],\n",
       "       [ 8, 10],\n",
       "       [ 9,  0]])"
      ]
     },
     "execution_count": 2,
     "metadata": {},
     "output_type": "execute_result"
    }
   ],
   "source": [
    "xy = np.array([[int(x) for x in v.split(\",\")]\n",
    "               for v in xy.splitlines()])\n",
    "\n",
    "xy"
   ]
  },
  {
   "cell_type": "markdown",
   "id": "f21e34b4",
   "metadata": {},
   "source": [
    "V prvem stolpcu so koordinate `x`, v drugem `y`. Poiskati moramo največjo in prišteti 1 (ker začnemo z 0); bo bodo dimenzije naše tabele."
   ]
  },
  {
   "cell_type": "code",
   "execution_count": 3,
   "id": "6f4a7882",
   "metadata": {},
   "outputs": [
    {
     "data": {
      "text/plain": [
       "array([11, 15])"
      ]
     },
     "execution_count": 3,
     "metadata": {},
     "output_type": "execute_result"
    }
   ],
   "source": [
    "np.max(xy, axis=0) + 1"
   ]
  },
  {
   "cell_type": "markdown",
   "id": "2ff13b2a",
   "metadata": {},
   "source": [
    "Imeli bomo 15 vrstic in 11 stolpcev, torej moramo to še obrniti. Tako dobimo obliko, ki jo podamo `np.zeros`. Recimo, da bomo uporabljali tabelo `bool`-ov."
   ]
  },
  {
   "cell_type": "code",
   "execution_count": 4,
   "id": "b811187a",
   "metadata": {},
   "outputs": [],
   "source": [
    "dots = np.zeros(np.max(xy, axis=0)[::-1] + 1, dtype=bool)"
   ]
  },
  {
   "cell_type": "markdown",
   "id": "52e8c031",
   "metadata": {},
   "source": [
    "Zdaj pa na mesta, ki ju določajo koordinate `y` in `x` (dobimo jih z `xy[:, 1]` in `xy[:, 0]`) zapišemo enice."
   ]
  },
  {
   "cell_type": "code",
   "execution_count": 5,
   "id": "430b2e83",
   "metadata": {},
   "outputs": [],
   "source": [
    "dots[xy[:, 1], xy[:, 0]] = 1"
   ]
  },
  {
   "cell_type": "markdown",
   "id": "cb0ab755",
   "metadata": {},
   "source": [
    "Na hitro izpišimo, da vidimo, kaj imamo: gremo čez vse vrstice (`for v in dots`), za vsako gremo čez vse vrednosti `for i in v`, in to vrednost, spremenjeno v `int`, uporabimo kot indeks v niz `\".#\"`; kadar je `i` enak `0`, bomo izpisali `.`, kadar je `1`, pa `#`. Znakce združimo z `\"\".join`, vrstice pa z `\"\\n\".join`."
   ]
  },
  {
   "cell_type": "code",
   "execution_count": 6,
   "id": "120af232",
   "metadata": {},
   "outputs": [
    {
     "name": "stdout",
     "output_type": "stream",
     "text": [
      "...#..#..#.\n",
      "....#......\n",
      "...........\n",
      "#..........\n",
      "...#....#.#\n",
      "...........\n",
      "...........\n",
      "...........\n",
      "...........\n",
      "...........\n",
      ".#....#.##.\n",
      "....#......\n",
      "......#...#\n",
      "#..........\n",
      "#.#........\n"
     ]
    }
   ],
   "source": [
    "print(\"\\n\".join(\"\".join(\".#\"[int(i)] for i in v) for v in dots))"
   ]
  },
  {
   "cell_type": "markdown",
   "id": "eee19be6",
   "metadata": {},
   "source": [
    "Tole je enako kot v opisu v nalogi, torej pravilno. Celotno branje je torej, še enkrat"
   ]
  },
  {
   "cell_type": "code",
   "execution_count": 7,
   "id": "a42b5bba",
   "metadata": {},
   "outputs": [],
   "source": [
    "xy, instructions = open(\"example.txt\").read().split(\"\\n\\n\")\n",
    "\n",
    "xy = np.array([[int(x) for x in v.split(\",\")] for v in xy.splitlines()])\n",
    "dots = np.zeros(np.max(xy, axis=0)[::-1] + 1, dtype=bool)\n",
    "dots[xy[:, 1], xy[:, 0]] = 1"
   ]
  },
  {
   "cell_type": "markdown",
   "id": "d2306ddc",
   "metadata": {},
   "source": [
    "Še nekoliko preprosteje je, če koordinate vrtimo kar brez `numpy`-ja, za kar pa je potrebno znati transponirati podatke z `zip`."
   ]
  },
  {
   "cell_type": "code",
   "execution_count": 8,
   "id": "f07da92a",
   "metadata": {},
   "outputs": [],
   "source": [
    "xy, instructions = open(\"example.txt\").read().split(\"\\n\\n\")\n",
    "\n",
    "x, y = zip(*(map(int, v.split(\",\")) for v in xy.splitlines()))\n",
    "dots = np.zeros((max(y) + 1, max(x) + 1), dtype=bool)\n",
    "dots[y, x] = 1"
   ]
  },
  {
   "cell_type": "markdown",
   "id": "f151dc77",
   "metadata": {},
   "source": [
    "Tako ali drugače torej dobimo začetni razpored pik.\n",
    "\n",
    "Zdaj gremo čez navodila. Če vrstica navodil vsebuje `y`, prepogibamo tako, da seštevamo spodnje in zgornje vrstice, sicer seštevamo levi in desni del. Če sta `h` in `w` trenutni dimenziji (`h, w = dots.shape`), je `dots[:h // 2]` je zgornja polovica vrstic, `dots[:h // 2:-1]` pa prezrcaljena spodnja polovica. Podobno je `dots = dots[:, :w // 2]` leva polovica, `dots[:, :w // 2:-1]` pa prezrcaljena desna. Tidve ali onidve polovici seštejemo in tako dobimo novo matriko pik."
   ]
  },
  {
   "cell_type": "code",
   "execution_count": 9,
   "id": "d4b1b9b1",
   "metadata": {},
   "outputs": [
    {
     "name": "stdout",
     "output_type": "stream",
     "text": [
      "#####\n",
      "#...#\n",
      "#...#\n",
      "#...#\n",
      "#####\n",
      ".....\n",
      ".....\n"
     ]
    }
   ],
   "source": [
    "for instruction in instructions.splitlines():\n",
    "    h, w = dots.shape\n",
    "    if \"y\" in instruction:\n",
    "        dots = dots[:h // 2] + dots[:h // 2:-1]\n",
    "    else:\n",
    "        dots = dots[:, :w // 2] + dots[:, :w // 2:-1]\n",
    "\n",
    "print(\"\\n\".join(\"\".join(\".#\"[int(i)] for i in v) for v in dots))"
   ]
  },
  {
   "cell_type": "markdown",
   "id": "bcad79e7",
   "metadata": {},
   "source": [
    "In to je to. Če reč poženemo na pravih podatkih (recimo mojih), dobimo nekaj črk, ki jih je bilo potrebno vnesti. Mimogrede poskrbimo le še za prvi del naloge, ki je hotel, da izpišemo število pik po prvem koraku prepogibanja. Za to bomo števili korake in če je števec enak `0`, izpisali vsoto tabele."
   ]
  },
  {
   "cell_type": "code",
   "execution_count": 10,
   "id": "c3acbf74",
   "metadata": {},
   "outputs": [
    {
     "name": "stdout",
     "output_type": "stream",
     "text": [
      "712\n",
      "###..#....#..#.####...##.###....##.####.\n",
      "#..#.#....#..#.#.......#.#..#....#.#....\n",
      "###..#....####.###.....#.#..#....#.###..\n",
      "#..#.#....#..#.#.......#.###.....#.#....\n",
      "#..#.#....#..#.#....#..#.#....#..#.#....\n",
      "###..####.#..#.#.....##..#.....##..#....\n"
     ]
    }
   ],
   "source": [
    "xy, instructions = open(\"input.txt\").read().split(\"\\n\\n\")\n",
    "\n",
    "xy = np.array([[int(x) for x in v.split(\",\")] for v in xy.splitlines()])\n",
    "dots = np.zeros(np.max(xy, axis=0)[::-1] + 1, dtype=bool)\n",
    "dots[xy[:, 1], xy[:, 0]] = 1\n",
    "\n",
    "for i, instruction in enumerate(instructions.splitlines()):\n",
    "    h, w = dots.shape\n",
    "    if \"x\" in instruction:\n",
    "        dots = dots[:, :w // 2] + dots[:, :w // 2:-1]\n",
    "    else:\n",
    "        dots = dots[:h // 2] + dots[:h // 2:-1]\n",
    "    if not i:\n",
    "        print(np.sum(dots))\n",
    "\n",
    "print(\"\\n\".join(\"\".join(\".#\"[int(i)] for i in v) for v in dots))"
   ]
  }
 ],
 "metadata": {
  "kernelspec": {
   "display_name": "Python 3 (ipykernel)",
   "language": "python",
   "name": "python3"
  },
  "language_info": {
   "codemirror_mode": {
    "name": "ipython",
    "version": 3
   },
   "file_extension": ".py",
   "mimetype": "text/x-python",
   "name": "python",
   "nbconvert_exporter": "python",
   "pygments_lexer": "ipython3",
   "version": "3.10.0"
  }
 },
 "nbformat": 4,
 "nbformat_minor": 5
}
