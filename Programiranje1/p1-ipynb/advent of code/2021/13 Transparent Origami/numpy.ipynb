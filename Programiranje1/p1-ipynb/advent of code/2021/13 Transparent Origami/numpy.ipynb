{
 "cells": [
  {
   "cell_type": "markdown",
   "id": "e28dcef3",
   "metadata": {},
   "source": [
    "## Indeksiranje s seznamom\n",
    "\n",
    "Imejmo dve tabeli."
   ]
  },
  {
   "cell_type": "code",
   "execution_count": 1,
   "id": "fda3dae9",
   "metadata": {},
   "outputs": [],
   "source": [
    "import numpy as np\n",
    "\n",
    "a = np.array([5, 1, 8, 7, 3, 12, 5, 9, 4])\n",
    "b = np.array([2, 0, 3, 4])"
   ]
  },
  {
   "cell_type": "markdown",
   "id": "9e4fb69a",
   "metadata": {},
   "source": [
    "Sestaviti želimo tabelo, ki vsebuje drugi, ničti, tretji in četrti element tabele `a`. To dobimo tako, da namesto običajnega indeksa podamo seznam indeksov."
   ]
  },
  {
   "cell_type": "code",
   "execution_count": 2,
   "id": "4aa64f73",
   "metadata": {},
   "outputs": [
    {
     "data": {
      "text/plain": [
       "array([8, 5, 7, 3])"
      ]
     },
     "execution_count": 2,
     "metadata": {},
     "output_type": "execute_result"
    }
   ],
   "source": [
    "a[[2, 0, 3, 4]]"
   ]
  },
  {
   "cell_type": "markdown",
   "id": "07afd327",
   "metadata": {},
   "source": [
    "Namesto seznama lahko uporabimo kar tabelo. Pravzaprav je to celo bolj običajno. In očitno smo si prav zato pripravili `b`."
   ]
  },
  {
   "cell_type": "code",
   "execution_count": 3,
   "id": "18d40316",
   "metadata": {},
   "outputs": [
    {
     "data": {
      "text/plain": [
       "array([8, 5, 7, 3])"
      ]
     },
     "execution_count": 3,
     "metadata": {},
     "output_type": "execute_result"
    }
   ],
   "source": [
    "a[b]"
   ]
  },
  {
   "cell_type": "markdown",
   "id": "bedb9351",
   "metadata": {},
   "source": [
    "Tudi s takimi indeksi je možno prirejati."
   ]
  },
  {
   "cell_type": "code",
   "execution_count": 4,
   "id": "c630c613",
   "metadata": {},
   "outputs": [
    {
     "data": {
      "text/plain": [
       "array([42,  1, 42, 42, 42, 12,  5,  9,  4])"
      ]
     },
     "execution_count": 4,
     "metadata": {},
     "output_type": "execute_result"
    }
   ],
   "source": [
    "a[b] = 42\n",
    "\n",
    "a"
   ]
  },
  {
   "cell_type": "markdown",
   "id": "435644ee",
   "metadata": {},
   "source": [
    "Takšno indeksiranje deluje tudi pri večdimenzionalnih tabelah."
   ]
  },
  {
   "cell_type": "code",
   "execution_count": 5,
   "id": "af062d69",
   "metadata": {},
   "outputs": [],
   "source": [
    "a = np.array([[5, 8, 7, 1, 3],\n",
    "              [2, 5, 1, 1, 4],\n",
    "              [7, 6, 1, 9, 2]])"
   ]
  },
  {
   "cell_type": "markdown",
   "id": "96015da3",
   "metadata": {},
   "source": [
    "Če je tabela dvodimenzionalna, lahko kot indekse uporabimo dva seznama enakih dolžin. Pare elementov iz teh seznamov bo `numpy` obravnaval kot indekse."
   ]
  },
  {
   "cell_type": "code",
   "execution_count": 6,
   "id": "cf37f11c",
   "metadata": {},
   "outputs": [
    {
     "data": {
      "text/plain": [
       "array([8, 9, 2])"
      ]
     },
     "execution_count": 6,
     "metadata": {},
     "output_type": "execute_result"
    }
   ],
   "source": [
    "t = a[[0, 2, 2], [1, 3, 4]]\n",
    "\n",
    "t"
   ]
  },
  {
   "cell_type": "markdown",
   "id": "b3959779",
   "metadata": {},
   "source": [
    "Tole je tabela, ki vsebuje elemente z indeksi `(0, 1)`, `(2, 3)` in `(2, 4)`.\n",
    "\n",
    "Kateri so, bomo lažje videli, če jim kaj priredimo."
   ]
  },
  {
   "cell_type": "code",
   "execution_count": 7,
   "id": "d6cb25c5",
   "metadata": {},
   "outputs": [
    {
     "data": {
      "text/plain": [
       "array([[  5, 100,   7,   1,   3],\n",
       "       [  2,   5,   1,   1,   4],\n",
       "       [  7,   6,   1, 100, 100]])"
      ]
     },
     "execution_count": 7,
     "metadata": {},
     "output_type": "execute_result"
    }
   ],
   "source": [
    "a[[0, 2, 2], [1, 3, 4]] = 100\n",
    "\n",
    "a"
   ]
  },
  {
   "cell_type": "markdown",
   "id": "fd7d37cd",
   "metadata": {},
   "source": [
    "Za to nalogo bodi dovolj. Še nekaj na to temo pa pri naslednji nalogi."
   ]
  },
  {
   "cell_type": "markdown",
   "id": "7f1c1f76",
   "metadata": {},
   "source": [
    "## Tabele samih enakih vrednosti\n",
    "\n",
    "Še tri funkcije za sestavljanje tabel spoznajmo.\n",
    "\n",
    "Prva sestavi tabelo ničel. Kot argument moramo podati obliko tabele."
   ]
  },
  {
   "cell_type": "code",
   "execution_count": 8,
   "id": "44eab3a9",
   "metadata": {},
   "outputs": [
    {
     "data": {
      "text/plain": [
       "array([[0., 0., 0., 0., 0.],\n",
       "       [0., 0., 0., 0., 0.],\n",
       "       [0., 0., 0., 0., 0.]])"
      ]
     },
     "execution_count": 8,
     "metadata": {},
     "output_type": "execute_result"
    }
   ],
   "source": [
    "a = np.zeros((3, 5))\n",
    "\n",
    "a"
   ]
  },
  {
   "cell_type": "markdown",
   "id": "b73620c6",
   "metadata": {},
   "source": [
    "Tip elementov te tabele je `float`. Če bi radi `int`-e, moramo podati še argument `dtype`."
   ]
  },
  {
   "cell_type": "code",
   "execution_count": 9,
   "id": "4d5cfb56",
   "metadata": {},
   "outputs": [
    {
     "data": {
      "text/plain": [
       "array([[0, 0, 0, 0, 0],\n",
       "       [0, 0, 0, 0, 0],\n",
       "       [0, 0, 0, 0, 0]])"
      ]
     },
     "execution_count": 9,
     "metadata": {},
     "output_type": "execute_result"
    }
   ],
   "source": [
    "a = np.zeros((3, 5), dtype=int)\n",
    "\n",
    "a"
   ]
  },
  {
   "cell_type": "markdown",
   "id": "396e5472",
   "metadata": {},
   "source": [
    "Kaj preostali dve, je očitno."
   ]
  },
  {
   "cell_type": "code",
   "execution_count": 10,
   "id": "a4c033c3",
   "metadata": {},
   "outputs": [
    {
     "data": {
      "text/plain": [
       "array([[1, 1, 1, 1, 1],\n",
       "       [1, 1, 1, 1, 1],\n",
       "       [1, 1, 1, 1, 1]])"
      ]
     },
     "execution_count": 10,
     "metadata": {},
     "output_type": "execute_result"
    }
   ],
   "source": [
    "np.ones((3, 5), dtype=int)"
   ]
  },
  {
   "cell_type": "code",
   "execution_count": 11,
   "id": "f6b308e4",
   "metadata": {},
   "outputs": [
    {
     "data": {
      "text/plain": [
       "array([[42, 42, 42, 42, 42],\n",
       "       [42, 42, 42, 42, 42],\n",
       "       [42, 42, 42, 42, 42]])"
      ]
     },
     "execution_count": 11,
     "metadata": {},
     "output_type": "execute_result"
    }
   ],
   "source": [
    "np.full((3, 5), 42)"
   ]
  },
  {
   "cell_type": "markdown",
   "id": "87890878",
   "metadata": {},
   "source": [
    "## Naloga\n",
    "\n",
    "Lotite se naloge 13, [Transparent Origami](https://adventofcode.com/2021/day/13).\n",
    "\n",
    "Izgled \"origamija\" bomo očitno shranjevali v tabeli ničel in enk. Možno bi bilo tudi zgolj shranjevati koordinate točk, vendar moramo na koncu naloge izrisati sliko, tako da bo prej ko slej potrebno sestaviti takšno tabelo.\n",
    "\n",
    "Če boste origami shranili kot `bool`, boste lahko pri prepogibanju uporabljali seštevanje: `True + True` bo `True` in ne `2`. Lahko pa ga shranjujete kot `int` in uporabljate bitni `|`. Ali pa vzamete `int` in seštevate, potem pa ste previdni pri interpretaciji številk, ki jih imate.\n",
    "\n",
    "Najbolj zanimivo bo branje podatkov. Nanj se nanaša vsa \"snov\", ki smo si jo ogledali zgoraj.\n",
    "\n",
    "Jaz bi se lotil tako, da bi vsebino datoteke najprej razkosal v koordinate točk in navodila za prepogibanje,"
   ]
  },
  {
   "cell_type": "code",
   "execution_count": 12,
   "id": "93c60fff",
   "metadata": {},
   "outputs": [],
   "source": [
    "xy, instructions = open(\"example.txt\").read().split(\"\\n\\n\")"
   ]
  },
  {
   "cell_type": "markdown",
   "id": "0c375e3f",
   "metadata": {},
   "source": [
    "Koordinate so takle niz:"
   ]
  },
  {
   "cell_type": "code",
   "execution_count": 13,
   "id": "723b26bc",
   "metadata": {},
   "outputs": [
    {
     "data": {
      "text/plain": [
       "'6,10\\n0,14\\n9,10\\n0,3\\n10,4\\n4,11\\n6,0\\n6,12\\n4,1\\n0,13\\n10,12\\n3,4\\n3,0\\n8,4\\n1,10\\n2,14\\n8,10\\n9,0'"
      ]
     },
     "execution_count": 13,
     "metadata": {},
     "output_type": "execute_result"
    }
   ],
   "source": [
    "xy"
   ]
  },
  {
   "cell_type": "markdown",
   "id": "8a9e2172",
   "metadata": {},
   "source": [
    "Vse številke zložite v tabelo. Iz nje bo lahko ugotoviti dimenzije origamija; uporabite `np.max` po ustrezni osi, potem pa pri klicu `np.zeros` pazite na obliko, to je, kje bo `x` in kje `y`. Potem to tabelico koordinat - oziroma njena stolpca, saj menda znamo dobiti ničti in prvi stolpec? - uporabite za to, da v enem zamahu postavite vse enice, kamor je treba.\n",
    "\n",
    "Sledi prepogibanje. Prepogibamo vedno na sredi, zato je dovolj preveriti, ali vrstica z navodilom vsebuje `x` (ali `y`). Številko lahko ignorirate, saj jo poznate. Prepogib izvedete tako, da tabelico, ki predstavlja papir, v vsakem koraku zamenjate z novo, ki jo dobite tako, da seštejete levo in prezrcaljeno desno (ali zgornjo in prezrcaljeno spodnjo) polovico tabele. Za prepogib tako ne potrebujemo nobene zanke, le preprosto indeksiranje (vrstic ali stolpcev) in seštevanje v numpyju. Edina zanka v programu bo \n",
    "\n",
    "```python\n",
    "for instruction in instructions.splitlines()\n",
    "```\n",
    "\n",
    "ali kaj podobnega."
   ]
  }
 ],
 "metadata": {
  "kernelspec": {
   "display_name": "Python 3 (ipykernel)",
   "language": "python",
   "name": "python3"
  },
  "language_info": {
   "codemirror_mode": {
    "name": "ipython",
    "version": 3
   },
   "file_extension": ".py",
   "mimetype": "text/x-python",
   "name": "python",
   "nbconvert_exporter": "python",
   "pygments_lexer": "ipython3",
   "version": "3.10.0"
  }
 },
 "nbformat": 4,
 "nbformat_minor": 5
}
