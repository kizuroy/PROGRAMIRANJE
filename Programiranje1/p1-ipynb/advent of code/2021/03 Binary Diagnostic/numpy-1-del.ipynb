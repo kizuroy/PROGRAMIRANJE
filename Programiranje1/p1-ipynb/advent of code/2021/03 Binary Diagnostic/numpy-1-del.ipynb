{
 "cells": [
  {
   "cell_type": "markdown",
   "id": "e3fc7093",
   "metadata": {},
   "source": [
    "## Range\n",
    "\n",
    "Ko sem prejle rekel, da tabelo najpreprosteje naredimo z `np.array`, sem vedel, da to ni čisto res. Preprostejši (a še vedno ne najpreprostejši) način je funkcija `np.arange`. Ta deluje tako kot Pythonov `range`, le da vrne numpyjevo tabelo."
   ]
  },
  {
   "cell_type": "code",
   "execution_count": 1,
   "id": "8374eb14",
   "metadata": {},
   "outputs": [
    {
     "data": {
      "text/plain": [
       "array([0, 1, 2, 3, 4])"
      ]
     },
     "execution_count": 1,
     "metadata": {},
     "output_type": "execute_result"
    }
   ],
   "source": [
    "import numpy as np\n",
    "\n",
    "np.arange(5)"
   ]
  },
  {
   "cell_type": "markdown",
   "id": "96b04410",
   "metadata": {},
   "source": [
    "Morda vam pride prav pri naslednji nalogi. Morda pa ne, kakor se boste lotili."
   ]
  },
  {
   "cell_type": "markdown",
   "id": "f2e381db",
   "metadata": {},
   "source": [
    "## Večdimenzionalne tabele\n",
    "\n",
    "Rekel sem, da so Pythonove tabele lahko tudi večdimenzionalne. V Pythonu lahko naredimo seznam seznamov. Če ga podamo numpyjevemu `np.array`, dobimo dvodimenzionalno tabelo."
   ]
  },
  {
   "cell_type": "code",
   "execution_count": 2,
   "id": "f2524bc0",
   "metadata": {},
   "outputs": [],
   "source": [
    "a = np.array([[5, 8, 7, 1, 3],\n",
    "              [2, 5, 1, 1, 4],\n",
    "              [7, 6, 1, 9, 2]])"
   ]
  },
  {
   "cell_type": "markdown",
   "id": "2e0133d2",
   "metadata": {},
   "source": [
    "Vsi seznami znotraj seznama morajo biti seveda enako dolgi. Numpyjev array bo vedno pravokoten, ne nazobčan.\n",
    "\n",
    "Pri takem seznamu nas bo pogosto zanimala njegova oblika - koliko vrstic in koliko stolpcev ima. To lahko izvemo, tako kot če bi šlo za seznam seznamov, z `len`."
   ]
  },
  {
   "cell_type": "code",
   "execution_count": 3,
   "id": "8548b0f7",
   "metadata": {},
   "outputs": [
    {
     "data": {
      "text/plain": [
       "3"
      ]
     },
     "execution_count": 3,
     "metadata": {},
     "output_type": "execute_result"
    }
   ],
   "source": [
    "len(a)"
   ]
  },
  {
   "cell_type": "code",
   "execution_count": 4,
   "id": "15331259",
   "metadata": {},
   "outputs": [
    {
     "data": {
      "text/plain": [
       "5"
      ]
     },
     "execution_count": 4,
     "metadata": {},
     "output_type": "execute_result"
    }
   ],
   "source": [
    "len(a[0])"
   ]
  },
  {
   "cell_type": "markdown",
   "id": "efdd4c9d",
   "metadata": {},
   "source": [
    "Vendar to potrebujemo pogosto in posebej pri večdimenzionalnih tabelah bi postalo hitro zoprno. Namesto `len` uporabimo tabelin atribut `shape`:"
   ]
  },
  {
   "cell_type": "code",
   "execution_count": 5,
   "id": "125ad672",
   "metadata": {},
   "outputs": [
    {
     "data": {
      "text/plain": [
       "(3, 5)"
      ]
     },
     "execution_count": 5,
     "metadata": {},
     "output_type": "execute_result"
    }
   ],
   "source": [
    "a.shape"
   ]
  },
  {
   "cell_type": "markdown",
   "id": "b332f859",
   "metadata": {},
   "source": [
    "`a` ima torej tri vrstice in pet stolpcev.\n",
    "\n",
    "Pazite, `shape` ni funkcija. Tega `shape` ne pokličemo, temveč že vsebuje vrednost.\n",
    "\n",
    "### Indeksiranje večdimenzionalnih tabel\n",
    "\n",
    "Dvodimenzionalno tabelo indeksiramo z dvema indeksoma."
   ]
  },
  {
   "cell_type": "code",
   "execution_count": 6,
   "id": "bd69677b",
   "metadata": {},
   "outputs": [
    {
     "data": {
      "text/plain": [
       "9"
      ]
     },
     "execution_count": 6,
     "metadata": {},
     "output_type": "execute_result"
    }
   ],
   "source": [
    "a[2, 3]"
   ]
  },
  {
   "cell_type": "markdown",
   "id": "a31a27c8",
   "metadata": {},
   "source": [
    "Če navedemo le en indeks, dobimo vrstico."
   ]
  },
  {
   "cell_type": "code",
   "execution_count": 7,
   "id": "27be843c",
   "metadata": {},
   "outputs": [
    {
     "data": {
      "text/plain": [
       "array([7, 6, 1, 9, 2])"
      ]
     },
     "execution_count": 7,
     "metadata": {},
     "output_type": "execute_result"
    }
   ],
   "source": [
    "a[2]"
   ]
  },
  {
   "cell_type": "markdown",
   "id": "8101ab10",
   "metadata": {},
   "source": [
    "To je isto, kot če bi napisali"
   ]
  },
  {
   "cell_type": "code",
   "execution_count": 8,
   "id": "f0cb91c0",
   "metadata": {},
   "outputs": [
    {
     "data": {
      "text/plain": [
       "array([7, 6, 1, 9, 2])"
      ]
     },
     "execution_count": 8,
     "metadata": {},
     "output_type": "execute_result"
    }
   ],
   "source": [
    "a[2, :]"
   ]
  },
  {
   "cell_type": "markdown",
   "id": "383a1e41",
   "metadata": {},
   "source": [
    "Se pravi, želimo drugo vrstico - in to celo.\n",
    "\n",
    "Lahko pa tudi obrnemo in zahtevamo drugi stolpec."
   ]
  },
  {
   "cell_type": "code",
   "execution_count": 9,
   "id": "8b4594da",
   "metadata": {},
   "outputs": [
    {
     "data": {
      "text/plain": [
       "array([7, 1, 1])"
      ]
     },
     "execution_count": 9,
     "metadata": {},
     "output_type": "execute_result"
    }
   ],
   "source": [
    "a[:, 2]"
   ]
  },
  {
   "cell_type": "markdown",
   "id": "085d590c",
   "metadata": {},
   "source": [
    "Ali pa vse stolpce od drugega naprej."
   ]
  },
  {
   "cell_type": "code",
   "execution_count": 10,
   "id": "f84fd603",
   "metadata": {},
   "outputs": [
    {
     "data": {
      "text/plain": [
       "array([[7, 1, 3],\n",
       "       [1, 1, 4],\n",
       "       [1, 9, 2]])"
      ]
     },
     "execution_count": 10,
     "metadata": {},
     "output_type": "execute_result"
    }
   ],
   "source": [
    "a[:, 2:]"
   ]
  },
  {
   "cell_type": "markdown",
   "id": "bb2e9965",
   "metadata": {},
   "source": [
    "Vse vrstice do druge, vendar le zadnje tri stolpce."
   ]
  },
  {
   "cell_type": "code",
   "execution_count": 11,
   "id": "33c92862",
   "metadata": {},
   "outputs": [
    {
     "data": {
      "text/plain": [
       "array([[7, 1, 3],\n",
       "       [1, 1, 4]])"
      ]
     },
     "execution_count": 11,
     "metadata": {},
     "output_type": "execute_result"
    }
   ],
   "source": [
    "a[:2, -3:]"
   ]
  },
  {
   "cell_type": "markdown",
   "id": "9ac15e26",
   "metadata": {},
   "source": [
    "Skratka, počnemo lahko vse, kar smo počeli, ko smo indeksirali v eni dimenziji, le da to počnemo v dveh, z dvema indeksoma, ki sta lahko števili ali pa rezine."
   ]
  },
  {
   "cell_type": "markdown",
   "id": "9d289cc8",
   "metadata": {},
   "source": [
    "### Operacije po oseh"
   ]
  },
  {
   "cell_type": "markdown",
   "id": "6b523604",
   "metadata": {},
   "source": [
    "Kakšna je vsota `a`?"
   ]
  },
  {
   "cell_type": "code",
   "execution_count": 12,
   "id": "a88c53a2",
   "metadata": {},
   "outputs": [
    {
     "data": {
      "text/plain": [
       "62"
      ]
     },
     "execution_count": 12,
     "metadata": {},
     "output_type": "execute_result"
    }
   ],
   "source": [
    "np.sum(a)"
   ]
  },
  {
   "cell_type": "markdown",
   "id": "e3697518",
   "metadata": {},
   "source": [
    "To je sicer res, vendar to pogosto ni to, kar bi hoteli. Kaj če bi hoteli vsote vseh stolpcev ali vrstic?\n",
    "\n",
    "Tabela je dvodimenzionalna. Dimenzije štejemo od 0, tako kot se pač vedno šteje. Navpična dimenzija (vrstice) je 0, vodoravna (stolpci) je 1. Funkciji `sum` lahko dodamo še dimenzijo oziroma os, *axis*, po kateri naj sešteva. Seštevamo lahko torej navpično in dobimo vsoto stolpcev:"
   ]
  },
  {
   "cell_type": "code",
   "execution_count": 13,
   "id": "188eb638",
   "metadata": {},
   "outputs": [
    {
     "data": {
      "text/plain": [
       "array([14, 19,  9, 11,  9])"
      ]
     },
     "execution_count": 13,
     "metadata": {},
     "output_type": "execute_result"
    }
   ],
   "source": [
    "np.sum(a, axis=0)"
   ]
  },
  {
   "cell_type": "markdown",
   "id": "e392facd",
   "metadata": {},
   "source": [
    "ali vodoravno, da dobimo vsote vrstic:"
   ]
  },
  {
   "cell_type": "code",
   "execution_count": 14,
   "id": "2202eaaa",
   "metadata": {},
   "outputs": [
    {
     "data": {
      "text/plain": [
       "array([24, 13, 25])"
      ]
     },
     "execution_count": 14,
     "metadata": {},
     "output_type": "execute_result"
    }
   ],
   "source": [
    "np.sum(a, axis=1)"
   ]
  },
  {
   "cell_type": "markdown",
   "id": "0a39b1d7",
   "metadata": {},
   "source": [
    "## Naloga\n",
    "\n",
    "Naloga, ki jo bomo reševali s tem znanjem, je **prvi del** tretje naloge [Binary Diagnostic](https://adventofcode.com/2021/day/3). Trik je v tem, da poskusite poiskati najpogostejši bit za vse stolpce hkrati. Če ne znate, pa najprej vsak stolpec posebej, pa bomo skupaj pogledali, kako to narediti po večih.\n",
    "\n",
    "Še dva nasveta. Če boste kdaj imeli tabelo `bool`-ov, na primer"
   ]
  },
  {
   "cell_type": "code",
   "execution_count": 15,
   "id": "71db9a93",
   "metadata": {},
   "outputs": [],
   "source": [
    "m = np.array([False,  True, False, False,  True, False])"
   ]
  },
  {
   "cell_type": "markdown",
   "id": "a582729a",
   "metadata": {},
   "source": [
    "in se vam jo bo zahotelo spremeniti v tabelo `int`-ov, pokličite"
   ]
  },
  {
   "cell_type": "code",
   "execution_count": 16,
   "id": "df1bcb9e",
   "metadata": {},
   "outputs": [
    {
     "data": {
      "text/plain": [
       "array([0, 1, 0, 0, 1, 0])"
      ]
     },
     "execution_count": 16,
     "metadata": {},
     "output_type": "execute_result"
    }
   ],
   "source": [
    "m.astype(int)"
   ]
  },
  {
   "cell_type": "markdown",
   "id": "cfcf494e",
   "metadata": {},
   "source": [
    "`astype` seveda ne spreminja tabele, temveč vrne novo tabelo.\n",
    "\n",
    "Drugi nasvet pa povezuje nekaj iz te naloge in nekaj, o čemer smo pisali pri prejšnji. Tole vam zna priti prav:"
   ]
  },
  {
   "cell_type": "code",
   "execution_count": 17,
   "id": "0fb594f1",
   "metadata": {},
   "outputs": [
    {
     "data": {
      "text/plain": [
       "array([  1,   2,   4,   8,  16,  32,  64, 128, 256, 512])"
      ]
     },
     "execution_count": 17,
     "metadata": {},
     "output_type": "execute_result"
    }
   ],
   "source": [
    "2 ** np.arange(10)"
   ]
  }
 ],
 "metadata": {
  "kernelspec": {
   "display_name": "Python 3 (ipykernel)",
   "language": "python",
   "name": "python3"
  },
  "language_info": {
   "codemirror_mode": {
    "name": "ipython",
    "version": 3
   },
   "file_extension": ".py",
   "mimetype": "text/x-python",
   "name": "python",
   "nbconvert_exporter": "python",
   "pygments_lexer": "ipython3",
   "version": "3.10.0"
  }
 },
 "nbformat": 4,
 "nbformat_minor": 5
}
