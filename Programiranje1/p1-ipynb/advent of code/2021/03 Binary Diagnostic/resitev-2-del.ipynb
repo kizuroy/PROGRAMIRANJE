{
 "cells": [
  {
   "cell_type": "markdown",
   "id": "ae083cdd",
   "metadata": {},
   "source": [
    "## Dan 3: Binary Diagnostic, drugi del"
   ]
  },
  {
   "cell_type": "markdown",
   "id": "0110cab2",
   "metadata": {},
   "source": [
    "Drugi del zahteva, da najprej vzamemo vse podatke. \n",
    "\n",
    "```\n",
    "00100\n",
    "11110\n",
    "10110\n",
    "10111\n",
    "10101\n",
    "01111\n",
    "00111\n",
    "11100\n",
    "10000\n",
    "11001\n",
    "00010\n",
    "01010\n",
    "```\n",
    "\n",
    "Nato jih prefiltriramo; obdržimo samo tiste, katerih prvi bit je enak večinskemu. Večinska vrednost je 1, torej bomo obdržali samo vrstice, pri katerih je prvi bit enak 1.\n",
    "\n",
    "```\n",
    "11110\n",
    "10110\n",
    "10111\n",
    "10101\n",
    "11100\n",
    "10000\n",
    "11001\n",
    "```\n",
    "\n",
    "Vajo ponovimo z drugim bitom. Tu so v večini enice, torej vzamemo vrstice, ki imajo na drugem mestu enico.\n",
    "\n",
    "```\n",
    "10110\n",
    "10111\n",
    "10101\n",
    "10000\n",
    "```\n",
    "\n",
    "In tako naprej, dokler ne ostane ena sama vrstica.\n",
    "\n",
    "Preberimo podatke."
   ]
  },
  {
   "cell_type": "code",
   "execution_count": 2,
   "id": "cac05cbc",
   "metadata": {},
   "outputs": [],
   "source": [
    "import numpy as np\n",
    "\n",
    "data = np.array([[int(x) for x in v.strip()] for v in open(\"example.txt\")])"
   ]
  },
  {
   "cell_type": "markdown",
   "id": "ee2ea563",
   "metadata": {},
   "source": [
    "Pri reševanju bomo morali znati prebrati posamični stolpec. Ničtega, recimo, preberemo tako:"
   ]
  },
  {
   "cell_type": "code",
   "execution_count": 3,
   "id": "e5778186",
   "metadata": {},
   "outputs": [
    {
     "data": {
      "text/plain": [
       "array([0, 1, 1, 1, 1, 0, 0, 1, 1, 1, 0, 0])"
      ]
     },
     "execution_count": 3,
     "metadata": {},
     "output_type": "execute_result"
    }
   ],
   "source": [
    "column = data[:, 0]\n",
    "\n",
    "column"
   ]
  },
  {
   "cell_type": "markdown",
   "id": "ce5d01ae",
   "metadata": {},
   "source": [
    "Poleg tega bomo morali znati izbrati vrstice, pri katerih ima bit določeno vrednost. Za vajo recimo, da nas zanimajo vrstice, pri kateri je v tem stolpcu ničla. Katere so, izvemo tako:"
   ]
  },
  {
   "cell_type": "code",
   "execution_count": 4,
   "id": "e8f97426",
   "metadata": {},
   "outputs": [
    {
     "data": {
      "text/plain": [
       "array([ True, False, False, False, False,  True,  True, False, False,\n",
       "       False,  True,  True])"
      ]
     },
     "execution_count": 4,
     "metadata": {},
     "output_type": "execute_result"
    }
   ],
   "source": [
    "column == 0"
   ]
  },
  {
   "cell_type": "markdown",
   "id": "7265f8d9",
   "metadata": {},
   "source": [
    "Ta `column == 0` lahko uporabimo za indeksiranje. Takole izberemo vse vrstice, pri katerih je prvi bit enak `0`:"
   ]
  },
  {
   "cell_type": "code",
   "execution_count": 5,
   "id": "3d631d8c",
   "metadata": {},
   "outputs": [
    {
     "data": {
      "text/plain": [
       "array([[0, 0, 1, 0, 0],\n",
       "       [0, 1, 1, 1, 1],\n",
       "       [0, 0, 1, 1, 1],\n",
       "       [0, 0, 0, 1, 0],\n",
       "       [0, 1, 0, 1, 0]])"
      ]
     },
     "execution_count": 5,
     "metadata": {},
     "output_type": "execute_result"
    }
   ],
   "source": [
    "data[column == 0]"
   ]
  },
  {
   "cell_type": "markdown",
   "id": "f623efdd",
   "metadata": {},
   "source": [
    "Zdaj poznamo vse delčke. Le še v program jih moramo zložiti."
   ]
  },
  {
   "cell_type": "code",
   "execution_count": 8,
   "id": "5e0e9e17",
   "metadata": {},
   "outputs": [
    {
     "data": {
      "text/plain": [
       "array([[1, 0, 1, 1, 1]])"
      ]
     },
     "execution_count": 8,
     "metadata": {},
     "output_type": "execute_result"
    }
   ],
   "source": [
    "data = np.array([[int(x) for x in v.strip()] for v in open(\"example.txt\")])\n",
    "\n",
    "bit = 0\n",
    "while len(data) > 1:\n",
    "    column = data[:, bit]\n",
    "    majority = np.sum(column) >= data.shape[0] / 2\n",
    "    data = data[column == majority]\n",
    "    bit += 1\n",
    "\n",
    "data"
   ]
  },
  {
   "cell_type": "markdown",
   "id": "4e54fe05",
   "metadata": {},
   "source": [
    "Naprej pa tudi znamo."
   ]
  },
  {
   "cell_type": "code",
   "execution_count": 9,
   "id": "2f477a54",
   "metadata": {},
   "outputs": [
    {
     "data": {
      "text/plain": [
       "23"
      ]
     },
     "execution_count": 9,
     "metadata": {},
     "output_type": "execute_result"
    }
   ],
   "source": [
    "powers = 2 ** np.arange(data.shape[1])[::-1]\n",
    "\n",
    "np.sum(powers * data)"
   ]
  },
  {
   "cell_type": "markdown",
   "id": "9ad72cc0",
   "metadata": {},
   "source": [
    "Če smo čisto natančni: `data` je še vedno dvodimenzionalna tabela, čeprav z eno samo vrstico. `powers * data` bo pomnožil *vsako* vrstico z s potencami dvojke. Vemo pa, da bo `np.sum`, če mu ne podamo osi, vrnil vsoto vseh elementov tabele, se pravi, prek vseh vrstic. Ker je vrstica ena sama, pa je to itak eno in isto.\n",
    "\n",
    "Drugi del naloge zahteva, da na podoben način iščemo vrstice, ki vsebujejo manjšinski bit. Tega ne moramo najti kar kot komplement `data`, temveč moramo ponoviti celoten program tako, da `>=` zamenjamo z `<` ali pa se znajdemo kako drugače."
   ]
  }
 ],
 "metadata": {
  "kernelspec": {
   "display_name": "Python 3 (ipykernel)",
   "language": "python",
   "name": "python3"
  },
  "language_info": {
   "codemirror_mode": {
    "name": "ipython",
    "version": 3
   },
   "file_extension": ".py",
   "mimetype": "text/x-python",
   "name": "python",
   "nbconvert_exporter": "python",
   "pygments_lexer": "ipython3",
   "version": "3.10.0"
  }
 },
 "nbformat": 4,
 "nbformat_minor": 5
}
