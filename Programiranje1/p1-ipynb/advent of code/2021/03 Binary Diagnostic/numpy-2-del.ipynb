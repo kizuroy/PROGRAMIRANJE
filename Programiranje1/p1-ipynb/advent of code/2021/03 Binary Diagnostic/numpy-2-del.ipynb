{
 "cells": [
  {
   "cell_type": "markdown",
   "id": "96b04410",
   "metadata": {},
   "source": [
    "## Indeksiranje z maskami\n",
    "\n",
    "Imejmo tabelo"
   ]
  },
  {
   "cell_type": "code",
   "execution_count": 3,
   "id": "19bd807c",
   "metadata": {},
   "outputs": [],
   "source": [
    "import numpy as np\n",
    "\n",
    "a = np.array([5, 8, 3, 1, 10, 5])"
   ]
  },
  {
   "cell_type": "markdown",
   "id": "dd5beff0",
   "metadata": {},
   "source": [
    "Pripravimo \"masko\": tabelo, ki je enako dolga kot `a` in vsebuje `bool`-e."
   ]
  },
  {
   "cell_type": "code",
   "execution_count": 4,
   "id": "45c829ed",
   "metadata": {},
   "outputs": [],
   "source": [
    "m = np.array([True, True, True, False, False, True])"
   ]
  },
  {
   "cell_type": "markdown",
   "id": "e19f9803",
   "metadata": {},
   "source": [
    "Z masko `m` lahko izbiramo elemente `a`, tako da uporabimo `m` kot indeks."
   ]
  },
  {
   "cell_type": "code",
   "execution_count": 5,
   "id": "e91f3efe",
   "metadata": {},
   "outputs": [
    {
     "data": {
      "text/plain": [
       "array([5, 8, 3, 5])"
      ]
     },
     "execution_count": 5,
     "metadata": {},
     "output_type": "execute_result"
    }
   ],
   "source": [
    "a[m]"
   ]
  },
  {
   "cell_type": "markdown",
   "id": "8b7f0725",
   "metadata": {},
   "source": [
    "To nam vrne tiste elemente `a`-ja, pri katerih je istoležni element `m`-ja enak `True`.\n",
    "\n",
    "To je zelo koristna reč. Tako lahko, recimo, dobimo vse elemente `a`, ki so večji od 5. Pripravimo primerno masko"
   ]
  },
  {
   "cell_type": "code",
   "execution_count": 6,
   "id": "11e0efdf",
   "metadata": {},
   "outputs": [
    {
     "data": {
      "text/plain": [
       "array([False,  True, False, False,  True, False])"
      ]
     },
     "execution_count": 6,
     "metadata": {},
     "output_type": "execute_result"
    }
   ],
   "source": [
    "m = a > 5\n",
    "    \n",
    "m"
   ]
  },
  {
   "cell_type": "markdown",
   "id": "f5dfa528",
   "metadata": {},
   "source": [
    "in jo uporabimo:"
   ]
  },
  {
   "cell_type": "code",
   "execution_count": 7,
   "id": "a3697b7d",
   "metadata": {},
   "outputs": [
    {
     "data": {
      "text/plain": [
       "array([ 8, 10])"
      ]
     },
     "execution_count": 7,
     "metadata": {},
     "output_type": "execute_result"
    }
   ],
   "source": [
    "a[m]"
   ]
  },
  {
   "cell_type": "markdown",
   "id": "61600c52",
   "metadata": {},
   "source": [
    "To seveda navadno naredimo brez posebne spremenljivke, napišemo lahko kar:"
   ]
  },
  {
   "cell_type": "code",
   "execution_count": 8,
   "id": "1e08dd5d",
   "metadata": {},
   "outputs": [
    {
     "data": {
      "text/plain": [
       "array([ 8, 10])"
      ]
     },
     "execution_count": 8,
     "metadata": {},
     "output_type": "execute_result"
    }
   ],
   "source": [
    "a[a > 5]"
   ]
  },
  {
   "cell_type": "markdown",
   "id": "3d81d503",
   "metadata": {},
   "source": [
    "## Maske z večdimenzionalnimi tabelami\n",
    "\n",
    "Recimo, da imamo"
   ]
  },
  {
   "cell_type": "code",
   "execution_count": 9,
   "id": "006eb894",
   "metadata": {},
   "outputs": [],
   "source": [
    "a = np.array([[5, 8, 7, 1, 3],\n",
    "              [2, 5, 1, 1, 4],\n",
    "              [7, 6, 1, 9, 2]])"
   ]
  },
  {
   "cell_type": "markdown",
   "id": "d76a29d8",
   "metadata": {},
   "source": [
    "Kako bi dobili vse vrstice tabele, ki v stolpcu 1 vsebujejo število manjše od 7?"
   ]
  },
  {
   "cell_type": "markdown",
   "id": "83ba515e",
   "metadata": {},
   "source": [
    "Zanima nas drugi stolpec (in to vse vrstice tega stolpca), torej"
   ]
  },
  {
   "cell_type": "code",
   "execution_count": 10,
   "id": "3cb45758",
   "metadata": {},
   "outputs": [
    {
     "data": {
      "text/plain": [
       "array([8, 5, 6])"
      ]
     },
     "execution_count": 10,
     "metadata": {},
     "output_type": "execute_result"
    }
   ],
   "source": [
    "a[:, 1]"
   ]
  },
  {
   "cell_type": "markdown",
   "id": "3d259e43",
   "metadata": {},
   "source": [
    "Konkretno, vedeti hočemo, ali je tam število, ki je manjše od 7."
   ]
  },
  {
   "cell_type": "code",
   "execution_count": 11,
   "id": "da6b85bd",
   "metadata": {},
   "outputs": [
    {
     "data": {
      "text/plain": [
       "array([False,  True,  True])"
      ]
     },
     "execution_count": 11,
     "metadata": {},
     "output_type": "execute_result"
    }
   ],
   "source": [
    "a[:, 1] < 7"
   ]
  },
  {
   "cell_type": "markdown",
   "id": "e67e7b79",
   "metadata": {},
   "source": [
    "In to bomo uporabili za izbor vrstic:"
   ]
  },
  {
   "cell_type": "code",
   "execution_count": 12,
   "id": "1fd9eb13",
   "metadata": {},
   "outputs": [
    {
     "data": {
      "text/plain": [
       "array([[2, 5, 1, 1, 4],\n",
       "       [7, 6, 1, 9, 2]])"
      ]
     },
     "execution_count": 12,
     "metadata": {},
     "output_type": "execute_result"
    }
   ],
   "source": [
    "a[a[:, 1] < 7]"
   ]
  },
  {
   "cell_type": "markdown",
   "id": "bcabb4ac",
   "metadata": {},
   "source": [
    "Nekaj podobnega boste delali ob reševanju naloge.\n",
    "\n",
    "Tu pa si oglejmo še nekaj malo bolj zapletenega. Hočemo vrstice, katerih vsota je večja od 20. Vsote vrstic dobimo z"
   ]
  },
  {
   "cell_type": "code",
   "execution_count": 13,
   "id": "46d2fbe0",
   "metadata": {},
   "outputs": [
    {
     "data": {
      "text/plain": [
       "array([24, 13, 25])"
      ]
     },
     "execution_count": 13,
     "metadata": {},
     "output_type": "execute_result"
    }
   ],
   "source": [
    "np.sum(a, axis=1)"
   ]
  },
  {
   "cell_type": "markdown",
   "id": "ac8a5940",
   "metadata": {},
   "source": [
    "Zanimajo nas vsote, večje od 20, torej"
   ]
  },
  {
   "cell_type": "code",
   "execution_count": 14,
   "id": "1cbd7c6b",
   "metadata": {},
   "outputs": [
    {
     "data": {
      "text/plain": [
       "array([ True, False,  True])"
      ]
     },
     "execution_count": 14,
     "metadata": {},
     "output_type": "execute_result"
    }
   ],
   "source": [
    "np.sum(a, axis=1) > 20"
   ]
  },
  {
   "cell_type": "markdown",
   "id": "d810bfdc",
   "metadata": {},
   "source": [
    "Vidimo, prva in tretja vrstica. Torej"
   ]
  },
  {
   "cell_type": "code",
   "execution_count": 15,
   "id": "41739446",
   "metadata": {},
   "outputs": [
    {
     "data": {
      "text/plain": [
       "array([[5, 8, 7, 1, 3],\n",
       "       [7, 6, 1, 9, 2]])"
      ]
     },
     "execution_count": 15,
     "metadata": {},
     "output_type": "execute_result"
    }
   ],
   "source": [
    "a[np.sum(a, axis=1) > 20]"
   ]
  },
  {
   "cell_type": "markdown",
   "id": "db367a95",
   "metadata": {},
   "source": [
    "Kaj pa stolpci, katerih vsota je večja od deset?"
   ]
  },
  {
   "cell_type": "code",
   "execution_count": 16,
   "id": "12964101",
   "metadata": {},
   "outputs": [
    {
     "data": {
      "text/plain": [
       "array([[5, 8, 1],\n",
       "       [2, 5, 1],\n",
       "       [7, 6, 9]])"
      ]
     },
     "execution_count": 16,
     "metadata": {},
     "output_type": "execute_result"
    }
   ],
   "source": [
    "a[:, np.sum(a, axis=0) > 10]"
   ]
  },
  {
   "cell_type": "markdown",
   "id": "0a39b1d7",
   "metadata": {},
   "source": [
    "Ne spreglejte: `np.sum(a, axis=1)` je potrebno uporabiti kot drugi indeks. Prvi indeks pa je `:`, saj želimo vse vrstice; izbir(č)ni smo le glede stolpcev.\n",
    "\n",
    "## Naloga\n",
    "\n",
    "Zdaj znamo dovolj, da učinkovito rešimo še drugi del tretje naloge [Binary Diagnostic](https://adventofcode.com/2021/day/3). Tu žal ne bo šlo tako, da bi računali za vse stolpce hkrati. Potrebno bo narediti zanko, s katero bomo šli prek stolpcev in izbirali vrstice, ki ustrezajo kriteriju, dokler ne ostane ena sama vrstica."
   ]
  }
 ],
 "metadata": {
  "kernelspec": {
   "display_name": "Python 3 (ipykernel)",
   "language": "python",
   "name": "python3"
  },
  "language_info": {
   "codemirror_mode": {
    "name": "ipython",
    "version": 3
   },
   "file_extension": ".py",
   "mimetype": "text/x-python",
   "name": "python",
   "nbconvert_exporter": "python",
   "pygments_lexer": "ipython3",
   "version": "3.10.0"
  }
 },
 "nbformat": 4,
 "nbformat_minor": 5
}
