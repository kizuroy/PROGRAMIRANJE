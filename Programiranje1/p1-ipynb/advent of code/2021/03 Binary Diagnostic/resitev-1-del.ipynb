{
 "cells": [
  {
   "cell_type": "markdown",
   "id": "ae083cdd",
   "metadata": {},
   "source": [
    "## Dan 3: Binary Diagnostic, 1. del\n",
    "\n",
    "V nalogi dobimo seznam števil v dvojiškem zapisu. Odkriti moramo, kakšna je najpogostejša vrednost prvega bita, drugega bita in tako naprej do konca. Če je obojih enako, rečemo, da je pogostejša enica. Te, najpogostejše vrednosti sestavimo v število. Se pravi, vsak bit novega števila izračunamo kot najpogostejšo vrednost bit na tem mestu med vsemi števili na seznamu.\n",
    "\n",
    "To število moramo nato pomnožiti s komplementom tega števila.\n",
    "\n",
    "Podatki so videti takole:\n",
    "\n",
    "```\n",
    "00100\n",
    "11110\n",
    "10110\n",
    "10111\n",
    "10101\n",
    "01111\n",
    "00111\n",
    "11100\n",
    "10000\n",
    "11001\n",
    "00010\n",
    "01010\n",
    "```\n",
    "\n",
    "Preberimo jih v tabelo: odpremo datoteko, gremo z zanko `for` čez vrstice, vsaki vrstici odluščimo `\\n`, nato pa gremo čez znake te vrstice in vsakega posebej spremenimo v `int`. Vse skupaj zložimo v seznam in ga damo funkciji `np.array`."
   ]
  },
  {
   "cell_type": "code",
   "execution_count": 74,
   "id": "9528dffe",
   "metadata": {},
   "outputs": [
    {
     "data": {
      "text/plain": [
       "array([[0, 0, 1, 0, 0],\n",
       "       [1, 1, 1, 1, 0],\n",
       "       [1, 0, 1, 1, 0],\n",
       "       [1, 0, 1, 1, 1],\n",
       "       [1, 0, 1, 0, 1],\n",
       "       [0, 1, 1, 1, 1],\n",
       "       [0, 0, 1, 1, 1],\n",
       "       [1, 1, 1, 0, 0],\n",
       "       [1, 0, 0, 0, 0],\n",
       "       [1, 1, 0, 0, 1],\n",
       "       [0, 0, 0, 1, 0],\n",
       "       [0, 1, 0, 1, 0]])"
      ]
     },
     "execution_count": 74,
     "metadata": {},
     "output_type": "execute_result"
    }
   ],
   "source": [
    "import numpy as np\n",
    "\n",
    "data = np.array([[int(x) for x in v.strip()] for v in open(\"example.txt\")])\n",
    "data"
   ]
  },
  {
   "cell_type": "markdown",
   "id": "ae192fc3",
   "metadata": {},
   "source": [
    "Mimogrede poglejmo še dimenzije naše tabele:"
   ]
  },
  {
   "cell_type": "code",
   "execution_count": 49,
   "id": "eb29b946",
   "metadata": {},
   "outputs": [
    {
     "data": {
      "text/plain": [
       "(12, 5)"
      ]
     },
     "execution_count": 49,
     "metadata": {},
     "output_type": "execute_result"
    }
   ],
   "source": [
    "data.shape"
   ]
  },
  {
   "cell_type": "markdown",
   "id": "e075b77f",
   "metadata": {},
   "source": [
    "Prva dimenzija ima velikost 12; imamo 12 vrstic. Druga je 5, 5 stolpcev oziroma, v naši zgodbi, bitov.\n",
    "\n",
    "Najpogostejšo vrednost v vrstici lahko dobimo, recimo, tako da izračunamo vsoto po osi (dimenziji) 0, torej po vrsticah."
   ]
  },
  {
   "cell_type": "code",
   "execution_count": 50,
   "id": "6b05a658",
   "metadata": {},
   "outputs": [
    {
     "data": {
      "text/plain": [
       "array([7, 5, 8, 7, 5])"
      ]
     },
     "execution_count": 50,
     "metadata": {},
     "output_type": "execute_result"
    }
   ],
   "source": [
    "np.sum(data, axis=0)"
   ]
  },
  {
   "cell_type": "markdown",
   "id": "a0211765",
   "metadata": {},
   "source": [
    "Enica je večinska vrednost, kadar je ta vsota večja (ali enaka) od polovice števila vrstic. To dobimo z `len(data)` ali z `data.shape[0]`. `data.shape` je namreč terka, ki vsebuje dimenziji tabele."
   ]
  },
  {
   "cell_type": "code",
   "execution_count": 51,
   "id": "bf245327",
   "metadata": {},
   "outputs": [
    {
     "data": {
      "text/plain": [
       "array([ True, False,  True,  True, False])"
      ]
     },
     "execution_count": 51,
     "metadata": {},
     "output_type": "execute_result"
    }
   ],
   "source": [
    "np.sum(data, axis=0) >= data.shape[0] / 2"
   ]
  },
  {
   "cell_type": "markdown",
   "id": "3eafe38d",
   "metadata": {},
   "source": [
    "Kar smo pravkar naračunali, poimenujmo `bits`. To sicer ni potrebno, a da bomo lepše videli, kaj se dogaja, pretvorimo tabelo iz `bool` v `int`."
   ]
  },
  {
   "cell_type": "code",
   "execution_count": 52,
   "id": "68f22dcf",
   "metadata": {},
   "outputs": [
    {
     "data": {
      "text/plain": [
       "array([1, 0, 1, 1, 0])"
      ]
     },
     "execution_count": 52,
     "metadata": {},
     "output_type": "execute_result"
    }
   ],
   "source": [
    "bits = (np.sum(data, axis=0) >= data.shape[0] / 2).astype(int)\n",
    "\n",
    "bits"
   ]
  },
  {
   "cell_type": "markdown",
   "id": "06e7b361",
   "metadata": {},
   "source": [
    "Namesto seštevanja in primerjanja z dolžino, bi lahko s funkcijo `np.mean` izračunali poprečno vrednost in preverjali, ali je večje ali enako 0.5.\n",
    "\n",
    "Tudi to, kar sledi - pretvarjanje v desetiški zapis - bi lahko naredili na več načinov. Tu bomo uporabili najbolj zabavnega in poučnega. Glede na gornjo tabelo je število, ki ga iščemo, enako \n",
    "\n",
    "```\n",
    "1 * 16 + 0 * 8 + 1 * 4 + 1 * 2 + 0 * 1\n",
    "```\n",
    "\n",
    "Zmnožiti moramo torej naslednji tabeli\n",
    "\n",
    "```\n",
    "[ 1, 0, 1, 1, 0]\n",
    "[16, 8, 4, 2, 1]\n",
    "```\n",
    "\n",
    "Prvo imamo, drugo moramo pripraviti. Kako pripravimo tabelo potenc dvojke?\n",
    "\n",
    "Najprej pripravimo števila od 0 do toliko, kolikor bitov imamo. Število bitov, kot smo videli, izvemo v `data.shape[1]`"
   ]
  },
  {
   "cell_type": "code",
   "execution_count": 54,
   "id": "78986c25",
   "metadata": {},
   "outputs": [
    {
     "data": {
      "text/plain": [
       "array([0, 1, 2, 3, 4])"
      ]
     },
     "execution_count": 54,
     "metadata": {},
     "output_type": "execute_result"
    }
   ],
   "source": [
    "np.arange(data.shape[1])"
   ]
  },
  {
   "cell_type": "markdown",
   "id": "420a2f15",
   "metadata": {},
   "source": [
    "Izračunati moramo tabelo `[2 ** 0, 2 ** 1, 2 ** 2, ...]`. Se pravi"
   ]
  },
  {
   "cell_type": "code",
   "execution_count": 57,
   "id": "acc6fb75",
   "metadata": {},
   "outputs": [
    {
     "data": {
      "text/plain": [
       "array([ 1,  2,  4,  8, 16])"
      ]
     },
     "execution_count": 57,
     "metadata": {},
     "output_type": "execute_result"
    }
   ],
   "source": [
    "2 ** np.arange(data.shape[1])"
   ]
  },
  {
   "cell_type": "markdown",
   "id": "b231afc3",
   "metadata": {},
   "source": [
    "Vse skupaj moramo še obrniti, saj mora biti najpomembnejši bit, 16, na levi. Potence shranimo v `powers`."
   ]
  },
  {
   "cell_type": "code",
   "execution_count": 58,
   "id": "b0ff50be",
   "metadata": {},
   "outputs": [
    {
     "data": {
      "text/plain": [
       "array([16,  8,  4,  2,  1])"
      ]
     },
     "execution_count": 58,
     "metadata": {},
     "output_type": "execute_result"
    }
   ],
   "source": [
    "powers = 2 ** np.arange(data.shape[1])[::-1]\n",
    "\n",
    "powers"
   ]
  },
  {
   "cell_type": "markdown",
   "id": "d7a63d32",
   "metadata": {},
   "source": [
    "Če tabeli zmnožimo, dobimo"
   ]
  },
  {
   "cell_type": "code",
   "execution_count": 63,
   "id": "7e01db0a",
   "metadata": {},
   "outputs": [
    {
     "data": {
      "text/plain": [
       "array([16,  0,  4,  2,  0])"
      ]
     },
     "execution_count": 63,
     "metadata": {},
     "output_type": "execute_result"
    }
   ],
   "source": [
    "powers * bits"
   ]
  },
  {
   "cell_type": "markdown",
   "id": "0906df3e",
   "metadata": {},
   "source": [
    "To moramo le še sešteti."
   ]
  },
  {
   "cell_type": "code",
   "execution_count": 64,
   "id": "c19d82f0",
   "metadata": {},
   "outputs": [
    {
     "data": {
      "text/plain": [
       "22"
      ]
     },
     "execution_count": 64,
     "metadata": {},
     "output_type": "execute_result"
    }
   ],
   "source": [
    "np.sum(powers * bits)"
   ]
  },
  {
   "cell_type": "markdown",
   "id": "e061886b",
   "metadata": {},
   "source": [
    "Komplement bomo dobili z `1 - bits` (če tabele ne bi spreminjali iz `bool` v `int`, pa bi lahko uporabili tudi operator za dvojiški komplement, `~bits`)."
   ]
  },
  {
   "cell_type": "code",
   "execution_count": 69,
   "id": "fb1eca39",
   "metadata": {},
   "outputs": [
    {
     "data": {
      "text/plain": [
       "9"
      ]
     },
     "execution_count": 69,
     "metadata": {},
     "output_type": "execute_result"
    }
   ],
   "source": [
    "np.sum(powers * (1 - bits))"
   ]
  },
  {
   "cell_type": "markdown",
   "id": "1856bdd2",
   "metadata": {},
   "source": [
    "Celotna rešitev prvega dela je torej"
   ]
  },
  {
   "cell_type": "code",
   "execution_count": 71,
   "id": "f7448a6d",
   "metadata": {},
   "outputs": [
    {
     "data": {
      "text/plain": [
       "198"
      ]
     },
     "execution_count": 71,
     "metadata": {},
     "output_type": "execute_result"
    }
   ],
   "source": [
    "bits = (np.sum(data, axis=0) >= data.shape[0] / 2).astype(int)\n",
    "np.sum(powers * bits) * np.sum(powers * (1 - bits))"
   ]
  }
 ],
 "metadata": {
  "kernelspec": {
   "display_name": "Python 3 (ipykernel)",
   "language": "python",
   "name": "python3"
  },
  "language_info": {
   "codemirror_mode": {
    "name": "ipython",
    "version": 3
   },
   "file_extension": ".py",
   "mimetype": "text/x-python",
   "name": "python",
   "nbconvert_exporter": "python",
   "pygments_lexer": "ipython3",
   "version": "3.10.0"
  }
 },
 "nbformat": 4,
 "nbformat_minor": 5
}
