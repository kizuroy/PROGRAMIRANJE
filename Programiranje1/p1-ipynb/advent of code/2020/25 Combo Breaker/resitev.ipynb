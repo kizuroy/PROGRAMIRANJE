{
 "cells": [
  {
   "cell_type": "markdown",
   "metadata": {},
   "source": [
    "# Day 25: Combo Breaker\n",
    "\n",
    "([Povezava na nalogo](https://adventofcode.com/2020/day/25))\n",
    "\n",
    "V bistvu je bilo potrebno razbiti [Diffie-Hellmanov postopek izmenjave ključev](https://en.wikipedia.org/wiki/Diffie%E2%80%93Hellman_key_exchange) za podano bazo, modul in javne ključe.\n",
    "\n",
    "Za kaj gre, si lahko preberemo v originalni nalogi ali na Wikipediji. Izračunati je potrebno diskretni logaritem in nato potenco z modulom. Diskretni logaritem moramo sprogramirati sami in ker številke niso prevelike, deluje hitro. Potenciranje z modulom pa Python že ima: funkcija `pow(x, y, m)` vrne `x ** y % m`, le da to izračuna hitrejše, kot če bi najprej računala potenco in potem ostanek. Rešitev je torej:"
   ]
  },
  {
   "cell_type": "code",
   "execution_count": 7,
   "metadata": {},
   "outputs": [
    {
     "name": "stdout",
     "output_type": "stream",
     "text": [
      "14897079\n"
     ]
    }
   ],
   "source": [
    "from itertools import count\n",
    "\n",
    "def disc_log(base, x, m):\n",
    "    n = 1\n",
    "    for y in count():\n",
    "        if n == x:\n",
    "            return y\n",
    "        else:\n",
    "            n = (n * base) % m\n",
    "\n",
    "m = 20201227\n",
    "d = disc_log(7, 5764801, m)\n",
    "print(pow(17807724, d, m))"
   ]
  }
 ],
 "metadata": {
  "kernelspec": {
   "display_name": "Python 3",
   "language": "python",
   "name": "python3"
  },
  "language_info": {
   "codemirror_mode": {
    "name": "ipython",
    "version": 3
   },
   "file_extension": ".py",
   "mimetype": "text/x-python",
   "name": "python",
   "nbconvert_exporter": "python",
   "pygments_lexer": "ipython3",
   "version": "3.7.4"
  }
 },
 "nbformat": 4,
 "nbformat_minor": 4
}
