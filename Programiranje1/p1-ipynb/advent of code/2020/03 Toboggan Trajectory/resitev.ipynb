{
 "cells": [
  {
   "cell_type": "markdown",
   "metadata": {},
   "source": [
    "## Day 3: Toboggan Trajectory\n",
    "\n",
    "([Povezava na nalogo](https://adventofcode.com/2020/day/3)]\n",
    "\n",
    "V tretji nalogi je podan zemljevid gozda.\n",
    "\n",
    "```\n",
    "..##.......\n",
    "#...#...#..\n",
    ".#....#..#.\n",
    "..#.#...#.#\n",
    ".#...##..#.\n",
    "..#.##.....\n",
    ".#.#.#....#\n",
    ".#........#\n",
    "#.##...#...\n",
    "#...##....#\n",
    ".#..#...#.#\n",
    "```\n",
    "\n",
    "To je zgolj začetek - isti vzorec se še velikokrat ponovi proti desni. Z zgornjega levega oglišča se spustimo desno dol, tako da gremo v vsakem koraku vrstico nižje in tri znake desno.\n",
    "\n",
    "```\n",
    "O.##.........##.........##.........##.........##.........##.......  --->\n",
    "#..O#...#..#...#...#..#...#...#..#...#...#..#...#...#..#...#...#..\n",
    ".#....X..#..#....#..#..#....#..#..#....#..#..#....#..#..#....#..#.\n",
    "..#.#...#O#..#.#...#.#..#.#...#.#..#.#...#.#..#.#...#.#..#.#...#.#\n",
    ".#...##..#..X...##..#..#...##..#..#...##..#..#...##..#..#...##..#.\n",
    "..#.##.......#.X#.......#.##.......#.##.......#.##.......#.##.....  --->\n",
    ".#.#.#....#.#.#.#.O..#.#.#.#....#.#.#.#....#.#.#.#....#.#.#.#....#\n",
    ".#........#.#........X.#........#.#........#.#........#.#........#\n",
    "#.##...#...#.##...#...#.X#...#...#.##...#...#.##...#...#.##...#...\n",
    "#...##....##...##....##...#X....##...##....##...##....##...##....#\n",
    ".#..#...#.#.#..#...#.#.#..#...X.#.#..#...#.#.#..#...#.#.#..#...#.#  --->\n",
    "```\n",
    "\n",
    "Znaki `O` in `X` predstavljajo našo pot - `O` pomeni proste celice, `X` pa tiste, kjer zadanemo drevo. Zanima nas, koliko dreves bomo podrli.\n",
    "\n",
    "## Prvi del\n",
    "\n",
    "Branje je trivialno."
   ]
  },
  {
   "cell_type": "code",
   "execution_count": 35,
   "metadata": {},
   "outputs": [],
   "source": [
    "forest = [x.strip() for x in open(\"input.txt\")]"
   ]
  },
  {
   "cell_type": "markdown",
   "metadata": {},
   "source": [
    "Zdaj pa spust. Naredili bomo zanko čez vrstice, `for line in forest`. Poleg tega bomo hranili tudi koordinato `y`, saj je iz nje trivialno izračunati `x`: `x = y * 3`. Koordinato `y` bomo dobili kar z `enumerate`."
   ]
  },
  {
   "cell_type": "code",
   "execution_count": 27,
   "metadata": {},
   "outputs": [
    {
     "ename": "IndexError",
     "evalue": "string index out of range",
     "output_type": "error",
     "traceback": [
      "\u001b[0;31m---------------------------------------------------------------------------\u001b[0m",
      "\u001b[0;31mIndexError\u001b[0m                                Traceback (most recent call last)",
      "\u001b[0;32m<ipython-input-27-eabe8b28dd4a>\u001b[0m in \u001b[0;36m<module>\u001b[0;34m\u001b[0m\n\u001b[1;32m      1\u001b[0m \u001b[0mhits\u001b[0m \u001b[0;34m=\u001b[0m \u001b[0;36m0\u001b[0m\u001b[0;34m\u001b[0m\u001b[0;34m\u001b[0m\u001b[0m\n\u001b[1;32m      2\u001b[0m \u001b[0;32mfor\u001b[0m \u001b[0my\u001b[0m\u001b[0;34m,\u001b[0m \u001b[0mline\u001b[0m \u001b[0;32min\u001b[0m \u001b[0menumerate\u001b[0m\u001b[0;34m(\u001b[0m\u001b[0mforest\u001b[0m\u001b[0;34m)\u001b[0m\u001b[0;34m:\u001b[0m\u001b[0;34m\u001b[0m\u001b[0;34m\u001b[0m\u001b[0m\n\u001b[0;32m----> 3\u001b[0;31m     \u001b[0;32mif\u001b[0m \u001b[0mline\u001b[0m\u001b[0;34m[\u001b[0m\u001b[0my\u001b[0m \u001b[0;34m*\u001b[0m \u001b[0;36m3\u001b[0m\u001b[0;34m]\u001b[0m \u001b[0;34m==\u001b[0m \u001b[0;34m\"#\"\u001b[0m\u001b[0;34m:\u001b[0m\u001b[0;34m\u001b[0m\u001b[0;34m\u001b[0m\u001b[0m\n\u001b[0m\u001b[1;32m      4\u001b[0m         \u001b[0mhits\u001b[0m \u001b[0;34m+=\u001b[0m \u001b[0;36m1\u001b[0m\u001b[0;34m\u001b[0m\u001b[0;34m\u001b[0m\u001b[0m\n\u001b[1;32m      5\u001b[0m \u001b[0mprint\u001b[0m\u001b[0;34m(\u001b[0m\u001b[0mhits\u001b[0m\u001b[0;34m)\u001b[0m\u001b[0;34m\u001b[0m\u001b[0;34m\u001b[0m\u001b[0m\n",
      "\u001b[0;31mIndexError\u001b[0m: string index out of range"
     ]
    }
   ],
   "source": [
    "hits = 0\n",
    "for y, line in enumerate(forest):\n",
    "    if line[y * 3] == \"#\":\n",
    "        hits += 1\n",
    "print(hits)"
   ]
  },
  {
   "cell_type": "markdown",
   "metadata": {},
   "source": [
    "Seveda ne. `y * 3` je hitro prevelik, gozd pa se ponavlja. To, da \"*pridemo okoli*\" najlažje opišemo z ostankom pri deljenju z dolžino vrstice."
   ]
  },
  {
   "cell_type": "code",
   "execution_count": 28,
   "metadata": {},
   "outputs": [
    {
     "name": "stdout",
     "output_type": "stream",
     "text": [
      "7\n"
     ]
    }
   ],
   "source": [
    "n = 0\n",
    "for y, line in enumerate(forest):\n",
    "    if line[y * 3 % len(line)] == \"#\":\n",
    "        n += 1\n",
    "print(n)"
   ]
  },
  {
   "cell_type": "markdown",
   "metadata": {},
   "source": [
    "Po zgledu tega, kar smo se naučili ob prejšnji nalogi, spremenimo to v vsoto: šteti želimo, kolikokrat je bil izraz `line[y * 3 % len(line)] == \"#\"` resničen, torej enak `True` (`1`) in ne `False` (`0`)."
   ]
  },
  {
   "cell_type": "markdown",
   "metadata": {},
   "source": [
    "## Drugi del\n",
    "\n",
    "Drugi del od nas zahteva, da preverimo različne smeri, konkretno "
   ]
  },
  {
   "cell_type": "code",
   "execution_count": 32,
   "metadata": {},
   "outputs": [],
   "source": [
    "directions = [(1, 1), (3, 1), (5, 1), (7, 1), (1, 2)]"
   ]
  },
  {
   "cell_type": "markdown",
   "metadata": {},
   "source": [
    "pri čemer prvo število pomeni dolžino pomika navzdol, drugi dolžino pomika desno.\n",
    "\n",
    "Gornji program spremenimo v funkcijo in mu dodamo argumenta `dx` in `dy`."
   ]
  },
  {
   "cell_type": "code",
   "execution_count": 33,
   "metadata": {},
   "outputs": [
    {
     "data": {
      "text/plain": [
       "7"
      ]
     },
     "execution_count": 33,
     "metadata": {},
     "output_type": "execute_result"
    }
   ],
   "source": [
    "def hits(dx, dy, forest):\n",
    "    n = 0\n",
    "    for y, line in enumerate(forest[::dy]):\n",
    "        if line[y * dx % len(line)] == \"#\":\n",
    "            n += 1\n",
    "    return n\n",
    "\n",
    "hits(3, 1, forest)"
   ]
  },
  {
   "cell_type": "markdown",
   "metadata": {},
   "source": [
    "Kam sta šla `dx` in `dy`? Za `dx` je očitno - nadomestil je trojko. `dy` pa je razredčil gozd: s `forest[::dy]` poskrbimo, da bomo gledali samo vsako `dy`-to vrstico gozda.\n",
    "\n",
    "Naloga pravi, da je potrebno izračunati število zadetih dreves za vsako od podanih smeri in to namnožiti skupaj."
   ]
  },
  {
   "cell_type": "code",
   "execution_count": 37,
   "metadata": {},
   "outputs": [
    {
     "name": "stdout",
     "output_type": "stream",
     "text": [
      "2431272960\n"
     ]
    }
   ],
   "source": [
    "\n",
    "product = 1\n",
    "for dx, dy in directions:\n",
    "    product *= hits(dx, dy, forest)\n",
    "print(product)"
   ]
  },
  {
   "cell_type": "markdown",
   "metadata": {},
   "source": [
    "## Krajša rešitev\n",
    "\n",
    "Tako tole rešimo z generatorji.\n",
    "\n",
    "Očitno bi bilo to mogoče natlačiti v eno samo vrstico. A to ni poanta. Tole je še vedno berljivo."
   ]
  },
  {
   "cell_type": "code",
   "execution_count": 44,
   "metadata": {},
   "outputs": [
    {
     "name": "stdout",
     "output_type": "stream",
     "text": [
      "184\n",
      "2431272960\n"
     ]
    }
   ],
   "source": [
    "from functools import reduce\n",
    "from operator import mul\n",
    "\n",
    "forest = [x.strip() for x in open(\"input.txt\")]\n",
    "directions = [(1, 1), (3, 1), (5, 1), (7, 1), (1, 2)]\n",
    "\n",
    "def hits(dx, dy, forest):\n",
    "    return sum(line[y * dx % len(line)] == \"#\"\n",
    "               for y, line in enumerate(forest[::dy]))\n",
    "\n",
    "print(hits(3, 1, forest))\n",
    "\n",
    "print(reduce(mul, (hits(dx, dy, forest) for dx, dy in directions)))"
   ]
  }
 ],
 "metadata": {
  "kernelspec": {
   "display_name": "Python 3",
   "language": "python",
   "name": "python3"
  },
  "language_info": {
   "codemirror_mode": {
    "name": "ipython",
    "version": 3
   },
   "file_extension": ".py",
   "mimetype": "text/x-python",
   "name": "python",
   "nbconvert_exporter": "python",
   "pygments_lexer": "ipython3",
   "version": "3.7.4"
  }
 },
 "nbformat": 4,
 "nbformat_minor": 4
}
