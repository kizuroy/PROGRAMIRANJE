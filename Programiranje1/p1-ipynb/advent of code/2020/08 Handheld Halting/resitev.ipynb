{
 "cells": [
  {
   "cell_type": "markdown",
   "metadata": {},
   "source": [
    "## Day 08: Handheld Halting\n",
    "\n",
    "([Povezava na nalogo](https://adventofcode.com/2020/day/8))\n",
    "\n",
    "Imamo procesor z enim samim registrom in tremi ukazi. `add op` poveča register za podano vrednost, `jmp op` je relativni skok za podano razdaljo, `nop op` ne naredi ničesar.\n",
    "\n",
    "Podan je program v obliki\n",
    "\n",
    "```\n",
    "nop +0\n",
    "acc +1\n",
    "jmp +4\n",
    "acc +3\n",
    "jmp -3\n",
    "acc -99\n",
    "acc +1\n",
    "jmp -4\n",
    "acc +6\n",
    "```\n",
    "\n",
    "Program se zacikla. Prva naloga je ugotoviti vrednost registra ob prvem ponovljenem ukazu. Druga naloga je ugotoviti, kateri `jmp` je potrebno zamenjati v `nop` ali obratno, tako da se program izteče, to je, poskuša izvesti ukaz, ki je ontran programa. Naloga je, spet, poiskati vrednost registra v trenutku, ko se to zgodi.\n",
    "\n",
    "## Branje podatkov\n",
    "\n",
    "Najprej razkosamo vse vrstice na dvoje. To storimo z `map(str.split, open(\"input.txt\"))`. `map`, kot morda vemo, ki prejme dva elementa, funkcijo in generator. Nato vsakem elementu, ki ga vrne generator, pokliče funkcijo in vrača (kot generator) njene rezultate.\n",
    "\n",
    "Kaj je `str.split`, pa vemo: nevezana metoda `split` razreda `str`. Če tega stavka ne razumemo, se lahko o tem poučimo ob rešitvi dneva 6.\n",
    "\n",
    "Čez `map` bomo šli s for zanko: `for instr, op in map(str.split, open(\"input.txt\"))`. Te `instr` in `arg` zlagamo v pare, ki pa jih - zaradi kasnejše rabe - ne bomo shranili v terko, temveč v seznam, pri čemer `op` spremenimo v `int`, torej `[instr, int(op)]`. Vse skupaj zložimo v seznam, ki predstavlja naš par."
   ]
  },
  {
   "cell_type": "code",
   "execution_count": 1,
   "metadata": {},
   "outputs": [],
   "source": [
    "program = [[instr, int(op)]\n",
    "           for instr, op in map(str.split, open(\"input.txt\"))]"
   ]
  },
  {
   "cell_type": "code",
   "execution_count": 2,
   "metadata": {},
   "outputs": [
    {
     "data": {
      "text/plain": [
       "[['jmp', 232],\n",
       " ['acc', 21],\n",
       " ['nop', 120],\n",
       " ['jmp', 239],\n",
       " ['acc', 18],\n",
       " ['acc', 41]]"
      ]
     },
     "execution_count": 2,
     "metadata": {},
     "output_type": "execute_result"
    }
   ],
   "source": [
    "program[:6]"
   ]
  },
  {
   "cell_type": "markdown",
   "metadata": {},
   "source": [
    "Nič posebnega, je pa kratko in elegantno.\n",
    "\n",
    "## Simulacija procesorja\n",
    "\n",
    "Ta ni popolnoma nič posebnega. Vedno, ko simuliramo procesor (lani je bilo to potrebno početi v polovici nalog; procesor je bil vedno boljši in naloge vedno zanimivejše), potrebujmo *programski števec* (*program counter*) in *akumulator* (*accumulator*), pri nas bo sta to `pc` in `acc`. V tej konkretni nalogi pa potrebujemo seznam že obiskanih lokacij (`visited`), da bomo lahko zaznali prvo, ki se ponovi.\n",
    "\n",
    "Program bo tekel, dokler se lokacija še ni ponovila in je programski števec še znotraj programa.\n",
    "\n",
    "V zanki pa imamo tri `if`-e, ki ustrezajo trem ukazom. Pri tem bodimo pozorni, da `jmp` spremeni `pc` in s `continue` preskoči ostanek, medtem ko se po preostalih ukazih izvede tudi `pc += 1`. Če bomo morali procesor simulirati še v kateri nalogi, bo tega še veliko, saj bomo najbrž dobili tudi pogojne skoke.\n",
    "\n",
    "Funkcija vrne dve stvari: pove vrednost akumulatorja in ali se je program ustavil."
   ]
  },
  {
   "cell_type": "code",
   "execution_count": 3,
   "metadata": {},
   "outputs": [],
   "source": [
    "def execute(program):\n",
    "    pc = 0\n",
    "    acc = 0\n",
    "    visited = set()\n",
    "    while pc not in visited and pc < len(program):\n",
    "        visited.add(pc)\n",
    "        instr, arg = program[pc]\n",
    "        if instr == \"jmp\":\n",
    "            pc += arg\n",
    "            continue\n",
    "        if instr == \"acc\":\n",
    "            acc += arg\n",
    "        elif instr == \"nop\":\n",
    "            pass\n",
    "        pc += 1\n",
    "\n",
    "    return acc, pc >= len(program)"
   ]
  },
  {
   "cell_type": "markdown",
   "metadata": {},
   "source": [
    "Blok\n",
    "\n",
    "```python\n",
    "        elif instr == \"nop\":\n",
    "            pass\n",
    "```\n",
    "\n",
    "očitno ne naredi ničesar in je nepotreben. Vendar mi je všeč, da ga napišemo, saj je tako očitno, da ta možnost obstaja in da je nismo pozabili.\n",
    "\n",
    "## Prvi del"
   ]
  },
  {
   "cell_type": "code",
   "execution_count": 4,
   "metadata": {},
   "outputs": [
    {
     "name": "stdout",
     "output_type": "stream",
     "text": [
      "1528\n"
     ]
    }
   ],
   "source": [
    "last_acc, _ = execute(program)\n",
    "print(last_acc)"
   ]
  },
  {
   "cell_type": "markdown",
   "metadata": {},
   "source": [
    "## Drugi del\n",
    "\n",
    "Drugi del tudi ni nič posebnega, razen tega, da se lahko izživljamo s tem, kako bomo spremenili `nop` v `jmp` in obratno."
   ]
  },
  {
   "cell_type": "code",
   "execution_count": 5,
   "metadata": {},
   "outputs": [
    {
     "name": "stdout",
     "output_type": "stream",
     "text": [
      "640\n"
     ]
    }
   ],
   "source": [
    "nop_jmp = {\"nop\", \"jmp\"}\n",
    "for mem in program:\n",
    "    instr = mem[0]\n",
    "    if instr in nop_jmp:\n",
    "        mem[0] = (nop_jmp - {instr}).pop()\n",
    "        acc, ok = execute(program)\n",
    "        if ok:\n",
    "            print(acc)\n",
    "            break\n",
    "        mem[0] = instr"
   ]
  }
 ],
 "metadata": {
  "kernelspec": {
   "display_name": "Python 3",
   "language": "python",
   "name": "python3"
  },
  "language_info": {
   "codemirror_mode": {
    "name": "ipython",
    "version": 3
   },
   "file_extension": ".py",
   "mimetype": "text/x-python",
   "name": "python",
   "nbconvert_exporter": "python",
   "pygments_lexer": "ipython3",
   "version": "3.7.4"
  }
 },
 "nbformat": 4,
 "nbformat_minor": 4
}
