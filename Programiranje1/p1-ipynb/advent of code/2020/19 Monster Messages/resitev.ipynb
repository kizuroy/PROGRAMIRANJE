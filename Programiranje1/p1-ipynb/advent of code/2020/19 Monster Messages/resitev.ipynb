{
 "cells": [
  {
   "cell_type": "markdown",
   "metadata": {},
   "source": [
    "# Day 19: Monster Messages\n",
    "\n",
    "([Povezava na nalogo](https://adventofcode.com/2020/day/19))\n",
    "\n",
    "Imamo zbirko pravil.\n",
    "- Nekatera pravijo, da je potrebno napisati črko; pravilo 1 tako pravi, naj napišemo a.\n",
    "- Nekatere pravijo, da moramo uporabiti zaporedje pravil; pravilo 0 veleva uporabiti pravilo 1 in nato pravilo 2.\n",
    "- Nekatera pa nam puščajo izbiro. Pravilo 2 pravi, da lahko uporabimo 1 in 3 ali pa 3 in 1.\n",
    "\n",
    "```\n",
    "0: 1 2\n",
    "1: \"a\"\n",
    "2: 1 3 | 3 1\n",
    "3: \"b\"\n",
    "```\n",
    "\n",
    "Takšni stvari se reče [kontekstno neodvisna gramatika](https://en.wikipedia.org/wiki/Context-free_grammar). S takšnimi gramatikami so definirani programski jeziki. Program v nekem jeziku je sintaktično pravilen, če ustreza pravilom gramatike tega jezika. V nalogi bo potrebno preverjati, katere besede ustrezajo podani gramatiki.\n",
    "\n",
    "Gornja gramatika opisuje nize `aab` in `aba`. V vsakem primeru začnemo z 1, ki izpiše a, nato pa nadaljujemo z 1 3 ali 3 1, ki izpišeta a in b ali b in a.\n",
    "\n",
    "## Branje podatkov\n",
    "\n",
    "V datoteki je seznam pravil in seznam sporočil, kateri pravilnost bo potrebno preverjati, na primer\n",
    "\n",
    "```\n",
    "0: 4 1 5\n",
    "1: 2 3 | 3 2\n",
    "2: 4 4 | 5 5\n",
    "3: 4 5 | 5 4\n",
    "4: \"a\"\n",
    "5: \"b\"\n",
    "\n",
    "ababbb\n",
    "bababa\n",
    "abbbab\n",
    "aaabbb\n",
    "aaaabbb\n",
    "```"
   ]
  },
  {
   "cell_type": "code",
   "execution_count": 1,
   "metadata": {},
   "outputs": [],
   "source": [
    "rules_part, messages_part = open(\"example.txt\").read().split(\"\\n\\n\")\n",
    "\n",
    "rules = {}\n",
    "for line in rules_part.splitlines():\n",
    "    i, subrules = line.split(\": \")\n",
    "    if subrules[0] == '\"':\n",
    "        subrules = subrules[1]\n",
    "    else:\n",
    "        subrules = [[int(x) for x in part.split()]\n",
    "                    for part in subrules.split(\"|\")]\n",
    "    rules[int(i)] = subrules\n",
    "    \n",
    "messages = [x.strip() for x in messages_part.splitlines()]"
   ]
  },
  {
   "cell_type": "markdown",
   "metadata": {},
   "source": [
    "Kot v že nekaj nalogah tudi tu preberemo datoteko in jo razdelimo glede na `\"\\n\\n\"`.\n",
    "\n",
    "Del s pravili razbijemo na vrstice, vsako vrstico razdelimo glede na `\": \"`. Če se del desno od dvopičja začne z narekovajem, si zapomnimo prvi znak. Sicer pa ga razbijemo glede na `\"|\"`, vsak del pa nato glede na beli prostor in na koncu pretvorimo v `int`.\n",
    "\n",
    "(Kot vidite smo tole branje podrobneje opazovali v prvih nalogah. Tisti, ki se prebijajo čez te naloge, najbrž že znajo dovolj, da jih tole ne vznemirja preveč.)"
   ]
  },
  {
   "cell_type": "code",
   "execution_count": 2,
   "metadata": {},
   "outputs": [
    {
     "data": {
      "text/plain": [
       "{0: [[4, 1, 5]],\n",
       " 1: [[2, 3], [3, 2]],\n",
       " 2: [[4, 4], [5, 5]],\n",
       " 3: [[4, 5], [5, 4]],\n",
       " 4: 'a',\n",
       " 5: 'b'}"
      ]
     },
     "execution_count": 2,
     "metadata": {},
     "output_type": "execute_result"
    }
   ],
   "source": [
    "rules"
   ]
  },
  {
   "cell_type": "markdown",
   "metadata": {},
   "source": [
    "Rezultat je torej slovar. Ključi so številke pravil, vrednosti pa bodisi znak (izkaže se, da imamo samo a in b, vendar bi bilo funkcije možno brez težav posplošiti na kaj daljšega), bodisi seznam seznamov, ki predstavljajo možna zaporedja pravil. (Če kdo ne razume, naj primerja ta slovar s podatki v datoteki in vse bo jasno.)\n",
    "\n",
    "Sporočila le razbijemo na vrstice in odstranimo beli prostor na koncih.\n",
    "\n",
    "# Prvi del: končna gramatika\n",
    "\n",
    "V pravilih ni ciklov. To zelo zelo zelo poenostavi naše delo. Nizi so končnih dolžin in jih je, posledično, končno mnogo. (Če bi bila dolžina (in abeceda) omejena, bi zelo težko sestavili neskončno različnih besedil.)\n",
    "\n",
    "Naloga je preveriti, katera od sporočil ustrezajo prvim pravilom (in, seveda, vsem, na katera se prvo pravilo sklicuje).\n",
    "\n",
    "Tule je funkcija za preverjanje pravilnosti začetka sporočila."
   ]
  },
  {
   "cell_type": "code",
   "execution_count": 3,
   "metadata": {},
   "outputs": [],
   "source": [
    "def check(rule, s):\n",
    "    if isinstance(rule, str):\n",
    "        if s[0] == rule:\n",
    "            return s[1:]\n",
    "        else:\n",
    "            return None\n",
    "        \n",
    "    for option in rule:\n",
    "        remaining = s\n",
    "        for subrule_no in option:\n",
    "            remaining = check(rules[subrule_no], remaining)\n",
    "            if remaining is None:\n",
    "                break\n",
    "        else:\n",
    "            return remaining\n",
    "    return None"
   ]
  },
  {
   "cell_type": "markdown",
   "metadata": {},
   "source": [
    "- Če sporočilo ne ustreza pravilu, funkcija vrne `None`.\n",
    "- Če začetek sporočila ustreza pravilu, pa funkcija vrne neporabljeni del niza. Če bi, recimo, preverjali, ali niz `\"babba\"` ustreza pravilu `3`, bi funkcija vrnila `\"bba\"`. Prvi dve črki sta namreč porabljeni, `\"bba\"` pa ostane."
   ]
  },
  {
   "cell_type": "code",
   "execution_count": 4,
   "metadata": {},
   "outputs": [
    {
     "data": {
      "text/plain": [
       "'bba'"
      ]
     },
     "execution_count": 4,
     "metadata": {},
     "output_type": "execute_result"
    }
   ],
   "source": [
    "check(rules[3], \"babba\")"
   ]
  },
  {
   "cell_type": "markdown",
   "metadata": {},
   "source": [
    "Tule predpostavljamo, da lahko (začetek) sporočila ustreza pravilom le na en način. Izkaže se, da pri tej nalogi to deluje. Kako je s tem v splošnem, bi vam z veseljem napisal, če ne bi tega že davno pozabil.\n",
    "\n",
    "V prvem delu poskrbimo za pravila, ki vsebujejo le en znak. Če je torej pravilo en sam znak, preverimo, ali je enak prvemu znaku niza. Če je, vrnemo ostanek niza. Če ni, vrnemo `None`, ker začetek niza očitno ne ustreza pravilu.\n",
    "\n",
    "V drugem delu gremo prek različnih opcij. Vsaka je sestavljena iz zaporedja pravil. Gremo čez vsa ta podpravila in za vsako preverimo, ali ustreza začetku - s tem, da vse, kar posamezno pravilo porabi, sproti odbijamo.\n",
    "\n",
    "```python\n",
    "        remaining = s\n",
    "        for part in option:\n",
    "            remaining = check(rules[part], remaining)\n",
    "```\n",
    "\n",
    "Če katero od podpravilo javi, da sporočilo ne ustreza, z `break` prekinemo zanko prek zaporedja pravil in nadaljujemo z naslednjo opcijo. Če se zanka prek podpravil izteče, pa vrnemo preostanek niza. (Tu naredimo predpostavko, da je to edino možno zaporedje podpravil. Če ne bi bilo tako, bi se program nekoliko zapletel, vendar bi preživeli: funkcijo bi napisali tako, da vrne vse možne ostanke, potem pa naj se ta, ki jo kliče, znajde, kakor hoče.)\n",
    "\n",
    "Končno, če se zanka pred opcij izteče, ne da bi našli katero, ki je pravilna, vrnemo `None`.\n",
    "\n",
    "Naloga hoče, da preštejemo sporočila, ki ustrezajo pravilu 0. Se pravi vsa sporočila, za katerega `check(rule0, message)` vrne prazen niz."
   ]
  },
  {
   "cell_type": "code",
   "execution_count": 5,
   "metadata": {},
   "outputs": [
    {
     "name": "stdout",
     "output_type": "stream",
     "text": [
      "2\n"
     ]
    }
   ],
   "source": [
    "rule0 = rules[0]\n",
    "print(sum(check(rule0, message) == \"\" for message in messages))"
   ]
  },
  {
   "cell_type": "markdown",
   "metadata": {},
   "source": [
    "Zdaj pa nadaljujmo s pravimi podatki."
   ]
  },
  {
   "cell_type": "code",
   "execution_count": 6,
   "metadata": {},
   "outputs": [],
   "source": [
    "rules_part, messages_part = open(\"input.txt\").read().split(\"\\n\\n\")\n",
    "\n",
    "rules = {}\n",
    "for line in rules_part.splitlines():\n",
    "    i, subrules = line.split(\": \")\n",
    "    if subrules[0] == '\"':\n",
    "        subrules = subrules[1]\n",
    "    else:\n",
    "        subrules = [[int(x) for x in part.split()]\n",
    "                    for part in subrules.split(\"|\")]\n",
    "    rules[int(i)] = subrules\n",
    "    \n",
    "messages = [x.strip() for x in messages_part.splitlines()]"
   ]
  },
  {
   "cell_type": "code",
   "execution_count": 7,
   "metadata": {},
   "outputs": [
    {
     "name": "stdout",
     "output_type": "stream",
     "text": [
      "104\n"
     ]
    }
   ],
   "source": [
    "rule0 = rules[0]\n",
    "print(sum(check(rule0, message) == \"\" for message in messages))"
   ]
  },
  {
   "cell_type": "markdown",
   "metadata": {},
   "source": [
    "## Intermezzo: Vsa možna sporočila\n",
    "\n",
    "Bi znali sestaviti vsa možna sporočila? Znali."
   ]
  },
  {
   "cell_type": "code",
   "execution_count": 8,
   "metadata": {},
   "outputs": [],
   "source": [
    "from itertools import product, count\n",
    "\n",
    "def all_messages(rule):\n",
    "    if isinstance(rule, str):\n",
    "        return [rule]\n",
    "    \n",
    "    messages = []\n",
    "    for option in rule:\n",
    "        submessages = [all_messages(rules[part]) for part in option]\n",
    "        messages += [\"\".join(comb) for comb in product(*submessages)]\n",
    "    return messages"
   ]
  },
  {
   "cell_type": "markdown",
   "metadata": {},
   "source": [
    "Funkcija prejme pravilo. Če je pravilo zgolj črka, je seznam vseh možnih pravil le seznam, ki vsebuje to črko.\n",
    "\n",
    "Sicer pa gremo čez vse opcije. Za vsako gremo čez vsa podpravila, z `all_messages(rules[part])` pogledamo, kaj to pravilo zgenerira. Če imamo `0: 1 4 5`. Bo `submessages` seznam, ki bo vseboval tri sezname: v prvem bo vse, kar sestavi pravilo 1, v drugem vse, kar sestavi pravilo 4 in v tretjem vse, kar sestavi pravilo 5. Če lahko pravilo 1 sestavi le niza `\"ba\"` in `\"aba\"`, pravilo 4 niza `\"b\"` in `\"abb\"`, pravilo 5 pa samo `\"a\"`, bomo imeli `[[\"ba\", \"aba\"], [\"\"b\", \"abb\"], [\"a\"]]`. Iz tega je potrebno sestaviti vse kombinacije \"ba-b-a\", \"ba-abb-a\", \"aba-abb-a\", \"aba-abb-a\" - seveda brez vezajev, ti so tu samo, da lažje razumemo, kaj počnemo. Natančno to nam naredil funkcija `product`. Gremo torej čez vse te kombinacije in jih združimo z `join`.\n",
    "\n",
    "Zdaj znamo prvi del rešiti še enkrat: zanima nas velikost presek podanih sporočil in sporočil, ki jih je mogoče sestaviti iz pravila 0."
   ]
  },
  {
   "cell_type": "code",
   "execution_count": 9,
   "metadata": {},
   "outputs": [
    {
     "name": "stdout",
     "output_type": "stream",
     "text": [
      "104\n"
     ]
    }
   ],
   "source": [
    "print(len(set(messages) & set(all_messages(rules[0]))))"
   ]
  },
  {
   "cell_type": "markdown",
   "metadata": {},
   "source": [
    "## Drugi del: neskončna gramatika\n",
    "\n",
    "Tu postanejo stvari nekoliko zabavnejše, a ne preveč: pravili 8 in 11 je potrebno spremeniti tako:\n",
    "\n",
    "```\n",
    "8: 42 | 42 8\n",
    "11: 42 31 | 42 11 31\n",
    "```\n",
    "\n",
    "Vprašanje pa ostaja isto: koliko pravil lahko sestavimo iz pravila 0?\n",
    "\n",
    "Pravilo `0` se, kakšno naključje, glasi\n",
    "\n",
    "```\n",
    "0: 8 11\n",
    "```\n",
    "\n",
    "Pravili 8 in 11 se, kakšna sreča, ne pojavljata v nobenem drugem pravilu. (Sicer bi stvari ne bile samo nekoliko zabavnejše, temveč preveč zabavnejše.)\n",
    "\n",
    "Pravilo 8 v bistvu pravi, da smemo poljubnokrat (a vsaj enkrat!) ponoviti pravilo 42. Dovoljena zaporedja so, recimo \n",
    "`42`, `42 42`, `42 42 42`, `42 42 42`...\n",
    "\n",
    "Pravilo 11 pravi, da smemo poljubnokrat ponoviti `42`, slediti pa mora enako število ponovitev `31`, recimo `42 31`, ali `42 42 31 31` ali `42 42 42 42 31 31 31 31`. \n",
    "\n",
    "Ker `0` pravi, \"najprej 8, potem 11\", to pomeni, da bomo imeli najprej vsaj eno ponovitev `42`, nato pa enako število `42` in `31`.\n",
    "\n",
    "Z drugimi besedami: pravilo 0 zahteva, da najprej ponavljamo 42, nato 31, pri čemer se mora 42 pojaviti vsaj dvakrat, 31 pa vsaj enkrat, vendar manjkrat, kot se je pojavila 42.\n",
    "\n",
    "Zdaj pa moramo izvedeti, kaj ustvarita `31` in `42`. To nam pove funkcija iz intermezza."
   ]
  },
  {
   "cell_type": "code",
   "execution_count": 10,
   "metadata": {},
   "outputs": [],
   "source": [
    "r42 = set(all_messages(rules[42]))\n",
    "r31 = set(all_messages(rules[31]))"
   ]
  },
  {
   "cell_type": "code",
   "execution_count": 11,
   "metadata": {},
   "outputs": [
    {
     "data": {
      "text/plain": [
       "{'aaaaaaaa',\n",
       " 'aaaaaaab',\n",
       " 'aaaaabba',\n",
       " 'aaaaabbb',\n",
       " 'aaaabaaa',\n",
       " 'aaaababa',\n",
       " 'aaaababb',\n",
       " 'aaaabbab',\n",
       " 'aaaabbba',\n",
       " 'aaabaaab',\n",
       " 'aaabaaba',\n",
       " 'aaababaa',\n",
       " 'aaababab',\n",
       " 'aaabbbaa',\n",
       " 'aabaaaba',\n",
       " 'aabaaabb',\n",
       " 'aabaabaa',\n",
       " 'aabaabba',\n",
       " 'aabaabbb',\n",
       " 'aababaab',\n",
       " 'aabababa',\n",
       " 'aababbaa',\n",
       " 'aabbaaaa',\n",
       " 'aabbaaba',\n",
       " 'aabbaabb',\n",
       " 'aabbabab',\n",
       " 'aabbbaaa',\n",
       " 'aabbbaab',\n",
       " 'aabbbaba',\n",
       " 'aabbbabb',\n",
       " 'aabbbbbb',\n",
       " 'abaaaaab',\n",
       " 'abaaaabb',\n",
       " 'abaaabaa',\n",
       " 'abaaabba',\n",
       " 'abaaabbb',\n",
       " 'abaabaab',\n",
       " 'abaabbba',\n",
       " 'abaabbbb',\n",
       " 'ababaaba',\n",
       " 'abababab',\n",
       " 'abababba',\n",
       " 'ababbaaa',\n",
       " 'ababbaab',\n",
       " 'ababbaba',\n",
       " 'ababbabb',\n",
       " 'ababbbab',\n",
       " 'ababbbba',\n",
       " 'ababbbbb',\n",
       " 'abbabaaa',\n",
       " 'abbabaab',\n",
       " 'abbabbba',\n",
       " 'abbabbbb',\n",
       " 'abbbaaba',\n",
       " 'abbbabaa',\n",
       " 'abbbabba',\n",
       " 'abbbabbb',\n",
       " 'abbbbaab',\n",
       " 'abbbbaba',\n",
       " 'abbbbabb',\n",
       " 'abbbbbab',\n",
       " 'abbbbbbb',\n",
       " 'baaaaaaa',\n",
       " 'baaaaaab',\n",
       " 'baaaabbb',\n",
       " 'baaabaaa',\n",
       " 'baaababa',\n",
       " 'baaababb',\n",
       " 'baaabbab',\n",
       " 'baaabbba',\n",
       " 'baaabbbb',\n",
       " 'baabaaaa',\n",
       " 'baabaaab',\n",
       " 'baabaabb',\n",
       " 'baababaa',\n",
       " 'baababba',\n",
       " 'baababbb',\n",
       " 'baabbaaa',\n",
       " 'baabbabb',\n",
       " 'baabbbaa',\n",
       " 'baabbbab',\n",
       " 'baabbbbb',\n",
       " 'babaaaaa',\n",
       " 'babaaaba',\n",
       " 'babaabaa',\n",
       " 'babaabba',\n",
       " 'babaabbb',\n",
       " 'bababaaa',\n",
       " 'bababaab',\n",
       " 'babababa',\n",
       " 'babababb',\n",
       " 'bababbaa',\n",
       " 'babbaabb',\n",
       " 'babbabaa',\n",
       " 'babbabab',\n",
       " 'babbbaaa',\n",
       " 'babbbaab',\n",
       " 'bbaaaaab',\n",
       " 'bbaaaabb',\n",
       " 'bbaaabab',\n",
       " 'bbaaabba',\n",
       " 'bbaaabbb',\n",
       " 'bbaabaaa',\n",
       " 'bbaabbab',\n",
       " 'bbaabbbb',\n",
       " 'bbabaaaa',\n",
       " 'bbabaaba',\n",
       " 'bbababaa',\n",
       " 'bbababab',\n",
       " 'bbababba',\n",
       " 'bbabbaaa',\n",
       " 'bbabbaab',\n",
       " 'bbabbaba',\n",
       " 'bbabbbaa',\n",
       " 'bbabbbab',\n",
       " 'bbabbbba',\n",
       " 'bbbaaaab',\n",
       " 'bbbaabaa',\n",
       " 'bbbabaab',\n",
       " 'bbbababb',\n",
       " 'bbbabbaa',\n",
       " 'bbbbaaab',\n",
       " 'bbbbaaba',\n",
       " 'bbbbabaa',\n",
       " 'bbbbbaab',\n",
       " 'bbbbbaba',\n",
       " 'bbbbbabb',\n",
       " 'bbbbbbbb'}"
      ]
     },
     "execution_count": 11,
     "metadata": {},
     "output_type": "execute_result"
    }
   ],
   "source": [
    "r42"
   ]
  },
  {
   "cell_type": "code",
   "execution_count": 12,
   "metadata": {},
   "outputs": [
    {
     "data": {
      "text/plain": [
       "{'aaaaaaba',\n",
       " 'aaaaaabb',\n",
       " 'aaaaabaa',\n",
       " 'aaaaabab',\n",
       " 'aaaabaab',\n",
       " 'aaaabbaa',\n",
       " 'aaaabbbb',\n",
       " 'aaabaaaa',\n",
       " 'aaabaabb',\n",
       " 'aaababba',\n",
       " 'aaababbb',\n",
       " 'aaabbaaa',\n",
       " 'aaabbaab',\n",
       " 'aaabbaba',\n",
       " 'aaabbabb',\n",
       " 'aaabbbab',\n",
       " 'aaabbbba',\n",
       " 'aaabbbbb',\n",
       " 'aabaaaaa',\n",
       " 'aabaaaab',\n",
       " 'aabaabab',\n",
       " 'aababaaa',\n",
       " 'aabababb',\n",
       " 'aababbab',\n",
       " 'aababbba',\n",
       " 'aababbbb',\n",
       " 'aabbaaab',\n",
       " 'aabbabaa',\n",
       " 'aabbabba',\n",
       " 'aabbabbb',\n",
       " 'aabbbbaa',\n",
       " 'aabbbbab',\n",
       " 'aabbbbba',\n",
       " 'abaaaaaa',\n",
       " 'abaaaaba',\n",
       " 'abaaabab',\n",
       " 'abaabaaa',\n",
       " 'abaababa',\n",
       " 'abaababb',\n",
       " 'abaabbaa',\n",
       " 'abaabbab',\n",
       " 'ababaaaa',\n",
       " 'ababaaab',\n",
       " 'ababaabb',\n",
       " 'abababaa',\n",
       " 'abababbb',\n",
       " 'ababbbaa',\n",
       " 'abbaaaaa',\n",
       " 'abbaaaab',\n",
       " 'abbaaaba',\n",
       " 'abbaaabb',\n",
       " 'abbaabaa',\n",
       " 'abbaabab',\n",
       " 'abbaabba',\n",
       " 'abbaabbb',\n",
       " 'abbababa',\n",
       " 'abbababb',\n",
       " 'abbabbaa',\n",
       " 'abbabbab',\n",
       " 'abbbaaaa',\n",
       " 'abbbaaab',\n",
       " 'abbbaabb',\n",
       " 'abbbabab',\n",
       " 'abbbbaaa',\n",
       " 'abbbbbaa',\n",
       " 'abbbbbba',\n",
       " 'baaaaaba',\n",
       " 'baaaaabb',\n",
       " 'baaaabaa',\n",
       " 'baaaabab',\n",
       " 'baaaabba',\n",
       " 'baaabaab',\n",
       " 'baaabbaa',\n",
       " 'baabaaba',\n",
       " 'baababab',\n",
       " 'baabbaab',\n",
       " 'baabbaba',\n",
       " 'baabbbba',\n",
       " 'babaaaab',\n",
       " 'babaaabb',\n",
       " 'babaabab',\n",
       " 'bababbab',\n",
       " 'bababbba',\n",
       " 'bababbbb',\n",
       " 'babbaaaa',\n",
       " 'babbaaab',\n",
       " 'babbaaba',\n",
       " 'babbabba',\n",
       " 'babbabbb',\n",
       " 'babbbaba',\n",
       " 'babbbabb',\n",
       " 'babbbbaa',\n",
       " 'babbbbab',\n",
       " 'babbbbba',\n",
       " 'babbbbbb',\n",
       " 'bbaaaaaa',\n",
       " 'bbaaaaba',\n",
       " 'bbaaabaa',\n",
       " 'bbaabaab',\n",
       " 'bbaababa',\n",
       " 'bbaababb',\n",
       " 'bbaabbaa',\n",
       " 'bbaabbba',\n",
       " 'bbabaaab',\n",
       " 'bbabaabb',\n",
       " 'bbababbb',\n",
       " 'bbabbabb',\n",
       " 'bbabbbbb',\n",
       " 'bbbaaaaa',\n",
       " 'bbbaaaba',\n",
       " 'bbbaaabb',\n",
       " 'bbbaabab',\n",
       " 'bbbaabba',\n",
       " 'bbbaabbb',\n",
       " 'bbbabaaa',\n",
       " 'bbbababa',\n",
       " 'bbbabbab',\n",
       " 'bbbabbba',\n",
       " 'bbbabbbb',\n",
       " 'bbbbaaaa',\n",
       " 'bbbbaabb',\n",
       " 'bbbbabab',\n",
       " 'bbbbabba',\n",
       " 'bbbbabbb',\n",
       " 'bbbbbaaa',\n",
       " 'bbbbbbaa',\n",
       " 'bbbbbbab',\n",
       " 'bbbbbbba'}"
      ]
     },
     "execution_count": 12,
     "metadata": {},
     "output_type": "execute_result"
    }
   ],
   "source": [
    "r31"
   ]
  },
  {
   "cell_type": "markdown",
   "metadata": {},
   "source": [
    "Pač neka množica nizov. Ti imajo dve lepi lastnosti.\n",
    "\n",
    "Prva: vsi imajo 8 znakov."
   ]
  },
  {
   "cell_type": "code",
   "execution_count": 13,
   "metadata": {},
   "outputs": [
    {
     "data": {
      "text/plain": [
       "{8}"
      ]
     },
     "execution_count": 13,
     "metadata": {},
     "output_type": "execute_result"
    }
   ],
   "source": [
    "{len(x) for x in r31}"
   ]
  },
  {
   "cell_type": "code",
   "execution_count": 14,
   "metadata": {},
   "outputs": [
    {
     "data": {
      "text/plain": [
       "{8}"
      ]
     },
     "execution_count": 14,
     "metadata": {},
     "output_type": "execute_result"
    }
   ],
   "source": [
    "{len(x) for x in r42}"
   ]
  },
  {
   "cell_type": "markdown",
   "metadata": {},
   "source": [
    "Druga: nobeno zaporedje se ne pojavi v obeh."
   ]
  },
  {
   "cell_type": "code",
   "execution_count": 15,
   "metadata": {},
   "outputs": [
    {
     "data": {
      "text/plain": [
       "set()"
      ]
     },
     "execution_count": 15,
     "metadata": {},
     "output_type": "execute_result"
    }
   ],
   "source": [
    "r31 & r42"
   ]
  },
  {
   "cell_type": "markdown",
   "metadata": {},
   "source": [
    "Torej nas ne čaka nič težkega: jemljemo po osem znakov niza, gledamo, koliko osmeric se pojavi v `r42` in potem, koliko se jih v `r32`. Če se njihovo število ujema s tistim, kar smo napisali zgoraj, je sporočilo v redu. Če ne, ni.\n",
    "\n",
    "Funkcija `count_block(message, msgset)` prejme sporočilo in množico dovoljenih blokov dolžine 8 in kot rezultat vrne število ponovitev teh blokov na začetku niza."
   ]
  },
  {
   "cell_type": "code",
   "execution_count": 16,
   "metadata": {},
   "outputs": [],
   "source": [
    "from itertools import count\n",
    "\n",
    "def count_block(message, msgset):\n",
    "    for i in count():\n",
    "        if message[8 * i:8 * (i + 1)] not in msgset:\n",
    "            return i"
   ]
  },
  {
   "cell_type": "markdown",
   "metadata": {},
   "source": [
    "Funkcija `check_message_42_31` prešteje, kolikokrat se pojavi kak blok iz `r42` in kolikokrat v nadaljevanju kak blok iz `r32`. Obojih skupaj mora biti toliko, da porabita ravno vse sporočilo (sicer so v sporočilu bloki, ki ju ni ne v enem ne v drugem), pa še število blokov mora ustrezati."
   ]
  },
  {
   "cell_type": "code",
   "execution_count": 17,
   "metadata": {},
   "outputs": [],
   "source": [
    "def check_42_31(message):\n",
    "    c42 = count_block(message, r42)\n",
    "    c31 = count_block(message[c42 * 8:], r31)\n",
    "    return c42 + c31 == len(message) // 8 and c42 > c31 and c42 >= 2 and c31 >= 1"
   ]
  },
  {
   "cell_type": "code",
   "execution_count": 18,
   "metadata": {},
   "outputs": [
    {
     "name": "stdout",
     "output_type": "stream",
     "text": [
      "314\n"
     ]
    }
   ],
   "source": [
    "print(sum(map(check_42_31, messages)))"
   ]
  }
 ],
 "metadata": {
  "kernelspec": {
   "display_name": "Python 3",
   "language": "python",
   "name": "python3"
  },
  "language_info": {
   "codemirror_mode": {
    "name": "ipython",
    "version": 3
   },
   "file_extension": ".py",
   "mimetype": "text/x-python",
   "name": "python",
   "nbconvert_exporter": "python",
   "pygments_lexer": "ipython3",
   "version": "3.7.4"
  }
 },
 "nbformat": 4,
 "nbformat_minor": 4
}
