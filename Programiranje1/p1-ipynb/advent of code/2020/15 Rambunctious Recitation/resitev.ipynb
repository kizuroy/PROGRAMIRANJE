{
 "cells": [
  {
   "cell_type": "markdown",
   "metadata": {},
   "source": [
    "# Day 15: Rambunctious Recitation\n",
    "\n",
    "([Povezava na nalogo](https://adventofcode.com/2020/day/15))\n",
    "\n",
    "Naloga ni nek programerski presežek, zahteva pa, da se spomnimo, česa ne smemo početi s seznamei, temveč zahteva slovarje.\n",
    "\n",
    "Zaporedje se začne s številkami"
   ]
  },
  {
   "cell_type": "code",
   "execution_count": 9,
   "metadata": {},
   "outputs": [],
   "source": [
    "initial = 0, 8, 15, 2, 12, 1, 4"
   ]
  },
  {
   "cell_type": "markdown",
   "metadata": {},
   "source": [
    "Vsak naslednji člen dobimo iz prejšnjega:\n",
    "- če se je prejšnji člen pojavil prvič, je naslednji člen 0,\n",
    "- sicer pa je prejšnji člen enak številu korakov, ki so minili od prejšnje ponovitve tega člena.\n",
    "\n",
    "Prvi del naloge sprašuje po 2020-tem členu, drugi pa po 30-milijontem.\n",
    "\n",
    "### Rešitev\n",
    "\n",
    "Nevarna skušnjava, ki pa ji lahko podležejo le manj izkušeni, je shranjevati zaporedje in takrat, ko nas zanima, koliko časa je minilo od zadnje pojavitve števila, le-to v resnici iskati po zaporedju.\n",
    "\n",
    "Zaporedja v resnici ni potrebno shranjevati, pač pa si moramo za vsako število zapomniti, kdaj se je zadnjič pojavilo.\n",
    "\n",
    "Vsa stvar je nekoliko zavozlana: prejšnje število smemo dodati šele po tem, ko že izračunamo naslednje. Ko razvozlamo, pa je rešitev kar kratka."
   ]
  },
  {
   "cell_type": "code",
   "execution_count": 8,
   "metadata": {},
   "outputs": [
    {
     "data": {
      "text/plain": [
       "289"
      ]
     },
     "execution_count": 8,
     "metadata": {},
     "output_type": "execute_result"
    }
   ],
   "source": [
    "last_spoken = {}\n",
    "\n",
    "next = None\n",
    "for turn in range(2021):\n",
    "    number = next\n",
    "    next = initial[turn] if turn < len(initial) else turn - last_spoken.get(number, turn)\n",
    "    if number is not None:\n",
    "        last_spoken[number] = turn\n",
    "        \n",
    "number"
   ]
  },
  {
   "cell_type": "markdown",
   "metadata": {},
   "source": [
    "V drugem delu nadaljujemo odtod naprej."
   ]
  },
  {
   "cell_type": "code",
   "execution_count": 5,
   "metadata": {},
   "outputs": [
    {
     "data": {
      "text/plain": [
       "1505722"
      ]
     },
     "execution_count": 5,
     "metadata": {},
     "output_type": "execute_result"
    }
   ],
   "source": [
    "for turn in range(2021, 30000001):\n",
    "    number = next\n",
    "    next = turn - last_spoken.get(number, turn)\n",
    "    last_spoken[number] = turn\n",
    "    \n",
    "number"
   ]
  },
  {
   "cell_type": "markdown",
   "metadata": {},
   "source": [
    "Trik je, očitno, da nam v drugem delu ni več potrebno preverjati, ali vzeti naslednji člen iz začetnega zaporedja. Zaradi tega je program za kako tretjino hitrejši.\n",
    "\n",
    "Seveda bi lahko že začetni del razdelili v dve zanki, vendar ... vse skupaj je potem še bolj sitno zavozlano. Tako je bilo lažje."
   ]
  }
 ],
 "metadata": {
  "kernelspec": {
   "display_name": "Python 3",
   "language": "python",
   "name": "python3"
  },
  "language_info": {
   "codemirror_mode": {
    "name": "ipython",
    "version": 3
   },
   "file_extension": ".py",
   "mimetype": "text/x-python",
   "name": "python",
   "nbconvert_exporter": "python",
   "pygments_lexer": "ipython3",
   "version": "3.7.4"
  }
 },
 "nbformat": 4,
 "nbformat_minor": 4
}
