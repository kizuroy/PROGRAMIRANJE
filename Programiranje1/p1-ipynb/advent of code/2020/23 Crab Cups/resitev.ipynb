{
 "cells": [
  {
   "cell_type": "markdown",
   "metadata": {},
   "source": [
    "# Day 22: Crab Cups\n",
    "\n",
    "([Povezava na nalogo]())\n",
    "\n",
    "Imamo oštevilčene kozarce, postavljene v krog. Razpored števil in kozarec, pri katerem začnemo, sta v podatkih. V primeru na sliki je določeno, da začnemo pri kozarcu 3."
   ]
  },
  {
   "cell_type": "markdown",
   "metadata": {},
   "source": [
    "<img src=\"data:image/.png;base64,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\"/>"
   ]
  },
  {
   "cell_type": "markdown",
   "metadata": {},
   "source": [
    "V vsakem koraku naredimo tole.\n",
    "\n",
    "- Vzamemo tri kozarce, ki sledijo trenutnemu v smeri urinega kazalca (če je trenutni kozarec 3, so to kozarci 8, 9 in 1).\n",
    "- Poiščemo kozarec, katerega številka je za 1 manjša od trenutnega. V tem primeru je to kozarec 2. Če bi bil to ravno kateri izmed treh kozarcev, zmanjšamo številko še za 1 (in po potrebi še in po potrebi še, tako da pridemo do enega izmed kozarcev, ki so še v krogu). Če izberemo kozarec 0 (ki ne obstaja), vzamemo kozarec z najvišjo številko (v tem primeru 9).\n",
    "- Odvzete tri kozarce postavimo za ta kozarec. V gornjem primeru postavimo 8, 9 in 1 za 2, torej med 2 in 5.\n",
    "- Naslednji trenutni kozarec je kozarec, ki sledi trenutnemu. V gornjem primeru je to 2 (ker smo 8, 9 in 1 odstranili).\n",
    "\n",
    "## Prvi del\n",
    "\n",
    "Gornji recept ponovimo stokrat. Kakšen je vrstni red kozarcev od 1 naprej?\n",
    "\n",
    "Da se ne hecamo brez potrebe s tem, ali se trije kozarci, ki sledijo trenutnemu, že ovijajo okrog, bomo vrteli seznam: trenutni element bo vedno ničti. Ko gremo na naslednji element, bomo v resnici dali trenutni element na konec.\n",
    "\n",
    "Dobimo takšen program."
   ]
  },
  {
   "cell_type": "code",
   "execution_count": 1,
   "metadata": {},
   "outputs": [
    {
     "name": "stdout",
     "output_type": "stream",
     "text": [
      "67384529\n"
     ]
    }
   ],
   "source": [
    "initial = \"389125467\"\n",
    "state = list(map(int, initial))\n",
    "\n",
    "for round in range(100):\n",
    "    current, removed, state = state[0], state[1:4], state[4:]\n",
    "    place = current - 1 or 9\n",
    "    while place in removed:\n",
    "        place = place - 1 or 9\n",
    "    pi = state.index(place) + 1\n",
    "    state[pi:pi] = removed\n",
    "    state.append(current)\n",
    "    \n",
    "pos = state.index(1)\n",
    "state = state[pos + 1:] + state[:pos]\n",
    "print(\"\".join(map(str, state)))"
   ]
  },
  {
   "cell_type": "markdown",
   "metadata": {},
   "source": [
    "V `state` prepišemo števila, pretvorjena v `int`-e. Nato v zanki vzamemo prvo število, naslednja tri in ostala. Poiščemo mesto za vstavljanje; `place` bo trenutni - 1, oziroma `9`, če bi trenutni s tem postal 0. V zanki nato poskrbimo za primer, ko  je `place` eden od odstranjenih kozarcev.\n",
    "\n",
    "Nato odkrijemo, kjer v seznamu je kozarec, za katerim morajo biti trije kozarci, ki jih premikamo (`pi`). V mesto med `pi` in `pi` - torej točno za `pi`, damo odstranjene kozarce, na konec pa še trenutnega. Ne spreglejmo, da `state` pred temu prirejani vsebuje samo preostale kozarce, brez prvega (trenutnega) in tistih treh, ki mu sledijo.\n",
    "\n",
    "Po stotih potezah poiščemo kozarec 1. Seznam prevrtimo tako, da imamo najprej kozarca 1 do konca in nato kozarce od začetka do tega kozarce. Števila pretvorimo v števke, združimo v niz in izpišemo.\n",
    "\n",
    "## Drugi del\n",
    "\n",
    "Slaba novica: kozarcu 9 sledijo še kozarci od 10 do milijon. Poleg tega ne naredimo sto korakov temveč deset milijonov korakov.\n",
    "\n",
    "Gornji program nima šans. Lahko ga prepišemo v numpy, pa se bo izvajal uro ali dve. Dodamo trik ali dva, pa bo morda dvakrat ali trikrat hitrejši.\n",
    "\n",
    "Tu je potrebno uporabiti drugačen pristop. Sprogramirali ga bomo na tem, krajšem primeru, potem pa ga dopolnili do milijonov.\n",
    "\n",
    "Osnovni problem gornjega programa je, da kopira sezname v nov seznam. Tudi če se temu izognemo in premikamo števila znotraj nekega seznama, jih je še vedno potrebno premikati. In s premikanjem milijona števil je veliko dela. Tudi če ne vrtimo seznama, tako da je trenutni element vedno na začetku, ne bomo nič na boljšem, saj je treba premikati elemente seznama, ko odstranjujemo in vstavljamo te tri elemente.\n",
    "\n",
    "\n",
    "### Krožni seznam\n",
    "\n",
    "Potrebujemo nekaj, kar Python, kolikor vem, ni vdelano v Python: seznam. :) Pythonovi seznami so bolj tabele, *array*-i. Potrebujemo povezan seznam. Za vsak kozarec moramo vedeti, kateri kozarec mu sledi."
   ]
  },
  {
   "cell_type": "markdown",
   "metadata": {},
   "source": [
    "<img src=\"data:image/.png;base64,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\"/>"
   ]
  },
  {
   "cell_type": "markdown",
   "metadata": {},
   "source": [
    "Devet kozarcev bomo predstavili s seznamom dolžine 10; prvi element bo za okras. No, za praktičnost. Element 3, recimo, vsebuje 8, ker kozarcu 3 sledi kozarec 8.\n",
    "\n",
    "To nam poenostavi prestavljanje kozarcev, saj je potrebno, kot bomo videli, spremeniti le štiri številke, ne pa prestavljati milijona elementov.\n",
    "\n",
    "Najprej sestavimo tabelico, kot je gornja. Sestavimo tabelo `None`-ov. Nato se zapeljemo čez vse pare `(ta, potem)` in zabeležimo, da za `ta` pride `potem`. `zip` sestavimo tako, da za `potem` prestavimo prvi element (\"seznam, ki vsebuje samo prvi element\") na konec seznama."
   ]
  },
  {
   "cell_type": "code",
   "execution_count": 2,
   "metadata": {},
   "outputs": [],
   "source": [
    "initial = \"389125467\"\n",
    "state = list(map(int, initial))\n",
    "\n",
    "circle = [None] * (len(state) + 1)\n",
    "for ta, potem in zip(state, state[1:] + state[:1]):\n",
    "    circle[ta] = potem"
   ]
  },
  {
   "cell_type": "markdown",
   "metadata": {},
   "source": [
    "Dobimo, kar je treba."
   ]
  },
  {
   "cell_type": "code",
   "execution_count": 3,
   "metadata": {},
   "outputs": [
    {
     "data": {
      "text/plain": [
       "[None, 2, 5, 8, 6, 4, 7, 3, 9, 1]"
      ]
     },
     "execution_count": 3,
     "metadata": {},
     "output_type": "execute_result"
    }
   ],
   "source": [
    "circle"
   ]
  },
  {
   "cell_type": "markdown",
   "metadata": {},
   "source": [
    "### Igra\n",
    "\n",
    "Zdaj pa pripravimo funkcijo, ki kot argument dobi gornjo strukturo in število korakov."
   ]
  },
  {
   "cell_type": "code",
   "execution_count": 4,
   "metadata": {},
   "outputs": [],
   "source": [
    "def run(circle, rounds):\n",
    "    last_cup = len(circle) - 1\n",
    "    current = state[0]\n",
    "    for round in range(rounds):\n",
    "        a = circle[current]\n",
    "        b = circle[a]\n",
    "        c = circle[b]\n",
    "\n",
    "        next3 = (a, b, c)\n",
    "        where = current - 1 or last_cup\n",
    "        while where in next3:\n",
    "            where = where - 1 or last_cup\n",
    "\n",
    "        circle[current] = circle[c]\n",
    "        circle[c] = circle[where]\n",
    "        circle[where] = a\n",
    "        \n",
    "        current = circle[current]"
   ]
  },
  {
   "cell_type": "markdown",
   "metadata": {},
   "source": [
    "Kar iz seznama razberemo številko zadnjega kozarca, ki ga potrebujemo takrat, ko iščemo kozarec s številko, nižjo od trenutnega.\n",
    "\n",
    "Prvi začetni kozarec je `state[0]`. Nato v zanki najprej poberemo številke naslednjih treh kozarcev (`a`, `b`. `c`).\n",
    "\n",
    "V `where` izračunamo številko kozarca, za katerega je potrebno postaviti `a`, `b` in `c`. To gre podobno kot prej, le da namesto `9` uporabljamo `last_cup`.\n",
    "\n",
    "Sledijo prevezave.\n",
    "- Prva je preprosta: da izločimo `a`, `b` in `c`, ki sledijo kozarcu `current`, mora kozarcu `current` po nove, slediti tisto, kar je prej sledilo `c`-ju.\n",
    "- Druga je vstavljanje: kozarce `a`, `b` in`c` je potrebno vriniti med `where` in kozarec, ki sledi `where`.\n",
    "\n",
    "To postorimo v treh vrsticah:\n",
    "- kozarcu `current` po novem sledi kozarec, ki trenutno sledi kozarcu `c` (`circle[c]`);\n",
    "- kozarcu `c` sledi kozarec, ki je prej sledil kozarcu `where`;\n",
    "- kozarcu `where` pa kozarec `a`.\n",
    "\n",
    "Na koncu še premaknemo `current` na kozarec, ki mu sledi.\n",
    "\n",
    "### Prvi del\n",
    "\n",
    "Za prvi del pokličemo gornjo funkcijo, začnemo pri kozarcu, ki sledi `1`, gremo po krogu in si beležimo številke. "
   ]
  },
  {
   "cell_type": "code",
   "execution_count": 5,
   "metadata": {},
   "outputs": [
    {
     "data": {
      "text/plain": [
       "'67384529'"
      ]
     },
     "execution_count": 5,
     "metadata": {},
     "output_type": "execute_result"
    }
   ],
   "source": [
    "run(circle, 100)\n",
    "\n",
    "i = circle[1]\n",
    "res = \"\"\n",
    "for _ in range(8):\n",
    "    res += str(i)\n",
    "    i = circle[i]\n",
    "    \n",
    "res"
   ]
  },
  {
   "cell_type": "markdown",
   "metadata": {},
   "source": [
    "### Drugi del\n",
    "\n",
    "Najprej pripravimo krog. Najprej desetkrat `None`, potem pa na mesta od 10 do `last_cup` postavimo številke od 11 do `last_cup + 1`, tako da vsaka številka kaže na naslednjo. Temu sledi enaka zanka, kot zgoraj. Na koncu še povežemo seznama: zadnji element začetnega zaporedja mora kazati na `10` (začetek dodatnih elementov), zadnji dodatni element pa kaže na prvi element začetnega zaporedja."
   ]
  },
  {
   "cell_type": "code",
   "execution_count": 6,
   "metadata": {},
   "outputs": [],
   "source": [
    "last_cup = 1000000\n",
    "circle = [None] * 10 + list(range(11, last_cup + 1))\n",
    "for ta, potem in zip(state, state[1:] + state[:1]):\n",
    "    circle[ta] = potem\n",
    "\n",
    "circle[state[-1]] = 10\n",
    "circle.append(state[0])"
   ]
  },
  {
   "cell_type": "markdown",
   "metadata": {},
   "source": [
    "Zdaj poženemo zahtevan milijon ciklov. Poberemo številko kozarca, ki sledi `1` in številko kozarca, ki sledi temu kozarcu, ter ju, kot zahteva naloga, zmnožimo."
   ]
  },
  {
   "cell_type": "code",
   "execution_count": 7,
   "metadata": {},
   "outputs": [
    {
     "data": {
      "text/plain": [
       "149245887792"
      ]
     },
     "execution_count": 7,
     "metadata": {},
     "output_type": "execute_result"
    }
   ],
   "source": [
    "run(circle, 10000000)\n",
    "\n",
    "a = circle[1]\n",
    "b = circle[a]\n",
    "\n",
    "a * b"
   ]
  }
 ],
 "metadata": {
  "kernelspec": {
   "display_name": "Python 3",
   "language": "python",
   "name": "python3"
  },
  "language_info": {
   "codemirror_mode": {
    "name": "ipython",
    "version": 3
   },
   "file_extension": ".py",
   "mimetype": "text/x-python",
   "name": "python",
   "nbconvert_exporter": "python",
   "pygments_lexer": "ipython3",
   "version": "3.7.4"
  }
 },
 "nbformat": 4,
 "nbformat_minor": 4
}
