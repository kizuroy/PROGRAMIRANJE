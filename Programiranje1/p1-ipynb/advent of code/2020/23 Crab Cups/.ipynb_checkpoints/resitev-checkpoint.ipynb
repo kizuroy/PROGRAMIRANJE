{
 "cells": [
  {
   "cell_type": "markdown",
   "metadata": {},
   "source": [
    "# Day 22: Crab Cups\n",
    "\n",
    "([Povezava na nalogo]())\n",
    "\n",
    "Imamo oštevilčene kozarce, postavljene v krog. Razpored števil in kozarec, pri katerem začnemo, sta v podatkih. V primeru na sliki je določeno, da začnemo pri kozarcu 3."
   ]
  },
  {
   "cell_type": "markdown",
   "metadata": {},
   "source": [
    "<img src=\"data:image/.png;base64,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\"/>"
   ]
  },
  {
   "cell_type": "markdown",
   "metadata": {},
   "source": [
    "V vsakem koraku naredimo tole.\n",
    "\n",
    "- Vzamemo tri kozarce, ki sledijo trenutnemu v smeri urinega kazalca (če je trenutni kozarec 3, so to kozarci 8, 9 in 1).\n",
    "- Poiščemo kozarec, katerega številka je za 1 manjša od trenutnega. V tem primeru je to kozarec 2. Če bi bil to ravno kateri izmed treh kozarcev, zmanjšamo številko še za 1 (in po potrebi še in po potrebi še, tako da pridemo do enega izmed kozarcev, ki so še v krogu). Če izberemo kozarec 0 (ki ne obstaja), vzamemo kozarec z najvišjo številko (v tem primeru 9).\n",
    "- Odvzete tri kozarce postavimo za ta kozarec. V gornjem primeru postavimo 8, 9 in 1 za 2, torej med 2 in 5.\n",
    "- Naslednji trenutni kozarec je kozarec, ki sledi trenutnemu. V gornjem primeru je to 2 (ker smo 8, 9 in 1 odstranili).\n",
    "\n",
    "## Prvi del\n",
    "\n",
    "Gornji recept ponovimo stokrat. Kakšen je vrstni red kozarcev od 1 naprej?\n",
    "\n",
    "Da se ne hecamo brez potrebe s tem, ali se trije kozarci, ki sledijo trenutnemu, že ovijajo okrog, bomo vrteli seznam: trenutni element bo vedno ničti. Ko gremo na naslednji element, bomo v resnici dali trenutni element na konec.\n",
    "\n",
    "Dobimo takšen program."
   ]
  },
  {
   "cell_type": "code",
   "execution_count": null,
   "metadata": {},
   "outputs": [],
   "source": [
    "initial = \"389125467\"\n",
    "state = list(map(int, initial))\n",
    "\n",
    "for round in range(100):\n",
    "    current, removed, state = state[0], state[1:4], state[4:]\n",
    "    place = current - 1 or 9\n",
    "    while place in removed:\n",
    "        place = place - 1 or 9\n",
    "    pi = state.index(place) + 1\n",
    "    state[pi:pi] = removed\n",
    "    state.append(current)\n",
    "    \n",
    "pos = state.index(1)\n",
    "state = state[pos + 1:] + state[:pos]\n",
    "print(\"\".join(map(str, state)))"
   ]
  },
  {
   "cell_type": "markdown",
   "metadata": {},
   "source": [
    "V `state` prepišemo števila, pretvorjena v `int`-e. Nato v zanki vzamemo prvo število, naslednja tri in ostala. Poiščemo mesto za vstavljanje; `place` bo trenutni - 1, oziroma `9`, če bi trenutni s tem postal 0. V zanki nato poskrbimo za primer, ko  je `place` eden od odstranjenih kozarcev.\n",
    "\n",
    "Nato odkrijemo, kjer v seznamu je kozarec, za katerim morajo biti trije kozarci, ki jih premikamo (`pi`). V mesto med `pi` in `pi` - torej točno za `pi`, damo odstranjene kozarce, na konec pa še trenutnega. Ne spreglejmo, da `state` pred temu prirejani vsebuje samo preostale kozarce, brez prvega (trenutnega) in tistih treh, ki mu sledijo.\n",
    "\n",
    "Po stotih potezah poiščemo kozarec 1. Seznam prevrtimo tako, da imamo najprej kozarca 1 do konca in nato kozarce od začetka do tega kozarce. Števila pretvorimo v števke, združimo v niz in izpišemo.\n",
    "\n",
    "## Drugi del\n",
    "\n",
    "Slaba novica: kozarcu 9 sledijo še kozarci od 10 do milijon. Poleg tega ne naredimo sto korakov temveč deset milijonov korakov.\n",
    "\n",
    "Gornji program nima šans. Lahko ga prepišemo v numpy, pa se bo izvajal uro ali dve. Dodamo trik ali dva, pa bo morda dvakrat ali trikrat hitrejši.\n",
    "\n",
    "Tu je potrebno uporabiti drugačen pristop. Sprogramirali ga bomo na tem, krajšem primeru, potem pa ga dopolnili do milijonov.\n",
    "\n",
    "Osnovni problem gornjega programa je, da kopira sezname v nov seznam. Tudi če se temu izognemo in premikamo števila znotraj nekega seznama, jih je še vedno potrebno premikati. In s premikanjem milijona števil je veliko dela. Tudi če ne vrtimo seznama, tako da je trenutni element vedno na začetku, ne bomo nič na boljšem, saj je treba premikati elemente seznama, ko odstranjujemo in vstavljamo te tri elemente.\n",
    "\n",
    "Potrebujemo nekaj, kar Python, kolikor vem, ni vdelano v Python: dvojno povezani seznami."
   ]
  },
  {
   "cell_type": "markdown",
   "metadata": {},
   "source": [
    "<img src=\"data:image/.png;base64,iVBORw0KGgoAAAANSUhEUgAAAlgAAACSCAMAAACuVEQVAAAAGXRFWHRTb2Z0d2FyZQBBZG9iZSBJbWFnZVJlYWR5ccllPAAAADBQTFRFvr6+yMjI1dXVh4eHTU1NqKiofHx8lpaW8/PzZ2dnKysr+vr6BgYG4+Pj7Ozs////obDDcAAAABB0Uk5T////////////////////AOAjXRkAABlpSURBVHja7F2JtqQmEGVfxf7/vw2bUiq2NL2+CeScJOO0itTl1gJVoNtoo72hoTEEow1gjTaANdoA1mijDWCNNoA12gDWaKMNYI32LwALUWzHMI32YmBZY8TEOpHFGVV9d86IynkI5x8GFjP2RibZhSzDJt2HDmyYMBPu+yBmJoO7x8MhN0DxfmC5iduAkC7i4bdJ9zGWc/GtXSLmcp7Z1Gs6WjbRvi4LwwzrfK1FQvP/FbDQFIQrTKda6kRkarqfd9DUKyYxdQILM01QJ9sRj+a+W4mZQjOdc4Hpbt9tJk8Bi05q/XdH62WspIUZ6b1Vms4B40wb2nlnt4wcM0/Zk6Svy97eQHqSna805kIrtAGrl7F0/4i5qdPyd5j23jozjadeYPVPg+mpmI/tE48Sk/9g3UV2yujL197/Jp6AZb7AWNqQXtaZDO97r2aOdAKLTobxLh/HacMZk90jRZi+dQOL9QDL8mAh2ftsdx9YJBrvjM29wOpmLPrMNJZ9DB80aC9jOYTE1OVueDtJe5JlvR8bpdyjCr10eNco24DJmzX6iXCDYdYrJWl7gaX6ofFMWJb1iNjbOoJqT3euW8S0S8As3tvpb3QSVuSdaeojOxm0oDXsCWChSXDTqwn7bSz6HK5uzPQAS4oALMZ7aZaYHjmhaHsjI3rR3Oc8WzRpb7x38bObmJ3F9Aywblgw2i3jXsbikwky7mKO4LfLTn0W+UN0w7kPHIlyuOnzz5zp1KEuvNb2wdJ69W3EfWf0JxehkaD+H9EFLK/LzCTmfmD1zWFib4r1Rd7ERLwp3emr9BJWWE9Z/92pScmfA9ZTzWL8RPTMya4RId4VNZ3Rs1lPgnWaWI71Gv1Rb1s59RqUV1Q5ts28qD2xyKiw7F1yx6x3jcEzjqG9C1j+7ivLewDrf9ssF50OsPWG+1XgbQBrtPfYyWMIRhvAGm0Aa7QBrNFGG8AabQBrtP85sAgabbRXNpeApbsfgJ+4VWreey9hFPe+lonuW6nm3fdK8YVbEdfdtyIq+4ElErD61/Nvon9Zjoj+RKv+JICb6E+HQbK/x6j/tUR23+q6d3ncLMJPwOJpYNH/FbBof4/x3wMW+iawxADWYKzBWE8Dqz/paDDWv85YejDWYKzBWIOxho01GOsMWFzkRyHRvP8aMhZPOVcEkUP2Bc7XNPg9BJa7TvaUMKMLAuvO3niXXrvZZgmBxdm9wXN4vikNpg5kLKKDuG3tY8vTSZWxLL1MXiKwxxBYaMnkt25Xtix0Jfx3proOrFlT8LPavRaBHkPGsjJWsrJ3dsnOm62sW2CxKdcQoBOyjzPWbMIfYpkKs71fxMoV4RpMkITAYjGVQNFpnxqgctULEtK6VQ1YISGPp19N24xRzMKd4XthVjWwsZzRdundPqlASf9Mvs2egYwVHqlkvPPIRdiExxG4Hx0wFlre5ceKbtCUv8KgG8ytAMBaHul8pzcZbjPLN4Z0EFkDlgop8bNefwZghU2+qMA+dshYJHyjxVkSW0CJJDNL4e75PbAmYR8EFmAgEZ5MvISQH2/4ejlpjv37w6tAJikAVqoOg8L37YDljBG+0ZjThWvACrmLRMYfbetxOS9dzGPtCgLysgBjiTjCetJUCL19ccxvion6IEURMFbM9OITC/nPh0QXpdM1aXiFsdb8B7UrbTPz8BVCB+ERIGIArDwG3AtYbhjLfyFCOoJNibIbHQAr1g7wUyn8bJtfQyZDEY0XcZklgLFUTMT3P0NetJut7rbIbJMYvQOWYek3fYw1hf9PT/AjDiQ8h2pXHndB6oCyALCS8ARTh2prIEEYUlYBFswg3pbFEkm4UXaAsgqwEmGpWh0uYla0AMoCjBUfOEc1KKd9BQJq0u0QHYWxVsLyN9ZyGXhIT7aAsgqwMmGh6ZAPZEMXnI5JkYCyCrBy9vKcSEZvyQ7F/FW2oSzAWC480M8WHHe7Q4K2lLksMwtrEu0Zy/fYRmBFi0chIdK0IMgqLpZMEv+/dLEsCmOh8HySB9kcs4pInE52WqFYgGVXyFSAhXb6cgcsABk0bVJcE8z8RbuBXwFWujjX0rVBeR9XZmJhLJj7RPZpX2gSuXgEQEdhrOUiNrqWk+9Y5BNUelCAheLvyVmemZetvm1SwgqwwEUrN8ByqbzWHGQG0FEYK130k/4Wc3t2XVaZjZK+PAFWqGdnF8bi06pT/b3xD+S2aKwlx7kwVtSxMl+vlNTzw+E2urAAq3TpACwBLoByPwVYptDF7qU6PpVm7hBHG4tmk0RUSANUjCu6sDAWAlnA/sPIFhnGZWABPK+MpXKBF08UpAYsnqQO0vULsHjWB+LMgI4jMGtjD8ACIzBryDo2v9BfRQG66MBYKtY6siwz1k5CdpGZBXA9AMtNAR4RWDyY4N7iC8PqrS9qPReGDpNQ4dOTbkq8L4zFgvJdJKKPtRcy5grDFGCVbN4DsPw7mUZqz14rsJxZob0jrGBjCZWV8lzUaGGsxIDIGKN3cQTffW+cmZThJNb85sJY0KTnu+K/QVnQDKyCv5WxFv0YflIBljcqcYbnAVjeenLxb7g2k+FHVzKJFtjRAFgrA3rZwVRTDyyWDUOZtd6OsbJ+9ILnMz2UESnAAr7KAVihzJNNwMr8pINBz6JVr6KC0/G6f9y8ZawoOi9MkmR6CB9kxpTTEVhFYxyBZdjq7DmzVpFYgQWKQh6SiZ0pfmKhHVGoI04CbpjZuXae3b3p7oWn7cYEL4xVwHazevveSAAZWIB2VsbKZBdNmkqNiSxmbwitVvIKrDkb0ZMxVO98hugWZkEWE3wF1pIQH93CLTYSmWSzcl57DBgr9dJbYbXyNHZRham40RmwvGjDfOOhuI7NOFVBZjaJzgMuXV/s/BVYiZBEcFeCp74PEInMZbwCLH0OrAyQaAa57LTWgZVV7cY3C7WX07MrwAIsFrqNNqZ7eBM28eFyZafCWEAh7Gx3EnWzXIDFDoyVgEVMInha12YLO22BlVgMJV8SbeMN3vANM+EUWDmX3v9MmC06glbiKMtsXntcGGtOHxPE4GG5LytbGOs+sLwxNYeiZ3SR4jQFYKEMrDBfcotYEztg+fvCXx2M93UY5OPACoLGW7W3AqtYMXpPWCyOhwc02Rj+q42lYOndTT0fnNVR4v37jIW2tb9ttFTuMVZUj9m5OjIWWtSUN2xOgcUy98ij3a/PgbUagl4X7pEVGJoFmSkALLwCi6aIIo6vYH3A8pIQIgFLAWAtjOU7HQNLvkXHcM9YwZfEq3MIcYUXJDwOrGyW32WsA2EtIY+kIS8Ya/U6lmfhYj3dZSy0q/HK13kXQ6RVxhKRdZZGq4R1l7EMcAH3nre9z1iL8tsaKsqzE4mPhaoQQWAtNr6adqVH7dLlK2BZTzj+p6ioQlsYy5vzWy4sjAXrSbKdiYVKSA5MxBbjfbmcIgc14z3bXQfCWmZGBJatGe8wHk+TPbUVb3LLofG+9jiz2B5XXpI5VMsk3jiPqKhsvfkZqhLWmfGusnESo1HyJKQjq8Y7XHE41kxSieCh8Y5LADFSMd0Q1IPGe/o43wm1Gu/UbmysrZYrjFUQE0pGzGGhbikxi8BCQC3cUNy9JdiGN25a1qOgyLYuHkuKQi3aK4gB54fGmxJIXHG2IbAwmHY8hL5zj2kaxKRsNAg3zFCfQVwpzMkG1RLiDzIWLDwUbSzrOC+BALlbvIHA8iRF1mhBjGYpvpnBicxUKUZc8wqjuRPGGPZY5fp8BX/AKwwY92hlK9sRjirAMvo+sEJwwROUjOEGncMNaAUWStYVTiHSwliLjgumeySvVbugsMwTmrrBIn8FWGqNmuZOrlMKSRLFx3cMU+JY2XgqElmcQz8FPYaDPaE2AaUSx4rG0yz91wTLIZrcmbZcnL5pfsxmjSYUxkrGk+9YynNw+2BWBhYts3tlLFuAmmwsW/peCAuSHQyQ8ry2kg2l5QbL/WCGoqJyS3YgQBq0skLxZ9H/c4UhbJTZTmMCxqIBGB5RfnTCWQeBOeTRK5zBxTqwXFowTiuscV0aMtay4qt3caw5FlePtj3NsSy0oCU3slFncElnWVU3y1rYEn8FfsLNlDhVAVaKmhbCmgt1pTXdeBMgp8JYER04f828Uafp3kiuUJ2VtcK4Bq1XP2aNEqy9kjtywryyCBUZi6yFAGdWZAMwCZZ0ks2WQ9SRwui6FLyuh4OK4mBJR3jpKlHsOlK0bhBzsihAeW6wVojTGnQaKRHt+PnAWBsrbgssvDyJoHlZulmWdGbwnxkJsSyBChihDvObrqfQmeW8hTUDSW2WdAGwVl2IUcbkMqpOUp0XLmGd/QKsZIIT5Oy6nrIqB0yFjMSaVgUPi9ARbgpRkZhoBmtGHkQivReuGVHQYxk2m6xpdHRr4qX9JRzMYcRvx+Wg+LNCUwqvC8uuugiddGGWTOKmVelJQZMiV6CyP1iETiuIjgsRi/d6HKzusab4aImBtcLsKlosUkEttZlFGRWbIsov3UG6OySMTJWiuBj8Bm6b2S0EV89nghfB7obdGoOoVS6HFwGwdsVoq3VtEbAcAGOpbcFvVTu1ZIb+DNiPJfcR1coeQDiLwO4GvK3LTGrlGmHtZgCsWW/2JXhL7XirAucJAMay23LwFlXGeFsm97U7SLf1WWmtIjYcagisLSiJqQy1gPEiuNFvK2JWWVLGsL4v3PMuNqu5orLtT8Eew/1YW1AiVtnlSeFngP1YYC0v/qkCjg2A4Ea/rYh5pSLu5ulwo9+2WLirVGneIAbux1KbHqtaj91mPMae94fa2PPePMhjz/tjwBp73j8FrMFYg7HOgUVFd9PdP6NaV39IG55AmabbZ7GT+/xbtn+xv/Ve/+hFj/0FTUXTVxz7oVntVt18sXb78YeVW3XjG/QD8t5f5u+ojyWPx0LkKEJDY2eboundxKHzYyh5yy5rVLudXw4NPtnKiRtOtZurlf9xKzlVDw5o4idXOalkbtVZts73tuZOvxxYFYe/GVjk9CA6fvcR5ye65SjLxVyoHfrDL5SXquwhabenjjvlU+StVSvXjuttAZaqna00t76W1I8Ls/oTwDLTIaYztx7zyKbTI2U0vnvf2ZEhpOUsr0qmzSVjxQWI+mlfSDYAY6odvNNqToUkomP3SAM+cO0E6VZgKVM/fvojjBUyAQ/7khutXn7M/wKT+dzWn01dTpEarp0by2q3k3vHNjhdS0ZcPuMSHmHJqBasI20z0Mqpcii6bVCkcQcp6lSF8YTD2sSfPwEsNFXe3uYABgFPp4fY3cnPjotnJ0fYNRy6FFcGj7ffuVPRuHBm6hbHpXVmxVRDRthfgRsJazpqtLmhLhyqvrgRWOpkLtlar18OrDhme/uhDVj0kMy85azTIIM4yUhuBBav3y75XdIw5kRvX9vu6YX61mlk5Xzm/UC5a3jENIAKJEVLHqml1ZvrJtbrgWXAfoQiI9LQ8/TV907BOyvTEBSLmeqnqja4hXSqJY97gLhzpeBBLnfpOc2akBjDjJm63cJgoFVmwjUogwoNd85dMSuXtkbYY8SLfwBY1pMlk3pHWU22AzOUUXP34D6na9ByhjmBLa9CUsnLCid6kpLPFLVSlqORO1X9NGZCr9SZVR58s6msWzcNlEJ8xhLtzwlu0IRKolkocdTgDWTnDRUjQsIGaiKslwOLa1dTfI3H8HoDnd439J04hrpCSAGden/06hOd/4WrwQ/XLnpULTE1gvtM9/BkFTeaH6WHmvxCItTN8f21pgCYuB3ubLfe9U0JetCQ6BPAWoZtP/lbdOEddMBpx7XAx6cJ/MxDb1Q2YEShgqrTb2jwgMm54dcWIq1oPUdbak+peoxNtS1lVuMZJxr4LSdTHPnJNpnvurEu18y13sPl3CJqOozXUn7/okKCiWuMOnotIiXlnU/jLQI+DhRuIyx95g+0oLKmd+aTkPZbgEWOqzoUX1MWfuAAW4uFFhur4nR1mXPVNBtrAUsRjSki/cuaiO8eZgrl3vsNEl2ERXTTqJ29WjXg2daUrWIng/ues3TE0RVrsLL0gwe5WyK1F3jWsupUGYqmj6zGyTgL66ucNJZ1UqLB5afyvuwvnTui7TGGhZ8hrEA8l59Yw5A9ldl7gGWP0Sh8aXuI5qpcO3R5Z0V7fwefWRm47ehjDgbJ4VgFTXP0yA6dFlyRq7LN85XqdkdubUBj4iV0rgGuKK9mpM/sPGj9FmB552M+Ou/3ccPl/MQLCZKCeXqhfM2raNCSe87imIcNJB6nnKhFGzZvhyLX77H8mrnJfeae5XExB+m2DuoOLVlsjwrNnff0XcfK8aNneJ+R0BP7/gB2FcaybC5Kx0DNJ8qQ5DOQwCYnTdSRhhp3MzaQG9G0Sf74IVzdcBuu3N2iuur+SsPR9rOY3RmYt51XKI4EJe5E/5B2L3ip3NnpK3RYbV9cgh20n1Q1ioZaDh2Yhbhi3Jk2fuQd6psrBNqIq/kionfP8ajwlaV39f77DsKsEBQ/G3sr6fySl8oTD5C3blf3ILIV2+nKr7CSXVnPs9TNu8jnM6EhXbGvWJsxyq8MQMXPLHh17A+5+OA3nrBaQZbTVcGT6zLvrY2eaFTJWzex8lpnPNmQe3P9ktOc0A8lJ+DaE4k+Jq+oNru9pssqjhDjdcMeH+hKX4znO4/urRkn/MgIRD+RklGRSF2AsnWzYZi4FT9iFmfoJ+LKuFKciQdDKTeF9JbFvYVeeYjTspGvWNvPDoD2sDrIh1ybk289E5rXEIO0BlTmZ/KLtGBxVeoAoFI9gE593Aptw1pShYku1lJU+OA+T5cuUbqZSy1qnIuZeyWu0rQCro7FVB/GbW5hgvceNo6qCiTU+dYxU0UI6l7/1pN1bPkAsoJFUuEtJWEE3iKqBb6vW2gdEM28leJpFNV3blB9ezGu4mThOW9HU80rq3NNLsibT7FXGtnbxxuqJ+3wx/RRQIWm+5GdPeI0J4Tri1WeOcBOuvd9pUUMtf5SvEoKttUFQe8WMhXq88i61W1tpB/O7p2RTElz+ejtfCwJZcxfqa/0KIxoSC3k81s/sdW6ikGUT8PqA8AK4b4vkJar2gGuPw/a5TPlFbgSyOsYH6Mcu7d/3303dTcULxLy/Ihn+35ghUja/HlkeX1YMeItpd/oy8stDNkMFvWa0LM3DPRDayPoE+PwwjjVQ05pzT/kGv2PYBUWBF4CK64fdLPQp+gDfwdaFc9O/23SyjvuW+17/AJUEfH4Sdqfmr7B7PsGtFBlpqE/TFrX0VhIV1o+P+YhfNehTD83xN+CFtYHk1PRR/cU/kaznD2gkBRnT3+lxUz0QeSTc/db0PLv3Ws/p4X7a7B6TCFZztDTqHoiuos+LOLvmPE3LPbL3/hvmVqOPkJWARNPakH/BCafCEF+3NpAmn6HKxDb8eXfgdYsL5aOXg2rsODNnwtsf8GM9ZT+FY0YzFC2GS6i9e8rRELZQ6gKkaunYOXk06j6DrAeNUJfrRNh8qwTP+0hhp0RD9Jq2BvWD6uwm0HgV3T9W8PqJSrVtyhAA4MrmH3qF0HlZew9sgeVNXlmokSqetWE/+J8xforWx8SE8AMVKwF+TlQdchY8f4tk45rQV85Cl9VBGHT09foIoIrq8WZfsulqFjqcV/Ow70J9jbqBtWL9N+vACuNx9d0Ysp2zdQQtuS5H8CUoOhxXzUUHOjapWNJYCr8hm/5BdPV60SK7dder7DUYe+ewuJrPoUiCVM9r+9FVdC3+i2g+hVgJbvxi8SVpm5OWX3bUJ9CSoutq/oo4z+OKhtx/NadiL/jbNtoUH/XQfMDTrUxjOP3h07nkM7vWaoXUre40eFx/yfacPLts+e3ojih8JX+vvfv7XozGR1ypcmrVbR1aXuzppw8g17vAuoH3bjEUx+yOn4vPKi4eG8SQrvgvPD5st841oDonjAIc7km9j8tWRdcjoeoyqJwi8Sfm7O/GXe2xGsJib5NXaE0ZLZ+ZoQ4LB+yJFeE4g+w3+tVuvvxi2QKutQ6lEhXko3+p8DK4ZVY9+rL6LKRHo6inFcI8U0eBTokXbwhNvKA5luP7x7A2rRQtO8H0BXSCENxt++ZB9FzbKa1BCnyvRjO7U9s0o3c1V6w8X3dCG6cRB/UKja9szXAlRKnveLDX5fZ39n9HSqOPlIP9H3wkpE+0Fs74jkyKD4t2wIfmaM8ouyPiOuvpRXMOMLre1ppxVe2rShHL1y7XYIRfgI1Zb2qXNuSop9B1B8F1mJ6cfob+AoJ9WtIgqMeGlNkdQC8EmtDyLwGw/CP7oL909mbFqfKCn54f2FLlccYdBEL2mBLFJP+aols4Ua+CXxGc1jt1xjqnwJW0Y95vL3h82ub9hRBO2Q9SjEeTkgmfqIY/5UMkH8CWEVDoqAi6UlV7r/UAh5lCa/+uVy1fwxYgMPWMtvBbPkT0zwwU9GTHCHylyXwjwJrizG+qfz+MzCLWhKsE0mMiP1Xhv3fB9aWFUhhBVqKvb9fnsnU4vtCWn9RyQ1gtSINaqCN4Pdmt6p7gpvGRbXRDwF4AOvPgA40eQ2+f5aBBrBGG8AabQBrtNEGsEYbwBptAGu00QawRhvAGm0Aa7TRBrBGG8AabQBrtNEGsEYbwBptAGu00QawRhvAGm0Aa7TRBrBGG8AabQBrtNEGsEYbwBptAGu00c7afwIMAEVfwXGZpa2rAAAAAElFTkSuQmCC\"/>"
   ]
  },
  {
   "cell_type": "markdown",
   "metadata": {},
   "source": [
    "Devet kozarcev bomo predstavili s seznamom dolžine 10; prvi element bo za okras. No, za praktičnost. Element 5, recimo, vsebuje terko (2, 4), ki pove, da se kozarec s številko 5 nahaja med kozarcema 2 in 4.\n",
    "\n",
    "To nam poenostavi prestavljanje kozarcev: ko prestavimo tri kozarce, je potrebno le prevezati vse puščice, ki kažejo na njih in iz njih.\n",
    "\n",
    "Najprej sestavimo tabelico, kot je gornja."
   ]
  },
  {
   "cell_type": "code",
   "execution_count": null,
   "metadata": {},
   "outputs": [],
   "source": [
    "initial = \"389125467\"\n",
    "state = list(map(int, initial))\n",
    "\n",
    "circle = [None] * (len(state) + 1)\n",
    "for c, d, e in zip(state[-1:] + state, state, state[1:] + state[:1]):\n",
    "    circle[d] = (c, e)"
   ]
  },
  {
   "cell_type": "code",
   "execution_count": null,
   "metadata": {},
   "outputs": [],
   "source": [
    "circle"
   ]
  },
  {
   "cell_type": "code",
   "execution_count": null,
   "metadata": {},
   "outputs": [],
   "source": []
  }
 ],
 "metadata": {
  "kernelspec": {
   "display_name": "Python 3",
   "language": "python",
   "name": "python3"
  },
  "language_info": {
   "codemirror_mode": {
    "name": "ipython",
    "version": 3
   },
   "file_extension": ".py",
   "mimetype": "text/x-python",
   "name": "python",
   "nbconvert_exporter": "python",
   "pygments_lexer": "ipython3",
   "version": "3.7.4"
  }
 },
 "nbformat": 4,
 "nbformat_minor": 4
}
