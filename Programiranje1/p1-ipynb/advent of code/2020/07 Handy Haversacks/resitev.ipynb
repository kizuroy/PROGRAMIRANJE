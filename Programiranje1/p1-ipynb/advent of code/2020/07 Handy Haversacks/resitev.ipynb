{
 "cells": [
  {
   "cell_type": "markdown",
   "metadata": {},
   "source": [
    "## Day 7: Handy Haversacks\n",
    "\n",
    "([Povezava na nalogo](https://adventofcode.com/2020/day/7))\n",
    "\n",
    "Na letališču imajo neka pravila v zvezi s tem, kakšne torbe morajo biti v kakšnih torbah.\n",
    "\n",
    "```\n",
    "light red bags contain 1 bright white bag, 2 muted yellow bags.\n",
    "dark orange bags contain 3 bright white bags, 4 muted yellow bags.\n",
    "bright white bags contain 1 shiny gold bag.\n",
    "muted yellow bags contain 2 shiny gold bags, 9 faded blue bags.\n",
    "shiny gold bags contain 1 dark olive bag, 2 vibrant plum bags.\n",
    "dark olive bags contain 3 faded blue bags, 4 dotted black bags.\n",
    "vibrant plum bags contain 5 faded blue bags, 6 dotted black bags.\n",
    "faded blue bags contain no other bags.\n",
    "dotted black bags contain no other bags.\n",
    "```\n",
    "\n",
    "Če izpustimo zgodbico, sta vprašanji preprosto:\n",
    "\n",
    "1. Pri koliko različnih začetnih torbah bomo nekoč naleteli na zlato torbo?\n",
    "2. Če začnemo z zlato torbo, koliko torb bo vsebovala (vključno s torbami, vsebovanimi v torbah ...)\n",
    "\n",
    "## Branje podatkov\n",
    "\n",
    "Advent of Code 2019 se je sukal okrog programiranja nekega navideznega stroja, poln je bil drobnih algoritmičnih cukrčkov. Letošnji bo žal očitno na temo branja podatkov. Veliko užitkov želim vsem, ki ste se ga odločili delati v čistem C-ju.\n",
    "\n",
    "Shranimo eno od vrstic v niz in poglejmo, kako jo zmrcvariti v ustrezne dele."
   ]
  },
  {
   "cell_type": "code",
   "execution_count": 1,
   "metadata": {},
   "outputs": [],
   "source": [
    "line = \"light red bags contain 1 bright white bag, 2 muted yellow bags.\""
   ]
  },
  {
   "cell_type": "markdown",
   "metadata": {},
   "source": [
    "Dan bo rešila metoda nizov `partition(x)`. Kot argument dobi podniz `x` in vrne del originalnega niza pred `x`, `x` in del za `x`. Torej:"
   ]
  },
  {
   "cell_type": "code",
   "execution_count": 2,
   "metadata": {},
   "outputs": [],
   "source": [
    "outer, _, inners = line.partition(\" bags contain \")"
   ]
  },
  {
   "cell_type": "code",
   "execution_count": 3,
   "metadata": {},
   "outputs": [
    {
     "data": {
      "text/plain": [
       "'light red'"
      ]
     },
     "execution_count": 3,
     "metadata": {},
     "output_type": "execute_result"
    }
   ],
   "source": [
    "outer"
   ]
  },
  {
   "cell_type": "code",
   "execution_count": 4,
   "metadata": {},
   "outputs": [
    {
     "data": {
      "text/plain": [
       "'1 bright white bag, 2 muted yellow bags.'"
      ]
     },
     "execution_count": 4,
     "metadata": {},
     "output_type": "execute_result"
    }
   ],
   "source": [
    "inners"
   ]
  },
  {
   "cell_type": "markdown",
   "metadata": {},
   "source": [
    "`inner` zdaj razsekamo glede na vejico, podnize pa na presledke. Od podnizov vzamemo prvi kos, in ostale, zadnjega pa zavržemo v `_`."
   ]
  },
  {
   "cell_type": "code",
   "execution_count": 5,
   "metadata": {},
   "outputs": [
    {
     "name": "stdout",
     "output_type": "stream",
     "text": [
      "1 ['bright', 'white', 'bag,', '2', 'muted', 'yellow']\n",
      "1 ['bright', 'white', 'bag,', '2', 'muted', 'yellow']\n"
     ]
    }
   ],
   "source": [
    "for inner in inners.split(\", \"):\n",
    "    n, *color, _ = inners.split()\n",
    "    print(n, color)"
   ]
  },
  {
   "cell_type": "markdown",
   "metadata": {},
   "source": [
    "Kdor ne razume tistega z zvezdico, naj se spomni razpakiranja terk."
   ]
  },
  {
   "cell_type": "code",
   "execution_count": 6,
   "metadata": {},
   "outputs": [],
   "source": [
    "a, b, c, *d, e, f = (1, 2, 3, 4, 5, 6, 7, 8, 9)"
   ]
  },
  {
   "cell_type": "code",
   "execution_count": 7,
   "metadata": {},
   "outputs": [
    {
     "data": {
      "text/plain": [
       "3"
      ]
     },
     "execution_count": 7,
     "metadata": {},
     "output_type": "execute_result"
    }
   ],
   "source": [
    "c"
   ]
  },
  {
   "cell_type": "code",
   "execution_count": 8,
   "metadata": {},
   "outputs": [
    {
     "data": {
      "text/plain": [
       "[4, 5, 6, 7]"
      ]
     },
     "execution_count": 8,
     "metadata": {},
     "output_type": "execute_result"
    }
   ],
   "source": [
    "d"
   ]
  },
  {
   "cell_type": "code",
   "execution_count": 9,
   "metadata": {},
   "outputs": [
    {
     "data": {
      "text/plain": [
       "8"
      ]
     },
     "execution_count": 9,
     "metadata": {},
     "output_type": "execute_result"
    }
   ],
   "source": [
    "e"
   ]
  },
  {
   "cell_type": "code",
   "execution_count": 10,
   "metadata": {},
   "outputs": [
    {
     "data": {
      "text/plain": [
       "9"
      ]
     },
     "execution_count": 10,
     "metadata": {},
     "output_type": "execute_result"
    }
   ],
   "source": [
    "f"
   ]
  },
  {
   "cell_type": "markdown",
   "metadata": {},
   "source": [
    "`n` je potrebno pretvoriti v `int`, `color` pa z `\" \".join` združiti nazaj v en niz.\n",
    "\n",
    "Zložimo vse skupaj, pa imamo branje."
   ]
  },
  {
   "cell_type": "code",
   "execution_count": 11,
   "metadata": {},
   "outputs": [],
   "source": [
    "rules = {}\n",
    "for line in open(\"example.txt\"):\n",
    "    outer, _, inners = line.partition(\" bags contain \")\n",
    "    inn_bags = {}\n",
    "    for inner in inners.split(\",\"):\n",
    "        n, *color, _ = inner.split()\n",
    "        if n != \"no\":\n",
    "            inn_bags[\" \".join(color)] = int(n)\n",
    "    rules[outer] = inn_bags"
   ]
  },
  {
   "cell_type": "markdown",
   "metadata": {},
   "source": [
    "Za `if n != \"no\"` smo poskrbeli za torbe, ki ne vsebujejo drugih torb. Kaj je v tem primeru v `color` in `_` nam je očitno popolnoma vseeno."
   ]
  },
  {
   "cell_type": "code",
   "execution_count": 12,
   "metadata": {},
   "outputs": [
    {
     "data": {
      "text/plain": [
       "{'light red': {'bright white': 1, 'muted yellow': 2},\n",
       " 'dark orange': {'bright white': 3, 'muted yellow': 4},\n",
       " 'bright white': {'shiny gold': 1},\n",
       " 'muted yellow': {'shiny gold': 2, 'faded blue': 9},\n",
       " 'shiny gold': {'dark olive': 1, 'vibrant plum': 2},\n",
       " 'dark olive': {'faded blue': 3, 'dotted black': 4},\n",
       " 'vibrant plum': {'faded blue': 5, 'dotted black': 6},\n",
       " 'faded blue': {},\n",
       " 'dotted black': {}}"
      ]
     },
     "execution_count": 12,
     "metadata": {},
     "output_type": "execute_result"
    }
   ],
   "source": [
    "rules"
   ]
  },
  {
   "cell_type": "markdown",
   "metadata": {},
   "source": [
    "Izbrana oblika - slovar slovarjev bo najbolj praktična za obe funkciji, ki ju moramo napisati.\n",
    "\n",
    "## Branje z regularnimi izrazi\n",
    "\n",
    "Z regularnim izrazom je praktično zgrabiti posamično notranjo torbo. Izraz, ki ga potrebujemo, je `(\\d+?) (.+?) bags?[,.]`. Regularni izrazi imajo metodo `findall`, ki vrne skupine v vseh ponovitvah regularnega izraza, takole:"
   ]
  },
  {
   "cell_type": "code",
   "execution_count": 13,
   "metadata": {},
   "outputs": [
    {
     "data": {
      "text/plain": [
       "[('1', 'bright white'), ('2', 'muted yellow')]"
      ]
     },
     "execution_count": 13,
     "metadata": {},
     "output_type": "execute_result"
    }
   ],
   "source": [
    "import re\n",
    "re_content = re.compile(r\"(\\d+?) (.+?) bags?[,.]\")\n",
    "\n",
    "inners = \"1 bright white bag, 2 muted yellow bags.\"\n",
    "\n",
    "re_content.findall(inners)"
   ]
  },
  {
   "cell_type": "markdown",
   "metadata": {},
   "source": [
    "Podatke tako preberemo z"
   ]
  },
  {
   "cell_type": "code",
   "execution_count": 14,
   "metadata": {},
   "outputs": [],
   "source": [
    "rules = {outer: {g[1]: int(g[0]) for g in re_content.findall(inners)}\n",
    "         for outer, _, inners in (line.partition(\" bags contain \") for line in open(\"input.txt\"))}"
   ]
  },
  {
   "cell_type": "markdown",
   "metadata": {},
   "source": [
    "Izraz preberimo od zadaj (kot vedno v Pythonu - Kotlin je tu lepši prav zato, ker gredo stvari naprej, ne nazaj!).\n",
    "\n",
    "Najprej imamo `line.partition(\" bags contain \") for line in open(\"input.txt\")`, ki gre čez datoteko in vsako vrstico prelomi okrog `\" bags contain \"`. Čez ta generator spustimo zanko `for outer, _, inners`.\n",
    "\n",
    "To je bila druga vrstica. V prvi pa iz teh `outer` in `inners` sestavimo ključe in vrednosti slovarja. Ključ je očitno `outer`. V `inner` moramo najti vse pojavitve vzorca, ki ga opisuje regularni izraz, `for g in re_content.findall(inners)`. Barvo (`g[0]`) bomo uporabili kot ključ, število (`int(g[0])`) bo vrednost."
   ]
  },
  {
   "cell_type": "markdown",
   "metadata": {},
   "source": [
    "## Rešitev\n",
    "\n",
    "Najbolj klasična, najbolj začetniška rekurzija.\n",
    "\n",
    "Ni kaj komentirati."
   ]
  },
  {
   "cell_type": "code",
   "execution_count": 15,
   "metadata": {},
   "outputs": [
    {
     "name": "stdout",
     "output_type": "stream",
     "text": [
      "233\n",
      "421550\n"
     ]
    }
   ],
   "source": [
    "def contains(t, x):\n",
    "    return t == x or any(contains(y, x) for y in rules[t])\n",
    "\n",
    "def count(t):\n",
    "    return 1 + sum(n * count(x) for x, n in rules[t].items())\n",
    "\n",
    "print(sum(contains(bag, \"shiny gold\") for bag in rules) - 1)\n",
    "\n",
    "print(count(\"shiny gold\") - 1)"
   ]
  }
 ],
 "metadata": {
  "kernelspec": {
   "display_name": "Python 3",
   "language": "python",
   "name": "python3"
  },
  "language_info": {
   "codemirror_mode": {
    "name": "ipython",
    "version": 3
   },
   "file_extension": ".py",
   "mimetype": "text/x-python",
   "name": "python",
   "nbconvert_exporter": "python",
   "pygments_lexer": "ipython3",
   "version": "3.7.4"
  }
 },
 "nbformat": 4,
 "nbformat_minor": 4
}
