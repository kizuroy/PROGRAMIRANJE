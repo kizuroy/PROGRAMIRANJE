{
 "cells": [
  {
   "cell_type": "markdown",
   "metadata": {},
   "source": [
    "# Day 18: Operation Order\n",
    "\n",
    "([povezava na nalogo]())\n",
    "\n",
    "V nalogi blago pokukamo k prevajalnikom. Samo \"blago\" pa zato, ker v okviru takšne naloge ne moremo implementirati ničesar resnega. Niti za to nalogo ni potrebno.\n",
    "\n",
    "## Prvi del\n",
    "\n",
    "Imamo izraz, ki vsebuje seštevanja in množenja. Izračunati pa ga moramo od leve proti desni, ne da bi imelo množenje prednost pred seštevanjem.\n",
    "\n",
    "```\n",
    "1 + 2 * 3 + 4 * 5 + 6\n",
    "  3   * 3 + 4 * 5 + 6\n",
    "      9   + 4 * 5 + 6\n",
    "         13   * 5 + 6\n",
    "             65   + 6\n",
    "                 71\n",
    "```\n",
    "\n",
    "Izraz lahko vsebuje tudi oklepaje; te pa upoštevamo.\n",
    "\n",
    "Izraz, s katerim se bomo igrali je,"
   ]
  },
  {
   "cell_type": "code",
   "execution_count": 1,
   "metadata": {},
   "outputs": [],
   "source": [
    "s = \"1 + (21 * 3) + (41 * (15 + 6))\""
   ]
  },
  {
   "cell_type": "markdown",
   "metadata": {},
   "source": [
    "V sami nalogi pa dobimo datoteko s takšnimi izrazi in naloga je izračunati vsoto rezultatov.\n",
    "\n",
    "Ta, prvi del bomo rešili brez trikov, z močjo lastnih mišic.\n",
    "\n",
    "### Tokenizacija\n",
    "\n",
    "Najprej bomo izraz *tokenizirali*. [Token](https://en.wikipedia.org/wiki/Lexical_analysis#Token) je osnovni element v leksikalni analizi, prvem koraku, ki se zgodi ob prevajanju ali interpretiranju programa. Token je osnovni element, torej ločilo (vejice, oklepaji), operator (tudi, na primer, `+=`), število... V našem primeru so to števila, `+`, `*`, `(` in `)`. Izraz razbijemo na takšne stvari. Ročno, ne z regularnimi izrazi. Za vajo."
   ]
  },
  {
   "cell_type": "code",
   "execution_count": 2,
   "metadata": {},
   "outputs": [
    {
     "data": {
      "text/plain": [
       "['1',\n",
       " '+',\n",
       " '(',\n",
       " '21',\n",
       " '*',\n",
       " '3',\n",
       " ')',\n",
       " '+',\n",
       " '(',\n",
       " '41',\n",
       " '*',\n",
       " '(',\n",
       " '15',\n",
       " '+',\n",
       " '6',\n",
       " ')',\n",
       " ')']"
      ]
     },
     "execution_count": 2,
     "metadata": {},
     "output_type": "execute_result"
    }
   ],
   "source": [
    "def tokenize(s):\n",
    "    acc = \"\"\n",
    "    for c in s:\n",
    "        c = c.strip()\n",
    "        if not c:\n",
    "            continue\n",
    "        if not acc or (c.isdigit() and acc.isdigit()):\n",
    "            acc += c\n",
    "        else:\n",
    "            yield acc\n",
    "            acc = c\n",
    "    if acc:\n",
    "        yield acc\n",
    "        \n",
    "list(tokenize(s))"
   ]
  },
  {
   "cell_type": "markdown",
   "metadata": {},
   "source": [
    "Generator deluje tako, da gre po nizu. In v `acc` nabira, kar bo generiral. Generira pa vedno reči, ki so se nabrale pred trenutnim znakom.\n",
    "\n",
    "- Beli prostor preskoči (`c = c.strip(); if not c: continue`). V `acc` je vedno, \"kar se je nabralo\". \n",
    "- Nato preveri, ali se doslej ni nabralo nič, ali pa je trenutni znak števka in ima tudi v zbirki števke. Če je tako, potem sestavljamo število, torej vanj dodamo še tega. (Ali pa nismo nabrali še ničesar in tudi `c` ni število. Tak `c` bi lahko že sedaj izgenerirali, vendar bo bolj elegantno, če ga ne.)\n",
    "- V nasprotnem primeru pa se je nabralo nekaj, k čemur ne smemo dodati trenutnega znaka. Torej to reč izgeneriramo in potem zapišemo, da se je \"nabral\" trenutni znak.\n",
    "\n",
    "Ko je niza konec, preverimo, ali je potrebno še kaj izgenerirati.\n",
    "\n",
    "Taisto reč je mogoče napisati še na veliko načinov. Ta je eden tistih, ki delujejo. Mogoče ni eden tistih, ki so teoretično najbolj pravilni. Je pa kar praktičen, pregleden in kratek.\n",
    "\n",
    "### Izračun\n",
    "\n",
    "Zdaj nam preostane iti prek tokenov in računati. Ker množenje nima prednosti pred seštevanjem, oklepaji pa so preprosta zadeva, to ne bo težko.\n",
    "\n",
    "Funkcija `evaluate` bo prejme generator tokenov in ga izračunala."
   ]
  },
  {
   "cell_type": "code",
   "execution_count": 3,
   "metadata": {},
   "outputs": [
    {
     "data": {
      "text/plain": [
       "925"
      ]
     },
     "execution_count": 3,
     "metadata": {},
     "output_type": "execute_result"
    }
   ],
   "source": [
    "def evaluate(s):\n",
    "    res = next(s)\n",
    "    if res == \"(\":\n",
    "        res = evaluate(s)\n",
    "    else:\n",
    "        res = int(res)\n",
    "        \n",
    "    for op in s:\n",
    "        if op == \")\":\n",
    "            return res\n",
    "        \n",
    "        num = next(s)\n",
    "        if num == \"(\":\n",
    "            num = evaluate(s)\n",
    "        else:\n",
    "            num = int(num)\n",
    "            \n",
    "        if op == \"+\":\n",
    "            res += num\n",
    "        else:\n",
    "            res *= num\n",
    "    return res\n",
    "\n",
    "evaluate(tokenize(s))"
   ]
  },
  {
   "cell_type": "markdown",
   "metadata": {},
   "source": [
    "(Trenutni) rezultat beleži v `res`. Najprej ga inicializira tako, da prebere prvi token, z `next(s)`. Če je prvi token `(`, pokliče `evaluate` (da, samo sebe), da evaluira izraz v oklepaju. Sicer pa prvi token predstavlja število (ker pač ne more biti zaklepaj ali operator), torej ga spremeni iz niza v število.\n",
    "\n",
    "Zdaj pa pride malo grdobije: generator `s` bomo brali na dveh mestih: z zanko `for` in z `next` znotraj te zanke. Z zanko bomo brali operatorje in zaklepaje.\n",
    "\n",
    "- Če naletimo na zaklepaj, je izraza konec in vrnemo trenutno naračunano vrednost.\n",
    "- Če nimamo oklepaja, pa je `op` bodisi `+` bodisi `*`, torej mu sledi še neko število ali pa zaklepaj. Preberemo torej naslednjo reč `num = next(s)`. Če gre za oklepaj, pokličemo `num = evaluate(s)`, da izračunamo izraz znotraj oklepajev. Sicer pa gre za število, torej ga pretvorimo v `int`. V vsakem primeru to število prištejemo ali primnožimo.\n",
    "\n",
    "### Končna vsota\n",
    "\n",
    "Da rešimo nalogo, moramo le sešteti izračunane tokenizirane vrstice datoteke."
   ]
  },
  {
   "cell_type": "code",
   "execution_count": 4,
   "metadata": {},
   "outputs": [
    {
     "name": "stdout",
     "output_type": "stream",
     "text": [
      "13976444272545\n"
     ]
    }
   ],
   "source": [
    "print(sum(evaluate(tokenize(v)) for v in open(\"input.txt\")))"
   ]
  },
  {
   "cell_type": "markdown",
   "metadata": {},
   "source": [
    "## Drugi del: s Pythonovim parserjem\n",
    "\n",
    "V drugem delu naloge pa je potrebno izraze izračunati, kot da ima seštevanje prednost pred množenjem. To je bolj zapleteno, ker izrazov ne moremo več računati z leve proti desni.\n",
    "\n",
    "Tu lenoba premaga željo po preskušanju lastnih mišic. Nalogo bomo rešili na dva načina, oba poučna. Prvič bomo izrabili Pythonov parser, drugič bomo videli posebne metode razredov.\n",
    "\n",
    "### Pythonov parser\n",
    "\n",
    "Ko Python ovrednosti naš izraz - ali program - mora početi nekaj podobnega, kot smo počeli zgoraj, le veliko bolj zapleteno. Celoten izraz ali program pretvori v sintaktično drevo.\n",
    "\n",
    "Kako to počne, nam je voljan pokazati s pomočjo modula `ast`."
   ]
  },
  {
   "cell_type": "code",
   "execution_count": 5,
   "metadata": {},
   "outputs": [
    {
     "data": {
      "text/plain": [
       "'Expression(body=BinOp(left=Num(n=2), op=Mult(), right=BinOp(left=Num(n=3), op=Add(), right=Num(n=4))))'"
      ]
     },
     "execution_count": 5,
     "metadata": {},
     "output_type": "execute_result"
    }
   ],
   "source": [
    "import ast\n",
    "\n",
    "tree = ast.parse(\"2 * (3 + 4)\", mode=\"eval\")\n",
    "ast.dump(tree)"
   ]
  },
  {
   "cell_type": "markdown",
   "metadata": {},
   "source": [
    "Tole pove, da imamo dvojiški operator, in sicer `Mult`. Na levi je število, na desni pa je dvojiški operator `Add`, ki ima na levi število in na desni tudi."
   ]
  },
  {
   "cell_type": "code",
   "execution_count": 6,
   "metadata": {},
   "outputs": [
    {
     "data": {
      "text/plain": [
       "\"Expression(body=BinOp(left=Num(n=2), op=Mult(), right=Call(func=Name(id='f', ctx=Load()), args=[BinOp(left=Num(n=7), op=Add(), right=Num(n=3))], keywords=[])))\""
      ]
     },
     "execution_count": 6,
     "metadata": {},
     "output_type": "execute_result"
    }
   ],
   "source": [
    "tree = ast.parse(\"2 * f(7 + 3)\", mode=\"eval\")\n",
    "ast.dump(tree)"
   ]
  },
  {
   "cell_type": "markdown",
   "metadata": {},
   "source": [
    "Tule imamo dvojiški operator, ki ima na levi število, na desni pa klic. Argument tega klica je binarni operator ... in tako naprej.\n",
    "\n",
    "Funkcija `f` ne obstaja, vendar to Pythona v tem trenutku nič ne zanima, saj zgolj analizira program. Pač pa bo tu že opazil sintaktične napake, saj sintaktično nepravilnega programa ali izraza ne more zložiti v drevo.\n",
    "\n",
    "Tule je še primer analize programa."
   ]
  },
  {
   "cell_type": "code",
   "execution_count": 7,
   "metadata": {},
   "outputs": [
    {
     "data": {
      "text/plain": [
       "\"Module(body=[While(test=Compare(left=Name(id='i', ctx=Load()), ops=[Lt()], comparators=[Num(n=3)]), body=[AugAssign(target=Name(id='i', ctx=Store()), op=Add(), value=Num(n=1))], orelse=[])])\""
      ]
     },
     "execution_count": 7,
     "metadata": {},
     "output_type": "execute_result"
    }
   ],
   "source": [
    "tree = ast.parse(\"while i < 3: i += 1\")\n",
    "ast.dump(tree)"
   ]
  },
  {
   "cell_type": "markdown",
   "metadata": {},
   "source": [
    "Imamo `while`, ki vsebuje test, sestavljen iz primerjanja, operator je `Lt`, levo je ime `i`, ... in tako naprej.\n",
    "\n",
    "V testih za domače naloge ste morda opazili delček tega, ko sem testiral, ali vaše funkcije z izpeljanimi seznami/množicami/slovarji v resnici vsebujejo le `return`. Tam so testi s pomočjo `ast.parse` poškilili v kodo vaše funkcije.\n",
    "\n",
    "### Drevo izrazov iz naloge\n",
    "\n",
    "Pythonov parser se že zaveda prioritete operatorjev, saj mora sestaviti drevo, ki se ga da izračunati, tako da mora biti množenje v drevesu nižje od seštevanja."
   ]
  },
  {
   "cell_type": "code",
   "execution_count": 8,
   "metadata": {},
   "outputs": [
    {
     "data": {
      "text/plain": [
       "'Module(body=[Expr(value=BinOp(left=Num(n=2), op=Add(), right=BinOp(left=Num(n=3), op=Mult(), right=Num(n=4))))])'"
      ]
     },
     "execution_count": 8,
     "metadata": {},
     "output_type": "execute_result"
    }
   ],
   "source": [
    "tree = ast.parse(\"2 + 3 * 4\")\n",
    "ast.dump(tree)"
   ]
  },
  {
   "cell_type": "markdown",
   "metadata": {},
   "source": [
    "Ko Python računa vrednost tega drevesa, mora najprej izračunati v vrednost v listu (`Mult`, levo je 3 in desno 4) in rezultat potem prišteti k vrednosti iz leve veje.\n",
    "\n",
    "Če zamenjamo vrstni red členov, je seveda isto, le veji se zamenjata."
   ]
  },
  {
   "cell_type": "code",
   "execution_count": 9,
   "metadata": {},
   "outputs": [
    {
     "data": {
      "text/plain": [
       "'Module(body=[Expr(value=BinOp(left=BinOp(left=Num(n=3), op=Mult(), right=Num(n=4)), op=Add(), right=Num(n=2)))])'"
      ]
     },
     "execution_count": 9,
     "metadata": {},
     "output_type": "execute_result"
    }
   ],
   "source": [
    "tree = ast.parse(\"3 * 4 + 2\")\n",
    "ast.dump(tree)"
   ]
  },
  {
   "cell_type": "markdown",
   "metadata": {},
   "source": [
    "Če torej podtaknemo Pythonu izraz iz naloge, bo sestavil pravilno drevo. Nahecamo ga tako, da seštevanje zamenjamo s potenciranjem."
   ]
  },
  {
   "cell_type": "code",
   "execution_count": 10,
   "metadata": {},
   "outputs": [
    {
     "data": {
      "text/plain": [
       "'BinOp(left=Num(n=3), op=Mult(), right=BinOp(left=Num(n=4), op=Pow(), right=Num(n=2)))'"
      ]
     },
     "execution_count": 10,
     "metadata": {},
     "output_type": "execute_result"
    }
   ],
   "source": [
    "def parse(s):\n",
    "    return ast.parse(s.replace(\"+\", \"**\"), mode=\"eval\").body\n",
    "\n",
    "tree = parse(\"3 * 4 + 2\")\n",
    "ast.dump(tree)"
   ]
  },
  {
   "cell_type": "markdown",
   "metadata": {},
   "source": [
    "Zdaj je, vidimo, množenju v korenu, ker je potrebno prej potencirati. :)\n",
    "\n",
    "Da se bo to pravilno izračunalo, pa moramo napisati svojo funkcijo, ki ovrednosti takšno drevo. Preprosta bo.\n",
    "\n",
    "### Izračun drevesa\n",
    "\n",
    "Če imamo število (`Num`), ga, preprosto, vrnemo. Sicer pa imamo binarno operacijo. Ovrednotimo levo in desno vejo, nato pa vrnemo produkt, če gre za produkt. Če ne gre za produkt, pa se delamo neumne in vrnemo vsoto."
   ]
  },
  {
   "cell_type": "code",
   "execution_count": 11,
   "metadata": {},
   "outputs": [],
   "source": [
    "def evaluate_tree(node):\n",
    "    if isinstance(node, ast.Num):\n",
    "        return node.n\n",
    "        \n",
    "    left, right = evaluate_tree(node.left), evaluate_tree(node.right)\n",
    "    if isinstance(node.op, ast.Mult):\n",
    "        return left * right\n",
    "    else:\n",
    "        return left + right"
   ]
  },
  {
   "cell_type": "markdown",
   "metadata": {},
   "source": [
    "Da dobimo rešitev naloge, le spustimo vsoto čez poračunana drevesa."
   ]
  },
  {
   "cell_type": "code",
   "execution_count": 12,
   "metadata": {},
   "outputs": [
    {
     "name": "stdout",
     "output_type": "stream",
     "text": [
      "88500956630893\n"
     ]
    }
   ],
   "source": [
    "print(sum(evaluate_tree(parse(v)) for v in open(\"input.txt\")))"
   ]
  },
  {
   "cell_type": "markdown",
   "metadata": {},
   "source": [
    "## Drugi del: s posebnimi metodami\n",
    "\n",
    "Tu bomo uporabili podoben trik, seštevanje bomo zamenjali s potenciranjem, le da bomo tudi računanje prepustili Pythonu. Za to pa bomo malo drugače definirali potenciranje.\n",
    "\n",
    "### Redefinirano potenciranje\n",
    "\n",
    "Izmislili si bomo novo vrsto `int`-ov, pri katerih je potenciranje pravzaprav isto kot seštevanje."
   ]
  },
  {
   "cell_type": "code",
   "execution_count": 13,
   "metadata": {},
   "outputs": [],
   "source": [
    "class N(int):\n",
    "    def __pow__(self, other):\n",
    "        return N(super().__add__(other))\n",
    "\n",
    "    def __mul__(self, other):\n",
    "        return N(super().__mul__(other))"
   ]
  },
  {
   "cell_type": "code",
   "execution_count": 14,
   "metadata": {},
   "outputs": [],
   "source": [
    "a = N(2)\n",
    "b = N(3)"
   ]
  },
  {
   "cell_type": "code",
   "execution_count": 15,
   "metadata": {},
   "outputs": [
    {
     "data": {
      "text/plain": [
       "6"
      ]
     },
     "execution_count": 15,
     "metadata": {},
     "output_type": "execute_result"
    }
   ],
   "source": [
    "a * b"
   ]
  },
  {
   "cell_type": "code",
   "execution_count": 16,
   "metadata": {},
   "outputs": [
    {
     "data": {
      "text/plain": [
       "5"
      ]
     },
     "execution_count": 16,
     "metadata": {},
     "output_type": "execute_result"
    }
   ],
   "source": [
    "a ** b"
   ]
  },
  {
   "cell_type": "code",
   "execution_count": 17,
   "metadata": {},
   "outputs": [
    {
     "data": {
      "text/plain": [
       "10"
      ]
     },
     "execution_count": 17,
     "metadata": {},
     "output_type": "execute_result"
    }
   ],
   "source": [
    "a ** b * a"
   ]
  },
  {
   "cell_type": "markdown",
   "metadata": {},
   "source": [
    "Iz razreda `int` smo torej izpeljali nov razred `N` in mu zamenjali metodi `__pow__` in `__mul__`, ki predstavljata potenciranje in množenje. Obe vrneta nov objekt razreda `N`; `__pow__` vrne to, kar bi vrnil podedovani `__add__`, `__mul__` pa, kar bi vrnil podedovani `__mul__` (le da rezultat spremenimo v `N`!).\n",
    "\n",
    "Več o tem, kar počnemo, je v [dokumentaciji](https://docs.python.org/3/reference/datamodel.html#emulating-numeric-types).\n",
    "\n",
    "### Popravek izrazov\n",
    "\n",
    "Zdaj pa je potrebno spremeniti vsa števila v izrazu iz `int`-ov v `N`-je. Tu si bomo pomagali z regularnimi izrazi (lahko pa bi si tudi s tokenizacijo iz prvega dela naloge, če bi hoteli vsaj malo sloneti na lastnih mišicah).\n",
    "\n",
    "Izraz `\\d+` (ena ali več zaporednih števk) želimo zamenjati z `N(...)`, kjer je v oklepajih taisti izraz.\n",
    "\n",
    "Poleg tega moramo, seveda, zamenjati `+` z `**`. To storimo tako."
   ]
  },
  {
   "cell_type": "markdown",
   "metadata": {},
   "source": [
    "Iz razreda `int` smo torej izpeljali nov razred `N` in mu zamenjali metodi `__pow__` in `__mul__`, ki predstavljata potenciranje in množenje. Obe vrneta nov objekt razreda `N`; `__pow__` vrne to, kar bi vrnil podedovani `__add__`, `__mul__` pa, kar bi vrnil podedovani `__mul__` (le da rezultat spremenimo v `N`!).\n",
    "\n",
    "Več o tem, kar počnemo, je v [dokumentaciji](https://docs.python.org/3/reference/datamodel.html#emulating-numeric-types).\n",
    "\n",
    "### Popravek izrazov\n",
    "\n",
    "Zdaj pa je potrebno spremeniti vsa števila v izrazu iz `int`-ov v `N`-je. Tu si bomo pomagali z regularnimi izrazi (lahko pa bi si tudi s tokenizacijo iz prvega dela naloge, če bi hoteli vsaj malo sloneti na lastnih mišicah).\n",
    "\n",
    "Izraz `\\d+` (ena ali več zaporednih števk) želimo zamenjati z `N(...)`, kjer je v oklepajih taisti izraz.\n",
    "\n",
    "```python\n",
    "    s = re.sub(r\"\\d+\", lambda mo: f\"N({mo.group()})\", s)\n",
    "```\n",
    "\n",
    "Funkcija `re.sub` prejme regularni izraz in niz, s katerim ga je potrebno zamenjati, ali pa funkcijo, ki prejme `MatchObject`. Le-ta ima metodo `group()`, ki, če ji ne podamo argumentov, vrne, del niza, ki se je ujemal z vzorcem.\n",
    "\n",
    "Poleg tega moramo, seveda, zamenjati `+` z `**`. To storimo tako.\n",
    "\n",
    "### Popravek in izračun\n",
    "\n",
    "Funkcija, ki popravi izraze in jih izračuna, je takšna."
   ]
  },
  {
   "cell_type": "code",
   "execution_count": 18,
   "metadata": {},
   "outputs": [],
   "source": [
    "import re\n",
    "\n",
    "def evaluate_pow(s):\n",
    "    s = re.sub(r\"\\d+\", lambda mo: f\"N({mo.group()})\", s)\n",
    "    s = s.replace(\"+\", \"**\")\n",
    "    return eval(s)"
   ]
  },
  {
   "cell_type": "markdown",
   "metadata": {},
   "source": [
    "Popravek smo razložili zgoraj, `eval` pa je funkcija, ki prejme niz in ga izračuna.\n",
    "\n",
    "Rešitev naloge je potem:"
   ]
  },
  {
   "cell_type": "code",
   "execution_count": 19,
   "metadata": {},
   "outputs": [
    {
     "name": "stdout",
     "output_type": "stream",
     "text": [
      "88500956630893\n"
     ]
    }
   ],
   "source": [
    "print(sum(map(evaluate_pow, open(\"input.txt\"))))"
   ]
  }
 ],
 "metadata": {
  "kernelspec": {
   "display_name": "Python 3",
   "language": "python",
   "name": "python3"
  },
  "language_info": {
   "codemirror_mode": {
    "name": "ipython",
    "version": 3
   },
   "file_extension": ".py",
   "mimetype": "text/x-python",
   "name": "python",
   "nbconvert_exporter": "python",
   "pygments_lexer": "ipython3",
   "version": "3.7.4"
  }
 },
 "nbformat": 4,
 "nbformat_minor": 4
}
