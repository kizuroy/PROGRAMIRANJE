{
 "cells": [
  {
   "cell_type": "markdown",
   "metadata": {},
   "source": [
    "## Day 5: Binary Boarding\n",
    "\n",
    "([Povezava na nalogo](https://adventofcode.com/2020/day/5))\n",
    "\n",
    "Naloga je res lahka. Zanimiva pa je zaradi lepega trika v drugem delu.\n",
    "\n",
    "Sedež na letalski karti je opisan z zaporedjem črk F, B, L in R. Prvi del opisuje vrsto:\n",
    "\n",
    "```\n",
    "For example, consider just the first seven characters of FBFBBFFRLR:\n",
    "\n",
    "Start by considering the whole range, rows 0 through 127.\n",
    "F means to take the lower half, keeping rows 0 through 63.\n",
    "B means to take the upper half, keeping rows 32 through 63.\n",
    "F means to take the lower half, keeping rows 32 through 47.\n",
    "B means to take the upper half, keeping rows 40 through 47.\n",
    "B keeps rows 44 through 47.\n",
    "F keeps rows 44 through 45.\n",
    "The final F keeps the lower of the two, row 44.\n",
    "```\n",
    "\n",
    "drugi pa sedež znotraj te vrste\n",
    "\n",
    "```\n",
    "Start by considering the whole range, columns 0 through 7.\n",
    "R means to take the upper half, keeping columns 4 through 7.\n",
    "L means to take the lower half, keeping columns 4 through 5.\n",
    "The final R keeps the upper of the two, column 5.\n",
    "```\n",
    "\n",
    "Vrniti je potrebno vsoto številko vrste, pomnožene z 8, in številke sedeža.\n",
    "\n",
    "## Pretvarjanje v število\n",
    "\n",
    "Ni potrebno biti posebej pameten, da uvidimo, da dobimo številko vrste tako, da zaporedje `FBFBBFF` spremenimo v `0101100` (F spremenimo v 0 in B v 1) in ga interpretiramo kot dvojiško število. Pythonov `int` poleg niza prijazno sprejme še en argument, namreč osnovno številskega sistema,"
   ]
  },
  {
   "cell_type": "code",
   "execution_count": 1,
   "metadata": {},
   "outputs": [
    {
     "data": {
      "text/plain": [
       "44"
      ]
     },
     "execution_count": 1,
     "metadata": {},
     "output_type": "execute_result"
    }
   ],
   "source": [
    "int(\"0101100\", 2)"
   ]
  },
  {
   "cell_type": "markdown",
   "metadata": {},
   "source": [
    "Drugi del je enako dolgočasen, le da L postane 0 in R 1. Še več, ker je potrebno v končnem rezultatu pomnožiti vrstico z 8, je to isto, kot če bi v prvotnem nizo pretvorili vse črke, kot je treba, in kar vse skupaj pretvorili v `int`."
   ]
  },
  {
   "cell_type": "code",
   "execution_count": 2,
   "metadata": {},
   "outputs": [
    {
     "data": {
      "text/plain": [
       "357"
      ]
     },
     "execution_count": 2,
     "metadata": {},
     "output_type": "execute_result"
    }
   ],
   "source": [
    "x = \"FBFBBFFRLR\"\n",
    "\n",
    "int(x.replace(\"F\", \"0\").replace(\"B\", \"1\").replace(\"R\", \"1\").replace(\"L\", \"0\"), 2)"
   ]
  },
  {
   "cell_type": "markdown",
   "metadata": {},
   "source": [
    "Podatke preberemo tako, da to storimo z vsako vrstico datoteke."
   ]
  },
  {
   "cell_type": "code",
   "execution_count": 3,
   "metadata": {},
   "outputs": [],
   "source": [
    "seats = [int(x.replace(\"F\", \"0\").replace(\"B\", \"1\").replace(\"R\", \"1\").replace(\"L\", \"0\"), 2)\n",
    "        for x in open(\"input.txt\")]"
   ]
  },
  {
   "cell_type": "markdown",
   "metadata": {},
   "source": [
    "## Prvi del: največja številka sedeža\n",
    "\n",
    "Brez komentarja:"
   ]
  },
  {
   "cell_type": "code",
   "execution_count": 4,
   "metadata": {},
   "outputs": [
    {
     "data": {
      "text/plain": [
       "885"
      ]
     },
     "execution_count": 4,
     "metadata": {},
     "output_type": "execute_result"
    }
   ],
   "source": [
    "max(seats)"
   ]
  },
  {
   "cell_type": "markdown",
   "metadata": {},
   "source": [
    "## Drugi del: manjkajoči sedež\n",
    "\n",
    "Zgodba pravi, da prvih toliko in toliko številk ne obstaja. Naloge je odkriti naš sedež (to je, sedež, ki je še prost) med najmanjšo in največjo številko sedeža."
   ]
  },
  {
   "cell_type": "code",
   "execution_count": 5,
   "metadata": {},
   "outputs": [],
   "source": [
    "mi, ma = min(seats), max(seats)"
   ]
  },
  {
   "cell_type": "markdown",
   "metadata": {},
   "source": [
    "Ena ideja so množice: od množice vseh sedežev, `set(range(mi, ma + 1))` odštejemo množico zasedenih sedežev, `set(seats)`. Dobljena množica bo (predvidoma) imela le en element; ven ga izvlečemo s `pop`."
   ]
  },
  {
   "cell_type": "code",
   "execution_count": 6,
   "metadata": {},
   "outputs": [
    {
     "data": {
      "text/plain": [
       "623"
      ]
     },
     "execution_count": 6,
     "metadata": {},
     "output_type": "execute_result"
    }
   ],
   "source": [
    "(set(range(mi, ma + 1)) - set(seats)).pop()"
   ]
  },
  {
   "cell_type": "markdown",
   "metadata": {},
   "source": [
    "Zvitejša je tale: od vsote številk vseh možnih sedežev odštejemo vsoto številk vseh zasedenih sedežev.\n",
    "\n",
    "Vsota številk vseh sedežev do (vključno) `ma` je `ma * (ma + 1) // 2`. Ker prvih `mi` (brez `mi`) sedežev manjka, moramo od tega odšteti vsoto sedežev do `mi`-tega (brez `mi`-tega), `mi * (mi - 1) // 2`. Od tega odštejemo vsoto vseh sedežev."
   ]
  },
  {
   "cell_type": "code",
   "execution_count": 7,
   "metadata": {},
   "outputs": [
    {
     "data": {
      "text/plain": [
       "623"
      ]
     },
     "execution_count": 7,
     "metadata": {},
     "output_type": "execute_result"
    }
   ],
   "source": [
    "(ma * (ma + 1) - mi * (mi - 1)) // 2 - sum(seats)"
   ]
  },
  {
   "cell_type": "markdown",
   "metadata": {},
   "source": [
    "## Dodatek: ročno pretvarjanje\n",
    "\n",
    "Če Pythonov `int` ne bi znal pretvarjati števil v dvojiškem zapisu, bi morali pretvarjati sami.\n",
    "\n",
    "Recimo tako"
   ]
  },
  {
   "cell_type": "code",
   "execution_count": 8,
   "metadata": {},
   "outputs": [
    {
     "data": {
      "text/plain": [
       "357"
      ]
     },
     "execution_count": 8,
     "metadata": {},
     "output_type": "execute_result"
    }
   ],
   "source": [
    "x = \"FBFBBFFRLR\"\n",
    "\n",
    "a = 0\n",
    "for c in x:\n",
    "    a *= 2\n",
    "    if c in \"BR\":\n",
    "        a += 1\n",
    "\n",
    "a"
   ]
  },
  {
   "cell_type": "markdown",
   "metadata": {},
   "source": [
    "Če vemo, da je `True` enak `1` in `False` enak `0`, to skrajšamo v"
   ]
  },
  {
   "cell_type": "code",
   "execution_count": 9,
   "metadata": {},
   "outputs": [
    {
     "data": {
      "text/plain": [
       "357"
      ]
     },
     "execution_count": 9,
     "metadata": {},
     "output_type": "execute_result"
    }
   ],
   "source": [
    "a = 0\n",
    "for c in x:\n",
    "    a = 2 * a + (c in \"BR\")\n",
    "    \n",
    "a"
   ]
  },
  {
   "cell_type": "markdown",
   "metadata": {},
   "source": [
    "In če znamo uporabljati `reduce` in `lambda`, iz tega naredimo"
   ]
  },
  {
   "cell_type": "code",
   "execution_count": 10,
   "metadata": {},
   "outputs": [
    {
     "data": {
      "text/plain": [
       "357"
      ]
     },
     "execution_count": 10,
     "metadata": {},
     "output_type": "execute_result"
    }
   ],
   "source": [
    "from functools import reduce\n",
    "\n",
    "reduce(lambda a, c: 2 * a + (c in \"BR\"), x, 0)"
   ]
  },
  {
   "cell_type": "markdown",
   "metadata": {},
   "source": [
    "Celotno datoteko tako preberemo s"
   ]
  },
  {
   "cell_type": "code",
   "execution_count": 11,
   "metadata": {},
   "outputs": [],
   "source": [
    "seats = [reduce(lambda a, c: 2 * a + (c in \"BR\"), x.strip(), 0) for x in open(\"input.txt\")]"
   ]
  },
  {
   "cell_type": "markdown",
   "metadata": {},
   "source": [
    "`strip` je potreben, ker je na koncu vrstice še `\\n`, ki bi nam vsa števila še enkrat pomnožil z 2."
   ]
  }
 ],
 "metadata": {
  "kernelspec": {
   "display_name": "Python 3",
   "language": "python",
   "name": "python3"
  },
  "language_info": {
   "codemirror_mode": {
    "name": "ipython",
    "version": 3
   },
   "file_extension": ".py",
   "mimetype": "text/x-python",
   "name": "python",
   "nbconvert_exporter": "python",
   "pygments_lexer": "ipython3",
   "version": "3.7.4"
  }
 },
 "nbformat": 4,
 "nbformat_minor": 4
}
