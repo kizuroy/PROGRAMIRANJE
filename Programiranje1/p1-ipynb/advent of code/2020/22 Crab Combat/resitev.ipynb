{
 "cells": [
  {
   "cell_type": "markdown",
   "metadata": {},
   "source": [
    "# Day 22: Crab Combat\n",
    "\n",
    "([Povezava na nalogo](https://adventofcode.com/2020/day/22))\n",
    "\n",
    "V prvem delu igramo vojno s kartami, pri čemer ima vsaka karta drugačno številko.\n",
    "\n",
    "V drugem delu igra postane rekurzivna: zmagovalne karte ne določimo glede na njuni števili temveč glede na to, kdo zmaga rekurzivno igro. Če ima en igralec številko 7 in drugi 5, bo prvi vzel naslednjih 7 kart in drugi naslednjih 5. Z njima bosta odigrala igro vojne in karti 7 in 5 dobi tisti igralec, ki zmaga v tej igri. Pri tem igrata s \"kopijama kupčkov\" - po igri za 5 in 7 ostane tistih naslednjih 7 in 5 kart normalno v igri. Če kateri od igralec nima dovolj kart za rekurzivno igro (v gornjem primeru, če prvi nima vsaj 7 in drugi vsaj 5 preostalih kart), se karti 7 in 5 primerjata kot v običajni igri (zmaga tisti, ki ima karto z višjo številko).\n",
    "\n",
    "Da se igra ne bi zaciklala, je potrebno paziti, ali se je točno enaka situacija že kdaj pojavila. V tem primeru takoj zmaga igralec 1. Enakost situacij primerjamo le znotraj posamične igre oz. podigre itd. Igralec 1 zmaga le \"rekurzivno\" igro in ne vsega skupaj.\n",
    "\n",
    "Naloga ima kup zoprnih detajlov; če se zataknemo obnje, se splača pogledati primere v [izvirnem opisu naloge]((https://adventofcode.com/2020/day/22)).\n",
    "\n",
    "## Branje podatkov\n",
    "\n",
    "Podatki so v datoteki takšne oblike.\n",
    "\n",
    "```\n",
    "Player 1:\n",
    "9\n",
    "2\n",
    "6\n",
    "3\n",
    "1\n",
    "\n",
    "Player 2:\n",
    "5\n",
    "8\n",
    "4\n",
    "7\n",
    "10\n",
    "```\n",
    "\n",
    "Razdelimo glede na `\"\\n\\n\"` in poberemo oba dela v `p1` in `p2`. Vsakega razkosamo po `splitline"
   ]
  },
  {
   "cell_type": "code",
   "execution_count": 1,
   "metadata": {},
   "outputs": [],
   "source": [
    "p1, p2 = open(\"input.txt\").read().split(\"\\n\\n\")\n",
    "c1, c2 = ([int(x) for x in p.splitlines()[1:]] for p in (p1, p2))"
   ]
  },
  {
   "cell_type": "markdown",
   "metadata": {},
   "source": [
    "## Prvi del: Vojna kot vojna\n",
    "\n",
    "Tole smo imeli enkrat celo za domačo nalogo pri Programiranju 1, tako preprosto je. Dokler imata oba igralca kaj kart, poberemo prvi karti iz obeh kupčkov (`pop(0)`) in ju dodamo na konec zmagovalčevega kupčka v vrstnem redu, ki ga predpisuje naloga. \n",
    "\n",
    "\n",
    "\n"
   ]
  },
  {
   "cell_type": "code",
   "execution_count": 2,
   "metadata": {},
   "outputs": [],
   "source": [
    "while c1 and c2:\n",
    "    a1, a2 = c1.pop(0), c2.pop(0)\n",
    "    if a2 > a1:\n",
    "        c2 += [a2, a1]\n",
    "    else:\n",
    "        c1 += [a1, a2]"
   ]
  },
  {
   "cell_type": "markdown",
   "metadata": {},
   "source": [
    "Tu se na vso moč spodobi povedati: `pop(0)` je počasen, ker mora vse elemente seznama prestaviti za eno mesto nazaj. Podatkovni strukturi, pri kateri je učinkovito tako dodajanje kot pobiranje, tako na koncu kot na začetku, pravimo *double ended queue* ali *deque* (izgovori: \"dek\"). Z njim bi vojno izvedli tako."
   ]
  },
  {
   "cell_type": "code",
   "execution_count": 3,
   "metadata": {},
   "outputs": [],
   "source": [
    "from collections import deque\n",
    "\n",
    "c1, c2 = (deque(int(x) for x in p.splitlines()[1:]) for p in (p1, p2))\n",
    "\n",
    "while c1 and c2:\n",
    "    a1, a2 = c1.popleft(), c2.popleft()\n",
    "    if a2 > a1:\n",
    "        c2.extend([a2, a1])\n",
    "    else:\n",
    "        c1.extend([a1, a2])"
   ]
  },
  {
   "cell_type": "markdown",
   "metadata": {},
   "source": [
    "Glede na našo velikost problema to niti ni pomembno, predvsem pa z deque ne moremo udobno delati v drugem delu naloge.\n",
    "\n",
    "Naloga zahteva, da pomnožimo številko na zadnji zmagovalčevi karti z 1, številko na predzadnji z 2 in tako naprej ter izračunamo vsoto.\n",
    "\n",
    "Tu nima smisla gledati, kdo je zmagovalec: enostavno zložimo vse karte skupaj, `c1 + c2`. Eden od teh dveh kupčkov je prazen, drugi zmagovalčev. To obrnemo (`reversed(c1 + c2)`), in oštevilčimo od 1 naprej `enumerate(reversed(c1 + c2), start=1)`. Čez to spustimo zanko, množimo in seštevamo."
   ]
  },
  {
   "cell_type": "code",
   "execution_count": 4,
   "metadata": {},
   "outputs": [
    {
     "name": "stdout",
     "output_type": "stream",
     "text": [
      "34255\n"
     ]
    }
   ],
   "source": [
    "print(sum(i * x for i, x in enumerate(reversed(c1 + c2), start=1)))"
   ]
  },
  {
   "cell_type": "markdown",
   "metadata": {},
   "source": [
    "Na en zanimiv način je privlačna tudi spodnja različica (ki sicer uvozi par funkcij in tako naprej, ampak ... je zanimiva). Vzamemo obrnjen kupček in vsa števila od 1 naprej. Čez te pare z `map` spustimo množenje (`mul`) in rezultat seštejemo."
   ]
  },
  {
   "cell_type": "code",
   "execution_count": 5,
   "metadata": {},
   "outputs": [
    {
     "name": "stdout",
     "output_type": "stream",
     "text": [
      "34255\n"
     ]
    }
   ],
   "source": [
    "from operator import mul\n",
    "from itertools import count\n",
    "\n",
    "print(sum(map(mul, reversed(c1 + c2), count(1))))"
   ]
  },
  {
   "cell_type": "markdown",
   "metadata": {},
   "source": [
    "To nima nobenih prednosti pred gornjim, nemara je celo počasnejše. Je pa zanimivo.\n",
    "\n",
    "## Drugi del: rekurzivna vojna\n",
    "\n",
    "Naloga ni težka, le veliko priložnoti za napake nudi.\n",
    "\n",
    "Rekurzivno funkcijo bomo napisali tako, da vrne dve stvari: pove, ali je zmagal igralec številka 2, poleg tega pa vrne zmagovalčev kupček kart. Kdo je zmagal, potrebujemo za rekurzivne vojne, kupček kart pa za prvi klic. Da bo funkcija le ena, pa bomo pač vračali oboje, uporabili pa, kar potrebujemo.\n",
    "\n",
    "V množici `seen` bomo hranili vse že videne situacije.\n",
    "\n",
    "V zanki najprej sestavimo situacijo kot terko terk `c1` in `c2`. Pri tem se `c1` in `c2` skopirata; to je potrebno zato, ker ju spodaj spreminjamo.\n",
    "\n",
    "Če je situacija že videna, javimo, da ni zmagal drugi igralec.\n",
    "\n",
    "Sicer pa dodamo situacijo med videne. Poberemo karti. Če imata oba igralca dovolj preostalih kart, zmagovalca določi rekurzivna igra na začetkih kupčkov, sicer pa številki na kartah.\n",
    "\n",
    "Na koncu povemo, ali je zmagal drugi igralec (to je, ali ima neprazen kupček kart) in vrnemo kupček zmagovalčevih kart, ki ga dobimo tako, da seštejemo (prazni) poražencev in zmagovalčev kupček."
   ]
  },
  {
   "cell_type": "code",
   "execution_count": 6,
   "metadata": {},
   "outputs": [],
   "source": [
    "def game(c1, c2):\n",
    "    seen = set()\n",
    "    \n",
    "    while c1 and c2:\n",
    "        situation = (tuple(c1), tuple(c2))\n",
    "        if situation in seen:\n",
    "            return False, c1\n",
    "\n",
    "        seen.add(situation)\n",
    "        a1, a2 = c1.pop(0), c2.pop(0)\n",
    "        if len(c1) >= a1 and len(c2) >= a2:\n",
    "            winner, _ = game(c1[:a1], c2[:a2])\n",
    "        else:\n",
    "            winner = a2 > a1\n",
    "        if winner:\n",
    "            c2 += [a2, a1]\n",
    "        else:\n",
    "            c1 += [a1, a2]\n",
    "                \n",
    "    return bool(c2), c1 + c2"
   ]
  },
  {
   "cell_type": "code",
   "execution_count": 7,
   "metadata": {},
   "outputs": [
    {
     "name": "stdout",
     "output_type": "stream",
     "text": [
      "33369\n"
     ]
    }
   ],
   "source": [
    "c1, c2 = ([int(x) for x in p.splitlines()[1:]] for p in (p1, p2))\n",
    "_, cards = game(c1, c2)\n",
    "print(sum(i * x for i, x in enumerate(reversed(cards), start=1)))"
   ]
  }
 ],
 "metadata": {
  "kernelspec": {
   "display_name": "Python 3",
   "language": "python",
   "name": "python3"
  },
  "language_info": {
   "codemirror_mode": {
    "name": "ipython",
    "version": 3
   },
   "file_extension": ".py",
   "mimetype": "text/x-python",
   "name": "python",
   "nbconvert_exporter": "python",
   "pygments_lexer": "ipython3",
   "version": "3.7.4"
  }
 },
 "nbformat": 4,
 "nbformat_minor": 4
}
