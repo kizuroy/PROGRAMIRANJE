{
 "cells": [
  {
   "cell_type": "markdown",
   "metadata": {},
   "source": [
    "# Day 24: Lobby Layout\n",
    "\n",
    "([Povezava na nalogo](https://adventofcode.com/2020/day/24))\n",
    "\n",
    "Imamo šestkotno mrežo. Možne smeri so sw, se, nw, ne, e in w. Da bi jih bilo bolj zabavno brati, so navodila za poti zbite skupaj. Recimo"
   ]
  },
  {
   "cell_type": "code",
   "execution_count": 1,
   "metadata": {},
   "outputs": [],
   "source": [
    "path = \"seneewnwse\""
   ]
  },
  {
   "cell_type": "markdown",
   "metadata": {},
   "source": [
    "je potrebno razbiti v `[\"se\", \"ne\", \"e\", \"w\", \"nw\", \"se\"]`.\n",
    "\n",
    "Takšne stvari se seveda da delati z regularnimi izrazi, vendar bomo naredili nekaj bolj zabavnega: generator, ki prejme takle niz in generira njegove dele."
   ]
  },
  {
   "cell_type": "code",
   "execution_count": 2,
   "metadata": {},
   "outputs": [],
   "source": [
    "def split(path):\n",
    "    path = iter(path.strip())\n",
    "    for c in path:\n",
    "        if c not in \"ew\":\n",
    "            c += next(path)\n",
    "        yield c"
   ]
  },
  {
   "cell_type": "markdown",
   "metadata": {},
   "source": [
    "Od poti odluščimo morebitni beli prostor (morebitni `\\n` na koncu). Nato ga spremenimo v iterator, da bomo lahko šli čezenj z zanko, poleg tega pa še z `next`. Za vsak znak preverimo, ali je e ali w. Če ni, dodamo še naslednji znak (`next(path)`).\n",
    "\n",
    "Zdaj lahko preberemo navodila v generator generatorjev."
   ]
  },
  {
   "cell_type": "code",
   "execution_count": 3,
   "metadata": {},
   "outputs": [],
   "source": [
    "instructions = map(split, open(\"input.txt\"))"
   ]
  },
  {
   "cell_type": "markdown",
   "metadata": {},
   "source": [
    "## Prvi del\n",
    "\n",
    "Dobimo seznam takšnih poti. Vsako prehodimo iz začetne pozicije. Polje, na katerega prispemo, spremenimo iz belega na črno ali iz črnega na belo (če je bilo poprej črno).\n",
    "\n",
    "Vprašanje za prvi del je: koliko črnih polj imamo."
   ]
  },
  {
   "cell_type": "code",
   "execution_count": 4,
   "metadata": {},
   "outputs": [
    {
     "name": "stdout",
     "output_type": "stream",
     "text": [
      "538\n"
     ]
    }
   ],
   "source": [
    "from collections import defaultdict\n",
    "\n",
    "directions = {\"e\": 1, \"ne\": 1j, \"nw\": -1 + 1j, \"w\": -1, \"sw\": -1j, \"se\": 1-1j}\n",
    "\n",
    "flips = defaultdict(int)\n",
    "for path in instructions:\n",
    "    flips[sum(directions[step] for step in path)] += 1\n",
    "\n",
    "black = {c for c, f in flips.items() if f % 2 == 1}\n",
    "\n",
    "print(len(black))"
   ]
  },
  {
   "cell_type": "markdown",
   "metadata": {},
   "source": [
    "V `directions` naberemo spremembe koordinat ob vsaki smeri. Če sta e in w $1$ in $-1$, potem sta ne in nw $i$ in $-1 + i$, sw in se pa $-i$ in $1- 1j$."
   ]
  },
  {
   "cell_type": "markdown",
   "metadata": {},
   "source": [
    "<img src=\"data:image/.png;base64,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\"/>"
   ]
  },
  {
   "cell_type": "markdown",
   "metadata": {},
   "source": [
    "Prednost uporabe kompleksnih koordinat je, da jih je lahko seštevati. Z `directions[step] for step in steps` dobimo vse spremembe na poti `path` in s `sum` jih seštejemo. Tako dobimo končne koordinate. V `flips` štejemo, kolikokrat prispemo na posamezno polje. Črna so potem tista polja, ki smo jih obrnili lihokrat. Njihove koordinate spravimo v `black`, za kasnejšo rabo.\n",
    "\n",
    "Rešitev prvega dela je velikost te množice.\n",
    "\n",
    "## Drugi del\n",
    "\n",
    "V drugem delu igramo igro življenja na šestkotni mreži. Pravila so takšna:\n",
    "- črno polje ostane črno, če ima enega ali dva črna soseda in\n",
    "- belo polje postane črno, če ima natančno dva črna soseda.\n",
    "\n",
    "Najprej si pripravimo funkcijo `neighbours(c)`, ki za polje z danimi koordinatami vrne množico koordinat sosednjih polj."
   ]
  },
  {
   "cell_type": "code",
   "execution_count": 5,
   "metadata": {},
   "outputs": [],
   "source": [
    "n_dirs = tuple(directions.values())\n",
    "\n",
    "def neighbours(c):\n",
    "    return {c + x for x in n_dirs}"
   ]
  },
  {
   "cell_type": "markdown",
   "metadata": {},
   "source": [
    "Odtod je preprosto napisati funkcijo, ki za dane koordinate vrne število črnih sosedov: to je pač velikost preseka množice koordinat črnih polj in koordinat sosedov."
   ]
  },
  {
   "cell_type": "code",
   "execution_count": 6,
   "metadata": {},
   "outputs": [],
   "source": [
    "def count_neighbours(c):\n",
    "    return len(neighbours(c) & black)"
   ]
  },
  {
   "cell_type": "markdown",
   "metadata": {},
   "source": [
    "Zdaj pa sto generacij igre, kot zahteva naloga. V vsakem koraku izračunamo novo množico črnih polj.\n",
    "- Črna so vsa tista polja, ki so bila črna že prej in imajo enega ali dva črna soseda.\n",
    "- Poleg tega pa gremo čez vse sosede vseh črnih polj. Ta dobimo tako, da za vsak element množice `black` pokličemo `neighbours`, kar dobimo pa damo kot argument funkciji `set.union`. Od te množice odštejemo vsa polja, ki so že črna. Nato sestavimo množico vseh belih sosedov črnih polj, ki imajo vsaj dva črna soseda.\n",
    "\n",
    "Unija teh dveh množic so nova črna polja."
   ]
  },
  {
   "cell_type": "code",
   "execution_count": 7,
   "metadata": {},
   "outputs": [
    {
     "name": "stdout",
     "output_type": "stream",
     "text": [
      "4259\n"
     ]
    }
   ],
   "source": [
    "from itertools import chain\n",
    "\n",
    "for _ in range(100):\n",
    "    black = {c for c in black if count_neighbours(c) in (1, 2)} \\\n",
    "        | {c for c in set.union(*map(neighbours, black)) - black if count_neighbours(c) == 2}\n",
    "\n",
    "print(len(black))"
   ]
  }
 ],
 "metadata": {
  "kernelspec": {
   "display_name": "Python 3",
   "language": "python",
   "name": "python3"
  },
  "language_info": {
   "codemirror_mode": {
    "name": "ipython",
    "version": 3
   },
   "file_extension": ".py",
   "mimetype": "text/x-python",
   "name": "python",
   "nbconvert_exporter": "python",
   "pygments_lexer": "ipython3",
   "version": "3.7.4"
  }
 },
 "nbformat": 4,
 "nbformat_minor": 4
}
