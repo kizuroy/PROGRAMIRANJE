{
 "cells": [
  {
   "cell_type": "markdown",
   "metadata": {},
   "source": [
    "## Day 2: Password Phyloposhy\n",
    "\n",
    "[Povezava na nalogo](https://adventofcode.com/2020/day/2)\n",
    "\n",
    "Podatki so v obliki\n",
    "\n",
    "```\n",
    "1-3 a: abcde\n",
    "1-3 b: cdefg\n",
    "2-9 c: ccccccccc\n",
    "```\n",
    "\n",
    "Vsaka vrstica vsebuje dve števili, črko in niz. Prvi del pravi, da je geslo (zadnji niz) veljavno, če je število ponovitev podanega znaka znotraj meja, ki jih opisujeta prvi številki. Drugi del pa spremeni pravilo tako, da mora biti podani znak na enem (in le enem) izmed mest, ki ga določata števili; v prvem primeru, recimo, hočemo `a` na prvem ali tretjem mestu.\n",
    "\n",
    "V obeh delih je naloga, da izpišemo število veljavnih gesel.\n",
    "\n",
    "## Branje podatkov\n",
    "\n",
    "Tole je predvsem naloga iz branja podatkov, zato se poigrajmo s tem.\n",
    "\n",
    "### Pridna šolarka\n",
    "\n",
    "Sorry za stereotip. Ampak, pač, tole bo zgledna, netvegana rešitev.\n",
    "\n",
    "Gremo prek vseh vrstic. Vsako razsekamo glede na presledke in to razpakiramo v terke. Prvi element razbijemo še glede na `-`. Vse skupaj zložimo v terko, pri čemer prva niza pretvorimo v števili, od znaka pa odbijemo odvečni `:`."
   ]
  },
  {
   "cell_type": "code",
   "execution_count": 1,
   "metadata": {},
   "outputs": [],
   "source": [
    "passwords = []\n",
    "for line in open(\"example.txt\"):\n",
    "    interval, character, password = line.split()\n",
    "    fr, to = interval.split(\"-\")\n",
    "    passwords.append((int(fr), int(to), character.strip(\":\"), password))"
   ]
  },
  {
   "cell_type": "markdown",
   "metadata": {},
   "source": [
    "Lepota te rešitve je, da smo števili pretvorili v `int`. V rokohitrskem branju spodaj bosta ostala niza, tako da ju bo potrebno pretvarjati kasneje, sproti."
   ]
  },
  {
   "cell_type": "code",
   "execution_count": 2,
   "metadata": {},
   "outputs": [
    {
     "data": {
      "text/plain": [
       "[(1, 3, 'a', 'abcde'), (1, 3, 'b', 'cdefg'), (2, 9, 'c', 'ccccccccc')]"
      ]
     },
     "execution_count": 2,
     "metadata": {},
     "output_type": "execute_result"
    }
   ],
   "source": [
    "passwords"
   ]
  },
  {
   "cell_type": "markdown",
   "metadata": {},
   "source": [
    "### Cenen hek\n",
    "\n",
    "Če zamenjamo `-` s presledkom in `:` z ničemer, se niz spremeni v, na primer, `\"1 3 a abcde\"`. Odtod potrebujemo le še najobičajnejši `split`, pa dobimo štiri elemente, ki jih potrebujemo."
   ]
  },
  {
   "cell_type": "code",
   "execution_count": 3,
   "metadata": {},
   "outputs": [
    {
     "data": {
      "text/plain": [
       "[['1', '3', 'a', 'abcde'],\n",
       " ['1', '3', 'b', 'cdefg'],\n",
       " ['2', '9', 'c', 'ccccccccc']]"
      ]
     },
     "execution_count": 3,
     "metadata": {},
     "output_type": "execute_result"
    }
   ],
   "source": [
    "passwords = [line.replace(\"-\", \" \").replace(\":\", \"\").split() for line in open(\"example.txt\")]\n",
    "\n",
    "passwords"
   ]
  },
  {
   "cell_type": "markdown",
   "metadata": {},
   "source": [
    "Prva dva sta zdaj očitno niza in ne števili. Not good, ampak ne bo hudega.\n",
    "\n",
    "### Regularni izrazi\n",
    "\n",
    "Refleks vsakega resnega programerja, ki pred seboj zagleda takole reč, so regularni izrazi. V redno snov Programiranja 1 le-ti ne sodijo, vendar jih mnogi študenti že poznajo iz kakega drugega vica. Tu jih na hitro predstavimo in uporabimo.\n",
    "\n",
    "Nizi, ki jih imamo se začnejo z nekaj števkami. Števko predstavimo z `\\d`; če hočemo povedati, da se števke ponavljajo, in to vsaj enkrat, dodamo `+`, torej `\\d+`. Sledil bo znak `-` in potem spet števke. Torej imamo `\\d+-\\d+`. Sledi presledek in potem poljubna črka med a in z, kar opišemo z `[a-z]`. Sledi dvopičj in potem poljubno število ponovitev poljubnih črk, `[a-z]+`. Vse skupaj je torej `\\d+-\\d+ [a-z]: [a-z]+`.\n",
    "\n",
    "Tisti, ki to vidite prvič: temu rečemo regularni izraz. Z njim opišemo obliko niza. Regularne izraze je pogosto težko brati; tale je pravzaprav izjemno berljiv.\n",
    "\n",
    "Na tem mestu se od vseh, ki to vidite prvič, najbrž poslavljamo; spet se vidimo v naslednjem razdelku.\n",
    "\n",
    "V regularnem izrazu bomo morali še označiti skupine, ki jih želimo razbrati. Skupine bi bilo možno tudi poimenovati, ta izraz pa je tako preprost, da tega ne bomo storili, niti to ni potrebno, saj bomo vedno potrebovali preprosto vse štiri skupine v njihovem originalnem vrstnem redu. Naš izraz je torej `(\\d+)-(\\d+) ([a-z]): ([a-z]+)`.\n",
    "\n",
    "Z njim bomo takole prebrali datoteko."
   ]
  },
  {
   "cell_type": "code",
   "execution_count": 4,
   "metadata": {},
   "outputs": [
    {
     "data": {
      "text/plain": [
       "[('1', '3', 'a', 'abcde'),\n",
       " ('1', '3', 'b', 'cdefg'),\n",
       " ('2', '9', 'c', 'ccccccccc')]"
      ]
     },
     "execution_count": 4,
     "metadata": {},
     "output_type": "execute_result"
    }
   ],
   "source": [
    "import re\n",
    "\n",
    "passwords = [re.match(r\"(\\d+)-(\\d+) ([a-z]): ([a-z]+)\", line).groups() for line in open(\"example.txt\")]\n",
    "\n",
    "passwords"
   ]
  },
  {
   "cell_type": "markdown",
   "metadata": {},
   "source": [
    "Niz vsebuje vzvratne poševnice, `\\`. Te moramo seveda podvojiti (`\\\\n` je v resnici poševnica in n, medtem kot je `\\n` znak za novo vrstico). Regularni izrazi so navadno polni vzvratnih poševnic in so dovolj neberljivi že brez njihovega podvojevanja, hvala. Zato v Pythonu radi uporabimo r-nize (*r-string*, *raw string*). Pred narekovaj damo `r` in Python bo pustil poševnice pri miru.\n",
    "\n",
    "Funkciji `re.match` podatmo regularni izraz in niz; kot rezultat vrne `MatchObject` ali `None`. Mi se delamo, da bodo vse vrstice oblikovane pravilno, zato lepo pokličemo metodo `groups()`, ki vrne vsebino vseh skupin.\n",
    "\n",
    "### Produkcijska verzija\n",
    "\n",
    "Če bi vas najel kot programerje, bi si želel, da mi napišete tole."
   ]
  },
  {
   "cell_type": "code",
   "execution_count": 5,
   "metadata": {},
   "outputs": [],
   "source": [
    "import re\n",
    "from typing import NamedTuple\n",
    "\n",
    "\n",
    "class PassData(NamedTuple):\n",
    "    fr: int\n",
    "    to: int\n",
    "    character: str\n",
    "    password: str\n",
    "\n",
    "    @classmethod\n",
    "    def from_seq(cls, s):\n",
    "        return cls(int(s[0]), int(s[1]), s[2], s[3])\n",
    "\n",
    "    \n",
    "re_pass = re.compile(r\"(\\d+)-(\\d+) ([a-z]): ([a-z]+)\")\n",
    "passwords = [PassData.from_seq(re_pass.match(line).groups()) for line in open(\"example.txt\")]"
   ]
  },
  {
   "cell_type": "markdown",
   "metadata": {},
   "source": [
    "Spet imamo regularni izraz. To bo najbrž hitreje in pravilneje od `split`-ov. Spet tudi predpostavimo, da je datoteka oblikovana pravilno. Če bi šlo čisto čisto zares, bi morali seveda preveriti še to in če naletite na napako, to seveda povedati na primeren način.\n",
    "\n",
    "Novost je, da podatke shranjujemo v `NamedTuple`. Ta ima polja `fr` in `to`, ki sta lepo zgledno `int`-a, ter `character` in `password`, ki sta niza.\n",
    "\n",
    "Dodali smo tudi poimenovan konstruktor, `from_seq`, ki kot argument prejme zaporedje elementov iz vrstice in jih lepo zloži v novi objekt. Kaj je `@classmethod` se pri tem predmetu ne bomo učili; to je bolj pythonovska zadeva. To kodo torej kažem samo zato, da malo nakažem, kaj se še da.\n",
    "\n",
    "Zdaj so podatki sestavljeni res zgledno. Vedejo se kot terke, obenem pa lahko do njih dostopamo tudi po imenih."
   ]
  },
  {
   "cell_type": "code",
   "execution_count": 6,
   "metadata": {},
   "outputs": [
    {
     "data": {
      "text/plain": [
       "[PassData(fr=1, to=3, character='a', password='abcde'),\n",
       " PassData(fr=1, to=3, character='b', password='cdefg'),\n",
       " PassData(fr=2, to=9, character='c', password='ccccccccc')]"
      ]
     },
     "execution_count": 6,
     "metadata": {},
     "output_type": "execute_result"
    }
   ],
   "source": [
    "passwords"
   ]
  },
  {
   "cell_type": "code",
   "execution_count": 7,
   "metadata": {},
   "outputs": [
    {
     "data": {
      "text/plain": [
       "1"
      ]
     },
     "execution_count": 7,
     "metadata": {},
     "output_type": "execute_result"
    }
   ],
   "source": [
    "prvi = passwords[0]\n",
    "\n",
    "prvi.fr"
   ]
  },
  {
   "cell_type": "code",
   "execution_count": 8,
   "metadata": {},
   "outputs": [
    {
     "data": {
      "text/plain": [
       "'abcde'"
      ]
     },
     "execution_count": 8,
     "metadata": {},
     "output_type": "execute_result"
    }
   ],
   "source": [
    "prvi.password"
   ]
  },
  {
   "cell_type": "code",
   "execution_count": 9,
   "metadata": {},
   "outputs": [
    {
     "data": {
      "text/plain": [
       "'abcde'"
      ]
     },
     "execution_count": 9,
     "metadata": {},
     "output_type": "execute_result"
    }
   ],
   "source": [
    "prvi[-1]"
   ]
  },
  {
   "cell_type": "markdown",
   "metadata": {},
   "source": [
    "## Prvi del\n",
    "\n",
    "V rešitvah bomo predpostavili, da so podatki prebrati v najlepšo, zadnjo obliko, saj bodo rešitve tako najčitljivejše. Če ni tako, boste, recimo, `pwd.character` zamenjali s `pwd[2]`, `pwd.to` pa z `int(pwd[1])`.\n",
    "\n",
    "V prejšnjih primerih smo brali le datoteko s tremi primeri (example.txt); zdaj preberimo prave podatke."
   ]
  },
  {
   "cell_type": "code",
   "execution_count": 10,
   "metadata": {},
   "outputs": [],
   "source": [
    "passwords = [PassData.from_seq(re_pass.match(line).groups()) for line in open(\"input.txt\")]"
   ]
  },
  {
   "cell_type": "code",
   "execution_count": 11,
   "metadata": {},
   "outputs": [
    {
     "name": "stdout",
     "output_type": "stream",
     "text": [
      "569\n"
     ]
    }
   ],
   "source": [
    "valid = 0\n",
    "for pwd in passwords:\n",
    "    if pwd.fr <= pwd.password.count(pwd.character) <= pwd.to:\n",
    "        valid += 1\n",
    "print(valid)"
   ]
  },
  {
   "cell_type": "markdown",
   "metadata": {},
   "source": [
    "Ni posebne umetnosti. Omembe vreden je le pogoj v `if`: ali je nek `x` znotraj intervala [a, b], izvemo z `a <= x <= b` in ne `x >= a and x <= b`, ki bi v gornjem primeru zahteval, da dvakrat štejemo `pwd.password.count(pwd.character)` (ali pa posebej za to naredimo ločeno spremenljivko).\n",
    "\n",
    "Ker gre v bistvu za vsoto, jo lahko izračunamo s `sum`. Tipično študenti napišejo:"
   ]
  },
  {
   "cell_type": "code",
   "execution_count": 12,
   "metadata": {},
   "outputs": [
    {
     "data": {
      "text/plain": [
       "569"
      ]
     },
     "execution_count": 12,
     "metadata": {},
     "output_type": "execute_result"
    }
   ],
   "source": [
    "sum(1 for pwd in passwords if pwd.fr <= pwd.password.count(pwd.character) <= pwd.to)"
   ]
  },
  {
   "cell_type": "markdown",
   "metadata": {},
   "source": [
    "Kdor se spomni, da je `True` isto kot `1` in `False` isto kot `0`, pa ne sešteva enic."
   ]
  },
  {
   "cell_type": "code",
   "execution_count": 13,
   "metadata": {},
   "outputs": [
    {
     "data": {
      "text/plain": [
       "569"
      ]
     },
     "execution_count": 13,
     "metadata": {},
     "output_type": "execute_result"
    }
   ],
   "source": [
    "sum(pwd.fr <= pwd.password.count(pwd.character) <= pwd.to\n",
    "    for pwd in passwords)"
   ]
  },
  {
   "cell_type": "markdown",
   "metadata": {},
   "source": [
    "## Drugi del\n",
    "\n",
    "Kako preveriti, ali je nek znak `c` na `i`-tem ali `j`-tem mestu niza `s`, ne pa na obeh? Recimo tako: pogledamo `s[i] == c` in `s[j] == c`. Eden od teh dveh mora biti `False`, eden `True`. Se pravi: biti morata različna: `(s[i] == c) != (s[j] == c)`. Oklepaji so potrebni: brez njih bi Python preveril ali veljajo vse naštete relacije, nas pa zanima, ali je resničnost prve različna od resničnosti druge.\n",
    "\n",
    "Tako dobimo"
   ]
  },
  {
   "cell_type": "code",
   "execution_count": 14,
   "metadata": {},
   "outputs": [
    {
     "name": "stdout",
     "output_type": "stream",
     "text": [
      "346\n"
     ]
    }
   ],
   "source": [
    "valid = 0\n",
    "for pwd in passwords:\n",
    "    if (pwd.password[pwd.fr - 1] == pwd.character) != (pwd.password[pwd.to - 1] == pwd.character):\n",
    "        valid += 1\n",
    "print(valid)"
   ]
  },
  {
   "cell_type": "markdown",
   "metadata": {},
   "source": [
    "ali"
   ]
  },
  {
   "cell_type": "code",
   "execution_count": 15,
   "metadata": {},
   "outputs": [
    {
     "data": {
      "text/plain": [
       "346"
      ]
     },
     "execution_count": 15,
     "metadata": {},
     "output_type": "execute_result"
    }
   ],
   "source": [
    "sum((pwd.password[pwd.fr - 1] == pwd.character) != (pwd.password[pwd.to - 1] == pwd.character)\n",
    "    for pwd in passwords)"
   ]
  }
 ],
 "metadata": {
  "kernelspec": {
   "display_name": "Python 3",
   "language": "python",
   "name": "python3"
  },
  "language_info": {
   "codemirror_mode": {
    "name": "ipython",
    "version": 3
   },
   "file_extension": ".py",
   "mimetype": "text/x-python",
   "name": "python",
   "nbconvert_exporter": "python",
   "pygments_lexer": "ipython3",
   "version": "3.7.4"
  }
 },
 "nbformat": 4,
 "nbformat_minor": 4
}
