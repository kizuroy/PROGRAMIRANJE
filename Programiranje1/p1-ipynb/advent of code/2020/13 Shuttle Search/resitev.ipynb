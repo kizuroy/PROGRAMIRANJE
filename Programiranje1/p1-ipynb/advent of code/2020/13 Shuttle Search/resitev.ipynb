{
 "cells": [
  {
   "cell_type": "markdown",
   "metadata": {},
   "source": [
    "# Day 13: Shuttle Search\n",
    "\n",
    "([Povezana na nalogo](https://adventofcode.com/2020/day/13))\n",
    "\n",
    "## Branje podatkov\n",
    "\n",
    "Vemo, koliko je ura (v minutah od bogvekdaj) in kateri avtobusi so na razpolago.\n",
    "\n",
    "```\n",
    "939\n",
    "7,13,x,x,59,x,31,19\n",
    "```\n",
    "\n",
    "To pravi, da je ura 939, vozijo avtobusi 7, 13, 59, 31 in 19. Vsi avtobusi so odpeljali s postaje ob času 0, nato pa 7 odpelje vsakih 7 minut, 13 vsakih 13 minut, 59 vsakih 59 minut. Ostanek razumete.\n",
    "\n",
    "Tisti `x` bodo postali pomembni v prvem delu naloge, zato jih bomo razložili takrat. Za zdaj povejmo le, da potrebujemo številke avtobusov in mesta, na katerih se pojavijo, torej `[(7, 0), (13, 1), (59, 4), (31, 6), (19, 7)]`."
   ]
  },
  {
   "cell_type": "code",
   "execution_count": 1,
   "metadata": {},
   "outputs": [
    {
     "data": {
      "text/plain": [
       "[(7, 0), (13, 1), (59, 4), (31, 6), (19, 7)]"
      ]
     },
     "execution_count": 1,
     "metadata": {},
     "output_type": "execute_result"
    }
   ],
   "source": [
    "f = open(\"example.txt\")\n",
    "start = int(f.readline())\n",
    "buses = [(int(x), i) for i, x in enumerate(f.readline().split(\",\")) if x != \"x\"]\n",
    "\n",
    "buses"
   ]
  },
  {
   "cell_type": "markdown",
   "metadata": {},
   "source": [
    "## Prvi del: prvi večkratnik\n",
    "\n",
    "Zanima nas, kateri avtobus bo odpeljal naslednji.\n",
    "\n",
    "Najprej za vsak avtobus izpišimo, kdaj odpelje naslednjič. Za vsak avtobus bi lahko izračunali, za koliko smo ga zamudili (`start % bus`); naslednji bo odpeljal čez `start + (bus - start % bus)` minut ... razen, če je `start % bus` ravno 0, se pravi, če avtobus odpelje *zdaj*.\n",
    "\n",
    "Da ne kompliciramo, se raje lotimo tako: `(start + bus - 1) // bus * bus`: k trenutnemu času prišetejemo `bus - 1`. V času od `start` do (vključno) `start + bus - 1` bo peljal natančno en avtobus. Če ta čas celoštevilsko delimo z `bus` in pomnožimo nazaj z `bus`, bomo dobili prvi večkratnik `bus`-a po `start`."
   ]
  },
  {
   "cell_type": "code",
   "execution_count": 2,
   "metadata": {},
   "outputs": [
    {
     "name": "stdout",
     "output_type": "stream",
     "text": [
      "7 945\n",
      "13 949\n",
      "59 944\n",
      "31 961\n",
      "19 950\n"
     ]
    }
   ],
   "source": [
    "for bus, _ in buses:\n",
    "    print(bus, (start + bus - 1) // bus * bus)"
   ]
  },
  {
   "cell_type": "markdown",
   "metadata": {},
   "source": [
    "Izmed teh je potrebno poiskati tistega, ki odpelje prvi in izračunati produkt njegove številke in časa čakanja.\n",
    "\n",
    "Prav. Gornje pare bomo obrnili, tako da bo spredaj čas odhoda. Iz teh parov poiščemo minimum, in iz para razberemo številko in čas odhoda."
   ]
  },
  {
   "cell_type": "code",
   "execution_count": 3,
   "metadata": {},
   "outputs": [
    {
     "name": "stdout",
     "output_type": "stream",
     "text": [
      "944 59 295\n"
     ]
    }
   ],
   "source": [
    "departure, bus = min(((start + bus - 1) // bus * bus, bus) for bus, _ in buses)\n",
    "print(departure, bus, (departure - start) * bus)"
   ]
  },
  {
   "cell_type": "markdown",
   "metadata": {},
   "source": [
    "## Drugi del: Kitajski ostanki\n",
    "\n",
    "Zdaj poglejmo celo spremenljivko `buses`."
   ]
  },
  {
   "cell_type": "code",
   "execution_count": 4,
   "metadata": {},
   "outputs": [
    {
     "data": {
      "text/plain": [
       "[(7, 0), (13, 1), (59, 4), (31, 6), (19, 7)]"
      ]
     },
     "execution_count": 4,
     "metadata": {},
     "output_type": "execute_result"
    }
   ],
   "source": [
    "buses"
   ]
  },
  {
   "cell_type": "markdown",
   "metadata": {},
   "source": [
    "Zanima nas, za kateri čas velja, da bo avtobus 7 odpeljal točno ob tem času, 13 odpelje eno minuto kasneje, 59 odpelje 4 minute kasneje in tako naprej. Čas, ki ga iščemo, je precej velik, tako da kakšno iskanje po vrsti ne pride v poštev.\n",
    "\n",
    "Najprej obrnimo: 7 ujememo, 13 smo zamudili za 13 - 1 = 12 minut, 59 smo zamudili za 59 - 4 = 55 minut in tako naprej.\n",
    "\n",
    "To pomeni: iščemo tak čas `t`, da je ostanek po deljenju `t` s 7 enak 0, ostanek po deljenju `t` s 13 je enak 12, ostanek po deljenju `t` z 59 je enak 55 in tako naprej.\n",
    "\n",
    "V splošnem, imamo seznam števil $n_i$ in $a_i$, in naloga je najti $x$, za katerega velja, da je ostanek po deljenju `x` z vsakim `ni` enak `ai`. Iščemo rešitev problema [kitajskih ostankov](https://en.wikipedia.org/wiki/Chinese_remainder_theorem). Stvar je popolnoma matematična: sprogramirati je potrebno [razširjeni Evklidov algoritem](https://en.wikipedia.org/wiki/Extended_Euclidean_algorithm) in ga uporabljati na parih števil."
   ]
  },
  {
   "cell_type": "code",
   "execution_count": 5,
   "metadata": {},
   "outputs": [
    {
     "name": "stdout",
     "output_type": "stream",
     "text": [
      "626670513163231\n"
     ]
    }
   ],
   "source": [
    "def egcd(a, b):\n",
    "    sp, tp = 1, 0\n",
    "    s, t = 0, 1\n",
    "    while b:\n",
    "        k = a // b\n",
    "        a, b = b, a % b\n",
    "        sp, s = s, sp - k * s\n",
    "        tp, t = t, tp - k * t\n",
    "    return a, sp, tp\n",
    "\n",
    "def chinese(conds):\n",
    "    a1, n1 = 0, 1\n",
    "    for n2, a2 in conds:\n",
    "        _, m1, m2 = egcd(n1, n2)\n",
    "        a1 = a1 * m2 * n2 + a2 * m1 * n1\n",
    "        n1 *= n2\n",
    "        a1 %= n1\n",
    "    return a1\n",
    "\n",
    "f = open(\"input.txt\")\n",
    "start = int(f.readline())\n",
    "buses = [(int(bus), int(bus) - delay) for delay, bus in enumerate(f.readline().split(\",\")) if bus != \"x\"]\n",
    "print(chinese(buses))"
   ]
  }
 ],
 "metadata": {
  "kernelspec": {
   "display_name": "Python 3",
   "language": "python",
   "name": "python3"
  },
  "language_info": {
   "codemirror_mode": {
    "name": "ipython",
    "version": 3
   },
   "file_extension": ".py",
   "mimetype": "text/x-python",
   "name": "python",
   "nbconvert_exporter": "python",
   "pygments_lexer": "ipython3",
   "version": "3.7.4"
  }
 },
 "nbformat": 4,
 "nbformat_minor": 4
}
