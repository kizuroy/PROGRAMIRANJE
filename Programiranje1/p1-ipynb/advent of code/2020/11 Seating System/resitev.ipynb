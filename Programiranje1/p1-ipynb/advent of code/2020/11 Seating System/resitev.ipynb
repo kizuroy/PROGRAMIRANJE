{
 "cells": [
  {
   "cell_type": "markdown",
   "metadata": {},
   "source": [
    "## Day 11: Seating System\n",
    "\n",
    "([Povezava na nalogo](https://adventofcode.com/2020/day/11))\n",
    "\n",
    "Kot skoraj vsako leto tudi letos ena naloga v slogu [Conwayeje igre življenja](https://en.wikipedia.org/wiki/Conway%27s_Game_of_Life).\n",
    "\n",
    "Tokrat imamo stole (`L`) vmes pa so prazni prostori.\n",
    "\n",
    "```python\n",
    "L.LL.LL.LL\n",
    "LLLLLLL.LL\n",
    "L.L.L..L..\n",
    "LLLL.LL.LL\n",
    "L.LL.LL.LL\n",
    "L.LLLLL.LL\n",
    "..L.L.....\n",
    "LLLLLLLLLL\n",
    "L.LLLLLL.L\n",
    "L.LLLLL.LL\n",
    "```\n",
    "\n",
    "V prvem delu se ljudje posedajo po stolih tako, da\n",
    "- prazen stol zasedejo, če med osmimi polji okrog njega ni nobenega zasedenega stola;\n",
    "- poln stol zapustijo, če so zasedeni vsaj štirje stoli okrog njega.\n",
    "\n",
    "V drugem delu se pravila spremenijo tako, da ne opazujejo osmih polj okrog sebe, temveč pogledajo v vseh osem smeri in preštejo, v koliko smereh je prvi stol, ki ga vidijo, zaseden.\n",
    "- prazen stol zasedejo, če noben od teh osmih stolov ni zasede;\n",
    "- poln stol zapustijo, če je zasedenih vsah pet od teh stolov.\n",
    "\n",
    "\"Igra\" teče tako, da v vsakem koraku naredimo \"statistiko\" za vse stole in jih izpraznimo ali napolnimo ali pustimo. Po določenem številu korakov pridemo v situacijo, ko se nič več ne spremeni. Naloga je ugotoviti, koliko stolov je takrat zasedenih.\n",
    "\n",
    "Reševanje naloge bo imelo tri dele:\n",
    "\n",
    "- branje podatkov,\n",
    "- funkciji, ki za dani stol povesta število sosedov - v smislu prvega ali drugega dela naloge\n",
    "- zanka, ki poganja simulacijo, dokler se stanje ne neha spreminjati.\n",
    "\n",
    "Naloga ni posebej težka, zato se bomo ob njej predvsem učili lepo programirati. :)\n",
    "\n",
    "\n",
    "## Branje in hramba podatkov\n",
    "\n",
    "Podatke bomo shranili v seznamu seznamov, poleg tega pa si bomo shranili še širino in višino polja, `w` in `h`."
   ]
  },
  {
   "cell_type": "code",
   "execution_count": 1,
   "metadata": {},
   "outputs": [],
   "source": [
    "seats = [list(x.strip()) for x in open(\"example.txt\")]\n",
    "w, h = len(seats[0]), len(seats)\n",
    "\n",
    "seats"
   ]
  },
  {
   "cell_type": "markdown",
   "metadata": {},
   "source": [
    "## Štetje sosedov za prvi del\n",
    "\n",
    "Da preverimo vseh osem sosedov polja `(x, y)`, bomo potrebovali dve zanki, takole\n",
    "\n",
    "```python\n",
    "for x0 in (x - 1, x, x + 1)\n",
    "for y0 in (y - 1, y, y + 1)\n",
    "if (x0, y0) != (x, y) and 0 <= x0 < w and 0 <= y0 < h\n",
    "```\n",
    "\n",
    "S pogojem izločimo srednje polje, ki seveda na šteje, poleg tega pa se moramo znebiti koordinat izven pravokotnika.\n",
    "\n",
    "Za vsako takšno koordinato moramo preveriti, ali velja `seats[y0][x0] == \"#\"`. To je `True` ali `False`, se pravi `1` ali `0`.\n",
    "\n",
    "Pa smo končali."
   ]
  },
  {
   "cell_type": "code",
   "execution_count": 2,
   "metadata": {},
   "outputs": [],
   "source": [
    "def count_occupied(state, x, y):\n",
    "    return sum(state[y0][x0] == \"#\"\n",
    "               for x0 in (x - 1, x, x + 1)\n",
    "               for y0 in (y - 1, y, y + 1)\n",
    "               if (x0, y0) != (x, y) and 0 <= x0 < w and 0 <= y0 < h)"
   ]
  },
  {
   "cell_type": "markdown",
   "metadata": {},
   "source": [
    "## Štetje sosedov za drugi del\n",
    "\n",
    "Za drugi del je potrebno napisati zanki, ki določita smeri. Potem se pomikamo v tej smeri, dokler ne pridemo do stola ali do roba.\n",
    "\n",
    "Napisati takšno funkcijo ni posebna umetnost, umetnost pa jo je napisati tako, da je kratka in se koda na ponavlja. Kakorkoli obračam, se izkaže, da je še najbolj praktična različica `while True`, v zanki pa `break`, kadar pridemo do stola ali roba."
   ]
  },
  {
   "cell_type": "code",
   "execution_count": 3,
   "metadata": {},
   "outputs": [],
   "source": [
    "def count_occupied_line(state, x, y):\n",
    "    occupied = 0\n",
    "    for dx in (-1, 0, 1):\n",
    "        for dy in (-1, 0, 1):\n",
    "            if dx == dy == 0:\n",
    "                continue\n",
    "            x0, y0 = x, y\n",
    "            while True:\n",
    "                x0 += dx\n",
    "                y0 += dy\n",
    "                if 0 <= x0 < w and 0 <= y0 < h:\n",
    "                    if state[y0][x0] != \".\":\n",
    "                        occupied += state[y0][x0] == \"#\"\n",
    "                        break\n",
    "                else:\n",
    "                    break\n",
    "    return occupied"
   ]
  },
  {
   "cell_type": "markdown",
   "metadata": {},
   "source": [
    "## Simulacija\n",
    "\n",
    "Najprej napišimo funkcijo, ki za vsak stol (ali prazno mesto) izračuna njegovo naslednje stanje. Funkcija kot argument dobi trenutno stanje, koordinate, funkcijo za izračun števila sosedov (`count_occupied` ali `count_occupied_line`) in število sosedov, ob katerem sedeči zapusti svoj stol.\n",
    "\n",
    "Funkcija je precej očitna."
   ]
  },
  {
   "cell_type": "code",
   "execution_count": 4,
   "metadata": {},
   "outputs": [],
   "source": [
    "def next_state(state, x, y, occ_counter, occ_limit):\n",
    "    curr = state[y][x]\n",
    "    if curr != \".\":\n",
    "        f = occ_counter(state, x, y)\n",
    "        if f == 0:\n",
    "            return \"#\"\n",
    "        if f >= occ_limit:\n",
    "            return \"L\"\n",
    "    return curr"
   ]
  },
  {
   "cell_type": "markdown",
   "metadata": {},
   "source": [
    "Zdaj, ko je vse tako lepo pripravljeno, pa gremo z zanko čez oba dela naloge: enkrat štejemo z `count_occupied` in zapustimo sedež pri `4` sosedih, enkrat z `count_occupied_line` in `5` sosedi."
   ]
  },
  {
   "cell_type": "code",
   "execution_count": 5,
   "metadata": {},
   "outputs": [
    {
     "name": "stdout",
     "output_type": "stream",
     "text": [
      "2448\n",
      "2234\n"
     ]
    }
   ],
   "source": [
    "seats = [list(x.strip()) for x in open(\"input.txt\")]\n",
    "w, h = len(seats[0]), len(seats)\n",
    "\n",
    "for func, limit in ((count_occupied, 4), (count_occupied_line, 5)):\n",
    "    prev, state = None, seats\n",
    "    while state != prev:\n",
    "        prev = state\n",
    "        state = [[next_state(state, x, y, func, limit)\n",
    "                  for x in range(w)] for y in range(h)]\n",
    "\n",
    "    print(sum(sum(c == \"#\" for c in v) for v in state))\n"
   ]
  },
  {
   "cell_type": "markdown",
   "metadata": {},
   "source": [
    "Notranja zanka primerja trenutno in prejšnje stanje. Dokler nista enaka, si trenutno stanje zapomni kot prejšnje, novo pa sestavi tako, da izračuna naslednje stanje za vse koordinate stolov.\n",
    "\n",
    "Program ni najhitrejši. Pythonove zanke pač niso najhitrejša stvar na svetu, kakih dobrih bližnjic, s katerimi bi se jih izognili, pa ni. Z `numpy`-jem se da še kar lepo in hitro poskrbeti za prvi del, z drugim pa se mi ni dalo hecati."
   ]
  }
 ],
 "metadata": {
  "kernelspec": {
   "display_name": "Python 3",
   "language": "python",
   "name": "python3"
  },
  "language_info": {
   "codemirror_mode": {
    "name": "ipython",
    "version": 3
   },
   "file_extension": ".py",
   "mimetype": "text/x-python",
   "name": "python",
   "nbconvert_exporter": "python",
   "pygments_lexer": "ipython3",
   "version": "3.7.4"
  }
 },
 "nbformat": 4,
 "nbformat_minor": 4
}
