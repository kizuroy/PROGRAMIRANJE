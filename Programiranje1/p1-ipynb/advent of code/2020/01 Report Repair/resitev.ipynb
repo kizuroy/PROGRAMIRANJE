{
 "cells": [
  {
   "cell_type": "markdown",
   "metadata": {},
   "source": [
    "## Day 1: Report Repair\n",
    "\n",
    "([Povezava na nalogo](https://adventofcode.com/2020/day/1))\n",
    "\n",
    "Vhodna datoteka vsebuje števila; po eno v vrstici. Prvi del naloge je poiskati dve števili, katerih vsota je 2020, in izpisati njun produkt. Drugi del je poiskati tako trojko in poiskati njen produkt.\n",
    "\n",
    "Števila bomo prebrali v množico; ta nas bo kasneje pripeljala do najhitrejše rešitve."
   ]
  },
  {
   "cell_type": "code",
   "execution_count": 1,
   "metadata": {},
   "outputs": [],
   "source": [
    "numbers = {int(x) for x in open(\"input.txt\")}"
   ]
  },
  {
   "cell_type": "markdown",
   "metadata": {},
   "source": [
    "### Naivna rešitev:  dve zanki\n",
    "\n",
    "Naivna rešitev je, da pač preverimo vse pare."
   ]
  },
  {
   "cell_type": "code",
   "execution_count": 2,
   "metadata": {},
   "outputs": [
    {
     "name": "stdout",
     "output_type": "stream",
     "text": [
      "270144\n",
      "270144\n"
     ]
    }
   ],
   "source": [
    "for x in numbers:\n",
    "    for y in numbers:\n",
    "        if x + y == 2020:\n",
    "            print(x * y)"
   ]
  },
  {
   "cell_type": "markdown",
   "metadata": {},
   "source": [
    "Čeprav obstaja le en tak par, se izpiše dvakrat, to pa zato, ker dejansko vsak par preskusimo dvakrat, z `x` in `y` v zamenjanih vlogah. Če bi za `print` dodali `break`, ne bi dosegli ničesar, ker bi prekinil le notranjo zanko, ne pa tudi zunanje. V Pythonu se to ne da. Poleg tega pa bi še vedno pregledovali vsak par dvakrat. Običajna pot, da se temu izognemo, je, da spustimo notranjo zanko samo do tam, do koder je prišla prva. Študenti, ki znajo programirati že od prej, tu radi podležejo skušnjavi, da bi uporabili `range(len(numbers))`. A ni potrebno, saj imamo `enumerate`. V principu bi torej naredili\n",
    "\n",
    "```python\n",
    "for i, x in enumerate(numbers):\n",
    "    for y in numbers[:i]:\n",
    "        if x + y == 2020:\n",
    "            print(x * y)\n",
    "```\n",
    "\n",
    "vendar ne bomo, ker\n",
    "\n",
    "- `numbers` ni seznam, temveč množica;\n",
    "- bi, če bi bil seznam, na ta način stalno delali kopijo tega seznama in tako nismo ničesar pridobili.\n",
    "\n",
    "To se da obvoziti, vendar ni preveč zanimivo. Nadaljevali bomo kar z neučinkovito rešitvijo; spodaj bomo itak naredili hitreje.\n",
    "\n",
    "Tule nas zanima le še, ali je to možno narediti z generatorjem. Stvar je preprosta: zanimajo nas vsi produkti števil, katerih vsota je enaka 2020. Iskani generator je torej"
   ]
  },
  {
   "cell_type": "code",
   "execution_count": 3,
   "metadata": {},
   "outputs": [
    {
     "data": {
      "text/plain": [
       "<generator object <genexpr> at 0x7fd9638524d0>"
      ]
     },
     "execution_count": 3,
     "metadata": {},
     "output_type": "execute_result"
    }
   ],
   "source": [
    "(x * y for x in numbers for y in numbers if x + y == 2020)"
   ]
  },
  {
   "cell_type": "markdown",
   "metadata": {},
   "source": [
    "Prva poučna stvar je, da generator prek parov naredimo tako, da vanj vpišemo dve zanki.\n",
    "\n",
    "Druga poučna stvar bo, kako dobiti prvi element generatorja: z `next` pač."
   ]
  },
  {
   "cell_type": "code",
   "execution_count": 4,
   "metadata": {},
   "outputs": [
    {
     "data": {
      "text/plain": [
       "270144"
      ]
     },
     "execution_count": 4,
     "metadata": {},
     "output_type": "execute_result"
    }
   ],
   "source": [
    "next(x * y for x in numbers for y in numbers if x + y == 2020)"
   ]
  },
  {
   "cell_type": "code",
   "execution_count": 5,
   "metadata": {},
   "outputs": [
    {
     "data": {
      "text/plain": [
       "261342720"
      ]
     },
     "execution_count": 5,
     "metadata": {},
     "output_type": "execute_result"
    }
   ],
   "source": [
    "next(x * y * z for x in numbers for y in numbers for z in numbers if x + y + z == 2020)"
   ]
  },
  {
   "cell_type": "markdown",
   "metadata": {},
   "source": [
    "Če imamo $n$ števil, bo rešitev prvega dela pregledala $n^2$ parov, rešitev drugega pa $n^3$ parov. Če bi bilo števil desetkrat več, bi za prvi del potrebovali stokrat, za drugega pa tisočkrat več časa. Temu pravimo, da ima program kvadratno oz. kubično časovno zahtevnost. \n",
    "\n",
    "Gre boljše?\n",
    "\n",
    "### Rešitev z množicami\n",
    "\n",
    "Ko imamo `x` pravzaprav vemo, kakšen je pripadajoči `y`: `2020 - x`, pač. Namesto da gremo z notranjo zanko ponovno prek množice, lahko preprosto preverimo, ali množica vsebuje `2020 - x`.\n",
    "\n",
    "V \"razpisani\" varianti je to videti tako:"
   ]
  },
  {
   "cell_type": "code",
   "execution_count": 6,
   "metadata": {},
   "outputs": [
    {
     "name": "stdout",
     "output_type": "stream",
     "text": [
      "270144\n"
     ]
    }
   ],
   "source": [
    "for x in numbers:\n",
    "    if 2020 - x in numbers:\n",
    "        print(x * (2020 - x))\n",
    "        break"
   ]
  },
  {
   "cell_type": "markdown",
   "metadata": {},
   "source": [
    "Z generatorjem pa tako:"
   ]
  },
  {
   "cell_type": "code",
   "execution_count": 7,
   "metadata": {},
   "outputs": [
    {
     "data": {
      "text/plain": [
       "270144"
      ]
     },
     "execution_count": 7,
     "metadata": {},
     "output_type": "execute_result"
    }
   ],
   "source": [
    "next(x * (2020 - x) for x in numbers if 2020 - x in numbers)"
   ]
  },
  {
   "cell_type": "markdown",
   "metadata": {},
   "source": [
    "Zanka je le ena, preverimo le `x` števil, čas preverjanja pogoja `2020 - x in numbers` pa je neodvisen od števila števil, saj je `numbers` množica. (Če bi imeli namesto množice seznam, pa bi bil čas primerjanja sorazmeren njegovi velikosti, torej ne bi pridobili ničesar!) Čas izvajanja je torej sorazmeren številu števil; takemu času pravimo, da je linearen.\n",
    "\n",
    "Za drugi del naloge potrebujemo dve zanki - namesto treh, ki smo jih imeli prej."
   ]
  },
  {
   "cell_type": "code",
   "execution_count": 8,
   "metadata": {},
   "outputs": [
    {
     "name": "stdout",
     "output_type": "stream",
     "text": [
      "261342720\n",
      "261342720\n",
      "261342720\n"
     ]
    }
   ],
   "source": [
    "for x in numbers:\n",
    "    for y in numbers:\n",
    "        if 2020 - x - y in numbers:\n",
    "            print(x * y * (2020 - x - y))\n",
    "            break"
   ]
  },
  {
   "cell_type": "markdown",
   "metadata": {},
   "source": [
    "Rezultat se izpiše trikrat, ker x in y prevzameta po dve števili iz trojke, kar lahko naredita na tri načine. Z generatorjem bomo pobrali le prvo rešitev."
   ]
  },
  {
   "cell_type": "code",
   "execution_count": 9,
   "metadata": {},
   "outputs": [
    {
     "data": {
      "text/plain": [
       "261342720"
      ]
     },
     "execution_count": 9,
     "metadata": {},
     "output_type": "execute_result"
    }
   ],
   "source": [
    "next(x * y * (2020 - x - y) for x in numbers for y in numbers if 2020 - x - y in numbers)"
   ]
  },
  {
   "cell_type": "markdown",
   "metadata": {},
   "source": [
    "### Gre hitreje?\n",
    "\n",
    "Ni dokazano, da ne gre. Odprt problem.\n",
    "\n",
    "Kot je napisal asistent pri predmetu, Tomaž Hočevar,\n",
    "\n",
    "> Za drugi del ni bistveno hitrejšega načina od te in podobnih rešitev s kvadratno časovno zahtevnostjo. Problem je znan pod imenom [3SUM](https://en.wikipedia.org/wiki/3SUM). Ali obstaja rešitev s časovno zahtevnostjo $O(n^x)$, kjer je $x<2$, je še nerešen problem. Je pa možno (v teoriji) malenkost izboljšati kvadratno rešitev (če koga zanima, ima članek naslov [\"Threesomes, Degenerates, and Love Triangles\"](https://ieeexplore.ieee.org/document/6979047))."
   ]
  }
 ],
 "metadata": {
  "kernelspec": {
   "display_name": "Python 3",
   "language": "python",
   "name": "python3"
  },
  "language_info": {
   "codemirror_mode": {
    "name": "ipython",
    "version": 3
   },
   "file_extension": ".py",
   "mimetype": "text/x-python",
   "name": "python",
   "nbconvert_exporter": "python",
   "pygments_lexer": "ipython3",
   "version": "3.7.4"
  }
 },
 "nbformat": 4,
 "nbformat_minor": 4
}
