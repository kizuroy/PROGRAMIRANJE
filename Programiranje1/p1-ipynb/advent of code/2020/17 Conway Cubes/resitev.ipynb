{
 "cells": [
  {
   "cell_type": "markdown",
   "metadata": {},
   "source": [
    "## Day 17: Conway Cubes\n",
    "\n",
    "([Povezava na nalogo](https://adventofcode.com/2020/day/17))\n",
    "\n",
    "V tej nalogi je bilo potrebno simulirati [Conwayevo igro življenja](https://en.wikipedia.org/wiki/Conway%27s_Game_of_Life) v treh oziroma štirih dimenzijah. Ker smo frajerji, bomo napisali program, ki dela v (načelno) poljubnem številu dimenzij.\n",
    "\n",
    "Pravil igre ne bomo razlagali. Preberite v opisu naloge ali na Wikipediji (gornje povezave).\n",
    "\n",
    "Tule je celotna rešitev, za teaser. Po kosih je razložena spodaj."
   ]
  },
  {
   "cell_type": "code",
   "execution_count": 13,
   "metadata": {},
   "outputs": [
    {
     "name": "stdout",
     "output_type": "stream",
     "text": [
      "3 213\n",
      "4 1624\n"
     ]
    }
   ],
   "source": [
    "from collections import defaultdict\n",
    "from itertools import product\n",
    "\n",
    "def neighbours_function(d):\n",
    "    def neighs(coord):\n",
    "        return {tuple(c + d for c, d in zip(coord, ds))\n",
    "                for ds in dss}\n",
    "\n",
    "    dss = list(product((-1, 0, 1), repeat=d))\n",
    "    return neighs\n",
    "    \n",
    "    \n",
    "def read_data(fname, d):\n",
    "    adds = (0,) * (d - 2)\n",
    "    cells = {(x, y) + adds\n",
    "             for y, v in enumerate(open(\"input.txt\")) for x, c in enumerate(v)\n",
    "             if c == \"#\"}\n",
    "\n",
    "    return cells\n",
    "\n",
    "\n",
    "def next_gen(cells, neighs):\n",
    "    counts = defaultdict(int)\n",
    "    for cell in cells:\n",
    "        for neigh in neighs(cell):\n",
    "            counts[neigh] += 1\n",
    "\n",
    "    return {coords for coords, neighs in counts.items()\n",
    "            if neighs in ((3, 4) if coords in cells else (3,))}\n",
    "\n",
    "\n",
    "for d in (3, 4):\n",
    "    neighs = neighbours_function(d)\n",
    "    cells = read_data(\"input.txt\", d)\n",
    "    for _ in range(6):\n",
    "        cells = next_gen(cells, neighs)\n",
    "    print(d, len(cells))"
   ]
  },
  {
   "cell_type": "markdown",
   "metadata": {},
   "source": [
    "### Funkcija za izračun koordinat sosedov\n",
    "\n",
    "Najprej bomo pripravili funkcijo, ki prejme terko s koordinatami (terka ima toliko elementov, kolikor dimenzij imamo) in vrne množico koordinat vseh sosed.\n",
    "\n",
    "Najpreprostejši način vodi prek funkcije `itertools.product`, ki računa kartezični produkt več množic (po domače: vse \"kombinacije\" stvari iz podanih seznamov). Lahko pa jih podamo eno samo reč in število ponovitev, pa vrne seznam terk podane dolžine, kateri elementi prihajajo iz ... Uh, raje pokažem kar primer."
   ]
  },
  {
   "cell_type": "code",
   "execution_count": 14,
   "metadata": {},
   "outputs": [
    {
     "data": {
      "text/plain": [
       "[('a', 'a', 'a'),\n",
       " ('a', 'a', 'b'),\n",
       " ('a', 'a', 'c'),\n",
       " ('a', 'b', 'a'),\n",
       " ('a', 'b', 'b'),\n",
       " ('a', 'b', 'c'),\n",
       " ('a', 'c', 'a'),\n",
       " ('a', 'c', 'b'),\n",
       " ('a', 'c', 'c'),\n",
       " ('b', 'a', 'a'),\n",
       " ('b', 'a', 'b'),\n",
       " ('b', 'a', 'c'),\n",
       " ('b', 'b', 'a'),\n",
       " ('b', 'b', 'b'),\n",
       " ('b', 'b', 'c'),\n",
       " ('b', 'c', 'a'),\n",
       " ('b', 'c', 'b'),\n",
       " ('b', 'c', 'c'),\n",
       " ('c', 'a', 'a'),\n",
       " ('c', 'a', 'b'),\n",
       " ('c', 'a', 'c'),\n",
       " ('c', 'b', 'a'),\n",
       " ('c', 'b', 'b'),\n",
       " ('c', 'b', 'c'),\n",
       " ('c', 'c', 'a'),\n",
       " ('c', 'c', 'b'),\n",
       " ('c', 'c', 'c')]"
      ]
     },
     "execution_count": 14,
     "metadata": {},
     "output_type": "execute_result"
    }
   ],
   "source": [
    "from itertools import product\n",
    "\n",
    "list(product(\"abc\", repeat=3))"
   ]
  },
  {
   "cell_type": "markdown",
   "metadata": {},
   "source": [
    "Funkcijo bomo uporabili zato, da sestavi vse koordinate sosed - relativno glede na poljubno koordinato. V treh dimenzijah bo to videti takole:"
   ]
  },
  {
   "cell_type": "code",
   "execution_count": 15,
   "metadata": {},
   "outputs": [
    {
     "data": {
      "text/plain": [
       "[(-1, -1, -1),\n",
       " (-1, -1, 0),\n",
       " (-1, -1, 1),\n",
       " (-1, 0, -1),\n",
       " (-1, 0, 0),\n",
       " (-1, 0, 1),\n",
       " (-1, 1, -1),\n",
       " (-1, 1, 0),\n",
       " (-1, 1, 1),\n",
       " (0, -1, -1),\n",
       " (0, -1, 0),\n",
       " (0, -1, 1),\n",
       " (0, 0, -1),\n",
       " (0, 0, 0),\n",
       " (0, 0, 1),\n",
       " (0, 1, -1),\n",
       " (0, 1, 0),\n",
       " (0, 1, 1),\n",
       " (1, -1, -1),\n",
       " (1, -1, 0),\n",
       " (1, -1, 1),\n",
       " (1, 0, -1),\n",
       " (1, 0, 0),\n",
       " (1, 0, 1),\n",
       " (1, 1, -1),\n",
       " (1, 1, 0),\n",
       " (1, 1, 1)]"
      ]
     },
     "execution_count": 15,
     "metadata": {},
     "output_type": "execute_result"
    }
   ],
   "source": [
    "dss = list(product((-1, 0, 1), repeat=3))\n",
    "\n",
    "dss"
   ]
  },
  {
   "cell_type": "markdown",
   "metadata": {},
   "source": [
    "Funkcija, ki prejme neke koordinate in vrne koordinate vseh sosedov, je potem takšna:"
   ]
  },
  {
   "cell_type": "code",
   "execution_count": 16,
   "metadata": {},
   "outputs": [],
   "source": [
    "def neighs(coord):\n",
    "    return {tuple(c + d for c, d in zip(coord, ds))\n",
    "            for ds in dss}"
   ]
  },
  {
   "cell_type": "markdown",
   "metadata": {},
   "source": [
    "Odmike, kakršne smo sestavljali zgoraj, shranimo v `dss`. Funkcija `neighs` prejme terko s koordinatami in vrne seznam terk, katerih elementom so prišteti različni odmiki."
   ]
  },
  {
   "cell_type": "code",
   "execution_count": 17,
   "metadata": {},
   "outputs": [
    {
     "data": {
      "text/plain": [
       "{(79, 4, 99),\n",
       " (79, 4, 100),\n",
       " (79, 4, 101),\n",
       " (79, 5, 99),\n",
       " (79, 5, 100),\n",
       " (79, 5, 101),\n",
       " (79, 6, 99),\n",
       " (79, 6, 100),\n",
       " (79, 6, 101),\n",
       " (80, 4, 99),\n",
       " (80, 4, 100),\n",
       " (80, 4, 101),\n",
       " (80, 5, 99),\n",
       " (80, 5, 100),\n",
       " (80, 5, 101),\n",
       " (80, 6, 99),\n",
       " (80, 6, 100),\n",
       " (80, 6, 101),\n",
       " (81, 4, 99),\n",
       " (81, 4, 100),\n",
       " (81, 4, 101),\n",
       " (81, 5, 99),\n",
       " (81, 5, 100),\n",
       " (81, 5, 101),\n",
       " (81, 6, 99),\n",
       " (81, 6, 100),\n",
       " (81, 6, 101)}"
      ]
     },
     "execution_count": 17,
     "metadata": {},
     "output_type": "execute_result"
    }
   ],
   "source": [
    "neighs((80, 5, 100))"
   ]
  },
  {
   "cell_type": "markdown",
   "metadata": {},
   "source": [
    "Vse, kar smo naredili doslej, zložimo v funkcijo `neighbours_function`, ki prejme število dimenzij in vrne funkcijo `neighs` za iskanje sosedov v takšnem številu dimenzij."
   ]
  },
  {
   "cell_type": "code",
   "execution_count": 19,
   "metadata": {},
   "outputs": [],
   "source": [
    "def neighbours_function(d):\n",
    "    def neighs(coord):\n",
    "        return {tuple(c + d for c, d in zip(coord, ds))\n",
    "                for ds in dss}\n",
    "\n",
    "    dss = list(product((-1, 0, 1), repeat=d))\n",
    "    return neighs"
   ]
  },
  {
   "cell_type": "markdown",
   "metadata": {},
   "source": [
    "### Branje podatkov\n",
    "\n",
    "Funkcija, ki prebere podatke, razbere koordinate iz datoteke, poleg tega pa doda še toliko ničel, kolikor je potrebno glede na podano število dimenzij."
   ]
  },
  {
   "cell_type": "code",
   "execution_count": 20,
   "metadata": {},
   "outputs": [],
   "source": [
    "def read_data(fname, d):\n",
    "    adds = (0,) * (d - 2)\n",
    "    cells = {(x, y) + adds\n",
    "             for y, v in enumerate(open(fname)) for x, c in enumerate(v)\n",
    "             if c == \"#\"}\n",
    "\n",
    "    return cells"
   ]
  },
  {
   "cell_type": "markdown",
   "metadata": {},
   "source": [
    "### Izračun naslednje generacije\n",
    "\n",
    "Najprej bomo sestavili slovar, katerega ključi bodo koordinate, vrednosti pa število celic, ki živijo na tej celici (to je 1 ali 0) in vseh njenih sosedih.\n",
    "\n",
    "To je preprosto: gremo čez vse celice, za vsako celico gremo čez vse njene sosede in jim prištejemo 1.\n",
    "\n",
    "Tudi nadaljevanje je trivialno: v novi generaciji bodo celice na vseh koordinatah iz tega slovarja, pri katerih je število sosedov 3 ali 4, če je tam že prej bila celica (ker med sosede štejemo tudi celico samo!) oz. 3, če tam še ni bilo celice."
   ]
  },
  {
   "cell_type": "code",
   "execution_count": 21,
   "metadata": {},
   "outputs": [],
   "source": [
    "from collections import defaultdict\n",
    "\n",
    "def next_gen(cells, neighs):\n",
    "    counts = defaultdict(int)\n",
    "    for cell in cells:\n",
    "        for neigh in neighs(cell):\n",
    "            counts[neigh] += 1\n",
    "\n",
    "    return {coords for coords, neighs in counts.items()\n",
    "            if neighs in ((3, 4) if coords in cells else (3,))}"
   ]
  },
  {
   "cell_type": "markdown",
   "metadata": {},
   "source": [
    "### Rešitev\n",
    "\n",
    "Rešimo nalogo za 2, 3, 4 in 5 dimenzij.\n",
    "\n",
    "Za 5 traja malo dlje, ker imamo v predzadnjem koraku več kot 22 tisoč celic, tako da je potrebno pregledati 5 milijonov sosednjih polj."
   ]
  },
  {
   "cell_type": "code",
   "execution_count": 22,
   "metadata": {},
   "outputs": [
    {
     "name": "stdout",
     "output_type": "stream",
     "text": [
      "2 35\n",
      "3 213\n",
      "4 1624\n",
      "5 9516\n"
     ]
    }
   ],
   "source": [
    "for d in (2, 3, 4, 5):\n",
    "    neighs = neighbours_function(d)\n",
    "    cells = read_data(\"input.txt\", d)\n",
    "    for _ in range(6):\n",
    "        cells = next_gen(cells, neighs)\n",
    "    print(d, len(cells))"
   ]
  }
 ],
 "metadata": {
  "kernelspec": {
   "display_name": "Python 3",
   "language": "python",
   "name": "python3"
  },
  "language_info": {
   "codemirror_mode": {
    "name": "ipython",
    "version": 3
   },
   "file_extension": ".py",
   "mimetype": "text/x-python",
   "name": "python",
   "nbconvert_exporter": "python",
   "pygments_lexer": "ipython3",
   "version": "3.7.4"
  }
 },
 "nbformat": 4,
 "nbformat_minor": 4
}
