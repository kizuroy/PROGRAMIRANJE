{
 "cells": [
  {
   "cell_type": "markdown",
   "metadata": {},
   "source": [
    "## Day 09: Encoding Error\n",
    "\n",
    "([Povezava na nalogo](https://adventofcode.com/2020/day/9))\n",
    "\n",
    "Končno se začenjajo spodobne naloge, pri katerih moraš malo pomisliti, preden začneš programirati!\n",
    "\n",
    "## Prvi del\n",
    "\n",
    "Če preskočimo zgodbico: imamo zaporedje števil. Zanima nas, katero je prvo število, ki ga ne moremo dobiti kot vsoto dveh izmed zadnjih 25 števil pred njim. Preverjati je potrebno le števila od petindvajsetega naprej.\n",
    "\n",
    "Branje podatkov je končno trivialno."
   ]
  },
  {
   "cell_type": "code",
   "execution_count": 1,
   "metadata": {},
   "outputs": [],
   "source": [
    "s = [int(x) for x in open(\"input.txt\")]"
   ]
  },
  {
   "cell_type": "markdown",
   "metadata": {},
   "source": [
    "### Naivna rešitev\n",
    "\n",
    "Naivna rešitev je, da napišemo funkcijo `valid(n, t)`, ki preveri, ali je število `n` vsota kakega para števil iz seznama `t`. Potem pokličemo to funkcijo za vsa števila od 25-ega naprej.\n",
    "\n",
    "Če že pišemo naivno rešitev, jo napišimo spodobno."
   ]
  },
  {
   "cell_type": "code",
   "execution_count": 2,
   "metadata": {},
   "outputs": [
    {
     "name": "stdout",
     "output_type": "stream",
     "text": [
      "85848519\n"
     ]
    }
   ],
   "source": [
    "def valid(n, t):\n",
    "    for i, x in enumerate(t):\n",
    "        for y in t[:i]:\n",
    "            if x + y == n:\n",
    "                return True\n",
    "    return False\n",
    "\n",
    "\n",
    "for i, x in enumerate(s[25:]):\n",
    "    if not valid(x, s[i:i + 25]):\n",
    "        first_invalid = x\n",
    "        break\n",
    "\n",
    "print(first_invalid)"
   ]
  },
  {
   "cell_type": "markdown",
   "metadata": {},
   "source": [
    "Funkcija `valid` gre prek seznama `t`. Potrebujemo vrednost (`x`) in indeks (`i`), zato da gremo z `y` le prek prvih `i` elementov `t`, torej le do `x`-a. Če je vsota `x + y` enaka `n`, je število veljavno. Če takega para ni, ni.\n",
    "\n",
    "V zanki, ki sledi, gre `x` od elementa z indeksom 25 naprej, `i` pa od `0`. Veljati mora, da je `x` vsota dveh elementov od `i`-tega do `i+25`-ega (`s[i + 25]` pa je ravno `x`).\n",
    "\n",
    "Vse skupaj se da skrajšati."
   ]
  },
  {
   "cell_type": "code",
   "execution_count": 3,
   "metadata": {},
   "outputs": [],
   "source": [
    "s = [int(x) for x in open(\"input.txt\")]\n",
    "\n",
    "def valid(n, t):\n",
    "    return any(x + y == n for i, x in enumerate(t) for y in t[:i])\n",
    "\n",
    "first_invalid = next(x for i, x in enumerate(s[25:]) if not valid(x, s[i:i + 25]))"
   ]
  },
  {
   "cell_type": "markdown",
   "metadata": {},
   "source": [
    "Kdor hoče, lahko to očitno stlači v eno samo vrstico. Jaz ne bi.\n",
    "\n",
    "\n",
    "### Boljša rešitev\n",
    "\n",
    "Najprej je potrebno opozoriti, da ta rešitev precejkrat kopira seznam `s` - namreč vsakič, ko naredimo rezino. Temu bi se izognili tako, da bi uporabili `numpy`.\n",
    "\n",
    "A to ni glavni problem. Najbolj moteča je funkcija `valid`: pri 25 predhodnikih, se obrne 25*24/2 = 300-krat. Za vsako število. Gre boljše? Se lahko domislimo rešitve, pri kateri čas reševanja ne bi naraščal s kvadratom velikost okna?\n",
    "\n",
    "Takole: štejemo, na koliko načinov lahko dobimo vsako število. Vsakič, ko dodamo število, dobeležimo `1` pri vseh vsotah tega števila in števil iz prejšnjih 24. Istočasno pa zaradi tega eno število izpade iz okna in odštejemo `1` pri vseh vsotah izpadlega števila in taistih 24."
   ]
  },
  {
   "cell_type": "code",
   "execution_count": 4,
   "metadata": {},
   "outputs": [
    {
     "name": "stdout",
     "output_type": "stream",
     "text": [
      "85848519\n"
     ]
    }
   ],
   "source": [
    "from collections import defaultdict\n",
    "\n",
    "def get_invalid(s, width):\n",
    "    sum_count = defaultdict(int)\n",
    "\n",
    "    def update_counts(x, d, args):\n",
    "        for y in args:\n",
    "            sum_count[x + y] += d\n",
    "\n",
    "    for i in range(width):\n",
    "        update_counts(s[i], 1, s[:i])\n",
    "\n",
    "    for i in range(width, len(s)):\n",
    "        x = s[i]\n",
    "        if not sum_count[x]:\n",
    "            return x\n",
    "        window = s[i - 24:i]\n",
    "        update_counts(s[i - 25], -1, window)\n",
    "        update_counts(x, 1, window)\n",
    "        \n",
    "first_invalid = get_invalid(s, 25)\n",
    "\n",
    "print(first_invalid)"
   ]
  },
  {
   "cell_type": "markdown",
   "metadata": {},
   "source": [
    "## Drugi del\n",
    "\n",
    "V drugem delu je potrebno poiskati podzaporedje znotraj podanega zaporedja, pri katerem je vsota elementov enaka prvemu neveljavnemu številu. Rezultat, ki ga je potrebno vrniti, je vsota najmanjšega in največjega števila v tem oknu.\n",
    "\n",
    "To bomo rešili tako, da se bomo vlekli okno spremenljive širine prek seznama. Kadar je vsota števil prevelika, povečamo spodnjo mejo, da se vsota zmanjša. Kadar je premajhna, povečamo zgornjo, da se vsota zmanjša."
   ]
  },
  {
   "cell_type": "code",
   "execution_count": 5,
   "metadata": {},
   "outputs": [
    {
     "name": "stdout",
     "output_type": "stream",
     "text": [
      "13414198\n"
     ]
    }
   ],
   "source": [
    "fr = to = 0\n",
    "v = 0\n",
    "while v != first_invalid:\n",
    "    if v > first_invalid:\n",
    "        v -= s[fr]\n",
    "        fr += 1\n",
    "    else:\n",
    "        v += s[to]\n",
    "        to += 1\n",
    "\n",
    "print(min(s[fr:to]) + max(s[fr:to]))"
   ]
  }
 ],
 "metadata": {
  "kernelspec": {
   "display_name": "Python 3",
   "language": "python",
   "name": "python3"
  },
  "language_info": {
   "codemirror_mode": {
    "name": "ipython",
    "version": 3
   },
   "file_extension": ".py",
   "mimetype": "text/x-python",
   "name": "python",
   "nbconvert_exporter": "python",
   "pygments_lexer": "ipython3",
   "version": "3.7.4"
  }
 },
 "nbformat": 4,
 "nbformat_minor": 4
}
