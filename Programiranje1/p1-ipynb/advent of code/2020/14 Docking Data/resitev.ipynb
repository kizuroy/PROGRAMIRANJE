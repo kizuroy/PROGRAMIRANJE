{
 "cells": [
  {
   "cell_type": "markdown",
   "metadata": {},
   "source": [
    "## Day 14: Docking Data\n",
    "\n",
    "([Povezava na nalogo](https://adventofcode.com/2020/day/14))\n",
    "\n",
    "Naloga ni posebej težka: gre za žongliranje z biti. Z vidika Pythona se naučimo pretvarjanja iz dvojiškega zapisa ter operatorjev `&` in `|`, ki računata bitni *and* in *or*.\n",
    "\n",
    "### Prvi del\n",
    "\n",
    "Podatki so videti tako (takšni blokci se potem nadaljujejo):\n",
    "\n",
    "```python\n",
    "mask = XXXXXXXXXXXXXXXXXXXXXXXXXXXXX1XXXX0X\n",
    "mem[8] = 11\n",
    "mem[7] = 101\n",
    "mem[8] = 0\n",
    "```\n",
    "\n",
    "Imamo računalnik in z ukazi `mem[a] = b` na pomnilniško lokacijo `a` zapišemo podatek `b` (ki je podan desetiško, čeprav so v gornjem primeru slučajno same ničle in enice). Trik pa je v tem, da je potrebno upoštevati še bitno masko. Bite, ki so v maski označeni z X pustimo pri miru, bite, označene z `1`, postavimo na `1`, bite označene z `0`, postavimo na `0`.\n",
    "\n",
    "Pri reševanju si bomo na debelo pomagali s tem, da lahko Pythonova funkcija `int` prejme dva argumenta: prvi je niz, ki ga je potrebno pretvoriti v število, drugi je številska osnova, ki bo v našem primeru `2`.\n",
    "\n",
    "Iz maske bomo pripravili dva podatka: prvi bo povedal, katere bite je potrebno postaviti na 0. Če imamo"
   ]
  },
  {
   "cell_type": "code",
   "execution_count": 1,
   "metadata": {},
   "outputs": [],
   "source": [
    "mask = \"XXXXXXXXXXXXXXXXXXXXXXXXXXXXX1XXXX0X\""
   ]
  },
  {
   "cell_type": "markdown",
   "metadata": {},
   "source": [
    "bomo zamenjali vse `\"X\"` z ničlami, tako da bodo imele vrednost `1` samo še enice."
   ]
  },
  {
   "cell_type": "code",
   "execution_count": 2,
   "metadata": {},
   "outputs": [],
   "source": [
    "mask.replace(\"X\", \"0\")"
   ]
  },
  {
   "cell_type": "markdown",
   "metadata": {},
   "source": [
    "To potem pretvorimo v število"
   ]
  },
  {
   "cell_type": "code",
   "execution_count": 3,
   "metadata": {},
   "outputs": [],
   "source": [
    "ones = int(mask.replace(\"X\", \"0\"), 2)"
   ]
  },
  {
   "cell_type": "markdown",
   "metadata": {},
   "source": [
    "Podobno, le ravno obratno, naredimo z ničlami: želimo, da so vsi biti, ki jih je potrebno postaviti na 0, enaki 0, vsi ostali naj bodo 1."
   ]
  },
  {
   "cell_type": "code",
   "execution_count": 4,
   "metadata": {},
   "outputs": [],
   "source": [
    "zeros = int(mask.replace(\"X\", \"1\"), 2)"
   ]
  },
  {
   "cell_type": "markdown",
   "metadata": {},
   "source": [
    "Program je potem takšen:"
   ]
  },
  {
   "cell_type": "code",
   "execution_count": 5,
   "metadata": {},
   "outputs": [],
   "source": [
    "mask = 0\n",
    "mem = {}\n",
    "for line in open(\"input.txt\"):\n",
    "    instr, data = line.split(\" = \")\n",
    "    if instr == \"mask\":\n",
    "        zeros = int(data.replace(\"X\", \"1\"), 2)\n",
    "        ones = int(data.replace(\"X\", \"0\"), 2)\n",
    "    else:\n",
    "        addr = int(instr[instr.index(\"[\") + 1: instr.index(\"]\")])\n",
    "        mem[addr] = int(data) & zeros | ones\n",
    "        \n",
    "print(sum(mem.values()))"
   ]
  },
  {
   "cell_type": "markdown",
   "metadata": {},
   "source": [
    "Vrstico razdelimo glede na `\" = \"`; levo je ukaz, desno podatki. Če je ukaz `mask`, izračunamo novo masko. Če gre za nastavljanje, pa iz levega dela razberemo pomnilniški naslov. Podatke pretvorimo v `int`, nato pa z `& zeros` postavimo vse, kar mora biti 0, na 0, in z `| ones` vse, kar mora biti `1`, na 1.\n",
    "\n",
    "Naloga je vrniti vsoto vseh podatkov v pomnilniku, zato jo v zadnji vrstici izračunamo in izpišemo."
   ]
  },
  {
   "cell_type": "markdown",
   "metadata": {},
   "source": [
    "## Drugi del\n",
    "\n",
    "Drugi del pravi, da\n",
    "\n",
    "- maska ne vpliva ne spreminja podatka temveč pomnilniški naslov\n",
    "- pustimo pri miru bite, ki so označeni z 0, pač pa so lahko tisti, ki so označeni z X, karkoli. Torej, za X moramo vzeti vse možne kombinacije vrednosti. Če je v vrstici 5 X-ov, je možnih kombinacij $2^5$, torej bomo spreminjali $2^5$ pomnilniških naslovov.\n",
    "\n",
    "    Tem bitom v nalogi rečejo, da so *floating*.\n",
    "    \n",
    "Reševanje zahteva nekoliko več telovadba z maskami."
   ]
  },
  {
   "cell_type": "code",
   "execution_count": 6,
   "metadata": {},
   "outputs": [
    {
     "name": "stdout",
     "output_type": "stream",
     "text": [
      "2667858637669\n"
     ]
    }
   ],
   "source": [
    "mem = {}\n",
    "for line in open(\"input.txt\"):\n",
    "    instr, data = line.split(\"=\")\n",
    "    if instr.strip() == \"mask\":\n",
    "        data = data.strip()\n",
    "        ones = int(data.replace(\"X\", \"0\"), 2)\n",
    "        \n",
    "        xpos = [2 ** i for i, c in enumerate(reversed(data)) if c == \"X\"]\n",
    "        floating = [\n",
    "            sum(o for c, o in zip(f\"{i:0>{len(xpos)}b}\", xpos) if c == \"1\")\n",
    "            for i in range(2 ** len(xpos))]\n",
    "\n",
    "        zeros = 2 ** 36 - 1 - sum(xpos)\n",
    "    else:\n",
    "        data = int(data)\n",
    "        \n",
    "        addr = int(instr[instr.index(\"[\") + 1: instr.index(\"]\")])\n",
    "        addr = (addr & zeros) | ones\n",
    "        for comb in floating:\n",
    "            mem[addr | comb] = data\n",
    "            \n",
    "print(sum(mem.values()))"
   ]
  },
  {
   "cell_type": "markdown",
   "metadata": {},
   "source": [
    "Z enicami je tako kot prej.\n",
    "\n",
    "Z `xpos` naračunamo števila, se pravi potence 2, ki ustrezajo posameznim bitom označeni z `X`. Podatke obrnemo, da bo najnižji bit na vrsti prvi, nato jih oštevilčimo in, če je vrednost bita enaka X, izračunamo ustrezno potenco.\n",
    "\n",
    "Nato v `floating` naračunamo vse kombinacije teh bitov. Trik, ki ga uporabimo, razložimo posebej. Imejmo seznam imen."
   ]
  },
  {
   "cell_type": "code",
   "execution_count": 7,
   "metadata": {},
   "outputs": [],
   "source": [
    "imena = [\"Ana\", \"Berta\", \"Cilka\", \"Dani\"]"
   ]
  },
  {
   "cell_type": "markdown",
   "metadata": {},
   "source": [
    "Izpisati želimo vse kombinacije teh imen (vključno s praznim seznamom in seznamom, ki vsebuje vsa imena. Pomagali si bomo s temi nizi: izpišimo vsa štiribitna števila po dvojiško."
   ]
  },
  {
   "cell_type": "code",
   "execution_count": 8,
   "metadata": {},
   "outputs": [
    {
     "name": "stdout",
     "output_type": "stream",
     "text": [
      "0000\n",
      "0001\n",
      "0010\n",
      "0011\n",
      "0100\n",
      "0101\n",
      "0110\n",
      "0111\n",
      "1000\n",
      "1001\n",
      "1010\n",
      "1011\n",
      "1100\n",
      "1101\n",
      "1110\n",
      "1111\n"
     ]
    }
   ],
   "source": [
    "for i in range(2** len(imena)):\n",
    "    print(f\"{i:0>4b}\")"
   ]
  },
  {
   "cell_type": "markdown",
   "metadata": {},
   "source": [
    "To skombiniramo s seznamom imen: ime vzamemo, če je ustrezni bit enak `1`."
   ]
  },
  {
   "cell_type": "code",
   "execution_count": 9,
   "metadata": {},
   "outputs": [
    {
     "name": "stdout",
     "output_type": "stream",
     "text": [
      "[]\n",
      "['Dani']\n",
      "['Cilka']\n",
      "['Cilka', 'Dani']\n",
      "['Berta']\n",
      "['Berta', 'Dani']\n",
      "['Berta', 'Cilka']\n",
      "['Berta', 'Cilka', 'Dani']\n",
      "['Ana']\n",
      "['Ana', 'Dani']\n",
      "['Ana', 'Cilka']\n",
      "['Ana', 'Cilka', 'Dani']\n",
      "['Ana', 'Berta']\n",
      "['Ana', 'Berta', 'Dani']\n",
      "['Ana', 'Berta', 'Cilka']\n",
      "['Ana', 'Berta', 'Cilka', 'Dani']\n"
     ]
    }
   ],
   "source": [
    "for i in range(2** len(imena)):\n",
    "    print([ime for ime, bit in zip(imena, f\"{i:0>4b}\") if bit == \"1\"])"
   ]
  },
  {
   "cell_type": "markdown",
   "metadata": {},
   "source": [
    "Zgoraj nimamo ime, temveč števila. In zanimajo nas njihove vsote. Na primer"
   ]
  },
  {
   "cell_type": "code",
   "execution_count": 10,
   "metadata": {},
   "outputs": [
    {
     "name": "stdout",
     "output_type": "stream",
     "text": [
      "0\n",
      "1\n",
      "8\n",
      "9\n",
      "32\n",
      "33\n",
      "40\n",
      "41\n",
      "1024\n",
      "1025\n",
      "1032\n",
      "1033\n",
      "1056\n",
      "1057\n",
      "1064\n",
      "1065\n"
     ]
    }
   ],
   "source": [
    "xpos = [1024, 32, 8, 1]\n",
    "for i in range(2 ** len(xpos)):\n",
    "    print(sum(val for val, bit in zip(xpos, f\"{i:0>4b}\") if bit == \"1\"))"
   ]
  },
  {
   "cell_type": "markdown",
   "metadata": {},
   "source": [
    "Skoraj točno tako naračunamo vsote v gornjem seznamu `floating`. Dodati je potrebno le še to, da ne potrebujemo nujno štirih bitov, temveč toliko bitov, kolikor je dolg `xpos`. Zato namesto `f\"{i:0>4b}\"` pišemo `f\"{i:0>{len(xpos)}b}\"`. Ja, števila je možno vstaviti tudi znotraj niza za formatiranje. Gnezdeni zaviti oklepaji.\n",
    "\n",
    "Poleg tega pripravimo `zeros`, ki bo imel ničle tam, kjer so \"floating biti\".\n",
    "\n",
    "Ideja je torej, da v začetku vstavimo vse te bite na 0, potem jim prištevamo različne kombinacije, ki smo si jih naračunali v `floating`.\n",
    "\n",
    "Tako torej dobimo masko -- `ones`, `zeros` in `floating`.\n",
    "\n",
    "V drugem delu, po `else`, naračunamo naslov, postavimo enice, kakor je treba, vse `floating` bite pa na 0. Nato gremo čez vse kombinacije floating bitov, izračunamo naslov in nastavimo."
   ]
  }
 ],
 "metadata": {
  "kernelspec": {
   "display_name": "Python 3",
   "language": "python",
   "name": "python3"
  },
  "language_info": {
   "codemirror_mode": {
    "name": "ipython",
    "version": 3
   },
   "file_extension": ".py",
   "mimetype": "text/x-python",
   "name": "python",
   "nbconvert_exporter": "python",
   "pygments_lexer": "ipython3",
   "version": "3.7.4"
  }
 },
 "nbformat": 4,
 "nbformat_minor": 4
}
