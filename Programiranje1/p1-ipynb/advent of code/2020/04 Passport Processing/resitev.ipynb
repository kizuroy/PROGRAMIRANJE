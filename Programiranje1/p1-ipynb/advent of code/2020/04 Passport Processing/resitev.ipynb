{
 "cells": [
  {
   "cell_type": "markdown",
   "metadata": {},
   "source": [
    "## Day 04: Passport Processing\n",
    "\n",
    "([Povezava na nalogo](https://adventofcode.com/2020/day/4))\n",
    "\n",
    "Naloga je vobče dolgočasna. Izkoristili jo bomo za to, da se bomo naučili lepo prebrati podatke z eno vrstico kode.\n",
    "\n",
    "V datoteki so shranjeni podatki iz potnih listov.\n",
    "\n",
    "```\n",
    "ecl:gry pid:860033327 eyr:2020 hcl:#fffffd\n",
    "byr:1937 iyr:2017 cid:147 hgt:183cm\n",
    "\n",
    "iyr:2013 ecl:amb cid:350 eyr:2023 pid:028048884\n",
    "hcl:#cfa07d byr:1929\n",
    "\n",
    "hcl:#ae17e1 iyr:2013\n",
    "eyr:2024\n",
    "ecl:brn pid:760753108 byr:1931\n",
    "hgt:179cm\n",
    "\n",
    "hcl:#cfa07d eyr:2025 pid:166559648\n",
    "iyr:2011 ecl:brn hgt:59in\n",
    "```\n",
    "\n",
    "Potni listi so ločeni s prazno vrstico. Tako se prvi dve nanašata na isti potni list. Tiste tričrkovne zadeve predstavljajo različne podatke. Podatek `cid` je v obeh delih naloge opcijski, zato bomo podatke že prebrali tako, da ga bomo preskočili.\n",
    "\n",
    "\n",
    "### Branje podatkov\n",
    "\n",
    "Edini zabavni del te naloge je branje podatkov. Stvar bo poučne predvsem, če ga bomo izvedli v eni vrstici. :) Resno, to bomo storili zato, da bomo videli, kako po korakih sestaviti takšen izraz in kako ga zapisati (skoraj) čitljivo.\n",
    "\n",
    "Najprej preberemo celotno datoteko in jo razbijmo na kose, med katerimi je prazna vrstica. Torej na kose, ki jih ločuje niz `\\n\\n`."
   ]
  },
  {
   "cell_type": "code",
   "execution_count": 1,
   "metadata": {},
   "outputs": [],
   "source": [
    "open(\"example.txt\").read().split(\"\\n\\n\")"
   ]
  },
  {
   "cell_type": "markdown",
   "metadata": {},
   "source": [
    "Dobili smo štiri elemente, kar je že dober znak. Zdaj se skoncentrirajmo le na prvo."
   ]
  },
  {
   "cell_type": "code",
   "execution_count": 2,
   "metadata": {},
   "outputs": [],
   "source": [
    "vrstica = open(\"example.txt\").read().split(\"\\n\\n\")[0]\n",
    "\n",
    "vrstica"
   ]
  },
  {
   "cell_type": "markdown",
   "metadata": {},
   "source": [
    "Vidim, da so podatki ločeni s presledki in z `\\n`. To je dobro: metoda `split` loči glede na beli prostor in tretira `\\n` enako kot presledke."
   ]
  },
  {
   "cell_type": "code",
   "execution_count": 3,
   "metadata": {},
   "outputs": [
    {
     "data": {
      "text/plain": [
       "['ecl:gry',\n",
       " 'pid:860033327',\n",
       " 'eyr:2020',\n",
       " 'hcl:#fffffd',\n",
       " 'byr:1937',\n",
       " 'iyr:2017',\n",
       " 'cid:147',\n",
       " 'hgt:183cm']"
      ]
     },
     "execution_count": 3,
     "metadata": {},
     "output_type": "execute_result"
    }
   ],
   "source": [
    "vrstica.split()"
   ]
  },
  {
   "cell_type": "markdown",
   "metadata": {},
   "source": [
    "Vsakega od teh nizov razbijemo glede na `\":\"`."
   ]
  },
  {
   "cell_type": "code",
   "execution_count": 4,
   "metadata": {},
   "outputs": [
    {
     "data": {
      "text/plain": [
       "[['ecl', 'gry'],\n",
       " ['pid', '860033327'],\n",
       " ['eyr', '2020'],\n",
       " ['hcl', '#fffffd'],\n",
       " ['byr', '1937'],\n",
       " ['iyr', '2017'],\n",
       " ['cid', '147'],\n",
       " ['hgt', '183cm']]"
      ]
     },
     "execution_count": 4,
     "metadata": {},
     "output_type": "execute_result"
    }
   ],
   "source": [
    "[x.split(\":\") for x in vrstica.split()]"
   ]
  },
  {
   "cell_type": "markdown",
   "metadata": {},
   "source": [
    "Izgleda lepo, živce pa nam žre `cid`. Kako se ga znebiti? Vse te pare spustimo na novo skozi generator in odstranimo tiste, katerih prvi element je `cid`."
   ]
  },
  {
   "cell_type": "code",
   "execution_count": 5,
   "metadata": {},
   "outputs": [
    {
     "data": {
      "text/plain": [
       "[('ecl', 'gry'),\n",
       " ('pid', '860033327'),\n",
       " ('eyr', '2020'),\n",
       " ('hcl', '#fffffd'),\n",
       " ('byr', '1937'),\n",
       " ('iyr', '2017'),\n",
       " ('hgt', '183cm')]"
      ]
     },
     "execution_count": 5,
     "metadata": {},
     "output_type": "execute_result"
    }
   ],
   "source": [
    "[(k, v)\n",
    " for k, v in (x.split(\":\") for x in vrstica.split())\n",
    " if k != \"cid\"]"
   ]
  },
  {
   "cell_type": "markdown",
   "metadata": {},
   "source": [
    "Če tole malo težko razumete, samo poglejte, kje v tem, zadnjem izrazu se je znašel predzadnji, pa bo najbrž jasno.\n",
    "\n",
    "Dobimo torej pare. Če te pare podtaknemo tipu `dict`, dobimo točno takšen slovar, kakršnega si želimo."
   ]
  },
  {
   "cell_type": "code",
   "execution_count": 6,
   "metadata": {},
   "outputs": [
    {
     "data": {
      "text/plain": [
       "{'ecl': 'gry',\n",
       " 'pid': '860033327',\n",
       " 'eyr': '2020',\n",
       " 'hcl': '#fffffd',\n",
       " 'byr': '1937',\n",
       " 'iyr': '2017',\n",
       " 'hgt': '183cm'}"
      ]
     },
     "execution_count": 6,
     "metadata": {},
     "output_type": "execute_result"
    }
   ],
   "source": [
    "dict((k, v)\n",
    "     for k, v in (x.split(\":\") for x in vrstica.split())\n",
    "     if k != \"cid\")"
   ]
  },
  {
   "cell_type": "markdown",
   "metadata": {},
   "source": [
    "Slovar, ki smo ga sestavili tule, moramo sestaviti za vsako vrstico datoteke, ne le prvo. Tale `dict` torej \"vložimo\" v izpeljan seznam, ki bo šel prek datoteke."
   ]
  },
  {
   "cell_type": "code",
   "execution_count": 7,
   "metadata": {},
   "outputs": [],
   "source": [
    "passports = [dict((k, v)\n",
    "                  for k, v in (x.split(\":\") for x in vrstica.split())\n",
    "                  if k != \"cid\")\n",
    "             for vrstica in open(\"example.txt\").read().split(\"\\n\\n\")]"
   ]
  },
  {
   "cell_type": "code",
   "execution_count": 8,
   "metadata": {},
   "outputs": [
    {
     "data": {
      "text/plain": [
       "[{'ecl': 'gry',\n",
       "  'pid': '860033327',\n",
       "  'eyr': '2020',\n",
       "  'hcl': '#fffffd',\n",
       "  'byr': '1937',\n",
       "  'iyr': '2017',\n",
       "  'hgt': '183cm'},\n",
       " {'iyr': '2013',\n",
       "  'ecl': 'amb',\n",
       "  'eyr': '2023',\n",
       "  'pid': '028048884',\n",
       "  'hcl': '#cfa07d',\n",
       "  'byr': '1929'},\n",
       " {'hcl': '#ae17e1',\n",
       "  'iyr': '2013',\n",
       "  'eyr': '2024',\n",
       "  'ecl': 'brn',\n",
       "  'pid': '760753108',\n",
       "  'byr': '1931',\n",
       "  'hgt': '179cm'},\n",
       " {'hcl': '#cfa07d',\n",
       "  'eyr': '2025',\n",
       "  'pid': '166559648',\n",
       "  'iyr': '2011',\n",
       "  'ecl': 'brn',\n",
       "  'hgt': '59in'}]"
      ]
     },
     "execution_count": 8,
     "metadata": {},
     "output_type": "execute_result"
    }
   ],
   "source": [
    "passports"
   ]
  },
  {
   "cell_type": "markdown",
   "metadata": {},
   "source": [
    "Tega, kar smo zgoraj napisali v eni vrstici, ni čisto preprosto prebrati, je pa možno. Zato: pišite tako. Ne tako:\n",
    "\n",
    "```python\n",
    "passports = [dict((k, v) for k, v in (x.split(\":\") for x in vrstica.split()) if k\n",
    "!= \"cid\") for vrstica in open(\"example.txt\").read().split(\"\\n\\n\")]\n",
    "```\n",
    "\n",
    "\n",
    "## Prvi del: potni listi s sedmimi podatki\n",
    "\n",
    "V prvem delu naloga zahteva, da preštejemo potne liste, ki imajo vseh sedem podatkov.\n",
    "\n",
    "Že v nalogi za drugi dan smo se naučili, kako s `sum` prešteti elemente, ki ustrezajo določenemu pogoju."
   ]
  },
  {
   "cell_type": "code",
   "execution_count": 9,
   "metadata": {},
   "outputs": [
    {
     "name": "stdout",
     "output_type": "stream",
     "text": [
      "254\n"
     ]
    }
   ],
   "source": [
    "passports = [dict((k, v)\n",
    "                  for k, v in (x.split(\":\") for x in vrstica.split())\n",
    "                  if k != \"cid\")\n",
    "             for vrstica in open(\"input.txt\").read().split(\"\\n\\n\")]\n",
    "\n",
    "print(sum(len(passport) == 7 for passport in passports))"
   ]
  },
  {
   "cell_type": "markdown",
   "metadata": {},
   "source": [
    "## Drugi del: pravilnost podatkov\n",
    "\n",
    "Ta je malo dolgočasen. Različna polja imajo različne kriterije za pravilnost in preveriti je potrebno, ali jih potni list zadošča."
   ]
  },
  {
   "cell_type": "code",
   "execution_count": 10,
   "metadata": {},
   "outputs": [
    {
     "name": "stdout",
     "output_type": "stream",
     "text": [
      "184\n"
     ]
    }
   ],
   "source": [
    "def valid(p):\n",
    "        return 1920 <= int(p[\"byr\"]) <= 2002 \\\n",
    "            and 2010 <= int(p[\"iyr\"]) <= 2020 \\\n",
    "            and 2020 <= int(p[\"eyr\"]) <= 2030 \\\n",
    "            and (150 <= int(p[\"hgt\"][:-2]) <= 193 if p[\"hgt\"].endswith(\"cm\") else 59 <= int(p[\"hgt\"][:-2]) <= 76) \\\n",
    "            and len(p[\"hcl\"]) == 7 and p[\"hcl\"][0] == \"#\" and all(c in \"0123456789abcdef\" for c in p[\"hcl\"][1:]) \\\n",
    "            and p[\"ecl\"] in {\"amb\", \"blu\", \"brn\", \"gry\", \"grn\", \"hzl\", \"oth\"} \\\n",
    "            and len(p[\"pid\"]) == 9 and all(map(str.isdigit, p[\"pid\"]))\n",
    "    \n",
    "print(sum(valid(passport) for passport in passports if len(passport) == 7))"
   ]
  },
  {
   "cell_type": "markdown",
   "metadata": {},
   "source": [
    "Spet bi lahko vse skupan tlačili v eno vrstico, vendar ne bi bilo ne pregledno ne poučno. Boljše je napisati ločeno funkcijo.\n",
    "\n",
    "Nekateri so ob reševanju naloge tudi pregledovali - znotraj funkcije, kakršna je gornja `valid`, ali potni list v resnici vsebuje neko polje. Tu smo se tega dela otresli tako, da kličemo `valid` le za potne liste, ki imajo vseh sedem polj."
   ]
  }
 ],
 "metadata": {
  "kernelspec": {
   "display_name": "Python 3",
   "language": "python",
   "name": "python3"
  },
  "language_info": {
   "codemirror_mode": {
    "name": "ipython",
    "version": 3
   },
   "file_extension": ".py",
   "mimetype": "text/x-python",
   "name": "python",
   "nbconvert_exporter": "python",
   "pygments_lexer": "ipython3",
   "version": "3.7.4"
  }
 },
 "nbformat": 4,
 "nbformat_minor": 4
}
