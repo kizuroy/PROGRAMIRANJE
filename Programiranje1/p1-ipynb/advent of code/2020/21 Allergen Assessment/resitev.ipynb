{
 "cells": [
  {
   "cell_type": "markdown",
   "metadata": {},
   "source": [
    "# Day 21: Allergen Assessment\n",
    "\n",
    "([Povezava na nalogo](https://adventofcode.com/2020/day/21))\n",
    "\n",
    "Za moj okus ena lepših nalog.\n",
    "\n",
    "Podatki so v takšni obliki:\n",
    "\n",
    "```\n",
    "mxmxvkd kfcds sqjhc nhms (contains dairy, fish)\n",
    "trh fvjkl sbzzf mxmxvkd (contains dairy)\n",
    "sqjhc fvjkl (contains soy)\n",
    "sqjhc mxmxvkd sbzzf (contains fish)\n",
    "```\n",
    "\n",
    "Vsaka vrstica predstavlja jed. Levo so sestavine v neznanem jeziku, v oklepaju so alergeni, ki jih te sestavine vsebujejo.\n",
    "\n",
    "- Vsaka sestavina vsebuje kvečjemu enega od alergenov.\n",
    "- Vsak alergen je v natančno eni sestavini, ne večih.\n",
    "- Podatki o alergenih so pomanjkljivi: lahko se zgodi, da imamo sestavino z alergenom, vendar ta ni napisan na desni.\n",
    "\n",
    "*Prvi del*: Nekatere sestavine ne morejo vsebovati alergenov. Ne zanima nas, koliko jih je, temveč kakšno je njihovo skupno število pojavitev. V gornjem primeru se izkaže, da kfcds, nhms, sbzzf in trh ne morejo vsebovati alergenov; število njihovih pojavitev je 5, saj se sbzzf pojavi dvakrat.\n",
    "\n",
    "*Drugi del*: Zanima nas seznam sestavin, ki vsebujejo alergene, urejen po abecedi alergenov, ki jih vsebujejo.\n",
    "\n",
    "## Branje podatkov\n",
    "\n",
    "Vrstice bomo prebrali in razdelili na dvoje glede na `(contains `."
   ]
  },
  {
   "cell_type": "code",
   "execution_count": 1,
   "metadata": {},
   "outputs": [
    {
     "data": {
      "text/plain": [
       "[['mxmxvkd kfcds sqjhc nhms', 'dairy, fish)\\n'],\n",
       " ['trh fvjkl sbzzf mxmxvkd', 'dairy)\\n'],\n",
       " ['sqjhc fvjkl', 'soy)\\n'],\n",
       " ['sqjhc mxmxvkd sbzzf', 'fish)']]"
      ]
     },
     "execution_count": 1,
     "metadata": {},
     "output_type": "execute_result"
    }
   ],
   "source": [
    "[line.split(\" (contains \") for line in open(\"example.txt\")]"
   ]
  },
  {
   "cell_type": "markdown",
   "metadata": {},
   "source": [
    "Za vsak par iz tega seznama storimo naslednje: prvega razdelimo z običajnim `split`, drugemo pa s `strip(\")\\n\")` odbijemo zaklepaje in znake za novo vrstico, nato pa ga razbijemo glede na `\", \"`. Obe strani spravimo v množici."
   ]
  },
  {
   "cell_type": "code",
   "execution_count": 2,
   "metadata": {},
   "outputs": [],
   "source": [
    "food = [\n",
    "    (set(ingredients.split()), set(allergens.strip(\")\\n\").split(\", \")))\n",
    "    for ingredients, allergens in (\n",
    "        line.split(\" (contains \") for line in open(\"example.txt\")\n",
    "    )\n",
    "]"
   ]
  },
  {
   "cell_type": "code",
   "execution_count": 3,
   "metadata": {},
   "outputs": [
    {
     "data": {
      "text/plain": [
       "[({'kfcds', 'mxmxvkd', 'nhms', 'sqjhc'}, {'dairy', 'fish'}),\n",
       " ({'fvjkl', 'mxmxvkd', 'sbzzf', 'trh'}, {'dairy'}),\n",
       " ({'fvjkl', 'sqjhc'}, {'soy'}),\n",
       " ({'mxmxvkd', 'sbzzf', 'sqjhc'}, {'fish'})]"
      ]
     },
     "execution_count": 3,
     "metadata": {},
     "output_type": "execute_result"
    }
   ],
   "source": [
    "food"
   ]
  },
  {
   "cell_type": "markdown",
   "metadata": {},
   "source": [
    "## Možni alergeni\n",
    "\n",
    "Osnovna opazka je tale. V prvi vrstici imamo sestavino, ki vsebuje mleko in sestavino, ki vsebuje ribe. Torej mora ena od sestavin `{'kfcds', 'mxmxvkd', 'nhms', 'sqjhc'}` vsebovati mleko (in ena od sestavin teh mora vsebovati ribe, a to zdajle ni pomembno). Iz druga vrstice razberemo, da ena od sestavin `{'fvjkl', 'mxmxvkd', 'sbzzf', 'trh'}` vsebuje mleko. **Ker je vsak alergen le v eni sestavini**, to pomeni, da mora biti mleko v eni od sestavin, ki so v preseku teh dveh množic. (To je tule le `mxmxvkd`, a načelno bi lahko bilo kandidatov tudi več.)\n",
    "\n",
    "Potrebno je torej iti prek vseh jedi in izračunati preseke vseh množic sestavin jedi, v katerih se pojavi posamični alergen."
   ]
  },
  {
   "cell_type": "code",
   "execution_count": 4,
   "metadata": {},
   "outputs": [],
   "source": [
    "ing_by_all = {}\n",
    "for ingredients, allergens in food:\n",
    "    for allergen in allergens:\n",
    "        if allergen not in ing_by_all:\n",
    "            ing_by_all[allergen] = ingredients.copy()\n",
    "        else:\n",
    "            ing_by_all[allergen] &= ingredients"
   ]
  },
  {
   "cell_type": "markdown",
   "metadata": {},
   "source": [
    "Množica `ing_by_all` bo imela za ključe alergene, pripadajoči elementi bodo množice sestavin, ki bi utegnile vsebovati ta alergen.\n",
    "\n",
    "Te množice so, kot smo ugotovili zgoraj, presek vseh sestavin jedi, ki vsebujejo ta alergen. Sestavimo jih tako, da takrat, ko prvič naletimo na alergen, naredimo kopijo te množice, ko na alergen naletimo ponovno, pa izračunamo presek te množice s sestavinami nove jedi s tem alergenom.\n",
    "\n",
    "Tako dobimo naslednji slovar kandidatov."
   ]
  },
  {
   "cell_type": "code",
   "execution_count": 5,
   "metadata": {},
   "outputs": [
    {
     "data": {
      "text/plain": [
       "{'fish': {'mxmxvkd', 'sqjhc'}, 'dairy': {'mxmxvkd'}, 'soy': {'fvjkl', 'sqjhc'}}"
      ]
     },
     "execution_count": 5,
     "metadata": {},
     "output_type": "execute_result"
    }
   ],
   "source": [
    "ing_by_all"
   ]
  },
  {
   "cell_type": "markdown",
   "metadata": {},
   "source": [
    "## Prirejanje alergenov\n",
    "\n",
    "Odtod naprej gre enako kot v nalogi 16, Ticket Translation. Če je naloga enolično rešljiva (in je), potem obstaja nek alergen, za katerega že vemo, v kateri sestavini je. V gornjem primeru je to mleko, ki je v `mxmxvkd`.\n",
    "\n",
    "**Ker vsebuje vsaka sestavina le en alergen,** lahko to sestavino pobrišemo iz množic kandidatov za vseh ostalih alergene. V gornjem primeru so ribe bodisi v mxmxvkd ali sqjhc. Ker vemo, da mxmxvkd vsebuje mleko, ne more vsebovati tudi rib, torej lahko po prvem koraku, spremenimo slovar kandidatov v\n",
    "\n",
    "```python\n",
    "{'fish': {'sqjhc'}, 'soy': {'fvjkl', 'sqjhc'}}\n",
    "```\n",
    "\n",
    "Zdaj imamo naslednji alergen, za katerega zagotovo vemo, v kateri sestavini je vsebovan. Ponovimo vajo. In ponavljamo jo, dokler ne najdemo vseh parov. "
   ]
  },
  {
   "cell_type": "code",
   "execution_count": 6,
   "metadata": {},
   "outputs": [],
   "source": [
    "assignments = {}\n",
    "while ing_by_all:\n",
    "    allergen, ingredients = min(ing_by_all.items(), key=lambda x: len(x[1]))\n",
    "    assert len(ingredients) == 1\n",
    "\n",
    "    del ing_by_all[allergen]\n",
    "    for candidates in ing_by_all.values():\n",
    "        candidates -= ingredients\n",
    "\n",
    "    ingredient = ingredients.pop()\n",
    "    assignments[ingredient] = allergen"
   ]
  },
  {
   "cell_type": "markdown",
   "metadata": {},
   "source": [
    "V zanki poiščemo par `allergen, ingredients`, ki vsebuje minimalno število sestavin.\n",
    "\n",
    "Vrstica `assert` bo sprožila napako, če število sestavin ni enako 1. Če se to zgodi, vemo, da smo se zmotili pri programiranju ali pa naloga ni tako preprosta, kot smo predpostavili. (Vendar: je.)\n",
    "\n",
    "Iz slovarja nato pobrišemo ta alergen, iz vseh množic kandidatov pa odstranimo to sestavino. Množica `ingredients` ima sicer le en element, torej bi deloval tudi `remove`. Vendar metoda `remove` preverja, ali množica v resnici vsebuje element, ki ga odstranjujemo, in javi napako, če ga ni. Pred `remove` bi zato potrebovali `if`. Odštevanje množic pa deluje tudi, če množica, od katere odštevamo, ne vsebuje vseh teh elementov, torej je za nas tule bolj praktično.\n",
    "\n",
    "Nato iz množice poberemo to sestavino in zabeležimo, da ta sestavina vsebuje ta (in le ta) alergen."
   ]
  },
  {
   "cell_type": "code",
   "execution_count": 7,
   "metadata": {},
   "outputs": [
    {
     "data": {
      "text/plain": [
       "{'mxmxvkd': 'dairy', 'sqjhc': 'fish', 'fvjkl': 'soy'}"
      ]
     },
     "execution_count": 7,
     "metadata": {},
     "output_type": "execute_result"
    }
   ],
   "source": [
    "assignments"
   ]
  },
  {
   "cell_type": "markdown",
   "metadata": {},
   "source": [
    "## Prvi del\n",
    "\n",
    "Sestavimo množico vseh alergenih jedi: to so pač ključi slovarja `assignments`. Da preštejemo pojavitve nealergenih, gremo čez sestavine vse jedi (`for ingredients, _ in food`), za vsako izračunamo množico nealergenih sestavin (`ingredients - allergenic`) ter seštejemo velikosti teh množic."
   ]
  },
  {
   "cell_type": "code",
   "execution_count": 8,
   "metadata": {},
   "outputs": [
    {
     "name": "stdout",
     "output_type": "stream",
     "text": [
      "5\n"
     ]
    }
   ],
   "source": [
    "allergenic = set(assignments)\n",
    "print(sum(len(ingredients - allergenic) for ingredients, _ in food))"
   ]
  },
  {
   "cell_type": "markdown",
   "metadata": {},
   "source": [
    "## Drugi del\n",
    "\n",
    "Izpisati moramo ključe slovarja `assignments`, urejene po abecednem redu pripadajočih vrednosti.\n",
    "\n",
    "Pokličemo torej `sorted(assignments)`, z argumentom `key` pa podamo funkcijo, ki bo vračala ključ, po katerem je potrebno primerjati elemente. Ta ključ pa je kar `assignments.get`, ki za vsak ključ slovarja vrne njegovo vrednost."
   ]
  },
  {
   "cell_type": "code",
   "execution_count": 9,
   "metadata": {},
   "outputs": [
    {
     "name": "stdout",
     "output_type": "stream",
     "text": [
      "mxmxvkd,sqjhc,fvjkl\n"
     ]
    }
   ],
   "source": [
    "print(\",\".join(sorted(assignments, key=assignments.get)))"
   ]
  },
  {
   "cell_type": "markdown",
   "metadata": {},
   "source": [
    "## Vse skupaj"
   ]
  },
  {
   "cell_type": "code",
   "execution_count": 10,
   "metadata": {},
   "outputs": [
    {
     "name": "stdout",
     "output_type": "stream",
     "text": [
      "2075\n",
      "zfcqk,mdtvbb,ggdbl,frpvd,mgczn,zsfzq,kdqls,kktsjbh\n"
     ]
    }
   ],
   "source": [
    "food = [\n",
    "    (set(ingredients.split()), set(allergens.strip(\")\\n\").split(\", \")))\n",
    "    for ingredients, allergens in (\n",
    "        line.split(\" (contains \") for line in open(\"input.txt\")\n",
    "    )\n",
    "]\n",
    "\n",
    "\n",
    "ing_by_all = {}\n",
    "for ingredients, allergens in food:\n",
    "    for allergen in allergens:\n",
    "        if allergen not in ing_by_all:\n",
    "            ing_by_all[allergen] = ingredients.copy()\n",
    "        else:\n",
    "            ing_by_all[allergen] &= ingredients\n",
    "\n",
    "\n",
    "assignments = {}\n",
    "while ing_by_all:\n",
    "    allergen, ingredients = min(ing_by_all.items(), key=lambda x: len(x[1]))\n",
    "    assert len(ingredients) == 1\n",
    "\n",
    "    del ing_by_all[allergen]\n",
    "    for candidates in ing_by_all.values():\n",
    "        candidates -= ingredients\n",
    "\n",
    "    ingredient = ingredients.pop()\n",
    "    assignments[ingredient] = allergen\n",
    "\n",
    "    \n",
    "allergenic = set(assignments)\n",
    "print(sum(len(ingredients - allergenic) for ingredients, _ in food))\n",
    "\n",
    "print(\",\".join(sorted(assignments, key=assignments.get)))"
   ]
  }
 ],
 "metadata": {
  "kernelspec": {
   "display_name": "Python 3",
   "language": "python",
   "name": "python3"
  },
  "language_info": {
   "codemirror_mode": {
    "name": "ipython",
    "version": 3
   },
   "file_extension": ".py",
   "mimetype": "text/x-python",
   "name": "python",
   "nbconvert_exporter": "python",
   "pygments_lexer": "ipython3",
   "version": "3.7.4"
  }
 },
 "nbformat": 4,
 "nbformat_minor": 4
}
