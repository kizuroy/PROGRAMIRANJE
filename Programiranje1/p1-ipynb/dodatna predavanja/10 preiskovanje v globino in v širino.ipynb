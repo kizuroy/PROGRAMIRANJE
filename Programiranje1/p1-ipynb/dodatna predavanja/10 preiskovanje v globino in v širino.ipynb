{
 "cells": [
  {
   "cell_type": "markdown",
   "metadata": {},
   "source": [
    "# Preiskovanje v globino in v širino\n",
    "\n",
    "Recimo, da imamo rodbino, takšno kot v rednem delu predavanj."
   ]
  },
  {
   "cell_type": "code",
   "execution_count": 1,
   "metadata": {},
   "outputs": [],
   "source": [
    "otroci = {\n",
    "    \"Adam\": [\"Matjaž\", \"Cilka\", \"Daniel\"],\n",
    "    \"Aleksander\": [],\n",
    "    \"Alenka\": [],\n",
    "    \"Barbara\": [],\n",
    "    \"Cilka\": [],\n",
    "    \"Daniel\": [\"Elizabeta\", \"Hans\"],\n",
    "    \"Erik\": [],\n",
    "    \"Elizabeta\": [\"Ludvik\", \"Jurij\", \"Barbara\"],\n",
    "    \"Franc\": [],\n",
    "    \"Herman\": [\"Margareta\"],\n",
    "    \"Hans\": [\"Herman\", \"Erik\"],\n",
    "    \"Jožef\": [\"Alenka\", \"Aleksander\", \"Petra\"],\n",
    "    \"Jurij\": [\"Franc\", \"Jožef\"],\n",
    "    \"Ludvik\": [],\n",
    "    \"Margareta\": [],\n",
    "    \"Matjaž\": [\"Viljem\"],\n",
    "    \"Petra\": [],\n",
    "    \"Tadeja\": [],\n",
    "    \"Viljem\": [\"Tadeja\"],\n",
    "}"
   ]
  },
  {
   "cell_type": "markdown",
   "metadata": {},
   "source": [
    "<img src=\"data:image/.png;base64,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\"/>"
   ]
  },
  {
   "cell_type": "markdown",
   "metadata": {},
   "source": [
    "Recimo, da hočemo izpisati vsa imena v rodbini določenega človeka. In to brez rekurzije.\n",
    "\n",
    "### V globino\n",
    "\n",
    "Pomagamo si s seznamom `izpisati`, v katerem beležimo vse, ki jih je potrebno še pregledati. V vsakem koraku zanke vzamemo iz seznama naslednjo osebo, jo izpišemo, v seznam teh, ki jih je potrebno še pregledati, pa dodamo vse njegove otroke. To počnemo, dokler na pregled ne čaka nihče več."
   ]
  },
  {
   "cell_type": "code",
   "execution_count": 2,
   "metadata": {},
   "outputs": [],
   "source": [
    "pregledati = [\"Adam\"]\n",
    "while pregledati:\n",
    "    oseba = pregledati.pop()\n",
    "    pregledati += otroci[oseba]\n",
    "    print(oseba)"
   ]
  },
  {
   "cell_type": "markdown",
   "metadata": {},
   "source": [
    "V kakšnem vrstnem redu se je izpisala rodbina? Nekako od zgoraj in z desne. Kar sledite imenom po drevesu.\n",
    "\n",
    "Kaj se dogaja, bomo najlepše videli, če poleg osebe izpisujemo še, kaj je potrebno pregledati."
   ]
  },
  {
   "cell_type": "code",
   "execution_count": 3,
   "metadata": {},
   "outputs": [],
   "source": [
    "pregledati = [\"Adam\"]\n",
    "while pregledati:\n",
    "    oseba = pregledati.pop()\n",
    "    pregledati += otroci[oseba]\n",
    "    print(oseba, pregledati)"
   ]
  },
  {
   "cell_type": "markdown",
   "metadata": {},
   "source": [
    "- Ko izpišemo Adama, si zabeležimo, da je potrebno pregledati pe njegove otroke.\n",
    "- Nato vzamemo zadnji element seznama, torej Adamovega zadnjega otroka, Daniela. Izpišemo ga in dodamo vse njegove otroke.\n",
    "- Vzamemo zadnji element seznama, torej zadnjega Danielovega otroka. Izpišemo ga in dodamo njegove otroke. (Samo, da jih slučajno nima.)\n",
    "\n",
    "In to je to: Adamovi preostali otroci bodo prišli na vrsto šele, ko bomo izpisali vse Danielovi. Danielovi preostali otroci bodo prišli na vrsto šele, ko bomo izpisali vse Hansove ...\n",
    "\n",
    "Program se torej zapodi v globino: dokler je opravi z desno polovico drevesa, se ne bo lotil leve.\n",
    "\n",
    "Ta vrstni red je malo hecen, boljše bi ilo iti leve proti desni. To lahko dosežemo tako, da otroke dodajamo v obratnem vrstnem redu."
   ]
  },
  {
   "cell_type": "code",
   "execution_count": 4,
   "metadata": {},
   "outputs": [],
   "source": [
    "izpisati = [\"Adam\"]\n",
    "while izpisati:\n",
    "    oseba = izpisati.pop()\n",
    "    print(oseba)\n",
    "    izpisati += otroci[oseba][::-1]"
   ]
  },
  {
   "cell_type": "markdown",
   "metadata": {},
   "source": [
    "### Po nivojih\n",
    "\n",
    "Kaj pa če bi hoteli izpisovati drevo po nivojih? Najprej Adama, nato vse njegove otroke, nato otroke njegovih otrok in tako navzdol?\n",
    "\n",
    "Gornji program deluje tako, da tisti, ki je prišel kasneje, pride na vrsto prej: nove osebe zlagamo na konec seznama in vsako naslednjo osebo s `pop` poberemo s konca seznama. Če jih hočemo izpisovati po vrsti, jih moramo po vrsti tudi jemati: kdor prej pride v seznam, pride tudi prej na vrsto.\n",
    "\n",
    "To bomo dosegli tako, da bomo namesto `pop()` poklicali `pop(0)`."
   ]
  },
  {
   "cell_type": "code",
   "execution_count": 5,
   "metadata": {},
   "outputs": [],
   "source": [
    "izpisati = [\"Adam\"]\n",
    "while izpisati:\n",
    "    oseba = izpisati.pop(0)\n",
    "    print(oseba)\n",
    "    izpisati += otroci[oseba]"
   ]
  },
  {
   "cell_type": "markdown",
   "metadata": {},
   "source": [
    "V prvem primeru rečemo, da smo drevo preiskovali v globino, v drugem v širino.\n",
    "\n",
    "V prvem primeru je `izpisati` predstavljal sklad (`stack`). Sklad je podatkovna struktura, iz katere jemljemo v obratnem vrstnem redu od dodajanja. Ime je dobil po tem, da tudi takrat, ko zlagamo neke stvari eno na drugo (recimo krožnike, knjige...), najprej vzamemo s kupa tisto stvar, ki smo jo dodali zadnjo.\n",
    "\n",
    "V drugem primeru `izpisati` uporabljamo kot vrsto (`queue`). Kdor prej pride, prej melje.\n",
    "\n",
    "Manjši problem vrste, če jo uporabljamo na ta način in v Pythonu, je, da je `pop(0)` počasen, ker mora premakniti vse elemente vrste za eno mesto. Hitrejši način je, da pustimo elemente vrste pri miru."
   ]
  },
  {
   "cell_type": "code",
   "execution_count": 6,
   "metadata": {},
   "outputs": [],
   "source": [
    "izpisati = [\"Adam\"]\n",
    "\n",
    "i = 0\n",
    "while i < len(izpisati):\n",
    "    oseba = izpisati[i]\n",
    "    izpisati += otroci[oseba]\n",
    "    print(oseba)\n",
    "    i += 1"
   ]
  },
  {
   "cell_type": "markdown",
   "metadata": {},
   "source": [
    "V Pythonu lahko za to pravzaprav uporabimo kar zanko `for`. Če jo spustimo prek seznama, ki ga znotraj zanke dopolnjujemo, bo tekla tudi čez dodane elemente."
   ]
  },
  {
   "cell_type": "code",
   "execution_count": 7,
   "metadata": {},
   "outputs": [],
   "source": [
    "izpisati = [\"Adam\"]\n",
    "\n",
    "for oseba in izpisati:\n",
    "    izpisati += otroci[oseba]\n",
    "    print(oseba)"
   ]
  },
  {
   "cell_type": "markdown",
   "metadata": {},
   "source": [
    "### Rekurzija?\n",
    "\n",
    "Z rekurzijo bomo skoraj vedno iskali v globino. Običajna rekurzivna rešitev,"
   ]
  },
  {
   "cell_type": "code",
   "execution_count": 8,
   "metadata": {},
   "outputs": [
    {
     "name": "stdout",
     "output_type": "stream",
     "text": [
      "Adam\n",
      "Matjaž\n",
      "Viljem\n",
      "Tadeja\n",
      "Cilka\n",
      "Daniel\n",
      "Elizabeta\n",
      "Ludvik\n",
      "Jurij\n",
      "Franc\n",
      "Jožef\n",
      "Alenka\n",
      "Aleksander\n",
      "Petra\n",
      "Barbara\n",
      "Hans\n",
      "Herman\n",
      "Margareta\n",
      "Erik\n"
     ]
    }
   ],
   "source": [
    "def izpisi(oseba):\n",
    "    print(oseba)\n",
    "    for otrok in otroci[oseba]:\n",
    "        izpisi(otrok)\n",
    "        \n",
    "izpisi(\"Adam\")"
   ]
  },
  {
   "cell_type": "markdown",
   "metadata": {},
   "source": [
    "dela praktično isto kot naša različica s skladom (tudi vrstni red je enak kot pri programu, v katerem smo vstavljali otroke v obratnem vrstnem redu). Rekurzija torej praktično vedno išče v globino. Iskanje v širino je z rekurzijo precej zoprno narediti.\n",
    "\n",
    "## Iskanje poti\n",
    "\n",
    "Zdaj pa podobna, a malo drugačna naloga: namesto rodbine imamo poznanstva. Za vsako osebo vemo, koga pozna."
   ]
  },
  {
   "cell_type": "code",
   "execution_count": 9,
   "metadata": {},
   "outputs": [],
   "source": [
    "znanci = {\n",
    "    \"Ana\": {\"Cilka\", \"Dani\", \"Micka\"},\n",
    "    \"Berta\": {\"Ema\", \"Nina\", \"Helga\"},\n",
    "    \"Cilka\": {\"Ana\", \"Micka\", \"Klara\"},\n",
    "    \"Dani\": {\"Ana\", \"Greta\"},\n",
    "    \"Ema\": {\"Nina\", \"Berta\"},\n",
    "    \"Fanči\": {\"Greta\", \"Liza\"},\n",
    "    \"Greta\": {\"Dani\", \"Fanči\"},\n",
    "    \"Helga\": {\"Berta\", \"Iva\"},\n",
    "    \"Iva\": {\"Nina\", \"Helga\"},\n",
    "    \"Jana\": {\"Klara\", \"Liza\"},\n",
    "    \"Klara\": {\"Cilka\", \"Liza\", \"Jana\"},\n",
    "    \"Liza\": {\"Fanči\", \"Micka\", \"Jana\"},\n",
    "    \"Micka\": {\"Ana\", \"Cilka\", \"Liza\"},\n",
    "    \"Nina\": {\"Ema\", \"Berta\", \"Iva\"}\n",
    "}"
   ]
  },
  {
   "cell_type": "markdown",
   "metadata": {},
   "source": [
    "<img src=\"data:image/.png;base64,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\"/>"
   ]
  },
  {
   "cell_type": "markdown",
   "metadata": {},
   "source": [
    "Napisati želimo funkcijo, ki ji podamo dve osebi, in pove, ali obstaja veriga poznanstev med njima. Tako obstaja veriga od Ane do Jane, od Ane do Nine pa ne."
   ]
  },
  {
   "cell_type": "code",
   "execution_count": 21,
   "metadata": {},
   "outputs": [
    {
     "ename": "RecursionError",
     "evalue": "maximum recursion depth exceeded in comparison",
     "output_type": "error",
     "traceback": [
      "\u001b[0;31m---------------------------------------------------------------------------\u001b[0m",
      "\u001b[0;31mRecursionError\u001b[0m                            Traceback (most recent call last)",
      "\u001b[0;32m<ipython-input-21-6512c1247c55>\u001b[0m in \u001b[0;36m<module>\u001b[0;34m\u001b[0m\n\u001b[1;32m      7\u001b[0m     \u001b[0;32mreturn\u001b[0m \u001b[0;32mFalse\u001b[0m\u001b[0;34m\u001b[0m\u001b[0;34m\u001b[0m\u001b[0m\n\u001b[1;32m      8\u001b[0m \u001b[0;34m\u001b[0m\u001b[0m\n\u001b[0;32m----> 9\u001b[0;31m \u001b[0mpozna\u001b[0m\u001b[0;34m(\u001b[0m\u001b[0;34m\"Ana\"\u001b[0m\u001b[0;34m,\u001b[0m \u001b[0;34m\"Greta\"\u001b[0m\u001b[0;34m)\u001b[0m\u001b[0;34m\u001b[0m\u001b[0;34m\u001b[0m\u001b[0m\n\u001b[0m",
      "\u001b[0;32m<ipython-input-21-6512c1247c55>\u001b[0m in \u001b[0;36mpozna\u001b[0;34m(oseba1, oseba2)\u001b[0m\n\u001b[1;32m      3\u001b[0m         \u001b[0;32mreturn\u001b[0m \u001b[0;32mTrue\u001b[0m\u001b[0;34m\u001b[0m\u001b[0;34m\u001b[0m\u001b[0m\n\u001b[1;32m      4\u001b[0m     \u001b[0;32mfor\u001b[0m \u001b[0mznanec\u001b[0m \u001b[0;32min\u001b[0m \u001b[0mznanci\u001b[0m\u001b[0;34m[\u001b[0m\u001b[0moseba1\u001b[0m\u001b[0;34m]\u001b[0m\u001b[0;34m:\u001b[0m\u001b[0;34m\u001b[0m\u001b[0;34m\u001b[0m\u001b[0m\n\u001b[0;32m----> 5\u001b[0;31m         \u001b[0;32mif\u001b[0m \u001b[0mpozna\u001b[0m\u001b[0;34m(\u001b[0m\u001b[0mznanec\u001b[0m\u001b[0;34m,\u001b[0m \u001b[0moseba2\u001b[0m\u001b[0;34m)\u001b[0m\u001b[0;34m:\u001b[0m\u001b[0;34m\u001b[0m\u001b[0;34m\u001b[0m\u001b[0m\n\u001b[0m\u001b[1;32m      6\u001b[0m             \u001b[0;32mreturn\u001b[0m \u001b[0;32mTrue\u001b[0m\u001b[0;34m\u001b[0m\u001b[0;34m\u001b[0m\u001b[0m\n\u001b[1;32m      7\u001b[0m     \u001b[0;32mreturn\u001b[0m \u001b[0;32mFalse\u001b[0m\u001b[0;34m\u001b[0m\u001b[0;34m\u001b[0m\u001b[0m\n",
      "... last 1 frames repeated, from the frame below ...\n",
      "\u001b[0;32m<ipython-input-21-6512c1247c55>\u001b[0m in \u001b[0;36mpozna\u001b[0;34m(oseba1, oseba2)\u001b[0m\n\u001b[1;32m      3\u001b[0m         \u001b[0;32mreturn\u001b[0m \u001b[0;32mTrue\u001b[0m\u001b[0;34m\u001b[0m\u001b[0;34m\u001b[0m\u001b[0m\n\u001b[1;32m      4\u001b[0m     \u001b[0;32mfor\u001b[0m \u001b[0mznanec\u001b[0m \u001b[0;32min\u001b[0m \u001b[0mznanci\u001b[0m\u001b[0;34m[\u001b[0m\u001b[0moseba1\u001b[0m\u001b[0;34m]\u001b[0m\u001b[0;34m:\u001b[0m\u001b[0;34m\u001b[0m\u001b[0;34m\u001b[0m\u001b[0m\n\u001b[0;32m----> 5\u001b[0;31m         \u001b[0;32mif\u001b[0m \u001b[0mpozna\u001b[0m\u001b[0;34m(\u001b[0m\u001b[0mznanec\u001b[0m\u001b[0;34m,\u001b[0m \u001b[0moseba2\u001b[0m\u001b[0;34m)\u001b[0m\u001b[0;34m:\u001b[0m\u001b[0;34m\u001b[0m\u001b[0;34m\u001b[0m\u001b[0m\n\u001b[0m\u001b[1;32m      6\u001b[0m             \u001b[0;32mreturn\u001b[0m \u001b[0;32mTrue\u001b[0m\u001b[0;34m\u001b[0m\u001b[0;34m\u001b[0m\u001b[0m\n\u001b[1;32m      7\u001b[0m     \u001b[0;32mreturn\u001b[0m \u001b[0;32mFalse\u001b[0m\u001b[0;34m\u001b[0m\u001b[0;34m\u001b[0m\u001b[0m\n",
      "\u001b[0;31mRecursionError\u001b[0m: maximum recursion depth exceeded in comparison"
     ]
    }
   ],
   "source": [
    "def pozna(oseba1, oseba2):\n",
    "    if oseba1 == oseba2:\n",
    "        return True\n",
    "    for znanec in znanci[oseba1]:\n",
    "        if pozna(znanec, oseba2):\n",
    "            return True\n",
    "    return False\n",
    "\n",
    "pozna(\"Ana\", \"Greta\")"
   ]
  },
  {
   "cell_type": "markdown",
   "metadata": {},
   "source": [
    "Ta funkcija je v bistvu enaka funkciji, s katero smo iskali, ali v rodbini določene osebe obstaja določena druga oseba. Le da je tam delovala - tu pa ne. Zacikla se. Ana pozna Cilko, Cilka pozna Micko, Micka Ano in tako naprej. Lahko se zgodi, da slučajno pririne ravno do iskane osebe. Večinoma pa se zaključi, ko je rekurzija globoka 1000 nivojev in Python oceni, da je nekaj narobe.\n",
    "\n",
    "Reč poflikamo tako, da beležimo pot, po kateri smo prehodili, in prepovedujemo ponovno pregledovati osebe, ki so že na poti."
   ]
  },
  {
   "cell_type": "code",
   "execution_count": 11,
   "metadata": {},
   "outputs": [],
   "source": [
    "def pozna(oseba1, oseba2, pot=()):\n",
    "    pot += (oseba1, )\n",
    "    if oseba1 == oseba2:\n",
    "        return pot\n",
    "    for znanec in znanci[oseba1]:\n",
    "        if znanec not in pot:\n",
    "            pot_do = pozna(znanec, oseba2, pot)\n",
    "            if pot_do:\n",
    "                return pot_do\n",
    "    return None"
   ]
  },
  {
   "cell_type": "markdown",
   "metadata": {},
   "source": [
    "Mimogrede smo to pot zapisali kot terko in jo vrnemo kot rezultat funkcije. Tako ne vemo le, ali obstaja povezava med določenim parom oseb, temveč tudi, prek katerih oseb teče."
   ]
  },
  {
   "cell_type": "code",
   "execution_count": 12,
   "metadata": {},
   "outputs": [
    {
     "data": {
      "text/plain": [
       "('Ana', 'Micka', 'Liza', 'Jana')"
      ]
     },
     "execution_count": 12,
     "metadata": {},
     "output_type": "execute_result"
    }
   ],
   "source": [
    "pozna(\"Ana\", \"Jana\")"
   ]
  },
  {
   "cell_type": "code",
   "execution_count": 13,
   "metadata": {},
   "outputs": [
    {
     "data": {
      "text/plain": [
       "('Ana', 'Micka', 'Liza', 'Fanči', 'Greta')"
      ]
     },
     "execution_count": 13,
     "metadata": {},
     "output_type": "execute_result"
    }
   ],
   "source": [
    "pozna(\"Ana\", \"Greta\")"
   ]
  },
  {
   "cell_type": "markdown",
   "metadata": {},
   "source": [
    "To deluje, le pot, ki jo vrne, ni nujno najkrajša. Zakaj? No, zato, ker se zato niti nismo trudili.\n",
    "\n",
    "Če hočemo najkrajšo pot, moramo iskati v širino. Najprej moramo preiskati znance prve osebe, nato znance teh znancev ... Tako kot smo prejle delali v rodbinskem drevesu."
   ]
  },
  {
   "cell_type": "code",
   "execution_count": 14,
   "metadata": {},
   "outputs": [],
   "source": [
    "def pozna(oseba1, oseba2):\n",
    "    preiskati = [oseba1]\n",
    "    for oseba in preiskati:\n",
    "        if oseba == oseba2:\n",
    "            return True\n",
    "        for znanec in znanci[oseba]:\n",
    "            if znanec not in preiskati:\n",
    "                preiskati.append(znanec)\n",
    "    return False"
   ]
  },
  {
   "cell_type": "code",
   "execution_count": 15,
   "metadata": {},
   "outputs": [
    {
     "data": {
      "text/plain": [
       "True"
      ]
     },
     "execution_count": 15,
     "metadata": {},
     "output_type": "execute_result"
    }
   ],
   "source": [
    "pozna(\"Ana\", \"Jana\")"
   ]
  },
  {
   "cell_type": "code",
   "execution_count": 16,
   "metadata": {},
   "outputs": [
    {
     "data": {
      "text/plain": [
       "False"
      ]
     },
     "execution_count": 16,
     "metadata": {},
     "output_type": "execute_result"
    }
   ],
   "source": [
    "pozna(\"Ana\", \"Nina\")"
   ]
  },
  {
   "cell_type": "markdown",
   "metadata": {},
   "source": [
    "Osnovna razlika med to rešitvijo in prejšnjo, rekurzivno, je v tem, da rekurzivna vsakega znanca preišče takoj, ta pa ga doda v vrsto, tako da bodo prej na vrsti tisti, ki so tudi prej prišli.\n",
    "\n",
    "Vendar ta funkcija pove le, ali med dvema osebama obstaja pot ali ne, ne vrne pa poti. Lotili pa smo se je prav zato, da bi izvedeli najkrajšo pot.\n",
    "\n",
    "Do poti bomo prišli tako, da si za vsako osebo zapomnimo, od katere osebe smo prišli do nje. Ko pridemo do ciljne osebe, potem prehodimo pot nazaj."
   ]
  },
  {
   "cell_type": "code",
   "execution_count": 17,
   "metadata": {},
   "outputs": [],
   "source": [
    "def pozna(oseba1, oseba2):\n",
    "    preiskati = [oseba1]\n",
    "    pot_do = {}\n",
    "    for oseba in preiskati:\n",
    "        if oseba == oseba2:\n",
    "            break\n",
    "        for znanec in znanci[oseba]:\n",
    "            if znanec not in pot_do:\n",
    "                pot_do[znanec] = oseba  # osebo `oseba` prvič srečamo med znanci `znanec`\n",
    "                preiskati.append(znanec)\n",
    "    else:\n",
    "        return None  # znotraj zanke se ni zgodil break -> oseba2 ni dosegljiva\n",
    "        \n",
    "    pot = [oseba2]  # ritensko sestavljamo pot; prva je oseba2\n",
    "    while pot[-1] != oseba1:  # če na koncu seznama še ni oseba1\n",
    "        pot.append(pot_do[pot[-1]])  # dodamo osebo, od katere smo prišli do zadnje v seznamu\n",
    "    return pot[::-1]  # in potem vrnemo ta seznam, obrnjen nazaj"
   ]
  },
  {
   "cell_type": "code",
   "execution_count": 18,
   "metadata": {},
   "outputs": [
    {
     "data": {
      "text/plain": [
       "['Ana', 'Micka', 'Liza', 'Jana']"
      ]
     },
     "execution_count": 18,
     "metadata": {},
     "output_type": "execute_result"
    }
   ],
   "source": [
    "pozna(\"Ana\", \"Jana\")"
   ]
  },
  {
   "cell_type": "code",
   "execution_count": 19,
   "metadata": {},
   "outputs": [
    {
     "data": {
      "text/plain": [
       "['Ana', 'Dani', 'Greta']"
      ]
     },
     "execution_count": 19,
     "metadata": {},
     "output_type": "execute_result"
    }
   ],
   "source": [
    "pozna(\"Ana\", \"Greta\")"
   ]
  },
  {
   "cell_type": "markdown",
   "metadata": {},
   "source": [
    "Odtod nismo več daleč od Dijsktrovega algoritma za iskanje najkrajših poti. Vendar s tem počakajte do drugega letnika."
   ]
  }
 ],
 "metadata": {
  "kernelspec": {
   "display_name": "Python 3",
   "language": "python",
   "name": "python3"
  },
  "language_info": {
   "codemirror_mode": {
    "name": "ipython",
    "version": 3
   },
   "file_extension": ".py",
   "mimetype": "text/x-python",
   "name": "python",
   "nbconvert_exporter": "python",
   "pygments_lexer": "ipython3",
   "version": "3.7.4"
  }
 },
 "nbformat": 4,
 "nbformat_minor": 4
}
