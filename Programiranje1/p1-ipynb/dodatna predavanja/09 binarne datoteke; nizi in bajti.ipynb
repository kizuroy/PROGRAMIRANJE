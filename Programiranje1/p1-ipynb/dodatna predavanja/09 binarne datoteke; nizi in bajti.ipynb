{
 "cells": [
  {
   "cell_type": "markdown",
   "metadata": {},
   "source": [
    "## Binarne datoteke - in nizi bajtov\n",
    "\n",
    "Obstajajo datoteke, ki niso besedilne. Očiten primer so datoteke, ki shranjujejo slike, zvok ali filme. Manj očiten primer je datoteka z Wordovim dokumentom, ki sicer vsebuje besedilo, vendar gre v resnici za zip (če .docx preimenujete v .zip, ga v resnici lahko odzipate). Vsebine teh datotek torej ne moremo brati kot besedilo - torej kot številke, ki pomenijo znake - temveč le kot številke.\n",
    "\n",
    "Odprimo datoteko .gif in jo preberimo v niz."
   ]
  },
  {
   "cell_type": "code",
   "execution_count": 1,
   "metadata": {},
   "outputs": [
    {
     "data": {
      "text/plain": [
       "b'GIF87aj\\x00\\xd6\\x00\\xd5\\x00\\x00\\x00\\x00\\x00\\xb4$\\x00\\xb4$U\\xd8$\\x00\\xd8$U\\xb4H'"
      ]
     },
     "execution_count": 1,
     "metadata": {},
     "output_type": "execute_result"
    }
   ],
   "source": [
    "gif = open(\"kocka.gif\", \"rb\")\n",
    "s = gif.read()\n",
    "s[:30]"
   ]
  },
  {
   "cell_type": "markdown",
   "metadata": {},
   "source": [
    "Da gre za binarno datoteko, smo povedali tako, da smo kot drugi argument podali `\"rb\"`: `r` za branje in `b` za binarno. Tako kot prej smo z `read()` prebrali celotno datoteko, le da smo zdaj previdno izpisali le prvih 30 znakov.\n",
    "\n",
    "Kar smo dobili, je videti kot niz; začne se s črkami GIF89a, sledijo pa znaki z nekimi čudnimi kodami; ker so izven običajnega obsega ASCII (32-127), je Python izpisal njihove kode. Prvi trije za GIF89a imajo kot 233, 0 in 199, zato jih je, po šestnajstiško, izpisal kot `\\x01`, `\\x04` in `\\xe5`.\n",
    "\n",
    "V resnici pa ne gre za čisto pravi niz - sumljiv je tisti `b` pred začetnim narekovajem. Gre za nov podatkovni tip: imenuje se `bytes`. Navzven je zelo zelo podoben nizu; ne le, da se podobno izpisuje, temveč ima tudi običajne metode nizov, kot so `strip`, `find` in `join`. Razlikuje se v par podrobnostih.\n",
    "\n",
    "Če želimo dobiti prvi, tretji, osemnajsti... znak tega \"niza\", ne dobimo črke, temveč številko."
   ]
  },
  {
   "cell_type": "code",
   "execution_count": 2,
   "metadata": {},
   "outputs": [
    {
     "data": {
      "text/plain": [
       "71"
      ]
     },
     "execution_count": 2,
     "metadata": {},
     "output_type": "execute_result"
    }
   ],
   "source": [
    "s[0]"
   ]
  },
  {
   "cell_type": "code",
   "execution_count": 3,
   "metadata": {},
   "outputs": [
    {
     "data": {
      "text/plain": [
       "73"
      ]
     },
     "execution_count": 3,
     "metadata": {},
     "output_type": "execute_result"
    }
   ],
   "source": [
    "s[1]"
   ]
  },
  {
   "cell_type": "code",
   "execution_count": 4,
   "metadata": {},
   "outputs": [
    {
     "data": {
      "text/plain": [
       "70"
      ]
     },
     "execution_count": 4,
     "metadata": {},
     "output_type": "execute_result"
    }
   ],
   "source": [
    "s[2]"
   ]
  },
  {
   "cell_type": "code",
   "execution_count": 5,
   "metadata": {},
   "outputs": [
    {
     "data": {
      "text/plain": [
       "106"
      ]
     },
     "execution_count": 5,
     "metadata": {},
     "output_type": "execute_result"
    }
   ],
   "source": [
    "s[6]"
   ]
  },
  {
   "cell_type": "code",
   "execution_count": 6,
   "metadata": {},
   "outputs": [
    {
     "data": {
      "text/plain": [
       "214"
      ]
     },
     "execution_count": 6,
     "metadata": {},
     "output_type": "execute_result"
    }
   ],
   "source": [
    "s[8]"
   ]
  },
  {
   "cell_type": "markdown",
   "metadata": {},
   "source": [
    "Reči tipa `bytes` so torej križanec med seznami in nizi: navzven so videti kot nizi, navznoter pa\n",
    "so - kot nam razodene indeksiranje - pravzaprav seznami 8-bitni števil, torej števil med 0 in 255.\n",
    "\n",
    "Ker so `s[0]`, `s[1]` in `s[2]` številke 71, 73 in 70, ki (po ASCII) ustrezajo znakom G, I in F,\n",
    "jih je Python izpisal kot G, I in F. Tisto, kar ni podobno ničemur, je izpisal z onimi `\\x`.\n",
    "\n",
    "Mimogrede, gif, ki smo ga naložili, je velik 106x214 točk. Kar je slučajno ravno vsebina `s[6]` in `s[8]`. (Sem rekel, da so `bytes` številke med 0 in 255? GIF pa je lahko tudi večji. Kako je shranjena velikost gifov, večjih od 255 točk, je velika skrivnost, ki jo znajo razriti samo tisti, ki znajo uporabljati Google.)\n",
    "\n",
    "O branju binarnih datotek nimamo povedati kaj prida več. Razen tega, da se je po njih smiselno sprehajati: z metodo `seek` lahko skočimo na poljubno mesto v datoteki, metoda `tell` pa pove, kje v datoteki smo.\n",
    "\n",
    "\n",
    "## Pretvarjanje med `str` in `bytes`\n",
    "\n",
    "Vzemimo niz"
   ]
  },
  {
   "cell_type": "code",
   "execution_count": 7,
   "metadata": {},
   "outputs": [
    {
     "data": {
      "text/plain": [
       "9"
      ]
     },
     "execution_count": 7,
     "metadata": {},
     "output_type": "execute_result"
    }
   ],
   "source": [
    "s = \"Večna pot\"\n",
    "len(s)"
   ]
  },
  {
   "cell_type": "markdown",
   "metadata": {},
   "source": [
    "Če bi ga želeli zapisati v datoteko, bi morali ob odpiranju datoteke povedati, na kakšen način\n",
    "naj ga zakodira (predvsem zaradi č-ja) ali pa pustiti operacijskemu sistemu, da se odloči.\n",
    "\"Zakodirati\" tu pomeni spremeniti v številke. Če torej ob odpiranju datoteke zahtevamo `encoding=\"cp1250\"`, se bo tisti nesrečni `č` zapisal drugače, kot če zahtevamo `encoding=\"utf8\"` (ali nič, kar je v normalnih operacijskih sistemih pri nas isto kot utf-8).\n",
    "\n",
    "Včasih želimo to pretvorbo opraviti sami. Iz niza `s` bomo naredili zaporedje številk, skladno\n",
    "z določenim načinom kodiranja. Kodiranje opravi pa ga metoda `encode`, ki ji kot argument\n",
    "podamo ime kodeka."
   ]
  },
  {
   "cell_type": "code",
   "execution_count": 8,
   "metadata": {},
   "outputs": [
    {
     "data": {
      "text/plain": [
       "b'Ve\\xe8na pot'"
      ]
     },
     "execution_count": 8,
     "metadata": {},
     "output_type": "execute_result"
    }
   ],
   "source": [
    "b = s.encode(\"cp1250\")\n",
    "b"
   ]
  },
  {
   "cell_type": "code",
   "execution_count": 9,
   "metadata": {},
   "outputs": [
    {
     "data": {
      "text/plain": [
       "9"
      ]
     },
     "execution_count": 9,
     "metadata": {},
     "output_type": "execute_result"
    }
   ],
   "source": [
    "len(b)"
   ]
  },
  {
   "cell_type": "code",
   "execution_count": 10,
   "metadata": {},
   "outputs": [
    {
     "data": {
      "text/plain": [
       "232"
      ]
     },
     "execution_count": 10,
     "metadata": {},
     "output_type": "execute_result"
    }
   ],
   "source": [
    "b[2]"
   ]
  },
  {
   "cell_type": "markdown",
   "metadata": {},
   "source": [
    "Še enkrat (tole ni zapleteno, se pa zna zazdeti takšno, če ne bomo pozorno spremljali): nizi\n",
    "(`str`) imajo metodo `encode`, s katero jih spremenimo v zaporedje števil (`bytes`). V gornjem\n",
    "primeru smo iz šestih znakov dobili šest številk. Prva je 86, saj je to koda (ki v cp1250, pa tudi\n",
    "v ASCII) pripada veliki črki V. Druga številka je 232 (`\\xe8`), saj le-ta pripada malemu č - v\n",
    "kodeku cp1250.\n",
    "\n",
    "Če bi poskusili s kakim drugim kodekom, recimo \"cp1252\", se to ne bi obneslo."
   ]
  },
  {
   "cell_type": "code",
   "execution_count": 11,
   "metadata": {},
   "outputs": [
    {
     "ename": "UnicodeEncodeError",
     "evalue": "'charmap' codec can't encode character '\\u010d' in position 2: character maps to <undefined>",
     "output_type": "error",
     "traceback": [
      "\u001b[0;31m---------------------------------------------------------------------------\u001b[0m",
      "\u001b[0;31mUnicodeEncodeError\u001b[0m                        Traceback (most recent call last)",
      "\u001b[0;32m<ipython-input-11-e775bbb4881e>\u001b[0m in \u001b[0;36m<module>\u001b[0;34m\u001b[0m\n\u001b[0;32m----> 1\u001b[0;31m \u001b[0mb\u001b[0m \u001b[0;34m=\u001b[0m \u001b[0ms\u001b[0m\u001b[0;34m.\u001b[0m\u001b[0mencode\u001b[0m\u001b[0;34m(\u001b[0m\u001b[0;34m\"cp1252\"\u001b[0m\u001b[0;34m)\u001b[0m\u001b[0;34m\u001b[0m\u001b[0;34m\u001b[0m\u001b[0m\n\u001b[0m",
      "\u001b[0;32m~/miniconda3/envs/prog/lib/python3.7/encodings/cp1252.py\u001b[0m in \u001b[0;36mencode\u001b[0;34m(self, input, errors)\u001b[0m\n\u001b[1;32m     10\u001b[0m \u001b[0;34m\u001b[0m\u001b[0m\n\u001b[1;32m     11\u001b[0m     \u001b[0;32mdef\u001b[0m \u001b[0mencode\u001b[0m\u001b[0;34m(\u001b[0m\u001b[0mself\u001b[0m\u001b[0;34m,\u001b[0m\u001b[0minput\u001b[0m\u001b[0;34m,\u001b[0m\u001b[0merrors\u001b[0m\u001b[0;34m=\u001b[0m\u001b[0;34m'strict'\u001b[0m\u001b[0;34m)\u001b[0m\u001b[0;34m:\u001b[0m\u001b[0;34m\u001b[0m\u001b[0;34m\u001b[0m\u001b[0m\n\u001b[0;32m---> 12\u001b[0;31m         \u001b[0;32mreturn\u001b[0m \u001b[0mcodecs\u001b[0m\u001b[0;34m.\u001b[0m\u001b[0mcharmap_encode\u001b[0m\u001b[0;34m(\u001b[0m\u001b[0minput\u001b[0m\u001b[0;34m,\u001b[0m\u001b[0merrors\u001b[0m\u001b[0;34m,\u001b[0m\u001b[0mencoding_table\u001b[0m\u001b[0;34m)\u001b[0m\u001b[0;34m\u001b[0m\u001b[0;34m\u001b[0m\u001b[0m\n\u001b[0m\u001b[1;32m     13\u001b[0m \u001b[0;34m\u001b[0m\u001b[0m\n\u001b[1;32m     14\u001b[0m     \u001b[0;32mdef\u001b[0m \u001b[0mdecode\u001b[0m\u001b[0;34m(\u001b[0m\u001b[0mself\u001b[0m\u001b[0;34m,\u001b[0m\u001b[0minput\u001b[0m\u001b[0;34m,\u001b[0m\u001b[0merrors\u001b[0m\u001b[0;34m=\u001b[0m\u001b[0;34m'strict'\u001b[0m\u001b[0;34m)\u001b[0m\u001b[0;34m:\u001b[0m\u001b[0;34m\u001b[0m\u001b[0;34m\u001b[0m\u001b[0m\n",
      "\u001b[0;31mUnicodeEncodeError\u001b[0m: 'charmap' codec can't encode character '\\u010d' in position 2: character maps to <undefined>"
     ]
    }
   ],
   "source": [
    "b = s.encode(\"cp1252\")"
   ]
  },
  {
   "cell_type": "markdown",
   "metadata": {},
   "source": [
    "Črke \"č\" v kodnem razporedu cp1250, ki je namenjen zahodnoevropskim jezikom, ni.\n",
    "\n",
    "Zdaj pa obrnimo. Imamo zaporedje bajtov, `b`. Konkretno, imamo zaporedje števil"
   ]
  },
  {
   "cell_type": "code",
   "execution_count": 12,
   "metadata": {},
   "outputs": [
    {
     "data": {
      "text/plain": [
       "[86, 101, 232, 110, 97, 32, 112, 111, 116]"
      ]
     },
     "execution_count": 12,
     "metadata": {},
     "output_type": "execute_result"
    }
   ],
   "source": [
    "list(b)\n",
    "[86, 101, 232, 110, 97, 32, 112, 111, 116]"
   ]
  },
  {
   "cell_type": "markdown",
   "metadata": {},
   "source": [
    "Če želimo spremeniti `b` v niz, v besedilo, moramo te črke \"dekodirati\". Ob tem moramo povedati,\n",
    "s kakšnim kodekom. Vemo: cp1250."
   ]
  },
  {
   "cell_type": "code",
   "execution_count": 13,
   "metadata": {},
   "outputs": [
    {
     "data": {
      "text/plain": [
       "'Večna pot'"
      ]
     },
     "execution_count": 13,
     "metadata": {},
     "output_type": "execute_result"
    }
   ],
   "source": [
    "b.decode(\"cp1250\")"
   ]
  },
  {
   "cell_type": "markdown",
   "metadata": {},
   "source": [
    "Pa če zgrešimo? Če namesto cp1250 uporabimo cp1252? Tokrat bo delovalo. V bo V in e bo e, saj sta\n",
    "tadva znaka v vseh kodekih na istem mestu (lepo je biti Američan). Kot tretji znak pa bomo namesto\n",
    "č dobili pač tisti znak, ki ima v izbranem kodeku kodo 232."
   ]
  },
  {
   "cell_type": "code",
   "execution_count": 14,
   "metadata": {},
   "outputs": [
    {
     "data": {
      "text/plain": [
       "'Veèna pot'"
      ]
     },
     "execution_count": 14,
     "metadata": {},
     "output_type": "execute_result"
    }
   ],
   "source": [
    "b.decode(\"cp1252\")"
   ]
  },
  {
   "cell_type": "markdown",
   "metadata": {},
   "source": [
    "Znano? Ste že kdaj videli è namesto č? Recimo v podnapisih v VLC? No, zdaj veste, zakaj: zato, ker je nek program dobil besedilo, zapisano v cp1250, mislil pa je, da je v cp1252, zato je kodo 232 prebral kot è in ne kot č.\n",
    "\n",
    "Proti temu se borimo tako, da VLC-ju povemo, katero kodno stran uporabljajo naši podnapisi.\n",
    "\n",
    "<img src=\"data:image/.png;base64,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\"/>\n",
    "\n",
    "Kako pa deluje stran, ki jo pravkar berete? V katerem kodeku je zapisana, da ima tako è-je kot č-je? V UTF-8, v katerem je lahko zapisano vse."
   ]
  },
  {
   "cell_type": "code",
   "execution_count": 15,
   "metadata": {},
   "outputs": [
    {
     "data": {
      "text/plain": [
       "b'Ve\\xc4\\x8dna pot'"
      ]
     },
     "execution_count": 15,
     "metadata": {},
     "output_type": "execute_result"
    }
   ],
   "source": [
    "b = s.encode(\"utf-8\")\n",
    "b"
   ]
  },
  {
   "cell_type": "markdown",
   "metadata": {},
   "source": [
    "Čeprav je besedilo dolgo 9 znakov, je zakodirano z 10 števili."
   ]
  },
  {
   "cell_type": "code",
   "execution_count": 16,
   "metadata": {},
   "outputs": [
    {
     "data": {
      "text/plain": [
       "196"
      ]
     },
     "execution_count": 16,
     "metadata": {},
     "output_type": "execute_result"
    }
   ],
   "source": [
    "b[2]"
   ]
  },
  {
   "cell_type": "code",
   "execution_count": 17,
   "metadata": {},
   "outputs": [
    {
     "data": {
      "text/plain": [
       "141"
      ]
     },
     "execution_count": 17,
     "metadata": {},
     "output_type": "execute_result"
    }
   ],
   "source": [
    "b[3]"
   ]
  },
  {
   "cell_type": "markdown",
   "metadata": {},
   "source": [
    "Znak `č` se zapiše s zaporedjem 196, 141. Če bi malo pobrskali, bi videli, da se `è` zapiše kot 195, 168. `V` pa se zapiše z eno samo številko, 86, tako kot prej. Vsi ASCII znaki so zapisani z enim bajtom, tako kot prej. (Lepo je biti Američan.) [UTF-8](https://en.wikipedia.org/wiki/UTF-8) je premeteno sestavljen zapis.\n",
    "\n",
    "Dekodiranje je seveda takšno kot prej, le z drugim kodekom."
   ]
  },
  {
   "cell_type": "code",
   "execution_count": 18,
   "metadata": {},
   "outputs": [
    {
     "data": {
      "text/plain": [
       "'Večna pot'"
      ]
     },
     "execution_count": 18,
     "metadata": {},
     "output_type": "execute_result"
    }
   ],
   "source": [
    "b.decode(\"utf-8\")"
   ]
  },
  {
   "cell_type": "markdown",
   "metadata": {},
   "source": [
    "Omenimo še en kodek, ki ga vsakodnevno uporabljate: utf-16."
   ]
  },
  {
   "cell_type": "code",
   "execution_count": 19,
   "metadata": {},
   "outputs": [
    {
     "data": {
      "text/plain": [
       "b'V\\x00e\\x00\\r\\x01n\\x00a\\x00 \\x00p\\x00o\\x00t\\x00'"
      ]
     },
     "execution_count": 19,
     "metadata": {},
     "output_type": "execute_result"
    }
   ],
   "source": [
    "b = s.encode(\"utf-16-le\")\n",
    "b"
   ]
  },
  {
   "cell_type": "code",
   "execution_count": 20,
   "metadata": {},
   "outputs": [
    {
     "data": {
      "text/plain": [
       "18"
      ]
     },
     "execution_count": 20,
     "metadata": {},
     "output_type": "execute_result"
    }
   ],
   "source": [
    "len(b)"
   ]
  },
  {
   "cell_type": "markdown",
   "metadata": {},
   "source": [
    "Iz 9 znakov je naredil 18 številk, pri čemer je prva številka vedno enaka koti ASCII (v izpisanem zaporedju lahko preberete V, e, n, a, presledek, p, o in t, druga pa je 0 (`\\x00`). Izjema je \"č\", ki ga je zapisal z zaporedjem 13, 1.\n",
    "\n",
    "Kdaj to vsakodnevno uporabljate? Ko pišete SMSe. Če v njem ni šumnikov, ga zakodira kot ASCII,\n",
    "če so, pa kot UTF-16. Ker ta za vsak znak porabi dve številki, so SMSi s šumniki dvakrat daljši - v en SMS gre samo 72 znakov. No, vsaj včasih je bilo tako. Dandanes pa se vse to dogaja v ozadju in v resnici niti ne vemo, ne koliko so dolgi naši SMS-i, ne koliko smo jih poslali.\n",
    "\n",
    "Sicer pa nisem prepričan, da današnja mladina sploh še ve, kaj je SMS.\n",
    "\n",
    "## Unicode\n",
    "\n",
    "UTF-8 in UTF-16 smo razložili malo na hitro.\n",
    "\n",
    "Celotna zgodba, še vedno na hitro, je takšna. Standard [Unicode](https://en.wikipedia.org/wiki/Unicode) vsakemu znaku predpiše določeno kodo. Možnih kod je 1,111,998. To obilje pokrije vse zahodne in vzhodne jezike, vključno s kitajščino. Vključuje tudi standardizirane emojie. 👍 ima kodo `U+1F44D`. V trenutku pisanja tega besedila obstaja 1367 emojijev v Unicodu. Začasno so dodeljene tudi kode Tolkienovim pisavam. Poskus standardizacije klingonščine je spodletel: \"*The Unicode Technical Committee rejected the Klingon proposal in May 2001 on the grounds that research showed almost no use of the script for communication, and the vast majority of the people who did use Klingon employed the Latin alphabet by preference.*\"\n",
    "\n",
    "Skratka: vsakemu znaku je dodeljena koda. Kako se ta koda uporabi, pa je stvar kodeka. Glede na to, koliko znakov imamo in kako velike so kode, bi bilo najpreprosteje uporabljati UTF-32: vsak znak bi bil zapisan z štirimi bajti, pa smo. Vendar bi bila besedila potem štirikrat daljša. Zaradi Kitajcev in Klingonov. Medtem ko bi si človek še upal reči \"*ko šljivi Kitajce*\", bi bilo \"*ko šljivi Klingone*\" potencialno usodno.\n",
    "\n",
    "[UTF-8](https://en.wikipedia.org/wiki/UTF-8) je zvit način zapisovanja, ki najpogosteje uporabljene znake (evropskih jezikov) zapiše z enim bajtom, manj pogoste z dvema in tako naprej. Kako deluje, izveste na povezavi.\n",
    "\n",
    "Težava z UTF-8 je, da niso vsi znaki enako dolgi. Tako se stoti znak nekega niza ne nahaja nujno na stotem bajtu. Da pridemo do stotega znaka moramo preveriti vse znake do tam. Kar seveda ni sprejemljvo. Zato operacijski sistemi in programski jeziki pogosto interno uporabljajo [UTF-16], ki za vse znake porabi dva bajta. Stoti znak je tako vedno na dvestotem bajtu.\n",
    "\n",
    "Tudi Python, ki ga uporabljamo mi, interno uporablja UTF-16, čeprav se ob pisanju v datoteke in branju iz njih obnaša, kot da bi bilo vse (privzeto) UTF-8."
   ]
  },
  {
   "cell_type": "code",
   "execution_count": null,
   "metadata": {},
   "outputs": [],
   "source": []
  }
 ],
 "metadata": {
  "kernelspec": {
   "display_name": "Python 3 (ipykernel)",
   "language": "python",
   "name": "python3"
  },
  "language_info": {
   "codemirror_mode": {
    "name": "ipython",
    "version": 3
   },
   "file_extension": ".py",
   "mimetype": "text/x-python",
   "name": "python",
   "nbconvert_exporter": "python",
   "pygments_lexer": "ipython3",
   "version": "3.10.0"
  }
 },
 "nbformat": 4,
 "nbformat_minor": 4
}
