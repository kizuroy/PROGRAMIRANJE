{
 "cells": [
  {
   "cell_type": "markdown",
   "metadata": {},
   "source": [
    "# Posebne metode ali Kako delujejo razredi\n",
    "\n",
    "Konstruktor je metoda, ki jo Python pokliče takoj po tem, ko sestavi objekt. Sam od sebe, ne da bi jo morali klicati ročno. Da bi Python vedel, da gre za konstruktor, pa mu moramo dati vnaprej določeno ime `__init__`. Konstruktorja nikoli ne kličemo sami: naša naloga je le, da ga definiramo (če ga razred potrebuje), klical pa ga bo Python.\n",
    "\n",
    "Poleg konstruktorja obstajajo še druge *posebne metode* z vnaprej določenimi imeni, ki se obnašajo ravno tako: mi jih le definiramo, Python pa jih kliče. Te metode razredu dajejo potrebne operatorje in funkcionalnosti.\n",
    "\n",
    "Definirajmo razred `Vector`."
   ]
  },
  {
   "cell_type": "code",
   "execution_count": 1,
   "metadata": {},
   "outputs": [],
   "source": [
    "class Vector:\n",
    "    def __init__(self, *coords):\n",
    "        self.coords = list(coords)"
   ]
  },
  {
   "cell_type": "markdown",
   "metadata": {},
   "source": [
    "Razred deluje s poljubno dimenzionalnimi vektorji. Konstruktor sprejme toliko argumentov, kolikor mu jih damo. Znašli se bodo v terki `coords`, ki jo lepo shranimo v `self.coords`. S\n",
    "tem, ko rečemo `self.coords = list(coords)` poskrbimo, da bo `self.coords` seznam in ne terka. (To nam bo prišlo prav kasneje.)\n",
    "\n",
    "Sestavimo en tak vektor in ga izpišimo."
   ]
  },
  {
   "cell_type": "code",
   "execution_count": 2,
   "metadata": {},
   "outputs": [],
   "source": [
    "v = Vector(3, 4, 1)"
   ]
  },
  {
   "cell_type": "code",
   "execution_count": 3,
   "metadata": {},
   "outputs": [
    {
     "data": {
      "text/plain": [
       "<__main__.Vector at 0x7fd3f3867790>"
      ]
     },
     "execution_count": 3,
     "metadata": {},
     "output_type": "execute_result"
    }
   ],
   "source": [
    "v"
   ]
  },
  {
   "cell_type": "code",
   "execution_count": 4,
   "metadata": {},
   "outputs": [
    {
     "name": "stdout",
     "output_type": "stream",
     "text": [
      "<__main__.Vector object at 0x7fd3f3867790>\n"
     ]
    }
   ],
   "source": [
    "print(v)"
   ]
  },
  {
   "cell_type": "markdown",
   "metadata": {},
   "source": [
    "Hm, `<__main__.Vector at 0x102e29358>`? A ne bi bilo lepše, če bi se vektor izpisal kot, recimo `<3, 4, 1>`? Kako bi prepričali Python, naj sestavi lepši izpis tega vektorja?\n",
    "\n",
    "## Izpis\n",
    "\n",
    "Python v resnici ne sestavlja izpisov. Python reče objektu, naj sestavi primeren izpis samega sebe in ga vrne kot niz. To mu “reče” tako, da pokliče njegovo metodo `__str__`. (Pa če je nima? Ima jo. Vsi razredi so izpeljani iz “prarazreda” `object` in ta ima metodo `__str__`, ki\n",
    "sestavi izpis, ki ga vidimo zgoraj, `<__main__.Vector at 0x102e29358>`, ki je sestavljen iz imena razreda in pomnilniškega naslova, kjer je ta objekt shranjen.)\n",
    "\n",
    "Razredu torej dodajmo metodo `__str__`, ki vrne niz s primerno predstavitvijo tega objekta.\n",
    "\n",
    "Še enkrat: `__str__` ne izpisuje, temveč vrne predstavitev objekta v obliki niza. \"Pretvarja v niz\", če hočete."
   ]
  },
  {
   "cell_type": "code",
   "execution_count": 5,
   "metadata": {},
   "outputs": [],
   "source": [
    "class Vector:\n",
    "    def __init__(self, *coords):\n",
    "        self.coords = list(coords)\n",
    "\n",
    "    def __str__(self):\n",
    "        return f\"<{', '.join(str(coords) for coords in self.coords)}>\""
   ]
  },
  {
   "cell_type": "markdown",
   "metadata": {},
   "source": [
    "Spredaj in zadaj bosta `<` in `>`, vmes pa z vejicami združimo vse številke v `self.coords`."
   ]
  },
  {
   "cell_type": "code",
   "execution_count": 6,
   "metadata": {},
   "outputs": [
    {
     "name": "stdout",
     "output_type": "stream",
     "text": [
      "<__main__.Vector object at 0x7fd3f3867790>\n"
     ]
    }
   ],
   "source": [
    "print(v)"
   ]
  },
  {
   "cell_type": "markdown",
   "metadata": {},
   "source": [
    "Isto?\n",
    "\n",
    "Seveda. Razredi so dinamične zadeve. Tule smo definirali nov razred `Vector`, `v` pa je še vedno primerek starega razreda. Če hočemo tak objekt `Vector`, ki se bo znal tudi izpisovati, ga bo potrebno sestaviti na novo."
   ]
  },
  {
   "cell_type": "code",
   "execution_count": 7,
   "metadata": {},
   "outputs": [
    {
     "name": "stdout",
     "output_type": "stream",
     "text": [
      "<3, 4, 1>\n"
     ]
    }
   ],
   "source": [
    "v = Vector(3, 4, 1)\n",
    "\n",
    "print(v)"
   ]
  },
  {
   "cell_type": "markdown",
   "metadata": {},
   "source": [
    "Še vedno. Kaj pa brez `print`?"
   ]
  },
  {
   "cell_type": "code",
   "execution_count": 8,
   "metadata": {},
   "outputs": [
    {
     "data": {
      "text/plain": [
       "<__main__.Vector at 0x7fd3f386ac10>"
      ]
     },
     "execution_count": 8,
     "metadata": {},
     "output_type": "execute_result"
    }
   ],
   "source": [
    "v"
   ]
  },
  {
   "cell_type": "markdown",
   "metadata": {},
   "source": [
    "Tu gre za dva različna opisa objektov. Izpis s `print` pokaže \"prijazno predstavitev\". Izpis brez `print`-a (ki ga vidimo predvsem v ukazni vrstici) pa pokaže predstavitev, ki je, če se da, v takšni obliki, da bi jo lahko le skopirali nazaj v ukazno vrstico in dobili nov takšen objekt. \n",
    "\n",
    "To se najbolj vidi pri nizih."
   ]
  },
  {
   "cell_type": "code",
   "execution_count": 9,
   "metadata": {},
   "outputs": [],
   "source": [
    "s = \"Benjamin\""
   ]
  },
  {
   "cell_type": "code",
   "execution_count": 10,
   "metadata": {},
   "outputs": [
    {
     "name": "stdout",
     "output_type": "stream",
     "text": [
      "Benjamin\n"
     ]
    }
   ],
   "source": [
    "print(s)"
   ]
  },
  {
   "cell_type": "code",
   "execution_count": 11,
   "metadata": {},
   "outputs": [
    {
     "data": {
      "text/plain": [
       "'Benjamin'"
      ]
     },
     "execution_count": 11,
     "metadata": {},
     "output_type": "execute_result"
    }
   ],
   "source": [
    "s"
   ]
  },
  {
   "cell_type": "markdown",
   "metadata": {},
   "source": [
    "S `print` izpišemo niz, brez tega pa dobimo niz z narekovaji - tako, da bi lahko točno to besedilo skopirali nazaj v izraz, recimo, `ime = ...`.\n",
    "\n",
    "Izpisa gresta prek različnih metod. `print` gre prek `__str__`, izpis v ukazno vrstico pa predk `__repr__`.\n",
    "\n",
    "Pa naredimo podobno še z vektorjem. Metoda, ki jo Python pokliče, ko\n",
    "hoče izpisati objekt na ta način, je `__repr__` (*represent*)."
   ]
  },
  {
   "cell_type": "code",
   "execution_count": 12,
   "metadata": {},
   "outputs": [],
   "source": [
    "class Vector:\n",
    "    def __init__(self, *coords):\n",
    "        self.coords = list(coords)\n",
    "\n",
    "    def __str__(self):\n",
    "        return f\"<{', '.join(str(coords) for coords in self.coords)}>\"\n",
    "\n",
    "    def __repr__(self):\n",
    "        return f\"Vector({', '.join(str(coord) for coord in self.coords)})\""
   ]
  },
  {
   "cell_type": "code",
   "execution_count": 13,
   "metadata": {},
   "outputs": [],
   "source": [
    "v = Vector(3, 4, 1)"
   ]
  },
  {
   "cell_type": "code",
   "execution_count": 14,
   "metadata": {},
   "outputs": [
    {
     "name": "stdout",
     "output_type": "stream",
     "text": [
      "<3, 4, 1>\n"
     ]
    }
   ],
   "source": [
    "print(v)"
   ]
  },
  {
   "cell_type": "code",
   "execution_count": 15,
   "metadata": {},
   "outputs": [
    {
     "data": {
      "text/plain": [
       "Vector(3, 4, 1)"
      ]
     },
     "execution_count": 15,
     "metadata": {},
     "output_type": "execute_result"
    }
   ],
   "source": [
    "v"
   ]
  },
  {
   "cell_type": "markdown",
   "metadata": {},
   "source": [
    "Mimogrede, kako pridemo do tega izpisa, če nismo v ukazni vrstici? Predvsem do slednjega?\n",
    "\n",
    "Se spomnite funkcije `str`, ki pretvori karkoli (recimo število) v niz? Seveda se je spomnimo, saj jo prav zgoraj tudi uporabljamo. Funkcija ne zna pretvarjati v nize le številk, temveč karkoli."
   ]
  },
  {
   "cell_type": "code",
   "execution_count": 16,
   "metadata": {},
   "outputs": [
    {
     "data": {
      "text/plain": [
       "'42'"
      ]
     },
     "execution_count": 16,
     "metadata": {},
     "output_type": "execute_result"
    }
   ],
   "source": [
    "a = 42\n",
    "str(a)"
   ]
  },
  {
   "cell_type": "code",
   "execution_count": 17,
   "metadata": {},
   "outputs": [
    {
     "data": {
      "text/plain": [
       "'[1, 2, 3]'"
      ]
     },
     "execution_count": 17,
     "metadata": {},
     "output_type": "execute_result"
    }
   ],
   "source": [
    "e = [1, 2, 3]\n",
    "str(e)"
   ]
  },
  {
   "cell_type": "code",
   "execution_count": 18,
   "metadata": {},
   "outputs": [
    {
     "data": {
      "text/plain": [
       "\"{1: 4, 'Ana': None}\""
      ]
     },
     "execution_count": 18,
     "metadata": {},
     "output_type": "execute_result"
    }
   ],
   "source": [
    "d = {1: 4, \"Ana\": None}\n",
    "str(d)"
   ]
  },
  {
   "cell_type": "markdown",
   "metadata": {},
   "source": [
    "Zna figo. Funkcija ne dela ničesar, le objektu reče, naj se opiše z nizom. `str` v resnici pokliče objektovo metodo `__str__`. Če imamo neko reč `o` in napišemo `str(o)`, v resnici dobimo, kar vrne `o.__str__()`."
   ]
  },
  {
   "cell_type": "code",
   "execution_count": 19,
   "metadata": {},
   "outputs": [
    {
     "data": {
      "text/plain": [
       "'42'"
      ]
     },
     "execution_count": 19,
     "metadata": {},
     "output_type": "execute_result"
    }
   ],
   "source": [
    "a.__str__()"
   ]
  },
  {
   "cell_type": "code",
   "execution_count": 20,
   "metadata": {},
   "outputs": [
    {
     "data": {
      "text/plain": [
       "'[1, 2, 3]'"
      ]
     },
     "execution_count": 20,
     "metadata": {},
     "output_type": "execute_result"
    }
   ],
   "source": [
    "e.__str__()"
   ]
  },
  {
   "cell_type": "code",
   "execution_count": 21,
   "metadata": {},
   "outputs": [
    {
     "data": {
      "text/plain": [
       "\"{1: 4, 'Ana': None}\""
      ]
     },
     "execution_count": 21,
     "metadata": {},
     "output_type": "execute_result"
    }
   ],
   "source": [
    "d.__str__()"
   ]
  },
  {
   "cell_type": "markdown",
   "metadata": {},
   "source": [
    "Vse delo torej opravijo objekti. Zato pa imamo objektno programiranje. V pravih objektnih jezikih objekti poskrbijo za vse, vključno s svojim izpisom.\n",
    "\n",
    "Za še bolj direkten dokaz:"
   ]
  },
  {
   "cell_type": "code",
   "execution_count": 22,
   "metadata": {},
   "outputs": [
    {
     "data": {
      "text/plain": [
       "'42'"
      ]
     },
     "execution_count": 22,
     "metadata": {},
     "output_type": "execute_result"
    }
   ],
   "source": [
    "(42).__str__()"
   ]
  },
  {
   "cell_type": "code",
   "execution_count": 23,
   "metadata": {},
   "outputs": [
    {
     "data": {
      "text/plain": [
       "'[1, 2, 3]'"
      ]
     },
     "execution_count": 23,
     "metadata": {},
     "output_type": "execute_result"
    }
   ],
   "source": [
    "[1, 2, 3].__str__()"
   ]
  },
  {
   "cell_type": "code",
   "execution_count": 24,
   "metadata": {},
   "outputs": [
    {
     "data": {
      "text/plain": [
       "\"{1: 4, 'Ana': None}\""
      ]
     },
     "execution_count": 24,
     "metadata": {},
     "output_type": "execute_result"
    }
   ],
   "source": [
    "{1: 4, \"Ana\": None}.__str__()"
   ]
  },
  {
   "cell_type": "markdown",
   "metadata": {},
   "source": [
    "(Zakaj sem stisnil `42` v oklepaje? Ker bi Python ob piki sicer pomislil, da mu podajam decimalke.)\n",
    "\n",
    "Tako kot druge stvari, zna `str` pretvarjati v nize tudi naše vektorje."
   ]
  },
  {
   "cell_type": "code",
   "execution_count": 25,
   "metadata": {},
   "outputs": [
    {
     "data": {
      "text/plain": [
       "'<3, 4, 1>'"
      ]
     },
     "execution_count": 25,
     "metadata": {},
     "output_type": "execute_result"
    }
   ],
   "source": [
    "str(v)"
   ]
  },
  {
   "cell_type": "markdown",
   "metadata": {},
   "source": [
    "Poleg `str` imamo tudi `repr`, ki kliče `__repr__`. Včasih sta enaka, včasih ne."
   ]
  },
  {
   "cell_type": "code",
   "execution_count": 26,
   "metadata": {},
   "outputs": [
    {
     "data": {
      "text/plain": [
       "'42'"
      ]
     },
     "execution_count": 26,
     "metadata": {},
     "output_type": "execute_result"
    }
   ],
   "source": [
    "repr(42)"
   ]
  },
  {
   "cell_type": "code",
   "execution_count": 27,
   "metadata": {},
   "outputs": [
    {
     "data": {
      "text/plain": [
       "\"'Benjamin'\""
      ]
     },
     "execution_count": 27,
     "metadata": {},
     "output_type": "execute_result"
    }
   ],
   "source": [
    "repr(\"Benjamin\")"
   ]
  },
  {
   "cell_type": "code",
   "execution_count": 28,
   "metadata": {},
   "outputs": [
    {
     "data": {
      "text/plain": [
       "'Vector(3, 4, 1)'"
      ]
     },
     "execution_count": 28,
     "metadata": {},
     "output_type": "execute_result"
    }
   ],
   "source": [
    "repr(v)"
   ]
  },
  {
   "cell_type": "markdown",
   "metadata": {},
   "source": [
    "Zanimivo je predvsem, kar je vrnil z nizom: niz, ki vsebuje opis niza, torej z oklepaji.\n",
    "\n",
    "Še enkrat: metod `__str__` in `__repr__` nikoli ne kličemo direktno. Kličejo se ob različnih priložnostih (npr. `print`), \"direktno\" pa jih kličemo s `str` in `repr`. Podoben vzorec bomo videli tudi druge.\n",
    "\n",
    "Zakaj tako? Zato, ker funkcije, kot so `str` in `repr` včasih še kaj dodajo. Včasih kaj preverijo, včasih pa znajo takrat, ko ustrezna posebna metoda na obstaja, poiskati kakšno rezervno pot."
   ]
  },
  {
   "cell_type": "code",
   "execution_count": 29,
   "metadata": {},
   "outputs": [],
   "source": [
    "class A:\n",
    "    def __str__(self):\n",
    "        return 42\n",
    "        \n",
    "a = A()"
   ]
  },
  {
   "cell_type": "code",
   "execution_count": 30,
   "metadata": {},
   "outputs": [
    {
     "data": {
      "text/plain": [
       "42"
      ]
     },
     "execution_count": 30,
     "metadata": {},
     "output_type": "execute_result"
    }
   ],
   "source": [
    "a.__str__()"
   ]
  },
  {
   "cell_type": "code",
   "execution_count": 31,
   "metadata": {},
   "outputs": [
    {
     "ename": "TypeError",
     "evalue": "__str__ returned non-string (type int)",
     "output_type": "error",
     "traceback": [
      "\u001b[0;31m---------------------------------------------------------------------------\u001b[0m",
      "\u001b[0;31mTypeError\u001b[0m                                 Traceback (most recent call last)",
      "\u001b[0;32m<ipython-input-31-bddfa438ffc2>\u001b[0m in \u001b[0;36m<module>\u001b[0;34m\u001b[0m\n\u001b[0;32m----> 1\u001b[0;31m \u001b[0mstr\u001b[0m\u001b[0;34m(\u001b[0m\u001b[0ma\u001b[0m\u001b[0;34m)\u001b[0m\u001b[0;34m\u001b[0m\u001b[0;34m\u001b[0m\u001b[0m\n\u001b[0m",
      "\u001b[0;31mTypeError\u001b[0m: __str__ returned non-string (type int)"
     ]
    }
   ],
   "source": [
    "str(a)"
   ]
  },
  {
   "cell_type": "markdown",
   "metadata": {},
   "source": [
    "## Dolžina, velikost\n",
    "-----------------\n",
    "\n",
    "Zdaj pa želimo dobiti velikost vektorja - v smislu dimenzionalnosti. Nekaj takega:"
   ]
  },
  {
   "cell_type": "code",
   "execution_count": 32,
   "metadata": {},
   "outputs": [
    {
     "ename": "TypeError",
     "evalue": "object of type 'Vector' has no len()",
     "output_type": "error",
     "traceback": [
      "\u001b[0;31m---------------------------------------------------------------------------\u001b[0m",
      "\u001b[0;31mTypeError\u001b[0m                                 Traceback (most recent call last)",
      "\u001b[0;32m<ipython-input-32-a878aa1e2fde>\u001b[0m in \u001b[0;36m<module>\u001b[0;34m\u001b[0m\n\u001b[0;32m----> 1\u001b[0;31m \u001b[0mlen\u001b[0m\u001b[0;34m(\u001b[0m\u001b[0mv\u001b[0m\u001b[0;34m)\u001b[0m\u001b[0;34m\u001b[0m\u001b[0;34m\u001b[0m\u001b[0m\n\u001b[0m",
      "\u001b[0;31mTypeError\u001b[0m: object of type 'Vector' has no len()"
     ]
    }
   ],
   "source": [
    "len(v)"
   ]
  },
  {
   "cell_type": "markdown",
   "metadata": {},
   "source": [
    "Python spet lenari. Glejte, kaj nam je odgovoril: ni rekel, da ne more povedati dolžine vektorja `v`, temveč pravi, da objekti vrste `Vector` nimajo dolžine. Očitno spet namerava narediti isto, kar počne že ves čas: vprašati vektor, kako dolg je.\n",
    "\n",
    "Če torej hočemo, da bo imel vektor dolžino, moramo napisati primerno metodo. Imenuje se - kdo bi si mislil! - `__len__`."
   ]
  },
  {
   "cell_type": "code",
   "execution_count": 33,
   "metadata": {},
   "outputs": [],
   "source": [
    "class Vector:\n",
    "    def __init__(self, *coords):\n",
    "        self.coords = list(coords)\n",
    "\n",
    "    def __str__(self):\n",
    "        return f\"<{', '.join(str(coords) for coords in self.coords)}>\"\n",
    "\n",
    "    def __repr__(self):\n",
    "        return f\"Vector({', '.join(str(coord) for coord in self.coords)})\"\n",
    "\n",
    "    def __len__(self):\n",
    "        return len(self.coords)"
   ]
  },
  {
   "cell_type": "code",
   "execution_count": 34,
   "metadata": {},
   "outputs": [
    {
     "data": {
      "text/plain": [
       "3"
      ]
     },
     "execution_count": 34,
     "metadata": {},
     "output_type": "execute_result"
    }
   ],
   "source": [
    "v = Vector(3, 4, 1)\n",
    "\n",
    "len(v)"
   ]
  },
  {
   "cell_type": "markdown",
   "metadata": {},
   "source": [
    "Zdaj pa še prava dolžina ali, kot bi rekli matematiki, absolutna vrednost. Radi bi, da bi `abs(v)` namesto"
   ]
  },
  {
   "cell_type": "code",
   "execution_count": 35,
   "metadata": {},
   "outputs": [
    {
     "ename": "TypeError",
     "evalue": "bad operand type for abs(): 'Vector'",
     "output_type": "error",
     "traceback": [
      "\u001b[0;31m---------------------------------------------------------------------------\u001b[0m",
      "\u001b[0;31mTypeError\u001b[0m                                 Traceback (most recent call last)",
      "\u001b[0;32m<ipython-input-35-09d4e6f30397>\u001b[0m in \u001b[0;36m<module>\u001b[0;34m\u001b[0m\n\u001b[0;32m----> 1\u001b[0;31m \u001b[0mabs\u001b[0m\u001b[0;34m(\u001b[0m\u001b[0mv\u001b[0m\u001b[0;34m)\u001b[0m\u001b[0;34m\u001b[0m\u001b[0;34m\u001b[0m\u001b[0m\n\u001b[0m",
      "\u001b[0;31mTypeError\u001b[0m: bad operand type for abs(): 'Vector'"
     ]
    }
   ],
   "source": [
    "abs(v)"
   ]
  },
  {
   "cell_type": "markdown",
   "metadata": {},
   "source": [
    "vrnil \"absolutno vrednost\\* vektorja."
   ]
  },
  {
   "cell_type": "code",
   "execution_count": 37,
   "metadata": {},
   "outputs": [],
   "source": [
    "from math import sqrt\n",
    "\n",
    "class Vector:\n",
    "    def __init__(self, *coords):\n",
    "        self.coords = list(coords)\n",
    "\n",
    "    def __str__(self):\n",
    "        return f\"<{', '.join(str(coords) for coords in self.coords)}>\"\n",
    "\n",
    "    def __repr__(self):\n",
    "        return f\"Vector({', '.join(str(coord) for coord in self.coords)})\"\n",
    "\n",
    "    def __len__(self):\n",
    "        return len(self.coords)\n",
    "        \n",
    "    def __abs__(self):\n",
    "        return sqrt(sum(x ** 2 for x in self.coords))"
   ]
  },
  {
   "cell_type": "markdown",
   "metadata": {},
   "source": [
    "Preskusimo."
   ]
  },
  {
   "cell_type": "code",
   "execution_count": 38,
   "metadata": {},
   "outputs": [
    {
     "data": {
      "text/plain": [
       "5.0990195135927845"
      ]
     },
     "execution_count": 38,
     "metadata": {},
     "output_type": "execute_result"
    }
   ],
   "source": [
    "v = Vector(3, 4, 1)\n",
    "\n",
    "abs(v)"
   ]
  },
  {
   "cell_type": "markdown",
   "metadata": {},
   "source": [
    "## Prave operacije z vektorji\n",
    "\n",
    "Igra je torej očitna: Pythonove funkcije ne delajo ničesar. Za čisto vsako reč pokličejo metode objektov, ki mu priskrbijo določeno funkcionalnost. Če te metode obstajajo. Če ne, pač ne in Python bo rekel, da se to ne da.\n",
    "\n",
    "Vzemimo, recimo, seštevanje."
   ]
  },
  {
   "cell_type": "code",
   "execution_count": 39,
   "metadata": {},
   "outputs": [
    {
     "ename": "TypeError",
     "evalue": "unsupported operand type(s) for +: 'Vector' and 'Vector'",
     "output_type": "error",
     "traceback": [
      "\u001b[0;31m---------------------------------------------------------------------------\u001b[0m",
      "\u001b[0;31mTypeError\u001b[0m                                 Traceback (most recent call last)",
      "\u001b[0;32m<ipython-input-39-c2f2f0001713>\u001b[0m in \u001b[0;36m<module>\u001b[0;34m\u001b[0m\n\u001b[1;32m      1\u001b[0m \u001b[0mv\u001b[0m \u001b[0;34m=\u001b[0m \u001b[0mVector\u001b[0m\u001b[0;34m(\u001b[0m\u001b[0;36m3\u001b[0m\u001b[0;34m,\u001b[0m \u001b[0;36m4\u001b[0m\u001b[0;34m,\u001b[0m \u001b[0;36m1\u001b[0m\u001b[0;34m)\u001b[0m\u001b[0;34m\u001b[0m\u001b[0;34m\u001b[0m\u001b[0m\n\u001b[1;32m      2\u001b[0m \u001b[0mu\u001b[0m \u001b[0;34m=\u001b[0m \u001b[0mVector\u001b[0m\u001b[0;34m(\u001b[0m\u001b[0;34m-\u001b[0m\u001b[0;36m2\u001b[0m\u001b[0;34m,\u001b[0m \u001b[0;36m3\u001b[0m\u001b[0;34m,\u001b[0m \u001b[0;36m0\u001b[0m\u001b[0;34m)\u001b[0m\u001b[0;34m\u001b[0m\u001b[0;34m\u001b[0m\u001b[0m\n\u001b[0;32m----> 3\u001b[0;31m \u001b[0mv\u001b[0m \u001b[0;34m+\u001b[0m \u001b[0mu\u001b[0m\u001b[0;34m\u001b[0m\u001b[0;34m\u001b[0m\u001b[0m\n\u001b[0m",
      "\u001b[0;31mTypeError\u001b[0m: unsupported operand type(s) for +: 'Vector' and 'Vector'"
     ]
    }
   ],
   "source": [
    "v = Vector(3, 4, 1)\n",
    "u = Vector(-2, 3, 0)\n",
    "v + u"
   ]
  },
  {
   "cell_type": "markdown",
   "metadata": {},
   "source": [
    "Metoda, ki jo Python pokliče, ko hočemo kaj sešteti, se imenuje `__add__`. Dobila bo dva argumenta: prvi bo, kot običajno `self`, drugi pa bo vektor, ki ga želimo prišteti k temu vektorju.\n",
    "\n",
    "Aha, torej nekaj takega?"
   ]
  },
  {
   "cell_type": "code",
   "execution_count": 41,
   "metadata": {},
   "outputs": [],
   "source": [
    "from math import sqrt\n",
    "\n",
    "class Vector:\n",
    "    def __init__(self, *coords):\n",
    "        self.coords = list(coords)\n",
    "\n",
    "    def __str__(self):\n",
    "        return f\"<{', '.join(str(coords) for coords in self.coords)}>\"\n",
    "\n",
    "    def __repr__(self):\n",
    "        return f\"Vector({', '.join(str(coord) for coord in self.coords)})\"\n",
    "\n",
    "    def __len__(self):\n",
    "        return len(self.coords)\n",
    "        \n",
    "    def __abs__(self):\n",
    "        return sqrt(sum(x ** 2 for x in self.coords))\n",
    "        \n",
    "    def __add__(self, other):\n",
    "        return [x + y for x, y in zip(self.coords, other.coords)]"
   ]
  },
  {
   "cell_type": "markdown",
   "metadata": {},
   "source": [
    "Hmnja. Nekaj takega, ja."
   ]
  },
  {
   "cell_type": "code",
   "execution_count": 42,
   "metadata": {},
   "outputs": [
    {
     "data": {
      "text/plain": [
       "[1, 7, 1]"
      ]
     },
     "execution_count": 42,
     "metadata": {},
     "output_type": "execute_result"
    }
   ],
   "source": [
    "v = Vector(3, 4, 1)\n",
    "u = Vector(-2, 3, 0)\n",
    "v + u"
   ]
  },
  {
   "cell_type": "markdown",
   "metadata": {},
   "source": [
    "Deluje. Ko smo računali `v + u`, je Python v resnici poklical našo metodo `__add__`. Vendar ne vrača čisto tega, kar bi hoteli. Vrne seznam. Vsota dveh vektorjev pa bi morala biti vektor.\n",
    "\n",
    "S tem je pač tako: metoda vrača, kar vrača. Pri nekaterih smo omejeni: metoda `__str__` *mora* vrniti niz, sicer se bo Python pritožil.\n",
    "\n",
    "Razultat seštevanja pa je lahko karkoli. Če se nam zdi dobra ideja definirati `__add__` kot\n",
    "\n",
    "```python\n",
    "    def __add__(self, other):\n",
    "        return \"Benjamin\"\n",
    "```\n",
    "\n",
    "bo `v + u` pač `\"Benjamin\"`.\n",
    "\n",
    "Če hočemo, da bi bila vsota vektorjev vektor, pa bo morala `__add__` pač vračati vektor."
   ]
  },
  {
   "cell_type": "code",
   "execution_count": 43,
   "metadata": {},
   "outputs": [],
   "source": [
    "from math import sqrt\n",
    "\n",
    "class Vector:\n",
    "    def __init__(self, *coords):\n",
    "        self.coords = list(coords)\n",
    "\n",
    "    def __str__(self):\n",
    "        return f\"<{', '.join(str(coords) for coords in self.coords)}>\"\n",
    "\n",
    "    def __repr__(self):\n",
    "        return f\"Vector({', '.join(str(coord) for coord in self.coords)})\"\n",
    "\n",
    "    def __len__(self):\n",
    "        return len(self.coords)\n",
    "        \n",
    "    def __abs__(self):\n",
    "        return sqrt(sum(x ** 2 for x in self.coords))\n",
    "        \n",
    "    def __add__(self, other):\n",
    "        return Vector(*(x + y for x, y in zip(self.coords, other.coords)))"
   ]
  },
  {
   "cell_type": "markdown",
   "metadata": {},
   "source": [
    "Metoda je podobna kot prej, le da s tem seznamom zdaj pokličemo `Vector`, da tako dobimo nov vektor."
   ]
  },
  {
   "cell_type": "code",
   "execution_count": 44,
   "metadata": {},
   "outputs": [
    {
     "data": {
      "text/plain": [
       "Vector(1, 7, 1)"
      ]
     },
     "execution_count": 44,
     "metadata": {},
     "output_type": "execute_result"
    }
   ],
   "source": [
    "v = Vector(3, 4, 1)\n",
    "u = Vector(-2, 3, 0)\n",
    "u + v"
   ]
  },
  {
   "cell_type": "markdown",
   "metadata": {},
   "source": [
    "Ne spreglejte zvezdice v klicu: s tem dosežemo, da so vsi elementi seznama argumenti za “funkcijo” `Vector`. Seznam se razpakira v argumente klica.\n",
    "\n",
    "Kaj pa množenje vektorjev? Hm, množenje - s čim? Vektor lahko pomnožimo s skalarjem (po domače, s številko, recimo `u * 3`) ali z drugim vektorjem. Ko množimo z drugim vektorjem je produkt lahko skalarni ali kak drugačen. Ker tule delamo s splošnimi vektorji (čeprav imamo v\n",
    "primeru zgolj slučajno ravno tridimenzionalne), se bomo dogovorili, da bodo naši produkti skalarni.\n",
    "\n",
    "Metoda, ki jo potrebujemo, se imenuje `__mul__`. Ali množimo s skalarjem ali vektorjem, pa bomo preverili v sami metodi: če je drugi argument vektor, množimo z vektorjem, sicer vsako kompomento posebej pomnožimo s skalarjem.\n",
    "\n",
    "Smo že kdaj videli funkcijo `isinstance`? Podamo ji nek objekt in tip; vrne `True`, če je podani objekt podanega tipa (ali pa izpeljan iz njega)."
   ]
  },
  {
   "cell_type": "code",
   "execution_count": 45,
   "metadata": {},
   "outputs": [
    {
     "data": {
      "text/plain": [
       "True"
      ]
     },
     "execution_count": 45,
     "metadata": {},
     "output_type": "execute_result"
    }
   ],
   "source": [
    "isinstance(\"Benjamin\", str)"
   ]
  },
  {
   "cell_type": "code",
   "execution_count": 46,
   "metadata": {},
   "outputs": [
    {
     "data": {
      "text/plain": [
       "False"
      ]
     },
     "execution_count": 46,
     "metadata": {},
     "output_type": "execute_result"
    }
   ],
   "source": [
    "isinstance(u, str)"
   ]
  },
  {
   "cell_type": "code",
   "execution_count": 47,
   "metadata": {},
   "outputs": [
    {
     "data": {
      "text/plain": [
       "True"
      ]
     },
     "execution_count": 47,
     "metadata": {},
     "output_type": "execute_result"
    }
   ],
   "source": [
    "isinstance(u, Vector)"
   ]
  },
  {
   "cell_type": "markdown",
   "metadata": {},
   "source": [
    "Oboroženi z `isinstance` brez težav spišemo `__mul__`."
   ]
  },
  {
   "cell_type": "code",
   "execution_count": 48,
   "metadata": {},
   "outputs": [],
   "source": [
    "from math import sqrt\n",
    "\n",
    "class Vector:\n",
    "    def __init__(self, *coords):\n",
    "        self.coords = list(coords)\n",
    "\n",
    "    def __str__(self):\n",
    "        return f\"<{', '.join(str(coords) for coords in self.coords)}>\"\n",
    "\n",
    "    def __repr__(self):\n",
    "        return f\"Vector({', '.join(str(coord) for coord in self.coords)})\"\n",
    "\n",
    "    def __len__(self):\n",
    "        return len(self.coords)\n",
    "        \n",
    "    def __abs__(self):\n",
    "        return sqrt(sum(x ** 2 for x in self.coords))\n",
    "        \n",
    "    def __add__(self, other):\n",
    "        return Vector(*(x + y for x, y in zip(self.coords, other.coords)))\n",
    "    \n",
    "    def __mul__(self, other):\n",
    "        if isinstance(other, Vector):\n",
    "            if len(self) != len(other):\n",
    "                raise ValueError(\"vector dimensionality mismatch\")\n",
    "            return sum(x * y for x, y in zip(self.coords, other.coords))\n",
    "        else:\n",
    "            return Vector(*(x * other for x in self.coords))"
   ]
  },
  {
   "cell_type": "markdown",
   "metadata": {},
   "source": [
    "Skalarni produkt:"
   ]
  },
  {
   "cell_type": "code",
   "execution_count": 49,
   "metadata": {},
   "outputs": [
    {
     "data": {
      "text/plain": [
       "9"
      ]
     },
     "execution_count": 49,
     "metadata": {},
     "output_type": "execute_result"
    }
   ],
   "source": [
    "v = Vector(3, 4, 1)\n",
    "u = Vector(-1, 3, 0)\n",
    "v * u"
   ]
  },
  {
   "cell_type": "markdown",
   "metadata": {},
   "source": [
    "In produkt s skalarjem:"
   ]
  },
  {
   "cell_type": "code",
   "execution_count": 50,
   "metadata": {},
   "outputs": [
    {
     "data": {
      "text/plain": [
       "Vector(9, 12, 3)"
      ]
     },
     "execution_count": 50,
     "metadata": {},
     "output_type": "execute_result"
    }
   ],
   "source": [
    "v * 3"
   ]
  },
  {
   "cell_type": "markdown",
   "metadata": {},
   "source": [
    "Skalar ni nujno celo število. Seveda ne, tudi metoda ne predpostavlja ničesar o tem, kakšnega tipa je `other`. Če ni `Vector`, ga množi. Zato smemo seveda množiti tudi z 2.5."
   ]
  },
  {
   "cell_type": "code",
   "execution_count": 51,
   "metadata": {},
   "outputs": [
    {
     "data": {
      "text/plain": [
       "Vector(7.5, 10.0, 2.5)"
      ]
     },
     "execution_count": 51,
     "metadata": {},
     "output_type": "execute_result"
    }
   ],
   "source": [
    "v * 2.5"
   ]
  },
  {
   "cell_type": "markdown",
   "metadata": {},
   "source": [
    "Hm, pa z nizom?"
   ]
  },
  {
   "cell_type": "code",
   "execution_count": 52,
   "metadata": {},
   "outputs": [
    {
     "data": {
      "text/plain": [
       "Vector(xxx, xxxx, x)"
      ]
     },
     "execution_count": 52,
     "metadata": {},
     "output_type": "execute_result"
    }
   ],
   "source": [
    "v * \"x\""
   ]
  },
  {
   "cell_type": "markdown",
   "metadata": {},
   "source": [
    "To deluje, ker Python lahko množi cela števila in nize. “Vektor”, ki smo ga dobili, pa je nesmiselen. Nekatere operacije celo podpira: prištejemo mu lahko drug takšen vektor iz nizov. Če poskusimo izračunati absolutno vrednost takega “vektorja”, pa se bo Python pritožil, da ne zna kvadrirati nizov."
   ]
  },
  {
   "cell_type": "code",
   "execution_count": 53,
   "metadata": {},
   "outputs": [
    {
     "data": {
      "text/plain": [
       "Vector(Anamarija, Daniela)"
      ]
     },
     "execution_count": 53,
     "metadata": {},
     "output_type": "execute_result"
    }
   ],
   "source": [
    "a = Vector(\"Ana\", \"Dani\")\n",
    "b = Vector(\"marija\", \"ela\")\n",
    "a + b"
   ]
  },
  {
   "cell_type": "markdown",
   "metadata": {},
   "source": [
    "Python je pač liberalen jezik. Nobenih predpostavk o tem, kaj je smiselno in kaj želimo, ne dela. Pusti nam narediti vse. Laissez-faire. Seveda pa je naš problem, če to svobodo izrabimo in počnemo kozlarije.\n",
    "\n",
    "Vrnimo se na trda tla matematike. Vektorjev navadno ne množimo s skalarjem z desne, temveč z leve. Razlike sicer ni, gre samo za stvar zapisa. Obrnimo torej."
   ]
  },
  {
   "cell_type": "code",
   "execution_count": 54,
   "metadata": {},
   "outputs": [
    {
     "ename": "TypeError",
     "evalue": "unsupported operand type(s) for *: 'int' and 'Vector'",
     "output_type": "error",
     "traceback": [
      "\u001b[0;31m---------------------------------------------------------------------------\u001b[0m",
      "\u001b[0;31mTypeError\u001b[0m                                 Traceback (most recent call last)",
      "\u001b[0;32m<ipython-input-54-5446377422ad>\u001b[0m in \u001b[0;36m<module>\u001b[0;34m\u001b[0m\n\u001b[0;32m----> 1\u001b[0;31m \u001b[0;36m3\u001b[0m \u001b[0;34m*\u001b[0m \u001b[0mv\u001b[0m\u001b[0;34m\u001b[0m\u001b[0;34m\u001b[0m\u001b[0m\n\u001b[0m",
      "\u001b[0;31mTypeError\u001b[0m: unsupported operand type(s) for *: 'int' and 'Vector'"
     ]
    }
   ],
   "source": [
    "3 * v"
   ]
  },
  {
   "cell_type": "markdown",
   "metadata": {},
   "source": [
    "Zakaj pa to ne dela?!\n",
    "\n",
    "`Vector`-jeva metoda `__mul__(self, other)` ve, kako pomnožiti `self` z `other`, ne pa tudi, kako pomnožiti `other` s `self`. A ni to isto? Ne, ne nujno. Kot prvo, to ne drži za vse operacije. Za množenje že, za odštevanje pa `self - other` ni prav zelo isto kot `other - self`. Kot drugo, tudi množenje ni vedno komutativno. Ko, recimo, množimo matrike, `A * B` ni isto kot `B * A`; če nimamo ravno sreče, se lahko zgodi celo, da se enega od teh produktov sploh ne da izračunati.\n",
    "\n",
    "Skratka, Python je liberalen, ni pa naiven. Ne poenostavlja, kjer se morda ne sme.\n",
    "\n",
    "Kako pa bomo potem prepričali Python, da nam bo vseeno izračunal, koliko je `3 * v`? Očitno bi za tole moral poskrbeti `__mul__`, ki ga ima `int`.\n",
    "\n",
    "Ima tudi `int` metodo `__mul__`. Seveda. Ste mar mislili, da zna Python poštevanko? Niti slučajno! Tudi ko Python množi števila, v resnici kliče `__mul__`."
   ]
  },
  {
   "cell_type": "code",
   "execution_count": 55,
   "metadata": {},
   "outputs": [
    {
     "data": {
      "text/plain": [
       "42"
      ]
     },
     "execution_count": 55,
     "metadata": {},
     "output_type": "execute_result"
    }
   ],
   "source": [
    "a = 6\n",
    "b = 7\n",
    "a * b"
   ]
  },
  {
   "cell_type": "markdown",
   "metadata": {},
   "source": [
    "Tule Python seveda v resnici pokliče"
   ]
  },
  {
   "cell_type": "code",
   "execution_count": 56,
   "metadata": {},
   "outputs": [
    {
     "data": {
      "text/plain": [
       "42"
      ]
     },
     "execution_count": 56,
     "metadata": {},
     "output_type": "execute_result"
    }
   ],
   "source": [
    "a.__mul__(b)"
   ]
  },
  {
   "cell_type": "markdown",
   "metadata": {},
   "source": [
    "Če kliče `__mul__` za množenje vektorjev, kliče `__mul__` tudi za množenje števil. Števila (`int`) v Pythonu niso nobena izjema, z njimi ravna kot z vsemi drugimi podatkovnimi tipi.\n",
    "\n",
    "Kakorkoli že, `int` ima metodo `__mul__`, ki pa kot drugi argument (`other`) ne sprejema `Vector`. Iz dveh razlogov. Prvi je, da tisti, ki je programiral `int` ni mogel pričakovati, da bomo nekoč definirali nek `Vector`, s katerim si bomo želeli množiti njegove `int`e. Drugi je, da je stvari, ki bi jih želeli množiti s skalarji, še polno. Recimo nizi in\n",
    "seznami. In tudi tam lahko pišemo `\"Ana\" * 3` in `3 * \"Ana\"`. Kdo poskrbi za tidve množenji? Nizi. Številke so bolj osnovne.\n",
    "\n",
    "Tudi za množenje vektorjev bomo morali poskrbeti sami. Vendar ne z `__mul__`. Obstaja druga metoda, `__rmul__`, ki sicer ravno tako sprejme dva argumenta, ki je bomo ravno tako imenovali `self` in `other`, vendar se razume, da je `self` na desno strani množenja.\n",
    "\n",
    "Videti metoda `__rmul__`? Pravzaprav enako. Potem pa kar povejmo, da je\n",
    "pravzaprav ista, saj je pri množenju vektorjev s skalarji vseeno, kdo je na levi in kdo na desni."
   ]
  },
  {
   "cell_type": "code",
   "execution_count": 57,
   "metadata": {},
   "outputs": [],
   "source": [
    "from math import sqrt\n",
    "\n",
    "class Vector:\n",
    "    def __init__(self, *coords):\n",
    "        self.coords = list(coords)\n",
    "\n",
    "    def __str__(self):\n",
    "        return f\"<{', '.join(str(coords) for coords in self.coords)}>\"\n",
    "\n",
    "    def __repr__(self):\n",
    "        return f\"Vector({', '.join(str(coord) for coord in self.coords)})\"\n",
    "\n",
    "    def __len__(self):\n",
    "        return len(self.coords)\n",
    "        \n",
    "    def __abs__(self):\n",
    "        return sqrt(sum(x ** 2 for x in self.coords))\n",
    "        \n",
    "    def __add__(self, other):\n",
    "        return Vector(*(x + y for x, y in zip(self.coords, other.coords)))\n",
    "    \n",
    "    def __mul__(self, other):\n",
    "        if isinstance(other, Vector):\n",
    "            if len(self) != len(other):\n",
    "                raise ValueError(\"vector dimensionality mismatch\")\n",
    "            return sum(x * y for x, y in zip(self.coords, other.coords))\n",
    "        else:\n",
    "            return Vector(*(x * other for x in self.coords))\n",
    "            \n",
    "    __rmul__ = __mul__"
   ]
  },
  {
   "cell_type": "markdown",
   "metadata": {},
   "source": [
    "Hm, a tole … res deluje? Prirejanje znotraj razreda? Zakaj pa ne? Znotraj `class` pač pišemo funkcije, prirejamo vrednosti (razrednim) spremenljivkam ..."
   ]
  },
  {
   "cell_type": "code",
   "execution_count": 58,
   "metadata": {},
   "outputs": [
    {
     "data": {
      "text/plain": [
       "Vector(9, 12, 3)"
      ]
     },
     "execution_count": 58,
     "metadata": {},
     "output_type": "execute_result"
    }
   ],
   "source": [
    "v = Vector(3, 4, 1)\n",
    "\n",
    "3 * v"
   ]
  },
  {
   "cell_type": "markdown",
   "metadata": {},
   "source": [
    "Dodamo še odštevanje in deljenje?"
   ]
  },
  {
   "cell_type": "code",
   "execution_count": 59,
   "metadata": {},
   "outputs": [],
   "source": [
    "from math import sqrt\n",
    "\n",
    "class Vector:\n",
    "    def __init__(self, *coords):\n",
    "        self.coords = list(coords)\n",
    "\n",
    "    def __str__(self):\n",
    "        return f\"<{', '.join(str(coords) for coords in self.coords)}>\"\n",
    "\n",
    "    def __repr__(self):\n",
    "        return f\"Vector({', '.join(str(coord) for coord in self.coords)})\"\n",
    "\n",
    "    def __len__(self):\n",
    "        return len(self.coords)\n",
    "        \n",
    "    def __abs__(self):\n",
    "        return sqrt(sum(x ** 2 for x in self.coords))\n",
    "        \n",
    "    def __neg__(self):\n",
    "        return -1 * self\n",
    "\n",
    "    def __add__(self, other):\n",
    "        return Vector(*(x + y for x, y in zip(self.coords, other.coords)))\n",
    "    \n",
    "    def __sub__(self, other):\n",
    "        return self + -other\n",
    "\n",
    "    def __mul__(self, other):\n",
    "        if isinstance(other, Vector):\n",
    "            if len(self) != len(other):\n",
    "                raise ValueError(\"vector dimensionality mismatch\")\n",
    "            return sum(x * y for x, y in zip(self.coords, other.coords))\n",
    "        else:\n",
    "            return Vector(*(x * other for x in self.coords))\n",
    "            \n",
    "    __rmul__ = __mul__\n",
    "    \n",
    "    def __truediv__(self, other):\n",
    "        return self * (1 / other)"
   ]
  },
  {
   "cell_type": "markdown",
   "metadata": {},
   "source": [
    "Začeli smo z negacijo, `__neg__`. Z njo dosežemo, da bo Python znal izračunati nasprotno vrednost, `-v`."
   ]
  },
  {
   "cell_type": "code",
   "execution_count": 60,
   "metadata": {},
   "outputs": [
    {
     "data": {
      "text/plain": [
       "Vector(2, -3, 0)"
      ]
     },
     "execution_count": 60,
     "metadata": {},
     "output_type": "execute_result"
    }
   ],
   "source": [
    "v = Vector(3, 4, 1)\n",
    "u = Vector(-2, 3, 0)\n",
    "-u"
   ]
  },
  {
   "cell_type": "markdown",
   "metadata": {},
   "source": [
    "Python ima dva operatorja `-` - unarnega (negacijo) in binarnega (odštevanje). Z `__neg__` definiramo binarnega.\n",
    "\n",
    "`__neg__` smo definirali preprosto kot množenje z `-1`. Ker pač znamo množiti vektorje s skalarji in kar matematiki pravijo, da je aditivni inverz vektorja enak množenju z nasprotno vrednostjo enote skalarja (upam, da je to res res :), pač množimo z -1.\n",
    "\n",
    "S tem zdaj lahko sprogramiramo odštevanje z leve in z desne: odštevanje ni nič drugega kot prištevanje nasprotne vrednosti. Napisali smo samo `__sub__`; `__rsub__` ne potrebujemo, saj bomo vedno odštevali dva vektorja, torej bo vedno obstajal in deloval že `__sub__`.\n",
    "\n",
    "Končno še deljenje. Metoda se imenuje `__truediv__` - za razliko od `__floordiv__`, ki predstavlja celoštevilsko deljenje. Prvemu ustreza `/`, drugemu pa `//`. Deljenja z leve ne bomo implementirali, saj `3 / v` ne obstaja.\n",
    "\n",
    "## Dostop do komponent\n",
    "\n",
    "Vse, kar nam še manjka, je dostop do komponent tega našega vektorja. Lepo bi bilo, če bi lahko rekli `v[1]`. Trenutno do prve komponente pridemo z `v.coords[1]`, kar pa ni ravno najlepše.\n",
    "\n",
    "Ko že vse tole predavanje razlagam, kako Python ne zna ničesar - ja, tako daleč gre to. Če imam nek seznam `s` in napišem `s[5]`, ni Python tisti, ki vrne peti element seznama. Ne, Python reče seznamu, da hoče dobiti peti element. Res, Python čisto ničesar ne dela sam; vsako stvar prepusti objektom, s katerimi dela. (No, da ne pretiravam: Python dela\n",
    "vse, kar se ne tiče objektov. Python skrbi za lokalne in globalne spremenljivke, prireja vrednosti imenom, skrbi za čiščenje pomnilnika… Je pa bolj \"organizator\", medtem ko delajo drugi. Poleg tega se moramo zmeniti za definicijo tega, čemu rečemo \"Python\".)\n",
    "\n",
    "Metoda, ki vrača elemente, je `__getitem__`; kot argument dobi, poleg `self`, indeks elementa. Metoda, ki jih nastavlja, je `__setitem__`."
   ]
  },
  {
   "cell_type": "code",
   "execution_count": 61,
   "metadata": {},
   "outputs": [],
   "source": [
    "from math import sqrt\n",
    "\n",
    "class Vector:\n",
    "    def __init__(self, *coords):\n",
    "        self.coords = list(coords)\n",
    "\n",
    "    def __str__(self):\n",
    "        return f\"<{', '.join(str(coords) for coords in self.coords)}>\"\n",
    "\n",
    "    def __repr__(self):\n",
    "        return f\"Vector({', '.join(str(coord) for coord in self.coords)})\"\n",
    "\n",
    "    def __len__(self):\n",
    "        return len(self.coords)\n",
    "        \n",
    "    def __abs__(self):\n",
    "        return sqrt(sum(x ** 2 for x in self.coords))\n",
    "        \n",
    "    def __neg__(self):\n",
    "        return -1 * self\n",
    "\n",
    "    def __add__(self, other):\n",
    "        return Vector(*(x + y for x, y in zip(self.coords, other.coords)))\n",
    "    \n",
    "    def __sub__(self, other):\n",
    "        return self + -other\n",
    "\n",
    "    def __mul__(self, other):\n",
    "        if isinstance(other, Vector):\n",
    "            if len(self) != len(other):\n",
    "                raise ValueError(\"vector dimensionality mismatch\")\n",
    "            return sum(x * y for x, y in zip(self.coords, other.coords))\n",
    "        else:\n",
    "            return Vector(*(x * other for x in self.coords))\n",
    "            \n",
    "    __rmul__ = __mul__\n",
    "    \n",
    "    def __truediv__(self, other):\n",
    "        return self * (1 / other)\n",
    "        \n",
    "    def __getitem__(self, i):\n",
    "        return self.coords[i]\n",
    "        \n",
    "    def __setitem__(self, i, coord):\n",
    "        self.coords[i] = coord"
   ]
  },
  {
   "cell_type": "markdown",
   "metadata": {},
   "source": [
    "Zdaj `Vector` podpira indeksiranje."
   ]
  },
  {
   "cell_type": "code",
   "execution_count": 62,
   "metadata": {},
   "outputs": [
    {
     "data": {
      "text/plain": [
       "4"
      ]
     },
     "execution_count": 62,
     "metadata": {},
     "output_type": "execute_result"
    }
   ],
   "source": [
    "v = Vector(3, 4, 1)\n",
    "v[1]"
   ]
  },
  {
   "cell_type": "code",
   "execution_count": 63,
   "metadata": {},
   "outputs": [
    {
     "data": {
      "text/plain": [
       "Vector(3, 4, 13)"
      ]
     },
     "execution_count": 63,
     "metadata": {},
     "output_type": "execute_result"
    }
   ],
   "source": [
    "v[2] = 13\n",
    "v"
   ]
  },
  {
   "cell_type": "markdown",
   "metadata": {},
   "source": [
    "## Končni rezultat\n",
    "\n",
    "Dobili smo razred za vektorje, s katerim lahko računamo, kot se pač računa z vektorji.\n",
    "\n",
    "Sestavimo tri vektorje."
   ]
  },
  {
   "cell_type": "code",
   "execution_count": 64,
   "metadata": {},
   "outputs": [],
   "source": [
    "a = Vector(4, 1, 3)\n",
    "b = Vector(-1, 7, 3)\n",
    "c = Vector(1, 0, 3)"
   ]
  },
  {
   "cell_type": "markdown",
   "metadata": {},
   "source": [
    "Izračunajmo kaj z njimi."
   ]
  },
  {
   "cell_type": "code",
   "execution_count": 65,
   "metadata": {},
   "outputs": [
    {
     "data": {
      "text/plain": [
       "Vector(5, 16, 9)"
      ]
     },
     "execution_count": 65,
     "metadata": {},
     "output_type": "execute_result"
    }
   ],
   "source": [
    "2 * (a + b) - c"
   ]
  },
  {
   "cell_type": "markdown",
   "metadata": {},
   "source": [
    "Kakšen pa je skalarni produkt te reči z `a`?"
   ]
  },
  {
   "cell_type": "code",
   "execution_count": 66,
   "metadata": {},
   "outputs": [
    {
     "data": {
      "text/plain": [
       "63"
      ]
     },
     "execution_count": 66,
     "metadata": {},
     "output_type": "execute_result"
    }
   ],
   "source": [
    "(2 * (a + b) - c) * a"
   ]
  },
  {
   "cell_type": "markdown",
   "metadata": {},
   "source": [
    "Vse deluje, kot mora.\n",
    "\n",
    "Kaj bi še lahko dodali?\n",
    "-----------------------\n",
    "\n",
    "Bi lahko vektorjem dali še kaj? Lahko bi, recimo, rekli, da so ničelni\n",
    "vektorji neresnični.\n",
    "\n",
    "```python\n",
    "    def __bool__(self):\n",
    "        return any(self.values)\n",
    "```\n",
    "\n",
    "Vendar ustavimo konje.\n",
    "\n",
    "Bi lahko dodali kak svoj operator, recimo `a $ b`, ki bi pomeni, na primer, vektorski produkt? Ne. Pišemo lahko le metode za obstoječe operatorje. Če Python ne podpira izraza `a $ b` (in, ne, ne podpira ga), potem ga ne moremo dodati. Z metodami lahko dajemo izrazom *pomen*, ne moremo pa spreminjati *sintakse jezika*. Ne moremo si izmisliti novega tipa oklepajev.\n",
    "\n",
    "Prav tako ne moremo, recimo, spreminjati prioritete operatorjev, saj se le-ta razrešuje v trenutku, ko Python bere program (prebere ga v \"abstraktno sintaktično drevo\", ast), na to pa ne moremo vplivati.\n",
    "\n",
    "## Kakšne metode še obstajajo?\n",
    "\n",
    "Kaj vse je še mogoče definirati - tako kot `__add__` in `__str__`? Seznam je še dolg. Na njem ni kaj prida takšnega, kar bi bilo smiselno uporabiti za vektorje. Vseeno pa naštejmo nekaj zanimivih.\n",
    "\n",
    "Metode `__lt__`, `__le__`, `__eq__`, `__ne__`, `__gt__`, `__ge__` skrbijo za primerjanje (less than, less or equal, equal, not equal greater than, greater or equal). Vektorjev ne moremo primerjati po velikosti, tako da teh metod tule nima smisla definirati.\n",
    "\n",
    "Z `__or__`, `__and__` in `__not__` lahko sestavimo logične operacije, kadar je to smiselno. Pri vektorjih - ni.\n",
    "\n",
    "Če damo razredu metodo `__call__`, bo objekte tega razreda mogoče poklicati. Če mu damo `__iter__` bo čez objekte mogoče pognati zanko `for`. No, ko smo že ravno pri tem:"
   ]
  },
  {
   "cell_type": "code",
   "execution_count": 67,
   "metadata": {},
   "outputs": [
    {
     "name": "stdout",
     "output_type": "stream",
     "text": [
      "3\n",
      "4\n",
      "13\n"
     ]
    }
   ],
   "source": [
    "for coord in v:\n",
    "    print(coord)"
   ]
  },
  {
   "cell_type": "markdown",
   "metadata": {},
   "source": [
    "Kako to deluje? Python preveri, ali ima `Vector` metodo `iter`. Če bi jo imel, bi morala vrniti iterator, nekaj z metodo `__next__` (ki je tisto, kar se v resnici kliče, ko pokličemo funkcijo `next`). Ker je nima, pa poskusi najti kakšen obvoz. Naš `Vector` ima `__getitem__` in ta sprejema `int`. To zadošča: zanka `for` pobere elemente z indeksi 0, 1, 2, 3, 4, ... in tako naprej, dokler `__getitem__` ne vrne napaka `IndexError`.\n",
    "\n",
    "[Seznam posebnih metod](https://docs.python.org/3/reference/datamodel.html#special-method-names) je še dolg. Za takšne stvari ni potrebno, da jih človek zna na pamet. Spoznali pa smo osnovni princip. Zdaj, ko vemo, kako stvari delujejo, bomo takrat, ko bomo kaj potrebovali, le pogledali v seznam posebnih metod.\n",
    "\n",
    "## Izpeljevanje iz vdelanih tipov\n",
    "\n",
    "Če se komu zdi, da je `Vector` precej podoben seznamu, mu bom pritrdil. V resnici je `Vector` videti kot seznam, ki ima nekoliko drugačno seštevanje in ki mu je mogoče izračunati absolutno vrednost. Če je tako, pa izpeljimo `Vector` iz `list`!"
   ]
  },
  {
   "cell_type": "code",
   "execution_count": 68,
   "metadata": {},
   "outputs": [],
   "source": [
    "from math import sqrt\n",
    "\n",
    "class Vector(list):\n",
    "    def __abs__(self):\n",
    "        from math import sqrt\n",
    "        return sqrt(sum(x ** 2 for x in self))\n",
    "\n",
    "    def __add__(self, other):\n",
    "        return Vector(*(x + y for x, y in zip(self, other)))\n",
    "\n",
    "    def __mul__(self, other):\n",
    "        if isinstance(other, Vector):\n",
    "            return sum(x * y for x, y in zip(self, other))\n",
    "        else:\n",
    "            return Vector(*(x * other for x in self))\n",
    "    \n",
    "    __rmul__ = __mul__\n",
    "\n",
    "    def __neg__(self):\n",
    "        return -1 * self\n",
    "\n",
    "    def __sub__(self, other):\n",
    "        return self + -other\n",
    "\n",
    "    def __truediv__(self, other):\n",
    "        return self * (1 / other)"
   ]
  },
  {
   "cell_type": "markdown",
   "metadata": {},
   "source": [
    "Definicija razreda je zdaj malo krajša, saj smo podedovali kup stvari od seznama. Vrednosti po novem niso več v `coords`, temveč kar v objektu samem - v `self`, če hočete. Konstruktor že imamo, prav tako izpis (se bomo pač zadovoljili z oglatimi oklepaji) in dolžino. Povoziti moramo le še aritmetične operacije.\n",
    "\n",
    "Obenem pa je `Vector` podedoval še vse, kar ima seznam, recimo `append`. Ali je to pametno ali ne pa ... No, najbrž ni. :)"
   ]
  }
 ],
 "metadata": {
  "kernelspec": {
   "display_name": "Python 3",
   "language": "python",
   "name": "python3"
  },
  "language_info": {
   "codemirror_mode": {
    "name": "ipython",
    "version": 3
   },
   "file_extension": ".py",
   "mimetype": "text/x-python",
   "name": "python",
   "nbconvert_exporter": "python",
   "pygments_lexer": "ipython3",
   "version": "3.7.4"
  }
 },
 "nbformat": 4,
 "nbformat_minor": 5
}
