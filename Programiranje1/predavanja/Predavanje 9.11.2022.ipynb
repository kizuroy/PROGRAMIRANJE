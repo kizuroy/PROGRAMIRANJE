{
 "cells": [
  {
   "cell_type": "markdown",
   "metadata": {
    "collapsed": false
   },
   "source": [
    "# Predavanje 9/11/2022"
   ]
  },
  {
   "cell_type": "markdown",
   "metadata": {
    "collapsed": false
   },
   "source": [
    "## Domaca naloga\n",
    "Warmup deu:"
   ]
  },
  {
   "cell_type": "code",
   "execution_count": 42,
   "metadata": {
    "collapsed": false
   },
   "outputs": [
    {
     "name": "stdout",
     "output_type": "stream",
     "text": [
      "[(1, 2), (5, 6)]\n"
     ]
    }
   ],
   "source": [
    "ovire = '##..##'\n",
    "bloki = []\n",
    "\n",
    "ovire = '.' + ovire + '.'\n",
    "\n",
    "for i in range(len(ovire)):\n",
    "    if ovire[i] == \"#\":\n",
    "        if ovire[i -1] == \".\":\n",
    "            zac = i\n",
    "        if i + 1 < len(ovire) and ovire[i + 1] == \".\":\n",
    "            bloki.append((zac, i))\n",
    "print(bloki)"
   ]
  },
  {
   "cell_type": "markdown",
   "metadata": {
    "collapsed": false
   },
   "source": [
    "## Funkcije:"
   ]
  },
  {
   "cell_type": "markdown",
   "metadata": {
    "collapsed": false
   },
   "source": [
    "Funkcija preveri ali je oseba gay."
   ]
  },
  {
   "cell_type": "code",
   "execution_count": 47,
   "metadata": {
    "collapsed": false
   },
   "outputs": [
    {
     "name": "stdout",
     "output_type": "stream",
     "text": [
      "Gay si Rene\n",
      "Nisi gay Banan\n"
     ]
    }
   ],
   "source": [
    "def alisigay(ime):\n",
    "    return 'Gay si ' + ime if ime.lower() == 'rene' else 'Nisi gay ' + ime\n",
    "\n",
    "\n",
    "a“ = alisigay('Rene')\n",
    "b = alisigay('Banan')\n",
    "\n",
    "print(a)\n",
    "print(b)"
   ]
  },
  {
   "cell_type": "code",
   "execution_count": 48,
   "metadata": {
    "collapsed": false
   },
   "outputs": [
    {
     "name": "stdout",
     "output_type": "stream",
     "text": [
      "6\n"
     ]
    }
   ],
   "source": [
    "def seznam(s):\n",
    "    v = 0\n",
    "    for x in s:\n",
    "        v += x\n",
    "    return v\n",
    "print(seznam([1, 2, 3]))\n"
   ]
  }
 ],
 "metadata": {
  "kernelspec": {
   "display_name": "Python 3",
   "language": "python",
   "name": "python3"
  },
  "language_info": {
   "codemirror_mode": {
    "name": "ipython",
    "version": 2
   },
   "file_extension": ".py",
   "mimetype": "text/x-python",
   "name": "python",
   "nbconvert_exporter": "python",
   "pygments_lexer": "ipython2",
   "version": "3.11.0 (main, Oct 24 2022, 18:26:48) [MSC v.1933 64 bit (AMD64)]"
  },
  "vscode": {
   "interpreter": {
    "hash": "ace7d953c0a95332009ceae9c0635d9ffe75df5251d417a74afc7cd2802ebfb0"
   }
  }
 },
 "nbformat": 4,
 "nbformat_minor": 0
}
